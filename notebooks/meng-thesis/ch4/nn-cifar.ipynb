{
 "cells": [
  {
   "cell_type": "markdown",
   "id": "2e80c5a7",
   "metadata": {},
   "source": [
    "We benchmark against adversary with $\\epsilon=0.5$,\n",
    "to match https://github.com/RobustBench/robustbench.\n",
    "\n",
    "Natural model from https://github.com/MadryLab/robustness\n",
    "\n",
    "Robust model from https://github.com/deepmind/deepmind-research/tree/master/adversarial_robustness"
   ]
  },
  {
   "cell_type": "markdown",
   "id": "ed52a01c",
   "metadata": {},
   "source": [
    "### Load libraries"
   ]
  },
  {
   "cell_type": "code",
   "execution_count": 1,
   "id": "0812e21a",
   "metadata": {},
   "outputs": [],
   "source": [
    "import dataclasses\n",
    "from typing import Dict, List, Optional, Tuple, Union\n",
    "import warnings"
   ]
  },
  {
   "cell_type": "code",
   "execution_count": 2,
   "id": "279ec668",
   "metadata": {},
   "outputs": [
    {
     "data": {
      "text/plain": [
       "['NVIDIA GeForce RTX 3080']"
      ]
     },
     "execution_count": 2,
     "metadata": {},
     "output_type": "execute_result"
    }
   ],
   "source": [
    "import matplotlib\n",
    "import matplotlib.pyplot as plt\n",
    "import seaborn as sns\n",
    "warnings.filterwarnings(\"ignore\", category=matplotlib.MatplotlibDeprecationWarning)\n",
    "\n",
    "import numpy as np\n",
    "import pandas as pd\n",
    "from tqdm.notebook import tqdm\n",
    "\n",
    "from art.estimators.classification import PyTorchClassifier\n",
    "from art.attacks.evasion import ProjectedGradientDescent\n",
    "\n",
    "import torch\n",
    "import torch.nn as nn\n",
    "\n",
    "import robustbench.utils\n",
    "\n",
    "[torch.cuda.get_device_name(a)\n",
    "    for a in range(torch.cuda.device_count())]"
   ]
  },
  {
   "cell_type": "code",
   "execution_count": 3,
   "id": "edf47d4a",
   "metadata": {},
   "outputs": [
    {
     "name": "stdout",
     "output_type": "stream",
     "text": [
      "INFO:tensorflow:Enabling eager execution\n",
      "INFO:tensorflow:Enabling v2 tensorshape\n",
      "INFO:tensorflow:Enabling resource variables\n",
      "INFO:tensorflow:Enabling tensor equality\n",
      "INFO:tensorflow:Enabling control flow v2\n"
     ]
    }
   ],
   "source": [
    "import sys\n",
    "sys.path.append(\"../..\")\n",
    "\n",
    "from adversarial_ntks import dataset"
   ]
  },
  {
   "cell_type": "markdown",
   "id": "433440b2",
   "metadata": {},
   "source": [
    "### Load data"
   ]
  },
  {
   "cell_type": "code",
   "execution_count": 4,
   "id": "7fa1eedb",
   "metadata": {},
   "outputs": [
    {
     "name": "stdout",
     "output_type": "stream",
     "text": [
      "(10000, 32, 32, 3) 0.0 1.0\n",
      "(10000, 3, 32, 32)\n"
     ]
    }
   ],
   "source": [
    "CIFAR_TEST = dataset.get_np_data(\n",
    "    name=\"cifar10\", split=\"test\",\n",
    "    agg_labels=((0,1,2,3,4),(5,6,7,8,9)),\n",
    "    flatten=False,\n",
    ")\n",
    "CIFAR_TEST = CIFAR_TEST.replace_xs(\n",
    "    CIFAR_TEST.xs.astype(np.float32)\n",
    ")\n",
    "\n",
    "CIFAR_TEST_CHAN_FIRST = CIFAR_TEST.replace_xs(\n",
    "    np.moveaxis(CIFAR_TEST.xs, -1, 1)\n",
    ")\n",
    "\n",
    "print(CIFAR_TEST.xs.shape, CIFAR_TEST.xs.min(), CIFAR_TEST.xs.max())\n",
    "print(CIFAR_TEST_CHAN_FIRST.xs.shape)"
   ]
  },
  {
   "cell_type": "code",
   "execution_count": 5,
   "id": "958a272e",
   "metadata": {},
   "outputs": [
    {
     "name": "stdout",
     "output_type": "stream",
     "text": [
      "[1 0 1 1 1 0 1 0 0 0]\n"
     ]
    },
    {
     "data": {
      "image/png": "[encoded data removed]",
      "text/plain": [
       "<Figure size 432x288 with 10 Axes>"
      ]
     },
     "metadata": {
      "needs_background": "light"
     },
     "output_type": "display_data"
    }
   ],
   "source": [
    "dataset.plot_images(CIFAR_TEST, channels=3, flat=False)"
   ]
  },
  {
   "cell_type": "markdown",
   "id": "bcac9e67",
   "metadata": {},
   "source": [
    "### Load models"
   ]
  },
  {
   "cell_type": "code",
   "execution_count": 6,
   "id": "299c1811",
   "metadata": {},
   "outputs": [],
   "source": [
    "class BinModel(nn.Module):\n",
    "    def __init__(self, model10: nn.Module):\n",
    "        super().__init__()\n",
    "        self.model10 = model10\n",
    "        \n",
    "    def forward(self, xs):\n",
    "        out10 = self.model10.forward(xs)\n",
    "        out2by5 = out10.view(-1, 2, 5)\n",
    "        out2 = torch.max(out2by5, dim=-1).values\n",
    "        return out2"
   ]
  },
  {
   "cell_type": "code",
   "execution_count": 7,
   "id": "caf89d7d",
   "metadata": {},
   "outputs": [],
   "source": [
    "base_nat_model = robustbench.utils.load_model(\n",
    "    model_name=\"Standard\",\n",
    "    dataset=\"cifar10\",\n",
    "    threat_model=\"L2\",\n",
    ")\n",
    "nat_model = BinModel(base_nat_model)\n",
    "nat_model.eval();"
   ]
  },
  {
   "cell_type": "code",
   "execution_count": 7,
   "id": "190b9136",
   "metadata": {},
   "outputs": [],
   "source": [
    "base_rob_model = robustbench.utils.load_model(\n",
    "    model_name=\"Gowal2020Uncovering_extra\",\n",
    "    dataset=\"cifar10\",\n",
    "    threat_model=\"L2\",\n",
    ")\n",
    "rob_model = BinModel(base_rob_model)\n",
    "rob_model.eval();"
   ]
  },
  {
   "cell_type": "markdown",
   "id": "516f8210",
   "metadata": {},
   "source": [
    "### Experiment setup"
   ]
  },
  {
   "cell_type": "code",
   "execution_count": 8,
   "id": "766533af",
   "metadata": {},
   "outputs": [],
   "source": [
    "def run_experiment(\n",
    "    bin_model: BinModel,\n",
    "    ds: dataset.Dataset,\n",
    "    attack_norm: Union[float, int],\n",
    "    attack_eps: float,\n",
    "    attack_eps_step: float,\n",
    "    attack_iters: int,\n",
    "    batch_size: int,\n",
    "    seed: int = 42\n",
    "):\n",
    "    \"\"\"\n",
    "    ART code derived from\n",
    "    1. https://github.com/Trusted-AI/adversarial-robustness-toolbox/blob/main/notebooks/adversarial_retraining.ipynb\n",
    "    2. https://github.com/Trusted-AI/adversarial-robustness-toolbox/issues/238\n",
    "    3. https://github.com/Trusted-AI/adversarial-robustness-toolbox/blob/main/examples/get_started_pytorch.py\n",
    "    \"\"\"\n",
    "    np.random.seed(seed)\n",
    "    torch.manual_seed(seed)\n",
    "    \n",
    "    bin_model.eval()\n",
    "    \n",
    "    art_model = PyTorchClassifier(\n",
    "        model=bin_model,\n",
    "        input_shape=ds.xs[0].shape,\n",
    "        nb_classes=ds.num_classes,\n",
    "        clip_values=(0, 1),\n",
    "        loss=nn.CrossEntropyLoss(),\n",
    "    )\n",
    "    art_pgd_attack = ProjectedGradientDescent(\n",
    "        art_model,\n",
    "        norm=attack_norm,\n",
    "        eps=attack_eps,\n",
    "        eps_step=attack_eps_step,\n",
    "        max_iter=attack_iters,\n",
    "        batch_size=batch_size,\n",
    "        verbose=True,\n",
    "    )\n",
    "    \n",
    "    preds_nat = art_model.predict(x=ds.xs)\n",
    "    acc_nat = np.mean(np.argmax(preds_nat, axis=-1) == ds.ys)\n",
    "    print(f\"Nat acc: {acc_nat:.4f}\")\n",
    "    \n",
    "    xs_pgd = art_pgd_attack.generate(x=ds.xs, y=ds.ys)\n",
    "    preds_pgd = art_model.predict(x=xs_pgd)\n",
    "    acc_pgd = np.mean(np.argmax(preds_pgd, axis=-1) == ds.ys)\n",
    "    print(f\"PGD acc: {acc_pgd:.4f}\")\n",
    "    \n",
    "    return dict(\n",
    "        acc_nat=acc_nat,\n",
    "        acc_pgd=acc_pgd,\n",
    "        xs_pgd=xs_pgd,\n",
    "        preds_pgd=preds_pgd,\n",
    "    )"
   ]
  },
  {
   "cell_type": "markdown",
   "id": "1f5c68fc",
   "metadata": {},
   "source": [
    "# Run experiments"
   ]
  },
  {
   "cell_type": "markdown",
   "id": "0540d81d",
   "metadata": {},
   "source": [
    "### Natural model"
   ]
  },
  {
   "cell_type": "code",
   "execution_count": 9,
   "id": "9316eae4",
   "metadata": {},
   "outputs": [
    {
     "name": "stdout",
     "output_type": "stream",
     "text": [
      "Nat acc: 0.9629\n"
     ]
    },
    {
     "data": {
      "application/vnd.jupyter.widget-view+json": {
       "model_id": "",
       "version_major": 2,
       "version_minor": 0
      },
      "text/plain": [
       "PGD - Batches:   0%|          | 0/8 [00:00<?, ?it/s]"
      ]
     },
     "metadata": {},
     "output_type": "display_data"
    },
    {
     "name": "stderr",
     "output_type": "stream",
     "text": [
      "/home/ttw/.miniconda3/envs/adv-ntk/lib/python3.8/site-packages/art/estimators/classification/pytorch.py:670: UserWarning: To copy construct from a tensor, it is recommended to use sourceTensor.clone().detach() or sourceTensor.clone().detach().requires_grad_(True), rather than torch.tensor(sourceTensor).\n",
      "  x_grad = torch.tensor(x).to(self._device)\n",
      "/home/ttw/.miniconda3/envs/adv-ntk/lib/python3.8/site-packages/art/estimators/classification/pytorch.py:671: UserWarning: To copy construct from a tensor, it is recommended to use sourceTensor.clone().detach() or sourceTensor.clone().detach().requires_grad_(True), rather than torch.tensor(sourceTensor).\n",
      "  y_grad = torch.tensor(y).to(self._device)\n"
     ]
    },
    {
     "name": "stdout",
     "output_type": "stream",
     "text": [
      "PGD acc: 0.0439\n",
      "CPU times: user 1min 6s, sys: 1.04 s, total: 1min 7s\n",
      "Wall time: 1min 16s\n"
     ]
    }
   ],
   "source": [
    "%%time\n",
    "\n",
    "NAT_RES_DICT = run_experiment(\n",
    "    bin_model=nat_model,\n",
    "    ds=CIFAR_TEST_CHAN_FIRST.prefix(1024),\n",
    "    attack_norm=2,\n",
    "    attack_eps=0.5,\n",
    "    attack_eps_step=0.5/10,\n",
    "    attack_iters=20,\n",
    "    batch_size=128,\n",
    "    seed=42,\n",
    ")"
   ]
  },
  {
   "cell_type": "code",
   "execution_count": 11,
   "id": "9af4b8df",
   "metadata": {},
   "outputs": [
    {
     "name": "stdout",
     "output_type": "stream",
     "text": [
      "Nat data\n",
      "[1 0 1 1 1 0 1 0 0 0]\n"
     ]
    },
    {
     "data": {
      "image/png": "[encoded data removed]",
      "text/plain": [
       "<Figure size 432x288 with 10 Axes>"
      ]
     },
     "metadata": {
      "needs_background": "light"
     },
     "output_type": "display_data"
    },
    {
     "name": "stdout",
     "output_type": "stream",
     "text": [
      "PGD data\n",
      "[1 0 1 1 1 0 1 0 0 0]\n"
     ]
    },
    {
     "data": {
      "image/png": "[encoded data removed]",
      "text/plain": [
       "<Figure size 432x288 with 10 Axes>"
      ]
     },
     "metadata": {
      "needs_background": "light"
     },
     "output_type": "display_data"
    },
    {
     "name": "stdout",
     "output_type": "stream",
     "text": [
      "PGD preds\n",
      "[0 1 0 0 0 1 0 1 1 1]\n"
     ]
    }
   ],
   "source": [
    "print(\"Nat data\")\n",
    "dataset.plot_images(CIFAR_TEST, channels=1, flat=False)\n",
    "\n",
    "print(\"PGD data\")\n",
    "dataset.plot_images(\n",
    "    dataset.Dataset(\n",
    "        xs=np.moveaxis(NAT_RES_DICT[\"xs_pgd\"], 1, -1),\n",
    "        ys=CIFAR_TEST.ys[:1024],\n",
    "        one_hot=False,\n",
    "        num_classes=2,\n",
    "    ), channels=1, flat=False\n",
    ")\n",
    "print(\"PGD preds\")\n",
    "print(NAT_RES_DICT[\"preds_pgd\"][:10].argmax(axis=-1))"
   ]
  },
  {
   "cell_type": "markdown",
   "id": "2b6d249c",
   "metadata": {},
   "source": [
    "### Robust model"
   ]
  },
  {
   "cell_type": "code",
   "execution_count": 11,
   "id": "ffb2f580",
   "metadata": {},
   "outputs": [
    {
     "name": "stdout",
     "output_type": "stream",
     "text": [
      "Nat acc: 0.9609\n"
     ]
    },
    {
     "data": {
      "application/vnd.jupyter.widget-view+json": {
       "model_id": "",
       "version_major": 2,
       "version_minor": 0
      },
      "text/plain": [
       "PGD - Batches:   0%|          | 0/32 [00:00<?, ?it/s]"
      ]
     },
     "metadata": {},
     "output_type": "display_data"
    },
    {
     "name": "stdout",
     "output_type": "stream",
     "text": [
      "PGD acc: 0.8516\n",
      "CPU times: user 5min 48s, sys: 21 s, total: 6min 9s\n",
      "Wall time: 7min 57s\n"
     ]
    }
   ],
   "source": [
    "%%time\n",
    "\n",
    "ROB_RES_DICT = run_experiment(\n",
    "    bin_model=rob_model,\n",
    "    ds=CIFAR_TEST_CHAN_FIRST.prefix(1024),\n",
    "    attack_norm=2,\n",
    "    attack_eps=0.5,\n",
    "    attack_eps_step=0.5/10,\n",
    "    attack_iters=20,\n",
    "    batch_size=32,\n",
    "    seed=42,\n",
    ")"
   ]
  }
 ],
 "metadata": {
  "kernelspec": {
   "display_name": "Python 3",
   "language": "python",
   "name": "python3"
  },
  "language_info": {
   "codemirror_mode": {
    "name": "ipython",
    "version": 3
   },
   "file_extension": ".py",
   "mimetype": "text/x-python",
   "name": "python",
   "nbconvert_exporter": "python",
   "pygments_lexer": "ipython3",
   "version": "3.8.8"
  }
 },
 "nbformat": 4,
 "nbformat_minor": 5
}
