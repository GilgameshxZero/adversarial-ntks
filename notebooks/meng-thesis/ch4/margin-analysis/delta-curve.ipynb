{
 "cells": [
  {
   "cell_type": "code",
   "execution_count": 1,
   "id": "adc3b63e",
   "metadata": {},
   "outputs": [],
   "source": [
    "import numpy as np\n",
    "import matplotlib.pyplot as plt"
   ]
  },
  {
   "cell_type": "code",
   "execution_count": 2,
   "id": "dce293fd",
   "metadata": {},
   "outputs": [],
   "source": [
    "def psi_rbf(diff, bandwidth):\n",
    "    return np.exp(-0.5 * (diff / bandwidth) ** 2)\n",
    "\n",
    "def delta_rbf(dmarg, bandwidth):\n",
    "    return np.sqrt(2 * (1 - psi_rbf(diff=dmarg, bandwidth=bandwidth)))\n",
    "\n",
    "def delta_inv_rbf(gmarg, bandwidth):\n",
    "    return np.sqrt(\n",
    "        - 2 * bandwidth ** 2\n",
    "        * np.log(1 - 0.5 * gmarg ** 2)\n",
    "    )"
   ]
  },
  {
   "cell_type": "code",
   "execution_count": 9,
   "id": "bdfd4655",
   "metadata": {},
   "outputs": [
    {
     "data": {
      "text/plain": [
       "Text(0, 0.5, 'dmarg')"
      ]
     },
     "execution_count": 9,
     "metadata": {},
     "output_type": "execute_result"
    },
    {
     "data": {
      "image/png": "[encoded data removed]",
      "text/plain": [
       "<Figure size 432x288 with 1 Axes>"
      ]
     },
     "metadata": {
      "needs_background": "light"
     },
     "output_type": "display_data"
    }
   ],
   "source": [
    "#dmargs = np.linspace(0, 1, num=1000)\n",
    "#delta_dmargs = delta_rbf(dmargs, bandwidth=10)\n",
    "\n",
    "gmargs = np.linspace(0, np.sqrt(2), num=10000, endpoint=False)\n",
    "delta_inv_gmargs = delta_inv_rbf(gmargs, bandwidth=10)\n",
    "  \n",
    "plt.plot(gmargs, delta_inv_gmargs)\n",
    "plt.axvline(np.sqrt(2), color=\"black\", linestyle=\"--\", zorder=-10)\n",
    "#plt.plot(delta_dmargs, dmargs)\n",
    "\n",
    "plt.xlabel(\"gmarg\")\n",
    "plt.ylabel(\"dmarg\")"
   ]
  },
  {
   "cell_type": "code",
   "execution_count": null,
   "id": "f114945f",
   "metadata": {},
   "outputs": [],
   "source": []
  }
 ],
 "metadata": {
  "kernelspec": {
   "display_name": "Python 3",
   "language": "python",
   "name": "python3"
  },
  "language_info": {
   "codemirror_mode": {
    "name": "ipython",
    "version": 3
   },
   "file_extension": ".py",
   "mimetype": "text/x-python",
   "name": "python",
   "nbconvert_exporter": "python",
   "pygments_lexer": "ipython3",
   "version": "3.8.8"
  }
 },
 "nbformat": 4,
 "nbformat_minor": 5
}
