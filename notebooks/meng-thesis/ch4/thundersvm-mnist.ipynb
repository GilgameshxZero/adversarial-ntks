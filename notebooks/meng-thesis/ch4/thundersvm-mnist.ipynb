{
 "cells": [
  {
   "cell_type": "markdown",
   "id": "64910f59",
   "metadata": {},
   "source": [
    "### Set up libraries"
   ]
  },
  {
   "cell_type": "code",
   "execution_count": 1,
   "id": "493e6b25",
   "metadata": {},
   "outputs": [],
   "source": [
    "import os\n",
    "os.environ[\"XLA_PYTHON_CLIENT_PREALLOCATE\"] = \"false\""
   ]
  },
  {
   "cell_type": "code",
   "execution_count": 2,
   "id": "8a49808d",
   "metadata": {},
   "outputs": [
    {
     "data": {
      "text/plain": [
       "[GpuDevice(id=0, task=0)]"
      ]
     },
     "execution_count": 2,
     "metadata": {},
     "output_type": "execute_result"
    }
   ],
   "source": [
    "from typing import Dict, Tuple\n",
    "import warnings\n",
    "\n",
    "import matplotlib\n",
    "import matplotlib.pyplot as plt\n",
    "import seaborn as sns\n",
    "warnings.filterwarnings(\"ignore\", category=matplotlib.MatplotlibDeprecationWarning)\n",
    "\n",
    "import numpy as np\n",
    "import pandas as pd\n",
    "from tqdm.notebook import tqdm\n",
    "\n",
    "import thundersvm\n",
    "\n",
    "import jax\n",
    "import jax.numpy as jnp\n",
    "from jax.interpreters import xla\n",
    "jax.config.update(\"jax_enable_x64\", True)\n",
    "#jax.config.update(\"jax_platform_name\", \"cpu\")\n",
    "\n",
    "import neural_tangents as nt\n",
    "from neural_tangents import stax\n",
    "\n",
    "jnp.array([0]) # So warnings don't show up later\n",
    "jax.local_devices()"
   ]
  },
  {
   "cell_type": "code",
   "execution_count": 3,
   "id": "9d446ccb",
   "metadata": {},
   "outputs": [],
   "source": [
    "import sys\n",
    "sys.path.append(\"../../..\")\n",
    "\n",
    "from adversarial_ntks import dataset, attacks, jthunder, kernel"
   ]
  },
  {
   "cell_type": "markdown",
   "id": "85685baf",
   "metadata": {},
   "source": [
    "### Load Data"
   ]
  },
  {
   "cell_type": "code",
   "execution_count": 4,
   "id": "13cd0cbf",
   "metadata": {},
   "outputs": [
    {
     "name": "stdout",
     "output_type": "stream",
     "text": [
      "(60000, 784)\n",
      "(10000, 784)\n",
      "CPU times: user 11.5 s, sys: 14.4 s, total: 25.9 s\n",
      "Wall time: 4.88 s\n"
     ]
    }
   ],
   "source": [
    "%%time\n",
    "\n",
    "MNIST_TRAIN = dataset.get_np_data(\n",
    "    name=\"mnist\", split=\"train\", agg_labels=((0,1,2,3,4), (5,6,7,8,9)))\n",
    "MNIST_TEST = dataset.get_np_data(\n",
    "    name=\"mnist\", split=\"test\", agg_labels=((0,1,2,3,4), (5,6,7,8,9)))\n",
    "\n",
    "print(MNIST_TRAIN.xs.shape)\n",
    "print(MNIST_TEST.xs.shape)"
   ]
  },
  {
   "cell_type": "code",
   "execution_count": 5,
   "id": "43fe39ff",
   "metadata": {},
   "outputs": [
    {
     "name": "stdout",
     "output_type": "stream",
     "text": [
      "[0 0 0 1 1 0 0 1 0 1]\n"
     ]
    },
    {
     "data": {
      "image/png": "[encoded data removed]",
      "text/plain": [
       "<Figure size 432x288 with 10 Axes>"
      ]
     },
     "metadata": {
      "needs_background": "light"
     },
     "output_type": "display_data"
    },
    {
     "name": "stdout",
     "output_type": "stream",
     "text": [
      "[0 0 0 1 1 1 0 1 0 0]\n"
     ]
    },
    {
     "data": {
      "image/png": "[encoded data removed]",
      "text/plain": [
       "<Figure size 432x288 with 10 Axes>"
      ]
     },
     "metadata": {
      "needs_background": "light"
     },
     "output_type": "display_data"
    }
   ],
   "source": [
    "dataset.plot_images(MNIST_TRAIN, channels=1)\n",
    "dataset.plot_images(MNIST_TEST, channels=1)"
   ]
  },
  {
   "cell_type": "markdown",
   "id": "6bbde349",
   "metadata": {},
   "source": [
    "### Utility code"
   ]
  },
  {
   "cell_type": "code",
   "execution_count": 6,
   "id": "b34b7bf9",
   "metadata": {},
   "outputs": [],
   "source": [
    "def avg_by_cls(xs, ys) -> Tuple[float, float]:\n",
    "    return (xs[ys == 0].mean(), xs[ys == 1].mean())\n",
    "\n",
    "def accs_by_cls(clf: thundersvm.SVC, ds: dataset.Dataset) -> Tuple[float, float]:\n",
    "    return avg_by_cls(clf.predict(ds.xs) == ds.ys, ds.ys)\n",
    "\n",
    "def fmt_accs(accs: Tuple) -> str:\n",
    "    return \"(\" + \", \".join(f\"{a:.4f}\" for a in accs) + \")\"\n",
    "\n",
    "def print_dict(d: Dict):\n",
    "    def fmt(v):\n",
    "            if isinstance(v, tuple):\n",
    "                return fmt_accs(v)\n",
    "            elif isinstance(v, float):\n",
    "                return f\"{v:.2e}\"\n",
    "            return v\n",
    "            \n",
    "    print({\n",
    "        k : fmt(v) for\n",
    "        k, v in d.items()\n",
    "        if not isinstance(v, np.ndarray)\n",
    "    })\n",
    "    \n",
    "def print_clf_info(clf: thundersvm.SVC):\n",
    "    print_dict(dict(\n",
    "        n_support=list(clf.n_support_),\n",
    "        b=clf.intercept_[0],\n",
    "        gam=clf._gamma,\n",
    "        coef0=clf.coef0,\n",
    "    ))"
   ]
  },
  {
   "cell_type": "code",
   "execution_count": 7,
   "id": "5d2c0490",
   "metadata": {},
   "outputs": [],
   "source": [
    "def eval_ds(\n",
    "    clf: thundersvm.SVC,\n",
    "    ds: dataset.Dataset,\n",
    "    attack_norm: int,\n",
    "    attack_eps: float,\n",
    "    pgd_step_size: float,\n",
    "    pgd_num_steps: int,\n",
    "    batch_size: int\n",
    ") -> Dict:\n",
    "    res_dict = dict()\n",
    "    \n",
    "    res_dict[\"accs_nat\"] = accs_by_cls(clf=clf, ds=ds)\n",
    "    res_dict[\"acc_nat\"] = sum(res_dict[\"accs_nat\"]) / 2\n",
    "    print(f\"accs_nat: {fmt_accs(res_dict['accs_nat'])}\")\n",
    "    print(f\"acc_nat: {res_dict['acc_nat']:.4f}\")\n",
    "    \n",
    "    clf_grad_fn = jthunder.get_grad_decision_function(clf)\n",
    "    \n",
    "    xs_pgd = attacks.pgd(\n",
    "        X=ds.xs, Y=ds.ys,\n",
    "        grad_func=clf_grad_fn,\n",
    "        eps=attack_eps, eps_norm=attack_norm,\n",
    "        step_size=pgd_step_size, step_norm=attack_norm,\n",
    "        num_steps=pgd_num_steps,\n",
    "        pixel_clip=True,\n",
    "        batch_size=batch_size,\n",
    "    )\n",
    "    res_dict[\"xs_pgd\"] = xs_pgd\n",
    "    \n",
    "    res_dict[\"preds_pgd\"] = clf.predict(xs_pgd)\n",
    "    res_dict[\"accs_pgd\"] = accs_by_cls(clf=clf, ds=ds.replace_xs(xs_pgd))\n",
    "    res_dict[\"acc_pgd\"] = sum(res_dict[\"accs_pgd\"]) / 2\n",
    "    print(f\"accs_pgd: {fmt_accs(res_dict['accs_pgd'])}\")\n",
    "    print(f\"acc_pgd: {res_dict['acc_pgd']:.4f}\")\n",
    "    \n",
    "    return res_dict"
   ]
  },
  {
   "cell_type": "markdown",
   "id": "ddb49565",
   "metadata": {},
   "source": [
    "# Begin experiments"
   ]
  },
  {
   "cell_type": "code",
   "execution_count": 8,
   "id": "febb1f00",
   "metadata": {},
   "outputs": [],
   "source": [
    "RESULTS = {}"
   ]
  },
  {
   "cell_type": "markdown",
   "id": "ac6b83cc",
   "metadata": {},
   "source": [
    "### Linear kernel - MNIST"
   ]
  },
  {
   "cell_type": "code",
   "execution_count": 9,
   "id": "3d85a86b",
   "metadata": {},
   "outputs": [
    {
     "name": "stdout",
     "output_type": "stream",
     "text": [
      "CPU times: user 57.4 s, sys: 0 ns, total: 57.4 s\n",
      "Wall time: 58.7 s\n"
     ]
    }
   ],
   "source": [
    "%%time\n",
    "clf = thundersvm.SVC(kernel=\"linear\", C=1e-1)\n",
    "clf.fit(MNIST_TRAIN.xs, MNIST_TRAIN.ys)\n",
    "\n",
    "RESULTS[\"linear\"] = dict(clf=clf)"
   ]
  },
  {
   "cell_type": "code",
   "execution_count": 10,
   "id": "3524c110",
   "metadata": {},
   "outputs": [
    {
     "name": "stdout",
     "output_type": "stream",
     "text": [
      "{'n_support': [10127, 10125], 'b': '-9.37e-01', 'gam': '1.28e-03', 'coef0': '0.00e+00'}\n"
     ]
    }
   ],
   "source": [
    "print_clf_info(RESULTS[\"linear\"][\"clf\"])"
   ]
  },
  {
   "cell_type": "code",
   "execution_count": 11,
   "id": "37d5368f",
   "metadata": {},
   "outputs": [
    {
     "name": "stdout",
     "output_type": "stream",
     "text": [
      "accs_nat: (0.8809, 0.8805)\n",
      "acc_nat: 0.8807\n"
     ]
    },
    {
     "data": {
      "application/vnd.jupyter.widget-view+json": {
       "model_id": "e75eee3623514957be03ca0f7fa349b3",
       "version_major": 2,
       "version_minor": 0
      },
      "text/plain": [
       "  0%|          | 0/40 [00:00<?, ?it/s]"
      ]
     },
     "metadata": {},
     "output_type": "display_data"
    },
    {
     "name": "stdout",
     "output_type": "stream",
     "text": [
      "accs_pgd: (0.0000, 0.0012)\n",
      "acc_pgd: 0.0006\n",
      "CPU times: user 32.1 s, sys: 0 ns, total: 32.1 s\n",
      "Wall time: 31.9 s\n"
     ]
    }
   ],
   "source": [
    "%%time\n",
    "RESULTS[\"linear\"].update(eval_ds(\n",
    "    clf=RESULTS[\"linear\"][\"clf\"],\n",
    "    ds=MNIST_TEST,\n",
    "    attack_norm=2,\n",
    "    attack_eps=2,\n",
    "    pgd_step_size=2/10,\n",
    "    pgd_num_steps=20,\n",
    "    batch_size=256,\n",
    "))"
   ]
  },
  {
   "cell_type": "code",
   "execution_count": 12,
   "id": "bf811ebf",
   "metadata": {},
   "outputs": [
    {
     "name": "stdout",
     "output_type": "stream",
     "text": [
      "Nat data\n",
      "[0 0 0 1 1 1 0 1 0 0]\n"
     ]
    },
    {
     "data": {
      "image/png": "[encoded data removed]",
      "text/plain": [
       "<Figure size 432x288 with 10 Axes>"
      ]
     },
     "metadata": {
      "needs_background": "light"
     },
     "output_type": "display_data"
    },
    {
     "name": "stdout",
     "output_type": "stream",
     "text": [
      "PGD data\n",
      "[0 0 0 1 1 1 0 1 0 0]\n"
     ]
    },
    {
     "data": {
      "image/png": "[encoded data removed]",
      "text/plain": [
       "<Figure size 432x288 with 10 Axes>"
      ]
     },
     "metadata": {
      "needs_background": "light"
     },
     "output_type": "display_data"
    },
    {
     "name": "stdout",
     "output_type": "stream",
     "text": [
      "PGD preds\n",
      "[1 1 1 0 0 0 1 0 1 1]\n"
     ]
    }
   ],
   "source": [
    "print(\"Nat data\")\n",
    "dataset.plot_images(MNIST_TEST, channels=1)\n",
    "\n",
    "print(\"PGD data\")\n",
    "dataset.plot_images(\n",
    "    dataset.Dataset(\n",
    "        xs=RESULTS[\"linear\"][\"xs_pgd\"],\n",
    "        ys=MNIST_TEST.ys,\n",
    "        one_hot=False,\n",
    "        num_classes=2,\n",
    "    ), channels=1\n",
    ")\n",
    "print(\"PGD preds\")\n",
    "print(RESULTS[\"linear\"][\"preds_pgd\"][:10].astype(int))"
   ]
  },
  {
   "cell_type": "markdown",
   "id": "4eaa5ec2",
   "metadata": {},
   "source": [
    "### Poly kernel - MNIST"
   ]
  },
  {
   "cell_type": "code",
   "execution_count": 13,
   "id": "d71f1683",
   "metadata": {},
   "outputs": [
    {
     "name": "stdout",
     "output_type": "stream",
     "text": [
      "CPU times: user 2min 58s, sys: 0 ns, total: 2min 58s\n",
      "Wall time: 3min 2s\n"
     ]
    }
   ],
   "source": [
    "%%time\n",
    "clf = thundersvm.SVC(kernel=\"polynomial\", degree=2, C=1000, coef0=1)\n",
    "clf.fit(MNIST_TRAIN.xs, MNIST_TRAIN.ys)\n",
    "\n",
    "RESULTS[\"poly\"] = dict(clf=clf)"
   ]
  },
  {
   "cell_type": "code",
   "execution_count": 14,
   "id": "bb83ec9e",
   "metadata": {},
   "outputs": [
    {
     "name": "stdout",
     "output_type": "stream",
     "text": [
      "{'n_support': [2745, 2810], 'b': '-1.49e+00', 'gam': '1.28e-03', 'coef0': 1}\n"
     ]
    }
   ],
   "source": [
    "print_clf_info(RESULTS[\"poly\"][\"clf\"])"
   ]
  },
  {
   "cell_type": "code",
   "execution_count": 15,
   "id": "cd5adf46",
   "metadata": {},
   "outputs": [],
   "source": [
    "#%%time\n",
    "#RESULTS[\"poly\"][\"clf\"].save_to_file(\"models/thundersvm/poly-mnist.thunder\")"
   ]
  },
  {
   "cell_type": "code",
   "execution_count": 16,
   "id": "14b24ce6",
   "metadata": {},
   "outputs": [
    {
     "name": "stdout",
     "output_type": "stream",
     "text": [
      "accs_nat: (0.9776, 0.9733)\n",
      "acc_nat: 0.9754\n"
     ]
    },
    {
     "data": {
      "application/vnd.jupyter.widget-view+json": {
       "model_id": "36ad54fe2d77484aa2389fbf53afaadb",
       "version_major": 2,
       "version_minor": 0
      },
      "text/plain": [
       "  0%|          | 0/40 [00:00<?, ?it/s]"
      ]
     },
     "metadata": {},
     "output_type": "display_data"
    },
    {
     "name": "stdout",
     "output_type": "stream",
     "text": [
      "accs_pgd: (0.0000, 0.0000)\n",
      "acc_pgd: 0.0000\n",
      "CPU times: user 19.3 s, sys: 0 ns, total: 19.3 s\n",
      "Wall time: 18.8 s\n"
     ]
    }
   ],
   "source": [
    "%%time\n",
    "RESULTS[\"poly\"].update(eval_ds(\n",
    "    clf=RESULTS[\"poly\"][\"clf\"],\n",
    "    ds=MNIST_TEST,\n",
    "    attack_norm=2,\n",
    "    attack_eps=2,\n",
    "    pgd_step_size=2/10,\n",
    "    pgd_num_steps=20,\n",
    "    batch_size=256,\n",
    "))"
   ]
  },
  {
   "cell_type": "code",
   "execution_count": 17,
   "id": "fe14c30e",
   "metadata": {},
   "outputs": [
    {
     "name": "stdout",
     "output_type": "stream",
     "text": [
      "Nat data\n",
      "[0 0 0 1 1 1 0 1 0 0]\n"
     ]
    },
    {
     "data": {
      "image/png": "[encoded data removed]",
      "text/plain": [
       "<Figure size 432x288 with 10 Axes>"
      ]
     },
     "metadata": {
      "needs_background": "light"
     },
     "output_type": "display_data"
    },
    {
     "name": "stdout",
     "output_type": "stream",
     "text": [
      "PGD data\n",
      "[0 0 0 1 1 1 0 1 0 0]\n"
     ]
    },
    {
     "data": {
      "image/png": "[encoded data removed]",
      "text/plain": [
       "<Figure size 432x288 with 10 Axes>"
      ]
     },
     "metadata": {
      "needs_background": "light"
     },
     "output_type": "display_data"
    },
    {
     "name": "stdout",
     "output_type": "stream",
     "text": [
      "PGD preds\n",
      "[1 1 1 0 0 0 1 0 1 1]\n"
     ]
    }
   ],
   "source": [
    "print(\"Nat data\")\n",
    "dataset.plot_images(MNIST_TEST, channels=1)\n",
    "\n",
    "print(\"PGD data\")\n",
    "dataset.plot_images(\n",
    "    dataset.Dataset(\n",
    "        xs=RESULTS[\"poly\"][\"xs_pgd\"],\n",
    "        ys=MNIST_TEST.ys,\n",
    "        one_hot=False,\n",
    "        num_classes=2,\n",
    "    ), channels=1\n",
    ")\n",
    "print(\"PGD preds\")\n",
    "print(RESULTS[\"poly\"][\"preds_pgd\"][:10].astype(int))"
   ]
  },
  {
   "cell_type": "markdown",
   "id": "a07b1439",
   "metadata": {},
   "source": [
    "### RBF kernel - MNIST"
   ]
  },
  {
   "cell_type": "code",
   "execution_count": 18,
   "id": "6f8460de",
   "metadata": {},
   "outputs": [
    {
     "name": "stdout",
     "output_type": "stream",
     "text": [
      "CPU times: user 2min 30s, sys: 92.7 ms, total: 2min 30s\n",
      "Wall time: 2min 34s\n"
     ]
    }
   ],
   "source": [
    "%%time\n",
    "clf = thundersvm.SVC(kernel=\"rbf\", C=1000)\n",
    "clf.fit(MNIST_TRAIN.xs, MNIST_TRAIN.ys)\n",
    "\n",
    "RESULTS[\"rbf\"] = dict(clf=clf)"
   ]
  },
  {
   "cell_type": "code",
   "execution_count": 19,
   "id": "25bc4400",
   "metadata": {},
   "outputs": [
    {
     "name": "stdout",
     "output_type": "stream",
     "text": [
      "{'n_support': [2665, 2854], 'b': '-3.00e+01', 'gam': '1.28e-03', 'coef0': '0.00e+00'}\n"
     ]
    }
   ],
   "source": [
    "print_clf_info(RESULTS[\"rbf\"][\"clf\"])"
   ]
  },
  {
   "cell_type": "code",
   "execution_count": 20,
   "id": "4d292ecb",
   "metadata": {},
   "outputs": [],
   "source": [
    "#%%time\n",
    "#RESULTS[\"rbf\"][\"clf\"].save_to_file(\"models/thundersvm/rbf-mnist.thunder\")"
   ]
  },
  {
   "cell_type": "code",
   "execution_count": 21,
   "id": "7531d005",
   "metadata": {},
   "outputs": [
    {
     "name": "stdout",
     "output_type": "stream",
     "text": [
      "accs_nat: (0.9792, 0.9753)\n",
      "acc_nat: 0.9772\n"
     ]
    },
    {
     "data": {
      "application/vnd.jupyter.widget-view+json": {
       "model_id": "9d47b5d33c604f8bb0e32e6f1701b920",
       "version_major": 2,
       "version_minor": 0
      },
      "text/plain": [
       "  0%|          | 0/40 [00:00<?, ?it/s]"
      ]
     },
     "metadata": {},
     "output_type": "display_data"
    },
    {
     "name": "stdout",
     "output_type": "stream",
     "text": [
      "accs_pgd: (0.0000, 0.0000)\n",
      "acc_pgd: 0.0000\n",
      "CPU times: user 1min, sys: 1.61 s, total: 1min 1s\n",
      "Wall time: 1min\n"
     ]
    }
   ],
   "source": [
    "%%time\n",
    "RESULTS[\"rbf\"].update(eval_ds(\n",
    "    clf=RESULTS[\"rbf\"][\"clf\"],\n",
    "    ds=MNIST_TEST,\n",
    "    attack_norm=2,\n",
    "    attack_eps=2,\n",
    "    pgd_step_size=2/10,\n",
    "    pgd_num_steps=20,\n",
    "    batch_size=256,\n",
    "))"
   ]
  },
  {
   "cell_type": "code",
   "execution_count": 22,
   "id": "5bafe87e",
   "metadata": {},
   "outputs": [
    {
     "name": "stdout",
     "output_type": "stream",
     "text": [
      "Nat data\n",
      "[0 0 0 1 1 1 0 1 0 0]\n"
     ]
    },
    {
     "data": {
      "image/png": "[encoded data removed]",
      "text/plain": [
       "<Figure size 432x288 with 10 Axes>"
      ]
     },
     "metadata": {
      "needs_background": "light"
     },
     "output_type": "display_data"
    },
    {
     "name": "stdout",
     "output_type": "stream",
     "text": [
      "PGD data\n",
      "[0 0 0 1 1 1 0 1 0 0]\n"
     ]
    },
    {
     "data": {
      "image/png": "[encoded data removed]",
      "text/plain": [
       "<Figure size 432x288 with 10 Axes>"
      ]
     },
     "metadata": {
      "needs_background": "light"
     },
     "output_type": "display_data"
    },
    {
     "name": "stdout",
     "output_type": "stream",
     "text": [
      "PGD preds\n",
      "[1 1 1 0 0 0 1 0 1 1]\n"
     ]
    }
   ],
   "source": [
    "print(\"Nat data\")\n",
    "dataset.plot_images(MNIST_TEST, channels=1)\n",
    "\n",
    "print(\"PGD data\")\n",
    "dataset.plot_images(\n",
    "    dataset.Dataset(\n",
    "        xs=RESULTS[\"rbf\"][\"xs_pgd\"],\n",
    "        ys=MNIST_TEST.ys,\n",
    "        one_hot=False,\n",
    "        num_classes=2,\n",
    "    ), channels=1\n",
    ")\n",
    "print(\"PGD preds\")\n",
    "print(RESULTS[\"rbf\"][\"preds_pgd\"][:10].astype(int))"
   ]
  }
 ],
 "metadata": {
  "kernelspec": {
   "display_name": "Python 3",
   "language": "python",
   "name": "python3"
  },
  "language_info": {
   "codemirror_mode": {
    "name": "ipython",
    "version": 3
   },
   "file_extension": ".py",
   "mimetype": "text/x-python",
   "name": "python",
   "nbconvert_exporter": "python",
   "pygments_lexer": "ipython3",
   "version": "3.8.8"
  }
 },
 "nbformat": 4,
 "nbformat_minor": 5
}
