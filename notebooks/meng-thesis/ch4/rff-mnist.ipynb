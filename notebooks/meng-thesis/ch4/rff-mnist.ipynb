{
 "cells": [
  {
   "cell_type": "markdown",
   "id": "fafa813c",
   "metadata": {},
   "source": [
    "### Load libraries"
   ]
  },
  {
   "cell_type": "code",
   "execution_count": 1,
   "id": "64967581",
   "metadata": {},
   "outputs": [],
   "source": [
    "import dataclasses\n",
    "from typing import Dict, List, Optional, Tuple, Union\n",
    "import warnings"
   ]
  },
  {
   "cell_type": "code",
   "execution_count": 2,
   "id": "adb3e97e",
   "metadata": {},
   "outputs": [],
   "source": [
    "import matplotlib\n",
    "import matplotlib.pyplot as plt\n",
    "import seaborn as sns\n",
    "warnings.filterwarnings(\"ignore\", category=matplotlib.MatplotlibDeprecationWarning)\n",
    "\n",
    "import numpy as np\n",
    "import pandas as pd\n",
    "from tqdm.notebook import tqdm\n",
    "\n",
    "import mlflow\n",
    "import mlflow.keras"
   ]
  },
  {
   "cell_type": "code",
   "execution_count": 3,
   "id": "f10204aa",
   "metadata": {},
   "outputs": [
    {
     "name": "stdout",
     "output_type": "stream",
     "text": [
      "INFO:tensorflow:Enabling eager execution\n",
      "INFO:tensorflow:Enabling v2 tensorshape\n",
      "INFO:tensorflow:Enabling resource variables\n",
      "INFO:tensorflow:Enabling tensor equality\n",
      "INFO:tensorflow:Enabling control flow v2\n"
     ]
    },
    {
     "data": {
      "text/plain": [
       "[PhysicalDevice(name='/physical_device:CPU:0', device_type='CPU'),\n",
       " PhysicalDevice(name='/physical_device:GPU:0', device_type='GPU')]"
      ]
     },
     "execution_count": 3,
     "metadata": {},
     "output_type": "execute_result"
    }
   ],
   "source": [
    "import tensorflow as tf\n",
    "from tensorflow import keras\n",
    "from tensorflow.keras import layers\n",
    "import tensorflow.keras.backend as K\n",
    "\n",
    "from art.data_generators import TensorFlowV2DataGenerator\n",
    "from art.estimators.classification import TensorFlowV2Classifier\n",
    "from art.attacks.evasion import ProjectedGradientDescent\n",
    "from art.defences.trainer import AdversarialTrainer\n",
    "\n",
    "tf.config.list_physical_devices(device_type=None)"
   ]
  },
  {
   "cell_type": "code",
   "execution_count": 4,
   "id": "af5bd478",
   "metadata": {},
   "outputs": [],
   "source": [
    "import sys\n",
    "sys.path.append(\"../..\")\n",
    "\n",
    "from adversarial_ntks import dataset"
   ]
  },
  {
   "cell_type": "markdown",
   "id": "cc49b19e",
   "metadata": {},
   "source": [
    "### Load data"
   ]
  },
  {
   "cell_type": "code",
   "execution_count": 5,
   "id": "52f59b38",
   "metadata": {},
   "outputs": [
    {
     "name": "stdout",
     "output_type": "stream",
     "text": [
      "(60000, 784) 0.0 1.0\n",
      "(10000, 784) 0.0 1.0\n",
      "CPU times: user 11.9 s, sys: 13.8 s, total: 25.7 s\n",
      "Wall time: 4.82 s\n"
     ]
    }
   ],
   "source": [
    "%%time\n",
    "\n",
    "MNIST_TRAIN = dataset.get_np_data(name=\"mnist\", split=\"train\", agg_labels=((0,1,2,3,4),(5,6,7,8,9)))\n",
    "MNIST_TEST = dataset.get_np_data(name=\"mnist\", split=\"test\", agg_labels=((0,1,2,3,4),(5,6,7,8,9)))\n",
    "\n",
    "print(MNIST_TRAIN.xs.shape, MNIST_TRAIN.xs.min(), MNIST_TRAIN.xs.max())\n",
    "print(MNIST_TEST.xs.shape, MNIST_TEST.xs.min(), MNIST_TEST.xs.max())"
   ]
  },
  {
   "cell_type": "code",
   "execution_count": 6,
   "id": "d38a2c48",
   "metadata": {},
   "outputs": [
    {
     "name": "stdout",
     "output_type": "stream",
     "text": [
      "[0 0 0 1 1 0 0 1 0 1]\n"
     ]
    },
    {
     "data": {
      "image/png": "[encoded data removed]",
      "text/plain": [
       "<Figure size 432x288 with 10 Axes>"
      ]
     },
     "metadata": {
      "needs_background": "light"
     },
     "output_type": "display_data"
    },
    {
     "name": "stdout",
     "output_type": "stream",
     "text": [
      "[0 0 0 1 1 1 0 1 0 0]\n"
     ]
    },
    {
     "data": {
      "image/png": "[encoded data removed]",
      "text/plain": [
       "<Figure size 432x288 with 10 Axes>"
      ]
     },
     "metadata": {
      "needs_background": "light"
     },
     "output_type": "display_data"
    }
   ],
   "source": [
    "dataset.plot_images(MNIST_TRAIN, channels=1)\n",
    "dataset.plot_images(MNIST_TEST, channels=1)"
   ]
  },
  {
   "cell_type": "markdown",
   "id": "2a6224ff",
   "metadata": {},
   "source": [
    "### Experiment setup"
   ]
  },
  {
   "cell_type": "code",
   "execution_count": 7,
   "id": "a20166b2",
   "metadata": {},
   "outputs": [],
   "source": [
    "def untensor_dict(d: Dict) -> Dict:\n",
    "    return {\n",
    "        k: float(v) if isinstance(v, tf.Tensor) else v\n",
    "        for k, v in d.items()\n",
    "    }\n",
    "\n",
    "def out_to_dict(out: Tuple, model: keras.Model, prefix: str) -> Dict:\n",
    "    return untensor_dict({\n",
    "        f\"{prefix}_{k}\" : v\n",
    "        for k, v\n",
    "        in zip(model.metrics_names, out)\n",
    "    })\n",
    "\n",
    "def fmt_dict(d: Dict) -> str:\n",
    "    dd = {\n",
    "        k: f\"{v : .4f}\" if isinstance(v, float) else v\n",
    "        for k, v in d.items()\n",
    "    }\n",
    "    return str(dd)\n",
    "\n",
    "def mlflow_log_np(a: np.ndarray, name: str):\n",
    "    \"\"\"name should not include .npy\"\"\"\n",
    "    np.save(f\"tmp-artifacts/{name}.npy\", a)\n",
    "    mlflow.log_artifact(f\"tmp-artifacts/{name}.npy\")"
   ]
  },
  {
   "cell_type": "code",
   "execution_count": 8,
   "id": "d450ea81",
   "metadata": {},
   "outputs": [],
   "source": [
    "@dataclasses.dataclass\n",
    "class ExperimentParams:\n",
    "    ds_train: dataset.Dataset  # not one hot\n",
    "    ds_test: dataset.Dataset   # not one hot\n",
    "    num_fourier_features: int\n",
    "    kernel_scale: float\n",
    "    kernel_type: str\n",
    "    train_epochs: int\n",
    "    adv_ratio: float  # in [0, 1]; 0 = nat. training; 1 = full adv. training\n",
    "    use_pgd: bool\n",
    "    attack_norm: Union[float, int]\n",
    "    attack_eps: float\n",
    "    attack_eps_step: float\n",
    "    attack_iters: int\n",
    "    num_eval_per_epoch: int  # How many samples to use during evaluation\n",
    "    batch_size: int\n",
    "    learning_rate: int\n",
    "    seed: int = 42\n",
    "    \n",
    "    def __post_init__(self):\n",
    "        assert self.ds_train.num_classes == 2\n",
    "        assert self.ds_test.num_classes == 2\n",
    "        assert not self.ds_train.one_hot\n",
    "        assert not self.ds_test.one_hot\n",
    "    \n",
    "    def to_mlflow_dict(self) -> Dict:\n",
    "        ret = dataclasses.asdict(self)\n",
    "        \n",
    "        del ret[\"ds_train\"]\n",
    "        del ret[\"ds_test\"]\n",
    "        \n",
    "        ret[\"ds_train_name\"] = self.ds_train.name\n",
    "        ret[\"ds_test_name\"] = self.ds_test.name\n",
    "        \n",
    "        return ret\n",
    "\n",
    "    \n",
    "def run_experiment(\n",
    "    params: ExperimentParams,\n",
    "    print_every: Optional[int] = None,\n",
    "    verbose: bool = False,\n",
    "):\n",
    "    \"\"\"\n",
    "    Keras code derived from https://keras.io/examples/vision/mnist_convnet/.\n",
    "    \n",
    "    ART code derived from https://github.com/Trusted-AI/adversarial-robustness-toolbox/blob/main/notebooks/adversarial_retraining.ipynb\n",
    "    and https://github.com/Trusted-AI/adversarial-robustness-toolbox/issues/238.\n",
    "    \"\"\"\n",
    "    mlflow.log_params(params.to_mlflow_dict())\n",
    "    np.random.seed(params.seed)\n",
    "    tf.random.set_seed(params.seed)\n",
    "    \n",
    "    DS_TRAIN = params.ds_train.to_one_hot()\n",
    "    DS_TEST = params.ds_test.to_one_hot()\n",
    "    DATA_SHAPE = DS_TRAIN.xs[0].shape\n",
    "    \n",
    "    class ExperimentCallback(keras.callbacks.Callback):\n",
    "        def on_epoch_end(self, epoch: int, logs: Dict):\n",
    "            logs = untensor_dict(logs)\n",
    "            if epoch % print_every == 0:\n",
    "                print(f\"Epoch {epoch} finished; Evaling...\", end=\" \")\n",
    "            \n",
    "            ds_sub_train = DS_TRAIN.subsample(params.num_eval_per_epoch)\n",
    "            ds_sub_test = DS_TEST.subsample(params.num_eval_per_epoch)\n",
    "            \n",
    "            xs_sub_train_pgd = art_pgd_attack.generate(x=ds_sub_train.xs, y=ds_sub_train.ys)\n",
    "            xs_sub_test_pgd = art_pgd_attack.generate(x=ds_sub_test.xs, y=ds_sub_test.ys)\n",
    "            \n",
    "            sub_train_nat_out = model.evaluate(ds_sub_train.xs, ds_sub_train.ys, verbose=0)\n",
    "            sub_test_nat_out = model.evaluate(ds_sub_test.xs, ds_sub_test.ys, verbose=0)\n",
    "            \n",
    "            sub_train_pgd_out = model.evaluate(xs_sub_train_pgd, ds_sub_train.ys, verbose=0)\n",
    "            sub_test_pgd_out = model.evaluate(xs_sub_test_pgd, ds_sub_test.ys, verbose=0)\n",
    "            \n",
    "            mlflow.log_metrics(out_to_dict(prefix=\"sub_train_nat\", out=sub_train_nat_out, model=model))\n",
    "            mlflow.log_metrics(out_to_dict(prefix=\"sub_train_pgd\", out=sub_train_pgd_out, model=model))\n",
    "            mlflow.log_metrics(out_to_dict(prefix=\"sub_test_nat\", out=sub_test_nat_out, model=model))\n",
    "            mlflow.log_metrics(out_to_dict(prefix=\"sub_test_pgd\", out=sub_test_pgd_out, model=model))\n",
    "            mlflow.log_metrics(logs)\n",
    "            \n",
    "            if epoch % print_every == 0:\n",
    "                print(fmt_dict(logs))\n",
    "                if verbose:\n",
    "                    print(fmt_dict(out_to_dict(prefix=\"sub_train_pgd\", out=sub_train_pgd_out, model=model)))\n",
    "                    print(fmt_dict(out_to_dict(prefix=\"sub_test_pgd\", out=sub_test_pgd_out, model=model)))\n",
    "    \n",
    "    def kernel_f(n):\n",
    "        \"\"\"\n",
    "        Per https://www.tensorflow.org/api_docs/python/tf/keras/layers/experimental/RandomFourierFeatures\n",
    "        \"\"\"\n",
    "        if params.kernel_type.lower() == \"gaussian\":\n",
    "            return np.exp(- n ** 2 / (2 * params.kernel_scale ** 2))\n",
    "        elif params.kernel_type.lower() == \"laplacian\":\n",
    "            return np.exp(- n / params.kernel_scale)\n",
    "        else:\n",
    "            raise NotImplementedError\n",
    "        \n",
    "    def delta(eps, norm: Union[int, float]):\n",
    "        if norm == 2:\n",
    "            return np.sqrt(2 * (kernel_f(0) - kernel_f(eps)))\n",
    "        elif norm == np.inf:\n",
    "            l2_eps = np.sqrt(eps * eps * np.prod(DATA_SHAPE))\n",
    "            return np.sqrt(\n",
    "                2 * (kernel_f(0) - kernel_f(l2_eps))\n",
    "            )\n",
    "\n",
    "    model : keras.Model = keras.Sequential([\n",
    "        keras.layers.InputLayer(\n",
    "            input_shape=DATA_SHAPE,\n",
    "        ),\n",
    "        layers.experimental.RandomFourierFeatures(\n",
    "            output_dim=params.num_fourier_features,\n",
    "            scale=params.kernel_scale,\n",
    "            kernel_initializer=params.kernel_type,\n",
    "            trainable=False,\n",
    "        ),\n",
    "        layers.experimental.preprocessing.Rescaling(\n",
    "            scale=np.sqrt(2 / np.prod(DATA_SHAPE)),\n",
    "            trainable=False,\n",
    "        ),\n",
    "        layers.Dense(units=1, use_bias=True),\n",
    "    ])\n",
    "        \n",
    "    def hinge(y_true, y_pred):\n",
    "        \"\"\"y_true is one hot!\"\"\"\n",
    "        assert y_true.shape[1] == 2\n",
    "        assert y_pred.shape[1] == 1\n",
    "        \n",
    "        #y_true = tf.cast(y_true, tf.float32)\n",
    "        return K.relu(\n",
    "            1 - (y_true[:, 1] - y_true[:, 0]) * y_pred[:, 0]\n",
    "            #1 - (2 * y_true - 1) * y_pred\n",
    "        )\n",
    "    \n",
    "    delta_eps = 2*delta(eps=params.attack_eps, norm=params.attack_norm)\n",
    "    print(f\"delta(eps)={delta_eps:.6e}\")\n",
    "    def hinge_robust_ub(y_true, y_pred):\n",
    "        \"\"\"y_true is one hot!\"\"\"\n",
    "        assert y_true.shape[1] == 2\n",
    "        assert y_pred.shape[1] == 1\n",
    "        y_true = tf.cast(y_true, tf.float32)\n",
    "        \n",
    "        W = model.layers[-1].kernel  # shape: (num_fourier_features, 1)\n",
    "        W_norm = tf.norm(W, ord=2)\n",
    "        \n",
    "        y_pred_adv = y_pred - tf.reshape(\n",
    "            (y_true[:, 1] - y_true[:, 0]) * delta_eps * W_norm,\n",
    "            (-1, 1)\n",
    "        )\n",
    "        \n",
    "        return hinge(y_true, y_pred_adv)\n",
    "    \n",
    "    def rob_ub_loss(y_true, y_pred):\n",
    "        \"\"\"y_true is one hot!\"\"\"\n",
    "        if params.adv_ratio == 0:\n",
    "            return hinge(y_true, y_pred)\n",
    "\n",
    "        return (\n",
    "            params.adv_ratio * hinge_robust_ub(y_true, y_pred)\n",
    "          + (1 - params.adv_ratio) * hinge(y_true, y_pred)\n",
    "        )\n",
    "    \n",
    "    def attack_loss(y_true, y_pred):\n",
    "        \"\"\"y_true is one hot!\"\"\"\n",
    "        assert y_true.shape[1] == 2\n",
    "        assert y_pred.shape[1] == 1\n",
    "        return K.sum((y_true[:, 0] - y_true[:, 1]) * y_pred[:, 0])\n",
    "    \n",
    "    def custom_acc(y_true, y_pred):\n",
    "        assert y_true.shape[1] == 2\n",
    "        assert y_pred.shape[1] == 1\n",
    "        return K.mean((y_true[:, 1] - y_true[:, 0]) * y_pred[:, 0] >= 0)\n",
    "    \n",
    "    model.compile(\n",
    "        loss=hinge if params.use_pgd else rob_ub_loss,\n",
    "        optimizer=keras.optimizers.Adam(learning_rate=params.learning_rate),\n",
    "        #optimizer=keras.optimizers.SGD(\n",
    "        #    learning_rate=params.learning_rate,\n",
    "        #    momentum=0.9,\n",
    "        #),\n",
    "        #metrics=[keras.metrics.BinaryAccuracy(threshold=0)]\n",
    "        metrics=[custom_acc],\n",
    "    )\n",
    "    \n",
    "    # Wrapper around tf.keras.Model.train_step\n",
    "    # Used for compatibility with art.estimators.classification.TensorFlowV2Classifier\n",
    "    _sample_count = 0\n",
    "    art_pgd_attack = None # Forward declaration. Hacky...\n",
    "    def train_step(model, images, labels):\n",
    "        nonlocal _sample_count\n",
    "        nonlocal art_pgd_attack\n",
    "        \n",
    "        logs = model.train_step((images, labels))\n",
    "        \n",
    "        old_sample_count = _sample_count\n",
    "        _sample_count += images.shape[0]\n",
    "        \n",
    "        old_epoch = old_sample_count // DS_TRAIN.xs.shape[0]\n",
    "        cur_epoch = _sample_count // DS_TRAIN.xs.shape[0]\n",
    "        \n",
    "        if old_epoch < cur_epoch:\n",
    "            ExperimentCallback().on_epoch_end(epoch=old_epoch, logs=logs)\n",
    "            model.reset_metrics()\n",
    "            \n",
    "\n",
    "    art_model = TensorFlowV2Classifier(\n",
    "        model=model,\n",
    "        input_shape=DATA_SHAPE,\n",
    "        nb_classes=DS_TRAIN.num_classes,\n",
    "        clip_values=(0, 1),\n",
    "        loss_object=attack_loss,\n",
    "        train_step=train_step,\n",
    "    )\n",
    "    art_pgd_attack = ProjectedGradientDescent(\n",
    "        art_model,\n",
    "        norm=params.attack_norm,\n",
    "        eps=params.attack_eps,\n",
    "        eps_step=params.attack_eps_step,\n",
    "        max_iter=params.attack_iters,\n",
    "        batch_size=params.batch_size,\n",
    "        verbose=False,\n",
    "    )\n",
    "    \n",
    "    try: # Catch keyboard interrupt so we can exit training early\n",
    "        if params.use_pgd and params.adv_ratio > 0:\n",
    "            print(f\"PGD training with ratio {params.adv_ratio} ...\")\n",
    "            adv_trainer = AdversarialTrainer(\n",
    "                art_model,\n",
    "                attacks=art_pgd_attack,\n",
    "                ratio=params.adv_ratio,\n",
    "            )\n",
    "            adv_trainer.fit(\n",
    "                x=DS_TRAIN.xs, y=DS_TRAIN.ys,\n",
    "                batch_size=params.batch_size,\n",
    "                nb_epochs=params.train_epochs,\n",
    "            )\n",
    "        else:\n",
    "            if params.adv_ratio > 0:\n",
    "                print(f\"Rob. UB training with ratio {params.adv_ratio} ...\")\n",
    "            else:\n",
    "                print(f\"Natural training...\")\n",
    "\n",
    "            model.fit(\n",
    "                DS_TRAIN.xs,\n",
    "                DS_TRAIN.ys,\n",
    "                batch_size=params.batch_size,\n",
    "                epochs=params.train_epochs,\n",
    "                verbose=0,\n",
    "                callbacks=[ExperimentCallback()],\n",
    "            )\n",
    "    except KeyboardInterrupt:\n",
    "        pass\n",
    "\n",
    "    model.trainable = False\n",
    "    mlflow.keras.log_model(model, \"model\")\n",
    "    \n",
    "    xs_test_pgd = art_pgd_attack.generate(x=DS_TEST.xs, y=DS_TEST.ys)\n",
    "    mlflow_log_np(xs_test_pgd, \"xs_test_pgd\")\n",
    "    \n",
    "    test_nat_out = model.evaluate(DS_TEST.xs, DS_TEST.ys)\n",
    "    test_pgd_out = model.evaluate(xs_test_pgd, DS_TEST.ys)\n",
    "    \n",
    "    mlflow.log_metrics(out_to_dict(prefix=\"test_nat\", out=test_nat_out, model=model))\n",
    "    mlflow.log_metrics(out_to_dict(prefix=\"test_pgd\", out=test_pgd_out, model=model))\n",
    "    \n",
    "    preds_test_pgd = model.predict(x=xs_test_pgd, batch_size=params.batch_size)\n",
    "    mlflow_log_np(preds_test_pgd, \"preds_test_pgd\")\n",
    "    \n",
    "    mlflow_log_np(params.ds_test.xs.astype(np.float16), \"xs_test\")\n",
    "    mlflow_log_np(params.ds_test.ys, \"ys_test\")\n",
    "    \n",
    "    return dict(\n",
    "        model=model,\n",
    "        ds_test=params.ds_test,\n",
    "        xs_test_pgd=xs_test_pgd,\n",
    "        preds_test_pgd=preds_test_pgd,\n",
    "    )"
   ]
  },
  {
   "cell_type": "markdown",
   "id": "71bf3f57",
   "metadata": {},
   "source": [
    "# Run experiments"
   ]
  },
  {
   "cell_type": "markdown",
   "id": "697426f5",
   "metadata": {},
   "source": [
    "### RBF Nat. MNIST"
   ]
  },
  {
   "cell_type": "code",
   "execution_count": 12,
   "id": "d080cb0c",
   "metadata": {
    "tags": []
   },
   "outputs": [
    {
     "name": "stdout",
     "output_type": "stream",
     "text": [
      "delta(eps)=2.021270e-01\n",
      "Natural training...\n",
      "Epoch 0 finished; Evaling... {'loss': ' 0.4855', 'custom_acc': ' 0.7951'}\n",
      "Epoch 5 finished; Evaling... {'loss': ' 0.2718', 'custom_acc': ' 0.8982'}\n",
      "Epoch 10 finished; Evaling... {'loss': ' 0.2267', 'custom_acc': ' 0.9160'}\n",
      "Epoch 15 finished; Evaling... {'loss': ' 0.1924', 'custom_acc': ' 0.9315'}\n",
      "Epoch 20 finished; Evaling... {'loss': ' 0.1765', 'custom_acc': ' 0.9364'}\n",
      "Epoch 25 finished; Evaling... {'loss': ' 0.1576', 'custom_acc': ' 0.9449'}\n",
      "Epoch 30 finished; Evaling... {'loss': ' 0.1490', 'custom_acc': ' 0.9484'}\n",
      "Epoch 35 finished; Evaling... {'loss': ' 0.1440', 'custom_acc': ' 0.9506'}\n",
      "Epoch 40 finished; Evaling... {'loss': ' 0.1437', 'custom_acc': ' 0.9496'}\n",
      "Epoch 45 finished; Evaling... {'loss': ' 0.1340', 'custom_acc': ' 0.9537'}\n",
      "Epoch 50 finished; Evaling... {'loss': ' 0.1308', 'custom_acc': ' 0.9541'}\n",
      "Epoch 55 finished; Evaling... {'loss': ' 0.1215', 'custom_acc': ' 0.9581'}\n",
      "Epoch 60 finished; Evaling... {'loss': ' 0.1204', 'custom_acc': ' 0.9581'}\n",
      "Epoch 65 finished; Evaling... {'loss': ' 0.1131', 'custom_acc': ' 0.9613'}\n",
      "Epoch 70 finished; Evaling... {'loss': ' 0.1130', 'custom_acc': ' 0.9598'}\n",
      "INFO:tensorflow:Assets written to: /tmp/tmp8q17_xaz/model/data/model/assets\n"
     ]
    },
    {
     "name": "stderr",
     "output_type": "stream",
     "text": [
      "INFO:tensorflow:Assets written to: /tmp/tmp8q17_xaz/model/data/model/assets\n"
     ]
    },
    {
     "name": "stdout",
     "output_type": "stream",
     "text": [
      "313/313 [==============================] - 2s 7ms/step - loss: 0.1297 - custom_acc: 0.9517\n",
      "313/313 [==============================] - 2s 7ms/step - loss: 8.7379 - custom_acc: 0.0000e+00\n"
     ]
    }
   ],
   "source": [
    "EXP_PARAMS = ExperimentParams(\n",
    "    ds_train=MNIST_TRAIN,\n",
    "    ds_test=MNIST_TEST,\n",
    "    num_fourier_features=4096,\n",
    "    kernel_scale=np.sqrt(1 / 1.28e-03 / 2.0),\n",
    "    # 1 / (2 * (kernel_scale ** 2)) = gamma = 1.28e-03\n",
    "    kernel_type=\"gaussian\",\n",
    "    train_epochs=75,\n",
    "    adv_ratio=0,\n",
    "    use_pgd=False,\n",
    "    attack_norm=2,\n",
    "    attack_eps=2.0,\n",
    "    attack_eps_step=2.0/10,\n",
    "    attack_iters=20,\n",
    "    num_eval_per_epoch=512,  # How many samples to use during evaluation\n",
    "    batch_size=512,\n",
    "    learning_rate=3e-2,\n",
    "    seed=42,\n",
    ")\n",
    "\n",
    "with mlflow.start_run() as _:\n",
    "    res = run_experiment(EXP_PARAMS, print_every=5)"
   ]
  },
  {
   "cell_type": "code",
   "execution_count": 13,
   "id": "7ebbe0d3",
   "metadata": {
    "tags": []
   },
   "outputs": [
    {
     "name": "stdout",
     "output_type": "stream",
     "text": [
      "mx_pix_diff:  131.9822 / 255\n",
      "mx_l2_diff:  2.0000\n",
      "\n",
      "[0 0 0 1 1 1 0 1 0 0]\n"
     ]
    },
    {
     "data": {
      "image/png": "[encoded data removed]",
      "text/plain": [
       "<Figure size 432x288 with 10 Axes>"
      ]
     },
     "metadata": {
      "needs_background": "light"
     },
     "output_type": "display_data"
    },
    {
     "name": "stdout",
     "output_type": "stream",
     "text": [
      "[1 1 1 0 0 0 1 0 1 1]\n"
     ]
    },
    {
     "data": {
      "image/png": "[encoded data removed]",
      "text/plain": [
       "<Figure size 432x288 with 10 Axes>"
      ]
     },
     "metadata": {
      "needs_background": "light"
     },
     "output_type": "display_data"
    }
   ],
   "source": [
    "mx_pix_diff = np.abs(res[\"xs_test_pgd\"] - res[\"ds_test\"].xs).max() * 255\n",
    "print(f\"mx_pix_diff: {mx_pix_diff : .4f} / 255\")\n",
    "\n",
    "mx_l2_diff = np.linalg.norm(res[\"xs_test_pgd\"] - res[\"ds_test\"].xs, ord=2, axis=-1).max()\n",
    "print(f\"mx_l2_diff: {mx_l2_diff : .4f}\\n\")\n",
    "\n",
    "dataset.plot_images(res[\"ds_test\"], channels=1)\n",
    "\n",
    "dataset.plot_images(\n",
    "    dataset.Dataset(\n",
    "        xs=res[\"xs_test_pgd\"],\n",
    "        ys=(res[\"preds_test_pgd\"].flatten() >= 0).astype(int),\n",
    "        one_hot=False,\n",
    "        num_classes=10,\n",
    "    ), channels=1\n",
    ")"
   ]
  },
  {
   "cell_type": "markdown",
   "id": "e5c75482",
   "metadata": {},
   "source": [
    "### RBF Rob. MNIST"
   ]
  },
  {
   "cell_type": "code",
   "execution_count": 38,
   "id": "74ef39ee",
   "metadata": {
    "collapsed": true,
    "jupyter": {
     "outputs_hidden": true,
     "source_hidden": true
    },
    "tags": []
   },
   "outputs": [
    {
     "name": "stdout",
     "output_type": "stream",
     "text": [
      "delta(eps)=1.204223e+00\n",
      "PGD training with ratio 1 ...\n"
     ]
    },
    {
     "data": {
      "application/vnd.jupyter.widget-view+json": {
       "model_id": "564ac436c7534989983607384fe527ef",
       "version_major": 2,
       "version_minor": 0
      },
      "text/plain": [
       "Precompute adv samples:   0%|          | 0/1 [00:00<?, ?it/s]"
      ]
     },
     "metadata": {},
     "output_type": "display_data"
    },
    {
     "data": {
      "application/vnd.jupyter.widget-view+json": {
       "model_id": "f5bc0c9ba21d44fd96dbb6ea7fe32655",
       "version_major": 2,
       "version_minor": 0
      },
      "text/plain": [
       "Adversarial training epochs:   0%|          | 0/300 [00:00<?, ?it/s]"
      ]
     },
     "metadata": {},
     "output_type": "display_data"
    },
    {
     "name": "stdout",
     "output_type": "stream",
     "text": [
      "Epoch 0 finished; Evaling... {'loss': ' 1.0383', 'custom_acc': ' 0.3837'}\n",
      "{'sub_train_pgd_loss': ' 1.0091', 'sub_train_pgd_custom_acc': ' 0.5020'}\n",
      "{'sub_test_pgd_loss': ' 1.0103', 'sub_test_pgd_custom_acc': ' 0.5000'}\n",
      "Epoch 1 finished; Evaling... {'loss': ' 1.0039', 'custom_acc': ' 0.5102'}\n",
      "{'sub_train_pgd_loss': ' 0.9978', 'sub_train_pgd_custom_acc': ' 0.5176'}\n",
      "{'sub_test_pgd_loss': ' 0.9957', 'sub_test_pgd_custom_acc': ' 0.5215'}\n",
      "Epoch 2 finished; Evaling... {'loss': ' 1.0004', 'custom_acc': ' 0.5106'}\n",
      "{'sub_train_pgd_loss': ' 1.0195', 'sub_train_pgd_custom_acc': ' 0.4863'}\n",
      "{'sub_test_pgd_loss': ' 0.9827', 'sub_test_pgd_custom_acc': ' 0.5273'}\n",
      "Epoch 3 finished; Evaling... {'loss': ' 0.9971', 'custom_acc': ' 0.5094'}\n",
      "{'sub_train_pgd_loss': ' 0.9939', 'sub_train_pgd_custom_acc': ' 0.5117'}\n",
      "{'sub_test_pgd_loss': ' 0.9543', 'sub_test_pgd_custom_acc': ' 0.5449'}\n",
      "Epoch 4 finished; Evaling... {'loss': ' 0.9945', 'custom_acc': ' 0.5099'}\n",
      "{'sub_train_pgd_loss': ' 1.0493', 'sub_train_pgd_custom_acc': ' 0.4727'}\n",
      "{'sub_test_pgd_loss': ' 0.9850', 'sub_test_pgd_custom_acc': ' 0.5156'}\n",
      "Epoch 5 finished; Evaling... {'loss': ' 0.9921', 'custom_acc': ' 0.5103'}\n",
      "{'sub_train_pgd_loss': ' 0.9455', 'sub_train_pgd_custom_acc': ' 0.5352'}\n",
      "{'sub_test_pgd_loss': ' 0.9880', 'sub_test_pgd_custom_acc': ' 0.5117'}\n",
      "Epoch 6 finished; Evaling... {'loss': ' 0.9889', 'custom_acc': ' 0.5099'}\n",
      "{'sub_train_pgd_loss': ' 0.9465', 'sub_train_pgd_custom_acc': ' 0.5312'}\n",
      "{'sub_test_pgd_loss': ' 0.9546', 'sub_test_pgd_custom_acc': ' 0.5273'}\n",
      "Epoch 7 finished; Evaling... {'loss': ' 0.9885', 'custom_acc': ' 0.5104'}\n",
      "{'sub_train_pgd_loss': ' 0.9590', 'sub_train_pgd_custom_acc': ' 0.5254'}\n",
      "{'sub_test_pgd_loss': ' 1.0245', 'sub_test_pgd_custom_acc': ' 0.4922'}\n",
      "Epoch 8 finished; Evaling... {'loss': ' 0.9887', 'custom_acc': ' 0.5100'}\n",
      "{'sub_train_pgd_loss': ' 0.9654', 'sub_train_pgd_custom_acc': ' 0.5215'}\n",
      "{'sub_test_pgd_loss': ' 0.9044', 'sub_test_pgd_custom_acc': ' 0.5527'}\n",
      "Epoch 9 finished; Evaling... {'loss': ' 0.9889', 'custom_acc': ' 0.5104'}\n",
      "{'sub_train_pgd_loss': ' 0.9528', 'sub_train_pgd_custom_acc': ' 0.5293'}\n",
      "{'sub_test_pgd_loss': ' 0.9256', 'sub_test_pgd_custom_acc': ' 0.5430'}\n",
      "Epoch 10 finished; Evaling... {'loss': ' 0.9888', 'custom_acc': ' 0.5101'}\n",
      "{'sub_train_pgd_loss': ' 0.9397', 'sub_train_pgd_custom_acc': ' 0.5352'}\n",
      "{'sub_test_pgd_loss': ' 1.0129', 'sub_test_pgd_custom_acc': ' 0.4980'}\n",
      "INFO:tensorflow:Assets written to: /tmp/tmpk6s1kove/model/data/model/assets\n"
     ]
    },
    {
     "name": "stderr",
     "output_type": "stream",
     "text": [
      "INFO:tensorflow:Assets written to: /tmp/tmpk6s1kove/model/data/model/assets\n"
     ]
    },
    {
     "name": "stdout",
     "output_type": "stream",
     "text": [
      "313/313 [==============================] - 2s 7ms/step - loss: 0.9708 - custom_acc: 0.5140\n",
      "313/313 [==============================] - 2s 7ms/step - loss: 0.9801 - custom_acc: 0.5140\n"
     ]
    }
   ],
   "source": [
    "EXP_PARAMS = ExperimentParams(\n",
    "    ds_train=MNIST_TRAIN,#.prefix(32),\n",
    "    ds_test=MNIST_TEST,#.prefix(64),\n",
    "    num_fourier_features=4096,\n",
    "    kernel_scale=10,#np.sqrt(1 / 1.28e-03 / 2.0),\n",
    "    # 1 / (2 * (kernel_scale ** 2)) = gamma = 1.28e-03\n",
    "    kernel_type=\"laplacian\",\n",
    "    train_epochs=300,\n",
    "    adv_ratio=1,\n",
    "    use_pgd=True,\n",
    "    attack_norm=2,\n",
    "    attack_eps=2,\n",
    "    attack_eps_step=2/10,\n",
    "    attack_iters=20,\n",
    "    num_eval_per_epoch=512,  # How many samples to use during evaluation\n",
    "    batch_size=512,\n",
    "    learning_rate=3e-3,\n",
    "    seed=42,\n",
    ")\n",
    "\n",
    "with mlflow.start_run() as _:\n",
    "    res = run_experiment(EXP_PARAMS, print_every=1, verbose=True)"
   ]
  },
  {
   "cell_type": "markdown",
   "id": "223c7672",
   "metadata": {},
   "source": [
    "### Laplace Nat. MNIST"
   ]
  },
  {
   "cell_type": "code",
   "execution_count": 9,
   "id": "241c6b27",
   "metadata": {},
   "outputs": [
    {
     "name": "stdout",
     "output_type": "stream",
     "text": [
      "delta(eps)=1.430168e-01\n",
      "Natural training...\n",
      "Epoch 0 finished; Evaling... {'loss': ' 0.5029', 'custom_acc': ' 0.7875'}\n",
      "Epoch 5 finished; Evaling... {'loss': ' 0.2673', 'custom_acc': ' 0.8978'}\n",
      "Epoch 10 finished; Evaling... {'loss': ' 0.2434', 'custom_acc': ' 0.9073'}\n",
      "Epoch 15 finished; Evaling... {'loss': ' 0.2240', 'custom_acc': ' 0.9152'}\n",
      "Epoch 20 finished; Evaling... {'loss': ' 0.2131', 'custom_acc': ' 0.9193'}\n",
      "Epoch 25 finished; Evaling... {'loss': ' 0.2074', 'custom_acc': ' 0.9222'}\n",
      "Epoch 30 finished; Evaling... {'loss': ' 0.2011', 'custom_acc': ' 0.9231'}\n",
      "Epoch 35 finished; Evaling... {'loss': ' 0.1940', 'custom_acc': ' 0.9261'}\n",
      "Epoch 40 finished; Evaling... {'loss': ' 0.1894', 'custom_acc': ' 0.9284'}\n",
      "Epoch 45 finished; Evaling... {'loss': ' 0.1827', 'custom_acc': ' 0.9317'}\n",
      "Epoch 50 finished; Evaling... {'loss': ' 0.1869', 'custom_acc': ' 0.9288'}\n",
      "Epoch 55 finished; Evaling... {'loss': ' 0.1791', 'custom_acc': ' 0.9324'}\n",
      "Epoch 60 finished; Evaling... {'loss': ' 0.1770', 'custom_acc': ' 0.9331'}\n",
      "Epoch 65 finished; Evaling... {'loss': ' 0.1763', 'custom_acc': ' 0.9331'}\n",
      "Epoch 70 finished; Evaling... {'loss': ' 0.1717', 'custom_acc': ' 0.9350'}\n",
      "Epoch 75 finished; Evaling... {'loss': ' 0.1768', 'custom_acc': ' 0.9327'}\n",
      "Epoch 80 finished; Evaling... {'loss': ' 0.1721', 'custom_acc': ' 0.9353'}\n",
      "Epoch 85 finished; Evaling... {'loss': ' 0.1629', 'custom_acc': ' 0.9391'}\n",
      "INFO:tensorflow:Assets written to: /tmp/tmpcerfo1tn/model/data/model/assets\n"
     ]
    },
    {
     "name": "stderr",
     "output_type": "stream",
     "text": [
      "INFO:tensorflow:Assets written to: /tmp/tmpcerfo1tn/model/data/model/assets\n"
     ]
    },
    {
     "name": "stdout",
     "output_type": "stream",
     "text": [
      "313/313 [==============================] - 2s 7ms/step - loss: 0.1697 - custom_acc: 0.9344\n",
      "313/313 [==============================] - 2s 7ms/step - loss: 6.7186 - custom_acc: 0.0026\n"
     ]
    }
   ],
   "source": [
    "EXP_PARAMS = ExperimentParams(\n",
    "    ds_train=MNIST_TRAIN,\n",
    "    ds_test=MNIST_TEST,\n",
    "    num_fourier_features=4096,\n",
    "    kernel_scale=1 / 1.28e-03,\n",
    "    # 1 / kernel_scale = gamma = 1.28e-03\n",
    "    kernel_type=\"laplacian\",\n",
    "    train_epochs=90,\n",
    "    adv_ratio=0,\n",
    "    use_pgd=False,\n",
    "    attack_norm=2,\n",
    "    attack_eps=2.0,\n",
    "    attack_eps_step=2.0/10,\n",
    "    attack_iters=20,\n",
    "    num_eval_per_epoch=512,  # How many samples to use during evaluation\n",
    "    batch_size=512,\n",
    "    learning_rate=3e-2,\n",
    "    seed=42,\n",
    ")\n",
    "\n",
    "with mlflow.start_run() as _:\n",
    "    res = run_experiment(EXP_PARAMS, print_every=5)"
   ]
  },
  {
   "cell_type": "code",
   "execution_count": 10,
   "id": "92269b6f",
   "metadata": {},
   "outputs": [
    {
     "name": "stdout",
     "output_type": "stream",
     "text": [
      "mx_pix_diff:  255.0000 / 255\n",
      "mx_l2_diff:  1.5468\n",
      "\n",
      "[0 0 0 1 1 1 0 1 0 0]\n"
     ]
    },
    {
     "data": {
      "image/png": "[encoded data removed]",
      "text/plain": [
       "<Figure size 432x288 with 10 Axes>"
      ]
     },
     "metadata": {
      "needs_background": "light"
     },
     "output_type": "display_data"
    },
    {
     "name": "stdout",
     "output_type": "stream",
     "text": [
      "[1 1 1 0 0 0 1 0 1 1]\n"
     ]
    },
    {
     "data": {
      "image/png": "[encoded data removed]",
      "text/plain": [
       "<Figure size 432x288 with 10 Axes>"
      ]
     },
     "metadata": {
      "needs_background": "light"
     },
     "output_type": "display_data"
    }
   ],
   "source": [
    "mx_pix_diff = np.abs(res[\"xs_test_pgd\"] - res[\"ds_test\"].xs).max() * 255\n",
    "print(f\"mx_pix_diff: {mx_pix_diff : .4f} / 255\")\n",
    "\n",
    "mx_l2_diff = np.linalg.norm(res[\"xs_test_pgd\"] - res[\"ds_test\"].xs, ord=2, axis=-1).max()\n",
    "print(f\"mx_l2_diff: {mx_l2_diff : .4f}\\n\")\n",
    "\n",
    "dataset.plot_images(res[\"ds_test\"], channels=1)\n",
    "\n",
    "dataset.plot_images(\n",
    "    dataset.Dataset(\n",
    "        xs=res[\"xs_test_pgd\"],\n",
    "        ys=(res[\"preds_test_pgd\"].flatten() >= 0).astype(int),\n",
    "        one_hot=False,\n",
    "        num_classes=10,\n",
    "    ), channels=1\n",
    ")"
   ]
  }
 ],
 "metadata": {
  "kernelspec": {
   "display_name": "Python 3",
   "language": "python",
   "name": "python3"
  },
  "language_info": {
   "codemirror_mode": {
    "name": "ipython",
    "version": 3
   },
   "file_extension": ".py",
   "mimetype": "text/x-python",
   "name": "python",
   "nbconvert_exporter": "python",
   "pygments_lexer": "ipython3",
   "version": "3.8.8"
  }
 },
 "nbformat": 4,
 "nbformat_minor": 5
}
