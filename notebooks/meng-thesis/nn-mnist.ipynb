{
 "cells": [
  {
   "cell_type": "markdown",
   "id": "5c602d46",
   "metadata": {},
   "source": [
    "We benchmark against adversary with $\\epsilon=2$."
   ]
  },
  {
   "cell_type": "markdown",
   "id": "ba24d62a",
   "metadata": {},
   "source": [
    "Natural model from https://github.com/aaron-xichen/pytorch-playground"
   ]
  },
  {
   "cell_type": "markdown",
   "id": "acdc8e51",
   "metadata": {},
   "source": [
    "Robust model from https://github.com/jeromerony/fast_adversarial\n"
   ]
  },
  {
   "cell_type": "code",
   "execution_count": 1,
   "id": "f19b1be8",
   "metadata": {},
   "outputs": [],
   "source": [
    "!wget -q -O mnist/models/robust.pth https://www.dropbox.com/s/9onr3jfsuc3b4dh/mnist.pth"
   ]
  },
  {
   "cell_type": "markdown",
   "id": "5889754e",
   "metadata": {},
   "source": [
    "### Load libraries"
   ]
  },
  {
   "cell_type": "code",
   "execution_count": 1,
   "id": "f1ab8ba5",
   "metadata": {},
   "outputs": [],
   "source": [
    "import dataclasses\n",
    "from typing import Dict, List, Optional, Tuple, Union\n",
    "import warnings"
   ]
  },
  {
   "cell_type": "code",
   "execution_count": 2,
   "id": "76ab117c",
   "metadata": {},
   "outputs": [
    {
     "data": {
      "text/plain": [
       "['NVIDIA GeForce RTX 3080']"
      ]
     },
     "execution_count": 2,
     "metadata": {},
     "output_type": "execute_result"
    }
   ],
   "source": [
    "import matplotlib\n",
    "import matplotlib.pyplot as plt\n",
    "import seaborn as sns\n",
    "warnings.filterwarnings(\"ignore\", category=matplotlib.MatplotlibDeprecationWarning)\n",
    "\n",
    "import numpy as np\n",
    "import pandas as pd\n",
    "from tqdm.notebook import tqdm\n",
    "\n",
    "from art.estimators.classification import PyTorchClassifier\n",
    "from art.attacks.evasion import ProjectedGradientDescent\n",
    "\n",
    "import torch\n",
    "import torch.nn as nn\n",
    "\n",
    "[torch.cuda.get_device_name(a)\n",
    "    for a in range(torch.cuda.device_count())]"
   ]
  },
  {
   "cell_type": "code",
   "execution_count": 3,
   "id": "5b3ba475",
   "metadata": {},
   "outputs": [
    {
     "name": "stdout",
     "output_type": "stream",
     "text": [
      "INFO:tensorflow:Enabling eager execution\n",
      "INFO:tensorflow:Enabling v2 tensorshape\n",
      "INFO:tensorflow:Enabling resource variables\n",
      "INFO:tensorflow:Enabling tensor equality\n",
      "INFO:tensorflow:Enabling control flow v2\n"
     ]
    }
   ],
   "source": [
    "import sys\n",
    "sys.path.append(\"../..\")\n",
    "\n",
    "import mnist.nat_model\n",
    "import mnist.rob_model\n",
    "\n",
    "from adversarial_ntks import dataset"
   ]
  },
  {
   "cell_type": "markdown",
   "id": "98a28a8e",
   "metadata": {},
   "source": [
    "### Load data"
   ]
  },
  {
   "cell_type": "code",
   "execution_count": 4,
   "id": "5c501c09",
   "metadata": {},
   "outputs": [
    {
     "name": "stdout",
     "output_type": "stream",
     "text": [
      "(10000, 784) 0.0 1.0\n"
     ]
    }
   ],
   "source": [
    "MNIST_TEST = dataset.get_np_data(\n",
    "    name=\"mnist\", split=\"test\", agg_labels=((0,1,2,3,4),(5,6,7,8,9))\n",
    ")\n",
    "MNIST_TEST = MNIST_TEST.replace_xs(MNIST_TEST.xs.astype(np.float32))\n",
    "\n",
    "print(MNIST_TEST.xs.shape, MNIST_TEST.xs.min(), MNIST_TEST.xs.max())"
   ]
  },
  {
   "cell_type": "code",
   "execution_count": 5,
   "id": "3e7fc93f",
   "metadata": {},
   "outputs": [
    {
     "name": "stdout",
     "output_type": "stream",
     "text": [
      "[0 0 0 1 1 1 0 1 0 0]\n"
     ]
    },
    {
     "data": {
      "image/png": "[encoded data removed]",
      "text/plain": [
       "<Figure size 432x288 with 10 Axes>"
      ]
     },
     "metadata": {
      "needs_background": "light"
     },
     "output_type": "display_data"
    }
   ],
   "source": [
    "dataset.plot_images(MNIST_TEST, channels=1)"
   ]
  },
  {
   "cell_type": "markdown",
   "id": "6bb7cff7",
   "metadata": {},
   "source": [
    "### Load models"
   ]
  },
  {
   "cell_type": "code",
   "execution_count": 6,
   "id": "e29a0dc6",
   "metadata": {},
   "outputs": [],
   "source": [
    "class BinModel(nn.Module):\n",
    "    def __init__(self, model10: nn.Module):\n",
    "        super().__init__()\n",
    "        self.model10 = model10\n",
    "        \n",
    "    def forward(self, xs):\n",
    "        out10 = self.model10.forward(xs)\n",
    "        out2by5 = out10.view(-1, 2, 5)\n",
    "        out2 = torch.max(out2by5, dim=-1).values\n",
    "        return out2"
   ]
  },
  {
   "cell_type": "code",
   "execution_count": 7,
   "id": "5f163310",
   "metadata": {},
   "outputs": [
    {
     "data": {
      "text/plain": [
       "BinModel(\n",
       "  (model10): MLP(\n",
       "    (model): Sequential(\n",
       "      (fc1): Linear(in_features=784, out_features=256, bias=True)\n",
       "      (relu1): ReLU()\n",
       "      (drop1): Dropout(p=0.2, inplace=False)\n",
       "      (fc2): Linear(in_features=256, out_features=256, bias=True)\n",
       "      (relu2): ReLU()\n",
       "      (drop2): Dropout(p=0.2, inplace=False)\n",
       "      (out): Linear(in_features=256, out_features=10, bias=True)\n",
       "    )\n",
       "  )\n",
       ")"
      ]
     },
     "execution_count": 7,
     "metadata": {},
     "output_type": "execute_result"
    }
   ],
   "source": [
    "base_nat_model = mnist.nat_model.get_model(pretrained=True)\n",
    "nat_model = BinModel(base_nat_model)\n",
    "nat_model.eval();\n",
    "nat_model"
   ]
  },
  {
   "cell_type": "code",
   "execution_count": 8,
   "id": "2d1dbb60",
   "metadata": {},
   "outputs": [
    {
     "data": {
      "text/plain": [
       "BinModel(\n",
       "  (model10): SmallCNN(\n",
       "    (feature_extractor): Sequential(\n",
       "      (conv1): Conv2d(1, 32, kernel_size=(3, 3), stride=(1, 1))\n",
       "      (relu1): ReLU(inplace=True)\n",
       "      (conv2): Conv2d(32, 32, kernel_size=(3, 3), stride=(1, 1))\n",
       "      (relu2): ReLU(inplace=True)\n",
       "      (maxpool1): MaxPool2d(kernel_size=2, stride=2, padding=0, dilation=1, ceil_mode=False)\n",
       "      (conv3): Conv2d(32, 64, kernel_size=(3, 3), stride=(1, 1))\n",
       "      (relu3): ReLU(inplace=True)\n",
       "      (conv4): Conv2d(64, 64, kernel_size=(3, 3), stride=(1, 1))\n",
       "      (relu4): ReLU(inplace=True)\n",
       "      (maxpool2): MaxPool2d(kernel_size=2, stride=2, padding=0, dilation=1, ceil_mode=False)\n",
       "    )\n",
       "    (classifier): Sequential(\n",
       "      (fc1): Linear(in_features=1024, out_features=200, bias=True)\n",
       "      (relu1): ReLU(inplace=True)\n",
       "      (drop): Dropout(p=0.5, inplace=False)\n",
       "      (fc2): Linear(in_features=200, out_features=200, bias=True)\n",
       "      (relu2): ReLU(inplace=True)\n",
       "      (fc3): Linear(in_features=200, out_features=10, bias=True)\n",
       "    )\n",
       "  )\n",
       ")"
      ]
     },
     "execution_count": 8,
     "metadata": {},
     "output_type": "execute_result"
    }
   ],
   "source": [
    "base_rob_model = mnist.rob_model.get_model(model_path=\"mnist/models/robust.pth\")\n",
    "rob_model = BinModel(base_rob_model)\n",
    "rob_model.eval();\n",
    "rob_model"
   ]
  },
  {
   "cell_type": "markdown",
   "id": "14703a1c",
   "metadata": {},
   "source": [
    "### Experiment setup"
   ]
  },
  {
   "cell_type": "code",
   "execution_count": 22,
   "id": "7a4174e6",
   "metadata": {},
   "outputs": [],
   "source": [
    "def run_experiment(\n",
    "    bin_model: BinModel,\n",
    "    ds: dataset.Dataset,\n",
    "    attack_norm: Union[float, int],\n",
    "    attack_eps: float,\n",
    "    attack_eps_step: float,\n",
    "    attack_iters: int,\n",
    "    batch_size: int,\n",
    "    seed: int = 42\n",
    "):\n",
    "    \"\"\"\n",
    "    ART code derived from\n",
    "    1. https://github.com/Trusted-AI/adversarial-robustness-toolbox/blob/main/notebooks/adversarial_retraining.ipynb\n",
    "    2. https://github.com/Trusted-AI/adversarial-robustness-toolbox/issues/238\n",
    "    3. https://github.com/Trusted-AI/adversarial-robustness-toolbox/blob/main/examples/get_started_pytorch.py\n",
    "    \"\"\"\n",
    "    np.random.seed(seed)\n",
    "    torch.manual_seed(seed)\n",
    "    \n",
    "    bin_model.eval()\n",
    "    \n",
    "    art_model = PyTorchClassifier(\n",
    "        model=bin_model,\n",
    "        input_shape=ds.xs[0].shape,\n",
    "        nb_classes=ds.num_classes,\n",
    "        clip_values=(0, 1),\n",
    "        loss=nn.CrossEntropyLoss(),\n",
    "    )\n",
    "    art_pgd_attack = ProjectedGradientDescent(\n",
    "        art_model,\n",
    "        norm=attack_norm,\n",
    "        eps=attack_eps,\n",
    "        eps_step=attack_eps_step,\n",
    "        max_iter=attack_iters,\n",
    "        batch_size=batch_size,\n",
    "        verbose=True,\n",
    "    )\n",
    "    \n",
    "    preds_nat = art_model.predict(x=ds.xs)\n",
    "    acc_nat = np.mean(np.argmax(preds_nat, axis=-1) == ds.ys)\n",
    "    print(f\"Nat acc: {acc_nat:.4f}\")\n",
    "    \n",
    "    xs_pgd = art_pgd_attack.generate(x=ds.xs, y=ds.ys)\n",
    "    preds_pgd = art_model.predict(x=xs_pgd)\n",
    "    acc_pgd = np.mean(np.argmax(preds_pgd, axis=-1) == ds.ys)\n",
    "    print(f\"PGD acc: {acc_pgd:.4f}\")\n",
    "    \n",
    "    return dict(\n",
    "        acc_nat=acc_nat,\n",
    "        acc_pgd=acc_pgd,\n",
    "        xs_pgd=xs_pgd,\n",
    "        preds_pgd=preds_pgd,\n",
    "    )"
   ]
  },
  {
   "cell_type": "markdown",
   "id": "0ecd3421",
   "metadata": {},
   "source": [
    "# Run experiments"
   ]
  },
  {
   "cell_type": "markdown",
   "id": "82a38277",
   "metadata": {},
   "source": [
    "### Natural model"
   ]
  },
  {
   "cell_type": "code",
   "execution_count": 23,
   "id": "ce3a09ff",
   "metadata": {},
   "outputs": [
    {
     "name": "stdout",
     "output_type": "stream",
     "text": [
      "Nat acc: 0.9867\n"
     ]
    },
    {
     "data": {
      "application/vnd.jupyter.widget-view+json": {
       "model_id": "",
       "version_major": 2,
       "version_minor": 0
      },
      "text/plain": [
       "PGD - Batches:   0%|          | 0/20 [00:00<?, ?it/s]"
      ]
     },
     "metadata": {},
     "output_type": "display_data"
    },
    {
     "name": "stdout",
     "output_type": "stream",
     "text": [
      "PGD acc: 0.0669\n"
     ]
    }
   ],
   "source": [
    "NAT_RES_DICT = run_experiment(\n",
    "    bin_model=nat_model,\n",
    "    ds=MNIST_TEST,\n",
    "    attack_norm=2,\n",
    "    attack_eps=2.0,\n",
    "    attack_eps_step=2.0/10,\n",
    "    attack_iters=20,\n",
    "    batch_size=512,\n",
    "    seed=42,\n",
    ")"
   ]
  },
  {
   "cell_type": "code",
   "execution_count": 25,
   "id": "003c652d",
   "metadata": {},
   "outputs": [
    {
     "name": "stdout",
     "output_type": "stream",
     "text": [
      "Nat data\n",
      "[0 0 0 1 1 1 0 1 0 0]\n"
     ]
    },
    {
     "data": {
      "image/png": "[encoded data removed]",
      "text/plain": [
       "<Figure size 432x288 with 10 Axes>"
      ]
     },
     "metadata": {
      "needs_background": "light"
     },
     "output_type": "display_data"
    },
    {
     "name": "stdout",
     "output_type": "stream",
     "text": [
      "PGD data\n",
      "[0 0 0 1 1 1 0 1 0 0]\n"
     ]
    },
    {
     "data": {
      "image/png": "[encoded data removed]",
      "text/plain": [
       "<Figure size 432x288 with 10 Axes>"
      ]
     },
     "metadata": {
      "needs_background": "light"
     },
     "output_type": "display_data"
    },
    {
     "name": "stdout",
     "output_type": "stream",
     "text": [
      "PGD preds\n",
      "[1 0 1 0 0 0 0 0 1 1]\n"
     ]
    }
   ],
   "source": [
    "print(\"Nat data\")\n",
    "dataset.plot_images(MNIST_TEST, channels=1)\n",
    "\n",
    "print(\"PGD data\")\n",
    "dataset.plot_images(\n",
    "    dataset.Dataset(\n",
    "        xs=NAT_RES_DICT[\"xs_pgd\"],\n",
    "        ys=MNIST_TEST.ys,\n",
    "        one_hot=False,\n",
    "        num_classes=2,\n",
    "    ), channels=1\n",
    ")\n",
    "print(\"PGD preds\")\n",
    "print(NAT_RES_DICT[\"preds_pgd\"][:10].argmax(axis=-1))"
   ]
  },
  {
   "cell_type": "markdown",
   "id": "e4aab57d",
   "metadata": {},
   "source": [
    "### Robust model"
   ]
  },
  {
   "cell_type": "code",
   "execution_count": 19,
   "id": "29995ed2",
   "metadata": {},
   "outputs": [
    {
     "name": "stdout",
     "output_type": "stream",
     "text": [
      "Nat acc: 0.9928\n"
     ]
    },
    {
     "data": {
      "application/vnd.jupyter.widget-view+json": {
       "model_id": "",
       "version_major": 2,
       "version_minor": 0
      },
      "text/plain": [
       "PGD - Batches:   0%|          | 0/20 [00:00<?, ?it/s]"
      ]
     },
     "metadata": {},
     "output_type": "display_data"
    },
    {
     "name": "stdout",
     "output_type": "stream",
     "text": [
      "PGD acc: 0.8809\n"
     ]
    }
   ],
   "source": [
    "ROB_RES_DICT = run_experiment(\n",
    "    bin_model=rob_model,\n",
    "    ds=MNIST_TEST.replace_xs(MNIST_TEST.xs.reshape(-1, 1, 28, 28)),\n",
    "    attack_norm=2,\n",
    "    attack_eps=2.0,\n",
    "    attack_eps_step=2.0/10,\n",
    "    attack_iters=20,\n",
    "    batch_size=512,\n",
    "    seed=42,\n",
    ")"
   ]
  }
 ],
 "metadata": {
  "kernelspec": {
   "display_name": "Python 3",
   "language": "python",
   "name": "python3"
  },
  "language_info": {
   "codemirror_mode": {
    "name": "ipython",
    "version": 3
   },
   "file_extension": ".py",
   "mimetype": "text/x-python",
   "name": "python",
   "nbconvert_exporter": "python",
   "pygments_lexer": "ipython3",
   "version": "3.8.8"
  }
 },
 "nbformat": 4,
 "nbformat_minor": 5
}
