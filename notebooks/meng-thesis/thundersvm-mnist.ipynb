{
 "cells": [
  {
   "cell_type": "markdown",
   "id": "7c31798b",
   "metadata": {},
   "source": [
    "### Set up libraries"
   ]
  },
  {
   "cell_type": "code",
   "execution_count": 1,
   "id": "53006929",
   "metadata": {},
   "outputs": [],
   "source": [
    "import os\n",
    "os.environ[\"XLA_PYTHON_CLIENT_PREALLOCATE\"] = \"false\""
   ]
  },
  {
   "cell_type": "code",
   "execution_count": 2,
   "id": "e165065f",
   "metadata": {},
   "outputs": [
    {
     "data": {
      "text/plain": [
       "[GpuDevice(id=0, task=0)]"
      ]
     },
     "execution_count": 2,
     "metadata": {},
     "output_type": "execute_result"
    }
   ],
   "source": [
    "from typing import Dict, Tuple\n",
    "import warnings\n",
    "\n",
    "import matplotlib\n",
    "import matplotlib.pyplot as plt\n",
    "import seaborn as sns\n",
    "warnings.filterwarnings(\"ignore\", category=matplotlib.MatplotlibDeprecationWarning)\n",
    "\n",
    "import numpy as np\n",
    "import pandas as pd\n",
    "from tqdm.notebook import tqdm\n",
    "\n",
    "import thundersvm\n",
    "\n",
    "import jax\n",
    "import jax.numpy as jnp\n",
    "from jax.interpreters import xla\n",
    "jax.config.update(\"jax_enable_x64\", True)\n",
    "#jax.config.update(\"jax_platform_name\", \"cpu\")\n",
    "\n",
    "import neural_tangents as nt\n",
    "from neural_tangents import stax\n",
    "\n",
    "jnp.array([0]) # So warnings don't show up later\n",
    "jax.local_devices()"
   ]
  },
  {
   "cell_type": "code",
   "execution_count": 3,
   "id": "3907414b",
   "metadata": {},
   "outputs": [],
   "source": [
    "import sys\n",
    "sys.path.append(\"../..\")\n",
    "\n",
    "from adversarial_ntks import dataset, attacks, jthunder, kernel"
   ]
  },
  {
   "cell_type": "markdown",
   "id": "3fe26e5c",
   "metadata": {},
   "source": [
    "### Load Data"
   ]
  },
  {
   "cell_type": "code",
   "execution_count": 4,
   "id": "471c32ed",
   "metadata": {},
   "outputs": [
    {
     "name": "stdout",
     "output_type": "stream",
     "text": [
      "(60000, 784)\n",
      "(10000, 784)\n",
      "CPU times: user 12.3 s, sys: 14 s, total: 26.3 s\n",
      "Wall time: 5.2 s\n"
     ]
    }
   ],
   "source": [
    "%%time\n",
    "\n",
    "MNIST_TRAIN = dataset.get_np_data(\n",
    "    name=\"mnist\", split=\"train\", agg_labels=((0,1,2,3,4), (5,6,7,8,9)))\n",
    "MNIST_TEST = dataset.get_np_data(\n",
    "    name=\"mnist\", split=\"test\", agg_labels=((0,1,2,3,4), (5,6,7,8,9)))\n",
    "\n",
    "print(MNIST_TRAIN.xs.shape)\n",
    "print(MNIST_TEST.xs.shape)"
   ]
  },
  {
   "cell_type": "code",
   "execution_count": 6,
   "id": "f3519502",
   "metadata": {},
   "outputs": [
    {
     "name": "stdout",
     "output_type": "stream",
     "text": [
      "[0 0 0 1 1 0 0 1 0 1]\n"
     ]
    },
    {
     "data": {
      "image/png": "[encoded data removed]",
      "text/plain": [
       "<Figure size 432x288 with 10 Axes>"
      ]
     },
     "metadata": {
      "needs_background": "light"
     },
     "output_type": "display_data"
    },
    {
     "name": "stdout",
     "output_type": "stream",
     "text": [
      "[0 0 0 1 1 1 0 1 0 0]\n"
     ]
    },
    {
     "data": {
      "image/png": "[encoded data removed]",
      "text/plain": [
       "<Figure size 432x288 with 10 Axes>"
      ]
     },
     "metadata": {
      "needs_background": "light"
     },
     "output_type": "display_data"
    }
   ],
   "source": [
    "dataset.plot_images(MNIST_TRAIN, channels=1)\n",
    "dataset.plot_images(MNIST_TEST, channels=1)"
   ]
  },
  {
   "cell_type": "markdown",
   "id": "9327c670",
   "metadata": {},
   "source": [
    "### Utility code"
   ]
  },
  {
   "cell_type": "code",
   "execution_count": 7,
   "id": "73908770",
   "metadata": {},
   "outputs": [],
   "source": [
    "def avg_by_cls(xs, ys) -> Tuple[float, float]:\n",
    "    return (xs[ys == 0].mean(), xs[ys == 1].mean())\n",
    "\n",
    "def accs_by_cls(clf: thundersvm.SVC, ds: dataset.Dataset) -> Tuple[float, float]:\n",
    "    return avg_by_cls(clf.predict(ds.xs) == ds.ys, ds.ys)\n",
    "\n",
    "def fmt_accs(accs: Tuple) -> str:\n",
    "    return \"(\" + \", \".join(f\"{a:.4f}\" for a in accs) + \")\"\n",
    "\n",
    "def print_dict(d: Dict):\n",
    "    def fmt(v):\n",
    "            if isinstance(v, tuple):\n",
    "                return fmt_accs(v)\n",
    "            elif isinstance(v, float):\n",
    "                return f\"{v:.2e}\"\n",
    "            return v\n",
    "            \n",
    "    print({\n",
    "        k : fmt(v) for\n",
    "        k, v in d.items()\n",
    "        if not isinstance(v, np.ndarray)\n",
    "    })\n",
    "    \n",
    "def print_clf_info(clf: thundersvm.SVC):\n",
    "    print_dict(dict(\n",
    "        n_support=list(clf.n_support_),\n",
    "        b=clf.intercept_[0],\n",
    "        gam=clf._gamma,\n",
    "        coef0=clf.coef0,\n",
    "    ))"
   ]
  },
  {
   "cell_type": "code",
   "execution_count": 8,
   "id": "a3288fcb",
   "metadata": {},
   "outputs": [],
   "source": [
    "def eval_ds(\n",
    "    clf: thundersvm.SVC,\n",
    "    ds: dataset.Dataset,\n",
    "    attack_norm: int,\n",
    "    attack_eps: float,\n",
    "    pgd_step_size: float,\n",
    "    pgd_num_steps: int,\n",
    "    batch_size: int\n",
    ") -> Dict:\n",
    "    res_dict = dict()\n",
    "    \n",
    "    res_dict[\"accs_nat\"] = accs_by_cls(clf=clf, ds=ds)\n",
    "    res_dict[\"acc_nat\"] = sum(res_dict[\"accs_nat\"]) / 2\n",
    "    print(f\"accs_nat: {fmt_accs(res_dict['accs_nat'])}\")\n",
    "    print(f\"acc_nat: {res_dict['acc_nat']:.4f}\")\n",
    "    \n",
    "    clf_grad_fn = jthunder.get_grad_decision_function(clf)\n",
    "    \n",
    "    xs_pgd = attacks.pgd(\n",
    "        X=ds.xs, Y=ds.ys,\n",
    "        grad_func=clf_grad_fn,\n",
    "        eps=attack_eps, eps_norm=attack_norm,\n",
    "        step_size=pgd_step_size, step_norm=attack_norm,\n",
    "        num_steps=pgd_num_steps,\n",
    "        pixel_clip=True,\n",
    "        batch_size=batch_size,\n",
    "    )\n",
    "    res_dict[\"xs_pgd\"] = xs_pgd\n",
    "    \n",
    "    res_dict[\"preds_pgd\"] = clf.predict(xs_pgd)\n",
    "    res_dict[\"accs_pgd\"] = accs_by_cls(clf=clf, ds=ds.replace_xs(xs_pgd))\n",
    "    res_dict[\"acc_pgd\"] = sum(res_dict[\"accs_pgd\"]) / 2\n",
    "    print(f\"accs_pgd: {fmt_accs(res_dict['accs_pgd'])}\")\n",
    "    print(f\"acc_pgd: {res_dict['acc_pgd']:.4f}\")\n",
    "    \n",
    "    return res_dict"
   ]
  },
  {
   "cell_type": "markdown",
   "id": "2ad78de2",
   "metadata": {},
   "source": [
    "# Begin experiments"
   ]
  },
  {
   "cell_type": "code",
   "execution_count": 9,
   "id": "839c1b6d",
   "metadata": {},
   "outputs": [],
   "source": [
    "RESULTS = {}"
   ]
  },
  {
   "cell_type": "markdown",
   "id": "1d6823dd",
   "metadata": {},
   "source": [
    "### Linear kernel - MNIST"
   ]
  },
  {
   "cell_type": "code",
   "execution_count": 9,
   "id": "25101ba4",
   "metadata": {},
   "outputs": [
    {
     "name": "stdout",
     "output_type": "stream",
     "text": [
      "CPU times: user 58.7 s, sys: 0 ns, total: 58.7 s\n",
      "Wall time: 60 s\n"
     ]
    }
   ],
   "source": [
    "%%time\n",
    "clf = thundersvm.SVC(kernel=\"linear\", C=1e-1)\n",
    "clf.fit(MNIST_TRAIN.xs, MNIST_TRAIN.ys)\n",
    "\n",
    "RESULTS[\"linear\"] = dict(clf=clf)"
   ]
  },
  {
   "cell_type": "code",
   "execution_count": 11,
   "id": "80af9d82",
   "metadata": {},
   "outputs": [
    {
     "name": "stdout",
     "output_type": "stream",
     "text": [
      "{'n_support': [10127, 10125], 'b': '-9.37e-01', 'gam': '1.28e-03', 'coef0': '0.00e+00'}\n"
     ]
    }
   ],
   "source": [
    "print_clf_info(RESULTS[\"linear\"][\"clf\"])"
   ]
  },
  {
   "cell_type": "code",
   "execution_count": 12,
   "id": "1bb2fb22",
   "metadata": {},
   "outputs": [
    {
     "name": "stdout",
     "output_type": "stream",
     "text": [
      "accs_nat: (0.8809, 0.8805)\n",
      "acc_nat: 0.8807\n"
     ]
    },
    {
     "data": {
      "application/vnd.jupyter.widget-view+json": {
       "model_id": "6fccb014426a4a40922b9523db54ac4e",
       "version_major": 2,
       "version_minor": 0
      },
      "text/plain": [
       "  0%|          | 0/40 [00:00<?, ?it/s]"
      ]
     },
     "metadata": {},
     "output_type": "display_data"
    },
    {
     "name": "stdout",
     "output_type": "stream",
     "text": [
      "accs_pgd: (0.0000, 0.0012)\n",
      "acc_pgd: 0.0006\n",
      "CPU times: user 31.8 s, sys: 0 ns, total: 31.8 s\n",
      "Wall time: 31.5 s\n"
     ]
    }
   ],
   "source": [
    "%%time\n",
    "RESULTS[\"linear\"].update(eval_ds(\n",
    "    clf=RESULTS[\"linear\"][\"clf\"],\n",
    "    ds=MNIST_TEST,\n",
    "    attack_norm=2,\n",
    "    attack_eps=2,\n",
    "    pgd_step_size=2/10,\n",
    "    pgd_num_steps=20,\n",
    "    batch_size=256,\n",
    "))"
   ]
  },
  {
   "cell_type": "code",
   "execution_count": 13,
   "id": "3c066a3f",
   "metadata": {},
   "outputs": [
    {
     "name": "stdout",
     "output_type": "stream",
     "text": [
      "Nat data\n",
      "[0 0 0 1 1 1 0 1 0 0]\n"
     ]
    },
    {
     "data": {
      "image/png": "[encoded data removed]",
      "text/plain": [
       "<Figure size 432x288 with 10 Axes>"
      ]
     },
     "metadata": {
      "needs_background": "light"
     },
     "output_type": "display_data"
    },
    {
     "name": "stdout",
     "output_type": "stream",
     "text": [
      "PGD data\n",
      "[0 0 0 1 1 1 0 1 0 0]\n"
     ]
    },
    {
     "data": {
      "image/png": "[encoded data removed]",
      "text/plain": [
       "<Figure size 432x288 with 10 Axes>"
      ]
     },
     "metadata": {
      "needs_background": "light"
     },
     "output_type": "display_data"
    },
    {
     "name": "stdout",
     "output_type": "stream",
     "text": [
      "PGD preds\n",
      "[1 1 1 0 0 0 1 0 1 1]\n"
     ]
    }
   ],
   "source": [
    "print(\"Nat data\")\n",
    "dataset.plot_images(MNIST_TEST, channels=1)\n",
    "\n",
    "print(\"PGD data\")\n",
    "dataset.plot_images(\n",
    "    dataset.Dataset(\n",
    "        xs=RESULTS[\"linear\"][\"xs_pgd\"],\n",
    "        ys=MNIST_TEST.ys,\n",
    "        one_hot=False,\n",
    "        num_classes=2,\n",
    "    ), channels=1\n",
    ")\n",
    "print(\"PGD preds\")\n",
    "print(RESULTS[\"linear\"][\"preds_pgd\"][:10].astype(int))"
   ]
  },
  {
   "cell_type": "markdown",
   "id": "9ac1760d",
   "metadata": {},
   "source": [
    "### Poly kernel - MNIST"
   ]
  },
  {
   "cell_type": "code",
   "execution_count": 27,
   "id": "07fa7a5e",
   "metadata": {},
   "outputs": [
    {
     "name": "stdout",
     "output_type": "stream",
     "text": [
      "CPU times: user 36.7 s, sys: 218 ms, total: 36.9 s\n",
      "Wall time: 37.6 s\n"
     ]
    }
   ],
   "source": [
    "%%time\n",
    "clf = thundersvm.SVC(kernel=\"polynomial\", degree=2, C=1000)\n",
    "clf.fit(MNIST_TRAIN.xs, MNIST_TRAIN.ys)\n",
    "\n",
    "RESULTS[\"poly\"] = dict(clf=clf)"
   ]
  },
  {
   "cell_type": "code",
   "execution_count": 28,
   "id": "8c59a051",
   "metadata": {},
   "outputs": [
    {
     "name": "stdout",
     "output_type": "stream",
     "text": [
      "{'n_support': [2873, 2929], 'b': '-6.32e-02', 'gam': '1.28e-03', 'coef0': '0.00e+00'}\n"
     ]
    }
   ],
   "source": [
    "print_clf_info(RESULTS[\"poly\"][\"clf\"])"
   ]
  },
  {
   "cell_type": "code",
   "execution_count": 29,
   "id": "432f18b6",
   "metadata": {},
   "outputs": [
    {
     "name": "stdout",
     "output_type": "stream",
     "text": [
      "accs_nat: (0.9786, 0.9735)\n",
      "acc_nat: 0.9760\n"
     ]
    },
    {
     "data": {
      "application/vnd.jupyter.widget-view+json": {
       "model_id": "eea3756d62ef46608a318bad89e3e975",
       "version_major": 2,
       "version_minor": 0
      },
      "text/plain": [
       "  0%|          | 0/40 [00:00<?, ?it/s]"
      ]
     },
     "metadata": {},
     "output_type": "display_data"
    },
    {
     "name": "stdout",
     "output_type": "stream",
     "text": [
      "accs_pgd: (0.0008, 0.0045)\n",
      "acc_pgd: 0.0027\n",
      "CPU times: user 17.6 s, sys: 1.6 s, total: 19.2 s\n",
      "Wall time: 18.9 s\n"
     ]
    }
   ],
   "source": [
    "%%time\n",
    "RESULTS[\"poly\"].update(eval_ds(\n",
    "    clf=RESULTS[\"poly\"][\"clf\"],\n",
    "    ds=MNIST_TEST,\n",
    "    attack_norm=2,\n",
    "    attack_eps=2,\n",
    "    pgd_step_size=2/10,\n",
    "    pgd_num_steps=20,\n",
    "    batch_size=256,\n",
    "))"
   ]
  },
  {
   "cell_type": "code",
   "execution_count": 31,
   "id": "5d2034f4",
   "metadata": {},
   "outputs": [
    {
     "name": "stdout",
     "output_type": "stream",
     "text": [
      "Nat data\n",
      "[0 0 0 1 1 1 0 1 0 0]\n"
     ]
    },
    {
     "data": {
      "image/png": "[encoded data removed]",
      "text/plain": [
       "<Figure size 432x288 with 10 Axes>"
      ]
     },
     "metadata": {
      "needs_background": "light"
     },
     "output_type": "display_data"
    },
    {
     "name": "stdout",
     "output_type": "stream",
     "text": [
      "PGD data\n",
      "[0 0 0 1 1 1 0 1 0 0]\n"
     ]
    },
    {
     "data": {
      "image/png": "[encoded data removed]",
      "text/plain": [
       "<Figure size 432x288 with 10 Axes>"
      ]
     },
     "metadata": {
      "needs_background": "light"
     },
     "output_type": "display_data"
    },
    {
     "name": "stdout",
     "output_type": "stream",
     "text": [
      "PGD preds\n",
      "[1 1 1 0 0 0 1 0 1 1]\n"
     ]
    }
   ],
   "source": [
    "print(\"Nat data\")\n",
    "dataset.plot_images(MNIST_TEST, channels=1)\n",
    "\n",
    "print(\"PGD data\")\n",
    "dataset.plot_images(\n",
    "    dataset.Dataset(\n",
    "        xs=RESULTS[\"poly\"][\"xs_pgd\"],\n",
    "        ys=MNIST_TEST.ys,\n",
    "        one_hot=False,\n",
    "        num_classes=2,\n",
    "    ), channels=1\n",
    ")\n",
    "print(\"PGD preds\")\n",
    "print(RESULTS[\"poly\"][\"preds_pgd\"][:10].astype(int))"
   ]
  },
  {
   "cell_type": "markdown",
   "id": "1409f1a7",
   "metadata": {},
   "source": [
    "### RBF kernel - MNIST"
   ]
  },
  {
   "cell_type": "code",
   "execution_count": 16,
   "id": "ebb2f844",
   "metadata": {},
   "outputs": [
    {
     "name": "stdout",
     "output_type": "stream",
     "text": [
      "CPU times: user 2min 32s, sys: 0 ns, total: 2min 32s\n",
      "Wall time: 2min 36s\n"
     ]
    }
   ],
   "source": [
    "%%time\n",
    "clf = thundersvm.SVC(kernel=\"rbf\", C=1000)\n",
    "clf.fit(MNIST_TRAIN.xs, MNIST_TRAIN.ys)\n",
    "\n",
    "RESULTS[\"rbf\"] = dict(clf=clf)"
   ]
  },
  {
   "cell_type": "code",
   "execution_count": 18,
   "id": "c67b5f9f",
   "metadata": {},
   "outputs": [
    {
     "name": "stdout",
     "output_type": "stream",
     "text": [
      "{'n_support': [2665, 2854], 'b': '-3.00e+01', 'gam': '1.28e-03', 'coef0': '0.00e+00'}\n"
     ]
    }
   ],
   "source": [
    "print_clf_info(RESULTS[\"rbf\"][\"clf\"])"
   ]
  },
  {
   "cell_type": "code",
   "execution_count": 19,
   "id": "8fea5c22",
   "metadata": {},
   "outputs": [
    {
     "name": "stdout",
     "output_type": "stream",
     "text": [
      "accs_nat: (0.9792, 0.9753)\n",
      "acc_nat: 0.9772\n"
     ]
    },
    {
     "data": {
      "application/vnd.jupyter.widget-view+json": {
       "model_id": "da3a43f11f2f4995a35b882fe5cb979e",
       "version_major": 2,
       "version_minor": 0
      },
      "text/plain": [
       "  0%|          | 0/40 [00:00<?, ?it/s]"
      ]
     },
     "metadata": {},
     "output_type": "display_data"
    },
    {
     "name": "stdout",
     "output_type": "stream",
     "text": [
      "accs_pgd: (0.0000, 0.0000)\n",
      "acc_pgd: 0.0000\n",
      "CPU times: user 1min 1s, sys: 0 ns, total: 1min 1s\n",
      "Wall time: 1min\n"
     ]
    }
   ],
   "source": [
    "%%time\n",
    "RESULTS[\"rbf\"].update(eval_ds(\n",
    "    clf=RESULTS[\"rbf\"][\"clf\"],\n",
    "    ds=MNIST_TEST,\n",
    "    attack_norm=2,\n",
    "    attack_eps=2,\n",
    "    pgd_step_size=2/10,\n",
    "    pgd_num_steps=20,\n",
    "    batch_size=256,\n",
    "))"
   ]
  },
  {
   "cell_type": "code",
   "execution_count": 20,
   "id": "4bb3630a",
   "metadata": {},
   "outputs": [
    {
     "name": "stdout",
     "output_type": "stream",
     "text": [
      "Nat data\n",
      "[0 0 0 1 1 1 0 1 0 0]\n"
     ]
    },
    {
     "data": {
      "image/png": "[encoded data removed]",
      "text/plain": [
       "<Figure size 432x288 with 10 Axes>"
      ]
     },
     "metadata": {
      "needs_background": "light"
     },
     "output_type": "display_data"
    },
    {
     "name": "stdout",
     "output_type": "stream",
     "text": [
      "PGD data\n",
      "[0 0 0 1 1 1 0 1 0 0]\n"
     ]
    },
    {
     "data": {
      "image/png": "[encoded data removed]",
      "text/plain": [
       "<Figure size 432x288 with 10 Axes>"
      ]
     },
     "metadata": {
      "needs_background": "light"
     },
     "output_type": "display_data"
    },
    {
     "name": "stdout",
     "output_type": "stream",
     "text": [
      "PGD preds\n",
      "[1 1 1 0 0 0 1 0 1 1]\n"
     ]
    }
   ],
   "source": [
    "print(\"Nat data\")\n",
    "dataset.plot_images(MNIST_TEST, channels=1)\n",
    "\n",
    "print(\"PGD data\")\n",
    "dataset.plot_images(\n",
    "    dataset.Dataset(\n",
    "        xs=RESULTS[\"rbf\"][\"xs_pgd\"],\n",
    "        ys=MNIST_TEST.ys,\n",
    "        one_hot=False,\n",
    "        num_classes=2,\n",
    "    ), channels=1\n",
    ")\n",
    "print(\"PGD preds\")\n",
    "print(RESULTS[\"rbf\"][\"preds_pgd\"][:10].astype(int))"
   ]
  }
 ],
 "metadata": {
  "kernelspec": {
   "display_name": "Python 3",
   "language": "python",
   "name": "python3"
  },
  "language_info": {
   "codemirror_mode": {
    "name": "ipython",
    "version": 3
   },
   "file_extension": ".py",
   "mimetype": "text/x-python",
   "name": "python",
   "nbconvert_exporter": "python",
   "pygments_lexer": "ipython3",
   "version": "3.8.8"
  }
 },
 "nbformat": 4,
 "nbformat_minor": 5
}
