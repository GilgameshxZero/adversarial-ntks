{
  "nbformat": 4,
  "nbformat_minor": 0,
  "metadata": {
    "colab": {
      "name": "kernels-svm-0",
      "provenance": [],
      "collapsed_sections": [],
      "include_colab_link": true
    },
    "kernelspec": {
      "name": "python3",
      "display_name": "Python 3"
    }
  },
  "cells": [
    {
      "cell_type": "markdown",
      "metadata": {
        "id": "view-in-github",
        "colab_type": "text"
      },
      "source": [
        "<a href=\"https://colab.research.google.com/github/GilgameshxZero/adversarial-ntks/blob/master/notebooks/kernels_svm_0.ipynb\" target=\"_parent\"><img src=\"https://colab.research.google.com/assets/colab-badge.svg\" alt=\"Open In Colab\"/></a>"
      ]
    },
    {
      "cell_type": "code",
      "metadata": {
        "id": "YGNJ2CszteB6",
        "colab": {
          "base_uri": "https://localhost:8080/"
        },
        "outputId": "9f86b759-2ec1-41f5-b5c6-86b355d9a7ee"
      },
      "source": [
        "!pip install mnist\n",
        "!pip install jax jaxlib --upgrade"
      ],
      "execution_count": null,
      "outputs": [
        {
          "output_type": "stream",
          "text": [
            "Requirement already satisfied: mnist in /usr/local/lib/python3.6/dist-packages (0.2.2)\n",
            "Requirement already satisfied: numpy in /usr/local/lib/python3.6/dist-packages (from mnist) (1.18.5)\n",
            "Requirement already up-to-date: jax in /usr/local/lib/python3.6/dist-packages (0.2.5)\n",
            "Requirement already up-to-date: jaxlib in /usr/local/lib/python3.6/dist-packages (0.1.56+cuda101)\n",
            "Requirement already satisfied, skipping upgrade: absl-py in /usr/local/lib/python3.6/dist-packages (from jax) (0.10.0)\n",
            "Requirement already satisfied, skipping upgrade: opt-einsum in /usr/local/lib/python3.6/dist-packages (from jax) (3.3.0)\n",
            "Requirement already satisfied, skipping upgrade: numpy>=1.12 in /usr/local/lib/python3.6/dist-packages (from jax) (1.18.5)\n",
            "Requirement already satisfied, skipping upgrade: scipy in /usr/local/lib/python3.6/dist-packages (from jaxlib) (1.4.1)\n",
            "Requirement already satisfied, skipping upgrade: six in /usr/local/lib/python3.6/dist-packages (from absl-py->jax) (1.15.0)\n"
          ],
          "name": "stdout"
        }
      ]
    },
    {
      "cell_type": "code",
      "metadata": {
        "id": "L-z_JJCQth3N"
      },
      "source": [
        "import pathlib\n",
        "import random\n",
        "import pandas as pd\n",
        "import matplotlib.pyplot as plt\n",
        "import mnist\n",
        "import sklearn\n",
        "from sklearn import svm\n",
        "import jax.numpy as jnp\n",
        "import functools\n",
        "import copy\n",
        "import numpy as np\n",
        "import requests\n",
        "import pickle\n",
        "\n",
        "from scipy.ndimage import interpolation\n",
        "from jax import random\n",
        "from jax.experimental import optimizers, stax\n",
        "from jax.api import jit, grad, vmap"
      ],
      "execution_count": null,
      "outputs": []
    },
    {
      "cell_type": "code",
      "metadata": {
        "id": "rBHppD_E4aXj"
      },
      "source": [
        "TMP_DIR = \"./tmp/\"\n",
        "MN_TRAIN_SPLIT = 1000\n",
        "MN_TEST_SPLIT = 200\n",
        "SAMPLE_IDX = 0\n",
        "CF10_SPLIT = 80000\n",
        "CF10_TRAIN_SPLIT = 1000\n",
        "CF10_TEST_SPLIT = 200"
      ],
      "execution_count": null,
      "outputs": []
    },
    {
      "cell_type": "code",
      "metadata": {
        "id": "VQc-lo5YtiD3"
      },
      "source": [
        "pathlib.Path(TMP_DIR).mkdir(parents=True, exist_ok=True)\n",
        "mnd = {}\n",
        "\n",
        "mnd[\"train_x\"] = mnist.download_and_parse_mnist_file(\n",
        "  \"train-images-idx3-ubyte.gz\",\n",
        "  target_dir=TMP_DIR\n",
        ")\n",
        "mnd[\"train_y\"] = mnist.download_and_parse_mnist_file(\n",
        "  \"train-labels-idx1-ubyte.gz\",\n",
        "  target_dir=TMP_DIR\n",
        ")\n",
        "mnd[\"test_x\"] = mnist.download_and_parse_mnist_file(\n",
        "  \"t10k-images-idx3-ubyte.gz\",\n",
        "  target_dir=TMP_DIR\n",
        ")\n",
        "mnd[\"test_y\"] = mnist.download_and_parse_mnist_file(\n",
        "  \"t10k-labels-idx1-ubyte.gz\",\n",
        "  target_dir=TMP_DIR\n",
        ")"
      ],
      "execution_count": null,
      "outputs": []
    },
    {
      "cell_type": "code",
      "metadata": {
        "id": "3SPgXhXYti3K",
        "colab": {
          "base_uri": "https://localhost:8080/",
          "height": 352
        },
        "outputId": "c3469c43-aeee-4286-e6c3-0d392f8cb754"
      },
      "source": [
        "def prep_data(data):\n",
        "  data[\"orig_dim\"] = data[\"train_x\"].shape[1]\n",
        "\n",
        "  data[\"train_x\"] = data[\"train_x\"].reshape((data[\"train_x\"].shape[0], -1))\n",
        "  data[\"test_x\"] = data[\"test_x\"].reshape((data[\"test_x\"].shape[0], -1))\n",
        "  print(\"train_x.shape:\", data[\"train_x\"].shape)\n",
        "  print(\"train_y.shape:\", data[\"train_y\"].shape)\n",
        "  print(\"test_x.shape:\", data[\"test_x\"].shape)\n",
        "  print(\"test_y.shape:\", data[\"test_y\"].shape)\n",
        "\n",
        "  print(\"train_x[{}] is {}.\".format(SAMPLE_IDX, data[\"train_y\"][SAMPLE_IDX]))\n",
        "  plt.imshow(data[\"train_x\"][SAMPLE_IDX].reshape((data[\"orig_dim\"], -1)))\n",
        "  plt.show()\n",
        "prep_data(mnd)"
      ],
      "execution_count": null,
      "outputs": [
        {
          "output_type": "stream",
          "text": [
            "train_x.shape: (60000, 784)\n",
            "train_y.shape: (60000,)\n",
            "test_x.shape: (10000, 784)\n",
            "test_y.shape: (10000,)\n",
            "train_x[0] is 5.\n"
          ],
          "name": "stdout"
        },
        {
          "output_type": "display_data",
          "data": {
            "image/png": "[encoded data removed]",
            "text/plain": [
              "<Figure size 432x288 with 1 Axes>"
            ]
          },
          "metadata": {
            "tags": [],
            "needs_background": "light"
          }
        }
      ]
    },
    {
      "cell_type": "code",
      "metadata": {
        "id": "tRhDBL3RuqeD",
        "colab": {
          "base_uri": "https://localhost:8080/"
        },
        "outputId": "b53d5834-5ac3-4405-a5f2-2843d5d799b5"
      },
      "source": [
        "clf_rbf = svm.SVC(verbose=True)\n",
        "clf_rbf.fit(mnd[\"train_x\"][:MN_TRAIN_SPLIT], mnd[\"train_y\"][:MN_TRAIN_SPLIT])"
      ],
      "execution_count": null,
      "outputs": [
        {
          "output_type": "stream",
          "text": [
            "[LibSVM]"
          ],
          "name": "stdout"
        },
        {
          "output_type": "execute_result",
          "data": {
            "text/plain": [
              "SVC(C=1.0, break_ties=False, cache_size=200, class_weight=None, coef0=0.0,\n",
              "    decision_function_shape='ovr', degree=3, gamma='scale', kernel='rbf',\n",
              "    max_iter=-1, probability=False, random_state=None, shrinking=True,\n",
              "    tol=0.001, verbose=True)"
            ]
          },
          "metadata": {
            "tags": []
          },
          "execution_count": 6
        }
      ]
    },
    {
      "cell_type": "code",
      "metadata": {
        "id": "asozyU55vGdl",
        "colab": {
          "base_uri": "https://localhost:8080/",
          "height": 300
        },
        "outputId": "7904f75c-e12e-4b2a-9569-0e85d5967218"
      },
      "source": [
        "def clf_data_pred(clf, data, idx):\n",
        "  return clf.predict([data[\"test_x\"][idx]])[0]\n",
        "\n",
        "def clf_data_pred_plot(clf, data, idx):\n",
        "  pred = clf_data_pred(clf, data, idx)\n",
        "  print(\"Truth//pred: {}//{}\".format(data[\"test_y\"][idx], pred))\n",
        "  plt.imshow(data[\"test_x\"][idx].reshape((28, -1)))\n",
        "  plt.show()\n",
        "\n",
        "def clf_data_acc(clf, data, test_split):\n",
        "  return np.count_nonzero(\n",
        "    data[\"test_y\"][:test_split] == clf.predict(data[\"test_x\"][:test_split])) / \\\n",
        "    len(data[\"test_x\"][:test_split])\n",
        "\n",
        "clf_data_pred_plot(clf_rbf, mnd, 0)\n",
        "print(\"rbf test error: {}\".format(1 - clf_data_acc(clf_rbf, mnd, MN_TEST_SPLIT)))"
      ],
      "execution_count": null,
      "outputs": [
        {
          "output_type": "stream",
          "text": [
            "Truth//pred: 7//7\n"
          ],
          "name": "stdout"
        },
        {
          "output_type": "display_data",
          "data": {
            "image/png": "[encoded data removed]",
            "text/plain": [
              "<Figure size 432x288 with 1 Axes>"
            ]
          },
          "metadata": {
            "tags": [],
            "needs_background": "light"
          }
        },
        {
          "output_type": "stream",
          "text": [
            "rbf test error: 0.06999999999999995\n"
          ],
          "name": "stdout"
        }
      ]
    },
    {
      "cell_type": "code",
      "metadata": {
        "id": "d_fibn4kwSDg",
        "colab": {
          "base_uri": "https://localhost:8080/"
        },
        "outputId": "dbbba4ba-4e61-4093-ba3f-e8c7344308e7"
      },
      "source": [
        "clf_poly_4 = svm.SVC(verbose=True, kernel=\"poly\", degree=4)\n",
        "print(clf_poly_4.fit(mnd[\"train_x\"][:MN_TRAIN_SPLIT], mnd[\"train_y\"][:MN_TRAIN_SPLIT]))\n",
        "print(\"poly_4 test error: {}\".format(1 - clf_data_acc(clf_poly_4, mnd, MN_TEST_SPLIT)))"
      ],
      "execution_count": null,
      "outputs": [
        {
          "output_type": "stream",
          "text": [
            "[LibSVM]SVC(C=1.0, break_ties=False, cache_size=200, class_weight=None, coef0=0.0,\n",
            "    decision_function_shape='ovr', degree=4, gamma='scale', kernel='poly',\n",
            "    max_iter=-1, probability=False, random_state=None, shrinking=True,\n",
            "    tol=0.001, verbose=True)\n",
            "poly_4 test error: 0.20499999999999996\n"
          ],
          "name": "stdout"
        }
      ]
    },
    {
      "cell_type": "code",
      "metadata": {
        "id": "jKHpwTxG0YYI",
        "colab": {
          "base_uri": "https://localhost:8080/",
          "height": 565
        },
        "outputId": "d3fbb6ef-6cbd-40ea-fa60-22e720f79814"
      },
      "source": [
        "def img_moments(image):\n",
        "  c0,c1 = np.mgrid[:image.shape[0],:image.shape[1]] # A trick in numPy to create a mesh grid\n",
        "  totalImage = np.sum(image) #sum of pixels\n",
        "  m0 = np.sum(c0*image)/totalImage #mu_x\n",
        "  m1 = np.sum(c1*image)/totalImage #mu_y\n",
        "  m00 = np.sum((c0-m0)**2*image)/totalImage #var(x)\n",
        "  m11 = np.sum((c1-m1)**2*image)/totalImage #var(y)\n",
        "  m01 = np.sum((c0-m0)*(c1-m1)*image)/totalImage #covariance(x,y)\n",
        "  mu_vector = np.array([m0,m1]) # Notice that these are \\mu_x, \\mu_y respectively\n",
        "  covariance_matrix = np.array([[m00,m01],[m01,m11]]) # Do you see a similarity between the covariance matrix\n",
        "  return mu_vector, covariance_matrix\n",
        "\n",
        "def deskew_img(image):\n",
        "  c,v = img_moments(image)\n",
        "  alpha = v[0,1]/v[0,0]\n",
        "  affine = np.array([[1,0],[alpha,1]])\n",
        "  ocenter = np.array(image.shape)/2.0\n",
        "  offset = c-np.dot(affine,ocenter)\n",
        "  img = interpolation.affine_transform(image,affine,offset=offset)\n",
        "  return (img - img.min()) / (img.max() - img.min())\n",
        "\n",
        "def deskew_data(data):\n",
        "  ds = copy.deepcopy(data)\n",
        "  ds[\"train_x\"] = [deskew_img(img.reshape((ds[\"orig_dim\"], -1))).reshape((-1,))\n",
        "    for img in ds[\"train_x\"]]\n",
        "  ds[\"test_x\"] = [deskew_img(img.reshape((ds[\"orig_dim\"], -1))).reshape((-1,))\n",
        "    for img in ds[\"test_x\"]]\n",
        "\n",
        "  print(\"train_x[{}] is {}.\".format(SAMPLE_IDX, data[\"train_y\"][SAMPLE_IDX]))\n",
        "  print(\"Original:\")\n",
        "  plt.imshow(data[\"train_x\"][SAMPLE_IDX].reshape((data[\"orig_dim\"], -1)))\n",
        "  plt.show()\n",
        "  print(\"Deskewed:\")\n",
        "  plt.imshow(ds[\"train_x\"][SAMPLE_IDX].reshape((ds[\"orig_dim\"], -1)))\n",
        "  plt.show()\n",
        "  return ds\n",
        "\n",
        "mndds = deskew_data(mnd)"
      ],
      "execution_count": null,
      "outputs": [
        {
          "output_type": "stream",
          "text": [
            "train_x[0] is 5.\n",
            "Original:\n"
          ],
          "name": "stdout"
        },
        {
          "output_type": "display_data",
          "data": {
            "image/png": "[encoded data removed]",
            "text/plain": [
              "<Figure size 432x288 with 1 Axes>"
            ]
          },
          "metadata": {
            "tags": [],
            "needs_background": "light"
          }
        },
        {
          "output_type": "stream",
          "text": [
            "Deskewed:\n"
          ],
          "name": "stdout"
        },
        {
          "output_type": "display_data",
          "data": {
            "image/png": "[encoded data removed]",
            "text/plain": [
              "<Figure size 432x288 with 1 Axes>"
            ]
          },
          "metadata": {
            "tags": [],
            "needs_background": "light"
          }
        }
      ]
    },
    {
      "cell_type": "code",
      "metadata": {
        "id": "qIol_Fcj16Mx",
        "colab": {
          "base_uri": "https://localhost:8080/"
        },
        "outputId": "726a1ca5-6185-4091-ff36-c777a9d7dce7"
      },
      "source": [
        "clf_poly_4_ds = svm.SVC(verbose=True, kernel=\"poly\", degree=4)\n",
        "print(clf_poly_4_ds.fit(mndds[\"train_x\"][:MN_TRAIN_SPLIT], mndds[\"train_y\"][:MN_TRAIN_SPLIT]))\n",
        "print(\"poly_4_ds test error: {}\".format(1 - clf_data_acc(clf_poly_4_ds, mndds, MN_TEST_SPLIT)))"
      ],
      "execution_count": null,
      "outputs": [
        {
          "output_type": "stream",
          "text": [
            "[LibSVM]SVC(C=1.0, break_ties=False, cache_size=200, class_weight=None, coef0=0.0,\n",
            "    decision_function_shape='ovr', degree=4, gamma='scale', kernel='poly',\n",
            "    max_iter=-1, probability=False, random_state=None, shrinking=True,\n",
            "    tol=0.001, verbose=True)\n",
            "poly_4_ds test error: 0.08499999999999996\n"
          ],
          "name": "stdout"
        }
      ]
    },
    {
      "cell_type": "code",
      "metadata": {
        "id": "EtJedtiVBg3b"
      },
      "source": [
        "def laplacian_kernel(A, B):\n",
        "\n",
        "clf_laplacian_ = svm.SVC(verbose=True, kernel=laplacian_kernel)\n",
        "print(clf_poly_4_ds.fit(mndds[\"train_x\"][:MN_TRAIN_SPLIT], mndds[\"train_y\"][:MN_TRAIN_SPLIT]))\n",
        "print(\"poly_4_ds test error: {}\".format(1 - clf_data_acc(clf_poly_4_ds, mndds, MN_TEST_SPLIT)))"
      ],
      "execution_count": null,
      "outputs": []
    },
    {
      "cell_type": "code",
      "metadata": {
        "id": "4ZhMWxm_5TqY",
        "colab": {
          "base_uri": "https://localhost:8080/",
          "height": 235
        },
        "outputId": "6c4bf62a-1374-4228-948d-449ae9469af9"
      },
      "source": [
        "open(TMP_DIR + \"cifar-100-python.tar.gz\", \"wb\").write(requests.get(\n",
        "  \"https://www.cs.toronto.edu/~kriz/cifar-100-python.tar.gz\",\n",
        "  allow_redirects=True).content)\n",
        "cf10r = pickle.load(open(TMP_DIR + \"cifar-100-python.tar.gz\", \"rb\"), encoding=\"bytes\")\n",
        "cf10d = {}\n",
        "\n",
        "cf10d[\"names\"] = cf10r[\"label_names\"]\n",
        "cf10d[\"train_x\"] = cf10r[\"data\"][:CF10_SPLIT]\n",
        "cf10d[\"train_y\"] = cf10r[\"labels\"][:CF10_SPLIT]\n",
        "cf10d[\"test_x\"] = cf10r[\"data\"][CF10_SPLIT:]\n",
        "cf10d[\"test_y\"] = cf10r[\"labels\"][CF10_SPLIT:]"
      ],
      "execution_count": null,
      "outputs": [
        {
          "output_type": "error",
          "ename": "UnpicklingError",
          "evalue": "ignored",
          "traceback": [
            "\u001b[0;31m---------------------------------------------------------------------------\u001b[0m",
            "\u001b[0;31mUnpicklingError\u001b[0m                           Traceback (most recent call last)",
            "\u001b[0;32m<ipython-input-13-6b9d30599dcd>\u001b[0m in \u001b[0;36m<module>\u001b[0;34m()\u001b[0m\n\u001b[1;32m      2\u001b[0m   \u001b[0;34m\"https://www.cs.toronto.edu/~kriz/cifar-100-python.tar.gz\"\u001b[0m\u001b[0;34m,\u001b[0m\u001b[0;34m\u001b[0m\u001b[0;34m\u001b[0m\u001b[0m\n\u001b[1;32m      3\u001b[0m   allow_redirects=True).content)\n\u001b[0;32m----> 4\u001b[0;31m \u001b[0mcf10r\u001b[0m \u001b[0;34m=\u001b[0m \u001b[0mpickle\u001b[0m\u001b[0;34m.\u001b[0m\u001b[0mload\u001b[0m\u001b[0;34m(\u001b[0m\u001b[0mopen\u001b[0m\u001b[0;34m(\u001b[0m\u001b[0mTMP_DIR\u001b[0m \u001b[0;34m+\u001b[0m \u001b[0;34m\"cifar-100-python.tar.gz\"\u001b[0m\u001b[0;34m,\u001b[0m \u001b[0;34m\"rb\"\u001b[0m\u001b[0;34m)\u001b[0m\u001b[0;34m,\u001b[0m \u001b[0mencoding\u001b[0m\u001b[0;34m=\u001b[0m\u001b[0;34m\"bytes\"\u001b[0m\u001b[0;34m)\u001b[0m\u001b[0;34m\u001b[0m\u001b[0;34m\u001b[0m\u001b[0m\n\u001b[0m\u001b[1;32m      5\u001b[0m \u001b[0mcf10d\u001b[0m \u001b[0;34m=\u001b[0m \u001b[0;34m{\u001b[0m\u001b[0;34m}\u001b[0m\u001b[0;34m\u001b[0m\u001b[0;34m\u001b[0m\u001b[0m\n\u001b[1;32m      6\u001b[0m \u001b[0;34m\u001b[0m\u001b[0m\n",
            "\u001b[0;31mUnpicklingError\u001b[0m: invalid load key, '\\x1f'."
          ]
        }
      ]
    },
    {
      "cell_type": "code",
      "metadata": {
        "id": "gF59Y8OD6-9x"
      },
      "source": [
        "clf_cf10_rbf = svm.SVC(verbose=True)\n",
        "clf_cf10_rbf.fit(cf10d[\"train_x\"][:CF10_TRAIN_SPLIT], cf10d[\"train_y\"][:CF10_TRAIN_SPLIT])"
      ],
      "execution_count": null,
      "outputs": []
    },
    {
      "cell_type": "code",
      "metadata": {
        "id": "Oc-ojKYe7FcN"
      },
      "source": [
        ""
      ],
      "execution_count": null,
      "outputs": []
    }
  ]
}