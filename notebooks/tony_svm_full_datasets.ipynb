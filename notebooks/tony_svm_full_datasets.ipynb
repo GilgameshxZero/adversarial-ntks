{
  "nbformat": 4,
  "nbformat_minor": 0,
  "metadata": {
    "colab": {
      "name": "tony-svm-full-datasets.ipynb",
      "provenance": [],
      "collapsed_sections": [
        "Bwf3LqFd3LFL",
        "IfBzhgWl261Q",
        "MUhklUj0Vyko",
        "O6CHyBTX2UDe"
      ],
      "include_colab_link": true
    },
    "kernelspec": {
      "name": "python3",
      "display_name": "Python 3"
    },
    "accelerator": "GPU"
  },
  "cells": [
    {
      "cell_type": "markdown",
      "metadata": {
        "id": "view-in-github",
        "colab_type": "text"
      },
      "source": [
        "<a href=\"https://colab.research.google.com/github/GilgameshxZero/adversarial-ntks/blob/master/notebooks/tony_svm_full_datasets.ipynb\" target=\"_parent\"><img src=\"https://colab.research.google.com/assets/colab-badge.svg\" alt=\"Open In Colab\"/></a>"
      ]
    },
    {
      "cell_type": "code",
      "metadata": {
        "id": "TiTNGBDKzGwR",
        "colab": {
          "base_uri": "https://localhost:8080/"
        },
        "outputId": "0fb9a5a7-44ad-4766-eab7-af2f2db90d7f"
      },
      "source": [
        "!pip install https://github.com/Xtra-Computing/thundersvm/releases/download/v0.3.4/thundersvm_cuda10.1-0.3.4-cp36-cp36m-linux_x86_64.whl"
      ],
      "execution_count": null,
      "outputs": [
        {
          "output_type": "stream",
          "text": [
            "Requirement already satisfied: thundersvm-cuda10.1==0.3.4 from https://github.com/Xtra-Computing/thundersvm/releases/download/v0.3.4/thundersvm_cuda10.1-0.3.4-cp36-cp36m-linux_x86_64.whl in /usr/local/lib/python3.6/dist-packages (0.3.4)\n",
            "Requirement already satisfied: scikit-learn in /usr/local/lib/python3.6/dist-packages (from thundersvm-cuda10.1==0.3.4) (0.22.2.post1)\n",
            "Requirement already satisfied: scipy in /usr/local/lib/python3.6/dist-packages (from thundersvm-cuda10.1==0.3.4) (1.4.1)\n",
            "Requirement already satisfied: numpy in /usr/local/lib/python3.6/dist-packages (from thundersvm-cuda10.1==0.3.4) (1.18.5)\n",
            "Requirement already satisfied: joblib>=0.11 in /usr/local/lib/python3.6/dist-packages (from scikit-learn->thundersvm-cuda10.1==0.3.4) (0.17.0)\n"
          ],
          "name": "stdout"
        }
      ]
    },
    {
      "cell_type": "code",
      "metadata": {
        "id": "HY1jgZSv3chP"
      },
      "source": [
        "import functools\n",
        "import operator\n",
        "\n",
        "import matplotlib.pyplot as plt\n",
        "import numpy as np\n",
        "\n",
        "import sklearn\n",
        "from sklearn import svm\n",
        "import thundersvm\n",
        "\n",
        "import tensorflow as tf\n",
        "import tensorflow_datasets as tfds\n",
        "\n",
        "tf.random.set_seed(42)"
      ],
      "execution_count": null,
      "outputs": []
    },
    {
      "cell_type": "code",
      "metadata": {
        "id": "WxK_QR7Pzdbn",
        "colab": {
          "base_uri": "https://localhost:8080/",
          "height": 324
        },
        "outputId": "d114bf85-a359-407d-8ff8-86a0d941e148"
      },
      "source": [
        "def downsample_imgs(imgs, image_width):\n",
        "    return tf.image.resize(\n",
        "        tf.convert_to_tensor(imgs),\n",
        "        size=[image_width, image_width],\n",
        "        method=tf.image.ResizeMethod.BILINEAR,\n",
        "        preserve_aspect_ratio=True,\n",
        "        antialias=False,\n",
        "    ).numpy()\n",
        "\n",
        "def get_np_data(\n",
        "    name, # \"mnist\" or \"cifar10\"\n",
        "    split,\n",
        "    binary_labels=False,\n",
        "    flatten=True,\n",
        "    image_width=None,\n",
        "):\n",
        "    \"\"\"\n",
        "    name: e.g. \"mnist\", \"cifar10\". See\n",
        "          https://www.tensorflow.org/datasets/catalog/overview for more details.\n",
        "    split: See https://www.tensorflow.org/datasets/splits\n",
        "    \"\"\"\n",
        "\n",
        "    xs, ys = operator.itemgetter('image', 'label')(\n",
        "        tfds.as_numpy(\n",
        "            tfds.load(\n",
        "                name=name,\n",
        "                split=split,\n",
        "                batch_size=-1,\n",
        "                data_dir=\"./data\",\n",
        "            )\n",
        "        )\n",
        "    )\n",
        "\n",
        "    xs = xs.astype(np.float64)\n",
        "    xs /= 255.0 # normalize\n",
        "\n",
        "    if binary_labels:\n",
        "        n_classes = ys.max() + 1\n",
        "        ys = (ys >= (n_classes // 2)).astype(np.int)\n",
        "\n",
        "    if image_width is not None:\n",
        "        xs = downsample_imgs(xs, image_width)\n",
        "\n",
        "    if flatten:\n",
        "        xs = xs.reshape((len(xs), -1))\n",
        "\n",
        "    return xs, ys\n",
        "\n",
        "\n",
        "MNIST_TRAIN = get_np_data(name=\"mnist\", split=\"train\")\n",
        "MNIST_TEST = get_np_data(name=\"mnist\", split=\"test\")\n",
        "\n",
        "print(MNIST_TRAIN[0].shape)\n",
        "print(MNIST_TEST[0].shape)\n",
        "\n",
        "for data in [MNIST_TRAIN, MNIST_TEST]:\n",
        "    xs, ys = data\n",
        "    print(ys[:10])\n",
        "    for i, x in enumerate(xs[:10]):\n",
        "        plt.subplot(1, 10, i + 1)\n",
        "        plt.imshow(x.reshape(28, 28))\n",
        "        plt.axis('off')\n",
        "    plt.show();\n",
        "\n",
        "\n",
        "CIFAR_TRAIN = get_np_data(name=\"cifar10\", split=\"train\")\n",
        "CIFAR_TEST = get_np_data(name=\"cifar10\", split=\"test\")\n",
        "\n",
        "print(CIFAR_TRAIN[0].shape)\n",
        "print(CIFAR_TEST[0].shape)\n",
        "\n",
        "for data in [CIFAR_TRAIN, CIFAR_TEST]:\n",
        "    xs, ys = data\n",
        "    print(ys[:10])\n",
        "    for i, x in enumerate(xs[:10]):\n",
        "        plt.subplot(1, 10, i + 1)\n",
        "        plt.imshow(x.reshape(32, 32, 3))\n",
        "        plt.axis('off')\n",
        "    plt.show();"
      ],
      "execution_count": null,
      "outputs": [
        {
          "output_type": "stream",
          "text": [
            "(60000, 784)\n",
            "(10000, 784)\n",
            "[4 1 0 7 8 1 2 7 1 6]\n"
          ],
          "name": "stdout"
        },
        {
          "output_type": "display_data",
          "data": {
            "image/png": "[encoded data removed]",
            "text/plain": [
              "<Figure size 432x288 with 10 Axes>"
            ]
          },
          "metadata": {
            "tags": [],
            "needs_background": "light"
          }
        },
        {
          "output_type": "stream",
          "text": [
            "[2 0 4 8 7 6 0 6 3 1]\n"
          ],
          "name": "stdout"
        },
        {
          "output_type": "display_data",
          "data": {
            "image/png": "[encoded data removed]",
            "text/plain": [
              "<Figure size 432x288 with 10 Axes>"
            ]
          },
          "metadata": {
            "tags": [],
            "needs_background": "light"
          }
        },
        {
          "output_type": "stream",
          "text": [
            "(50000, 3072)\n",
            "(10000, 3072)\n",
            "[7 8 4 4 6 5 2 9 6 6]\n"
          ],
          "name": "stdout"
        },
        {
          "output_type": "display_data",
          "data": {
            "image/png": "[encoded data removed]",
            "text/plain": [
              "<Figure size 432x288 with 10 Axes>"
            ]
          },
          "metadata": {
            "tags": [],
            "needs_background": "light"
          }
        },
        {
          "output_type": "stream",
          "text": [
            "[7 0 6 9 5 1 7 0 3 2]\n"
          ],
          "name": "stdout"
        },
        {
          "output_type": "display_data",
          "data": {
            "image/png": "[encoded data removed]",
            "text/plain": [
              "<Figure size 432x288 with 10 Axes>"
            ]
          },
          "metadata": {
            "tags": [],
            "needs_background": "light"
          }
        }
      ]
    },
    {
      "cell_type": "code",
      "metadata": {
        "id": "2kzgrRjZ-z2J"
      },
      "source": [
        "def clf_acc(clf, test_data):\n",
        "    test_xs, test_ys = test_data\n",
        "    return np.mean(\n",
        "        clf.predict(test_xs) == test_ys\n",
        "    )"
      ],
      "execution_count": null,
      "outputs": []
    },
    {
      "cell_type": "markdown",
      "metadata": {
        "id": "4jwsM8CR3emi"
      },
      "source": [
        "# Linear kernel"
      ]
    },
    {
      "cell_type": "code",
      "metadata": {
        "colab": {
          "base_uri": "https://localhost:8080/"
        },
        "id": "1kW6ZIHoZyNG",
        "outputId": "ead98305-2e47-45f2-d98b-1a861655c313"
      },
      "source": [
        "%%time\n",
        "for C in [0.1]:\n",
        "    clf = thundersvm.SVC(kernel=\"linear\", C=C)\n",
        "    clf.fit(*MNIST_TRAIN)\n",
        "    print(f\"C={C:7} linear mnist test acc: {clf_acc(clf, MNIST_TEST)}\")"
      ],
      "execution_count": null,
      "outputs": [
        {
          "output_type": "stream",
          "text": [
            "C=    0.1 linear mnist test acc: 0.9471\n",
            "CPU times: user 33 s, sys: 21.4 s, total: 54.3 s\n",
            "Wall time: 54.4 s\n"
          ],
          "name": "stdout"
        }
      ]
    },
    {
      "cell_type": "code",
      "metadata": {
        "colab": {
          "base_uri": "https://localhost:8080/"
        },
        "id": "DmnaieNm3i5q",
        "outputId": "984fd952-ba11-4a0d-bcf6-7ac161b4e6e8"
      },
      "source": [
        "%%time\n",
        "for C in [0.1]:\n",
        "    clf = thundersvm.SVC(kernel=\"linear\", C=C)\n",
        "    clf.fit(*CIFAR_TRAIN)\n",
        "    print(f\"C={C:5} linear cifar test acc: {clf_acc(clf, CIFAR_TEST)}\")"
      ],
      "execution_count": null,
      "outputs": [
        {
          "output_type": "stream",
          "text": [
            "C=  0.1 linear cifar test acc: 0.4103\n",
            "CPU times: user 5min 33s, sys: 4min 2s, total: 9min 35s\n",
            "Wall time: 9min 35s\n"
          ],
          "name": "stdout"
        }
      ]
    },
    {
      "cell_type": "markdown",
      "metadata": {
        "id": "Bwf3LqFd3LFL"
      },
      "source": [
        "# Polynomial kernel"
      ]
    },
    {
      "cell_type": "code",
      "metadata": {
        "colab": {
          "base_uri": "https://localhost:8080/"
        },
        "id": "NOr5BKEE3M_C",
        "outputId": "1a807da4-955d-4256-9b21-05a1faac8982"
      },
      "source": [
        "%%time\n",
        "for C in [0.1, 1, 10, 100]:\n",
        "    clf = svm.SVC(kernel=\"poly\", C=C, degree=3)\n",
        "    clf.fit(*MNIST_TRAIN)\n",
        "    print(f\"C={C:5} poly mnist test acc: {clf_acc(clf, MNIST_TEST)}\")"
      ],
      "execution_count": null,
      "outputs": [
        {
          "output_type": "stream",
          "text": [
            "C=  0.1 poly mnist test acc: 0.846\n",
            "C=    1 poly mnist test acc: 0.887\n",
            "C=   10 poly mnist test acc: 0.8935\n",
            "C=  100 poly mnist test acc: 0.8765\n",
            "CPU times: user 919 ms, sys: 976 µs, total: 920 ms\n",
            "Wall time: 919 ms\n",
            "Parser   : 147 ms\n"
          ],
          "name": "stdout"
        }
      ]
    },
    {
      "cell_type": "code",
      "metadata": {
        "colab": {
          "base_uri": "https://localhost:8080/"
        },
        "id": "vilpV-8h3NJp",
        "outputId": "5d7a189b-9d9c-46ae-bfe4-d7c918d64c7f"
      },
      "source": [
        "%%time\n",
        "for C in [0.01, 0.1, 1, 10, 100]:\n",
        "    clf = svm.SVC(kernel=\"poly\", C=C, degree=3)\n",
        "    clf.fit(*CIFAR_TRAIN)\n",
        "    print(f\"C={C:5} poly cifar test acc: {clf_acc(clf, CIFAR_TEST)}\")"
      ],
      "execution_count": null,
      "outputs": [
        {
          "output_type": "stream",
          "text": [
            "C= 0.01 poly cifar test acc: 0.599\n",
            "C=  0.1 poly cifar test acc: 0.604\n",
            "C=    1 poly cifar test acc: 0.605\n",
            "C=   10 poly cifar test acc: 0.589\n",
            "C=  100 poly cifar test acc: 0.5955\n",
            "CPU times: user 14.6 s, sys: 11 ms, total: 14.7 s\n",
            "Wall time: 14.7 s\n"
          ],
          "name": "stdout"
        }
      ]
    },
    {
      "cell_type": "markdown",
      "metadata": {
        "id": "mH_tIvLj24kK"
      },
      "source": [
        "# RBF kernel"
      ]
    },
    {
      "cell_type": "code",
      "metadata": {
        "colab": {
          "base_uri": "https://localhost:8080/"
        },
        "id": "RiEuw4sYa0-6",
        "outputId": "9a3ee6d1-e36c-4b2c-c058-d3d810233e2e"
      },
      "source": [
        "%%time\n",
        "for C in [10]:\n",
        "    clf = thundersvm.SVC(kernel=\"rbf\", gamma=\"auto\", C=C)\n",
        "    clf.fit(*MNIST_TRAIN)\n",
        "    print(f\"C={C:5} rbf mnist test acc: {clf_acc(clf, MNIST_TEST)}\")"
      ],
      "execution_count": null,
      "outputs": [
        {
          "output_type": "stream",
          "text": [
            "C=   10 rbf mnist test acc: 0.9616\n",
            "CPU times: user 27.9 s, sys: 18.3 s, total: 46.2 s\n",
            "Wall time: 46.2 s\n"
          ],
          "name": "stdout"
        }
      ]
    },
    {
      "cell_type": "code",
      "metadata": {
        "colab": {
          "base_uri": "https://localhost:8080/"
        },
        "id": "CviFsqXTuRaE",
        "outputId": "570b3ac7-f214-40b5-acd2-b88c96691976"
      },
      "source": [
        "%%time\n",
        "for C in [1000, 10000, 100000, 1000000]:\n",
        "    clf = thundersvm.SVC(kernel=\"rbf\", gamma=\"auto\", C=C)\n",
        "    clf.fit(*CIFAR_TRAIN)\n",
        "    print(f\"C={C:5} rbf cifar test acc: {clf_acc(clf, CIFAR_TEST)}\")"
      ],
      "execution_count": null,
      "outputs": [
        {
          "output_type": "stream",
          "text": [
            "C= 1000 rbf cifar test acc: 0.5188\n",
            "C=10000 rbf cifar test acc: 0.5047\n",
            "C=100000 rbf cifar test acc: 0.5042\n",
            "C=1000000 rbf cifar test acc: 0.5042\n",
            "CPU times: user 3h 5min 3s, sys: 2h 9min 45s, total: 5h 14min 48s\n",
            "Wall time: 5h 14min 46s\n"
          ],
          "name": "stdout"
        }
      ]
    },
    {
      "cell_type": "markdown",
      "metadata": {
        "id": "IfBzhgWl261Q"
      },
      "source": [
        "# Laplace kernel"
      ]
    },
    {
      "cell_type": "code",
      "metadata": {
        "colab": {
          "base_uri": "https://localhost:8080/"
        },
        "id": "ayb0YCCNgnwH",
        "outputId": "aab8ae16-585d-481b-f56b-da04549536ca"
      },
      "source": [
        "%%time\n",
        "def laplace_kfn(A, B):\n",
        "    return sklearn.metrics.pairwise.laplacian_kernel(A, B, 0.1)\n",
        "\n",
        "for C in [0.01, 0.1, 1, 10, 100, 1000]:\n",
        "    clf = svm.SVC(kernel=laplace_kfn, C=C)\n",
        "    clf.fit(*MNIST_TRAIN)\n",
        "    print(f\"C={C:5} laplace mnist test acc: {clf_acc(clf, MNIST_TEST)}\")"
      ],
      "execution_count": null,
      "outputs": [
        {
          "output_type": "stream",
          "text": [
            "C= 0.01 laplace mnist test acc: 0.5115\n",
            "C=  0.1 laplace mnist test acc: 0.7765\n",
            "C=    1 laplace mnist test acc: 0.8725\n",
            "C=   10 laplace mnist test acc: 0.908\n",
            "C=  100 laplace mnist test acc: 0.901\n",
            "C= 1000 laplace mnist test acc: 0.901\n",
            "CPU times: user 2.44 s, sys: 4 ms, total: 2.45 s\n",
            "Wall time: 2.45 s\n"
          ],
          "name": "stdout"
        }
      ]
    },
    {
      "cell_type": "code",
      "metadata": {
        "colab": {
          "base_uri": "https://localhost:8080/"
        },
        "id": "paLY3Gh-2h3O",
        "outputId": "8500de4c-7b10-4a6b-acfe-7f7b9f2e8f56"
      },
      "source": [
        "%%time\n",
        "def laplace_kfn(A, B):\n",
        "    return sklearn.metrics.pairwise.laplacian_kernel(A, B, 0.05)\n",
        "\n",
        "for C in [0.01, 0.1, 1, 10, 100, 1000]:\n",
        "    clf = svm.SVC(kernel=laplace_kfn, C=C)\n",
        "    clf.fit(*CIFAR_TRAIN)\n",
        "    print(f\"C={C:5} laplace cifar test acc: {clf_acc(clf, CIFAR_TEST)}\")"
      ],
      "execution_count": null,
      "outputs": [
        {
          "output_type": "stream",
          "text": [
            "C= 0.01 laplace cifar test acc: 0.495\n",
            "C=  0.1 laplace cifar test acc: 0.568\n",
            "C=    1 laplace cifar test acc: 0.612\n",
            "C=   10 laplace cifar test acc: 0.6165\n",
            "C=  100 laplace cifar test acc: 0.6165\n",
            "C= 1000 laplace cifar test acc: 0.6165\n",
            "CPU times: user 7.03 s, sys: 9.97 ms, total: 7.04 s\n",
            "Wall time: 7.03 s\n"
          ],
          "name": "stdout"
        }
      ]
    },
    {
      "cell_type": "markdown",
      "metadata": {
        "id": "MUhklUj0Vyko"
      },
      "source": [
        "# FC NTK"
      ]
    },
    {
      "cell_type": "code",
      "metadata": {
        "id": "s33uq_sZU2B3"
      },
      "source": [
        "_, _, fc_ntk = ntstax.serial(\n",
        "    ntstax.Dense(1, W_std=1, b_std=1), ntstax.Relu(),\n",
        "    ntstax.Dense(1, W_std=1, b_std=1), ntstax.Relu(),\n",
        "    ntstax.Dense(1, W_std=1, b_std=1), ntstax.Relu(),\n",
        "    ntstax.Dense(1, W_std=1, b_std=1)\n",
        ")\n",
        "\n",
        "@jax.jit\n",
        "def fc_kfn(A, B):\n",
        "    return fc_ntk(A, B, \"ntk\")"
      ],
      "execution_count": null,
      "outputs": []
    },
    {
      "cell_type": "code",
      "metadata": {
        "colab": {
          "base_uri": "https://localhost:8080/"
        },
        "id": "UDxupZ7kV9gd",
        "outputId": "68b36801-f276-4455-befe-592f2ee2cc28"
      },
      "source": [
        "%%time\n",
        "for C in [0.01, 0.1, 1, 10, 100, 1000]:\n",
        "    clf = svm.SVC(kernel=fc_kfn, C=C)\n",
        "    clf.fit(*MNIST_TRAIN)\n",
        "    print(f\"C={C:5} fc-ntk mnist test acc: {clf_acc(clf, MNIST_TEST)}\")"
      ],
      "execution_count": null,
      "outputs": [
        {
          "output_type": "stream",
          "text": [
            "C= 0.01 fc-ntk mnist test acc: 0.5115\n",
            "C=  0.1 fc-ntk mnist test acc: 0.6985\n",
            "C=    1 fc-ntk mnist test acc: 0.796\n",
            "C=   10 fc-ntk mnist test acc: 0.891\n",
            "C=  100 fc-ntk mnist test acc: 0.9065\n",
            "C= 1000 fc-ntk mnist test acc: 0.9065\n",
            "CPU times: user 1.53 s, sys: 558 ms, total: 2.09 s\n",
            "Wall time: 2.38 s\n"
          ],
          "name": "stdout"
        }
      ]
    },
    {
      "cell_type": "code",
      "metadata": {
        "colab": {
          "base_uri": "https://localhost:8080/"
        },
        "id": "IMShluPFW99A",
        "outputId": "8cdd25b1-0b4a-4a98-a168-4000941ed21f"
      },
      "source": [
        "%%time\n",
        "for C in [0.01, 0.1, 1, 10, 100, 1000]:\n",
        "    clf = svm.SVC(kernel=fc_kfn, C=C)\n",
        "    clf.fit(*CIFAR_TRAIN)\n",
        "    print(f\"C={C:5} fc-ntk mnist test acc: {clf_acc(clf, CIFAR_TEST)}\")"
      ],
      "execution_count": null,
      "outputs": [
        {
          "output_type": "stream",
          "text": [
            "C= 0.01 fc-ntk mnist test acc: 0.495\n",
            "C=  0.1 fc-ntk mnist test acc: 0.495\n",
            "C=    1 fc-ntk mnist test acc: 0.58\n",
            "C=   10 fc-ntk mnist test acc: 0.602\n",
            "C=  100 fc-ntk mnist test acc: 0.616\n",
            "C= 1000 fc-ntk mnist test acc: 0.616\n",
            "CPU times: user 1.38 s, sys: 200 ms, total: 1.58 s\n",
            "Wall time: 1.71 s\n"
          ],
          "name": "stdout"
        }
      ]
    },
    {
      "cell_type": "markdown",
      "metadata": {
        "id": "O6CHyBTX2UDe"
      },
      "source": [
        "# CNN NTK"
      ]
    },
    {
      "cell_type": "code",
      "metadata": {
        "id": "DCswV2lv1t9R"
      },
      "source": [
        "def get_batched_cnn_kfn(base_kfn, image_width, num_channels, batch_size):\n",
        "    def batched_cnn_kfn(A, B):\n",
        "        assert len(A) % batch_size == len(B) % batch_size == 0\n",
        "\n",
        "        A = A.reshape((-1, image_width, image_width, num_channels))\n",
        "        B = B.reshape((-1, image_width, image_width, num_channels))\n",
        "        res = np.zeros((len(A), len(B)))\n",
        "        for i in range(len(A) // batch_size):\n",
        "            alo, ahi = batch_size * i, batch_size * (i + 1)\n",
        "            for j in range(len(B) // batch_size):\n",
        "                blo, bhi = batch_size * j, batch_size * (j + 1)\n",
        "                res[alo:ahi, blo:bhi] = (\n",
        "                    base_kfn(A[alo:ahi], B[blo:bhi])\n",
        "                )\n",
        "\n",
        "        return res\n",
        "\n",
        "    return batched_cnn_kfn"
      ],
      "execution_count": null,
      "outputs": []
    },
    {
      "cell_type": "markdown",
      "metadata": {
        "id": "oJWd4yoF85N3"
      },
      "source": [
        "### Flatten"
      ]
    },
    {
      "cell_type": "code",
      "metadata": {
        "id": "PEPnaBILvW0c"
      },
      "source": [
        "_, _, cnn_flat_ntk = ntstax.serial(\n",
        "    ntstax.Conv(1, (3, 3), W_std=1, b_std=1), ntstax.Relu(),\n",
        "    ntstax.Conv(1, (3, 3), W_std=1, b_std=1), ntstax.Relu(),\n",
        "    ntstax.Conv(1, (3, 3), W_std=1, b_std=1), ntstax.Relu(),\n",
        "    ntstax.Flatten(),\n",
        "    ntstax.Dense(1, W_std=1, b_std=1)\n",
        ")\n",
        "\n",
        "@jax.jit\n",
        "def cnn_flat_base_kfn(A, B):\n",
        "    return cnn_flat_ntk(A, B, \"ntk\")"
      ],
      "execution_count": null,
      "outputs": []
    },
    {
      "cell_type": "code",
      "metadata": {
        "colab": {
          "base_uri": "https://localhost:8080/"
        },
        "id": "7iTDqyDA7q3C",
        "outputId": "c82d4b86-c022-42a2-bf72-acae47192c50"
      },
      "source": [
        "%%time\n",
        "for C in [0.01, 0.1, 1, 10, 100, 1000]:\n",
        "    clf = svm.SVC(\n",
        "        C=C,\n",
        "        kernel=get_batched_cnn_kfn(\n",
        "            base_kfn=cnn_flat_base_kfn,\n",
        "            image_width=7,\n",
        "            num_channels=1,\n",
        "            batch_size=100\n",
        "        )\n",
        "    )\n",
        "    clf.fit(*MNIST_TRAIN)\n",
        "    print(f\"C={C:5} cnn-flat-ntk mnist test acc: {clf_acc(clf, MNIST_TEST)}\")"
      ],
      "execution_count": null,
      "outputs": [
        {
          "output_type": "stream",
          "text": [
            "C= 0.01 cnn-flat-ntk mnist test acc: 0.5115\n",
            "C=  0.1 cnn-flat-ntk mnist test acc: 0.7365\n",
            "C=    1 cnn-flat-ntk mnist test acc: 0.8145\n",
            "C=   10 cnn-flat-ntk mnist test acc: 0.8895\n",
            "C=  100 cnn-flat-ntk mnist test acc: 0.9\n",
            "C= 1000 cnn-flat-ntk mnist test acc: 0.9\n",
            "CPU times: user 8.02 s, sys: 3.56 s, total: 11.6 s\n",
            "Wall time: 10.8 s\n"
          ],
          "name": "stdout"
        }
      ]
    },
    {
      "cell_type": "code",
      "metadata": {
        "colab": {
          "base_uri": "https://localhost:8080/"
        },
        "id": "-dp-SejdvoP1",
        "outputId": "fbd7e238-d9a3-4d5d-f5a8-61e72bcd96ae"
      },
      "source": [
        "%%time\n",
        "for C in [0.01, 0.1, 1, 10, 100, 1000]:\n",
        "    clf = svm.SVC(\n",
        "        C=C,\n",
        "        kernel=get_batched_cnn_kfn(\n",
        "            base_kfn=cnn_flat_base_kfn,\n",
        "            image_width=8,\n",
        "            num_channels=3,\n",
        "            batch_size=100\n",
        "        )\n",
        "    )\n",
        "    clf.fit(*CIFAR_TRAIN)\n",
        "    print(f\"C={C:5} cnn-flat-ntk cifar test acc: {clf_acc(clf, CIFAR_TEST)}\")"
      ],
      "execution_count": null,
      "outputs": [
        {
          "output_type": "stream",
          "text": [
            "C= 0.01 cnn-flat-ntk cifar test acc: 0.495\n",
            "C=  0.1 cnn-flat-ntk cifar test acc: 0.495\n",
            "C=    1 cnn-flat-ntk cifar test acc: 0.587\n",
            "C=   10 cnn-flat-ntk cifar test acc: 0.6035\n",
            "C=  100 cnn-flat-ntk cifar test acc: 0.61\n",
            "C= 1000 cnn-flat-ntk cifar test acc: 0.61\n",
            "CPU times: user 12.4 s, sys: 5.86 s, total: 18.2 s\n",
            "Wall time: 17.2 s\n"
          ],
          "name": "stdout"
        }
      ]
    },
    {
      "cell_type": "markdown",
      "metadata": {
        "id": "SNN0hTT79JXu"
      },
      "source": [
        "### Global average pooling"
      ]
    },
    {
      "cell_type": "code",
      "metadata": {
        "id": "uH-wb1yS9fhY"
      },
      "source": [
        "_, _, cnn_gap_ntk = ntstax.serial(\n",
        "    ntstax.Conv(1, (3, 3), W_std=1, b_std=1), ntstax.Relu(),\n",
        "    ntstax.Conv(1, (3, 3), W_std=1, b_std=1), ntstax.Relu(),\n",
        "    ntstax.Conv(1, (3, 3), W_std=1, b_std=1), ntstax.Relu(),\n",
        "    ntstax.GlobalAvgPool(),\n",
        "    ntstax.Dense(1, W_std=1, b_std=1)\n",
        ")\n",
        "\n",
        "@jax.jit\n",
        "def cnn_gap_base_kfn(A, B):\n",
        "    return cnn_gap_ntk(A, B, \"ntk\")"
      ],
      "execution_count": null,
      "outputs": []
    },
    {
      "cell_type": "code",
      "metadata": {
        "colab": {
          "base_uri": "https://localhost:8080/"
        },
        "id": "VND1jm9O9XTR",
        "outputId": "1488838f-92b5-47ad-a6ee-f5fcd9e4a1cc"
      },
      "source": [
        "%%time\n",
        "for C in [1, 10, 100, 1000, 10000, 100000]:\n",
        "    clf = svm.SVC(\n",
        "        C=C,\n",
        "        kernel=get_batched_cnn_kfn(\n",
        "            base_kfn=cnn_gap_base_kfn,\n",
        "            image_width=7,\n",
        "            num_channels=1,\n",
        "            batch_size=100\n",
        "        )\n",
        "    )\n",
        "    clf.fit(*MNIST_TRAIN)\n",
        "    print(f\"C={C:8} cnn-gap-ntk mnist test acc: {clf_acc(clf, MNIST_TEST)}\")"
      ],
      "execution_count": null,
      "outputs": [
        {
          "output_type": "stream",
          "text": [
            "C=       1 cnn-gap-ntk mnist test acc: 0.8145\n",
            "C=      10 cnn-gap-ntk mnist test acc: 0.8895\n",
            "C=     100 cnn-gap-ntk mnist test acc: 0.9\n",
            "C=    1000 cnn-gap-ntk mnist test acc: 0.9\n",
            "C=   10000 cnn-gap-ntk mnist test acc: 0.9\n",
            "C=  100000 cnn-gap-ntk mnist test acc: 0.9\n",
            "CPU times: user 55 s, sys: 31.7 s, total: 1min 26s\n",
            "Wall time: 1min 25s\n"
          ],
          "name": "stdout"
        }
      ]
    },
    {
      "cell_type": "code",
      "metadata": {
        "id": "waTMpbTDac_6",
        "colab": {
          "base_uri": "https://localhost:8080/"
        },
        "outputId": "5664f23d-2484-48c1-9df8-c72b8ecd8d33"
      },
      "source": [
        "%%time\n",
        "for C in [1, 10, 100, 1000, 10000, 100000]:\n",
        "    clf = svm.SVC(\n",
        "        C=C,\n",
        "        kernel=get_batched_cnn_kfn(\n",
        "            base_kfn=cnn_gap_base_kfn,\n",
        "            image_width=8,\n",
        "            num_channels=3,\n",
        "            batch_size=100\n",
        "        )\n",
        "    )\n",
        "    clf.fit(*CIFAR_TRAIN)\n",
        "    print(f\"C={C:8} cnn-gap-ntk cifar test acc: {clf_acc(clf, CIFAR_TEST)}\")"
      ],
      "execution_count": null,
      "outputs": [
        {
          "output_type": "stream",
          "text": [
            "C=       1 cnn-gap-ntk cifar test acc: 0.578\n",
            "C=      10 cnn-gap-ntk cifar test acc: 0.607\n",
            "C=     100 cnn-gap-ntk cifar test acc: 0.624\n",
            "C=    1000 cnn-gap-ntk cifar test acc: 0.627\n",
            "C=   10000 cnn-gap-ntk cifar test acc: 0.627\n",
            "C=  100000 cnn-gap-ntk cifar test acc: 0.627\n",
            "CPU times: user 2min 4s, sys: 1min 17s, total: 3min 21s\n",
            "Wall time: 3min 20s\n"
          ],
          "name": "stdout"
        }
      ]
    }
  ]
}