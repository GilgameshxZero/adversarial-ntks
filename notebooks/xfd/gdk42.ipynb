{
 "metadata": {
  "language_info": {
   "codemirror_mode": {
    "name": "ipython",
    "version": 3
   },
   "file_extension": ".py",
   "mimetype": "text/x-python",
   "name": "python",
   "nbconvert_exporter": "python",
   "pygments_lexer": "ipython3",
   "version": "3.8.7"
  },
  "orig_nbformat": 2,
  "kernelspec": {
   "name": "python387jvsc74a57bd045b226da500ef3d617c173750e770d0c1b1d9364dd10609f8bdc57e7d9493332",
   "display_name": "Python 3.8.7 64-bit ('.venv')"
  }
 },
 "nbformat": 4,
 "nbformat_minor": 2,
 "cells": [
  {
   "cell_type": "code",
   "execution_count": 1,
   "metadata": {},
   "outputs": [],
   "source": [
    "import numpy as np"
   ]
  },
  {
   "cell_type": "code",
   "execution_count": 2,
   "metadata": {},
   "outputs": [
    {
     "output_type": "stream",
     "name": "stdout",
     "text": [
      "(2, 2) 2\n"
     ]
    }
   ],
   "source": [
    "def show(data):\n",
    "    n, c = data.shape[0], data.shape[-1]\n",
    "    for i in np.randint(0, n, )\n",
    "\n",
    "def gdk(n=1000, d=(2,2), k=2):\n",
    "    is_bw = d[-1] == 3\n",
    "    data = np.zeros((n, *d))\n",
    "    \n",
    "    return data\n",
    "gdk()"
   ]
  },
  {
   "cell_type": "code",
   "execution_count": null,
   "metadata": {},
   "outputs": [],
   "source": []
  }
 ]
}