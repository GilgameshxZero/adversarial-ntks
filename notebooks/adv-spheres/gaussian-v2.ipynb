{
 "cells": [
  {
   "cell_type": "markdown",
   "id": "spread-warner",
   "metadata": {},
   "source": [
    "This notebook tries to extend the results from the adversarial spheres paper: https://arxiv.org/pdf/1801.02774.pdf\n",
    "\n",
    "In particular, instead of generating from spheres, we generate from Gaussians\n",
    "(with the hope that the high dimensionality makes them effectively spheres).\n",
    "\n",
    "This is an iteration on top of gaussian-v1.ipynb.\n",
    "Unlike the first notebook,\n",
    "we focus on the norm $O(1)$ regime in this notebook,\n",
    "since this is where the vanilla NN performs the best.\n",
    "The plan is to also study the NTK of this vanilla NN in the future.\n",
    "\n",
    "Greg Yang's framework can also compute NTK even with batchnorm?\n",
    "\n",
    "We also provide visualizations of what the network is doing at different radii."
   ]
  },
  {
   "cell_type": "markdown",
   "id": "attempted-poison",
   "metadata": {},
   "source": [
    "### Import dependencies"
   ]
  },
  {
   "cell_type": "code",
   "execution_count": 1,
   "id": "straight-evening",
   "metadata": {},
   "outputs": [
    {
     "data": {
      "text/plain": [
       "[PhysicalDevice(name='/physical_device:CPU:0', device_type='CPU'),\n",
       " PhysicalDevice(name='/physical_device:GPU:0', device_type='GPU')]"
      ]
     },
     "execution_count": 1,
     "metadata": {},
     "output_type": "execute_result"
    }
   ],
   "source": [
    "import matplotlib.pyplot as plt\n",
    "import numpy as np\n",
    "from tqdm.notebook import tqdm\n",
    "\n",
    "import tensorflow as tf\n",
    "from tensorflow import keras\n",
    "from tensorflow.keras import layers\n",
    "\n",
    "from art.data_generators import TensorFlowV2DataGenerator\n",
    "from art.estimators.classification import TensorFlowV2Classifier\n",
    "from art.attacks.evasion import ProjectedGradientDescent\n",
    "from art.defences.trainer import AdversarialTrainer\n",
    "\n",
    "tf.config.list_physical_devices(device_type=None)"
   ]
  },
  {
   "cell_type": "markdown",
   "id": "transsexual-shark",
   "metadata": {},
   "source": [
    "### Data generation utils"
   ]
  },
  {
   "cell_type": "code",
   "execution_count": 2,
   "id": "paperback-prairie",
   "metadata": {},
   "outputs": [
    {
     "data": {
      "text/plain": [
       "array([[-0.47673766, -0.56789626],\n",
       "       [-0.00652595, -0.7254997 ],\n",
       "       [-0.22993774, -0.42023972],\n",
       "       [ 0.00176443,  0.39197192]])"
      ]
     },
     "execution_count": 2,
     "metadata": {},
     "output_type": "execute_result"
    }
   ],
   "source": [
    "def generate_normal_data(dim, s0, s1, num_samples):\n",
    "    assert num_samples % 2 == 0\n",
    "    assert s0 <= s1\n",
    "    \n",
    "    ys = np.concatenate([\n",
    "        np.zeros(shape=num_samples // 2, dtype=np.int64),\n",
    "        np.ones(shape=num_samples // 2, dtype=np.int64)\n",
    "    ])\n",
    "    \n",
    "    xs = np.concatenate([\n",
    "        np.random.normal(scale=s0, size=(num_samples // 2, dim)),\n",
    "        np.random.normal(scale=s1, size=(num_samples // 2, dim))\n",
    "    ])\n",
    "    \n",
    "    perm = np.random.permutation(num_samples)\n",
    "    xs = xs[perm]\n",
    "    ys = ys[perm]\n",
    "    \n",
    "    return xs, ys\n",
    "\n",
    "def normalize(xs: np.ndarray, norm):\n",
    "    norm_xs = xs / np.linalg.norm(xs, axis=-1, ord=norm).reshape(-1, 1)\n",
    "    return norm_xs\n",
    "\n",
    "def radial_attack(\n",
    "    xs: np.ndarray, ys: np.ndarray,\n",
    "    attack_norm, attack_eps,\n",
    "):\n",
    "    norm_xs = normalize(xs, norm=attack_norm)\n",
    "    \n",
    "    adv_xs = xs.copy()\n",
    "    adv_xs[ys == 0] += attack_eps * norm_xs[ys == 0]\n",
    "    adv_xs[ys == 1] -= attack_eps * norm_xs[ys == 1]\n",
    "    \n",
    "    return adv_xs\n",
    "\n",
    "xs, ys = generate_normal_data(dim=2, s0=0.3, s1=0.7, num_samples=4)\n",
    "radial_attack(xs=xs, ys=ys, attack_norm=2, attack_eps=0.1)"
   ]
  },
  {
   "cell_type": "markdown",
   "id": "designed-official",
   "metadata": {},
   "source": [
    "### Experiment setup"
   ]
  },
  {
   "cell_type": "code",
   "execution_count": 3,
   "id": "impaired-rapid",
   "metadata": {},
   "outputs": [],
   "source": [
    "def run_experiment_v2(\n",
    "    dim, s0, s1,\n",
    "    num_train,\n",
    "    model_layers,\n",
    "    train_epochs,\n",
    "    attack_norm,\n",
    "    attack_eps,\n",
    "    attack_eps_step,\n",
    "    attack_iters,\n",
    "    train_batch_size=64,\n",
    "    attack_batch_size=256,\n",
    "    num_test=4096,\n",
    "    seed=42,\n",
    "    adv_train=False,\n",
    "):\n",
    "    \"\"\"\n",
    "    Default values for num_train and num_test are size of CIFAR10 dataset.\n",
    "    \n",
    "    Keras code derived from https://keras.io/examples/vision/mnist_convnet/.\n",
    "    \n",
    "    ART code derived from https://github.com/Trusted-AI/adversarial-robustness-toolbox/blob/main/notebooks/adversarial_retraining.ipynb\n",
    "    and https://github.com/Trusted-AI/adversarial-robustness-toolbox/issues/238.\n",
    "    \"\"\"\n",
    "    np.random.seed(seed)\n",
    "    tf.random.set_seed(seed)\n",
    "    \n",
    "    x_train, y_train = generate_normal_data(\n",
    "        dim=dim, s0=s0, s1=s1,\n",
    "        num_samples=num_train,\n",
    "    )\n",
    "\n",
    "    x_test, y_test = generate_normal_data(\n",
    "        dim=dim, s0=s0, s1=s1,\n",
    "        num_samples=num_test,\n",
    "    )\n",
    "    \n",
    "    model = keras.Sequential(\n",
    "        [keras.Input(shape=x_train[0].shape)]\n",
    "        + model_layers\n",
    "    )\n",
    "    model.compile(\n",
    "        loss=keras.losses.SparseCategoricalCrossentropy(from_logits=True),\n",
    "        optimizer=\"adam\",\n",
    "        metrics=[\"accuracy\"]\n",
    "    )\n",
    "    \n",
    "    # Wrapper around https://github.com/tensorflow/tensorflow/blob/85c8b2a817f95a3e979ecd1ed95bff1dc1335cff/tensorflow/python/keras/engine/training.py#L724\n",
    "    def train_step(model, images, labels):\n",
    "        model.train_step((images, labels))\n",
    "    \n",
    "    art_model = TensorFlowV2Classifier(\n",
    "        model=model,\n",
    "        input_shape=x_test[0].shape,\n",
    "        nb_classes=2,\n",
    "        clip_values=None, #[-x_test.max(), x_test.max()],\n",
    "        loss_object=model.loss,\n",
    "        train_step=train_step,\n",
    "    )\n",
    "    art_pgd_attack = ProjectedGradientDescent(\n",
    "        art_model,\n",
    "        norm=attack_norm,\n",
    "        eps=attack_eps,\n",
    "        eps_step=attack_eps_step,\n",
    "        max_iter=attack_iters,\n",
    "        batch_size=attack_batch_size,\n",
    "    )\n",
    "    \n",
    "    if adv_train:\n",
    "        adv_trainer = AdversarialTrainer(art_model, attacks=art_pgd_attack, ratio=1.0)\n",
    "        adv_trainer.fit(x=x_train, y=y_train, batch_size=train_batch_size, nb_epochs=train_epochs)\n",
    "        # TODO: Add way to monitor adv. acc\n",
    "    else:\n",
    "        model.fit(\n",
    "            x_train,\n",
    "            y_train,\n",
    "            batch_size=train_batch_size,\n",
    "            epochs=train_epochs,\n",
    "            validation_data=(x_test, y_test),\n",
    "            verbose=2,\n",
    "        )\n",
    "\n",
    "    model.trainable = False\n",
    "    \n",
    "    art_model = TensorFlowV2Classifier(\n",
    "        model=model,\n",
    "        input_shape=x_test[0].shape,\n",
    "        nb_classes=2,\n",
    "        loss_object=keras.losses.SparseCategoricalCrossentropy(from_logits=True),\n",
    "        clip_values=None, #[-x_test.max(), x_test.max()],\n",
    "    )\n",
    "    \n",
    "    x_train_adv_pgd = art_pgd_attack.generate(x_train[:num_test], y=y_train[:num_test])    \n",
    "    x_test_adv_pgd = art_pgd_attack.generate(x_test, y=y_test)\n",
    "    \n",
    "    x_train_adv_rad = radial_attack(xs=x_train[:num_test], ys=y_train[:num_test],\n",
    "                                    attack_norm=attack_norm, attack_eps=attack_eps)\n",
    "    x_test_adv_rad = radial_attack(xs=x_test, ys=y_test,\n",
    "                                   attack_norm=attack_norm, attack_eps=attack_eps)\n",
    "    \n",
    "    _, nat_train_acc = model.evaluate(x_train, y_train, verbose=0)\n",
    "    _, nat_test_acc = model.evaluate(x_test, y_test, verbose=0)\n",
    "    _, adv_pgd_train_acc = model.evaluate(x_train_adv_pgd, y_train[:num_test], verbose=0)\n",
    "    _, adv_pgd_test_acc = model.evaluate(x_test_adv_pgd, y_test, verbose=0)\n",
    "    _, adv_rad_train_acc = model.evaluate(x_train_adv_rad, y_train[:num_test], verbose=0)\n",
    "    _, adv_rad_test_acc = model.evaluate(x_test_adv_rad, y_test, verbose=0)\n",
    "    \n",
    "    print(\"Nat train acc     :\", nat_train_acc)\n",
    "    print(\"Nat test  acc     :\", nat_test_acc)\n",
    "    print(\"Adv-pgd train acc :\", adv_pgd_train_acc)\n",
    "    print(\"Adv-pgd test  acc :\", adv_pgd_test_acc)\n",
    "    print(\"Adv-rad train acc :\", adv_rad_train_acc)\n",
    "    print(\"Adv-rad test  acc :\", adv_rad_test_acc)\n",
    "    \n",
    "    return dict(\n",
    "        model=model,\n",
    "        train_data=(x_train, y_train),\n",
    "        test_data=(x_test, y_test),\n",
    "        x_train_adv_pgd=x_train_adv_pgd,\n",
    "        x_test_adv_pgd=x_test_adv_pgd,\n",
    "        x_train_adv_rad=x_train_adv_rad,\n",
    "        x_test_adv_rad=x_test_adv_rad,\n",
    "    )"
   ]
  },
  {
   "cell_type": "code",
   "execution_count": 4,
   "id": "lyric-arlington",
   "metadata": {},
   "outputs": [],
   "source": [
    "def cls1_frac_by_rad(\n",
    "    model: tf.keras.Model,\n",
    "    rads: np.ndarray,\n",
    "    num_samples_per_rad=256,\n",
    "    batch_size=64,\n",
    "    \n",
    "):\n",
    "    dim = model.input_shape[-1]\n",
    "    \n",
    "    cls1_fracs = np.zeros_like(rads)\n",
    "    for idx, r in enumerate(tqdm(rads)):\n",
    "        xs = r * normalize(\n",
    "            xs=np.random.normal(size=(num_samples_per_rad, dim)),\n",
    "            norm=2\n",
    "        )\n",
    "\n",
    "        pred_probs = model.predict(xs, batch_size=batch_size)\n",
    "        preds = np.argmax(pred_probs, axis=-1)\n",
    "        \n",
    "        cls1_fracs[idx] = (preds == 1).mean()\n",
    "        \n",
    "    return cls1_fracs"
   ]
  },
  {
   "cell_type": "markdown",
   "id": "ideal-surveillance",
   "metadata": {},
   "source": [
    "### Run experiments"
   ]
  },
  {
   "cell_type": "markdown",
   "id": "behind-floating",
   "metadata": {},
   "source": [
    "Norm $O(1)$, standard training"
   ]
  },
  {
   "cell_type": "code",
   "execution_count": 5,
   "id": "double-selection",
   "metadata": {
    "tags": []
   },
   "outputs": [
    {
     "name": "stdout",
     "output_type": "stream",
     "text": [
      "Epoch 1/10\n",
      "79/79 - 2s - loss: 0.4559 - accuracy: 0.7742 - val_loss: 0.1624 - val_accuracy: 0.9573\n",
      "Epoch 2/10\n",
      "79/79 - 0s - loss: 0.0225 - accuracy: 0.9956 - val_loss: 0.1221 - val_accuracy: 0.9512\n",
      "Epoch 3/10\n",
      "79/79 - 0s - loss: 0.0024 - accuracy: 1.0000 - val_loss: 0.0662 - val_accuracy: 0.9778\n",
      "Epoch 4/10\n",
      "79/79 - 0s - loss: 5.2039e-04 - accuracy: 1.0000 - val_loss: 0.0663 - val_accuracy: 0.9775\n",
      "Epoch 5/10\n",
      "79/79 - 0s - loss: 2.9381e-04 - accuracy: 1.0000 - val_loss: 0.0693 - val_accuracy: 0.9753\n",
      "Epoch 6/10\n",
      "79/79 - 0s - loss: 2.0487e-04 - accuracy: 1.0000 - val_loss: 0.0661 - val_accuracy: 0.9766\n",
      "Epoch 7/10\n",
      "79/79 - 0s - loss: 1.5302e-04 - accuracy: 1.0000 - val_loss: 0.0669 - val_accuracy: 0.9741\n",
      "Epoch 8/10\n",
      "79/79 - 0s - loss: 1.1928e-04 - accuracy: 1.0000 - val_loss: 0.0672 - val_accuracy: 0.9746\n",
      "Epoch 9/10\n",
      "79/79 - 0s - loss: 9.5666e-05 - accuracy: 1.0000 - val_loss: 0.0660 - val_accuracy: 0.9751\n",
      "Epoch 10/10\n",
      "79/79 - 0s - loss: 7.8464e-05 - accuracy: 1.0000 - val_loss: 0.0667 - val_accuracy: 0.9741\n"
     ]
    },
    {
     "data": {
      "application/vnd.jupyter.widget-view+json": {
       "model_id": "",
       "version_major": 2,
       "version_minor": 0
      },
      "text/plain": [
       "PGD - Batches: 0it [00:00, ?it/s]"
      ]
     },
     "metadata": {},
     "output_type": "display_data"
    },
    {
     "data": {
      "application/vnd.jupyter.widget-view+json": {
       "model_id": "",
       "version_major": 2,
       "version_minor": 0
      },
      "text/plain": [
       "PGD - Batches: 0it [00:00, ?it/s]"
      ]
     },
     "metadata": {},
     "output_type": "display_data"
    },
    {
     "name": "stdout",
     "output_type": "stream",
     "text": [
      "Nat train acc     : 1.0\n",
      "Nat test  acc     : 0.97412109375\n",
      "Adv-pgd train acc : 0.6533203125\n",
      "Adv-pgd test  acc : 0.1005859375\n",
      "Adv-rad train acc : 1.0\n",
      "Adv-rad test  acc : 0.75732421875\n",
      "Wall time: 8.91 s\n"
     ]
    }
   ],
   "source": [
    "%%time\n",
    "D = 1000\n",
    "res = run_experiment_v2(\n",
    "    dim=D, s0=1.0 / np.sqrt(D), s1=1.3 / np.sqrt(D),\n",
    "    num_train=10 ** 4,\n",
    "    model_layers=[\n",
    "        layers.Dense(1000, activation=\"relu\"),\n",
    "        layers.Dense(1000, activation=\"relu\"),\n",
    "        layers.Dense(2),\n",
    "    ],\n",
    "    train_batch_size=128,\n",
    "    train_epochs=10,\n",
    "    attack_norm=2,\n",
    "    attack_eps=0.1,\n",
    "    attack_eps_step=0.01,\n",
    "    attack_iters=20,\n",
    ")"
   ]
  },
  {
   "cell_type": "code",
   "execution_count": 6,
   "id": "critical-officer",
   "metadata": {},
   "outputs": [
    {
     "data": {
      "image/png": "[encoded data removed]",
      "text/plain": [
       "<Figure size 864x216 with 2 Axes>"
      ]
     },
     "metadata": {
      "needs_background": "light"
     },
     "output_type": "display_data"
    }
   ],
   "source": [
    "plt.figure(figsize=(12, 3))\n",
    "\n",
    "plt.subplot(1, 2, 1)\n",
    "plt.hist(np.linalg.norm(res[\"test_data\"][0], ord=2, axis=-1), bins=50, label=\"x_test\");\n",
    "plt.hist(np.linalg.norm(res[\"x_test_adv_pgd\"], ord=2, axis=-1), bins=50, label=\"x_test_adv\", alpha=0.5);\n",
    "plt.title(f\"PGD attack\");\n",
    "\n",
    "plt.subplot(1, 2, 2)\n",
    "plt.hist(np.linalg.norm(res[\"test_data\"][0], ord=2, axis=-1), bins=50, label=\"x_test\");\n",
    "plt.hist(np.linalg.norm(res[\"x_test_adv_rad\"], ord=2, axis=-1), bins=50, label=\"x_test_adv\", alpha=0.5);\n",
    "plt.title(f\"Radial attack\");"
   ]
  },
  {
   "cell_type": "code",
   "execution_count": 7,
   "id": "republican-cable",
   "metadata": {},
   "outputs": [
    {
     "data": {
      "application/vnd.jupyter.widget-view+json": {
       "model_id": "7af89e69d3da4037aff2ea93cd032d06",
       "version_major": 2,
       "version_minor": 0
      },
      "text/plain": [
       "  0%|          | 0/128 [00:00<?, ?it/s]"
      ]
     },
     "metadata": {},
     "output_type": "display_data"
    },
    {
     "data": {
      "application/vnd.jupyter.widget-view+json": {
       "model_id": "3cc90a2807e741b0aa65d3f79cb8e316",
       "version_major": 2,
       "version_minor": 0
      },
      "text/plain": [
       "  0%|          | 0/128 [00:00<?, ?it/s]"
      ]
     },
     "metadata": {},
     "output_type": "display_data"
    },
    {
     "data": {
      "image/png": "[encoded data removed]",
      "text/plain": [
       "<Figure size 864x216 with 2 Axes>"
      ]
     },
     "metadata": {
      "needs_background": "light"
     },
     "output_type": "display_data"
    }
   ],
   "source": [
    "plt.figure(figsize=(12, 3))\n",
    "\n",
    "plt.subplot(1, 2, 1)\n",
    "rads = np.linspace(start=0, stop=2, num=128)\n",
    "cls1_fracs = cls1_frac_by_rad(model=res[\"model\"], rads=rads)\n",
    "plt.plot(rads, cls1_fracs);\n",
    "\n",
    "plt.subplot(1, 2, 2)\n",
    "rads = np.linspace(start=0.8, stop=1.5, num=128)\n",
    "cls1_fracs = cls1_frac_by_rad(model=res[\"model\"], rads=rads)\n",
    "plt.plot(rads, cls1_fracs);"
   ]
  },
  {
   "cell_type": "markdown",
   "id": "liked-coordinator",
   "metadata": {},
   "source": [
    "---"
   ]
  },
  {
   "cell_type": "markdown",
   "id": "offshore-purchase",
   "metadata": {},
   "source": [
    "Norm $O(1)$, adversarial training"
   ]
  },
  {
   "cell_type": "code",
   "execution_count": 11,
   "id": "external-commercial",
   "metadata": {},
   "outputs": [
    {
     "data": {
      "application/vnd.jupyter.widget-view+json": {
       "model_id": "36f9e220ad254528b32fc29f2f0472a5",
       "version_major": 2,
       "version_minor": 0
      },
      "text/plain": [
       "Precompute adv samples:   0%|          | 0/1 [00:00<?, ?it/s]"
      ]
     },
     "metadata": {},
     "output_type": "display_data"
    },
    {
     "data": {
      "application/vnd.jupyter.widget-view+json": {
       "model_id": "c1fd87346f2b451da9e8395284cf83f2",
       "version_major": 2,
       "version_minor": 0
      },
      "text/plain": [
       "Adversarial training epochs:   0%|          | 0/20 [00:00<?, ?it/s]"
      ]
     },
     "metadata": {},
     "output_type": "display_data"
    },
    {
     "name": "stdout",
     "output_type": "stream",
     "text": [
      "Nat train acc     : 1.0\n",
      "Nat test  acc     : 0.9921875\n",
      "Adv-pgd train acc : 1.0\n",
      "Adv-pgd test  acc : 0.35205078125\n",
      "Adv-rad train acc : 1.0\n",
      "Adv-rad test  acc : 0.736083984375\n",
      "Wall time: 1min 34s\n"
     ]
    }
   ],
   "source": [
    "%%time\n",
    "D = 1000\n",
    "res = run_experiment_v2(\n",
    "    dim=D, s0=1.0 / np.sqrt(D), s1=1.3 / np.sqrt(D),\n",
    "    num_train=10 ** 4,\n",
    "    model_layers=[\n",
    "        layers.Dense(1000, activation=\"relu\"),\n",
    "        layers.Dense(1000, activation=\"relu\"),\n",
    "        layers.Dense(2),\n",
    "    ],\n",
    "    train_batch_size=256,\n",
    "    train_epochs=10,\n",
    "    attack_norm=2,\n",
    "    attack_eps=0.1,\n",
    "    attack_eps_step=0.01,\n",
    "    attack_iters=20,\n",
    "    adv_train=True,\n",
    ")"
   ]
  },
  {
   "cell_type": "code",
   "execution_count": 12,
   "id": "special-cricket",
   "metadata": {},
   "outputs": [
    {
     "data": {
      "image/png": "[encoded data removed]",
      "text/plain": [
       "<Figure size 864x216 with 2 Axes>"
      ]
     },
     "metadata": {
      "needs_background": "light"
     },
     "output_type": "display_data"
    }
   ],
   "source": [
    "plt.figure(figsize=(12, 3))\n",
    "\n",
    "plt.subplot(1, 2, 1)\n",
    "plt.hist(np.linalg.norm(res[\"test_data\"][0], ord=2, axis=-1), bins=50, label=\"x_test\");\n",
    "plt.hist(np.linalg.norm(res[\"x_test_adv_pgd\"], ord=2, axis=-1), bins=50, label=\"x_test_adv\", alpha=0.5);\n",
    "plt.title(f\"PGD attack\");\n",
    "\n",
    "plt.subplot(1, 2, 2)\n",
    "plt.hist(np.linalg.norm(res[\"test_data\"][0], ord=2, axis=-1), bins=50, label=\"x_test\");\n",
    "plt.hist(np.linalg.norm(res[\"x_test_adv_rad\"], ord=2, axis=-1), bins=50, label=\"x_test_adv\", alpha=0.5);\n",
    "plt.title(f\"Radial attack\");"
   ]
  },
  {
   "cell_type": "code",
   "execution_count": 13,
   "id": "flush-newman",
   "metadata": {},
   "outputs": [
    {
     "data": {
      "application/vnd.jupyter.widget-view+json": {
       "model_id": "20820991d3164d8aa93b1fd312f4b168",
       "version_major": 2,
       "version_minor": 0
      },
      "text/plain": [
       "  0%|          | 0/128 [00:00<?, ?it/s]"
      ]
     },
     "metadata": {},
     "output_type": "display_data"
    },
    {
     "data": {
      "application/vnd.jupyter.widget-view+json": {
       "model_id": "a36f658b5853446cb2d6a1f4c780209c",
       "version_major": 2,
       "version_minor": 0
      },
      "text/plain": [
       "  0%|          | 0/128 [00:00<?, ?it/s]"
      ]
     },
     "metadata": {},
     "output_type": "display_data"
    },
    {
     "data": {
      "image/png": "[encoded data removed]",
      "text/plain": [
       "<Figure size 864x216 with 2 Axes>"
      ]
     },
     "metadata": {
      "needs_background": "light"
     },
     "output_type": "display_data"
    }
   ],
   "source": [
    "plt.figure(figsize=(12, 3))\n",
    "\n",
    "plt.subplot(1, 2, 1)\n",
    "rads = np.linspace(start=0, stop=2, num=128)\n",
    "cls1_fracs = cls1_frac_by_rad(model=res[\"model\"], rads=rads)\n",
    "plt.plot(rads, cls1_fracs);\n",
    "\n",
    "plt.subplot(1, 2, 2)\n",
    "rads = np.linspace(start=0.8, stop=1.5, num=128)\n",
    "cls1_fracs = cls1_frac_by_rad(model=res[\"model\"], rads=rads)\n",
    "plt.plot(rads, cls1_fracs);"
   ]
  },
  {
   "cell_type": "markdown",
   "id": "ranging-express",
   "metadata": {},
   "source": [
    "---"
   ]
  },
  {
   "cell_type": "markdown",
   "id": "antique-glory",
   "metadata": {},
   "source": [
    "### Summary and conclusions\n",
    "Overall we get pretty similar behavior in the spherical and Gaussian cases (see sphere-v1.ipynb).\n",
    "\n",
    "Like in the spherical case,\n",
    "the vanilla feed-forward NN does worse on norm-$O(\\sqrt{D})$ data than norm-$O(1)$ data\n",
    "(93% test acc vs 99% test acc).\n",
    "However, this difference can be mitigated with a batchnorm layer."
   ]
  }
 ],
 "metadata": {
  "kernelspec": {
   "display_name": "Python 3",
   "language": "python",
   "name": "python3"
  },
  "language_info": {
   "codemirror_mode": {
    "name": "ipython",
    "version": 3
   },
   "file_extension": ".py",
   "mimetype": "text/x-python",
   "name": "python",
   "nbconvert_exporter": "python",
   "pygments_lexer": "ipython3",
   "version": "3.8.5"
  }
 },
 "nbformat": 4,
 "nbformat_minor": 5
}
