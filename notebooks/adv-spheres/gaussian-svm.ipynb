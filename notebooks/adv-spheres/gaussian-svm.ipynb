{
 "cells": [
  {
   "cell_type": "markdown",
   "id": "16d2ee5c",
   "metadata": {},
   "source": [
    "## Set up libraries"
   ]
  },
  {
   "cell_type": "code",
   "execution_count": 1,
   "id": "70aa074a",
   "metadata": {},
   "outputs": [],
   "source": [
    "import os\n",
    "os.environ[\"XLA_PYTHON_CLIENT_PREALLOCATE\"] = \"false\""
   ]
  },
  {
   "cell_type": "code",
   "execution_count": 13,
   "id": "a205cb2e",
   "metadata": {},
   "outputs": [
    {
     "data": {
      "text/plain": [
       "[GpuDevice(id=0, task=0)]"
      ]
     },
     "execution_count": 13,
     "metadata": {},
     "output_type": "execute_result"
    }
   ],
   "source": [
    "import matplotlib.pyplot as plt\n",
    "import numpy as np\n",
    "from sklearn import svm\n",
    "from tqdm.notebook import tqdm\n",
    "\n",
    "import jax\n",
    "import jax.numpy as jnp\n",
    "jax.config.update(\"jax_enable_x64\", True)\n",
    "#jax.config.update(\"jax_platform_name\", \"cpu\")\n",
    "\n",
    "import neural_tangents as nt\n",
    "from neural_tangents import stax\n",
    "\n",
    "jnp.array([0]) # So warnings don't show up later\n",
    "jax.local_devices()"
   ]
  },
  {
   "cell_type": "code",
   "execution_count": 3,
   "id": "99661bd9",
   "metadata": {},
   "outputs": [],
   "source": [
    "import sys\n",
    "sys.path.append(\"../..\")\n",
    "\n",
    "from adversarial_ntks import attacks, jsvc, kernel"
   ]
  },
  {
   "cell_type": "markdown",
   "id": "a99d7aff",
   "metadata": {},
   "source": [
    "# Data generation\n",
    "\n",
    "Our data in labeled by $Y \\in \\{0, 1\\}$,\n",
    "and $X | Y \\sim \\mathcal{N}(0, \\sigma_Y \\cdot I_d)$."
   ]
  },
  {
   "cell_type": "code",
   "execution_count": 4,
   "id": "9b544994",
   "metadata": {},
   "outputs": [
    {
     "data": {
      "text/plain": [
       "array([[ 0.00248907, -1.22250664],\n",
       "       [ 0.35696775,  0.24529092],\n",
       "       [-0.55550026, -0.09285074],\n",
       "       [-0.16231109,  0.22300689]])"
      ]
     },
     "execution_count": 4,
     "metadata": {},
     "output_type": "execute_result"
    }
   ],
   "source": [
    "def generate_normal_data(dim, s0, s1, num_samples):\n",
    "    assert num_samples % 2 == 0\n",
    "    assert s0 <= s1\n",
    "    \n",
    "    ys = np.concatenate([\n",
    "        np.zeros(shape=num_samples // 2, dtype=np.int64),\n",
    "        np.ones(shape=num_samples // 2, dtype=np.int64)\n",
    "    ])\n",
    "    \n",
    "    xs = np.concatenate([\n",
    "        np.random.normal(scale=s0, size=(num_samples // 2, dim)),\n",
    "        np.random.normal(scale=s1, size=(num_samples // 2, dim))\n",
    "    ])\n",
    "    \n",
    "    perm = np.random.permutation(num_samples)\n",
    "    xs = xs[perm]\n",
    "    ys = ys[perm]\n",
    "    \n",
    "    return xs, ys\n",
    "\n",
    "def normalize(xs: np.ndarray, norm):\n",
    "    norm_xs = xs / np.linalg.norm(xs, axis=-1, ord=norm).reshape(-1, 1)\n",
    "    return norm_xs\n",
    "\n",
    "def radial_attack(\n",
    "    xs: np.ndarray, ys: np.ndarray,\n",
    "    attack_norm, attack_eps,\n",
    "):\n",
    "    norm_xs = normalize(xs, norm=attack_norm)\n",
    "    \n",
    "    adv_xs = xs.copy()\n",
    "    adv_xs[ys == 0] += attack_eps * norm_xs[ys == 0]\n",
    "    adv_xs[ys == 1] -= attack_eps * norm_xs[ys == 1]\n",
    "    \n",
    "    return adv_xs\n",
    "\n",
    "xs, ys = generate_normal_data(dim=2, s0=0.3, s1=0.7, num_samples=4)\n",
    "radial_attack(xs=xs, ys=ys, attack_norm=2, attack_eps=0.1)"
   ]
  },
  {
   "cell_type": "markdown",
   "id": "5f709624",
   "metadata": {},
   "source": [
    "## Some utilities"
   ]
  },
  {
   "cell_type": "code",
   "execution_count": 5,
   "id": "cbc72394",
   "metadata": {},
   "outputs": [],
   "source": [
    "def accs_by_cls(preds, ys):\n",
    "    return (preds[ys == 0] == 0).mean(), (preds[ys == 1] == 1).mean()\n",
    "\n",
    "def fmt_accs(accs):\n",
    "    return \"(\" + \", \".join(f\"{a:.4f}\" for a in accs) + \")\""
   ]
  },
  {
   "cell_type": "code",
   "execution_count": 15,
   "id": "1962571b",
   "metadata": {},
   "outputs": [],
   "source": [
    "def cls1_frac_by_rad(\n",
    "    clf: svm.SVC,\n",
    "    rads: np.ndarray,\n",
    "    num_samples_per_rad=256,\n",
    "):\n",
    "    dim = clf.support_vectors_.shape[-1]\n",
    "    \n",
    "    cls1_fracs = np.zeros_like(rads)\n",
    "    for idx, r in enumerate(tqdm(rads, leave=False)):\n",
    "        xs = r * normalize(\n",
    "            xs=np.random.normal(size=(num_samples_per_rad, dim)),\n",
    "            norm=2\n",
    "        )\n",
    "        \n",
    "        preds = clf.predict(xs)        \n",
    "        cls1_fracs[idx] = (preds == 1).mean()\n",
    "        \n",
    "    return cls1_fracs"
   ]
  },
  {
   "cell_type": "markdown",
   "id": "c46cecb5",
   "metadata": {},
   "source": [
    "# Experiments"
   ]
  },
  {
   "cell_type": "code",
   "execution_count": 16,
   "id": "e8f4b0f0",
   "metadata": {},
   "outputs": [],
   "source": [
    "RESULTS = dict() # used to store experiment artifacts"
   ]
  },
  {
   "cell_type": "code",
   "execution_count": 17,
   "id": "ea4742eb",
   "metadata": {},
   "outputs": [
    {
     "data": {
      "image/png": "[encoded data removed]",
      "text/plain": [
       "<Figure size 432x288 with 1 Axes>"
      ]
     },
     "metadata": {
      "needs_background": "light"
     },
     "output_type": "display_data"
    }
   ],
   "source": [
    "_DIM = 1000\n",
    "_R0, _R1 = 1.0, 1.3\n",
    "_S0, _S1 = _R0 / np.sqrt(_DIM), _R1 / np.sqrt(_DIM)\n",
    "\n",
    "xs_train, ys_train = generate_normal_data(\n",
    "    dim=_DIM, s0=_S0, s1=_S1, num_samples=2000,\n",
    ")\n",
    "xs_test, ys_test = generate_normal_data(\n",
    "    dim=_DIM, s0=_S0, s1=_S1, num_samples=1000,\n",
    ")\n",
    "\n",
    "plt.title(\"xs_train radii\")\n",
    "plt.hist(np.linalg.norm(xs_train, ord=2, axis=-1), density=True, bins=50);"
   ]
  },
  {
   "cell_type": "markdown",
   "id": "86d715c0",
   "metadata": {
    "tags": []
   },
   "source": [
    "## Kernel SVM\n",
    "\n",
    "See https://scikit-learn.org/stable/modules/svm.html#svc to check that the formulation below matches the sklearn specs.\n",
    "\n",
    "Let $(x_1, y_1), \\ldots, (x_n, y_n) \\in \\mathcal{X} \\times \\{\\pm 1\\}$ be training data.\n",
    "\n",
    "A binary kernel classifier $F_{\\alpha, b}: \\mathcal{X} \\to \\{\\pm 1\\}$ parameterized by\n",
    "$\\alpha, b \\in \\mathbb{R}^n \\times \\mathbb{R}$\n",
    "and with kernel $k: \\mathcal{X} \\times \\mathcal{X} \\to \\mathbb{R}$ acts as\n",
    "\n",
    "$$\n",
    "F_{\\alpha, b}(x) \\triangleq\n",
    "\\mathrm{sgn} ( f_{\\alpha, b}(x))\n",
    "\\triangleq \\mathrm{sgn} \\left( b + \\sum_{i = 1}^n \\alpha_i \\, k(x_i, x) \\right).\n",
    "$$\n",
    "\n",
    "For a SVM, $\\alpha$ and $b$ are found via empirical risk minimization on the regularized hinge loss:\n",
    "\n",
    "$$\n",
    "\\underset{\\alpha, \\,b \\,\\in\\, \\mathbb{R}^n \\times \\mathbb{R}}{\\mathrm{argmin}} \\quad\n",
    "\\sum_{i = 1}^n \\max(0, 1 - y_i f_{\\alpha, b}(x_i)) +\n",
    "\\frac{1}{2C} \\sum_{i = 1}^n \\sum_{j = 1}^n \\alpha_i \\, \\alpha_j \\, k(x_i, x_j)\n",
    "$$\n",
    "\n",
    "Here $C$ inversely controls the strength of regularization, i.e. large $C$ means no regularization.\n",
    "However note that $C$ does not automatically scale with $n$.\n",
    "\n",
    "Writing out the objective in matrix form yields\n",
    "\n",
    "$$\n",
    "\\mathcal{L}(\\alpha, b)\n",
    "= \\mathbf{1}_n^\\top \\max(0, 1 - Y \\odot K \\alpha) + \\frac{1}{2C} \\alpha^\\top K \\alpha,\n",
    "$$\n",
    "\n",
    "where $K \\in \\mathbb{R}^{n \\times n}$ with $K_{ij} = k(x_i, x_j)$\n",
    "and $Y \\in \\mathbb{R}^n$ with $Y_i = y_i$.\n",
    "\n",
    "### Notes\n",
    "For theoretical analysis, we could drop the bias term since we can incorporate it into the kernel."
   ]
  },
  {
   "cell_type": "code",
   "execution_count": 18,
   "id": "ee394491",
   "metadata": {
    "tags": []
   },
   "outputs": [],
   "source": [
    "def eval_svm_clf(\n",
    "    clf: svm.SVC,\n",
    "    attack_eps: float,\n",
    "    pgd_step_size: float,\n",
    "    pgd_num_steps: int,\n",
    "    verbose: bool = True,\n",
    "    label: str = \"\",\n",
    "):\n",
    "    if verbose:\n",
    "        print(f\"{label}; n_support={clf.n_support_}; b={clf.intercept_[0]:.3e}; gam={clf._gamma:.3e}; coef0={clf.coef0}\")\n",
    "    \n",
    "    accs_train = accs_by_cls(preds=clf.predict(xs_train), ys=ys_train)\n",
    "    accs_test = accs_by_cls(preds=clf.predict(xs_test), ys=ys_test)\n",
    "    if verbose:\n",
    "        print(f\"{label}; accs_train={fmt_accs(accs_train)}; accs_test={fmt_accs(accs_test)}\")\n",
    "    \n",
    "    xs_train_arad = radial_attack(xs=xs_train, ys=ys_train, attack_norm=2, attack_eps=attack_eps)\n",
    "    xs_test_arad = radial_attack(xs=xs_test, ys=ys_test, attack_norm=2, attack_eps=attack_eps)\n",
    "    accs_train_arad = accs_by_cls(preds=clf.predict(xs_train_arad), ys=ys_train)\n",
    "    accs_test_arad = accs_by_cls(preds=clf.predict(xs_test_arad), ys=ys_test)\n",
    "    if verbose:\n",
    "        print(f\"{label}; accs_train_arad={fmt_accs(accs_train_arad)}; accs_test_arad={fmt_accs(accs_test_arad)}\")\n",
    "    \n",
    "    xs_train_pgd = attacks.pgd(\n",
    "        X=jnp.array(xs_train), Y=jnp.array(ys_train),\n",
    "        grad_func=lambda X: jsvc.grad_decision_function(clf, X),\n",
    "        eps=attack_eps, eps_norm=2,\n",
    "        step_size=pgd_step_size, step_norm=2,\n",
    "        num_steps=pgd_num_steps,\n",
    "        pixel_clip=False,\n",
    "    )\n",
    "    xs_test_pgd = attacks.pgd(\n",
    "        X=jnp.array(xs_test), Y=jnp.array(ys_test),\n",
    "        grad_func=lambda X: jsvc.grad_decision_function(clf, X),\n",
    "        eps=attack_eps, eps_norm=2,\n",
    "        step_size=pgd_step_size, step_norm=2,\n",
    "        num_steps=pgd_num_steps,\n",
    "        pixel_clip=False,\n",
    "    )\n",
    "    accs_train_pgd = accs_by_cls(preds=clf.predict(xs_train_pgd), ys=ys_train)\n",
    "    accs_test_pgd = accs_by_cls(preds=clf.predict(xs_test_pgd), ys=ys_test)\n",
    "    if verbose:\n",
    "        print(f\"{label}; accs_train_pgd={fmt_accs(accs_train_pgd)}; accs_test_pgd={fmt_accs(accs_test_pgd)}\")\n",
    "\n",
    "    return dict(\n",
    "        accs_train=accs_train,\n",
    "        accs_test=accs_test,\n",
    "        attack_eps=attack_eps,\n",
    "        accs_train_arad=accs_train_arad,\n",
    "        accs_test_arad=accs_test_arad,\n",
    "        accs_train_pgd=accs_train_pgd,\n",
    "        accs_test_pgd=accs_test_pgd,\n",
    "        xs_train_pgd=xs_train_pgd,\n",
    "        xs_test_pgd=xs_test_pgd,\n",
    "    )"
   ]
  },
  {
   "cell_type": "markdown",
   "id": "2824e57f",
   "metadata": {},
   "source": [
    "### Poly, deg=2"
   ]
  },
  {
   "cell_type": "code",
   "execution_count": 19,
   "id": "f3f30c1c",
   "metadata": {
    "tags": []
   },
   "outputs": [
    {
     "name": "stdout",
     "output_type": "stream",
     "text": [
      "C=0.0001; n_support=[1000 1000]; b=-3.769e-04; gam=7.442e-01; coef0=1\n",
      "C=0.0001; accs_train=(0.9890, 0.6350); accs_test=(0.9300, 0.1380)\n",
      "C=0.0001; accs_train_arad=(0.9850, 0.5730); accs_test_arad=(0.9120, 0.1140)\n",
      "C=0.0001; accs_train_pgd=(0.1580, 0.0160); accs_test_pgd=(0.0500, 0.0000)\n",
      "C=0.01; n_support=[1000 1000]; b=-3.769e-02; gam=7.442e-01; coef0=1\n",
      "C=0.01; accs_train=(0.9890, 0.6350); accs_test=(0.9300, 0.1380)\n",
      "C=0.01; accs_train_arad=(0.9850, 0.5730); accs_test_arad=(0.9120, 0.1140)\n",
      "C=0.01; accs_train_pgd=(0.1580, 0.0160); accs_test_pgd=(0.0500, 0.0000)\n",
      "C=1; n_support=[861 967]; b=-6.316e-01; gam=7.442e-01; coef0=1\n",
      "C=1; accs_train=(0.9980, 1.0000); accs_test=(0.8420, 0.3060)\n",
      "C=1; accs_train_arad=(0.9980, 0.9990); accs_test_arad=(0.8020, 0.2500)\n",
      "C=1; accs_train_pgd=(0.0070, 0.0040); accs_test_pgd=(0.0180, 0.0000)\n",
      "C=100; n_support=[852 974]; b=-6.858e-01; gam=7.442e-01; coef0=1\n",
      "C=100; accs_train=(1.0000, 1.0000); accs_test=(0.8520, 0.2660)\n",
      "C=100; accs_train_arad=(1.0000, 1.0000); accs_test_arad=(0.8180, 0.2280)\n",
      "C=100; accs_train_pgd=(0.0120, 0.0030); accs_test_pgd=(0.0220, 0.0000)\n",
      "CPU times: user 1min 12s, sys: 843 ms, total: 1min 13s\n",
      "Wall time: 1min 15s\n"
     ]
    }
   ],
   "source": [
    "%%time\n",
    "RESULTS[\"svm-poly\"] = []\n",
    "for c in [1e-4, 1e-2, 1, 100]:\n",
    "    clf = svm.SVC(kernel=\"poly\", degree=2, coef0=1, C=c)\n",
    "    clf.fit(xs_train, ys_train)\n",
    "\n",
    "    res_dict = dict(clf=clf)\n",
    "    res_dict.update(\n",
    "        eval_svm_clf(\n",
    "            clf=clf,\n",
    "            label=f\"C={c}\",\n",
    "            attack_eps=0.1,\n",
    "            pgd_step_size=0.1/10,\n",
    "            pgd_num_steps=20,\n",
    "        )\n",
    "    )\n",
    "\n",
    "    RESULTS[\"svm-poly\"].append(res_dict)"
   ]
  },
  {
   "cell_type": "markdown",
   "id": "d8fe78aa",
   "metadata": {},
   "source": [
    "### RBF"
   ]
  },
  {
   "cell_type": "code",
   "execution_count": 25,
   "id": "709977d9",
   "metadata": {
    "tags": []
   },
   "outputs": [
    {
     "name": "stdout",
     "output_type": "stream",
     "text": [
      "C=0.0001; n_support=[1000 1000]; b=7.251e-03; gam=7.442e-01; coef0=0.0\n",
      "C=0.0001; accs_train=(1.0000, 1.0000); accs_test=(1.0000, 1.0000)\n",
      "C=0.0001; accs_train_arad=(0.9800, 0.9970); accs_test_arad=(0.9660, 0.9780)\n",
      "C=0.0001; accs_train_pgd=(0.9780, 0.9970); accs_test_pgd=(0.9640, 0.9780)\n",
      "C=0.01; n_support=[1000 1000]; b=7.251e-01; gam=7.442e-01; coef0=0.0\n",
      "C=0.01; accs_train=(1.0000, 1.0000); accs_test=(1.0000, 1.0000)\n",
      "C=0.01; accs_train_arad=(0.9800, 0.9970); accs_test_arad=(0.9660, 0.9780)\n",
      "C=0.01; accs_train_pgd=(0.9780, 0.9970); accs_test_pgd=(0.9640, 0.9780)\n",
      "C=1; n_support=[408 487]; b=4.070e+00; gam=7.442e-01; coef0=0.0\n",
      "C=1; accs_train=(1.0000, 1.0000); accs_test=(1.0000, 1.0000)\n",
      "C=1; accs_train_arad=(1.0000, 1.0000); accs_test_arad=(0.9740, 0.9660)\n",
      "C=1; accs_train_pgd=(1.0000, 1.0000); accs_test_pgd=(0.9740, 0.9640)\n",
      "C=100.0; n_support=[408 488]; b=4.070e+00; gam=7.442e-01; coef0=0.0\n",
      "C=100.0; accs_train=(1.0000, 1.0000); accs_test=(1.0000, 1.0000)\n",
      "C=100.0; accs_train_arad=(1.0000, 1.0000); accs_test_arad=(0.9740, 0.9660)\n",
      "C=100.0; accs_train_pgd=(1.0000, 1.0000); accs_test_pgd=(0.9740, 0.9640)\n",
      "C=10000.0; n_support=[408 488]; b=4.070e+00; gam=7.442e-01; coef0=0.0\n",
      "C=10000.0; accs_train=(1.0000, 1.0000); accs_test=(1.0000, 1.0000)\n",
      "C=10000.0; accs_train_arad=(1.0000, 1.0000); accs_test_arad=(0.9740, 0.9660)\n",
      "C=10000.0; accs_train_pgd=(1.0000, 1.0000); accs_test_pgd=(0.9740, 0.9640)\n",
      "CPU times: user 1min 16s, sys: 252 ms, total: 1min 17s\n",
      "Wall time: 1min 16s\n"
     ]
    }
   ],
   "source": [
    "%%time\n",
    "attack_eps = 0.1\n",
    "\n",
    "RESULTS[\"svm-rbf\"] = []\n",
    "for c in [1e-4, 1e-2, 1, 1e2, 1e4]:\n",
    "    clf = svm.SVC(kernel=\"rbf\", C=c)\n",
    "    clf.fit(xs_train, ys_train)\n",
    "    \n",
    "    res_dict = dict(clf=clf)\n",
    "    res_dict.update(\n",
    "        eval_svm_clf(\n",
    "            clf=clf,\n",
    "            label=f\"C={c}\",\n",
    "            attack_eps=0.1,\n",
    "            pgd_step_size=0.1/10,\n",
    "            pgd_num_steps=20,\n",
    "        )\n",
    "    )\n",
    "\n",
    "    RESULTS[\"svm-rbf\"].append(res_dict)"
   ]
  },
  {
   "cell_type": "code",
   "execution_count": 26,
   "id": "7f47c2e0",
   "metadata": {},
   "outputs": [
    {
     "data": {
      "image/png": "[encoded data removed]",
      "text/plain": [
       "<Figure size 864x720 with 3 Axes>"
      ]
     },
     "metadata": {
      "needs_background": "light"
     },
     "output_type": "display_data"
    }
   ],
   "source": [
    "idx = 1\n",
    "clf = RESULTS[\"svm-rbf\"][idx][\"clf\"]\n",
    "xs_test_pgd = RESULTS[\"svm-rbf\"][idx][\"xs_test_pgd\"]\n",
    "\n",
    "alphas = clf.dual_coef_.flatten() * (2 * ys_train - 1)[clf.support_.flatten()]\n",
    "\n",
    "def rbf_small_c_act(clf: svm.SVC, r: float):\n",
    "    num_samples, dim = xs_train.shape\n",
    "    return (clf.C * num_samples  / 2) * (\n",
    "        -np.exp(-clf._gamma * (_R0 ** 2 + r ** 2))\n",
    "        + np.exp(-clf._gamma * (_R1 ** 2 + r ** 2))\n",
    "    ) + clf.intercept_[0]\n",
    "\n",
    "\n",
    "plt.figure(figsize=(12, 10))\n",
    "\n",
    "plt.subplot(2, 2, 1)\n",
    "plt.hist(np.linalg.norm(xs_test, ord=2, axis=-1), density=True, bins=50, alpha=0.5, label=\"nat\");\n",
    "plt.hist(np.linalg.norm(xs_test_pgd, ord=2, axis=-1), density=True, bins=50, alpha=0.5, label=\"pgd\");\n",
    "plt.xlabel(\"radius\");\n",
    "plt.legend();\n",
    "\n",
    "plt.subplot(2, 2, 2)\n",
    "plt.hist(alphas, bins=50, range=[-clf.C, clf.C])\n",
    "\n",
    "plt.subplot(2, 2, 3)\n",
    "plt.title(\"nat activations\")\n",
    "plt.hist(\n",
    "    clf.decision_function(xs_test[ys_test == 0]),\n",
    "    density=True, bins=50, alpha=0.5, label=\"cls=0\"\n",
    ");\n",
    "plt.hist(\n",
    "    clf.decision_function(xs_test[ys_test == 1]),\n",
    "    density=True, bins=50, alpha=0.5, label=\"cls=1\"\n",
    ");\n",
    "plt.axvline(rbf_small_c_act(clf, r=1.0), color=\"C0\", ls=\"--\");\n",
    "plt.axvline(rbf_small_c_act(clf, r=1.3), color=\"C1\", ls=\"--\");\n",
    "\n",
    "plt.hist(\n",
    "    clf.decision_function(xs_test_pgd[ys_test == 0]),\n",
    "    density=True, bins=50, alpha=0.5, label=\"cls=0_pgd\"\n",
    ");\n",
    "plt.hist(\n",
    "    clf.decision_function(xs_test_pgd[ys_test == 1]),\n",
    "    density=True, bins=50, alpha=0.5, label=\"cls=1_pgd\"\n",
    ");\n",
    "\n",
    "plt.legend();"
   ]
  },
  {
   "cell_type": "markdown",
   "id": "0c9938f0",
   "metadata": {},
   "source": [
    "For the RBF kernel and small values of $C$ (i.e. strong regularization),\n",
    "the SVM learns $\\alpha^* = C \\cdot 1_n$.\n",
    "\n",
    "This in effect turns the classifier into a threshold classifier on vector norm, hence why it is so accurate and robust."
   ]
  },
  {
   "cell_type": "markdown",
   "id": "5be38e83",
   "metadata": {},
   "source": [
    "### FC-NTK"
   ]
  },
  {
   "cell_type": "markdown",
   "id": "1063271f",
   "metadata": {},
   "source": [
    "#### depth=2"
   ]
  },
  {
   "cell_type": "code",
   "execution_count": 23,
   "id": "2d26ceb5",
   "metadata": {},
   "outputs": [
    {
     "name": "stdout",
     "output_type": "stream",
     "text": [
      "C=0.0001; n_support=[1000 1000]; b=-6.002e-06; gam=0.000e+00; coef0=0.0\n",
      "C=0.0001; accs_train=(1.0000, 1.0000); accs_test=(1.0000, 1.0000)\n",
      "C=0.0001; accs_train_arad=(1.0000, 0.9450); accs_test_arad=(1.0000, 0.8200)\n",
      "C=0.0001; accs_train_pgd=(1.0000, 0.9380); accs_test_pgd=(1.0000, 0.8060)\n",
      "C=0.01; n_support=[1000 1000]; b=-6.002e-04; gam=0.000e+00; coef0=0.0\n",
      "C=0.01; accs_train=(1.0000, 1.0000); accs_test=(1.0000, 1.0000)\n",
      "C=0.01; accs_train_arad=(1.0000, 0.9450); accs_test_arad=(1.0000, 0.8200)\n",
      "C=0.01; accs_train_pgd=(1.0000, 0.9380); accs_test_pgd=(1.0000, 0.8060)\n",
      "C=1; n_support=[1000 1000]; b=-6.002e-02; gam=0.000e+00; coef0=0.0\n",
      "C=1; accs_train=(1.0000, 1.0000); accs_test=(1.0000, 1.0000)\n",
      "C=1; accs_train_arad=(1.0000, 0.9450); accs_test_arad=(1.0000, 0.8200)\n",
      "C=1; accs_train_pgd=(1.0000, 0.9380); accs_test_pgd=(1.0000, 0.8060)\n",
      "C=100.0; n_support=[976 980]; b=-5.642e+00; gam=0.000e+00; coef0=0.0\n",
      "C=100.0; accs_train=(1.0000, 1.0000); accs_test=(1.0000, 1.0000)\n",
      "C=100.0; accs_train_arad=(0.9990, 0.9810); accs_test_arad=(0.9980, 0.9020)\n",
      "C=100.0; accs_train_pgd=(0.9990, 0.9750); accs_test_pgd=(0.9980, 0.8880)\n",
      "C=10000.0; n_support=[570 662]; b=-7.307e+00; gam=0.000e+00; coef0=0.0\n",
      "C=10000.0; accs_train=(1.0000, 1.0000); accs_test=(1.0000, 1.0000)\n",
      "C=10000.0; accs_train_arad=(1.0000, 1.0000); accs_test_arad=(0.9940, 0.9160)\n",
      "C=10000.0; accs_train_pgd=(1.0000, 1.0000); accs_test_pgd=(0.9860, 0.9020)\n",
      "CPU times: user 33.3 s, sys: 2.3 s, total: 35.6 s\n",
      "Wall time: 33.5 s\n"
     ]
    }
   ],
   "source": [
    "%%time\n",
    "_, _, fc_ntk = stax.serial(\n",
    "  stax.Dense(1, W_std=1, b_std=0), stax.Relu(),\n",
    "  stax.Dense(1, W_std=1, b_std=0), stax.Relu(),\n",
    "  stax.Dense(1, W_std=1, b_std=0)\n",
    ")\n",
    "attack_eps = 0.1\n",
    "\n",
    "RESULTS[\"svm-fc-ntk-d2\"] = []\n",
    "for c in [1e-4, 1e-2, 1, 1e2, 1e4]:\n",
    "    clf = svm.SVC(kernel=lambda A, B: fc_ntk(A, B, \"ntk\"), C=c)\n",
    "    clf.fit(xs_train, ys_train)\n",
    "    # Manually set support vectors due to bug in sklearn\n",
    "    clf.support_vectors_ = \\\n",
    "        np.take(xs_train, clf.support_, axis=0)\n",
    "    \n",
    "    res_dict = dict(clf=clf)\n",
    "    res_dict.update(\n",
    "        eval_svm_clf(\n",
    "            clf=clf,\n",
    "            label=f\"C={c}\",\n",
    "            attack_eps=0.1,\n",
    "            pgd_step_size=0.1/10,\n",
    "            pgd_num_steps=20,\n",
    "        )\n",
    "    )\n",
    "\n",
    "    RESULTS[\"svm-fc-ntk-d2\"].append(res_dict)"
   ]
  },
  {
   "cell_type": "code",
   "execution_count": 24,
   "id": "834c45b4",
   "metadata": {},
   "outputs": [
    {
     "data": {
      "application/vnd.jupyter.widget-view+json": {
       "model_id": "",
       "version_major": 2,
       "version_minor": 0
      },
      "text/plain": [
       "  0%|          | 0/128 [00:00<?, ?it/s]"
      ]
     },
     "metadata": {},
     "output_type": "display_data"
    },
    {
     "data": {
      "application/vnd.jupyter.widget-view+json": {
       "model_id": "",
       "version_major": 2,
       "version_minor": 0
      },
      "text/plain": [
       "  0%|          | 0/128 [00:00<?, ?it/s]"
      ]
     },
     "metadata": {},
     "output_type": "display_data"
    },
    {
     "name": "stdout",
     "output_type": "stream",
     "text": [
      "CPU times: user 1min 6s, sys: 7.37 s, total: 1min 14s\n",
      "Wall time: 1min 5s\n"
     ]
    },
    {
     "data": {
      "text/plain": [
       "[<matplotlib.lines.Line2D at 0x7fd66850a730>]"
      ]
     },
     "execution_count": 24,
     "metadata": {},
     "output_type": "execute_result"
    },
    {
     "data": {
      "image/png": "[encoded data removed]",
      "text/plain": [
       "<Figure size 864x216 with 2 Axes>"
      ]
     },
     "metadata": {
      "needs_background": "light"
     },
     "output_type": "display_data"
    }
   ],
   "source": [
    "%%time\n",
    "plt.figure(figsize=(12, 3))\n",
    "\n",
    "plt.subplot(1, 2, 1)\n",
    "rads = np.linspace(start=0, stop=2, num=128)\n",
    "cls1_fracs = cls1_frac_by_rad(clf=RESULTS[\"svm-fc-ntk-d2\"][0][\"clf\"], rads=rads)\n",
    "plt.plot(rads, cls1_fracs);\n",
    "\n",
    "plt.subplot(1, 2, 2)\n",
    "rads = np.linspace(start=0.8, stop=1.5, num=128)\n",
    "cls1_fracs = cls1_frac_by_rad(clf=RESULTS[\"svm-fc-ntk-d2\"][0][\"clf\"], rads=rads)\n",
    "plt.plot(rads, cls1_fracs);"
   ]
  },
  {
   "cell_type": "markdown",
   "id": "6e129932",
   "metadata": {},
   "source": [
    "It turns out depth 2 FC NTK robustly learns the nested Gaussians!"
   ]
  }
 ],
 "metadata": {
  "kernelspec": {
   "display_name": "Python 3",
   "language": "python",
   "name": "python3"
  },
  "language_info": {
   "codemirror_mode": {
    "name": "ipython",
    "version": 3
   },
   "file_extension": ".py",
   "mimetype": "text/x-python",
   "name": "python",
   "nbconvert_exporter": "python",
   "pygments_lexer": "ipython3",
   "version": "3.8.8"
  }
 },
 "nbformat": 4,
 "nbformat_minor": 5
}
