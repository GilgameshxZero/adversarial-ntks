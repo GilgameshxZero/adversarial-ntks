{
 "cells": [
  {
   "cell_type": "code",
   "execution_count": 1,
   "id": "07c3848d",
   "metadata": {},
   "outputs": [
    {
     "data": {
      "text/plain": [
       "[GpuDevice(id=0, task=0)]"
      ]
     },
     "execution_count": 1,
     "metadata": {},
     "output_type": "execute_result"
    }
   ],
   "source": [
    "import os\n",
    "os.environ[\"XLA_PYTHON_CLIENT_PREALLOCATE\"] = \"false\"\n",
    "os.environ[\"TF_CPP_MIN_LOG_LEVEL\"] = \"0\"\n",
    "\n",
    "import matplotlib.pyplot as plt\n",
    "import numpy as np\n",
    "from sklearn import svm\n",
    "from tqdm.notebook import tqdm\n",
    "\n",
    "import jax\n",
    "import jax.numpy as jnp\n",
    "jax.config.update(\"jax_enable_x64\", True)\n",
    "\n",
    "jnp.array([0]) # So warnings don't show up later\n",
    "jax.local_devices()"
   ]
  },
  {
   "cell_type": "code",
   "execution_count": 2,
   "id": "ebecd6f5",
   "metadata": {},
   "outputs": [],
   "source": [
    "import sys\n",
    "sys.path.append(\"../..\")\n",
    "\n",
    "from adversarial_ntks import attacks, jsvc"
   ]
  },
  {
   "cell_type": "markdown",
   "id": "80d208da",
   "metadata": {},
   "source": [
    "# Data generation\n",
    "\n",
    "Our data in labeled by $Y \\in \\{0, 1\\}$,\n",
    "and $X | Y \\sim \\mathcal{N}(0, \\sigma_Y \\cdot I_d)$."
   ]
  },
  {
   "cell_type": "code",
   "execution_count": 3,
   "id": "383965aa",
   "metadata": {},
   "outputs": [
    {
     "data": {
      "text/plain": [
       "array([[ 0.05495964, -1.65815198],\n",
       "       [ 0.08483867,  0.5164537 ],\n",
       "       [ 0.32682863,  0.38050427],\n",
       "       [-0.65236533,  0.35630801]])"
      ]
     },
     "execution_count": 3,
     "metadata": {},
     "output_type": "execute_result"
    }
   ],
   "source": [
    "def generate_normal_data(dim, s0, s1, num_samples):\n",
    "    assert num_samples % 2 == 0\n",
    "    assert s0 <= s1\n",
    "    \n",
    "    ys = np.concatenate([\n",
    "        np.zeros(shape=num_samples // 2, dtype=np.int64),\n",
    "        np.ones(shape=num_samples // 2, dtype=np.int64)\n",
    "    ])\n",
    "    \n",
    "    xs = np.concatenate([\n",
    "        np.random.normal(scale=s0, size=(num_samples // 2, dim)),\n",
    "        np.random.normal(scale=s1, size=(num_samples // 2, dim))\n",
    "    ])\n",
    "    \n",
    "    perm = np.random.permutation(num_samples)\n",
    "    xs = xs[perm]\n",
    "    ys = ys[perm]\n",
    "    \n",
    "    return xs, ys\n",
    "\n",
    "def normalize(xs: np.ndarray, norm):\n",
    "    norm_xs = xs / np.linalg.norm(xs, axis=-1, ord=norm).reshape(-1, 1)\n",
    "    return norm_xs\n",
    "\n",
    "def radial_attack(\n",
    "    xs: np.ndarray, ys: np.ndarray,\n",
    "    attack_norm, attack_eps,\n",
    "):\n",
    "    norm_xs = normalize(xs, norm=attack_norm)\n",
    "    \n",
    "    adv_xs = xs.copy()\n",
    "    adv_xs[ys == 0] += attack_eps * norm_xs[ys == 0]\n",
    "    adv_xs[ys == 1] -= attack_eps * norm_xs[ys == 1]\n",
    "    \n",
    "    return adv_xs\n",
    "\n",
    "xs, ys = generate_normal_data(dim=2, s0=0.3, s1=0.7, num_samples=4)\n",
    "radial_attack(xs=xs, ys=ys, attack_norm=2, attack_eps=0.1)"
   ]
  },
  {
   "cell_type": "markdown",
   "id": "acdf36a8",
   "metadata": {},
   "source": [
    "## Some utilities"
   ]
  },
  {
   "cell_type": "code",
   "execution_count": 4,
   "id": "77153000",
   "metadata": {},
   "outputs": [],
   "source": [
    "def accs_by_cls(preds, ys):\n",
    "    return (preds[ys == 0] == 0).mean(), (preds[ys == 1] == 1).mean()\n",
    "\n",
    "def fmt_accs(accs):\n",
    "    return \"(\" + \", \".join(f\"{a:.4f}\" for a in accs) + \")\""
   ]
  },
  {
   "cell_type": "markdown",
   "id": "f25fcef8",
   "metadata": {},
   "source": [
    "# Experiments"
   ]
  },
  {
   "cell_type": "code",
   "execution_count": 5,
   "id": "6ae7ad4d",
   "metadata": {},
   "outputs": [],
   "source": [
    "RESULTS = dict() # used to store experiment artifacts"
   ]
  },
  {
   "cell_type": "code",
   "execution_count": 6,
   "id": "86374b0f",
   "metadata": {},
   "outputs": [
    {
     "data": {
      "image/png": "[encoded data removed]",
      "text/plain": [
       "<Figure size 432x288 with 1 Axes>"
      ]
     },
     "metadata": {
      "needs_background": "light"
     },
     "output_type": "display_data"
    }
   ],
   "source": [
    "dim = 1000\n",
    "s0, s1 = 1.0 / np.sqrt(dim), 1.3 / np.sqrt(dim)\n",
    "\n",
    "xs_train, ys_train = generate_normal_data(\n",
    "    dim=dim, s0=s0, s1=s1, num_samples=2000,\n",
    ")\n",
    "xs_test, ys_test = generate_normal_data(\n",
    "    dim=dim, s0=s0, s1=s1, num_samples=1000,\n",
    ")\n",
    "\n",
    "plt.title(\"xs_train radii\")\n",
    "plt.hist(np.linalg.norm(xs_train, ord=2, axis=-1), density=True, bins=50);"
   ]
  },
  {
   "cell_type": "markdown",
   "id": "472e2698",
   "metadata": {},
   "source": [
    "## Kernel SVM\n",
    "\n",
    "See https://scikit-learn.org/stable/modules/svm.html#svc to check that the formulation below matches the sklearn specs.\n",
    "\n",
    "Let $(x_1, y_1), \\ldots, (x_n, y_n) \\in \\mathcal{X} \\times \\{\\pm 1\\}$ be training data.\n",
    "\n",
    "A binary kernel classifier $f_{\\alpha, b}: \\mathcal{X} \\to \\{\\pm 1\\}$ parameterized by\n",
    "$\\alpha, b \\in \\mathbb{R}^n \\times \\mathbb{R}$\n",
    "and with kernel $k: \\mathcal{X} \\times \\mathcal{X} \\to \\mathbb{R}$ acts as\n",
    "\n",
    "$$\n",
    "f_{\\alpha, b}(x) = \\mathrm{sgn} \\left( \\sum_{i = 1}^n \\alpha_i \\, k(x_i, x) + b \\right).\n",
    "$$\n",
    "\n",
    "For a SVM, $\\alpha$ and $b$ are found via empirical risk minimization on the regularized hinge loss:\n",
    "\n",
    "$$\n",
    "\\underset{\\alpha, \\,b \\,\\in\\, \\mathbb{R}^d \\times \\mathbb{R}}{\\mathrm{argmin}} \\quad\n",
    "\\sum_{i = 1}^n \\max(0, 1 - y_i f_\\alpha(x_i)) +\n",
    "\\frac{1}{2C} \\sum_{i = 1}^n \\sum_{j = 1}^n \\alpha_i \\, \\alpha_j \\, k(x_i, x_j)\n",
    "$$\n",
    "\n",
    "Here $C$ inversely controls the strength of regularization, i.e. large $C$ means no regularization.\n",
    "However note that $C$ does not automatically scale with $n$.\n",
    "\n",
    "### Notes\n",
    "For theoretical analysis, we could drop the bias term since we can incorporate it into the kernel."
   ]
  },
  {
   "cell_type": "code",
   "execution_count": 7,
   "id": "e445c1f6",
   "metadata": {},
   "outputs": [],
   "source": [
    "def eval_svm_clf(\n",
    "    clf: svm.SVC,\n",
    "    attack_eps: float,\n",
    "    pgd_step_size: float,\n",
    "    pgd_num_steps: int,\n",
    "    verbose: bool = True,\n",
    "    label: str = \"\",\n",
    "):\n",
    "    if verbose:\n",
    "        print(f\"{label}; n_support={clf.n_support_}; b={clf.intercept_}\")\n",
    "    \n",
    "    accs_train = accs_by_cls(preds=clf.predict(xs_train), ys=ys_train)\n",
    "    accs_test = accs_by_cls(preds=clf.predict(xs_test), ys=ys_test)\n",
    "    if verbose:\n",
    "        print(f\"{label}; accs_train={fmt_accs(accs_train)}; accs_test={fmt_accs(accs_test)}\")\n",
    "    \n",
    "    xs_train_arad = radial_attack(xs=xs_train, ys=ys_train, attack_norm=2, attack_eps=attack_eps)\n",
    "    xs_test_arad = radial_attack(xs=xs_test, ys=ys_test, attack_norm=2, attack_eps=attack_eps)\n",
    "    accs_train_arad = accs_by_cls(preds=clf.predict(xs_train_arad), ys=ys_train)\n",
    "    accs_test_arad = accs_by_cls(preds=clf.predict(xs_test_arad), ys=ys_test)\n",
    "    if verbose:\n",
    "        print(f\"{label}; accs_train_arad={fmt_accs(accs_train_arad)}; accs_test_arad={fmt_accs(accs_test_arad)}\")\n",
    "    \n",
    "    xs_train_pgd = attacks.pgd(\n",
    "        X=jnp.array(xs_train), Y=jnp.array(ys_train),\n",
    "        grad_func=lambda X: jsvc.grad_decision_function(clf, X),\n",
    "        eps=attack_eps, eps_norm=2,\n",
    "        step_size=pgd_step_size, step_norm=2,\n",
    "        num_steps=pgd_num_steps,\n",
    "        pixel_clip=False,\n",
    "    )\n",
    "    xs_test_pgd = attacks.pgd(\n",
    "        X=jnp.array(xs_test), Y=jnp.array(ys_test),\n",
    "        grad_func=lambda X: jsvc.grad_decision_function(clf, X),\n",
    "        eps=attack_eps, eps_norm=2,\n",
    "        step_size=pgd_step_size, step_norm=2,\n",
    "        num_steps=pgd_num_steps,\n",
    "        pixel_clip=False,\n",
    "    )\n",
    "    accs_train_pgd = accs_by_cls(preds=clf.predict(xs_train_pgd), ys=ys_train)\n",
    "    accs_test_pgd = accs_by_cls(preds=clf.predict(xs_test_pgd), ys=ys_test)\n",
    "    if verbose:\n",
    "        print(f\"{label}; accs_train_pgd={fmt_accs(accs_train_pgd)}; accs_test_pgd={fmt_accs(accs_test_pgd)}\")\n",
    "\n",
    "    return dict(\n",
    "        accs_train=accs_train,\n",
    "        accs_test=accs_test,\n",
    "        attack_eps=attack_eps,\n",
    "        accs_train_arad=accs_train_arad,\n",
    "        accs_test_arad=accs_test_arad,\n",
    "        accs_train_pgd=accs_train_pgd,\n",
    "        accs_test_pgd=accs_test_pgd,\n",
    "        xs_train_pgd=xs_train_pgd,\n",
    "        xs_test_pgd=xs_test_pgd,\n",
    "    )"
   ]
  },
  {
   "cell_type": "markdown",
   "id": "b215b7a6",
   "metadata": {},
   "source": [
    "### Poly, deg=2"
   ]
  },
  {
   "cell_type": "code",
   "execution_count": 8,
   "id": "a950093e",
   "metadata": {},
   "outputs": [
    {
     "name": "stdout",
     "output_type": "stream",
     "text": [
      "C=0.0001; n_support=[1000 1000]; b=[-0.00021592]\n",
      "C=0.0001; accs_train=(0.9400, 0.7980); accs_test=(0.7500, 0.3040)\n",
      "C=0.0001; accs_train_arad=(0.9340, 0.7650); accs_test_arad=(0.7160, 0.2820)\n",
      "C=0.0001; accs_train_pgd=(0.0600, 0.0440); accs_test_pgd=(0.0140, 0.0100)\n",
      "C=0.01; n_support=[1000 1000]; b=[-0.02159225]\n",
      "C=0.01; accs_train=(0.9400, 0.7980); accs_test=(0.7500, 0.3040)\n",
      "C=0.01; accs_train_arad=(0.9340, 0.7650); accs_test_arad=(0.7160, 0.2820)\n",
      "C=0.01; accs_train_pgd=(0.0600, 0.0440); accs_test_pgd=(0.0140, 0.0100)\n",
      "C=1; n_support=[871 980]; b=[-0.63833934]\n",
      "C=1; accs_train=(0.9980, 0.9990); accs_test=(0.7800, 0.3140)\n",
      "C=1; accs_train_arad=(0.9980, 0.9990); accs_test_arad=(0.7540, 0.2720)\n",
      "C=1; accs_train_pgd=(0.0090, 0.0020); accs_test_pgd=(0.0080, 0.0060)\n",
      "C=100; n_support=[860 983]; b=[-0.69085282]\n",
      "C=100; accs_train=(1.0000, 1.0000); accs_test=(0.8200, 0.3120)\n",
      "C=100; accs_train_arad=(1.0000, 1.0000); accs_test_arad=(0.7640, 0.2580)\n",
      "C=100; accs_train_pgd=(0.0120, 0.0020); accs_test_pgd=(0.0120, 0.0060)\n",
      "CPU times: user 1min 15s, sys: 1.21 s, total: 1min 16s\n",
      "Wall time: 1min 20s\n"
     ]
    }
   ],
   "source": [
    "%%time\n",
    "RESULTS[\"svm-poly\"] = []\n",
    "for c in [1e-4, 1e-2, 1, 100]:\n",
    "    clf = svm.SVC(kernel=\"poly\", degree=2, coef0=1, C=c)\n",
    "    clf.fit(xs_train, ys_train)\n",
    "\n",
    "    res_dict = dict(clf=clf)\n",
    "    res_dict.update(\n",
    "        eval_svm_clf(\n",
    "            clf=clf,\n",
    "            label=f\"C={c}\",\n",
    "            attack_eps=0.1,\n",
    "            pgd_step_size=0.1/10,\n",
    "            pgd_num_steps=20,\n",
    "        )\n",
    "    )\n",
    "\n",
    "    RESULTS[\"svm-poly\"].append(res_dict)"
   ]
  },
  {
   "cell_type": "markdown",
   "id": "5e1708c3",
   "metadata": {},
   "source": [
    "### RBF"
   ]
  },
  {
   "cell_type": "code",
   "execution_count": 9,
   "id": "6099f6ee",
   "metadata": {},
   "outputs": [
    {
     "name": "stdout",
     "output_type": "stream",
     "text": [
      "C=0.0001; n_support=[1000 1000]; b=[0.0073058]\n",
      "C=0.0001; accs_train=(1.0000, 1.0000); accs_test=(1.0000, 1.0000)\n",
      "C=0.0001; accs_train_arad=(0.9770, 0.9910); accs_test_arad=(0.9500, 0.9840)\n",
      "C=0.0001; accs_train_pgd=(0.9770, 0.9910); accs_test_pgd=(0.9500, 0.9840)\n",
      "C=0.01; n_support=[1000 1000]; b=[0.73058003]\n",
      "C=0.01; accs_train=(1.0000, 1.0000); accs_test=(1.0000, 1.0000)\n",
      "C=0.01; accs_train_arad=(0.9770, 0.9910); accs_test_arad=(0.9500, 0.9840)\n",
      "C=0.01; accs_train_pgd=(0.9770, 0.9910); accs_test_pgd=(0.9500, 0.9840)\n",
      "C=1; n_support=[424 447]; b=[4.09425553]\n",
      "C=1; accs_train=(1.0000, 1.0000); accs_test=(1.0000, 1.0000)\n",
      "C=1; accs_train_arad=(1.0000, 1.0000); accs_test_arad=(0.9540, 0.9740)\n",
      "C=1; accs_train_pgd=(1.0000, 1.0000); accs_test_pgd=(0.9520, 0.9740)\n",
      "C=100.0; n_support=[424 447]; b=[4.09427757]\n",
      "C=100.0; accs_train=(1.0000, 1.0000); accs_test=(1.0000, 1.0000)\n",
      "C=100.0; accs_train_arad=(1.0000, 1.0000); accs_test_arad=(0.9540, 0.9740)\n",
      "C=100.0; accs_train_pgd=(1.0000, 1.0000); accs_test_pgd=(0.9520, 0.9740)\n",
      "C=10000.0; n_support=[424 447]; b=[4.09427757]\n",
      "C=10000.0; accs_train=(1.0000, 1.0000); accs_test=(1.0000, 1.0000)\n",
      "C=10000.0; accs_train_arad=(1.0000, 1.0000); accs_test_arad=(0.9540, 0.9740)\n",
      "C=10000.0; accs_train_pgd=(1.0000, 1.0000); accs_test_pgd=(0.9520, 0.9740)\n",
      "CPU times: user 1min 16s, sys: 616 ms, total: 1min 17s\n",
      "Wall time: 1min 16s\n"
     ]
    }
   ],
   "source": [
    "%%time\n",
    "attack_eps = 0.1\n",
    "\n",
    "RESULTS[\"svm-rbf\"] = []\n",
    "for c in [1e-4, 1e-2, 1, 1e2, 1e4]:\n",
    "    clf = svm.SVC(kernel=\"rbf\", C=c)\n",
    "    clf.fit(xs_train, ys_train)\n",
    "    \n",
    "    res_dict = dict(clf=clf)\n",
    "    res_dict.update(\n",
    "        eval_svm_clf(\n",
    "            clf=clf,\n",
    "            label=f\"C={c}\",\n",
    "            attack_eps=0.1,\n",
    "            pgd_step_size=0.1/10,\n",
    "            pgd_num_steps=20,\n",
    "        )\n",
    "    )\n",
    "\n",
    "    RESULTS[\"svm-rbf\"].append(res_dict)"
   ]
  },
  {
   "cell_type": "code",
   "execution_count": 11,
   "id": "a5ab37f4",
   "metadata": {},
   "outputs": [
    {
     "data": {
      "image/png": "[encoded data removed]",
      "text/plain": [
       "<Figure size 432x288 with 1 Axes>"
      ]
     },
     "metadata": {
      "needs_background": "light"
     },
     "output_type": "display_data"
    }
   ],
   "source": [
    "plt.hist(np.linalg.norm(xs_test, ord=2, axis=-1), density=True, bins=50, alpha=0.5, label=\"nat\");\n",
    "plt.hist(np.linalg.norm(RESULTS[\"svm-rbf\"][0][\"xs_test_pgd\"], ord=2, axis=-1), density=True, bins=50, alpha=0.5, label=\"pgd\");\n",
    "plt.xlabel(\"radius\");\n",
    "plt.legend();"
   ]
  },
  {
   "cell_type": "markdown",
   "id": "21a990e7",
   "metadata": {},
   "source": [
    "## Kernel regression\n",
    "\n",
    "Todo."
   ]
  },
  {
   "cell_type": "code",
   "execution_count": null,
   "id": "40aec403",
   "metadata": {},
   "outputs": [],
   "source": []
  },
  {
   "cell_type": "code",
   "execution_count": null,
   "id": "2aceb8b3",
   "metadata": {},
   "outputs": [],
   "source": []
  }
 ],
 "metadata": {
  "kernelspec": {
   "display_name": "Python 3",
   "language": "python",
   "name": "python3"
  },
  "language_info": {
   "codemirror_mode": {
    "name": "ipython",
    "version": 3
   },
   "file_extension": ".py",
   "mimetype": "text/x-python",
   "name": "python",
   "nbconvert_exporter": "python",
   "pygments_lexer": "ipython3",
   "version": "3.8.8"
  }
 },
 "nbformat": 4,
 "nbformat_minor": 5
}
