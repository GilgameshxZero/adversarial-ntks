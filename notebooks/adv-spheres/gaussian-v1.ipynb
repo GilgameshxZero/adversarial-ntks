{
 "cells": [
  {
   "cell_type": "markdown",
   "id": "beautiful-content",
   "metadata": {},
   "source": [
    "This notebook tries to extend the results from the adversarial spheres paper: https://arxiv.org/pdf/1801.02774.pdf\n",
    "\n",
    "In particular, instead of generating from spheres, we generate from Gaussians\n",
    "(with the hope that the high dimensionality makes them effectively spheres).\n",
    "\n",
    "Additionally, study the influence of the scale of the samples.\n",
    "We study when the samples have norm $O(1)$ (paper) and $O(\\sqrt{D})$ (real life)."
   ]
  },
  {
   "cell_type": "markdown",
   "id": "flexible-rapid",
   "metadata": {},
   "source": [
    "### Import dependencies"
   ]
  },
  {
   "cell_type": "code",
   "execution_count": 1,
   "id": "supposed-truck",
   "metadata": {},
   "outputs": [
    {
     "data": {
      "text/plain": [
       "[PhysicalDevice(name='/physical_device:CPU:0', device_type='CPU'),\n",
       " PhysicalDevice(name='/physical_device:XLA_CPU:0', device_type='XLA_CPU')]"
      ]
     },
     "execution_count": 1,
     "metadata": {},
     "output_type": "execute_result"
    }
   ],
   "source": [
    "import numpy as np\n",
    "import tensorflow as tf\n",
    "from tensorflow import keras\n",
    "from tensorflow.keras import layers\n",
    "\n",
    "from art.estimators.classification import TensorFlowV2Classifier\n",
    "from art.attacks.evasion import ProjectedGradientDescent\n",
    "\n",
    "tf.config.list_physical_devices(device_type=None)"
   ]
  },
  {
   "cell_type": "markdown",
   "id": "classified-brazilian",
   "metadata": {},
   "source": [
    "### Data generation utils"
   ]
  },
  {
   "cell_type": "code",
   "execution_count": 2,
   "id": "common-mapping",
   "metadata": {},
   "outputs": [
    {
     "data": {
      "text/plain": [
       "(array([[-0.35991261, -0.92676281],\n",
       "        [ 0.90548135, -0.64958558],\n",
       "        [ 0.06259854, -0.20744439],\n",
       "        [-0.44962108,  0.43866714]]),\n",
       " array([1, 1, 0, 0]))"
      ]
     },
     "execution_count": 2,
     "metadata": {},
     "output_type": "execute_result"
    }
   ],
   "source": [
    "def generate_normal_data(dim, s1, s2, num_samples):\n",
    "    assert num_samples % 2 == 0\n",
    "    \n",
    "    xs = np.concatenate([\n",
    "        np.random.normal(scale=s1, size=(num_samples // 2, dim)),\n",
    "        np.random.normal(scale=s2, size=(num_samples // 2, dim))\n",
    "    ])\n",
    "    \n",
    "    ys = np.concatenate([\n",
    "        np.zeros(shape=num_samples // 2, dtype=np.int64),\n",
    "        np.ones(shape=num_samples // 2, dtype=np.int64)\n",
    "    ])\n",
    "    \n",
    "    perm = np.random.permutation(num_samples)\n",
    "    xs = xs[perm]\n",
    "    ys = ys[perm]\n",
    "    \n",
    "    return xs, ys\n",
    "\n",
    "generate_normal_data(dim=2, s1=0.3, s2=0.7, num_samples=4)"
   ]
  },
  {
   "cell_type": "markdown",
   "id": "respected-kazakhstan",
   "metadata": {},
   "source": [
    "### Experiment setup"
   ]
  },
  {
   "cell_type": "code",
   "execution_count": 3,
   "id": "catholic-action",
   "metadata": {},
   "outputs": [],
   "source": [
    "def run_experiment(\n",
    "    dim,\n",
    "    s1,\n",
    "    s2,\n",
    "    model_layers,\n",
    "    train_batch_size,\n",
    "    train_epochs,\n",
    "    attack_norm,\n",
    "    attack_eps,\n",
    "    attack_eps_step,\n",
    "    attack_iters,\n",
    "    attack_batch_size=1024,\n",
    "    num_train=5 * 10 ** 4,\n",
    "    num_test=10 ** 4,\n",
    "    seed=42\n",
    "):\n",
    "    np.random.seed(seed)\n",
    "    tf.random.set_seed(seed)\n",
    "    \n",
    "    x_train, y_train = generate_normal_data(\n",
    "        dim=dim, s1=s1, s2=s2,\n",
    "        num_samples=num_train,\n",
    "    )\n",
    "\n",
    "    x_test, y_test = generate_normal_data(\n",
    "        dim=dim, s1=s1, s2=s2,\n",
    "        num_samples=num_test,\n",
    "    )\n",
    "    \n",
    "    model = keras.Sequential(\n",
    "        [keras.Input(shape=x_train[0].shape)]\n",
    "        + model_layers\n",
    "    )\n",
    "    model.compile(\n",
    "        loss=\"SparseCategoricalCrossentropy\",\n",
    "        optimizer=\"adam\",\n",
    "        metrics=[\"accuracy\"]\n",
    "    )\n",
    "    model.fit(\n",
    "        x_train,\n",
    "        y_train,\n",
    "        batch_size=train_batch_size,\n",
    "        epochs=train_epochs,\n",
    "        validation_split=0.1,\n",
    "        verbose=1,\n",
    "    )\n",
    "    \n",
    "    art_model = TensorFlowV2Classifier(\n",
    "        model=model,\n",
    "        input_shape=x_test[0].shape,\n",
    "        nb_classes=2,\n",
    "        loss_object=keras.losses.SparseCategoricalCrossentropy(),\n",
    "        clip_values=[-x_test.max(), x_test.max()],\n",
    "    )\n",
    "    art_attack = ProjectedGradientDescent(\n",
    "        art_model,\n",
    "        norm=attack_norm,\n",
    "        eps=attack_eps,\n",
    "        eps_step=attack_eps_step,\n",
    "        max_iter=attack_iters,\n",
    "        batch_size=attack_batch_size,\n",
    "    )\n",
    "    \n",
    "    x_train_adv = art_attack.generate(x_train[:num_test], y=y_train[:num_test])    \n",
    "    x_test_adv = art_attack.generate(x_test, y=y_test)\n",
    "    \n",
    "    _, nat_train_acc = model.evaluate(x_train, y_train, verbose=0)\n",
    "    _, nat_test_acc = model.evaluate(x_test, y_test, verbose=0)\n",
    "    _, adv_train_acc = model.evaluate(x_train_adv, y_train[:num_test], verbose=0)\n",
    "    _, adv_test_acc = model.evaluate(x_test_adv, y_test, verbose=0)\n",
    "    \n",
    "    print(\"Nat train acc :\", nat_train_acc)\n",
    "    print(\"Nat test  acc :\", nat_test_acc)\n",
    "    print(\"Adv train acc :\", adv_train_acc)\n",
    "    print(\"Adv test  acc :\", adv_test_acc)\n",
    "    \n",
    "    return dict(\n",
    "        model=model,\n",
    "        train_data=(x_train, y_train),\n",
    "        test_data=(x_test, y_test),\n",
    "        x_train_adv=x_train_adv,\n",
    "        x_test_adv=x_test_adv,\n",
    "    )"
   ]
  },
  {
   "cell_type": "code",
   "execution_count": 4,
   "id": "sticky-spencer",
   "metadata": {},
   "outputs": [
    {
     "name": "stdout",
     "output_type": "stream",
     "text": [
      "Epoch 1/10\n",
      "352/352 [==============================] - 3s 8ms/step - loss: 0.6972 - accuracy: 0.5314 - val_loss: 0.6581 - val_accuracy: 0.5442\n",
      "Epoch 2/10\n",
      "352/352 [==============================] - 3s 8ms/step - loss: 0.5636 - accuracy: 0.7060 - val_loss: 0.5160 - val_accuracy: 0.7362\n",
      "Epoch 3/10\n",
      "352/352 [==============================] - 3s 8ms/step - loss: 0.2460 - accuracy: 0.9003 - val_loss: 0.4429 - val_accuracy: 0.8140\n",
      "Epoch 4/10\n",
      "352/352 [==============================] - 3s 8ms/step - loss: 0.0884 - accuracy: 0.9681 - val_loss: 0.3627 - val_accuracy: 0.8536\n",
      "Epoch 5/10\n",
      "352/352 [==============================] - 3s 8ms/step - loss: 0.0516 - accuracy: 0.9816 - val_loss: 0.3939 - val_accuracy: 0.8580\n",
      "Epoch 6/10\n",
      "352/352 [==============================] - 3s 8ms/step - loss: 0.0395 - accuracy: 0.9860 - val_loss: 0.4040 - val_accuracy: 0.8604\n",
      "Epoch 7/10\n",
      "352/352 [==============================] - 3s 8ms/step - loss: 0.0364 - accuracy: 0.9874 - val_loss: 0.3596 - val_accuracy: 0.8768\n",
      "Epoch 8/10\n",
      "352/352 [==============================] - 3s 8ms/step - loss: 0.0348 - accuracy: 0.9870 - val_loss: 0.5137 - val_accuracy: 0.8540\n",
      "Epoch 9/10\n",
      "352/352 [==============================] - 3s 8ms/step - loss: 0.0325 - accuracy: 0.9884 - val_loss: 0.3456 - val_accuracy: 0.8934\n",
      "Epoch 10/10\n",
      "352/352 [==============================] - 3s 8ms/step - loss: 0.0282 - accuracy: 0.9892 - val_loss: 0.3457 - val_accuracy: 0.8898\n"
     ]
    },
    {
     "data": {
      "application/vnd.jupyter.widget-view+json": {
       "model_id": "",
       "version_major": 2,
       "version_minor": 0
      },
      "text/plain": [
       "PGD - Batches: 0it [00:00, ?it/s]"
      ]
     },
     "metadata": {},
     "output_type": "display_data"
    },
    {
     "data": {
      "application/vnd.jupyter.widget-view+json": {
       "model_id": "",
       "version_major": 2,
       "version_minor": 0
      },
      "text/plain": [
       "PGD - Batches: 0it [00:00, ?it/s]"
      ]
     },
     "metadata": {},
     "output_type": "display_data"
    },
    {
     "name": "stdout",
     "output_type": "stream",
     "text": [
      "Nat train acc : 0.9826599955558777\n",
      "Nat test  acc : 0.8935999870300293\n",
      "Adv train acc : 0.17970000207424164\n",
      "Adv test  acc : 0.05640000104904175\n"
     ]
    }
   ],
   "source": [
    "D = 500\n",
    "res = run_experiment(\n",
    "    dim=D,\n",
    "    s1=1.0, s2=1.3,\n",
    "    model_layers=[\n",
    "        layers.Dense(1000, activation=\"relu\"),\n",
    "        layers.Dense(1000, activation=\"relu\"),\n",
    "        layers.Dense(2, activation=\"softmax\"),\n",
    "    ],\n",
    "    train_batch_size=128,\n",
    "    train_epochs=10,\n",
    "    attack_norm=2,\n",
    "    attack_eps=0.18 * np.sqrt(D),\n",
    "    attack_eps_step=0.01 * np.sqrt(D),\n",
    "    attack_iters=40,\n",
    ")"
   ]
  },
  {
   "cell_type": "code",
   "execution_count": 5,
   "id": "caring-source",
   "metadata": {},
   "outputs": [
    {
     "name": "stdout",
     "output_type": "stream",
     "text": [
      "Epoch 1/10\n",
      "352/352 [==============================] - 3s 8ms/step - loss: 0.1618 - accuracy: 0.9246 - val_loss: 0.0475 - val_accuracy: 0.9830\n",
      "Epoch 2/10\n",
      "352/352 [==============================] - 3s 7ms/step - loss: 0.0098 - accuracy: 0.9970 - val_loss: 0.0407 - val_accuracy: 0.9850\n",
      "Epoch 3/10\n",
      "352/352 [==============================] - 3s 8ms/step - loss: 0.0118 - accuracy: 0.9960 - val_loss: 0.0693 - val_accuracy: 0.9758\n",
      "Epoch 4/10\n",
      "352/352 [==============================] - 3s 7ms/step - loss: 0.0106 - accuracy: 0.9961 - val_loss: 0.0600 - val_accuracy: 0.9802\n",
      "Epoch 5/10\n",
      "352/352 [==============================] - 3s 7ms/step - loss: 0.0082 - accuracy: 0.9971 - val_loss: 0.0624 - val_accuracy: 0.9808\n",
      "Epoch 6/10\n",
      "352/352 [==============================] - 3s 7ms/step - loss: 0.0084 - accuracy: 0.9971 - val_loss: 0.0464 - val_accuracy: 0.9838\n",
      "Epoch 7/10\n",
      "352/352 [==============================] - 3s 7ms/step - loss: 0.0054 - accuracy: 0.9981 - val_loss: 0.0548 - val_accuracy: 0.9806\n",
      "Epoch 8/10\n",
      "352/352 [==============================] - 3s 8ms/step - loss: 0.0083 - accuracy: 0.9972 - val_loss: 0.0438 - val_accuracy: 0.9844\n",
      "Epoch 9/10\n",
      "352/352 [==============================] - 3s 7ms/step - loss: 0.0051 - accuracy: 0.9981 - val_loss: 0.0660 - val_accuracy: 0.9808\n",
      "Epoch 10/10\n",
      "352/352 [==============================] - 3s 7ms/step - loss: 0.0044 - accuracy: 0.9986 - val_loss: 0.0538 - val_accuracy: 0.9844\n"
     ]
    },
    {
     "data": {
      "application/vnd.jupyter.widget-view+json": {
       "model_id": "",
       "version_major": 2,
       "version_minor": 0
      },
      "text/plain": [
       "PGD - Batches: 0it [00:00, ?it/s]"
      ]
     },
     "metadata": {},
     "output_type": "display_data"
    },
    {
     "data": {
      "application/vnd.jupyter.widget-view+json": {
       "model_id": "",
       "version_major": 2,
       "version_minor": 0
      },
      "text/plain": [
       "PGD - Batches: 0it [00:00, ?it/s]"
      ]
     },
     "metadata": {},
     "output_type": "display_data"
    },
    {
     "name": "stdout",
     "output_type": "stream",
     "text": [
      "Nat train acc : 0.9978600144386292\n",
      "Nat test  acc : 0.9851999878883362\n",
      "Adv train acc : 0.37929999828338623\n",
      "Adv test  acc : 0.30160000920295715\n"
     ]
    }
   ],
   "source": [
    "D = 500\n",
    "res = run_experiment(\n",
    "    dim=D,\n",
    "    s1=1.0 / np.sqrt(D), s2=1.3 / np.sqrt(D),\n",
    "    model_layers=[\n",
    "        layers.Dense(1000, activation=\"relu\"),\n",
    "        layers.Dense(1000, activation=\"relu\"),\n",
    "        layers.Dense(2, activation=\"softmax\"),\n",
    "    ],\n",
    "    train_batch_size=128,\n",
    "    train_epochs=10,\n",
    "    attack_norm=2,\n",
    "    attack_eps=0.18,\n",
    "    attack_eps_step=0.01,\n",
    "    attack_iters=40,\n",
    ")"
   ]
  },
  {
   "cell_type": "code",
   "execution_count": 6,
   "id": "southwest-official",
   "metadata": {},
   "outputs": [
    {
     "name": "stdout",
     "output_type": "stream",
     "text": [
      "Epoch 1/10\n",
      "352/352 [==============================] - 4s 10ms/step - loss: 0.1018 - accuracy: 0.9644 - val_loss: 0.0979 - val_accuracy: 0.9624\n",
      "Epoch 2/10\n",
      "352/352 [==============================] - 3s 10ms/step - loss: 0.0478 - accuracy: 0.9826 - val_loss: 0.0601 - val_accuracy: 0.9782\n",
      "Epoch 3/10\n",
      "352/352 [==============================] - 3s 10ms/step - loss: 0.0387 - accuracy: 0.9864 - val_loss: 0.0577 - val_accuracy: 0.9792\n",
      "Epoch 4/10\n",
      "352/352 [==============================] - 3s 10ms/step - loss: 0.0326 - accuracy: 0.9884 - val_loss: 0.0698 - val_accuracy: 0.9774\n",
      "Epoch 5/10\n",
      "352/352 [==============================] - 3s 10ms/step - loss: 0.0325 - accuracy: 0.9879 - val_loss: 0.0633 - val_accuracy: 0.9806\n",
      "Epoch 6/10\n",
      "352/352 [==============================] - 3s 10ms/step - loss: 0.0249 - accuracy: 0.9917 - val_loss: 0.0741 - val_accuracy: 0.9760\n",
      "Epoch 7/10\n",
      "352/352 [==============================] - 3s 10ms/step - loss: 0.0217 - accuracy: 0.9926 - val_loss: 0.0879 - val_accuracy: 0.9700\n",
      "Epoch 8/10\n",
      "352/352 [==============================] - 3s 10ms/step - loss: 0.0265 - accuracy: 0.9906 - val_loss: 0.0616 - val_accuracy: 0.9804\n",
      "Epoch 9/10\n",
      "352/352 [==============================] - 3s 10ms/step - loss: 0.0230 - accuracy: 0.9924 - val_loss: 0.0711 - val_accuracy: 0.9774\n",
      "Epoch 10/10\n",
      "352/352 [==============================] - 3s 10ms/step - loss: 0.0192 - accuracy: 0.9936 - val_loss: 0.0636 - val_accuracy: 0.9774\n"
     ]
    },
    {
     "data": {
      "application/vnd.jupyter.widget-view+json": {
       "model_id": "",
       "version_major": 2,
       "version_minor": 0
      },
      "text/plain": [
       "PGD - Batches: 0it [00:00, ?it/s]"
      ]
     },
     "metadata": {},
     "output_type": "display_data"
    },
    {
     "data": {
      "application/vnd.jupyter.widget-view+json": {
       "model_id": "",
       "version_major": 2,
       "version_minor": 0
      },
      "text/plain": [
       "PGD - Batches: 0it [00:00, ?it/s]"
      ]
     },
     "metadata": {},
     "output_type": "display_data"
    },
    {
     "name": "stdout",
     "output_type": "stream",
     "text": [
      "Nat train acc : 0.9947599768638611\n",
      "Nat test  acc : 0.9749000072479248\n",
      "Adv train acc : 0.4108999967575073\n",
      "Adv test  acc : 0.3253999948501587\n"
     ]
    }
   ],
   "source": [
    "D = 500\n",
    "res = run_experiment(\n",
    "    dim=D,\n",
    "    s1=1.0, s2=1.3,\n",
    "    model_layers=[\n",
    "        layers.Dense(1000, activation=\"relu\"),\n",
    "        layers.BatchNormalization(),\n",
    "        layers.Dense(1000, activation=\"relu\"),\n",
    "        layers.Dense(2, activation=\"softmax\"),\n",
    "    ],\n",
    "    train_batch_size=128,\n",
    "    train_epochs=10,\n",
    "    attack_norm=2,\n",
    "    attack_eps=0.18 * np.sqrt(D),\n",
    "    attack_eps_step=0.01 * np.sqrt(D),\n",
    "    attack_iters=40,\n",
    ")"
   ]
  },
  {
   "cell_type": "markdown",
   "id": "responsible-binary",
   "metadata": {},
   "source": [
    "### Conclusions\n",
    "\n",
    "A vanilla feed-forward NN does worse on norm-$O(\\sqrt{D})$ data than norm-$O(1)$ data\n",
    "(90% test acc vs 99% test acc).\n",
    "However, this difference can be mitigated with a batchnorm layer.\n",
    "\n",
    "A feed-forward NN w/ batchnorm on Gaussian data behaves very similarly to the spherical case."
   ]
  }
 ],
 "metadata": {
  "kernelspec": {
   "display_name": "Python 3",
   "language": "python",
   "name": "python3"
  },
  "language_info": {
   "codemirror_mode": {
    "name": "ipython",
    "version": 3
   },
   "file_extension": ".py",
   "mimetype": "text/x-python",
   "name": "python",
   "nbconvert_exporter": "python",
   "pygments_lexer": "ipython3",
   "version": "3.8.5"
  }
 },
 "nbformat": 4,
 "nbformat_minor": 5
}
