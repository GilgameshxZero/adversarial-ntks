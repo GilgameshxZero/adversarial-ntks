{
 "cells": [
  {
   "cell_type": "markdown",
   "id": "favorite-bulgarian",
   "metadata": {},
   "source": [
    "This notebook tries to extend the results from the adversarial spheres paper: https://arxiv.org/pdf/1801.02774.pdf\n",
    "\n",
    "In particular, instead of generating from spheres, we generate from Gaussians\n",
    "(with the hope that the high dimensionality makes them effectively spheres).\n",
    "\n",
    "Additionally, study the influence of the scale of the samples.\n",
    "We study when the samples have norm $O(1)$ (paper) and $O(\\sqrt{D})$ (real life)."
   ]
  },
  {
   "cell_type": "markdown",
   "id": "demonstrated-database",
   "metadata": {},
   "source": [
    "### Import dependencies"
   ]
  },
  {
   "cell_type": "code",
   "execution_count": 1,
   "id": "tight-american",
   "metadata": {},
   "outputs": [
    {
     "data": {
      "text/plain": [
       "[PhysicalDevice(name='/physical_device:CPU:0', device_type='CPU'),\n",
       " PhysicalDevice(name='/physical_device:XLA_CPU:0', device_type='XLA_CPU')]"
      ]
     },
     "execution_count": 1,
     "metadata": {},
     "output_type": "execute_result"
    }
   ],
   "source": [
    "import matplotlib.pyplot as plt\n",
    "import numpy as np\n",
    "\n",
    "import tensorflow as tf\n",
    "from tensorflow import keras\n",
    "from tensorflow.keras import layers\n",
    "\n",
    "from art.estimators.classification import TensorFlowV2Classifier\n",
    "from art.attacks.evasion import ProjectedGradientDescent\n",
    "\n",
    "tf.config.list_physical_devices(device_type=None)"
   ]
  },
  {
   "cell_type": "markdown",
   "id": "pediatric-custom",
   "metadata": {},
   "source": [
    "### Data generation utils"
   ]
  },
  {
   "cell_type": "code",
   "execution_count": 2,
   "id": "wooden-processing",
   "metadata": {},
   "outputs": [
    {
     "data": {
      "text/plain": [
       "(array([[ 0.4134939 ,  0.20448233],\n",
       "        [ 0.30065963,  0.22048697],\n",
       "        [-0.13598055, -0.62764689],\n",
       "        [ 0.12027813, -0.52070325]]),\n",
       " array([1, 0, 0, 1]))"
      ]
     },
     "execution_count": 2,
     "metadata": {},
     "output_type": "execute_result"
    }
   ],
   "source": [
    "def generate_normal_data(dim, s1, s2, num_samples):\n",
    "    assert num_samples % 2 == 0\n",
    "    \n",
    "    xs = np.concatenate([\n",
    "        np.random.normal(scale=s1, size=(num_samples // 2, dim)),\n",
    "        np.random.normal(scale=s2, size=(num_samples // 2, dim))\n",
    "    ])\n",
    "    \n",
    "    ys = np.concatenate([\n",
    "        np.zeros(shape=num_samples // 2, dtype=np.int64),\n",
    "        np.ones(shape=num_samples // 2, dtype=np.int64)\n",
    "    ])\n",
    "    \n",
    "    perm = np.random.permutation(num_samples)\n",
    "    xs = xs[perm]\n",
    "    ys = ys[perm]\n",
    "    \n",
    "    return xs, ys\n",
    "\n",
    "generate_normal_data(dim=2, s1=0.3, s2=0.7, num_samples=4)"
   ]
  },
  {
   "cell_type": "markdown",
   "id": "experimental-perth",
   "metadata": {},
   "source": [
    "### Experiment setup"
   ]
  },
  {
   "cell_type": "code",
   "execution_count": 3,
   "id": "rational-share",
   "metadata": {},
   "outputs": [],
   "source": [
    "def run_experiment(\n",
    "    dim,\n",
    "    s1,\n",
    "    s2,\n",
    "    model_layers,\n",
    "    train_batch_size,\n",
    "    train_epochs,\n",
    "    attack_norm,\n",
    "    attack_eps,\n",
    "    attack_eps_step,\n",
    "    attack_iters,\n",
    "    attack_batch_size=1024,\n",
    "    num_train=5 * 10 ** 4,\n",
    "    num_test=10 ** 4,\n",
    "    seed=42\n",
    "):\n",
    "    \"\"\"\n",
    "    Default values for num_train and num_test are size of CIFAR10 dataset.\n",
    "    \n",
    "    Keras code derived from https://keras.io/examples/vision/mnist_convnet/.\n",
    "    \n",
    "    ART code derived from https://github.com/Trusted-AI/adversarial-robustness-toolbox/blob/main/notebooks/adversarial_retraining.ipynb\n",
    "    and https://github.com/Trusted-AI/adversarial-robustness-toolbox/issues/238.\n",
    "    \"\"\"\n",
    "    np.random.seed(seed)\n",
    "    tf.random.set_seed(seed)\n",
    "    \n",
    "    x_train, y_train = generate_normal_data(\n",
    "        dim=dim, s1=s1, s2=s2,\n",
    "        num_samples=num_train,\n",
    "    )\n",
    "\n",
    "    x_test, y_test = generate_normal_data(\n",
    "        dim=dim, s1=s1, s2=s2,\n",
    "        num_samples=num_test,\n",
    "    )\n",
    "    \n",
    "    model = keras.Sequential(\n",
    "        [keras.Input(shape=x_train[0].shape)]\n",
    "        + model_layers\n",
    "    )\n",
    "    model.compile(\n",
    "        loss=keras.losses.SparseCategoricalCrossentropy(from_logits=True),\n",
    "        optimizer=\"adam\",\n",
    "        metrics=[\"accuracy\"]\n",
    "    )\n",
    "    model.fit(\n",
    "        x_train,\n",
    "        y_train,\n",
    "        batch_size=train_batch_size,\n",
    "        epochs=train_epochs,\n",
    "        validation_data=(x_test, y_test),\n",
    "        verbose=2,\n",
    "    )\n",
    "    model.trainable = False\n",
    "    \n",
    "    art_model = TensorFlowV2Classifier(\n",
    "        model=model,\n",
    "        input_shape=x_test[0].shape,\n",
    "        nb_classes=2,\n",
    "        loss_object=keras.losses.SparseCategoricalCrossentropy(from_logits=True),\n",
    "        clip_values=[-x_test.max(), x_test.max()],\n",
    "    )\n",
    "    art_attack = ProjectedGradientDescent(\n",
    "        art_model,\n",
    "        norm=attack_norm,\n",
    "        eps=attack_eps,\n",
    "        eps_step=attack_eps_step,\n",
    "        max_iter=attack_iters,\n",
    "        batch_size=attack_batch_size,\n",
    "    )\n",
    "    \n",
    "    x_train_adv = art_attack.generate(x_train[:num_test], y=y_train[:num_test])    \n",
    "    x_test_adv = art_attack.generate(x_test, y=y_test)\n",
    "    \n",
    "    _, nat_train_acc = model.evaluate(x_train, y_train, verbose=0)\n",
    "    _, nat_test_acc = model.evaluate(x_test, y_test, verbose=0)\n",
    "    _, adv_train_acc = model.evaluate(x_train_adv, y_train[:num_test], verbose=0)\n",
    "    _, adv_test_acc = model.evaluate(x_test_adv, y_test, verbose=0)\n",
    "    \n",
    "    print(\"Nat train acc :\", nat_train_acc)\n",
    "    print(\"Nat test  acc :\", nat_test_acc)\n",
    "    print(\"Adv train acc :\", adv_train_acc)\n",
    "    print(\"Adv test  acc :\", adv_test_acc)\n",
    "    \n",
    "    return dict(\n",
    "        model=model,\n",
    "        train_data=(x_train, y_train),\n",
    "        test_data=(x_test, y_test),\n",
    "        x_train_adv=x_train_adv,\n",
    "        x_test_adv=x_test_adv,\n",
    "    )"
   ]
  },
  {
   "cell_type": "markdown",
   "id": "formal-attention",
   "metadata": {},
   "source": [
    "### Run experiments"
   ]
  },
  {
   "cell_type": "markdown",
   "id": "standing-chambers",
   "metadata": {},
   "source": [
    "Norm $O(1)$"
   ]
  },
  {
   "cell_type": "code",
   "execution_count": 4,
   "id": "greek-wellington",
   "metadata": {},
   "outputs": [
    {
     "name": "stdout",
     "output_type": "stream",
     "text": [
      "Epoch 1/10\n",
      "391/391 - 3s - loss: 0.1461 - accuracy: 0.9361 - val_loss: 0.0479 - val_accuracy: 0.9831\n",
      "Epoch 2/10\n",
      "391/391 - 3s - loss: 0.0119 - accuracy: 0.9964 - val_loss: 0.0487 - val_accuracy: 0.9814\n",
      "Epoch 3/10\n",
      "391/391 - 3s - loss: 0.0106 - accuracy: 0.9963 - val_loss: 0.0680 - val_accuracy: 0.9755\n",
      "Epoch 4/10\n",
      "391/391 - 3s - loss: 0.0132 - accuracy: 0.9950 - val_loss: 0.1112 - val_accuracy: 0.9655\n",
      "Epoch 5/10\n",
      "391/391 - 3s - loss: 0.0085 - accuracy: 0.9970 - val_loss: 0.0363 - val_accuracy: 0.9874\n",
      "Epoch 6/10\n",
      "391/391 - 3s - loss: 0.0023 - accuracy: 0.9993 - val_loss: 0.0380 - val_accuracy: 0.9869\n",
      "Epoch 7/10\n",
      "391/391 - 3s - loss: 7.2325e-04 - accuracy: 0.9998 - val_loss: 0.0313 - val_accuracy: 0.9896\n",
      "Epoch 8/10\n",
      "391/391 - 3s - loss: 1.8886e-04 - accuracy: 1.0000 - val_loss: 0.0250 - val_accuracy: 0.9912\n",
      "Epoch 9/10\n",
      "391/391 - 3s - loss: 2.2117e-05 - accuracy: 1.0000 - val_loss: 0.0249 - val_accuracy: 0.9907\n",
      "Epoch 10/10\n",
      "391/391 - 3s - loss: 1.3367e-05 - accuracy: 1.0000 - val_loss: 0.0245 - val_accuracy: 0.9909\n"
     ]
    },
    {
     "data": {
      "application/vnd.jupyter.widget-view+json": {
       "model_id": "",
       "version_major": 2,
       "version_minor": 0
      },
      "text/plain": [
       "PGD - Batches: 0it [00:00, ?it/s]"
      ]
     },
     "metadata": {},
     "output_type": "display_data"
    },
    {
     "data": {
      "application/vnd.jupyter.widget-view+json": {
       "model_id": "",
       "version_major": 2,
       "version_minor": 0
      },
      "text/plain": [
       "PGD - Batches: 0it [00:00, ?it/s]"
      ]
     },
     "metadata": {},
     "output_type": "display_data"
    },
    {
     "name": "stdout",
     "output_type": "stream",
     "text": [
      "Nat train acc : 1.0\n",
      "Nat test  acc : 0.9908999800682068\n",
      "Adv train acc : 0.5303999781608582\n",
      "Adv test  acc : 0.4036000072956085\n",
      "CPU times: user 9min 46s, sys: 1min 6s, total: 10min 53s\n",
      "Wall time: 46.9 s\n"
     ]
    }
   ],
   "source": [
    "%%time\n",
    "D = 500\n",
    "res = run_experiment(\n",
    "    dim=D,\n",
    "    s1=1.0 / np.sqrt(D), s2=1.3 / np.sqrt(D),\n",
    "    model_layers=[\n",
    "        layers.Dense(1000, activation=\"relu\"),\n",
    "        layers.Dense(1000, activation=\"relu\"),\n",
    "        layers.Dense(2),\n",
    "    ],\n",
    "    train_batch_size=128,\n",
    "    train_epochs=10,\n",
    "    attack_norm=2,\n",
    "    attack_eps=0.1,\n",
    "    attack_eps_step=0.01,\n",
    "    attack_iters=20,\n",
    ")"
   ]
  },
  {
   "cell_type": "code",
   "execution_count": 5,
   "id": "selected-operations",
   "metadata": {},
   "outputs": [
    {
     "data": {
      "image/png": "[encoded data removed]",
      "text/plain": [
       "<Figure size 432x288 with 1 Axes>"
      ]
     },
     "metadata": {
      "needs_background": "light"
     },
     "output_type": "display_data"
    }
   ],
   "source": [
    "plt.hist(np.linalg.norm(res[\"test_data\"][0], ord=2, axis=-1), bins=50, label=\"x_test\");\n",
    "plt.hist(np.linalg.norm(res[\"x_test_adv\"], ord=2, axis=-1), bins=50, label=\"x_test_adv\", alpha=0.5);"
   ]
  },
  {
   "cell_type": "markdown",
   "id": "rocky-photograph",
   "metadata": {},
   "source": [
    "---"
   ]
  },
  {
   "cell_type": "markdown",
   "id": "explicit-louisville",
   "metadata": {},
   "source": [
    "Norm $O(\\sqrt{D})$"
   ]
  },
  {
   "cell_type": "code",
   "execution_count": 6,
   "id": "alive-typing",
   "metadata": {},
   "outputs": [
    {
     "name": "stdout",
     "output_type": "stream",
     "text": [
      "Epoch 1/20\n",
      "391/391 - 3s - loss: 0.6796 - accuracy: 0.5572 - val_loss: 0.6806 - val_accuracy: 0.5149\n",
      "Epoch 2/20\n",
      "391/391 - 3s - loss: 0.4695 - accuracy: 0.7730 - val_loss: 0.4105 - val_accuracy: 0.8120\n",
      "Epoch 3/20\n",
      "391/391 - 3s - loss: 0.1523 - accuracy: 0.9431 - val_loss: 0.4180 - val_accuracy: 0.8348\n",
      "Epoch 4/20\n",
      "391/391 - 3s - loss: 0.0771 - accuracy: 0.9712 - val_loss: 0.3156 - val_accuracy: 0.8835\n",
      "Epoch 5/20\n",
      "391/391 - 3s - loss: 0.0501 - accuracy: 0.9819 - val_loss: 0.2828 - val_accuracy: 0.8958\n",
      "Epoch 6/20\n",
      "391/391 - 3s - loss: 0.0383 - accuracy: 0.9863 - val_loss: 0.3166 - val_accuracy: 0.8947\n",
      "Epoch 7/20\n",
      "391/391 - 3s - loss: 0.0365 - accuracy: 0.9863 - val_loss: 0.2922 - val_accuracy: 0.8952\n",
      "Epoch 8/20\n",
      "391/391 - 3s - loss: 0.0336 - accuracy: 0.9876 - val_loss: 0.2575 - val_accuracy: 0.9077\n",
      "Epoch 9/20\n",
      "391/391 - 3s - loss: 0.0267 - accuracy: 0.9905 - val_loss: 0.3264 - val_accuracy: 0.8898\n",
      "Epoch 10/20\n",
      "391/391 - 3s - loss: 0.0269 - accuracy: 0.9902 - val_loss: 0.2439 - val_accuracy: 0.9153\n",
      "Epoch 11/20\n",
      "391/391 - 3s - loss: 0.0205 - accuracy: 0.9929 - val_loss: 0.3048 - val_accuracy: 0.9080\n",
      "Epoch 12/20\n",
      "391/391 - 3s - loss: 0.0239 - accuracy: 0.9917 - val_loss: 0.2206 - val_accuracy: 0.9279\n",
      "Epoch 13/20\n",
      "391/391 - 3s - loss: 0.0195 - accuracy: 0.9930 - val_loss: 0.2968 - val_accuracy: 0.9070\n",
      "Epoch 14/20\n",
      "391/391 - 3s - loss: 0.0248 - accuracy: 0.9909 - val_loss: 0.2506 - val_accuracy: 0.9139\n",
      "Epoch 15/20\n",
      "391/391 - 3s - loss: 0.0185 - accuracy: 0.9934 - val_loss: 0.2658 - val_accuracy: 0.9148\n",
      "Epoch 16/20\n",
      "391/391 - 3s - loss: 0.0162 - accuracy: 0.9944 - val_loss: 0.2307 - val_accuracy: 0.9291\n",
      "Epoch 17/20\n",
      "391/391 - 3s - loss: 0.0159 - accuracy: 0.9943 - val_loss: 0.2103 - val_accuracy: 0.9354\n",
      "Epoch 18/20\n",
      "391/391 - 3s - loss: 0.0139 - accuracy: 0.9951 - val_loss: 0.2454 - val_accuracy: 0.9287\n",
      "Epoch 19/20\n",
      "391/391 - 3s - loss: 0.0156 - accuracy: 0.9942 - val_loss: 0.2265 - val_accuracy: 0.9308\n",
      "Epoch 20/20\n",
      "391/391 - 3s - loss: 0.0137 - accuracy: 0.9950 - val_loss: 0.2178 - val_accuracy: 0.9375\n"
     ]
    },
    {
     "data": {
      "application/vnd.jupyter.widget-view+json": {
       "model_id": "",
       "version_major": 2,
       "version_minor": 0
      },
      "text/plain": [
       "PGD - Batches: 0it [00:00, ?it/s]"
      ]
     },
     "metadata": {},
     "output_type": "display_data"
    },
    {
     "data": {
      "application/vnd.jupyter.widget-view+json": {
       "model_id": "",
       "version_major": 2,
       "version_minor": 0
      },
      "text/plain": [
       "PGD - Batches: 0it [00:00, ?it/s]"
      ]
     },
     "metadata": {},
     "output_type": "display_data"
    },
    {
     "name": "stdout",
     "output_type": "stream",
     "text": [
      "Nat train acc : 0.996399998664856\n",
      "Nat test  acc : 0.9375\n",
      "Adv train acc : 0.5031999945640564\n",
      "Adv test  acc : 0.24770000576972961\n",
      "CPU times: user 16min 4s, sys: 1min 41s, total: 17min 45s\n",
      "Wall time: 1min 13s\n"
     ]
    }
   ],
   "source": [
    "%%time\n",
    "D = 500\n",
    "res = run_experiment(\n",
    "    dim=D,\n",
    "    s1=1.0, s2=1.3,\n",
    "    model_layers=[\n",
    "        layers.Dense(1000, activation=\"relu\"),\n",
    "        layers.Dense(1000, activation=\"relu\"),\n",
    "        layers.Dense(2),\n",
    "    ],\n",
    "    train_batch_size=128,\n",
    "    train_epochs=20,\n",
    "    attack_norm=2,\n",
    "    attack_eps=0.1 * np.sqrt(D),\n",
    "    attack_eps_step=0.01 * np.sqrt(D),\n",
    "    attack_iters=20,\n",
    ")"
   ]
  },
  {
   "cell_type": "code",
   "execution_count": 7,
   "id": "supported-serbia",
   "metadata": {},
   "outputs": [
    {
     "data": {
      "image/png": "[encoded data removed]",
      "text/plain": [
       "<Figure size 432x288 with 1 Axes>"
      ]
     },
     "metadata": {
      "needs_background": "light"
     },
     "output_type": "display_data"
    }
   ],
   "source": [
    "plt.hist(np.linalg.norm(res[\"test_data\"][0], ord=2, axis=-1), bins=50, label=\"x_test\");\n",
    "plt.hist(np.linalg.norm(res[\"x_test_adv\"], ord=2, axis=-1), bins=50, label=\"x_test_adv\", alpha=0.5);"
   ]
  },
  {
   "cell_type": "markdown",
   "id": "aboriginal-message",
   "metadata": {},
   "source": [
    "---"
   ]
  },
  {
   "cell_type": "markdown",
   "id": "ruled-colonial",
   "metadata": {},
   "source": [
    "Norm $O(1)$ + BatchNorm"
   ]
  },
  {
   "cell_type": "code",
   "execution_count": 8,
   "id": "compact-album",
   "metadata": {},
   "outputs": [
    {
     "name": "stdout",
     "output_type": "stream",
     "text": [
      "Epoch 1/10\n",
      "391/391 - 4s - loss: 0.0561 - accuracy: 0.9789 - val_loss: 0.2016 - val_accuracy: 0.9182\n",
      "Epoch 2/10\n",
      "391/391 - 4s - loss: 0.0223 - accuracy: 0.9920 - val_loss: 0.0302 - val_accuracy: 0.9888\n",
      "Epoch 3/10\n",
      "391/391 - 4s - loss: 0.0182 - accuracy: 0.9934 - val_loss: 0.0333 - val_accuracy: 0.9882\n",
      "Epoch 4/10\n",
      "391/391 - 4s - loss: 0.0139 - accuracy: 0.9952 - val_loss: 0.0385 - val_accuracy: 0.9865\n",
      "Epoch 5/10\n",
      "391/391 - 4s - loss: 0.0141 - accuracy: 0.9953 - val_loss: 0.0387 - val_accuracy: 0.9891\n",
      "Epoch 6/10\n",
      "391/391 - 4s - loss: 0.0129 - accuracy: 0.9957 - val_loss: 0.0405 - val_accuracy: 0.9884\n",
      "Epoch 7/10\n",
      "391/391 - 4s - loss: 0.0112 - accuracy: 0.9961 - val_loss: 0.0514 - val_accuracy: 0.9850\n",
      "Epoch 8/10\n",
      "391/391 - 4s - loss: 0.0113 - accuracy: 0.9961 - val_loss: 0.0584 - val_accuracy: 0.9826\n",
      "Epoch 9/10\n",
      "391/391 - 4s - loss: 0.0114 - accuracy: 0.9966 - val_loss: 0.0870 - val_accuracy: 0.9781\n",
      "Epoch 10/10\n",
      "391/391 - 4s - loss: 0.0081 - accuracy: 0.9975 - val_loss: 0.0539 - val_accuracy: 0.9873\n"
     ]
    },
    {
     "data": {
      "application/vnd.jupyter.widget-view+json": {
       "model_id": "",
       "version_major": 2,
       "version_minor": 0
      },
      "text/plain": [
       "PGD - Batches: 0it [00:00, ?it/s]"
      ]
     },
     "metadata": {},
     "output_type": "display_data"
    },
    {
     "data": {
      "application/vnd.jupyter.widget-view+json": {
       "model_id": "",
       "version_major": 2,
       "version_minor": 0
      },
      "text/plain": [
       "PGD - Batches: 0it [00:00, ?it/s]"
      ]
     },
     "metadata": {},
     "output_type": "display_data"
    },
    {
     "name": "stdout",
     "output_type": "stream",
     "text": [
      "Nat train acc : 0.9985399842262268\n",
      "Nat test  acc : 0.9872999787330627\n",
      "Adv train acc : 0.5702999830245972\n",
      "Adv test  acc : 0.5044999718666077\n",
      "CPU times: user 10min 36s, sys: 1min 22s, total: 11min 58s\n",
      "Wall time: 56.3 s\n"
     ]
    }
   ],
   "source": [
    "%%time\n",
    "D = 500\n",
    "res = run_experiment(\n",
    "    dim=D,\n",
    "    s1=1.0 / np.sqrt(D), s2=1.3 / np.sqrt(D),\n",
    "    model_layers=[\n",
    "        layers.Dense(1000, activation=\"relu\"),\n",
    "        layers.BatchNormalization(),\n",
    "        layers.Dense(1000, activation=\"relu\"),\n",
    "        layers.Dense(2),\n",
    "    ],\n",
    "    train_batch_size=128,\n",
    "    train_epochs=10,\n",
    "    attack_norm=2,\n",
    "    attack_eps=0.1,\n",
    "    attack_eps_step=0.01,\n",
    "    attack_iters=20,\n",
    ")"
   ]
  },
  {
   "cell_type": "code",
   "execution_count": 9,
   "id": "monthly-spelling",
   "metadata": {},
   "outputs": [
    {
     "data": {
      "image/png": "[encoded data removed]",
      "text/plain": [
       "<Figure size 432x288 with 1 Axes>"
      ]
     },
     "metadata": {
      "needs_background": "light"
     },
     "output_type": "display_data"
    }
   ],
   "source": [
    "plt.hist(np.linalg.norm(res[\"test_data\"][0], ord=2, axis=-1), bins=50, label=\"x_test\");\n",
    "plt.hist(np.linalg.norm(res[\"x_test_adv\"], ord=2, axis=-1), bins=50, label=\"x_test_adv\", alpha=0.5);"
   ]
  },
  {
   "cell_type": "markdown",
   "id": "alternative-algorithm",
   "metadata": {},
   "source": [
    "---"
   ]
  },
  {
   "cell_type": "markdown",
   "id": "demanding-excellence",
   "metadata": {},
   "source": [
    "Norm $O(\\sqrt{D})$ + BatchNorm"
   ]
  },
  {
   "cell_type": "code",
   "execution_count": 10,
   "id": "dedicated-essence",
   "metadata": {},
   "outputs": [
    {
     "name": "stdout",
     "output_type": "stream",
     "text": [
      "Epoch 1/10\n",
      "391/391 - 4s - loss: 0.0991 - accuracy: 0.9658 - val_loss: 0.0769 - val_accuracy: 0.9712\n",
      "Epoch 2/10\n",
      "391/391 - 4s - loss: 0.0472 - accuracy: 0.9826 - val_loss: 0.0537 - val_accuracy: 0.9794\n",
      "Epoch 3/10\n",
      "391/391 - 4s - loss: 0.0371 - accuracy: 0.9868 - val_loss: 0.0472 - val_accuracy: 0.9828\n",
      "Epoch 4/10\n",
      "391/391 - 4s - loss: 0.0324 - accuracy: 0.9882 - val_loss: 0.0511 - val_accuracy: 0.9804\n",
      "Epoch 5/10\n",
      "391/391 - 4s - loss: 0.0313 - accuracy: 0.9888 - val_loss: 0.0778 - val_accuracy: 0.9716\n",
      "Epoch 6/10\n",
      "391/391 - 4s - loss: 0.0267 - accuracy: 0.9903 - val_loss: 0.0730 - val_accuracy: 0.9755\n",
      "Epoch 7/10\n",
      "391/391 - 4s - loss: 0.0255 - accuracy: 0.9906 - val_loss: 0.0652 - val_accuracy: 0.9807\n",
      "Epoch 8/10\n",
      "391/391 - 4s - loss: 0.0227 - accuracy: 0.9923 - val_loss: 0.0567 - val_accuracy: 0.9812\n",
      "Epoch 9/10\n",
      "391/391 - 4s - loss: 0.0180 - accuracy: 0.9940 - val_loss: 0.0640 - val_accuracy: 0.9798\n",
      "Epoch 10/10\n",
      "391/391 - 4s - loss: 0.0228 - accuracy: 0.9923 - val_loss: 0.0665 - val_accuracy: 0.9794\n"
     ]
    },
    {
     "data": {
      "application/vnd.jupyter.widget-view+json": {
       "model_id": "",
       "version_major": 2,
       "version_minor": 0
      },
      "text/plain": [
       "PGD - Batches: 0it [00:00, ?it/s]"
      ]
     },
     "metadata": {},
     "output_type": "display_data"
    },
    {
     "data": {
      "application/vnd.jupyter.widget-view+json": {
       "model_id": "",
       "version_major": 2,
       "version_minor": 0
      },
      "text/plain": [
       "PGD - Batches: 0it [00:00, ?it/s]"
      ]
     },
     "metadata": {},
     "output_type": "display_data"
    },
    {
     "name": "stdout",
     "output_type": "stream",
     "text": [
      "Nat train acc : 0.9948599934577942\n",
      "Nat test  acc : 0.9793999791145325\n",
      "Adv train acc : 0.5489000082015991\n",
      "Adv test  acc : 0.44339999556541443\n",
      "CPU times: user 10min 39s, sys: 1min 24s, total: 12min 3s\n",
      "Wall time: 56.7 s\n"
     ]
    }
   ],
   "source": [
    "%%time\n",
    "D = 500\n",
    "res = run_experiment(\n",
    "    dim=D,\n",
    "    s1=1.0, s2=1.3,\n",
    "    model_layers=[\n",
    "        layers.Dense(1000, activation=\"relu\"),\n",
    "        layers.BatchNormalization(),\n",
    "        layers.Dense(1000, activation=\"relu\"),\n",
    "        layers.Dense(2),\n",
    "    ],\n",
    "    train_batch_size=128,\n",
    "    train_epochs=10,\n",
    "    attack_norm=2,\n",
    "    attack_eps=0.1 * np.sqrt(D),\n",
    "    attack_eps_step=0.01 * np.sqrt(D),\n",
    "    attack_iters=20,\n",
    ")"
   ]
  },
  {
   "cell_type": "code",
   "execution_count": 11,
   "id": "demanding-colonial",
   "metadata": {},
   "outputs": [
    {
     "data": {
      "image/png": "[encoded data removed]",
      "text/plain": [
       "<Figure size 432x288 with 1 Axes>"
      ]
     },
     "metadata": {
      "needs_background": "light"
     },
     "output_type": "display_data"
    }
   ],
   "source": [
    "plt.hist(np.linalg.norm(res[\"test_data\"][0], ord=2, axis=-1), bins=50, label=\"x_test\");\n",
    "plt.hist(np.linalg.norm(res[\"x_test_adv\"], ord=2, axis=-1), bins=50, label=\"x_test_adv\", alpha=0.5);"
   ]
  },
  {
   "cell_type": "markdown",
   "id": "standing-people",
   "metadata": {},
   "source": [
    "### Summary and conclusions\n",
    "Overall we get pretty similar behavior in the spherical and Gaussian cases (see sphere-v1.ipynb).\n",
    "\n",
    "Like in the spherical case,\n",
    "the vanilla feed-forward NN does worse on norm-$O(\\sqrt{D})$ data than norm-$O(1)$ data\n",
    "(93% test acc vs 99% test acc).\n",
    "However, this difference can be mitigated with a batchnorm layer."
   ]
  }
 ],
 "metadata": {
  "kernelspec": {
   "display_name": "Python 3",
   "language": "python",
   "name": "python3"
  },
  "language_info": {
   "codemirror_mode": {
    "name": "ipython",
    "version": 3
   },
   "file_extension": ".py",
   "mimetype": "text/x-python",
   "name": "python",
   "nbconvert_exporter": "python",
   "pygments_lexer": "ipython3",
   "version": "3.8.5"
  }
 },
 "nbformat": 4,
 "nbformat_minor": 5
}
