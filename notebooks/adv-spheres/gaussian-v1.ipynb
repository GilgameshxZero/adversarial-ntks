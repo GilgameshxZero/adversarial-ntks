{
 "cells": [
  {
   "cell_type": "markdown",
   "id": "mexican-magazine",
   "metadata": {},
   "source": [
    "This notebook tries to extend the results from the adversarial spheres paper: https://arxiv.org/pdf/1801.02774.pdf\n",
    "\n",
    "In particular, instead of generating from spheres, we generate from Gaussians\n",
    "(with the hope that the high dimensionality makes them effectively spheres).\n",
    "\n",
    "Additionally, study the influence of the scale of the samples.\n",
    "We study when the samples have norm $O(1)$ (paper) and $O(\\sqrt{D})$ (real life)."
   ]
  },
  {
   "cell_type": "markdown",
   "id": "frequent-girlfriend",
   "metadata": {},
   "source": [
    "### Import dependencies"
   ]
  },
  {
   "cell_type": "code",
   "execution_count": 1,
   "id": "plain-amazon",
   "metadata": {},
   "outputs": [
    {
     "data": {
      "text/plain": [
       "[PhysicalDevice(name='/physical_device:CPU:0', device_type='CPU'),\n",
       " PhysicalDevice(name='/physical_device:GPU:0', device_type='GPU')]"
      ]
     },
     "execution_count": 1,
     "metadata": {},
     "output_type": "execute_result"
    }
   ],
   "source": [
    "import matplotlib.pyplot as plt\n",
    "import numpy as np\n",
    "\n",
    "import tensorflow as tf\n",
    "from tensorflow import keras\n",
    "from tensorflow.keras import layers\n",
    "\n",
    "from art.estimators.classification import TensorFlowV2Classifier\n",
    "from art.attacks.evasion import ProjectedGradientDescent\n",
    "\n",
    "tf.config.list_physical_devices(device_type=None)"
   ]
  },
  {
   "cell_type": "markdown",
   "id": "multiple-stack",
   "metadata": {},
   "source": [
    "### Data generation utils"
   ]
  },
  {
   "cell_type": "code",
   "execution_count": 2,
   "id": "objective-pearl",
   "metadata": {},
   "outputs": [
    {
     "data": {
      "text/plain": [
       "(array([[-0.07919211, -0.45616192],\n",
       "        [ 0.17957665, -0.10098333],\n",
       "        [ 1.62449755, -0.13390125],\n",
       "        [-0.02627816, -0.37209498]]),\n",
       " array([0, 0, 1, 1], dtype=int64))"
      ]
     },
     "execution_count": 2,
     "metadata": {},
     "output_type": "execute_result"
    }
   ],
   "source": [
    "def generate_normal_data(dim, s1, s2, num_samples):\n",
    "    assert num_samples % 2 == 0\n",
    "    \n",
    "    xs = np.concatenate([\n",
    "        np.random.normal(scale=s1, size=(num_samples // 2, dim)),\n",
    "        np.random.normal(scale=s2, size=(num_samples // 2, dim))\n",
    "    ])\n",
    "    \n",
    "    ys = np.concatenate([\n",
    "        np.zeros(shape=num_samples // 2, dtype=np.int64),\n",
    "        np.ones(shape=num_samples // 2, dtype=np.int64)\n",
    "    ])\n",
    "    \n",
    "    perm = np.random.permutation(num_samples)\n",
    "    xs = xs[perm]\n",
    "    ys = ys[perm]\n",
    "    \n",
    "    return xs, ys\n",
    "\n",
    "generate_normal_data(dim=2, s1=0.3, s2=0.7, num_samples=4)"
   ]
  },
  {
   "cell_type": "markdown",
   "id": "informational-banking",
   "metadata": {},
   "source": [
    "### Experiment setup"
   ]
  },
  {
   "cell_type": "code",
   "execution_count": 3,
   "id": "frank-soldier",
   "metadata": {},
   "outputs": [],
   "source": [
    "def run_experiment(\n",
    "    dim,\n",
    "    s1,\n",
    "    s2,\n",
    "    model_layers,\n",
    "    train_epochs,\n",
    "    attack_norm,\n",
    "    attack_eps,\n",
    "    attack_eps_step,\n",
    "    attack_iters,\n",
    "    train_batch_size=64,\n",
    "    attack_batch_size=256,\n",
    "    num_train=5 * 10 ** 4,\n",
    "    num_test=10 ** 4,\n",
    "    seed=42\n",
    "):\n",
    "    \"\"\"\n",
    "    Default values for num_train and num_test are size of CIFAR10 dataset.\n",
    "    \n",
    "    Keras code derived from https://keras.io/examples/vision/mnist_convnet/.\n",
    "    \n",
    "    ART code derived from https://github.com/Trusted-AI/adversarial-robustness-toolbox/blob/main/notebooks/adversarial_retraining.ipynb\n",
    "    and https://github.com/Trusted-AI/adversarial-robustness-toolbox/issues/238.\n",
    "    \"\"\"\n",
    "    np.random.seed(seed)\n",
    "    tf.random.set_seed(seed)\n",
    "    \n",
    "    x_train, y_train = generate_normal_data(\n",
    "        dim=dim, s1=s1, s2=s2,\n",
    "        num_samples=num_train,\n",
    "    )\n",
    "\n",
    "    x_test, y_test = generate_normal_data(\n",
    "        dim=dim, s1=s1, s2=s2,\n",
    "        num_samples=num_test,\n",
    "    )\n",
    "    \n",
    "    model = keras.Sequential(\n",
    "        [keras.Input(shape=x_train[0].shape)]\n",
    "        + model_layers\n",
    "    )\n",
    "    model.compile(\n",
    "        loss=keras.losses.SparseCategoricalCrossentropy(from_logits=True),\n",
    "        optimizer=\"adam\",\n",
    "        metrics=[\"accuracy\"]\n",
    "    )\n",
    "    model.fit(\n",
    "        x_train,\n",
    "        y_train,\n",
    "        batch_size=train_batch_size,\n",
    "        epochs=train_epochs,\n",
    "        validation_data=(x_test, y_test),\n",
    "        verbose=2,\n",
    "    )\n",
    "    model.trainable = False\n",
    "    \n",
    "    art_model = TensorFlowV2Classifier(\n",
    "        model=model,\n",
    "        input_shape=x_test[0].shape,\n",
    "        nb_classes=2,\n",
    "        loss_object=keras.losses.SparseCategoricalCrossentropy(from_logits=True),\n",
    "        clip_values=[-x_test.max(), x_test.max()],\n",
    "    )\n",
    "    art_attack = ProjectedGradientDescent(\n",
    "        art_model,\n",
    "        norm=attack_norm,\n",
    "        eps=attack_eps,\n",
    "        eps_step=attack_eps_step,\n",
    "        max_iter=attack_iters,\n",
    "        batch_size=attack_batch_size,\n",
    "    )\n",
    "    \n",
    "    x_train_adv = art_attack.generate(x_train[:num_test], y=y_train[:num_test])    \n",
    "    x_test_adv = art_attack.generate(x_test, y=y_test)\n",
    "    \n",
    "    _, nat_train_acc = model.evaluate(x_train, y_train, verbose=0)\n",
    "    _, nat_test_acc = model.evaluate(x_test, y_test, verbose=0)\n",
    "    _, adv_train_acc = model.evaluate(x_train_adv, y_train[:num_test], verbose=0)\n",
    "    _, adv_test_acc = model.evaluate(x_test_adv, y_test, verbose=0)\n",
    "    \n",
    "    print(\"Nat train acc :\", nat_train_acc)\n",
    "    print(\"Nat test  acc :\", nat_test_acc)\n",
    "    print(\"Adv train acc :\", adv_train_acc)\n",
    "    print(\"Adv test  acc :\", adv_test_acc)\n",
    "    \n",
    "    return dict(\n",
    "        model=model,\n",
    "        train_data=(x_train, y_train),\n",
    "        test_data=(x_test, y_test),\n",
    "        x_train_adv=x_train_adv,\n",
    "        x_test_adv=x_test_adv,\n",
    "    )"
   ]
  },
  {
   "cell_type": "markdown",
   "id": "purple-chain",
   "metadata": {},
   "source": [
    "### Run experiments"
   ]
  },
  {
   "cell_type": "markdown",
   "id": "mature-tiffany",
   "metadata": {},
   "source": [
    "Norm $O(1)$"
   ]
  },
  {
   "cell_type": "code",
   "execution_count": 4,
   "id": "seventh-investigation",
   "metadata": {},
   "outputs": [
    {
     "name": "stdout",
     "output_type": "stream",
     "text": [
      "Epoch 1/10\n",
      "391/391 - 2s - loss: 0.1452 - accuracy: 0.9363 - val_loss: 0.0542 - val_accuracy: 0.9804\n",
      "Epoch 2/10\n",
      "391/391 - 1s - loss: 0.0106 - accuracy: 0.9968 - val_loss: 0.0511 - val_accuracy: 0.9818\n",
      "Epoch 3/10\n",
      "391/391 - 1s - loss: 0.0167 - accuracy: 0.9940 - val_loss: 0.0678 - val_accuracy: 0.9766\n",
      "Epoch 4/10\n",
      "391/391 - 1s - loss: 0.0071 - accuracy: 0.9976 - val_loss: 0.0385 - val_accuracy: 0.9863\n",
      "Epoch 5/10\n",
      "391/391 - 1s - loss: 0.0057 - accuracy: 0.9977 - val_loss: 0.0727 - val_accuracy: 0.9744\n",
      "Epoch 6/10\n",
      "391/391 - 1s - loss: 0.0117 - accuracy: 0.9956 - val_loss: 0.0398 - val_accuracy: 0.9853\n",
      "Epoch 7/10\n",
      "391/391 - 1s - loss: 0.0044 - accuracy: 0.9984 - val_loss: 0.0530 - val_accuracy: 0.9840\n",
      "Epoch 8/10\n",
      "391/391 - 1s - loss: 0.0072 - accuracy: 0.9975 - val_loss: 0.0546 - val_accuracy: 0.9812\n",
      "Epoch 9/10\n",
      "391/391 - 1s - loss: 0.0041 - accuracy: 0.9986 - val_loss: 0.0492 - val_accuracy: 0.9844\n",
      "Epoch 10/10\n",
      "391/391 - 1s - loss: 0.0039 - accuracy: 0.9988 - val_loss: 0.0491 - val_accuracy: 0.9856\n"
     ]
    },
    {
     "data": {
      "application/vnd.jupyter.widget-view+json": {
       "model_id": "",
       "version_major": 2,
       "version_minor": 0
      },
      "text/plain": [
       "PGD - Batches: 0it [00:00, ?it/s]"
      ]
     },
     "metadata": {},
     "output_type": "display_data"
    },
    {
     "data": {
      "application/vnd.jupyter.widget-view+json": {
       "model_id": "",
       "version_major": 2,
       "version_minor": 0
      },
      "text/plain": [
       "PGD - Batches: 0it [00:00, ?it/s]"
      ]
     },
     "metadata": {},
     "output_type": "display_data"
    },
    {
     "name": "stdout",
     "output_type": "stream",
     "text": [
      "Nat train acc : 0.9991000294685364\n",
      "Nat test  acc : 0.9855999946594238\n",
      "Adv train acc : 0.46889999508857727\n",
      "Adv test  acc : 0.3736000061035156\n",
      "Wall time: 19.9 s\n"
     ]
    }
   ],
   "source": [
    "%%time\n",
    "D = 500\n",
    "res = run_experiment(\n",
    "    dim=D,\n",
    "    s1=1.0 / np.sqrt(D), s2=1.3 / np.sqrt(D),\n",
    "    model_layers=[\n",
    "        layers.Dense(1000, activation=\"relu\"),\n",
    "        layers.Dense(1000, activation=\"relu\"),\n",
    "        layers.Dense(2),\n",
    "    ],\n",
    "    train_batch_size=128,\n",
    "    train_epochs=10,\n",
    "    attack_norm=2,\n",
    "    attack_eps=0.1,\n",
    "    attack_eps_step=0.01,\n",
    "    attack_iters=20,\n",
    ")"
   ]
  },
  {
   "cell_type": "code",
   "execution_count": 5,
   "id": "norwegian-dimension",
   "metadata": {},
   "outputs": [
    {
     "data": {
      "image/png": "[encoded data removed]",
      "text/plain": [
       "<Figure size 432x288 with 1 Axes>"
      ]
     },
     "metadata": {
      "needs_background": "light"
     },
     "output_type": "display_data"
    }
   ],
   "source": [
    "plt.hist(np.linalg.norm(res[\"test_data\"][0], ord=2, axis=-1), bins=50, label=\"x_test\");\n",
    "plt.hist(np.linalg.norm(res[\"x_test_adv\"], ord=2, axis=-1), bins=50, label=\"x_test_adv\", alpha=0.5);"
   ]
  },
  {
   "cell_type": "markdown",
   "id": "framed-implementation",
   "metadata": {},
   "source": [
    "---"
   ]
  },
  {
   "cell_type": "markdown",
   "id": "conventional-genealogy",
   "metadata": {},
   "source": [
    "Norm $O(\\sqrt{D})$"
   ]
  },
  {
   "cell_type": "code",
   "execution_count": 6,
   "id": "supreme-princess",
   "metadata": {},
   "outputs": [
    {
     "name": "stdout",
     "output_type": "stream",
     "text": [
      "Epoch 1/20\n",
      "391/391 - 1s - loss: 0.6803 - accuracy: 0.5553 - val_loss: 0.6754 - val_accuracy: 0.5162\n",
      "Epoch 2/20\n",
      "391/391 - 1s - loss: 0.4726 - accuracy: 0.7722 - val_loss: 0.4091 - val_accuracy: 0.8156\n",
      "Epoch 3/20\n",
      "391/391 - 1s - loss: 0.1512 - accuracy: 0.9428 - val_loss: 0.4123 - val_accuracy: 0.8426\n",
      "Epoch 4/20\n",
      "391/391 - 1s - loss: 0.0736 - accuracy: 0.9727 - val_loss: 0.4063 - val_accuracy: 0.8515\n",
      "Epoch 5/20\n",
      "391/391 - 1s - loss: 0.0528 - accuracy: 0.9812 - val_loss: 0.3165 - val_accuracy: 0.8860\n",
      "Epoch 6/20\n",
      "391/391 - 1s - loss: 0.0406 - accuracy: 0.9849 - val_loss: 0.3078 - val_accuracy: 0.8964\n",
      "Epoch 7/20\n",
      "391/391 - 1s - loss: 0.0381 - accuracy: 0.9864 - val_loss: 0.2787 - val_accuracy: 0.9026\n",
      "Epoch 8/20\n",
      "391/391 - 1s - loss: 0.0302 - accuracy: 0.9891 - val_loss: 0.2850 - val_accuracy: 0.9078\n",
      "Epoch 9/20\n",
      "391/391 - 1s - loss: 0.0263 - accuracy: 0.9903 - val_loss: 0.3295 - val_accuracy: 0.8956\n",
      "Epoch 10/20\n",
      "391/391 - 1s - loss: 0.0261 - accuracy: 0.9904 - val_loss: 0.3260 - val_accuracy: 0.8949\n",
      "Epoch 11/20\n",
      "391/391 - 1s - loss: 0.0250 - accuracy: 0.9912 - val_loss: 0.2823 - val_accuracy: 0.9118\n",
      "Epoch 12/20\n",
      "391/391 - 1s - loss: 0.0244 - accuracy: 0.9916 - val_loss: 0.2436 - val_accuracy: 0.9186\n",
      "Epoch 13/20\n",
      "391/391 - 1s - loss: 0.0200 - accuracy: 0.9928 - val_loss: 0.3016 - val_accuracy: 0.9137\n",
      "Epoch 14/20\n",
      "391/391 - 1s - loss: 0.0200 - accuracy: 0.9923 - val_loss: 0.2607 - val_accuracy: 0.9200\n",
      "Epoch 15/20\n",
      "391/391 - 1s - loss: 0.0188 - accuracy: 0.9930 - val_loss: 0.2410 - val_accuracy: 0.9211\n",
      "Epoch 16/20\n",
      "391/391 - 1s - loss: 0.0178 - accuracy: 0.9934 - val_loss: 0.2661 - val_accuracy: 0.9167\n",
      "Epoch 17/20\n",
      "391/391 - 1s - loss: 0.0138 - accuracy: 0.9952 - val_loss: 0.2818 - val_accuracy: 0.9236\n",
      "Epoch 18/20\n",
      "391/391 - 1s - loss: 0.0156 - accuracy: 0.9944 - val_loss: 0.2504 - val_accuracy: 0.9214\n",
      "Epoch 19/20\n",
      "391/391 - 1s - loss: 0.0172 - accuracy: 0.9939 - val_loss: 0.1943 - val_accuracy: 0.9327\n",
      "Epoch 20/20\n",
      "391/391 - 1s - loss: 0.0139 - accuracy: 0.9953 - val_loss: 0.1923 - val_accuracy: 0.9365\n"
     ]
    },
    {
     "data": {
      "application/vnd.jupyter.widget-view+json": {
       "model_id": "",
       "version_major": 2,
       "version_minor": 0
      },
      "text/plain": [
       "PGD - Batches: 0it [00:00, ?it/s]"
      ]
     },
     "metadata": {},
     "output_type": "display_data"
    },
    {
     "data": {
      "application/vnd.jupyter.widget-view+json": {
       "model_id": "",
       "version_major": 2,
       "version_minor": 0
      },
      "text/plain": [
       "PGD - Batches: 0it [00:00, ?it/s]"
      ]
     },
     "metadata": {},
     "output_type": "display_data"
    },
    {
     "name": "stdout",
     "output_type": "stream",
     "text": [
      "Nat train acc : 0.9975600242614746\n",
      "Nat test  acc : 0.9365000128746033\n",
      "Adv train acc : 0.3425000011920929\n",
      "Adv test  acc : 0.13699999451637268\n",
      "Wall time: 24.9 s\n"
     ]
    }
   ],
   "source": [
    "%%time\n",
    "D = 500\n",
    "res = run_experiment(\n",
    "    dim=D,\n",
    "    s1=1.0, s2=1.3,\n",
    "    model_layers=[\n",
    "        layers.Dense(1000, activation=\"relu\"),\n",
    "        layers.Dense(1000, activation=\"relu\"),\n",
    "        layers.Dense(2),\n",
    "    ],\n",
    "    train_batch_size=128,\n",
    "    train_epochs=20,\n",
    "    attack_norm=2,\n",
    "    attack_eps=0.1 * np.sqrt(D),\n",
    "    attack_eps_step=0.01 * np.sqrt(D),\n",
    "    attack_iters=20,\n",
    ")"
   ]
  },
  {
   "cell_type": "code",
   "execution_count": 7,
   "id": "formed-wiring",
   "metadata": {},
   "outputs": [
    {
     "data": {
      "image/png": "[encoded data removed]",
      "text/plain": [
       "<Figure size 432x288 with 1 Axes>"
      ]
     },
     "metadata": {
      "needs_background": "light"
     },
     "output_type": "display_data"
    }
   ],
   "source": [
    "plt.hist(np.linalg.norm(res[\"test_data\"][0], ord=2, axis=-1), bins=50, label=\"x_test\");\n",
    "plt.hist(np.linalg.norm(res[\"x_test_adv\"], ord=2, axis=-1), bins=50, label=\"x_test_adv\", alpha=0.5);"
   ]
  },
  {
   "cell_type": "markdown",
   "id": "legitimate-church",
   "metadata": {},
   "source": [
    "---"
   ]
  },
  {
   "cell_type": "markdown",
   "id": "labeled-stewart",
   "metadata": {},
   "source": [
    "Norm $O(1)$ + BatchNorm"
   ]
  },
  {
   "cell_type": "code",
   "execution_count": 8,
   "id": "appropriate-spain",
   "metadata": {},
   "outputs": [
    {
     "name": "stdout",
     "output_type": "stream",
     "text": [
      "Epoch 1/10\n",
      "391/391 - 1s - loss: 0.0553 - accuracy: 0.9792 - val_loss: 0.2563 - val_accuracy: 0.8756\n",
      "Epoch 2/10\n",
      "391/391 - 1s - loss: 0.0214 - accuracy: 0.9921 - val_loss: 0.0478 - val_accuracy: 0.9819\n",
      "Epoch 3/10\n",
      "391/391 - 1s - loss: 0.0182 - accuracy: 0.9936 - val_loss: 0.0373 - val_accuracy: 0.9877\n",
      "Epoch 4/10\n",
      "391/391 - 1s - loss: 0.0141 - accuracy: 0.9952 - val_loss: 0.0508 - val_accuracy: 0.9833\n",
      "Epoch 5/10\n",
      "391/391 - 1s - loss: 0.0141 - accuracy: 0.9955 - val_loss: 0.0514 - val_accuracy: 0.9843\n",
      "Epoch 6/10\n",
      "391/391 - 1s - loss: 0.0126 - accuracy: 0.9958 - val_loss: 0.0640 - val_accuracy: 0.9816\n",
      "Epoch 7/10\n",
      "391/391 - 1s - loss: 0.0106 - accuracy: 0.9964 - val_loss: 0.0467 - val_accuracy: 0.9849\n",
      "Epoch 8/10\n",
      "391/391 - 1s - loss: 0.0102 - accuracy: 0.9965 - val_loss: 0.0455 - val_accuracy: 0.9871\n",
      "Epoch 9/10\n",
      "391/391 - 1s - loss: 0.0111 - accuracy: 0.9961 - val_loss: 0.0456 - val_accuracy: 0.9858\n",
      "Epoch 10/10\n",
      "391/391 - 1s - loss: 0.0107 - accuracy: 0.9966 - val_loss: 0.0407 - val_accuracy: 0.9903\n"
     ]
    },
    {
     "data": {
      "application/vnd.jupyter.widget-view+json": {
       "model_id": "",
       "version_major": 2,
       "version_minor": 0
      },
      "text/plain": [
       "PGD - Batches: 0it [00:00, ?it/s]"
      ]
     },
     "metadata": {},
     "output_type": "display_data"
    },
    {
     "data": {
      "application/vnd.jupyter.widget-view+json": {
       "model_id": "",
       "version_major": 2,
       "version_minor": 0
      },
      "text/plain": [
       "PGD - Batches: 0it [00:00, ?it/s]"
      ]
     },
     "metadata": {},
     "output_type": "display_data"
    },
    {
     "name": "stdout",
     "output_type": "stream",
     "text": [
      "Nat train acc : 0.9991000294685364\n",
      "Nat test  acc : 0.9902999997138977\n",
      "Adv train acc : 0.5727999806404114\n",
      "Adv test  acc : 0.49619999527931213\n",
      "Wall time: 23.1 s\n"
     ]
    }
   ],
   "source": [
    "%%time\n",
    "D = 500\n",
    "res = run_experiment(\n",
    "    dim=D,\n",
    "    s1=1.0 / np.sqrt(D), s2=1.3 / np.sqrt(D),\n",
    "    model_layers=[\n",
    "        layers.Dense(1000, activation=\"relu\"),\n",
    "        layers.BatchNormalization(),\n",
    "        layers.Dense(1000, activation=\"relu\"),\n",
    "        layers.Dense(2),\n",
    "    ],\n",
    "    train_batch_size=128,\n",
    "    train_epochs=10,\n",
    "    attack_norm=2,\n",
    "    attack_eps=0.1,\n",
    "    attack_eps_step=0.01,\n",
    "    attack_iters=20,\n",
    ")"
   ]
  },
  {
   "cell_type": "code",
   "execution_count": 9,
   "id": "furnished-explorer",
   "metadata": {},
   "outputs": [
    {
     "data": {
      "image/png": "[encoded data removed]",
      "text/plain": [
       "<Figure size 432x288 with 1 Axes>"
      ]
     },
     "metadata": {
      "needs_background": "light"
     },
     "output_type": "display_data"
    }
   ],
   "source": [
    "plt.hist(np.linalg.norm(res[\"test_data\"][0], ord=2, axis=-1), bins=50, label=\"x_test\");\n",
    "plt.hist(np.linalg.norm(res[\"x_test_adv\"], ord=2, axis=-1), bins=50, label=\"x_test_adv\", alpha=0.5);"
   ]
  },
  {
   "cell_type": "markdown",
   "id": "developing-withdrawal",
   "metadata": {},
   "source": [
    "---"
   ]
  },
  {
   "cell_type": "markdown",
   "id": "flying-value",
   "metadata": {},
   "source": [
    "Norm $O(\\sqrt{D})$ + BatchNorm"
   ]
  },
  {
   "cell_type": "code",
   "execution_count": 10,
   "id": "assumed-deployment",
   "metadata": {},
   "outputs": [
    {
     "name": "stdout",
     "output_type": "stream",
     "text": [
      "Epoch 1/10\n",
      "391/391 - 1s - loss: 0.0982 - accuracy: 0.9655 - val_loss: 0.0865 - val_accuracy: 0.9697\n",
      "Epoch 2/10\n",
      "391/391 - 1s - loss: 0.0470 - accuracy: 0.9823 - val_loss: 0.0683 - val_accuracy: 0.9760\n",
      "Epoch 3/10\n",
      "391/391 - 1s - loss: 0.0370 - accuracy: 0.9873 - val_loss: 0.0530 - val_accuracy: 0.9821\n",
      "Epoch 4/10\n",
      "391/391 - 1s - loss: 0.0345 - accuracy: 0.9877 - val_loss: 0.0513 - val_accuracy: 0.9818\n",
      "Epoch 5/10\n",
      "391/391 - 1s - loss: 0.0291 - accuracy: 0.9901 - val_loss: 0.0618 - val_accuracy: 0.9785\n",
      "Epoch 6/10\n",
      "391/391 - 1s - loss: 0.0294 - accuracy: 0.9896 - val_loss: 0.0600 - val_accuracy: 0.9779\n",
      "Epoch 7/10\n",
      "391/391 - 1s - loss: 0.0233 - accuracy: 0.9920 - val_loss: 0.0580 - val_accuracy: 0.9811\n",
      "Epoch 8/10\n",
      "391/391 - 1s - loss: 0.0200 - accuracy: 0.9931 - val_loss: 0.0554 - val_accuracy: 0.9815\n",
      "Epoch 9/10\n",
      "391/391 - 1s - loss: 0.0238 - accuracy: 0.9916 - val_loss: 0.0803 - val_accuracy: 0.9758\n",
      "Epoch 10/10\n",
      "391/391 - 1s - loss: 0.0189 - accuracy: 0.9937 - val_loss: 0.0682 - val_accuracy: 0.9777\n"
     ]
    },
    {
     "data": {
      "application/vnd.jupyter.widget-view+json": {
       "model_id": "",
       "version_major": 2,
       "version_minor": 0
      },
      "text/plain": [
       "PGD - Batches: 0it [00:00, ?it/s]"
      ]
     },
     "metadata": {},
     "output_type": "display_data"
    },
    {
     "data": {
      "application/vnd.jupyter.widget-view+json": {
       "model_id": "",
       "version_major": 2,
       "version_minor": 0
      },
      "text/plain": [
       "PGD - Batches: 0it [00:00, ?it/s]"
      ]
     },
     "metadata": {},
     "output_type": "display_data"
    },
    {
     "name": "stdout",
     "output_type": "stream",
     "text": [
      "Nat train acc : 0.9966999888420105\n",
      "Nat test  acc : 0.9776999950408936\n",
      "Adv train acc : 0.5630000233650208\n",
      "Adv test  acc : 0.4571000039577484\n",
      "Wall time: 22.8 s\n"
     ]
    }
   ],
   "source": [
    "%%time\n",
    "D = 500\n",
    "res = run_experiment(\n",
    "    dim=D,\n",
    "    s1=1.0, s2=1.3,\n",
    "    model_layers=[\n",
    "        layers.Dense(1000, activation=\"relu\"),\n",
    "        layers.BatchNormalization(),\n",
    "        layers.Dense(1000, activation=\"relu\"),\n",
    "        layers.Dense(2),\n",
    "    ],\n",
    "    train_batch_size=128,\n",
    "    train_epochs=10,\n",
    "    attack_norm=2,\n",
    "    attack_eps=0.1 * np.sqrt(D),\n",
    "    attack_eps_step=0.01 * np.sqrt(D),\n",
    "    attack_iters=20,\n",
    ")"
   ]
  },
  {
   "cell_type": "code",
   "execution_count": 11,
   "id": "reported-roberts",
   "metadata": {},
   "outputs": [
    {
     "data": {
      "image/png": "[encoded data removed]",
      "text/plain": [
       "<Figure size 432x288 with 1 Axes>"
      ]
     },
     "metadata": {
      "needs_background": "light"
     },
     "output_type": "display_data"
    }
   ],
   "source": [
    "plt.hist(np.linalg.norm(res[\"test_data\"][0], ord=2, axis=-1), bins=50, label=\"x_test\");\n",
    "plt.hist(np.linalg.norm(res[\"x_test_adv\"], ord=2, axis=-1), bins=50, label=\"x_test_adv\", alpha=0.5);"
   ]
  },
  {
   "cell_type": "markdown",
   "id": "european-collins",
   "metadata": {},
   "source": [
    "### Summary and conclusions\n",
    "Overall we get pretty similar behavior in the spherical and Gaussian cases (see sphere-v1.ipynb).\n",
    "\n",
    "Like in the spherical case,\n",
    "the vanilla feed-forward NN does worse on norm-$O(\\sqrt{D})$ data than norm-$O(1)$ data\n",
    "(93% test acc vs 99% test acc).\n",
    "However, this difference can be mitigated with a batchnorm layer."
   ]
  }
 ],
 "metadata": {
  "kernelspec": {
   "display_name": "Python 3",
   "language": "python",
   "name": "python3"
  },
  "language_info": {
   "codemirror_mode": {
    "name": "ipython",
    "version": 3
   },
   "file_extension": ".py",
   "mimetype": "text/x-python",
   "name": "python",
   "nbconvert_exporter": "python",
   "pygments_lexer": "ipython3",
   "version": "3.8.5"
  }
 },
 "nbformat": 4,
 "nbformat_minor": 5
}
