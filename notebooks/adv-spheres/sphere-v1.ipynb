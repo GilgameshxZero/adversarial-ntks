{
 "cells": [
  {
   "cell_type": "markdown",
   "id": "elect-worst",
   "metadata": {},
   "source": [
    "This notebook tries to reproduce the results from the adversarial spheres paper: https://arxiv.org/pdf/1801.02774.pdf\n",
    "\n",
    "We also study the effect the norm of the data has on learning.\n",
    "We generate spheres of radius $O(1)$ and $O(\\sqrt{D})$.\n",
    "The radius $O(\\sqrt{D})$ setting is meant to model how image inputs are fed into NNs in practice."
   ]
  },
  {
   "cell_type": "markdown",
   "id": "affiliated-hypothetical",
   "metadata": {},
   "source": [
    "### Import dependencies"
   ]
  },
  {
   "cell_type": "code",
   "execution_count": 1,
   "id": "binding-sperm",
   "metadata": {},
   "outputs": [
    {
     "data": {
      "text/plain": [
       "[PhysicalDevice(name='/physical_device:CPU:0', device_type='CPU'),\n",
       " PhysicalDevice(name='/physical_device:XLA_CPU:0', device_type='XLA_CPU')]"
      ]
     },
     "execution_count": 1,
     "metadata": {},
     "output_type": "execute_result"
    }
   ],
   "source": [
    "import matplotlib.pyplot as plt\n",
    "import numpy as np\n",
    "\n",
    "import tensorflow as tf\n",
    "from tensorflow import keras\n",
    "from tensorflow.keras import layers\n",
    "\n",
    "from art.estimators.classification import TensorFlowV2Classifier\n",
    "from art.attacks.evasion import ProjectedGradientDescent\n",
    "\n",
    "tf.config.list_physical_devices(device_type=None)"
   ]
  },
  {
   "cell_type": "markdown",
   "id": "finished-certificate",
   "metadata": {},
   "source": [
    "### Data generation utils"
   ]
  },
  {
   "cell_type": "code",
   "execution_count": 2,
   "id": "systematic-position",
   "metadata": {},
   "outputs": [
    {
     "data": {
      "text/plain": [
       "(array([[ 0.18248647,  0.98320836],\n",
       "        [ 6.21542038, -7.83380811],\n",
       "        [ 8.34962306, -5.5030714 ],\n",
       "        [-0.99948767, -0.03200622]]),\n",
       " array([0, 1, 1, 0]))"
      ]
     },
     "execution_count": 2,
     "metadata": {},
     "output_type": "execute_result"
    }
   ],
   "source": [
    "def normalize_vectors(xs):\n",
    "    return xs / np.linalg.norm(xs, ord=2, axis=1, keepdims=True)\n",
    "\n",
    "def sample_unit_sphere(num_samples, dim):\n",
    "    return normalize_vectors(\n",
    "        np.random.normal(size=(num_samples, dim))\n",
    "    )\n",
    "\n",
    "def generate_sphere_data(dim, r1, r2, num_samples):\n",
    "    assert num_samples % 2 == 0\n",
    "    \n",
    "    xs = np.concatenate([\n",
    "        r1 * sample_unit_sphere(num_samples // 2, dim),\n",
    "        r2 * sample_unit_sphere(num_samples // 2, dim)\n",
    "    ])\n",
    "    \n",
    "    ys = np.concatenate([\n",
    "        np.zeros(shape=num_samples // 2, dtype=np.int64),\n",
    "        np.ones(shape=num_samples // 2, dtype=np.int64)\n",
    "    ])\n",
    "    \n",
    "    perm = np.random.permutation(num_samples)\n",
    "    xs = xs[perm]\n",
    "    ys = ys[perm]\n",
    "    \n",
    "    return xs, ys\n",
    "\n",
    "generate_sphere_data(dim=2, r1=1, r2=10, num_samples=4)"
   ]
  },
  {
   "cell_type": "markdown",
   "id": "actual-seminar",
   "metadata": {},
   "source": [
    "### Experiment setup"
   ]
  },
  {
   "cell_type": "code",
   "execution_count": 3,
   "id": "following-dependence",
   "metadata": {},
   "outputs": [],
   "source": [
    "def run_experiment(\n",
    "    dim,\n",
    "    r1, r2,\n",
    "    model_layers,\n",
    "    train_batch_size,\n",
    "    train_epochs,\n",
    "    attack_norm,\n",
    "    attack_eps,\n",
    "    attack_eps_step,\n",
    "    attack_iters,\n",
    "    attack_batch_size=1024,\n",
    "    num_train=5 * 10 ** 4,\n",
    "    num_test=10 ** 4,\n",
    "    seed=42\n",
    "):\n",
    "    \"\"\"\n",
    "    Default values for num_train and num_test are size of CIFAR10 dataset.\n",
    "    \n",
    "    Keras code derived from https://keras.io/examples/vision/mnist_convnet/.\n",
    "    \n",
    "    ART code derived from https://github.com/Trusted-AI/adversarial-robustness-toolbox/blob/main/notebooks/adversarial_retraining.ipynb\n",
    "    and https://github.com/Trusted-AI/adversarial-robustness-toolbox/issues/238.\n",
    "    \"\"\"\n",
    "    np.random.seed(seed)\n",
    "    tf.random.set_seed(seed)\n",
    "    \n",
    "    x_train, y_train = generate_sphere_data(\n",
    "        dim=dim, r1=r1, r2=r2,\n",
    "        num_samples=num_train,\n",
    "    )\n",
    "\n",
    "    x_test, y_test = generate_sphere_data(\n",
    "        dim=dim, r1=r1, r2=r2,\n",
    "        num_samples=num_test,\n",
    "    )\n",
    "    \n",
    "    model = keras.Sequential(\n",
    "        [keras.Input(shape=x_train[0].shape)]\n",
    "        + model_layers\n",
    "    )\n",
    "    model.compile(\n",
    "        loss=keras.losses.SparseCategoricalCrossentropy(from_logits=True),\n",
    "        optimizer=\"adam\",\n",
    "        metrics=[\"accuracy\"]\n",
    "    )\n",
    "    model.fit(\n",
    "        x_train,\n",
    "        y_train,\n",
    "        batch_size=train_batch_size,\n",
    "        epochs=train_epochs,\n",
    "        validation_data=(x_test, y_test),\n",
    "        verbose=2,\n",
    "    )\n",
    "    model.trainable = False\n",
    "    \n",
    "    art_model = TensorFlowV2Classifier(\n",
    "        model=model,\n",
    "        input_shape=x_test[0].shape,\n",
    "        nb_classes=2,\n",
    "        loss_object=keras.losses.SparseCategoricalCrossentropy(from_logits=True),\n",
    "        clip_values=[-x_test.max(), x_test.max()],\n",
    "    )\n",
    "    art_attack = ProjectedGradientDescent(\n",
    "        art_model,\n",
    "        norm=attack_norm,\n",
    "        eps=attack_eps,\n",
    "        eps_step=attack_eps_step,\n",
    "        max_iter=attack_iters,\n",
    "        batch_size=attack_batch_size,\n",
    "    )\n",
    "    \n",
    "    x_train_adv = art_attack.generate(x_train[:num_test], y=y_train[:num_test])    \n",
    "    x_test_adv = art_attack.generate(x_test, y=y_test)\n",
    "    \n",
    "    _, nat_train_acc = model.evaluate(x_train, y_train, verbose=0)\n",
    "    _, nat_test_acc = model.evaluate(x_test, y_test, verbose=0)\n",
    "    _, adv_train_acc = model.evaluate(x_train_adv, y_train[:num_test], verbose=0)\n",
    "    _, adv_test_acc = model.evaluate(x_test_adv, y_test, verbose=0)\n",
    "    \n",
    "    print(\"Nat train acc :\", nat_train_acc)\n",
    "    print(\"Nat test  acc :\", nat_test_acc)\n",
    "    print(\"Adv train acc :\", adv_train_acc)\n",
    "    print(\"Adv test  acc :\", adv_test_acc)\n",
    "    \n",
    "    return dict(\n",
    "        model=model,\n",
    "        train_data=(x_train, y_train),\n",
    "        test_data=(x_test, y_test),\n",
    "        x_train_adv=x_train_adv,\n",
    "        x_test_adv=x_test_adv,\n",
    "    )"
   ]
  },
  {
   "cell_type": "markdown",
   "id": "broadband-orange",
   "metadata": {},
   "source": [
    "### Run experiments"
   ]
  },
  {
   "cell_type": "markdown",
   "id": "ruled-devil",
   "metadata": {},
   "source": [
    "Norm $O(1)$"
   ]
  },
  {
   "cell_type": "code",
   "execution_count": 4,
   "id": "major-covering",
   "metadata": {},
   "outputs": [
    {
     "name": "stdout",
     "output_type": "stream",
     "text": [
      "Epoch 1/5\n",
      "391/391 - 3s - loss: 0.1228 - accuracy: 0.9469 - val_loss: 0.0166 - val_accuracy: 0.9947\n",
      "Epoch 2/5\n",
      "391/391 - 3s - loss: 0.0033 - accuracy: 0.9994 - val_loss: 0.0042 - val_accuracy: 0.9992\n",
      "Epoch 3/5\n",
      "391/391 - 3s - loss: 3.4914e-04 - accuracy: 1.0000 - val_loss: 0.0015 - val_accuracy: 0.9998\n",
      "Epoch 4/5\n",
      "391/391 - 3s - loss: 6.0789e-05 - accuracy: 1.0000 - val_loss: 0.0013 - val_accuracy: 0.9998\n",
      "Epoch 5/5\n",
      "391/391 - 3s - loss: 3.5033e-05 - accuracy: 1.0000 - val_loss: 0.0012 - val_accuracy: 0.9998\n"
     ]
    },
    {
     "data": {
      "application/vnd.jupyter.widget-view+json": {
       "model_id": "",
       "version_major": 2,
       "version_minor": 0
      },
      "text/plain": [
       "PGD - Batches: 0it [00:00, ?it/s]"
      ]
     },
     "metadata": {},
     "output_type": "display_data"
    },
    {
     "data": {
      "application/vnd.jupyter.widget-view+json": {
       "model_id": "",
       "version_major": 2,
       "version_minor": 0
      },
      "text/plain": [
       "PGD - Batches: 0it [00:00, ?it/s]"
      ]
     },
     "metadata": {},
     "output_type": "display_data"
    },
    {
     "name": "stdout",
     "output_type": "stream",
     "text": [
      "Nat train acc : 1.0\n",
      "Nat test  acc : 0.9998000264167786\n",
      "Adv train acc : 0.5234000086784363\n",
      "Adv test  acc : 0.3785000145435333\n",
      "CPU times: user 6min 31s, sys: 47.5 s, total: 7min 18s\n",
      "Wall time: 32.7 s\n"
     ]
    }
   ],
   "source": [
    "%%time\n",
    "D = 500\n",
    "res = run_experiment(\n",
    "    dim=D,\n",
    "    r1=1.0, r2=1.3,\n",
    "    model_layers=[\n",
    "        layers.Dense(1000, activation=\"relu\"),\n",
    "        layers.Dense(1000, activation=\"relu\"),\n",
    "        layers.Dense(2),\n",
    "    ],\n",
    "    train_batch_size=128,\n",
    "    train_epochs=5,\n",
    "    attack_norm=2,\n",
    "    attack_eps=0.1,\n",
    "    attack_eps_step=0.01,\n",
    "    attack_iters=20,\n",
    ")"
   ]
  },
  {
   "cell_type": "code",
   "execution_count": 5,
   "id": "official-software",
   "metadata": {},
   "outputs": [
    {
     "data": {
      "image/png": "[encoded data removed]",
      "text/plain": [
       "<Figure size 432x288 with 1 Axes>"
      ]
     },
     "metadata": {
      "needs_background": "light"
     },
     "output_type": "display_data"
    }
   ],
   "source": [
    "plt.hist(np.linalg.norm(res[\"x_test_adv\"], ord=2, axis=-1), bins=50);\n",
    "plt.hist(np.linalg.norm(res[\"test_data\"][0], ord=2, axis=-1), bins=50);"
   ]
  },
  {
   "cell_type": "markdown",
   "id": "olympic-channel",
   "metadata": {},
   "source": [
    "---"
   ]
  },
  {
   "cell_type": "markdown",
   "id": "unable-victory",
   "metadata": {},
   "source": [
    "Norm $O(\\sqrt{D})$"
   ]
  },
  {
   "cell_type": "code",
   "execution_count": 6,
   "id": "educated-crack",
   "metadata": {},
   "outputs": [
    {
     "name": "stdout",
     "output_type": "stream",
     "text": [
      "Epoch 1/30\n",
      "391/391 - 3s - loss: 0.6797 - accuracy: 0.5562 - val_loss: 0.6558 - val_accuracy: 0.5338\n",
      "Epoch 2/30\n",
      "391/391 - 3s - loss: 0.4618 - accuracy: 0.7783 - val_loss: 0.3994 - val_accuracy: 0.8116\n",
      "Epoch 3/30\n",
      "391/391 - 3s - loss: 0.1407 - accuracy: 0.9470 - val_loss: 0.3054 - val_accuracy: 0.8741\n",
      "Epoch 4/30\n",
      "391/391 - 3s - loss: 0.0703 - accuracy: 0.9741 - val_loss: 0.2788 - val_accuracy: 0.8922\n",
      "Epoch 5/30\n",
      "391/391 - 3s - loss: 0.0408 - accuracy: 0.9859 - val_loss: 0.2879 - val_accuracy: 0.8896\n",
      "Epoch 6/30\n",
      "391/391 - 3s - loss: 0.0386 - accuracy: 0.9859 - val_loss: 0.2312 - val_accuracy: 0.9125\n",
      "Epoch 7/30\n",
      "391/391 - 3s - loss: 0.0318 - accuracy: 0.9884 - val_loss: 0.2351 - val_accuracy: 0.9196\n",
      "Epoch 8/30\n",
      "391/391 - 3s - loss: 0.0281 - accuracy: 0.9896 - val_loss: 0.2246 - val_accuracy: 0.9205\n",
      "Epoch 9/30\n",
      "391/391 - 3s - loss: 0.0277 - accuracy: 0.9901 - val_loss: 0.2306 - val_accuracy: 0.9208\n",
      "Epoch 10/30\n",
      "391/391 - 3s - loss: 0.0248 - accuracy: 0.9912 - val_loss: 0.2782 - val_accuracy: 0.9150\n",
      "Epoch 11/30\n",
      "391/391 - 3s - loss: 0.0230 - accuracy: 0.9918 - val_loss: 0.1996 - val_accuracy: 0.9371\n",
      "Epoch 12/30\n",
      "391/391 - 3s - loss: 0.0214 - accuracy: 0.9926 - val_loss: 0.1453 - val_accuracy: 0.9480\n",
      "Epoch 13/30\n",
      "391/391 - 3s - loss: 0.0208 - accuracy: 0.9927 - val_loss: 0.2880 - val_accuracy: 0.9163\n",
      "Epoch 14/30\n",
      "391/391 - 3s - loss: 0.0148 - accuracy: 0.9944 - val_loss: 0.1931 - val_accuracy: 0.9375\n",
      "Epoch 15/30\n",
      "391/391 - 3s - loss: 0.0170 - accuracy: 0.9938 - val_loss: 0.1647 - val_accuracy: 0.9485\n",
      "Epoch 16/30\n",
      "391/391 - 3s - loss: 0.0147 - accuracy: 0.9948 - val_loss: 0.1777 - val_accuracy: 0.9382\n",
      "Epoch 17/30\n",
      "391/391 - 3s - loss: 0.0176 - accuracy: 0.9935 - val_loss: 0.1630 - val_accuracy: 0.9450\n",
      "Epoch 18/30\n",
      "391/391 - 3s - loss: 0.0136 - accuracy: 0.9954 - val_loss: 0.1364 - val_accuracy: 0.9544\n",
      "Epoch 19/30\n",
      "391/391 - 3s - loss: 0.0143 - accuracy: 0.9949 - val_loss: 0.1172 - val_accuracy: 0.9603\n",
      "Epoch 20/30\n",
      "391/391 - 3s - loss: 0.0117 - accuracy: 0.9959 - val_loss: 0.1200 - val_accuracy: 0.9611\n",
      "Epoch 21/30\n",
      "391/391 - 3s - loss: 0.0109 - accuracy: 0.9961 - val_loss: 0.1600 - val_accuracy: 0.9498\n",
      "Epoch 22/30\n",
      "391/391 - 3s - loss: 0.0130 - accuracy: 0.9952 - val_loss: 0.1768 - val_accuracy: 0.9403\n",
      "Epoch 23/30\n",
      "391/391 - 3s - loss: 0.0112 - accuracy: 0.9959 - val_loss: 0.0996 - val_accuracy: 0.9637\n",
      "Epoch 24/30\n",
      "391/391 - 3s - loss: 0.0083 - accuracy: 0.9969 - val_loss: 0.1305 - val_accuracy: 0.9631\n",
      "Epoch 25/30\n",
      "391/391 - 3s - loss: 0.0096 - accuracy: 0.9968 - val_loss: 0.1450 - val_accuracy: 0.9542\n",
      "Epoch 26/30\n",
      "391/391 - 3s - loss: 0.0092 - accuracy: 0.9969 - val_loss: 0.0907 - val_accuracy: 0.9699\n",
      "Epoch 27/30\n",
      "391/391 - 3s - loss: 0.0098 - accuracy: 0.9965 - val_loss: 0.1006 - val_accuracy: 0.9647\n",
      "Epoch 28/30\n",
      "391/391 - 3s - loss: 0.0118 - accuracy: 0.9957 - val_loss: 0.0742 - val_accuracy: 0.9715\n",
      "Epoch 29/30\n",
      "391/391 - 3s - loss: 0.0085 - accuracy: 0.9970 - val_loss: 0.0811 - val_accuracy: 0.9722\n",
      "Epoch 30/30\n",
      "391/391 - 3s - loss: 0.0080 - accuracy: 0.9972 - val_loss: 0.0892 - val_accuracy: 0.9696\n"
     ]
    },
    {
     "data": {
      "application/vnd.jupyter.widget-view+json": {
       "model_id": "",
       "version_major": 2,
       "version_minor": 0
      },
      "text/plain": [
       "PGD - Batches: 0it [00:00, ?it/s]"
      ]
     },
     "metadata": {},
     "output_type": "display_data"
    },
    {
     "data": {
      "application/vnd.jupyter.widget-view+json": {
       "model_id": "",
       "version_major": 2,
       "version_minor": 0
      },
      "text/plain": [
       "PGD - Batches: 0it [00:00, ?it/s]"
      ]
     },
     "metadata": {},
     "output_type": "display_data"
    },
    {
     "name": "stdout",
     "output_type": "stream",
     "text": [
      "Nat train acc : 0.9987999796867371\n",
      "Nat test  acc : 0.9696000218391418\n",
      "Adv train acc : 0.5264000296592712\n",
      "Adv test  acc : 0.28679999709129333\n",
      "CPU times: user 23min 3s, sys: 2min 32s, total: 25min 35s\n",
      "Wall time: 1min 46s\n"
     ]
    }
   ],
   "source": [
    "%%time\n",
    "D = 500\n",
    "res = run_experiment(\n",
    "    dim=D,\n",
    "    r1=1.0 * np.sqrt(D), r2=1.3 * np.sqrt(D),\n",
    "    model_layers=[\n",
    "        layers.Dense(1000, activation=\"relu\"),\n",
    "        layers.Dense(1000, activation=\"relu\"),\n",
    "        layers.Dense(2),\n",
    "    ],\n",
    "    train_batch_size=128,\n",
    "    train_epochs=30,\n",
    "    attack_norm=2,\n",
    "    attack_eps=0.1 * np.sqrt(D),\n",
    "    attack_eps_step=0.01 * np.sqrt(D),\n",
    "    attack_iters=20,\n",
    ")"
   ]
  },
  {
   "cell_type": "markdown",
   "id": "stainless-plane",
   "metadata": {},
   "source": [
    "---"
   ]
  },
  {
   "cell_type": "markdown",
   "id": "critical-partnership",
   "metadata": {},
   "source": [
    "Norm $O(1)$ + BatchNorm"
   ]
  },
  {
   "cell_type": "code",
   "execution_count": 7,
   "id": "weekly-creator",
   "metadata": {},
   "outputs": [
    {
     "name": "stdout",
     "output_type": "stream",
     "text": [
      "Epoch 1/5\n",
      "391/391 - 4s - loss: 0.0304 - accuracy: 0.9886 - val_loss: 0.2996 - val_accuracy: 0.8464\n",
      "Epoch 2/5\n",
      "391/391 - 4s - loss: 0.0159 - accuracy: 0.9945 - val_loss: 0.0129 - val_accuracy: 0.9962\n",
      "Epoch 3/5\n",
      "391/391 - 4s - loss: 0.0126 - accuracy: 0.9956 - val_loss: 0.0181 - val_accuracy: 0.9942\n",
      "Epoch 4/5\n",
      "391/391 - 4s - loss: 0.0107 - accuracy: 0.9963 - val_loss: 0.0240 - val_accuracy: 0.9932\n",
      "Epoch 5/5\n",
      "391/391 - 4s - loss: 0.0115 - accuracy: 0.9962 - val_loss: 0.0198 - val_accuracy: 0.9932\n"
     ]
    },
    {
     "data": {
      "application/vnd.jupyter.widget-view+json": {
       "model_id": "",
       "version_major": 2,
       "version_minor": 0
      },
      "text/plain": [
       "PGD - Batches: 0it [00:00, ?it/s]"
      ]
     },
     "metadata": {},
     "output_type": "display_data"
    },
    {
     "data": {
      "application/vnd.jupyter.widget-view+json": {
       "model_id": "",
       "version_major": 2,
       "version_minor": 0
      },
      "text/plain": [
       "PGD - Batches: 0it [00:00, ?it/s]"
      ]
     },
     "metadata": {},
     "output_type": "display_data"
    },
    {
     "name": "stdout",
     "output_type": "stream",
     "text": [
      "Nat train acc : 0.9968799948692322\n",
      "Nat test  acc : 0.9932000041007996\n",
      "Adv train acc : 0.5048999786376953\n",
      "Adv test  acc : 0.4657000005245209\n",
      "CPU times: user 7min 10s, sys: 55.5 s, total: 8min 6s\n",
      "Wall time: 38.8 s\n"
     ]
    }
   ],
   "source": [
    "%%time\n",
    "D = 500\n",
    "res = run_experiment(\n",
    "    dim=D,\n",
    "    r1=1.0, r2=1.3,\n",
    "    model_layers=[\n",
    "        layers.Dense(1000, activation=\"relu\"),\n",
    "        layers.BatchNormalization(),\n",
    "        layers.Dense(1000, activation=\"relu\"),\n",
    "        layers.Dense(2),\n",
    "    ],\n",
    "    train_batch_size=128,\n",
    "    train_epochs=5,\n",
    "    attack_norm=2,\n",
    "    attack_eps=0.1,\n",
    "    attack_eps_step=0.01,\n",
    "    attack_iters=20,\n",
    ")"
   ]
  },
  {
   "cell_type": "markdown",
   "id": "greater-greene",
   "metadata": {},
   "source": [
    "---"
   ]
  },
  {
   "cell_type": "markdown",
   "id": "latter-asthma",
   "metadata": {},
   "source": [
    "Norm $O(\\sqrt{D})$ + BatchNorm"
   ]
  },
  {
   "cell_type": "code",
   "execution_count": 8,
   "id": "outer-layout",
   "metadata": {},
   "outputs": [
    {
     "name": "stdout",
     "output_type": "stream",
     "text": [
      "Epoch 1/10\n",
      "391/391 - 4s - loss: 0.0707 - accuracy: 0.9758 - val_loss: 0.0953 - val_accuracy: 0.9673\n",
      "Epoch 2/10\n",
      "391/391 - 4s - loss: 0.0336 - accuracy: 0.9880 - val_loss: 0.0484 - val_accuracy: 0.9840\n",
      "Epoch 3/10\n",
      "391/391 - 4s - loss: 0.0263 - accuracy: 0.9907 - val_loss: 0.0215 - val_accuracy: 0.9921\n",
      "Epoch 4/10\n",
      "391/391 - 4s - loss: 0.0292 - accuracy: 0.9901 - val_loss: 0.0229 - val_accuracy: 0.9916\n",
      "Epoch 5/10\n",
      "391/391 - 4s - loss: 0.0260 - accuracy: 0.9910 - val_loss: 0.0337 - val_accuracy: 0.9884\n",
      "Epoch 6/10\n",
      "391/391 - 4s - loss: 0.0233 - accuracy: 0.9921 - val_loss: 0.0257 - val_accuracy: 0.9914\n",
      "Epoch 7/10\n",
      "391/391 - 4s - loss: 0.0218 - accuracy: 0.9922 - val_loss: 0.0199 - val_accuracy: 0.9932\n",
      "Epoch 8/10\n",
      "391/391 - 4s - loss: 0.0191 - accuracy: 0.9936 - val_loss: 0.0265 - val_accuracy: 0.9914\n",
      "Epoch 9/10\n",
      "391/391 - 4s - loss: 0.0205 - accuracy: 0.9931 - val_loss: 0.0424 - val_accuracy: 0.9875\n",
      "Epoch 10/10\n",
      "391/391 - 4s - loss: 0.0166 - accuracy: 0.9947 - val_loss: 0.0208 - val_accuracy: 0.9925\n"
     ]
    },
    {
     "data": {
      "application/vnd.jupyter.widget-view+json": {
       "model_id": "",
       "version_major": 2,
       "version_minor": 0
      },
      "text/plain": [
       "PGD - Batches: 0it [00:00, ?it/s]"
      ]
     },
     "metadata": {},
     "output_type": "display_data"
    },
    {
     "data": {
      "application/vnd.jupyter.widget-view+json": {
       "model_id": "",
       "version_major": 2,
       "version_minor": 0
      },
      "text/plain": [
       "PGD - Batches: 0it [00:00, ?it/s]"
      ]
     },
     "metadata": {},
     "output_type": "display_data"
    },
    {
     "name": "stdout",
     "output_type": "stream",
     "text": [
      "Nat train acc : 0.9978600144386292\n",
      "Nat test  acc : 0.9925000071525574\n",
      "Adv train acc : 0.6022999882698059\n",
      "Adv test  acc : 0.5054000020027161\n",
      "CPU times: user 10min 46s, sys: 1min 24s, total: 12min 10s\n",
      "Wall time: 57.7 s\n"
     ]
    }
   ],
   "source": [
    "%%time\n",
    "D = 500\n",
    "res = run_experiment(\n",
    "    dim=D,\n",
    "    r1=1.0 * np.sqrt(D), r2=1.3 * np.sqrt(D),\n",
    "    model_layers=[\n",
    "        layers.Dense(1000, activation=\"relu\"),\n",
    "        layers.BatchNormalization(),\n",
    "        layers.Dense(1000, activation=\"relu\"),\n",
    "        layers.Dense(2),\n",
    "    ],\n",
    "    train_batch_size=128,\n",
    "    train_epochs=10,\n",
    "    attack_norm=2,\n",
    "    attack_eps=0.1 * np.sqrt(D),\n",
    "    attack_eps_step=0.01 * np.sqrt(D),\n",
    "    attack_iters=20,\n",
    ")"
   ]
  },
  {
   "cell_type": "markdown",
   "id": "announced-schedule",
   "metadata": {},
   "source": [
    "### Summary and conclusions\n",
    "\n",
    "Our perturbation epsilon is chosen such that the max-margin classifier should have perfect robust accuracy.\n",
    "However we see that our neural networks are far from robust.\n",
    "\n",
    "Interestingly, it seems our neural networks train much quicker\n",
    "when the data is of norm $O(1)$ compared to norm $O(\\sqrt{D})$.\n",
    "This difference can be mitigated with batchnorm.\n",
    "\n",
    "It is also interesting to note that batchnorm seems to improve robustness."
   ]
  }
 ],
 "metadata": {
  "kernelspec": {
   "display_name": "Python 3",
   "language": "python",
   "name": "python3"
  },
  "language_info": {
   "codemirror_mode": {
    "name": "ipython",
    "version": 3
   },
   "file_extension": ".py",
   "mimetype": "text/x-python",
   "name": "python",
   "nbconvert_exporter": "python",
   "pygments_lexer": "ipython3",
   "version": "3.8.5"
  }
 },
 "nbformat": 4,
 "nbformat_minor": 5
}
