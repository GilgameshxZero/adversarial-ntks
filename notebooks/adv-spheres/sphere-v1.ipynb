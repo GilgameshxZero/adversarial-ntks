{
 "cells": [
  {
   "cell_type": "markdown",
   "id": "prostate-despite",
   "metadata": {},
   "source": [
    "This notebook tries to reproduce the results from the adversarial spheres paper: https://arxiv.org/pdf/1801.02774.pdf\n",
    "\n",
    "We also study the effect the norm of the data has on learning.\n",
    "We generate spheres of radius $O(1)$ and $O(\\sqrt{D})$.\n",
    "The radius $O(\\sqrt{D})$ setting is meant to model how image inputs are fed into NNs in practice."
   ]
  },
  {
   "cell_type": "markdown",
   "id": "collect-reception",
   "metadata": {},
   "source": [
    "### Import dependencies"
   ]
  },
  {
   "cell_type": "code",
   "execution_count": 1,
   "id": "solved-birthday",
   "metadata": {},
   "outputs": [
    {
     "data": {
      "text/plain": [
       "[PhysicalDevice(name='/physical_device:CPU:0', device_type='CPU'),\n",
       " PhysicalDevice(name='/physical_device:GPU:0', device_type='GPU')]"
      ]
     },
     "execution_count": 1,
     "metadata": {},
     "output_type": "execute_result"
    }
   ],
   "source": [
    "import matplotlib.pyplot as plt\n",
    "import numpy as np\n",
    "\n",
    "import tensorflow as tf\n",
    "from tensorflow import keras\n",
    "from tensorflow.keras import layers\n",
    "\n",
    "from art.estimators.classification import TensorFlowV2Classifier\n",
    "from art.attacks.evasion import ProjectedGradientDescent\n",
    "\n",
    "tf.config.list_physical_devices(device_type=None)"
   ]
  },
  {
   "cell_type": "markdown",
   "id": "educational-nitrogen",
   "metadata": {},
   "source": [
    "### Data generation utils"
   ]
  },
  {
   "cell_type": "code",
   "execution_count": 2,
   "id": "political-selection",
   "metadata": {},
   "outputs": [
    {
     "data": {
      "text/plain": [
       "(array([[ 5.39207939,  8.42172666],\n",
       "        [-8.73155622, -4.87441546],\n",
       "        [-0.21834208,  0.97587229],\n",
       "        [ 0.69347835, -0.72047746]]),\n",
       " array([1, 1, 0, 0], dtype=int64))"
      ]
     },
     "execution_count": 2,
     "metadata": {},
     "output_type": "execute_result"
    }
   ],
   "source": [
    "def normalize_vectors(xs):\n",
    "    return xs / np.linalg.norm(xs, ord=2, axis=1, keepdims=True)\n",
    "\n",
    "def sample_unit_sphere(num_samples, dim):\n",
    "    return normalize_vectors(\n",
    "        np.random.normal(size=(num_samples, dim))\n",
    "    )\n",
    "\n",
    "def generate_sphere_data(dim, r1, r2, num_samples):\n",
    "    assert num_samples % 2 == 0\n",
    "    \n",
    "    xs = np.concatenate([\n",
    "        r1 * sample_unit_sphere(num_samples // 2, dim),\n",
    "        r2 * sample_unit_sphere(num_samples // 2, dim)\n",
    "    ])\n",
    "    \n",
    "    ys = np.concatenate([\n",
    "        np.zeros(shape=num_samples // 2, dtype=np.int64),\n",
    "        np.ones(shape=num_samples // 2, dtype=np.int64)\n",
    "    ])\n",
    "    \n",
    "    perm = np.random.permutation(num_samples)\n",
    "    xs = xs[perm]\n",
    "    ys = ys[perm]\n",
    "    \n",
    "    return xs, ys\n",
    "\n",
    "generate_sphere_data(dim=2, r1=1, r2=10, num_samples=4)"
   ]
  },
  {
   "cell_type": "markdown",
   "id": "gentle-excerpt",
   "metadata": {},
   "source": [
    "### Experiment setup"
   ]
  },
  {
   "cell_type": "code",
   "execution_count": 3,
   "id": "exceptional-tattoo",
   "metadata": {},
   "outputs": [],
   "source": [
    "def run_experiment(\n",
    "    dim,\n",
    "    r1, r2,\n",
    "    model_layers,\n",
    "    train_epochs,\n",
    "    attack_norm,\n",
    "    attack_eps,\n",
    "    attack_eps_step,\n",
    "    attack_iters,\n",
    "    train_batch_size=64,\n",
    "    attack_batch_size=256,\n",
    "    num_train=5 * 10 ** 4,\n",
    "    num_test=10 ** 4,\n",
    "    seed=42\n",
    "):\n",
    "    \"\"\"\n",
    "    Default values for num_train and num_test are size of CIFAR10 dataset.\n",
    "    \n",
    "    Keras code derived from https://keras.io/examples/vision/mnist_convnet/.\n",
    "    \n",
    "    ART code derived from https://github.com/Trusted-AI/adversarial-robustness-toolbox/blob/main/notebooks/adversarial_retraining.ipynb\n",
    "    and https://github.com/Trusted-AI/adversarial-robustness-toolbox/issues/238.\n",
    "    \"\"\"\n",
    "    np.random.seed(seed)\n",
    "    tf.random.set_seed(seed)\n",
    "    \n",
    "    x_train, y_train = generate_sphere_data(\n",
    "        dim=dim, r1=r1, r2=r2,\n",
    "        num_samples=num_train,\n",
    "    )\n",
    "\n",
    "    x_test, y_test = generate_sphere_data(\n",
    "        dim=dim, r1=r1, r2=r2,\n",
    "        num_samples=num_test,\n",
    "    )\n",
    "    \n",
    "    model = keras.Sequential(\n",
    "        [keras.Input(shape=x_train[0].shape)]\n",
    "        + model_layers\n",
    "    )\n",
    "    model.compile(\n",
    "        loss=keras.losses.SparseCategoricalCrossentropy(from_logits=True),\n",
    "        optimizer=\"adam\",\n",
    "        metrics=[\"accuracy\"]\n",
    "    )\n",
    "    model.fit(\n",
    "        x_train,\n",
    "        y_train,\n",
    "        batch_size=train_batch_size,\n",
    "        epochs=train_epochs,\n",
    "        validation_data=(x_test, y_test),\n",
    "        verbose=2,\n",
    "    )\n",
    "    model.trainable = False\n",
    "    \n",
    "    art_model = TensorFlowV2Classifier(\n",
    "        model=model,\n",
    "        input_shape=x_test[0].shape,\n",
    "        nb_classes=2,\n",
    "        loss_object=keras.losses.SparseCategoricalCrossentropy(from_logits=True),\n",
    "        clip_values=[-x_test.max(), x_test.max()],\n",
    "    )\n",
    "    art_attack = ProjectedGradientDescent(\n",
    "        art_model,\n",
    "        norm=attack_norm,\n",
    "        eps=attack_eps,\n",
    "        eps_step=attack_eps_step,\n",
    "        max_iter=attack_iters,\n",
    "        batch_size=attack_batch_size,\n",
    "    )\n",
    "    \n",
    "    x_train_adv = art_attack.generate(x_train[:num_test], y=y_train[:num_test])    \n",
    "    x_test_adv = art_attack.generate(x_test, y=y_test)\n",
    "    \n",
    "    _, nat_train_acc = model.evaluate(x_train, y_train, verbose=0)\n",
    "    _, nat_test_acc = model.evaluate(x_test, y_test, verbose=0)\n",
    "    _, adv_train_acc = model.evaluate(x_train_adv, y_train[:num_test], verbose=0)\n",
    "    _, adv_test_acc = model.evaluate(x_test_adv, y_test, verbose=0)\n",
    "    \n",
    "    print(\"Nat train acc :\", nat_train_acc)\n",
    "    print(\"Nat test  acc :\", nat_test_acc)\n",
    "    print(\"Adv train acc :\", adv_train_acc)\n",
    "    print(\"Adv test  acc :\", adv_test_acc)\n",
    "    \n",
    "    return dict(\n",
    "        model=model,\n",
    "        train_data=(x_train, y_train),\n",
    "        test_data=(x_test, y_test),\n",
    "        x_train_adv=x_train_adv,\n",
    "        x_test_adv=x_test_adv,\n",
    "    )"
   ]
  },
  {
   "cell_type": "markdown",
   "id": "deadly-match",
   "metadata": {},
   "source": [
    "### Run experiments"
   ]
  },
  {
   "cell_type": "markdown",
   "id": "northern-happening",
   "metadata": {},
   "source": [
    "Norm $O(1)$"
   ]
  },
  {
   "cell_type": "code",
   "execution_count": 4,
   "id": "infrared-report",
   "metadata": {},
   "outputs": [
    {
     "name": "stdout",
     "output_type": "stream",
     "text": [
      "Epoch 1/5\n",
      "782/782 - 3s - loss: 0.0978 - accuracy: 0.9576 - val_loss: 0.0235 - val_accuracy: 0.9916\n",
      "Epoch 2/5\n",
      "782/782 - 1s - loss: 0.0137 - accuracy: 0.9950 - val_loss: 0.0232 - val_accuracy: 0.9920\n",
      "Epoch 3/5\n",
      "782/782 - 1s - loss: 0.0125 - accuracy: 0.9956 - val_loss: 0.0174 - val_accuracy: 0.9935\n",
      "Epoch 4/5\n",
      "782/782 - 1s - loss: 0.0079 - accuracy: 0.9972 - val_loss: 0.0211 - val_accuracy: 0.9929\n",
      "Epoch 5/5\n",
      "782/782 - 1s - loss: 0.0101 - accuracy: 0.9965 - val_loss: 0.0239 - val_accuracy: 0.9926\n"
     ]
    },
    {
     "data": {
      "application/vnd.jupyter.widget-view+json": {
       "model_id": "",
       "version_major": 2,
       "version_minor": 0
      },
      "text/plain": [
       "PGD - Batches: 0it [00:00, ?it/s]"
      ]
     },
     "metadata": {},
     "output_type": "display_data"
    },
    {
     "data": {
      "application/vnd.jupyter.widget-view+json": {
       "model_id": "",
       "version_major": 2,
       "version_minor": 0
      },
      "text/plain": [
       "PGD - Batches: 0it [00:00, ?it/s]"
      ]
     },
     "metadata": {},
     "output_type": "display_data"
    },
    {
     "name": "stdout",
     "output_type": "stream",
     "text": [
      "Nat train acc : 0.9979000091552734\n",
      "Nat test  acc : 0.9926000237464905\n",
      "Adv train acc : 0.39340001344680786\n",
      "Adv test  acc : 0.3077000081539154\n",
      "Wall time: 20.3 s\n"
     ]
    }
   ],
   "source": [
    "%%time\n",
    "D = 500\n",
    "res = run_experiment(\n",
    "    dim=D,\n",
    "    r1=1.0, r2=1.3,\n",
    "    model_layers=[\n",
    "        layers.Dense(1000, activation=\"relu\"),\n",
    "        layers.Dense(1000, activation=\"relu\"),\n",
    "        layers.Dense(2),\n",
    "    ],\n",
    "    train_epochs=5,\n",
    "    attack_norm=2,\n",
    "    attack_eps=0.1,\n",
    "    attack_eps_step=0.01,\n",
    "    attack_iters=20,\n",
    ")"
   ]
  },
  {
   "cell_type": "code",
   "execution_count": 5,
   "id": "detected-sarah",
   "metadata": {},
   "outputs": [
    {
     "data": {
      "image/png": "[encoded data removed]",
      "text/plain": [
       "<Figure size 432x288 with 1 Axes>"
      ]
     },
     "metadata": {
      "needs_background": "light"
     },
     "output_type": "display_data"
    }
   ],
   "source": [
    "plt.hist(np.linalg.norm(res[\"x_test_adv\"], ord=2, axis=-1), bins=50);\n",
    "plt.hist(np.linalg.norm(res[\"test_data\"][0], ord=2, axis=-1), bins=50);"
   ]
  },
  {
   "cell_type": "markdown",
   "id": "japanese-litigation",
   "metadata": {},
   "source": [
    "---"
   ]
  },
  {
   "cell_type": "markdown",
   "id": "warming-venezuela",
   "metadata": {},
   "source": [
    "Norm $O(\\sqrt{D})$"
   ]
  },
  {
   "cell_type": "code",
   "execution_count": 6,
   "id": "failing-sodium",
   "metadata": {},
   "outputs": [
    {
     "name": "stdout",
     "output_type": "stream",
     "text": [
      "Epoch 1/30\n",
      "782/782 - 2s - loss: 0.6694 - accuracy: 0.5746 - val_loss: 0.6180 - val_accuracy: 0.6032\n",
      "Epoch 2/30\n",
      "782/782 - 1s - loss: 0.4113 - accuracy: 0.8133 - val_loss: 0.2954 - val_accuracy: 0.8772\n",
      "Epoch 3/30\n",
      "782/782 - 1s - loss: 0.1018 - accuracy: 0.9620 - val_loss: 0.2256 - val_accuracy: 0.9120\n",
      "Epoch 4/30\n",
      "782/782 - 1s - loss: 0.0504 - accuracy: 0.9818 - val_loss: 0.2739 - val_accuracy: 0.8952\n",
      "Epoch 5/30\n",
      "782/782 - 1s - loss: 0.0411 - accuracy: 0.9848 - val_loss: 0.2517 - val_accuracy: 0.9112\n",
      "Epoch 6/30\n",
      "782/782 - 1s - loss: 0.0356 - accuracy: 0.9869 - val_loss: 0.1566 - val_accuracy: 0.9396\n",
      "Epoch 7/30\n",
      "782/782 - 1s - loss: 0.0296 - accuracy: 0.9894 - val_loss: 0.1679 - val_accuracy: 0.9382\n",
      "Epoch 8/30\n",
      "782/782 - 1s - loss: 0.0254 - accuracy: 0.9906 - val_loss: 0.1310 - val_accuracy: 0.9525\n",
      "Epoch 9/30\n",
      "782/782 - 1s - loss: 0.0233 - accuracy: 0.9918 - val_loss: 0.1105 - val_accuracy: 0.9574\n",
      "Epoch 10/30\n",
      "782/782 - 1s - loss: 0.0215 - accuracy: 0.9927 - val_loss: 0.1817 - val_accuracy: 0.9335\n",
      "Epoch 11/30\n",
      "782/782 - 1s - loss: 0.0209 - accuracy: 0.9922 - val_loss: 0.0889 - val_accuracy: 0.9680\n",
      "Epoch 12/30\n",
      "782/782 - 1s - loss: 0.0160 - accuracy: 0.9945 - val_loss: 0.1265 - val_accuracy: 0.9553\n",
      "Epoch 13/30\n",
      "782/782 - 1s - loss: 0.0171 - accuracy: 0.9939 - val_loss: 0.1145 - val_accuracy: 0.9589\n",
      "Epoch 14/30\n",
      "782/782 - 1s - loss: 0.0157 - accuracy: 0.9946 - val_loss: 0.0855 - val_accuracy: 0.9683\n",
      "Epoch 15/30\n",
      "782/782 - 1s - loss: 0.0135 - accuracy: 0.9954 - val_loss: 0.0834 - val_accuracy: 0.9688\n",
      "Epoch 16/30\n",
      "782/782 - 1s - loss: 0.0153 - accuracy: 0.9945 - val_loss: 0.0895 - val_accuracy: 0.9673\n",
      "Epoch 17/30\n",
      "782/782 - 1s - loss: 0.0122 - accuracy: 0.9959 - val_loss: 0.1064 - val_accuracy: 0.9642\n",
      "Epoch 18/30\n",
      "782/782 - 1s - loss: 0.0120 - accuracy: 0.9963 - val_loss: 0.0840 - val_accuracy: 0.9712\n",
      "Epoch 19/30\n",
      "782/782 - 1s - loss: 0.0110 - accuracy: 0.9963 - val_loss: 0.0917 - val_accuracy: 0.9676\n",
      "Epoch 20/30\n",
      "782/782 - 1s - loss: 0.0132 - accuracy: 0.9955 - val_loss: 0.0929 - val_accuracy: 0.9669\n",
      "Epoch 21/30\n",
      "782/782 - 1s - loss: 0.0100 - accuracy: 0.9965 - val_loss: 0.0605 - val_accuracy: 0.9802\n",
      "Epoch 22/30\n",
      "782/782 - 1s - loss: 0.0105 - accuracy: 0.9966 - val_loss: 0.0894 - val_accuracy: 0.9684\n",
      "Epoch 23/30\n",
      "782/782 - 1s - loss: 0.0096 - accuracy: 0.9967 - val_loss: 0.0808 - val_accuracy: 0.9703\n",
      "Epoch 24/30\n",
      "782/782 - 1s - loss: 0.0090 - accuracy: 0.9970 - val_loss: 0.0657 - val_accuracy: 0.9760\n",
      "Epoch 25/30\n",
      "782/782 - 1s - loss: 0.0086 - accuracy: 0.9968 - val_loss: 0.0719 - val_accuracy: 0.9757\n",
      "Epoch 26/30\n",
      "782/782 - 1s - loss: 0.0081 - accuracy: 0.9973 - val_loss: 0.0581 - val_accuracy: 0.9794\n",
      "Epoch 27/30\n",
      "782/782 - 1s - loss: 0.0077 - accuracy: 0.9972 - val_loss: 0.0998 - val_accuracy: 0.9636\n",
      "Epoch 28/30\n",
      "782/782 - 1s - loss: 0.0076 - accuracy: 0.9974 - val_loss: 0.0744 - val_accuracy: 0.9764\n",
      "Epoch 29/30\n",
      "782/782 - 1s - loss: 0.0096 - accuracy: 0.9966 - val_loss: 0.0826 - val_accuracy: 0.9695\n",
      "Epoch 30/30\n",
      "782/782 - 1s - loss: 0.0063 - accuracy: 0.9979 - val_loss: 0.0536 - val_accuracy: 0.9812\n"
     ]
    },
    {
     "data": {
      "application/vnd.jupyter.widget-view+json": {
       "model_id": "",
       "version_major": 2,
       "version_minor": 0
      },
      "text/plain": [
       "PGD - Batches: 0it [00:00, ?it/s]"
      ]
     },
     "metadata": {},
     "output_type": "display_data"
    },
    {
     "data": {
      "application/vnd.jupyter.widget-view+json": {
       "model_id": "",
       "version_major": 2,
       "version_minor": 0
      },
      "text/plain": [
       "PGD - Batches: 0it [00:00, ?it/s]"
      ]
     },
     "metadata": {},
     "output_type": "display_data"
    },
    {
     "name": "stdout",
     "output_type": "stream",
     "text": [
      "Nat train acc : 0.998420000076294\n",
      "Nat test  acc : 0.9811999797821045\n",
      "Adv train acc : 0.39079999923706055\n",
      "Adv test  acc : 0.2054000049829483\n",
      "Wall time: 50.4 s\n"
     ]
    }
   ],
   "source": [
    "%%time\n",
    "D = 500\n",
    "res = run_experiment(\n",
    "    dim=D,\n",
    "    r1=1.0 * np.sqrt(D), r2=1.3 * np.sqrt(D),\n",
    "    model_layers=[\n",
    "        layers.Dense(1000, activation=\"relu\"),\n",
    "        layers.Dense(1000, activation=\"relu\"),\n",
    "        layers.Dense(2),\n",
    "    ],\n",
    "    train_epochs=30,\n",
    "    attack_norm=2,\n",
    "    attack_eps=0.1 * np.sqrt(D),\n",
    "    attack_eps_step=0.01 * np.sqrt(D),\n",
    "    attack_iters=20,\n",
    ")"
   ]
  },
  {
   "cell_type": "markdown",
   "id": "capable-arabic",
   "metadata": {},
   "source": [
    "---"
   ]
  },
  {
   "cell_type": "markdown",
   "id": "married-cause",
   "metadata": {},
   "source": [
    "Norm $O(1)$ + BatchNorm"
   ]
  },
  {
   "cell_type": "code",
   "execution_count": 7,
   "id": "prepared-saver",
   "metadata": {},
   "outputs": [
    {
     "name": "stdout",
     "output_type": "stream",
     "text": [
      "Epoch 1/5\n",
      "782/782 - 2s - loss: 0.0437 - accuracy: 0.9828 - val_loss: 0.0132 - val_accuracy: 0.9961\n",
      "Epoch 2/5\n",
      "782/782 - 2s - loss: 0.0236 - accuracy: 0.9924 - val_loss: 0.0159 - val_accuracy: 0.9944\n",
      "Epoch 3/5\n",
      "782/782 - 2s - loss: 0.0215 - accuracy: 0.9925 - val_loss: 0.0310 - val_accuracy: 0.9903\n",
      "Epoch 4/5\n",
      "782/782 - 2s - loss: 0.0175 - accuracy: 0.9941 - val_loss: 0.0186 - val_accuracy: 0.9937\n",
      "Epoch 5/5\n",
      "782/782 - 2s - loss: 0.0200 - accuracy: 0.9935 - val_loss: 0.0381 - val_accuracy: 0.9890\n"
     ]
    },
    {
     "data": {
      "application/vnd.jupyter.widget-view+json": {
       "model_id": "",
       "version_major": 2,
       "version_minor": 0
      },
      "text/plain": [
       "PGD - Batches: 0it [00:00, ?it/s]"
      ]
     },
     "metadata": {},
     "output_type": "display_data"
    },
    {
     "data": {
      "application/vnd.jupyter.widget-view+json": {
       "model_id": "",
       "version_major": 2,
       "version_minor": 0
      },
      "text/plain": [
       "PGD - Batches: 0it [00:00, ?it/s]"
      ]
     },
     "metadata": {},
     "output_type": "display_data"
    },
    {
     "name": "stdout",
     "output_type": "stream",
     "text": [
      "Nat train acc : 0.9932199716567993\n",
      "Nat test  acc : 0.9890000224113464\n",
      "Adv train acc : 0.49889999628067017\n",
      "Adv test  acc : 0.46399998664855957\n",
      "Wall time: 22.8 s\n"
     ]
    }
   ],
   "source": [
    "%%time\n",
    "D = 500\n",
    "res = run_experiment(\n",
    "    dim=D,\n",
    "    r1=1.0, r2=1.3,\n",
    "    model_layers=[\n",
    "        layers.Dense(1000, activation=\"relu\"),\n",
    "        layers.BatchNormalization(),\n",
    "        layers.Dense(1000, activation=\"relu\"),\n",
    "        layers.Dense(2),\n",
    "    ],\n",
    "    train_epochs=5,\n",
    "    attack_norm=2,\n",
    "    attack_eps=0.1,\n",
    "    attack_eps_step=0.01,\n",
    "    attack_iters=20,\n",
    ")"
   ]
  },
  {
   "cell_type": "markdown",
   "id": "intimate-interpretation",
   "metadata": {},
   "source": [
    "---"
   ]
  },
  {
   "cell_type": "markdown",
   "id": "exposed-merit",
   "metadata": {},
   "source": [
    "Norm $O(\\sqrt{D})$ + BatchNorm"
   ]
  },
  {
   "cell_type": "code",
   "execution_count": 8,
   "id": "amber-stone",
   "metadata": {},
   "outputs": [
    {
     "name": "stdout",
     "output_type": "stream",
     "text": [
      "Epoch 1/10\n",
      "782/782 - 2s - loss: 0.0928 - accuracy: 0.9674 - val_loss: 0.0645 - val_accuracy: 0.9786\n",
      "Epoch 2/10\n",
      "782/782 - 2s - loss: 0.0634 - accuracy: 0.9772 - val_loss: 0.0341 - val_accuracy: 0.9878\n",
      "Epoch 3/10\n",
      "782/782 - 2s - loss: 0.0513 - accuracy: 0.9820 - val_loss: 0.0470 - val_accuracy: 0.9838\n",
      "Epoch 4/10\n",
      "782/782 - 2s - loss: 0.0400 - accuracy: 0.9867 - val_loss: 0.0346 - val_accuracy: 0.9882\n",
      "Epoch 5/10\n",
      "782/782 - 2s - loss: 0.0423 - accuracy: 0.9855 - val_loss: 0.0317 - val_accuracy: 0.9892\n",
      "Epoch 6/10\n",
      "782/782 - 2s - loss: 0.0379 - accuracy: 0.9870 - val_loss: 0.0219 - val_accuracy: 0.9927\n",
      "Epoch 7/10\n",
      "782/782 - 2s - loss: 0.0298 - accuracy: 0.9899 - val_loss: 0.0318 - val_accuracy: 0.9901\n",
      "Epoch 8/10\n",
      "782/782 - 2s - loss: 0.0286 - accuracy: 0.9902 - val_loss: 0.0305 - val_accuracy: 0.9892\n",
      "Epoch 9/10\n",
      "782/782 - 2s - loss: 0.0262 - accuracy: 0.9911 - val_loss: 0.0366 - val_accuracy: 0.9878\n",
      "Epoch 10/10\n",
      "782/782 - 2s - loss: 0.0230 - accuracy: 0.9924 - val_loss: 0.0334 - val_accuracy: 0.9878\n"
     ]
    },
    {
     "data": {
      "application/vnd.jupyter.widget-view+json": {
       "model_id": "",
       "version_major": 2,
       "version_minor": 0
      },
      "text/plain": [
       "PGD - Batches: 0it [00:00, ?it/s]"
      ]
     },
     "metadata": {},
     "output_type": "display_data"
    },
    {
     "data": {
      "application/vnd.jupyter.widget-view+json": {
       "model_id": "",
       "version_major": 2,
       "version_minor": 0
      },
      "text/plain": [
       "PGD - Batches: 0it [00:00, ?it/s]"
      ]
     },
     "metadata": {},
     "output_type": "display_data"
    },
    {
     "name": "stdout",
     "output_type": "stream",
     "text": [
      "Nat train acc : 0.9958599805831909\n",
      "Nat test  acc : 0.9878000020980835\n",
      "Adv train acc : 0.578000009059906\n",
      "Adv test  acc : 0.48179998993873596\n",
      "Wall time: 32.1 s\n"
     ]
    }
   ],
   "source": [
    "%%time\n",
    "D = 500\n",
    "res = run_experiment(\n",
    "    dim=D,\n",
    "    r1=1.0 * np.sqrt(D), r2=1.3 * np.sqrt(D),\n",
    "    model_layers=[\n",
    "        layers.Dense(1000, activation=\"relu\"),\n",
    "        layers.BatchNormalization(),\n",
    "        layers.Dense(1000, activation=\"relu\"),\n",
    "        layers.Dense(2),\n",
    "    ],\n",
    "    train_epochs=10,\n",
    "    attack_norm=2,\n",
    "    attack_eps=0.1 * np.sqrt(D),\n",
    "    attack_eps_step=0.01 * np.sqrt(D),\n",
    "    attack_iters=20,\n",
    ")"
   ]
  },
  {
   "cell_type": "markdown",
   "id": "obvious-richardson",
   "metadata": {},
   "source": [
    "### Summary and conclusions\n",
    "\n",
    "Our perturbation epsilon is chosen such that the max-margin classifier should have perfect robust accuracy.\n",
    "However we see that our neural networks are far from robust.\n",
    "\n",
    "Interestingly, it seems our neural networks train much quicker\n",
    "when the data is of norm $O(1)$ compared to norm $O(\\sqrt{D})$.\n",
    "This difference can be mitigated with batchnorm.\n",
    "\n",
    "It is also interesting to note that batchnorm seems to improve robustness."
   ]
  }
 ],
 "metadata": {
  "kernelspec": {
   "display_name": "Python 3",
   "language": "python",
   "name": "python3"
  },
  "language_info": {
   "codemirror_mode": {
    "name": "ipython",
    "version": 3
   },
   "file_extension": ".py",
   "mimetype": "text/x-python",
   "name": "python",
   "nbconvert_exporter": "python",
   "pygments_lexer": "ipython3",
   "version": "3.8.5"
  }
 },
 "nbformat": 4,
 "nbformat_minor": 5
}
