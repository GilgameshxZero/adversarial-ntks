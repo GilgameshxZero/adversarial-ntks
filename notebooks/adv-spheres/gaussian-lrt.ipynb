{
 "cells": [
  {
   "cell_type": "code",
   "execution_count": 1,
   "id": "alternate-textbook",
   "metadata": {},
   "outputs": [],
   "source": [
    "import matplotlib.pyplot as plt\n",
    "import numpy as np\n",
    "import scipy.linalg\n",
    "from tqdm.notebook import tqdm\n",
    "\n",
    "import jax\n",
    "import jax.numpy as jnp"
   ]
  },
  {
   "cell_type": "code",
   "execution_count": 2,
   "id": "electric-accounting",
   "metadata": {},
   "outputs": [],
   "source": [
    "import sys\n",
    "sys.path.append(\"../..\")\n",
    "\n",
    "from adversarial_ntks import attacks"
   ]
  },
  {
   "cell_type": "code",
   "execution_count": 3,
   "id": "burning-blocking",
   "metadata": {},
   "outputs": [],
   "source": [
    "np.random.seed(42)"
   ]
  },
  {
   "cell_type": "markdown",
   "id": "patient-deviation",
   "metadata": {},
   "source": [
    "## Generating data\n",
    "\n",
    "We sample two Gaussians in $D$ dimensions with standard deviations $\\sigma_0$ and $\\sigma_1$.\n",
    "\n",
    "The radii of the two Gaussians are thus $R_i = \\sigma_i \\cdot \\sqrt{D}$."
   ]
  },
  {
   "cell_type": "code",
   "execution_count": 4,
   "id": "unknown-poverty",
   "metadata": {},
   "outputs": [],
   "source": [
    "def normalize(xs: np.ndarray, norm):\n",
    "    norm_xs = xs / np.linalg.norm(xs, axis=-1, ord=norm).reshape(-1, 1)\n",
    "    return norm_xs\n",
    "\n",
    "def gen_data(d, r0, r1, num_samples):\n",
    "    sigma0, sigma1 = r0 / np.sqrt(d), r1 / np.sqrt(d)\n",
    "    \n",
    "    xs0 = np.random.normal(size=(num_samples, d), scale=sigma0)\n",
    "    xs1 = np.random.normal(size=(num_samples, d), scale=sigma1)\n",
    "    \n",
    "    return xs0, xs1"
   ]
  },
  {
   "cell_type": "code",
   "execution_count": 5,
   "id": "returning-conversation",
   "metadata": {},
   "outputs": [
    {
     "data": {
      "image/png": "[encoded data removed]",
      "text/plain": [
       "<Figure size 432x288 with 1 Axes>"
      ]
     },
     "metadata": {
      "needs_background": "light"
     },
     "output_type": "display_data"
    }
   ],
   "source": [
    "# The standard experimental parameters for this notebook\n",
    "_D = 1000\n",
    "_R0, _R1 = 1.0, 1.3\n",
    "_SIGMA0, _SIGMA1 = _R0 / np.sqrt(_D), _R1 / np.sqrt(_D)\n",
    "_COV0, _COV1 = _SIGMA0 ** 2 * np.eye(_D), _SIGMA1 ** 2 * np.eye(_D)\n",
    "_NUM_SAMPLES = 10 ** 4\n",
    "_XS0, _XS1 = gen_data(d=_D, r0=_R0, r1=_R1, num_samples=_NUM_SAMPLES)\n",
    "# DO NOT MUTATE after this point\n",
    "\n",
    "plt.hist(np.linalg.norm(_XS0, ord=2, axis=-1), bins=30, label=\"xs0\");\n",
    "plt.hist(np.linalg.norm(_XS1, ord=2, axis=-1), bins=30, label=\"xs1\");\n",
    "plt.legend(bbox_to_anchor=(1, 1), loc='upper left', ncol=1);"
   ]
  },
  {
   "cell_type": "markdown",
   "id": "rocky-faith",
   "metadata": {},
   "source": [
    "## Learning the mean\n",
    "We use the sample mean $\\hat{\\mu} = \\frac{1}{n} \\sum_{i = 1}^n x_i$."
   ]
  },
  {
   "cell_type": "code",
   "execution_count": 6,
   "id": "guided-measure",
   "metadata": {},
   "outputs": [
    {
     "data": {
      "text/plain": [
       "(0.010063776935204275, 0.013203258364833798)"
      ]
     },
     "execution_count": 6,
     "metadata": {},
     "output_type": "execute_result"
    }
   ],
   "source": [
    "def est_mean(xs):\n",
    "    return xs.mean(axis=0)\n",
    "\n",
    "xs0, xs1 = gen_data(\n",
    "    d=1000, r0=1.0, r1=1.3, num_samples=10 ** 4\n",
    ")\n",
    "muh0, muh1 = est_mean(xs0), est_mean(xs1)\n",
    "np.linalg.norm(muh0), np.linalg.norm(muh1)"
   ]
  },
  {
   "cell_type": "markdown",
   "id": "chinese-lobby",
   "metadata": {},
   "source": [
    "In 1000 dimensions with $R_0 = 1$ and $R_1 = 1.3$ and 10k samples,\n",
    "our estimated means are off by ~1e-2, which is accurate enough for robust classification."
   ]
  },
  {
   "cell_type": "markdown",
   "id": "planned-liberal",
   "metadata": {},
   "source": [
    "## Learning covariance (assuming zero mean)\n",
    "We use the empirical covariance.\n",
    "$$\\hat{\\Sigma} = \\frac{1}{n} \\sum_{i=1}^n x_i x_i^\\top.$$"
   ]
  },
  {
   "cell_type": "code",
   "execution_count": 7,
   "id": "streaming-progress",
   "metadata": {},
   "outputs": [
    {
     "data": {
      "text/plain": [
       "((1000, 1000), (1000, 1000))"
      ]
     },
     "execution_count": 7,
     "metadata": {},
     "output_type": "execute_result"
    }
   ],
   "source": [
    "def est_cov(xs):\n",
    "    num_samples = xs.shape[0]\n",
    "    return (xs.T @ xs) / num_samples\n",
    "\n",
    "covh0, covh1 = est_cov(_XS0), est_cov(_XS1)\n",
    "covh0.shape, covh1.shape"
   ]
  },
  {
   "cell_type": "markdown",
   "id": "ethical-print",
   "metadata": {},
   "source": [
    "#### Learned covariances: singular values\n",
    "\n",
    "They singular values of $\\hat{\\Sigma}_i$ are concentrated around $\\sigma_i^2$,\n",
    "and take a Marchenko–Pastur distribution."
   ]
  },
  {
   "cell_type": "code",
   "execution_count": 8,
   "id": "meaning-edgar",
   "metadata": {},
   "outputs": [
    {
     "data": {
      "image/png": "[encoded data removed]",
      "text/plain": [
       "<Figure size 432x288 with 1 Axes>"
      ]
     },
     "metadata": {
      "needs_background": "light"
     },
     "output_type": "display_data"
    }
   ],
   "source": [
    "def hist_svs(hmat, **kwargs):\n",
    "    \"\"\"hmat a hermitian matrix\"\"\"\n",
    "    svs = np.linalg.svd(hmat, compute_uv=False, hermitian=True)\n",
    "    plt.hist(svs, **kwargs)\n",
    "    \n",
    "hist_svs(covh0, label=\"svs of covh0\", bins=30, density=True, alpha=0.6)\n",
    "hist_svs(covh1, label=\"svs of covh1\", bins=30, density=True, alpha=0.5)\n",
    "\n",
    "plt.axvline(_SIGMA0 ** 2, color=\"C0\", ls=\"--\");\n",
    "plt.axvline(_SIGMA1 ** 2, color=\"C1\", ls=\"--\");\n",
    "\n",
    "plt.legend(bbox_to_anchor=(1, 1), loc='upper left', ncol=1);"
   ]
  },
  {
   "cell_type": "markdown",
   "id": "generic-beijing",
   "metadata": {},
   "source": [
    "#### Learned covariances: singular values Mk. 2\n",
    "This time we first transform coordinates such that $\\hat{\\Sigma}_0$ is the identity matrix.\n",
    "We then plot the singular values of $\\hat{\\Sigma}_1$.\n",
    "\n",
    "In the infinite sample regime, the singular values of $\\hat{\\Sigma}_1$ with respect to $\\hat{\\Sigma}_0$\n",
    "should be concentrated around $(\\sigma_1 / \\sigma_0)^2$.\n",
    "\n",
    "We also to the reverse."
   ]
  },
  {
   "cell_type": "code",
   "execution_count": 9,
   "id": "pediatric-michigan",
   "metadata": {},
   "outputs": [
    {
     "data": {
      "text/plain": [
       "True"
      ]
     },
     "execution_count": 9,
     "metadata": {},
     "output_type": "execute_result"
    }
   ],
   "source": [
    "def normalize_wrt(target: np.ndarray, base: np.ndarray):\n",
    "    \"\"\"\n",
    "    target and base are square symmetric matrices.\n",
    "    This function transforms coordinates so that base is the identity,\n",
    "    then returns target in the transformed coordinates.\n",
    "    \"\"\"\n",
    "    isqrt_base = np.linalg.inv(scipy.linalg.sqrtm(base))\n",
    "    return isqrt_base @ target @ isqrt_base\n",
    "\n",
    "# Check normalize_wrt returns the identity when target=base\n",
    "np.allclose(\n",
    "    normalize_wrt(target=covh0, base=covh0),\n",
    "    np.eye(covh1.shape[0])\n",
    ")"
   ]
  },
  {
   "cell_type": "code",
   "execution_count": 10,
   "id": "settled-furniture",
   "metadata": {},
   "outputs": [
    {
     "data": {
      "image/png": "[encoded data removed]",
      "text/plain": [
       "<Figure size 864x216 with 2 Axes>"
      ]
     },
     "metadata": {
      "needs_background": "light"
     },
     "output_type": "display_data"
    }
   ],
   "source": [
    "plt.figure(figsize=(12,3))\n",
    "\n",
    "plt.subplot(1, 2, 1)\n",
    "hist_svs(normalize_wrt(target=covh1, base=covh0), bins=50, alpha=0.6)\n",
    "plt.axvline((_SIGMA1 / _SIGMA0) ** 2, color=\"C0\", ls=\"--\");\n",
    "plt.title(\"svs of covh1 w.r.t. covh0\");\n",
    "\n",
    "plt.subplot(1, 2, 2)\n",
    "hist_svs(normalize_wrt(target=covh0, base=covh1), bins=50, alpha=0.6)\n",
    "plt.axvline((_SIGMA0 / _SIGMA1) ** 2, color=\"C0\", ls=\"--\");\n",
    "plt.title(\"svs of covh0 w.r.t. covh1\");"
   ]
  },
  {
   "cell_type": "markdown",
   "id": "enabling-petroleum",
   "metadata": {},
   "source": [
    "# Performance of likelihood-ratio test\n",
    "This test assumes each class conditional distribution is\n",
    "$\\mathcal{N}(\\hat{\\mu}, \\hat{\\Sigma})$."
   ]
  },
  {
   "cell_type": "code",
   "execution_count": 35,
   "id": "going-alcohol",
   "metadata": {},
   "outputs": [],
   "source": [
    "@jax.jit\n",
    "def gaussian_log_likelihood(\n",
    "    xs: np.ndarray,\n",
    "    mu: np.ndarray,\n",
    "    cov: np.ndarray,\n",
    "):\n",
    "    \"\"\"\n",
    "    xs of shape (num_samples, dim)\n",
    "    cov of shape (dim, dim)\n",
    "    return shape: (num_samples, )\n",
    "    \"\"\"\n",
    "    icov = jnp.linalg.inv(cov)\n",
    "    return (\n",
    "        - 0.5 * jnp.linalg.slogdet(cov)[1]\n",
    "        - 0.5 * jnp.einsum(\"ij,jk,ki->i\", (xs - mu), icov, (xs - mu).T, optimize=True)\n",
    "    )\n",
    "\n",
    "@jax.jit\n",
    "def gaussian_ll_diffs(xs, mu0, cov0, mu1, cov1):\n",
    "    ll0 = gaussian_log_likelihood(xs, mu=mu0, cov=cov0)\n",
    "    ll1 = gaussian_log_likelihood(xs, mu=mu1, cov=cov1)\n",
    "    ll_diffs = ll1 - ll0\n",
    "    return ll_diffs\n",
    "\n",
    "def gaussian_lr_predict(xs, mu0, cov0, mu1, cov1):\n",
    "    \"\"\"\n",
    "    Likelihood ratio test classification\n",
    "    Returns preds, diffs\n",
    "    \"\"\"\n",
    "    diffs = gaussian_ll_diffs(xs, mu0, cov0, mu1, cov1)\n",
    "    return (diffs >= 0).astype(int)"
   ]
  },
  {
   "cell_type": "markdown",
   "id": "innovative-announcement",
   "metadata": {},
   "source": [
    "### Behavior of LRT vs. radius"
   ]
  },
  {
   "cell_type": "code",
   "execution_count": 36,
   "id": "encouraging-training",
   "metadata": {},
   "outputs": [],
   "source": [
    "def cls1_frac_by_rad(\n",
    "    classifier,\n",
    "    rads: np.ndarray,\n",
    "    dim: int,\n",
    "    num_samples_per_rad=256,\n",
    "):    \n",
    "    cls1_fracs = np.zeros_like(rads)\n",
    "    for idx, r in enumerate(tqdm(rads, leave=False)):\n",
    "        xs = r * normalize(\n",
    "            xs=np.random.normal(size=(num_samples_per_rad, dim)),\n",
    "            norm=2\n",
    "        )\n",
    "\n",
    "        preds = classifier(xs)\n",
    "        cls1_fracs[idx] = (preds == 1).mean()\n",
    "        \n",
    "    return cls1_fracs"
   ]
  },
  {
   "cell_type": "markdown",
   "id": "studied-angola",
   "metadata": {},
   "source": [
    "First the case where we know the true mean and covariance."
   ]
  },
  {
   "cell_type": "code",
   "execution_count": 37,
   "id": "metallic-colonial",
   "metadata": {},
   "outputs": [
    {
     "data": {
      "application/vnd.jupyter.widget-view+json": {
       "model_id": "",
       "version_major": 2,
       "version_minor": 0
      },
      "text/plain": [
       "  0%|          | 0/128 [00:00<?, ?it/s]"
      ]
     },
     "metadata": {},
     "output_type": "display_data"
    },
    {
     "data": {
      "application/vnd.jupyter.widget-view+json": {
       "model_id": "",
       "version_major": 2,
       "version_minor": 0
      },
      "text/plain": [
       "  0%|          | 0/128 [00:00<?, ?it/s]"
      ]
     },
     "metadata": {},
     "output_type": "display_data"
    },
    {
     "name": "stdout",
     "output_type": "stream",
     "text": [
      "CPU times: user 1min 29s, sys: 42.2 s, total: 2min 11s\n",
      "Wall time: 17.4 s\n"
     ]
    },
    {
     "data": {
      "text/plain": [
       "[<matplotlib.lines.Line2D at 0x7fe268a534f0>]"
      ]
     },
     "execution_count": 37,
     "metadata": {},
     "output_type": "execute_result"
    },
    {
     "data": {
      "image/png": "[encoded data removed]",
      "text/plain": [
       "<Figure size 864x216 with 2 Axes>"
      ]
     },
     "metadata": {
      "needs_background": "light"
     },
     "output_type": "display_data"
    }
   ],
   "source": [
    "%%time\n",
    "covh0, covh1 = est_cov(_XS0), est_cov(_XS1)\n",
    "muh0\n",
    "\n",
    "plt.figure(figsize=(12, 3))\n",
    "\n",
    "plt.subplot(1, 2, 1)\n",
    "rads = np.linspace(start=0, stop=2, num=128)\n",
    "cls1_fracs = cls1_frac_by_rad(\n",
    "    rads=rads, dim=_D,\n",
    "    classifier=lambda xs: gaussian_lr_predict(xs, mu0=0, cov0=_COV0, mu1=0, cov1=_COV1)\n",
    ")\n",
    "plt.plot(rads, cls1_fracs);\n",
    "\n",
    "plt.subplot(1, 2, 2)\n",
    "rads = np.linspace(start=1.0, stop=1.3, num=128)\n",
    "cls1_fracs = cls1_frac_by_rad(\n",
    "    rads=rads, dim=_D,\n",
    "    classifier=lambda xs: gaussian_lr_predict(xs, mu0=0, cov0=_COV0, mu1=0, cov1=_COV1)\n",
    ")\n",
    "plt.plot(rads, cls1_fracs);"
   ]
  },
  {
   "cell_type": "markdown",
   "id": "afraid-infection",
   "metadata": {},
   "source": [
    "We note that the optimal decision boundary for natural accuracy\n",
    "is slightly smaller than the optimal decision boundary for L2 robust accuracy."
   ]
  },
  {
   "cell_type": "code",
   "execution_count": 40,
   "id": "satisfactory-insurance",
   "metadata": {},
   "outputs": [
    {
     "data": {
      "application/vnd.jupyter.widget-view+json": {
       "model_id": "",
       "version_major": 2,
       "version_minor": 0
      },
      "text/plain": [
       "  0%|          | 0/128 [00:00<?, ?it/s]"
      ]
     },
     "metadata": {},
     "output_type": "display_data"
    },
    {
     "data": {
      "application/vnd.jupyter.widget-view+json": {
       "model_id": "",
       "version_major": 2,
       "version_minor": 0
      },
      "text/plain": [
       "  0%|          | 0/128 [00:00<?, ?it/s]"
      ]
     },
     "metadata": {},
     "output_type": "display_data"
    },
    {
     "name": "stdout",
     "output_type": "stream",
     "text": [
      "CPU times: user 1min 29s, sys: 42.6 s, total: 2min 12s\n",
      "Wall time: 16.8 s\n"
     ]
    },
    {
     "data": {
      "text/plain": [
       "[<matplotlib.lines.Line2D at 0x7fe29a5ca370>]"
      ]
     },
     "execution_count": 40,
     "metadata": {},
     "output_type": "execute_result"
    },
    {
     "data": {
      "image/png": "[encoded data removed]",
      "text/plain": [
       "<Figure size 864x216 with 2 Axes>"
      ]
     },
     "metadata": {
      "needs_background": "light"
     },
     "output_type": "display_data"
    }
   ],
   "source": [
    "%%time\n",
    "plt.figure(figsize=(12, 3))\n",
    "\n",
    "muh0, muh1 = est_mean(_XS0), est_mean(_XS1)\n",
    "covh0, covh1 = est_cov(_XS0), est_cov(_XS1)\n",
    "\n",
    "plt.subplot(1, 2, 1)\n",
    "rads = np.linspace(start=0, stop=2, num=128)\n",
    "cls1_fracs = cls1_frac_by_rad(\n",
    "    rads=rads, dim=_D,\n",
    "    classifier=lambda xs: gaussian_lr_predict(xs, mu0=muh0, cov0=covh0, mu1=muh0, cov1=covh1)\n",
    ")\n",
    "plt.plot(rads, cls1_fracs);\n",
    "\n",
    "plt.subplot(1, 2, 2)\n",
    "rads = np.linspace(start=0.9, stop=1.4, num=128)\n",
    "cls1_fracs = cls1_frac_by_rad(\n",
    "    rads=rads, dim=_D,\n",
    "    classifier=lambda xs: gaussian_lr_predict(xs, mu0=muh0, cov0=covh0, mu1=muh0, cov1=covh1)\n",
    ")\n",
    "plt.plot(rads, cls1_fracs);"
   ]
  },
  {
   "cell_type": "code",
   "execution_count": 10,
   "id": "worst-active",
   "metadata": {},
   "outputs": [],
   "source": [
    "X1_test, X2_test= np.random.normal(size=(1000, D), scale=R1)\n",
    "X2_test = np.random.normal(size=(1000, D), scale=R2)"
   ]
  },
  {
   "cell_type": "code",
   "execution_count": 11,
   "id": "vanilla-commons",
   "metadata": {},
   "outputs": [
    {
     "data": {
      "image/png": "[encoded data removed]",
      "text/plain": [
       "<Figure size 432x288 with 1 Axes>"
      ]
     },
     "metadata": {
      "needs_background": "light"
     },
     "output_type": "display_data"
    }
   ],
   "source": [
    "plt.hist(np.linalg.norm(X1_test, axis=1) / np.sqrt(D), bins=32);\n",
    "plt.hist(np.linalg.norm(X2_test, axis=1) / np.sqrt(D), bins=32, alpha=0.5);"
   ]
  },
  {
   "cell_type": "markdown",
   "id": "actual-burst",
   "metadata": {},
   "source": [
    "## Natural accuracy"
   ]
  },
  {
   "cell_type": "code",
   "execution_count": 12,
   "id": "czech-directory",
   "metadata": {},
   "outputs": [
    {
     "name": "stderr",
     "output_type": "stream",
     "text": [
      "WARNING:absl:No GPU/TPU found, falling back to CPU. (Set TF_CPP_MIN_LOG_LEVEL=0 and rerun for more info.)\n"
     ]
    },
    {
     "name": "stdout",
     "output_type": "stream",
     "text": [
      "preds1 acc: 1.0\n",
      "preds2 acc: 1.0\n"
     ]
    },
    {
     "data": {
      "image/png": "[encoded data removed]",
      "text/plain": [
       "<Figure size 432x288 with 1 Axes>"
      ]
     },
     "metadata": {
      "needs_background": "light"
     },
     "output_type": "display_data"
    }
   ],
   "source": [
    "preds1, diffs1 = gaussian_lr_classify(X1_test, cov1=covh1, cov2=covh2, mu1=muh1, mu2=muh2)\n",
    "preds2, diffs2 = gaussian_lr_classify(X2_test, cov1=covh1, cov2=covh2, mu1=muh1, mu2=muh2)\n",
    "\n",
    "print(f\"preds1 acc: {preds1.mean()}\")\n",
    "print(f\"preds2 acc: {1 - preds2.mean()}\")\n",
    "\n",
    "plt.hist(diffs1, bins=32);\n",
    "plt.hist(diffs2, bins=32, alpha=0.5);"
   ]
  },
  {
   "cell_type": "markdown",
   "id": "tutorial-biography",
   "metadata": {},
   "source": [
    "##### Known mean"
   ]
  },
  {
   "cell_type": "code",
   "execution_count": 13,
   "id": "specific-entrepreneur",
   "metadata": {},
   "outputs": [
    {
     "name": "stdout",
     "output_type": "stream",
     "text": [
      "preds1 acc: 1.0\n",
      "preds2 acc: 1.0\n"
     ]
    },
    {
     "data": {
      "image/png": "[encoded data removed]",
      "text/plain": [
       "<Figure size 432x288 with 1 Axes>"
      ]
     },
     "metadata": {
      "needs_background": "light"
     },
     "output_type": "display_data"
    }
   ],
   "source": [
    "preds1, diffs1 = gaussian_lr_classify(X1_test, cov1=covh1, cov2=covh2)\n",
    "preds2, diffs2 = gaussian_lr_classify(X2_test, cov1=covh1, cov2=covh2)\n",
    "\n",
    "print(f\"preds1 acc: {preds1.mean()}\")\n",
    "print(f\"preds2 acc: {1 - preds2.mean()}\")\n",
    "\n",
    "plt.hist(diffs1, bins=50);\n",
    "plt.hist(diffs2, bins=50, alpha=0.5);"
   ]
  },
  {
   "cell_type": "markdown",
   "id": "former-minutes",
   "metadata": {},
   "source": [
    "### Adversarial accuracy"
   ]
  },
  {
   "cell_type": "code",
   "execution_count": 14,
   "id": "stone-right",
   "metadata": {},
   "outputs": [
    {
     "name": "stdout",
     "output_type": "stream",
     "text": [
      "preds1 acc: 0.7360000014305115\n",
      "preds2 acc: 0.9710000157356262\n"
     ]
    },
    {
     "data": {
      "image/png": "[encoded data removed]",
      "text/plain": [
       "<Figure size 432x288 with 1 Axes>"
      ]
     },
     "metadata": {
      "needs_background": "light"
     },
     "output_type": "display_data"
    }
   ],
   "source": [
    "X1_test_norm = X1_test / np.linalg.norm(X1_test, axis=1).reshape(-1, 1)\n",
    "X2_test_norm = X2_test / np.linalg.norm(X2_test, axis=1).reshape(-1, 1)\n",
    "eps = 0.1 * np.sqrt(D)\n",
    "\n",
    "preds1, diffs1 = gaussian_lr_classify(X1_test + eps * X1_test_norm, cov1=covh1, cov2=covh2, mu1=muh1, mu2=muh2)\n",
    "preds2, diffs2 = gaussian_lr_classify(X2_test - eps * X2_test_norm, cov1=covh1, cov2=covh2, mu1=muh1, mu2=muh2)\n",
    "\n",
    "print(f\"preds1 acc: {preds1.mean()}\")\n",
    "print(f\"preds2 acc: {1 - preds2.mean()}\")\n",
    "\n",
    "plt.hist(diffs1, bins=50);\n",
    "plt.hist(diffs2, bins=50, alpha=0.5);"
   ]
  },
  {
   "cell_type": "markdown",
   "id": "leading-moment",
   "metadata": {},
   "source": [
    "##### Known mean"
   ]
  },
  {
   "cell_type": "code",
   "execution_count": 15,
   "id": "lucky-pizza",
   "metadata": {},
   "outputs": [
    {
     "name": "stdout",
     "output_type": "stream",
     "text": [
      "preds1 acc: 0.7350000143051147\n",
      "preds2 acc: 0.9700000286102295\n"
     ]
    },
    {
     "data": {
      "image/png": "[encoded data removed]",
      "text/plain": [
       "<Figure size 432x288 with 1 Axes>"
      ]
     },
     "metadata": {
      "needs_background": "light"
     },
     "output_type": "display_data"
    }
   ],
   "source": [
    "preds1, diffs1 = gaussian_lr_classify(X1_test + eps * X1_test_norm, cov1=covh1, cov2=covh2)\n",
    "preds2, diffs2 = gaussian_lr_classify(X2_test - eps * X2_test_norm, cov1=covh1, cov2=covh2)\n",
    "\n",
    "print(f\"preds1 acc: {preds1.mean()}\")\n",
    "print(f\"preds2 acc: {1 - preds2.mean()}\")\n",
    "\n",
    "plt.hist(diffs1, bins=50);\n",
    "plt.hist(diffs2, bins=50, alpha=0.5);"
   ]
  },
  {
   "cell_type": "markdown",
   "id": "available-union",
   "metadata": {},
   "source": [
    "##### Perfect classifier"
   ]
  },
  {
   "cell_type": "code",
   "execution_count": 17,
   "id": "directed-croatia",
   "metadata": {},
   "outputs": [
    {
     "name": "stdout",
     "output_type": "stream",
     "text": [
      "preds1 acc: 0.8489999771118164\n",
      "preds2 acc: 0.9490000009536743\n"
     ]
    },
    {
     "data": {
      "image/png": "[encoded data removed]",
      "text/plain": [
       "<Figure size 432x288 with 1 Axes>"
      ]
     },
     "metadata": {
      "needs_background": "light"
     },
     "output_type": "display_data"
    }
   ],
   "source": [
    "preds1, diffs1 = gaussian_lr_classify(X1_test + eps * X1_test_norm, cov1=(R1 ** 2) * np.eye(D), cov2=(R2 ** 2) * np.eye(D))\n",
    "preds2, diffs2 = gaussian_lr_classify(X2_test - eps * X2_test_norm, cov1=(R1 ** 2) * np.eye(D), cov2=(R2 ** 2) * np.eye(D))\n",
    "\n",
    "print(f\"preds1 acc: {preds1.mean()}\")\n",
    "print(f\"preds2 acc: {1 - preds2.mean()}\")\n",
    "\n",
    "plt.hist(diffs1, bins=50);\n",
    "plt.hist(diffs2, bins=50, alpha=0.5);"
   ]
  },
  {
   "cell_type": "markdown",
   "id": "noticed-topic",
   "metadata": {},
   "source": [
    "##### Perfect classifier"
   ]
  },
  {
   "cell_type": "code",
   "execution_count": null,
   "id": "piano-actress",
   "metadata": {},
   "outputs": [],
   "source": [
    "preds1, diffs1 = gaussian_lr_classify(X1_test + eps * X1_test_norm, cov1=(R1 ** 2) * np.eye(D), cov2=(R2 ** 2) * np.eye(D))\n",
    "preds2, diffs2 = gaussian_lr_classify(X2_test - eps * X2_test_norm, cov1=(R1 ** 2) * np.eye(D), cov2=(R2 ** 2) * np.eye(D))\n",
    "\n",
    "print(f\"preds1 acc: {preds1.mean()}\")\n",
    "print(f\"preds2 acc: {1 - preds2.mean()}\")\n",
    "\n",
    "plt.hist(diffs1, bins=50);\n",
    "plt.hist(diffs2, bins=50, alpha=0.5);"
   ]
  },
  {
   "cell_type": "markdown",
   "id": "exceptional-compensation",
   "metadata": {},
   "source": [
    "##### PGD"
   ]
  },
  {
   "cell_type": "code",
   "execution_count": 19,
   "id": "continent-transmission",
   "metadata": {},
   "outputs": [],
   "source": [
    "def tot_gaussian_ll_diff(X, cov1, cov2, mu1, mu2):\n",
    "    return gaussian_ll_diffs(X, cov1, cov2, mu1, mu2).sum()\n",
    "\n",
    "grad_tot_gaussian_ll_diff = jax.jit(jax.grad(tot_gaussian_ll_diff))"
   ]
  },
  {
   "cell_type": "code",
   "execution_count": 23,
   "id": "modern-translation",
   "metadata": {},
   "outputs": [
    {
     "name": "stdout",
     "output_type": "stream",
     "text": [
      "CPU times: user 7.08 s, sys: 4.86 s, total: 11.9 s\n",
      "Wall time: 1.51 s\n"
     ]
    }
   ],
   "source": [
    "%%time\n",
    "\n",
    "eps = 0.1 * np.sqrt(D)\n",
    "\n",
    "X1_test_adv = attacks.pgd(\n",
    "    X=X1_test,\n",
    "    Y=np.ones(X1_test.shape[0]),\n",
    "    grad_func=lambda X: grad_tot_gaussian_ll_diff(X, covh1, covh2, muh1, muh2),\n",
    "    eps=eps,\n",
    "    eps_norm=2,\n",
    "    num_steps=20,\n",
    "    step_size=0.1 * np.sqrt(D) / 10,\n",
    "    step_norm=2,\n",
    "    pixel_clip=False\n",
    ")\n",
    "\n",
    "X2_test_adv = attacks.pgd(\n",
    "    X=X2_test,\n",
    "    Y=np.zeros(X1_test.shape[0]),\n",
    "    grad_func=lambda X: grad_tot_gaussian_ll_diff(X, covh1, covh2, muh1, muh2),\n",
    "    eps=eps,\n",
    "    eps_norm=2,\n",
    "    num_steps=20,\n",
    "    step_size=0.1 * np.sqrt(D) / 10,\n",
    "    step_norm=2,\n",
    "    pixel_clip=False\n",
    ")"
   ]
  },
  {
   "cell_type": "code",
   "execution_count": 24,
   "id": "executed-venezuela",
   "metadata": {},
   "outputs": [
    {
     "name": "stdout",
     "output_type": "stream",
     "text": [
      "preds1 adv acc: 0.6850000023841858\n",
      "preds2 adv acc: 0.953000009059906\n"
     ]
    },
    {
     "data": {
      "image/png": "[encoded data removed]",
      "text/plain": [
       "<Figure size 432x288 with 1 Axes>"
      ]
     },
     "metadata": {
      "needs_background": "light"
     },
     "output_type": "display_data"
    }
   ],
   "source": [
    "preds1, diffs1 = gaussian_lr_classify(X1_test_adv, cov1=covh1, cov2=covh2, mu1=muh1, mu2=muh2)\n",
    "preds2, diffs2 = gaussian_lr_classify(X2_test_adv, cov1=covh1, cov2=covh2, mu1=muh1, mu2=muh2)\n",
    "\n",
    "print(f\"preds1 adv acc: {preds1.mean()}\")\n",
    "print(f\"preds2 adv acc: {1 - preds2.mean()}\")\n",
    "\n",
    "plt.hist(diffs1, bins=50);\n",
    "plt.hist(diffs2, bins=50, alpha=0.5);"
   ]
  }
 ],
 "metadata": {
  "kernelspec": {
   "display_name": "Python 3",
   "language": "python",
   "name": "python3"
  },
  "language_info": {
   "codemirror_mode": {
    "name": "ipython",
    "version": 3
   },
   "file_extension": ".py",
   "mimetype": "text/x-python",
   "name": "python",
   "nbconvert_exporter": "python",
   "pygments_lexer": "ipython3",
   "version": "3.8.5"
  }
 },
 "nbformat": 4,
 "nbformat_minor": 5
}
