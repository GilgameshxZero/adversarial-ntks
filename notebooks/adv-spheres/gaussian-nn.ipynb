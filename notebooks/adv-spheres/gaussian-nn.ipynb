{
 "cells": [
  {
   "cell_type": "markdown",
   "id": "ee502dc2",
   "metadata": {},
   "source": [
    "This notebook tries to extend the results from the adversarial spheres paper: https://arxiv.org/pdf/1801.02774.pdf\n",
    "\n",
    "In particular, instead of generating from spheres, we generate from Gaussians\n",
    "(with the hope that the high dimensionality makes them effectively spheres).\n",
    "\n",
    "This is an iteration on top of gaussian-v1.ipynb.\n",
    "Unlike the first notebook,\n",
    "we focus on the norm $O(1)$ regime in this notebook,\n",
    "since this is where the vanilla NN performs the best.\n",
    "The plan is to also study the NTK of this vanilla NN in the future.\n",
    "\n",
    "Greg Yang's framework can also compute NTK even with batchnorm?\n",
    "\n",
    "We also provide visualizations of what the network is doing at different radii."
   ]
  },
  {
   "cell_type": "markdown",
   "id": "532c7e91",
   "metadata": {},
   "source": [
    "### Import dependencies"
   ]
  },
  {
   "cell_type": "code",
   "execution_count": 1,
   "id": "8ac45880",
   "metadata": {},
   "outputs": [
    {
     "name": "stdout",
     "output_type": "stream",
     "text": [
      "INFO:tensorflow:Enabling eager execution\n",
      "INFO:tensorflow:Enabling v2 tensorshape\n",
      "INFO:tensorflow:Enabling resource variables\n",
      "INFO:tensorflow:Enabling tensor equality\n",
      "INFO:tensorflow:Enabling control flow v2\n"
     ]
    },
    {
     "data": {
      "text/plain": [
       "[PhysicalDevice(name='/physical_device:CPU:0', device_type='CPU'),\n",
       " PhysicalDevice(name='/physical_device:GPU:0', device_type='GPU')]"
      ]
     },
     "execution_count": 1,
     "metadata": {},
     "output_type": "execute_result"
    }
   ],
   "source": [
    "import matplotlib.pyplot as plt\n",
    "import numpy as np\n",
    "from tqdm.notebook import tqdm\n",
    "\n",
    "import tensorflow as tf\n",
    "from tensorflow import keras\n",
    "from tensorflow.keras import layers\n",
    "\n",
    "from art.data_generators import TensorFlowV2DataGenerator\n",
    "from art.estimators.classification import TensorFlowV2Classifier\n",
    "from art.attacks.evasion import ProjectedGradientDescent\n",
    "from art.defences.trainer import AdversarialTrainer\n",
    "\n",
    "tf.config.list_physical_devices(device_type=None)"
   ]
  },
  {
   "cell_type": "markdown",
   "id": "b04f9162",
   "metadata": {},
   "source": [
    "# Data generation\n",
    "\n",
    "Our data in labeled by $Y \\in \\{0, 1\\}$,\n",
    "and $X | Y \\sim \\mathcal{N}(0, \\sigma_Y \\cdot I_d)$."
   ]
  },
  {
   "cell_type": "code",
   "execution_count": 2,
   "id": "70dfb2b4",
   "metadata": {},
   "outputs": [
    {
     "data": {
      "text/plain": [
       "array([[ 0.81466013,  0.34927357],\n",
       "       [ 0.32084145, -0.90376197],\n",
       "       [ 0.12104539, -0.17028484],\n",
       "       [ 0.25464725, -0.06052978]])"
      ]
     },
     "execution_count": 2,
     "metadata": {},
     "output_type": "execute_result"
    }
   ],
   "source": [
    "def generate_normal_data(dim, s0, s1, num_samples):\n",
    "    assert num_samples % 2 == 0\n",
    "    assert s0 <= s1\n",
    "    \n",
    "    ys = np.concatenate([\n",
    "        np.zeros(shape=num_samples // 2, dtype=np.int64),\n",
    "        np.ones(shape=num_samples // 2, dtype=np.int64)\n",
    "    ])\n",
    "    \n",
    "    xs = np.concatenate([\n",
    "        np.random.normal(scale=s0, size=(num_samples // 2, dim)),\n",
    "        np.random.normal(scale=s1, size=(num_samples // 2, dim))\n",
    "    ])\n",
    "    \n",
    "    perm = np.random.permutation(num_samples)\n",
    "    xs = xs[perm]\n",
    "    ys = ys[perm]\n",
    "    \n",
    "    return xs, ys\n",
    "\n",
    "def normalize(xs: np.ndarray, norm):\n",
    "    norm_xs = xs / np.linalg.norm(xs, axis=-1, ord=norm).reshape(-1, 1)\n",
    "    return norm_xs\n",
    "\n",
    "def radial_attack(\n",
    "    xs: np.ndarray, ys: np.ndarray,\n",
    "    attack_norm, attack_eps,\n",
    "):\n",
    "    norm_xs = normalize(xs, norm=attack_norm)\n",
    "    \n",
    "    adv_xs = xs.copy()\n",
    "    adv_xs[ys == 0] += attack_eps * norm_xs[ys == 0]\n",
    "    adv_xs[ys == 1] -= attack_eps * norm_xs[ys == 1]\n",
    "    \n",
    "    return adv_xs\n",
    "\n",
    "xs, ys = generate_normal_data(dim=2, s0=0.3, s1=0.7, num_samples=4)\n",
    "radial_attack(xs=xs, ys=ys, attack_norm=2, attack_eps=0.1)"
   ]
  },
  {
   "cell_type": "markdown",
   "id": "b3a309f9",
   "metadata": {},
   "source": [
    "# Theoretically optimal classifier"
   ]
  },
  {
   "cell_type": "code",
   "execution_count": 3,
   "id": "33066840",
   "metadata": {},
   "outputs": [
    {
     "data": {
      "text/plain": [
       "(0.9864, 0.9564)"
      ]
     },
     "execution_count": 3,
     "metadata": {},
     "output_type": "execute_result"
    },
    {
     "data": {
      "image/png": "[encoded data removed]",
      "text/plain": [
       "<Figure size 432x288 with 1 Axes>"
      ]
     },
     "metadata": {
      "needs_background": "light"
     },
     "output_type": "display_data"
    }
   ],
   "source": [
    "def opt_classifier(xs, thresh=1.15):\n",
    "    return (np.linalg.norm(xs, ord=2, axis=-1) >= thresh).astype(int)\n",
    "\n",
    "xs, ys = generate_normal_data(dim=1000, s0=1.0 / np.sqrt(1000), s1=1.3 / np.sqrt(1000), num_samples=10 ** 4)\n",
    "plt.hist(np.linalg.norm(xs, ord=2, axis=-1), bins=50);\n",
    "\n",
    "xs_adv_rad = radial_attack(xs=xs, ys=ys, attack_norm=2, attack_eps=0.1)\n",
    "plt.hist(np.linalg.norm(xs_adv_rad, ord=2, axis=-1), bins=50, alpha=0.5);\n",
    "\n",
    "(opt_classifier(xs_adv_rad[ys == 0]) == 0).mean(), (opt_classifier(xs_adv_rad[ys == 1]) == 1).mean()"
   ]
  },
  {
   "cell_type": "markdown",
   "id": "a3d9b948",
   "metadata": {},
   "source": [
    "# One-hidden layer ReLU-NN can achieve high nat. acc.\n",
    "Our hidden network $f: \\mathbb{R}^d \\to \\{0, 1\\}$ behaves as\n",
    "$$\n",
    "f(x) = \\mathbb{1}\\left( \\frac{1^\\top (x)^+ - 1^\\top (-x)^+}{d} \\geq r \\times \\sqrt{\\frac{2}{\\pi}} \\right)\n",
    "     = \\mathbb{1}\\left( \\frac{1^\\top |x| }{d} \\geq r \\times \\sqrt{\\frac{2}{\\pi}} \\right),\n",
    "$$\n",
    "where to maximize natural accuracy we want $r = \\frac{\\sigma_0 + \\sigma_1}{2}$.\n",
    "\n",
    "Why does the threshold take that value?\n",
    "\n",
    "Well if $X \\sim \\mathcal{N}(0, \\sigma^2)$ then as $d \\to \\infty$ it holds that\n",
    "\n",
    "$$\n",
    "\\frac{1^\\top |X| }{d} \\overset{d}{\\longrightarrow}\n",
    "\\mathcal{N}\\left( \\sigma \\sqrt{\\frac{2}{\\pi}}, \\frac{\\sigma^2}{d} \\left(1 - \\frac{2}{\\pi}\\right) \\right).\n",
    "$$\n",
    "\n",
    "See https://en.wikipedia.org/wiki/Folded_normal_distribution for details."
   ]
  },
  {
   "cell_type": "code",
   "execution_count": 4,
   "id": "5675fa01",
   "metadata": {},
   "outputs": [
    {
     "data": {
      "image/png": "[encoded data removed]",
      "text/plain": [
       "<Figure size 432x288 with 1 Axes>"
      ]
     },
     "metadata": {
      "needs_background": "light"
     },
     "output_type": "display_data"
    }
   ],
   "source": [
    "xs, ys = generate_normal_data(dim=1000, s0=1.0, s1=1.3, num_samples=10 ** 4)\n",
    "plt.hist(np.abs(xs[ys == 0]).mean(axis=-1), bins=100, alpha=0.6, label=\"cls0\");\n",
    "plt.hist(np.abs(xs[ys == 1]).mean(axis=-1), bins=100, alpha=0.6, label=\"cls1\");\n",
    "\n",
    "plt.axvline(np.sqrt(2 / np.pi), color=\"C0\", ls=\"--\");\n",
    "plt.axvline(1.3 * np.sqrt(2 / np.pi), color=\"C1\", ls=\"--\");\n",
    "plt.legend(bbox_to_anchor=(1, 1), loc='upper left', ncol=1);"
   ]
  },
  {
   "cell_type": "code",
   "execution_count": 5,
   "id": "584d4a40",
   "metadata": {},
   "outputs": [
    {
     "data": {
      "text/plain": [
       "(1.0, 1.0)"
      ]
     },
     "execution_count": 5,
     "metadata": {},
     "output_type": "execute_result"
    }
   ],
   "source": [
    "def simple_nn_classifier(xs, thresh=1.15 * np.sqrt(2 / np.pi)):\n",
    "    return (\n",
    "        np.abs(xs).mean(axis=-1) >= thresh\n",
    "    ).astype(int)\n",
    "\n",
    "(simple_nn_classifier(xs[ys == 0]) == 0).mean(), (simple_nn_classifier(xs[ys == 1]) == 1).mean()"
   ]
  },
  {
   "cell_type": "markdown",
   "id": "aa4a8758",
   "metadata": {},
   "source": [
    "### Robustness of simple classifier\n",
    "This simple classifier has okay robustness as well.\n",
    "\n",
    "Say we had a $\\ell_2$ perturbation budget of $\\epsilon = O(\\sigma\\sqrt{d})$\n",
    "(this is size of adversarial in practice).\n",
    "To maximize the change to $f$ (WLOG say from class 0 to class 1),\n",
    "we would want to make the pertubation $\\frac{\\epsilon}{\\sqrt{d}} 1_d$.\n",
    "\n",
    "This perturbation would cause $\\frac{1^\\top |x| }{d}$ to change by\n",
    "$\\epsilon / \\sqrt{d} = O(\\sigma)$.\n",
    "Asymptotically, this is the best level of robustness we could hope for.\n",
    "\n",
    "What follows are some empirical results."
   ]
  },
  {
   "cell_type": "code",
   "execution_count": 6,
   "id": "f3c04651",
   "metadata": {},
   "outputs": [
    {
     "data": {
      "text/plain": [
       "(0.9794, 0.9596)"
      ]
     },
     "execution_count": 6,
     "metadata": {},
     "output_type": "execute_result"
    }
   ],
   "source": [
    "xs_adv_rad = radial_attack(xs=xs, ys=ys, attack_norm=2, attack_eps=0.1 * np.sqrt(1000))\n",
    "(simple_nn_classifier(xs_adv_rad[ys == 0]) == 0).mean(), (simple_nn_classifier(xs_adv_rad[ys == 1]) == 1).mean()"
   ]
  },
  {
   "cell_type": "code",
   "execution_count": 7,
   "id": "6b62151c",
   "metadata": {},
   "outputs": [
    {
     "data": {
      "text/plain": [
       "(0.8562, 0.8616)"
      ]
     },
     "execution_count": 7,
     "metadata": {},
     "output_type": "execute_result"
    }
   ],
   "source": [
    "def simple_classifier_attack(xs: np.ndarray, ys: np.ndarray, attack_eps: float):\n",
    "    d = xs.shape[-1]\n",
    "    xs_adv = xs.copy()\n",
    "    \n",
    "    xs_adv[ys == 0] += attack_eps / np.sqrt(d) * np.sign(xs_adv[ys == 0])\n",
    "    xs_adv[ys == 1] -= attack_eps / np.sqrt(d) * np.sign(xs_adv[ys == 1])\n",
    "    \n",
    "    return xs_adv\n",
    "    \n",
    "xs_adv_simpl = simple_classifier_attack(xs=xs, ys=ys, attack_eps=0.1 * np.sqrt(1000))\n",
    "(simple_nn_classifier(xs_adv_simpl[ys == 0]) == 0).mean(), (simple_nn_classifier(xs_adv_simpl[ys == 1]) == 1).mean()"
   ]
  },
  {
   "cell_type": "markdown",
   "id": "3bb72de3",
   "metadata": {},
   "source": [
    "To improve this simple ReLU-NN classifier,\n",
    "instead of using the absolute value function we could compose more ReLUs to approximate the $x^2$ function.\n",
    "This could still be done using only 1 hidden-layer."
   ]
  },
  {
   "cell_type": "markdown",
   "id": "b5a730a2",
   "metadata": {},
   "source": [
    "# Experiments with larger NNs"
   ]
  },
  {
   "cell_type": "markdown",
   "id": "4cd476b4",
   "metadata": {},
   "source": [
    "### Experiment utility code"
   ]
  },
  {
   "cell_type": "code",
   "execution_count": 8,
   "id": "5744f78c",
   "metadata": {},
   "outputs": [
    {
     "data": {
      "text/plain": [
       "'(1.0000, 2.0000)'"
      ]
     },
     "execution_count": 8,
     "metadata": {},
     "output_type": "execute_result"
    }
   ],
   "source": [
    "def eval_model(\n",
    "    model: tf.keras.Model,\n",
    "    xs: np.ndarray,\n",
    "    ys: np.ndarray,\n",
    "    verbose=0,\n",
    "):\n",
    "    \"\"\"Returns accuracies per class\"\"\"\n",
    "    _, acc0 = model.evaluate(xs[ys == 0], ys[ys == 0], verbose=verbose)\n",
    "    _, acc1 = model.evaluate(xs[ys == 1], ys[ys == 1], verbose=verbose)\n",
    "    return acc0, acc1\n",
    "\n",
    "def fmt_accs(accs):\n",
    "    return \"(\" + \", \".join(f\"{a:.4f}\" for a in accs) + \")\"\n",
    "\n",
    "fmt_accs([1,2])"
   ]
  },
  {
   "cell_type": "code",
   "execution_count": 9,
   "id": "e01aa882",
   "metadata": {},
   "outputs": [],
   "source": [
    "def run_experiment_v2(\n",
    "    dim, s0, s1,\n",
    "    num_train,\n",
    "    model_layers,\n",
    "    train_epochs,\n",
    "    attack_norm,\n",
    "    attack_eps,\n",
    "    attack_eps_step,\n",
    "    attack_iters,\n",
    "    train_batch_size=64,\n",
    "    learning_rate=3e-4,\n",
    "    attack_batch_size=256,\n",
    "    num_test=4096,\n",
    "    seed=42,\n",
    "    adv_train=False,\n",
    "    adv_train_log_interval=2, # measured in epochs\n",
    "):\n",
    "    \"\"\"\n",
    "    Default values for num_train and num_test are size of CIFAR10 dataset.\n",
    "    \n",
    "    Keras code derived from https://keras.io/examples/vision/mnist_convnet/.\n",
    "    \n",
    "    ART code derived from https://github.com/Trusted-AI/adversarial-robustness-toolbox/blob/main/notebooks/adversarial_retraining.ipynb\n",
    "    and https://github.com/Trusted-AI/adversarial-robustness-toolbox/issues/238.\n",
    "    \"\"\"\n",
    "    np.random.seed(seed)\n",
    "    tf.random.set_seed(seed)\n",
    "    \n",
    "    x_train, y_train = generate_normal_data(\n",
    "        dim=dim, s0=s0, s1=s1,\n",
    "        num_samples=num_train,\n",
    "    )\n",
    "\n",
    "    x_test, y_test = generate_normal_data(\n",
    "        dim=dim, s0=s0, s1=s1,\n",
    "        num_samples=num_test,\n",
    "    )\n",
    "    \n",
    "    model = keras.Sequential(\n",
    "        [keras.layers.InputLayer(input_shape=x_train[0].shape)]\n",
    "        + model_layers\n",
    "    )\n",
    "    model.compile(\n",
    "        loss=keras.losses.SparseCategoricalCrossentropy(from_logits=True),\n",
    "        optimizer=keras.optimizers.Adam(learning_rate=learning_rate),\n",
    "        metrics=[\"accuracy\"]\n",
    "    )\n",
    "    \n",
    "    # Wrapper around tf.keras.Model.train_step\n",
    "    # Used for compatibility with art.estimators.classification.TensorFlowV2Classifier\n",
    "    _sample_count = 0\n",
    "    art_pgd_attack = None # Forward declaration. Hacky...\n",
    "    def train_step(model, images, labels):\n",
    "        nonlocal _sample_count\n",
    "        nonlocal art_pgd_attack\n",
    "        \n",
    "        out = model.train_step((images, labels))\n",
    "        \n",
    "        old_sample_count = _sample_count\n",
    "        _sample_count += images.shape[0]\n",
    "        \n",
    "        old_epoch = old_sample_count // num_train\n",
    "        cur_epoch = _sample_count // num_train\n",
    "        \n",
    "        if old_epoch < cur_epoch:\n",
    "            if old_epoch % adv_train_log_interval == 0:\n",
    "                x_val = art_pgd_attack.generate(x_test, y=y_test)\n",
    "                val_accs = eval_model(model, x_val, y_test)\n",
    "                \n",
    "                loss = float(out[\"loss\"])\n",
    "                acc = float(out[\"accuracy\"])\n",
    "                print(f\"Finished epoch {old_epoch}; acc={acc:.4f}; val_accs={fmt_accs(val_accs)}; loss={loss}\")\n",
    "                \n",
    "            model.reset_metrics()\n",
    "    \n",
    "    art_model = TensorFlowV2Classifier(\n",
    "        model=model,\n",
    "        input_shape=x_test[0].shape,\n",
    "        nb_classes=2,\n",
    "        clip_values=None, #[-x_test.max(), x_test.max()],\n",
    "        loss_object=model.loss,\n",
    "        train_step=train_step,\n",
    "    )\n",
    "    art_pgd_attack = ProjectedGradientDescent(\n",
    "        art_model,\n",
    "        norm=attack_norm,\n",
    "        eps=attack_eps,\n",
    "        eps_step=attack_eps_step,\n",
    "        max_iter=attack_iters,\n",
    "        batch_size=attack_batch_size,\n",
    "    )\n",
    "    \n",
    "    try: # Catch keyboard interrupt so we can exit training early\n",
    "        if adv_train:\n",
    "            adv_trainer = AdversarialTrainer(art_model, attacks=art_pgd_attack, ratio=1.0)\n",
    "            adv_trainer.fit(x=x_train, y=y_train, batch_size=train_batch_size, nb_epochs=train_epochs)\n",
    "        else:\n",
    "            model.fit(\n",
    "                x_train,\n",
    "                y_train,\n",
    "                batch_size=train_batch_size,\n",
    "                epochs=train_epochs,\n",
    "                validation_data=(x_test, y_test),\n",
    "                verbose=2,\n",
    "            )\n",
    "    except KeyboardInterrupt:\n",
    "        pass\n",
    "\n",
    "    model.trainable = False\n",
    "    \n",
    "    x_train_adv_pgd = art_pgd_attack.generate(x_train[:num_test], y=y_train[:num_test])    \n",
    "    x_test_adv_pgd = art_pgd_attack.generate(x_test, y=y_test)\n",
    "    \n",
    "    x_train_adv_rad = radial_attack(xs=x_train[:num_test], ys=y_train[:num_test],\n",
    "                                    attack_norm=attack_norm, attack_eps=attack_eps)\n",
    "    x_test_adv_rad = radial_attack(xs=x_test, ys=y_test,\n",
    "                                   attack_norm=attack_norm, attack_eps=attack_eps)\n",
    "    \n",
    "    nat_train_accs = eval_model(model, x_train, y_train)\n",
    "    nat_test_accs = eval_model(model, x_test, y_test)\n",
    "    adv_pgd_train_accs = eval_model(model, x_train_adv_pgd, y_train[:num_test])\n",
    "    adv_pgd_test_accs = eval_model(model, x_test_adv_pgd, y_test)\n",
    "    adv_rad_train_accs = eval_model(model, x_train_adv_rad, y_train[:num_test])\n",
    "    adv_rad_test_accs = eval_model(model, x_test_adv_rad, y_test)\n",
    "    \n",
    "    print(\"Nat train accs     :\", fmt_accs(nat_train_accs))\n",
    "    print(\"Nat test  accs     :\", fmt_accs(nat_test_accs))\n",
    "    print(\"Adv-pgd train accs :\", fmt_accs(adv_pgd_train_accs))\n",
    "    print(\"Adv-pgd test  accs :\", fmt_accs(adv_pgd_test_accs))\n",
    "    print(\"Adv-rad train accs :\", fmt_accs(adv_rad_train_accs))\n",
    "    print(\"Adv-rad test  accs :\", fmt_accs(adv_rad_test_accs))\n",
    "    \n",
    "    return dict(\n",
    "        model=model,\n",
    "        train_data=(x_train, y_train),\n",
    "        test_data=(x_test, y_test),\n",
    "        x_train_adv_pgd=x_train_adv_pgd,\n",
    "        x_test_adv_pgd=x_test_adv_pgd,\n",
    "        x_train_adv_rad=x_train_adv_rad,\n",
    "        x_test_adv_rad=x_test_adv_rad,\n",
    "    )"
   ]
  },
  {
   "cell_type": "code",
   "execution_count": 10,
   "id": "2175993b",
   "metadata": {},
   "outputs": [],
   "source": [
    "def cls1_frac_by_rad(\n",
    "    model: tf.keras.Model,\n",
    "    rads: np.ndarray,\n",
    "    num_samples_per_rad=256,\n",
    "    batch_size=64,\n",
    "):\n",
    "    dim = model.input_shape[-1]\n",
    "    \n",
    "    cls1_fracs = np.zeros_like(rads)\n",
    "    for idx, r in enumerate(tqdm(rads, leave=False)):\n",
    "        xs = r * normalize(\n",
    "            xs=np.random.normal(size=(num_samples_per_rad, dim)),\n",
    "            norm=2\n",
    "        )\n",
    "\n",
    "        pred_probs = model.predict(xs, batch_size=batch_size)\n",
    "        preds = np.argmax(pred_probs, axis=-1)\n",
    "        \n",
    "        cls1_fracs[idx] = (preds == 1).mean()\n",
    "        \n",
    "    return cls1_fracs"
   ]
  },
  {
   "cell_type": "markdown",
   "id": "36258f19",
   "metadata": {},
   "source": [
    "## Begin experiments"
   ]
  },
  {
   "cell_type": "markdown",
   "id": "a2336046",
   "metadata": {},
   "source": [
    "Norm $O(1)$, natural training, dim=1000, depth=2, width=1000"
   ]
  },
  {
   "cell_type": "code",
   "execution_count": 11,
   "id": "2748a5fe",
   "metadata": {
    "tags": []
   },
   "outputs": [
    {
     "name": "stdout",
     "output_type": "stream",
     "text": [
      "Epoch 1/10\n",
      "79/79 - 2s - loss: 0.6423 - accuracy: 0.6062 - val_loss: 0.5435 - val_accuracy: 0.7595\n",
      "Epoch 2/10\n",
      "79/79 - 1s - loss: 0.2798 - accuracy: 0.9433 - val_loss: 0.2042 - val_accuracy: 0.9551\n",
      "Epoch 3/10\n",
      "79/79 - 1s - loss: 0.0310 - accuracy: 0.9998 - val_loss: 0.1085 - val_accuracy: 0.9780\n",
      "Epoch 4/10\n",
      "79/79 - 1s - loss: 0.0064 - accuracy: 1.0000 - val_loss: 0.0959 - val_accuracy: 0.9766\n",
      "Epoch 5/10\n",
      "79/79 - 1s - loss: 0.0031 - accuracy: 1.0000 - val_loss: 0.0881 - val_accuracy: 0.9753\n",
      "Epoch 6/10\n",
      "79/79 - 1s - loss: 0.0019 - accuracy: 1.0000 - val_loss: 0.0853 - val_accuracy: 0.9751\n",
      "Epoch 7/10\n",
      "79/79 - 1s - loss: 0.0012 - accuracy: 1.0000 - val_loss: 0.0804 - val_accuracy: 0.9753\n",
      "Epoch 8/10\n",
      "79/79 - 1s - loss: 8.8883e-04 - accuracy: 1.0000 - val_loss: 0.0779 - val_accuracy: 0.9753\n",
      "Epoch 9/10\n",
      "79/79 - 1s - loss: 6.6103e-04 - accuracy: 1.0000 - val_loss: 0.0759 - val_accuracy: 0.9753\n",
      "Epoch 10/10\n",
      "79/79 - 1s - loss: 5.0617e-04 - accuracy: 1.0000 - val_loss: 0.0723 - val_accuracy: 0.9766\n"
     ]
    },
    {
     "data": {
      "application/vnd.jupyter.widget-view+json": {
       "model_id": "",
       "version_major": 2,
       "version_minor": 0
      },
      "text/plain": [
       "PGD - Batches: 0it [00:00, ?it/s]"
      ]
     },
     "metadata": {},
     "output_type": "display_data"
    },
    {
     "data": {
      "application/vnd.jupyter.widget-view+json": {
       "model_id": "",
       "version_major": 2,
       "version_minor": 0
      },
      "text/plain": [
       "PGD - Batches: 0it [00:00, ?it/s]"
      ]
     },
     "metadata": {},
     "output_type": "display_data"
    },
    {
     "name": "stdout",
     "output_type": "stream",
     "text": [
      "Nat train accs     : (1.0000, 1.0000)\n",
      "Nat test  accs     : (0.9990, 0.9541)\n",
      "Adv-pgd train accs : (0.6229, 0.6081)\n",
      "Adv-pgd test  accs : (0.1235, 0.0894)\n",
      "Adv-rad train accs : (1.0000, 1.0000)\n",
      "Adv-rad test  accs : (0.8555, 0.6655)\n",
      "CPU times: user 14.9 s, sys: 7.59 s, total: 22.5 s\n",
      "Wall time: 23.9 s\n"
     ]
    }
   ],
   "source": [
    "%%time\n",
    "D = 1000\n",
    "res = run_experiment_v2(\n",
    "    dim=D, s0=1.0 / np.sqrt(D), s1=1.3 / np.sqrt(D),\n",
    "    num_train=10 ** 4,\n",
    "    learning_rate=3e-4,\n",
    "    model_layers=[\n",
    "        layers.Dense(1000, activation=\"relu\"),\n",
    "        layers.Dense(1000, activation=\"relu\"),\n",
    "        layers.Dense(2),\n",
    "    ],\n",
    "    train_batch_size=128,\n",
    "    train_epochs=10,\n",
    "    attack_norm=2,\n",
    "    attack_eps=0.1,\n",
    "    attack_eps_step=0.01,\n",
    "    attack_iters=20,\n",
    ")"
   ]
  },
  {
   "cell_type": "code",
   "execution_count": 12,
   "id": "82509bfe",
   "metadata": {},
   "outputs": [
    {
     "data": {
      "image/png": "[encoded data removed]",
      "text/plain": [
       "<Figure size 864x216 with 2 Axes>"
      ]
     },
     "metadata": {
      "needs_background": "light"
     },
     "output_type": "display_data"
    }
   ],
   "source": [
    "plt.figure(figsize=(12, 3))\n",
    "\n",
    "plt.subplot(1, 2, 1)\n",
    "plt.hist(np.linalg.norm(res[\"test_data\"][0], ord=2, axis=-1), bins=50, label=\"x_test\");\n",
    "plt.hist(np.linalg.norm(res[\"x_test_adv_pgd\"], ord=2, axis=-1), bins=50, label=\"x_test_adv\", alpha=0.5);\n",
    "plt.title(f\"PGD attack\");\n",
    "\n",
    "plt.subplot(1, 2, 2)\n",
    "plt.hist(np.linalg.norm(res[\"test_data\"][0], ord=2, axis=-1), bins=50, label=\"x_test\");\n",
    "plt.hist(np.linalg.norm(res[\"x_test_adv_rad\"], ord=2, axis=-1), bins=50, label=\"x_test_adv\", alpha=0.5);\n",
    "plt.title(f\"Radial attack\");"
   ]
  },
  {
   "cell_type": "code",
   "execution_count": 13,
   "id": "a23d77b5",
   "metadata": {},
   "outputs": [
    {
     "data": {
      "application/vnd.jupyter.widget-view+json": {
       "model_id": "",
       "version_major": 2,
       "version_minor": 0
      },
      "text/plain": [
       "  0%|          | 0/128 [00:00<?, ?it/s]"
      ]
     },
     "metadata": {},
     "output_type": "display_data"
    },
    {
     "data": {
      "application/vnd.jupyter.widget-view+json": {
       "model_id": "",
       "version_major": 2,
       "version_minor": 0
      },
      "text/plain": [
       "  0%|          | 0/128 [00:00<?, ?it/s]"
      ]
     },
     "metadata": {},
     "output_type": "display_data"
    },
    {
     "name": "stdout",
     "output_type": "stream",
     "text": [
      "CPU times: user 8.37 s, sys: 662 ms, total: 9.03 s\n",
      "Wall time: 8.44 s\n"
     ]
    },
    {
     "data": {
      "text/plain": [
       "[<matplotlib.lines.Line2D at 0x7fe0ed973e50>]"
      ]
     },
     "execution_count": 13,
     "metadata": {},
     "output_type": "execute_result"
    },
    {
     "data": {
      "image/png": "[encoded data removed]",
      "text/plain": [
       "<Figure size 864x216 with 2 Axes>"
      ]
     },
     "metadata": {
      "needs_background": "light"
     },
     "output_type": "display_data"
    }
   ],
   "source": [
    "%%time\n",
    "plt.figure(figsize=(12, 3))\n",
    "\n",
    "plt.subplot(1, 2, 1)\n",
    "rads = np.linspace(start=0, stop=2, num=128)\n",
    "cls1_fracs = cls1_frac_by_rad(model=res[\"model\"], rads=rads)\n",
    "plt.plot(rads, cls1_fracs);\n",
    "\n",
    "plt.subplot(1, 2, 2)\n",
    "rads = np.linspace(start=0.8, stop=1.5, num=128)\n",
    "cls1_fracs = cls1_frac_by_rad(model=res[\"model\"], rads=rads)\n",
    "plt.plot(rads, cls1_fracs);"
   ]
  },
  {
   "cell_type": "markdown",
   "id": "0c945ffd",
   "metadata": {},
   "source": [
    "---"
   ]
  },
  {
   "cell_type": "markdown",
   "id": "1b25fdc8",
   "metadata": {},
   "source": [
    "Norm $O(1)$, natural training, dim=1000, depth=2, width=5000"
   ]
  },
  {
   "cell_type": "code",
   "execution_count": 14,
   "id": "c1a2838f",
   "metadata": {},
   "outputs": [
    {
     "name": "stdout",
     "output_type": "stream",
     "text": [
      "Epoch 1/10\n",
      "79/79 - 1s - loss: 0.5294 - accuracy: 0.7170 - val_loss: 0.2337 - val_accuracy: 0.9312\n",
      "Epoch 2/10\n",
      "79/79 - 1s - loss: 0.0393 - accuracy: 0.9961 - val_loss: 0.0450 - val_accuracy: 0.9963\n",
      "Epoch 3/10\n",
      "79/79 - 1s - loss: 0.0023 - accuracy: 1.0000 - val_loss: 0.0285 - val_accuracy: 0.9971\n",
      "Epoch 4/10\n",
      "79/79 - 1s - loss: 7.5258e-04 - accuracy: 1.0000 - val_loss: 0.0281 - val_accuracy: 0.9963\n",
      "Epoch 5/10\n",
      "79/79 - 1s - loss: 4.5816e-04 - accuracy: 1.0000 - val_loss: 0.0252 - val_accuracy: 0.9971\n",
      "Epoch 6/10\n",
      "79/79 - 1s - loss: 3.1375e-04 - accuracy: 1.0000 - val_loss: 0.0246 - val_accuracy: 0.9971\n",
      "Epoch 7/10\n",
      "79/79 - 1s - loss: 2.2893e-04 - accuracy: 1.0000 - val_loss: 0.0229 - val_accuracy: 0.9971\n",
      "Epoch 8/10\n",
      "79/79 - 1s - loss: 1.7404e-04 - accuracy: 1.0000 - val_loss: 0.0228 - val_accuracy: 0.9971\n",
      "Epoch 9/10\n",
      "79/79 - 1s - loss: 1.3638e-04 - accuracy: 1.0000 - val_loss: 0.0217 - val_accuracy: 0.9968\n",
      "Epoch 10/10\n",
      "79/79 - 1s - loss: 1.0932e-04 - accuracy: 1.0000 - val_loss: 0.0212 - val_accuracy: 0.9963\n"
     ]
    },
    {
     "data": {
      "application/vnd.jupyter.widget-view+json": {
       "model_id": "",
       "version_major": 2,
       "version_minor": 0
      },
      "text/plain": [
       "PGD - Batches: 0it [00:00, ?it/s]"
      ]
     },
     "metadata": {},
     "output_type": "display_data"
    },
    {
     "data": {
      "application/vnd.jupyter.widget-view+json": {
       "model_id": "",
       "version_major": 2,
       "version_minor": 0
      },
      "text/plain": [
       "PGD - Batches: 0it [00:00, ?it/s]"
      ]
     },
     "metadata": {},
     "output_type": "display_data"
    },
    {
     "name": "stdout",
     "output_type": "stream",
     "text": [
      "Nat train accs     : (1.0000, 1.0000)\n",
      "Nat test  accs     : (1.0000, 0.9927)\n",
      "Adv-pgd train accs : (0.9995, 0.9995)\n",
      "Adv-pgd test  accs : (0.4062, 0.2681)\n",
      "Adv-rad train accs : (1.0000, 1.0000)\n",
      "Adv-rad test  accs : (0.9106, 0.7271)\n",
      "CPU times: user 14.2 s, sys: 6.02 s, total: 20.2 s\n",
      "Wall time: 21 s\n"
     ]
    }
   ],
   "source": [
    "%%time\n",
    "D = 1000\n",
    "res = run_experiment_v2(\n",
    "    dim=D, s0=1.0 / np.sqrt(D), s1=1.3 / np.sqrt(D),\n",
    "    num_train=10 ** 4,\n",
    "    learning_rate=3e-4,\n",
    "    model_layers=[\n",
    "        layers.Dense(5000, activation=\"relu\"),\n",
    "        layers.Dense(5000, activation=\"relu\"),\n",
    "        layers.Dense(2),\n",
    "    ],\n",
    "    train_batch_size=128,\n",
    "    train_epochs=10,\n",
    "    attack_norm=2,\n",
    "    attack_eps=0.1,\n",
    "    attack_eps_step=0.01,\n",
    "    attack_iters=20,\n",
    ")"
   ]
  },
  {
   "cell_type": "code",
   "execution_count": 15,
   "id": "24c9e2d4",
   "metadata": {},
   "outputs": [
    {
     "data": {
      "image/png": "[encoded data removed]",
      "text/plain": [
       "<Figure size 864x216 with 2 Axes>"
      ]
     },
     "metadata": {
      "needs_background": "light"
     },
     "output_type": "display_data"
    }
   ],
   "source": [
    "plt.figure(figsize=(12, 3))\n",
    "\n",
    "plt.subplot(1, 2, 1)\n",
    "plt.hist(np.linalg.norm(res[\"test_data\"][0], ord=2, axis=-1), bins=50, label=\"x_test\");\n",
    "plt.hist(np.linalg.norm(res[\"x_test_adv_pgd\"], ord=2, axis=-1), bins=50, label=\"x_test_adv\", alpha=0.5);\n",
    "plt.title(f\"PGD attack\");\n",
    "\n",
    "plt.subplot(1, 2, 2)\n",
    "plt.hist(np.linalg.norm(res[\"test_data\"][0], ord=2, axis=-1), bins=50, label=\"x_test\");\n",
    "plt.hist(np.linalg.norm(res[\"x_test_adv_rad\"], ord=2, axis=-1), bins=50, label=\"x_test_adv\", alpha=0.5);\n",
    "plt.title(f\"Radial attack\");"
   ]
  },
  {
   "cell_type": "code",
   "execution_count": 16,
   "id": "845a241e",
   "metadata": {},
   "outputs": [
    {
     "data": {
      "application/vnd.jupyter.widget-view+json": {
       "model_id": "",
       "version_major": 2,
       "version_minor": 0
      },
      "text/plain": [
       "  0%|          | 0/128 [00:00<?, ?it/s]"
      ]
     },
     "metadata": {},
     "output_type": "display_data"
    },
    {
     "data": {
      "application/vnd.jupyter.widget-view+json": {
       "model_id": "",
       "version_major": 2,
       "version_minor": 0
      },
      "text/plain": [
       "  0%|          | 0/128 [00:00<?, ?it/s]"
      ]
     },
     "metadata": {},
     "output_type": "display_data"
    },
    {
     "name": "stdout",
     "output_type": "stream",
     "text": [
      "CPU times: user 8.28 s, sys: 424 ms, total: 8.7 s\n",
      "Wall time: 8.12 s\n"
     ]
    },
    {
     "data": {
      "text/plain": [
       "[<matplotlib.lines.Line2D at 0x7fe0edc7ab20>]"
      ]
     },
     "execution_count": 16,
     "metadata": {},
     "output_type": "execute_result"
    },
    {
     "data": {
      "image/png": "[encoded data removed]",
      "text/plain": [
       "<Figure size 864x216 with 2 Axes>"
      ]
     },
     "metadata": {
      "needs_background": "light"
     },
     "output_type": "display_data"
    }
   ],
   "source": [
    "%%time\n",
    "plt.figure(figsize=(12, 3))\n",
    "\n",
    "plt.subplot(1, 2, 1)\n",
    "rads = np.linspace(start=0, stop=2, num=128)\n",
    "cls1_fracs = cls1_frac_by_rad(model=res[\"model\"], rads=rads)\n",
    "plt.plot(rads, cls1_fracs);\n",
    "\n",
    "plt.subplot(1, 2, 2)\n",
    "rads = np.linspace(start=0.8, stop=1.5, num=128)\n",
    "cls1_fracs = cls1_frac_by_rad(model=res[\"model\"], rads=rads)\n",
    "plt.plot(rads, cls1_fracs);"
   ]
  },
  {
   "cell_type": "markdown",
   "id": "3f85190c",
   "metadata": {},
   "source": [
    "---"
   ]
  },
  {
   "cell_type": "markdown",
   "id": "54589cf3",
   "metadata": {},
   "source": [
    "Norm $O(1)$, natural training, dim=1000, depth=2, width=10000"
   ]
  },
  {
   "cell_type": "code",
   "execution_count": 11,
   "id": "890364a2",
   "metadata": {},
   "outputs": [
    {
     "name": "stdout",
     "output_type": "stream",
     "text": [
      "Epoch 1/10\n",
      "79/79 - 2s - loss: 0.5442 - accuracy: 0.6981 - val_loss: 0.2382 - val_accuracy: 0.9172\n",
      "Epoch 2/10\n",
      "79/79 - 1s - loss: 0.0396 - accuracy: 0.9922 - val_loss: 0.0507 - val_accuracy: 0.9900\n",
      "Epoch 3/10\n",
      "79/79 - 1s - loss: 0.0020 - accuracy: 1.0000 - val_loss: 0.0326 - val_accuracy: 0.9937\n",
      "Epoch 4/10\n",
      "79/79 - 1s - loss: 4.1630e-04 - accuracy: 1.0000 - val_loss: 0.0290 - val_accuracy: 0.9944\n",
      "Epoch 5/10\n",
      "79/79 - 1s - loss: 2.4216e-04 - accuracy: 1.0000 - val_loss: 0.0272 - val_accuracy: 0.9951\n",
      "Epoch 6/10\n",
      "79/79 - 1s - loss: 1.6921e-04 - accuracy: 1.0000 - val_loss: 0.0264 - val_accuracy: 0.9949\n",
      "Epoch 7/10\n",
      "79/79 - 1s - loss: 1.2625e-04 - accuracy: 1.0000 - val_loss: 0.0257 - val_accuracy: 0.9946\n",
      "Epoch 8/10\n",
      "79/79 - 1s - loss: 9.8214e-05 - accuracy: 1.0000 - val_loss: 0.0249 - val_accuracy: 0.9949\n",
      "Epoch 9/10\n",
      "79/79 - 1s - loss: 7.8556e-05 - accuracy: 1.0000 - val_loss: 0.0244 - val_accuracy: 0.9946\n",
      "Epoch 10/10\n",
      "79/79 - 1s - loss: 6.4238e-05 - accuracy: 1.0000 - val_loss: 0.0236 - val_accuracy: 0.9946\n"
     ]
    },
    {
     "data": {
      "application/vnd.jupyter.widget-view+json": {
       "model_id": "",
       "version_major": 2,
       "version_minor": 0
      },
      "text/plain": [
       "PGD - Batches: 0it [00:00, ?it/s]"
      ]
     },
     "metadata": {},
     "output_type": "display_data"
    },
    {
     "data": {
      "application/vnd.jupyter.widget-view+json": {
       "model_id": "",
       "version_major": 2,
       "version_minor": 0
      },
      "text/plain": [
       "PGD - Batches: 0it [00:00, ?it/s]"
      ]
     },
     "metadata": {},
     "output_type": "display_data"
    },
    {
     "name": "stdout",
     "output_type": "stream",
     "text": [
      "Nat train accs     : (1.0000, 1.0000)\n",
      "Nat test  accs     : (1.0000, 0.9893)\n",
      "Adv-pgd train accs : (0.9980, 0.9932)\n",
      "Adv-pgd test  accs : (0.3823, 0.2686)\n",
      "Adv-rad train accs : (1.0000, 1.0000)\n",
      "Adv-rad test  accs : (0.8945, 0.7241)\n",
      "CPU times: user 17.2 s, sys: 6.8 s, total: 24 s\n",
      "Wall time: 31.3 s\n"
     ]
    }
   ],
   "source": [
    "%%time\n",
    "D = 1000\n",
    "res = run_experiment_v2(\n",
    "    dim=D, s0=1.0 / np.sqrt(D), s1=1.3 / np.sqrt(D),\n",
    "    num_train=10 ** 4,\n",
    "    learning_rate=3e-4,\n",
    "    model_layers=[\n",
    "        layers.Dense(10000, activation=\"relu\"),\n",
    "        layers.Dense(10000, activation=\"relu\"),\n",
    "        layers.Dense(2),\n",
    "    ],\n",
    "    train_batch_size=128,\n",
    "    train_epochs=10,\n",
    "    attack_norm=2,\n",
    "    attack_eps=0.1,\n",
    "    attack_eps_step=0.01,\n",
    "    attack_iters=20,\n",
    ")"
   ]
  },
  {
   "cell_type": "code",
   "execution_count": 12,
   "id": "a9ab2867",
   "metadata": {},
   "outputs": [
    {
     "data": {
      "image/png": "[encoded data removed]",
      "text/plain": [
       "<Figure size 864x216 with 2 Axes>"
      ]
     },
     "metadata": {
      "needs_background": "light"
     },
     "output_type": "display_data"
    }
   ],
   "source": [
    "plt.figure(figsize=(12, 3))\n",
    "\n",
    "plt.subplot(1, 2, 1)\n",
    "plt.hist(np.linalg.norm(res[\"test_data\"][0], ord=2, axis=-1), bins=50, label=\"x_test\");\n",
    "plt.hist(np.linalg.norm(res[\"x_test_adv_pgd\"], ord=2, axis=-1), bins=50, label=\"x_test_adv\", alpha=0.5);\n",
    "plt.title(f\"PGD attack\");\n",
    "\n",
    "plt.subplot(1, 2, 2)\n",
    "plt.hist(np.linalg.norm(res[\"test_data\"][0], ord=2, axis=-1), bins=50, label=\"x_test\");\n",
    "plt.hist(np.linalg.norm(res[\"x_test_adv_rad\"], ord=2, axis=-1), bins=50, label=\"x_test_adv\", alpha=0.5);\n",
    "plt.title(f\"Radial attack\");"
   ]
  },
  {
   "cell_type": "code",
   "execution_count": 13,
   "id": "f32b4319",
   "metadata": {},
   "outputs": [
    {
     "data": {
      "application/vnd.jupyter.widget-view+json": {
       "model_id": "",
       "version_major": 2,
       "version_minor": 0
      },
      "text/plain": [
       "  0%|          | 0/128 [00:00<?, ?it/s]"
      ]
     },
     "metadata": {},
     "output_type": "display_data"
    },
    {
     "data": {
      "application/vnd.jupyter.widget-view+json": {
       "model_id": "",
       "version_major": 2,
       "version_minor": 0
      },
      "text/plain": [
       "  0%|          | 0/128 [00:00<?, ?it/s]"
      ]
     },
     "metadata": {},
     "output_type": "display_data"
    },
    {
     "name": "stdout",
     "output_type": "stream",
     "text": [
      "CPU times: user 8.07 s, sys: 586 ms, total: 8.65 s\n",
      "Wall time: 8.1 s\n"
     ]
    },
    {
     "data": {
      "text/plain": [
       "[<matplotlib.lines.Line2D at 0x7ff1b1e90c10>]"
      ]
     },
     "execution_count": 13,
     "metadata": {},
     "output_type": "execute_result"
    },
    {
     "data": {
      "image/png": "[encoded data removed]",
      "text/plain": [
       "<Figure size 864x216 with 2 Axes>"
      ]
     },
     "metadata": {
      "needs_background": "light"
     },
     "output_type": "display_data"
    }
   ],
   "source": [
    "%%time\n",
    "plt.figure(figsize=(12, 3))\n",
    "\n",
    "plt.subplot(1, 2, 1)\n",
    "rads = np.linspace(start=0, stop=2, num=128)\n",
    "cls1_fracs = cls1_frac_by_rad(model=res[\"model\"], rads=rads)\n",
    "plt.plot(rads, cls1_fracs);\n",
    "\n",
    "plt.subplot(1, 2, 2)\n",
    "rads = np.linspace(start=0.8, stop=1.5, num=128)\n",
    "cls1_fracs = cls1_frac_by_rad(model=res[\"model\"], rads=rads)\n",
    "plt.plot(rads, cls1_fracs);"
   ]
  },
  {
   "cell_type": "markdown",
   "id": "2a6415da",
   "metadata": {},
   "source": [
    "---"
   ]
  },
  {
   "cell_type": "markdown",
   "id": "662ca31b",
   "metadata": {},
   "source": [
    "Norm $O(1)$, adversarial training, dim=1000, depth=2, width=1000"
   ]
  },
  {
   "cell_type": "code",
   "execution_count": 19,
   "id": "c91a43bd",
   "metadata": {},
   "outputs": [
    {
     "data": {
      "application/vnd.jupyter.widget-view+json": {
       "model_id": "3bd60f197fdb488293d15f4a0ad7ecb3",
       "version_major": 2,
       "version_minor": 0
      },
      "text/plain": [
       "Precompute adv samples:   0%|          | 0/1 [00:00<?, ?it/s]"
      ]
     },
     "metadata": {},
     "output_type": "display_data"
    },
    {
     "data": {
      "application/vnd.jupyter.widget-view+json": {
       "model_id": "7beb2e83fa794c10a6ff5dba84a3c064",
       "version_major": 2,
       "version_minor": 0
      },
      "text/plain": [
       "Adversarial training epochs:   0%|          | 0/24 [00:00<?, ?it/s]"
      ]
     },
     "metadata": {},
     "output_type": "display_data"
    },
    {
     "name": "stdout",
     "output_type": "stream",
     "text": [
      "Finished epoch 0; acc=0.4805; val_accs=(0.0000, 1.0000); loss=0.7137206196784973\n",
      "Finished epoch 2; acc=0.5000; val_accs=(0.0000, 0.9839); loss=0.6936509013175964\n",
      "Finished epoch 4; acc=0.5017; val_accs=(0.0000, 0.9971); loss=0.6853422522544861\n",
      "Finished epoch 6; acc=0.6841; val_accs=(0.1245, 0.4946); loss=0.6405535340309143\n",
      "Finished epoch 8; acc=0.9932; val_accs=(0.1860, 0.3770); loss=0.3124054968357086\n",
      "Finished epoch 10; acc=1.0000; val_accs=(0.4106, 0.2129); loss=0.04222817346453667\n",
      "Finished epoch 12; acc=1.0000; val_accs=(0.4468, 0.1890); loss=0.011099914088845253\n",
      "Finished epoch 14; acc=1.0000; val_accs=(0.4365, 0.1934); loss=0.005522341933101416\n",
      "Finished epoch 16; acc=1.0000; val_accs=(0.4507, 0.1851); loss=0.0033228988759219646\n",
      "Finished epoch 18; acc=1.0000; val_accs=(0.4565, 0.1812); loss=0.0022291867062449455\n",
      "Finished epoch 20; acc=1.0000; val_accs=(0.4673, 0.1777); loss=0.001595327747054398\n",
      "Finished epoch 22; acc=1.0000; val_accs=(0.4648, 0.1782); loss=0.0011938735842704773\n",
      "Nat train accs     : (1.0000, 1.0000)\n",
      "Nat test  accs     : (1.0000, 0.9985)\n",
      "Adv-pgd train accs : (1.0000, 1.0000)\n",
      "Adv-pgd test  accs : (0.4629, 0.1758)\n",
      "Adv-rad train accs : (1.0000, 1.0000)\n",
      "Adv-rad test  accs : (0.9673, 0.7319)\n",
      "Wall time: 2min 12s\n"
     ]
    }
   ],
   "source": [
    "%%time\n",
    "D = 1000\n",
    "res = run_experiment_v2(\n",
    "    dim=D, s0=1.0 / np.sqrt(D), s1=1.3 / np.sqrt(D),\n",
    "    num_train=10 ** 4,\n",
    "    learning_rate=3e-4,\n",
    "    model_layers=[\n",
    "        layers.Dense(1000, activation=\"relu\"),\n",
    "        layers.Dense(1000, activation=\"relu\"),\n",
    "        layers.Dense(2),\n",
    "    ],\n",
    "    train_batch_size=256,\n",
    "    train_epochs=24,\n",
    "    attack_norm=2,\n",
    "    attack_eps=0.1,\n",
    "    attack_eps_step=0.01,\n",
    "    attack_iters=20,\n",
    "    adv_train=True,\n",
    "    adv_train_log_interval=2,\n",
    "    seed=43\n",
    ")"
   ]
  },
  {
   "cell_type": "code",
   "execution_count": 20,
   "id": "c65fe1b0",
   "metadata": {},
   "outputs": [
    {
     "data": {
      "image/png": "[encoded data removed]",
      "text/plain": [
       "<Figure size 864x216 with 2 Axes>"
      ]
     },
     "metadata": {
      "needs_background": "light"
     },
     "output_type": "display_data"
    }
   ],
   "source": [
    "plt.figure(figsize=(12, 3))\n",
    "\n",
    "plt.subplot(1, 2, 1)\n",
    "plt.hist(np.linalg.norm(res[\"test_data\"][0], ord=2, axis=-1), bins=50, label=\"x_test\");\n",
    "plt.hist(np.linalg.norm(res[\"x_test_adv_pgd\"], ord=2, axis=-1), bins=50, label=\"x_test_adv\", alpha=0.5);\n",
    "plt.title(f\"PGD attack\");\n",
    "\n",
    "plt.subplot(1, 2, 2)\n",
    "plt.hist(np.linalg.norm(res[\"test_data\"][0], ord=2, axis=-1), bins=50, label=\"x_test\");\n",
    "plt.hist(np.linalg.norm(res[\"x_test_adv_rad\"], ord=2, axis=-1), bins=50, label=\"x_test_adv\", alpha=0.5);\n",
    "plt.title(f\"Radial attack\");"
   ]
  },
  {
   "cell_type": "code",
   "execution_count": 21,
   "id": "62bc2bd4",
   "metadata": {},
   "outputs": [
    {
     "data": {
      "application/vnd.jupyter.widget-view+json": {
       "model_id": "",
       "version_major": 2,
       "version_minor": 0
      },
      "text/plain": [
       "  0%|          | 0/128 [00:00<?, ?it/s]"
      ]
     },
     "metadata": {},
     "output_type": "display_data"
    },
    {
     "data": {
      "application/vnd.jupyter.widget-view+json": {
       "model_id": "",
       "version_major": 2,
       "version_minor": 0
      },
      "text/plain": [
       "  0%|          | 0/128 [00:00<?, ?it/s]"
      ]
     },
     "metadata": {},
     "output_type": "display_data"
    },
    {
     "data": {
      "image/png": "[encoded data removed]",
      "text/plain": [
       "<Figure size 864x216 with 2 Axes>"
      ]
     },
     "metadata": {
      "needs_background": "light"
     },
     "output_type": "display_data"
    }
   ],
   "source": [
    "plt.figure(figsize=(12, 3))\n",
    "\n",
    "plt.subplot(1, 2, 1)\n",
    "rads = np.linspace(start=0, stop=2, num=128)\n",
    "cls1_fracs = cls1_frac_by_rad(model=res[\"model\"], rads=rads)\n",
    "plt.plot(rads, cls1_fracs);\n",
    "\n",
    "plt.subplot(1, 2, 2)\n",
    "rads = np.linspace(start=0.8, stop=1.5, num=128)\n",
    "cls1_fracs = cls1_frac_by_rad(model=res[\"model\"], rads=rads)\n",
    "plt.plot(rads, cls1_fracs);"
   ]
  },
  {
   "cell_type": "markdown",
   "id": "fec69e06",
   "metadata": {},
   "source": [
    "---"
   ]
  },
  {
   "cell_type": "markdown",
   "id": "ba1d9d5f",
   "metadata": {},
   "source": [
    "Norm $O(1)$, adversarial training, dim=1000, depth=2, width=5000"
   ]
  },
  {
   "cell_type": "code",
   "execution_count": 22,
   "id": "ed2cb047",
   "metadata": {},
   "outputs": [
    {
     "data": {
      "application/vnd.jupyter.widget-view+json": {
       "model_id": "911cd91b3407474e9dcf4d2824b2014a",
       "version_major": 2,
       "version_minor": 0
      },
      "text/plain": [
       "Precompute adv samples:   0%|          | 0/1 [00:00<?, ?it/s]"
      ]
     },
     "metadata": {},
     "output_type": "display_data"
    },
    {
     "data": {
      "application/vnd.jupyter.widget-view+json": {
       "model_id": "55f71a146a12481caa5ee94c7601c571",
       "version_major": 2,
       "version_minor": 0
      },
      "text/plain": [
       "Adversarial training epochs:   0%|          | 0/24 [00:00<?, ?it/s]"
      ]
     },
     "metadata": {},
     "output_type": "display_data"
    },
    {
     "name": "stdout",
     "output_type": "stream",
     "text": [
      "Finished epoch 0; acc=0.4851; val_accs=(0.0000, 1.0000); loss=0.7000916004180908\n",
      "Finished epoch 2; acc=0.5002; val_accs=(0.0000, 1.0000); loss=0.686064600944519\n",
      "Finished epoch 4; acc=0.9816; val_accs=(0.3042, 0.7314); loss=0.233947291970253\n",
      "Finished epoch 6; acc=1.0000; val_accs=(0.7905, 0.4219); loss=0.002371346578001976\n",
      "Finished epoch 8; acc=1.0000; val_accs=(0.8066, 0.4429); loss=0.0007981070666573942\n",
      "Finished epoch 10; acc=1.0000; val_accs=(0.8193, 0.4365); loss=0.0005093026557005942\n",
      "Finished epoch 12; acc=1.0000; val_accs=(0.8247, 0.4297); loss=0.0003557389718480408\n",
      "Finished epoch 14; acc=1.0000; val_accs=(0.8257, 0.4316); loss=0.00026105481083504856\n",
      "Finished epoch 16; acc=1.0000; val_accs=(0.8281, 0.4272); loss=0.00019803058239631355\n",
      "Finished epoch 18; acc=1.0000; val_accs=(0.8320, 0.4263); loss=0.00015383085701614618\n",
      "Finished epoch 20; acc=1.0000; val_accs=(0.8359, 0.4224); loss=0.00012158788740634918\n",
      "Finished epoch 22; acc=1.0000; val_accs=(0.8418, 0.4175); loss=9.73325441009365e-05\n",
      "Nat train accs     : (1.0000, 1.0000)\n",
      "Nat test  accs     : (1.0000, 1.0000)\n",
      "Adv-pgd train accs : (1.0000, 1.0000)\n",
      "Adv-pgd test  accs : (0.8413, 0.4180)\n",
      "Adv-rad train accs : (1.0000, 1.0000)\n",
      "Adv-rad test  accs : (0.9878, 0.7686)\n",
      "Wall time: 2min 23s\n"
     ]
    }
   ],
   "source": [
    "%%time\n",
    "D = 1000\n",
    "res = run_experiment_v2(\n",
    "    dim=D, s0=1.0 / np.sqrt(D), s1=1.3 / np.sqrt(D),\n",
    "    num_train=10 ** 4,\n",
    "    learning_rate=3e-4,\n",
    "    model_layers=[\n",
    "        layers.Dense(5000, activation=\"relu\"),\n",
    "        layers.Dense(5000, activation=\"relu\"),\n",
    "        layers.Dense(2),\n",
    "    ],\n",
    "    train_batch_size=256,\n",
    "    train_epochs=24,\n",
    "    attack_norm=2,\n",
    "    attack_eps=0.1,\n",
    "    attack_eps_step=0.01,\n",
    "    attack_iters=20,\n",
    "    adv_train=True,\n",
    "    adv_train_log_interval=2,\n",
    "    seed=43\n",
    ")"
   ]
  },
  {
   "cell_type": "code",
   "execution_count": 23,
   "id": "75d46627",
   "metadata": {},
   "outputs": [
    {
     "data": {
      "image/png": "[encoded data removed]",
      "text/plain": [
       "<Figure size 864x216 with 2 Axes>"
      ]
     },
     "metadata": {
      "needs_background": "light"
     },
     "output_type": "display_data"
    }
   ],
   "source": [
    "plt.figure(figsize=(12, 3))\n",
    "\n",
    "plt.subplot(1, 2, 1)\n",
    "plt.hist(np.linalg.norm(res[\"test_data\"][0], ord=2, axis=-1), bins=50, label=\"x_test\");\n",
    "plt.hist(np.linalg.norm(res[\"x_test_adv_pgd\"], ord=2, axis=-1), bins=50, label=\"x_test_adv\", alpha=0.5);\n",
    "plt.title(f\"PGD attack\");\n",
    "\n",
    "plt.subplot(1, 2, 2)\n",
    "plt.hist(np.linalg.norm(res[\"test_data\"][0], ord=2, axis=-1), bins=50, label=\"x_test\");\n",
    "plt.hist(np.linalg.norm(res[\"x_test_adv_rad\"], ord=2, axis=-1), bins=50, label=\"x_test_adv\", alpha=0.5);\n",
    "plt.title(f\"Radial attack\");"
   ]
  },
  {
   "cell_type": "code",
   "execution_count": 24,
   "id": "9592e4ca",
   "metadata": {},
   "outputs": [
    {
     "data": {
      "application/vnd.jupyter.widget-view+json": {
       "model_id": "",
       "version_major": 2,
       "version_minor": 0
      },
      "text/plain": [
       "  0%|          | 0/128 [00:00<?, ?it/s]"
      ]
     },
     "metadata": {},
     "output_type": "display_data"
    },
    {
     "data": {
      "application/vnd.jupyter.widget-view+json": {
       "model_id": "",
       "version_major": 2,
       "version_minor": 0
      },
      "text/plain": [
       "  0%|          | 0/128 [00:00<?, ?it/s]"
      ]
     },
     "metadata": {},
     "output_type": "display_data"
    },
    {
     "data": {
      "image/png": "[encoded data removed]",
      "text/plain": [
       "<Figure size 864x216 with 2 Axes>"
      ]
     },
     "metadata": {
      "needs_background": "light"
     },
     "output_type": "display_data"
    }
   ],
   "source": [
    "plt.figure(figsize=(12, 3))\n",
    "\n",
    "plt.subplot(1, 2, 1)\n",
    "rads = np.linspace(start=0, stop=2, num=128)\n",
    "cls1_fracs = cls1_frac_by_rad(model=res[\"model\"], rads=rads)\n",
    "plt.plot(rads, cls1_fracs);\n",
    "\n",
    "plt.subplot(1, 2, 2)\n",
    "rads = np.linspace(start=0.8, stop=1.5, num=128)\n",
    "cls1_fracs = cls1_frac_by_rad(model=res[\"model\"], rads=rads)\n",
    "plt.plot(rads, cls1_fracs);"
   ]
  },
  {
   "cell_type": "markdown",
   "id": "13984f26",
   "metadata": {},
   "source": [
    "---"
   ]
  },
  {
   "cell_type": "markdown",
   "id": "51e38242",
   "metadata": {},
   "source": [
    "Norm $O(1)$, adversarial training, dim=1000, depth=5, width=1000"
   ]
  },
  {
   "cell_type": "code",
   "execution_count": 25,
   "id": "25711652",
   "metadata": {},
   "outputs": [
    {
     "data": {
      "application/vnd.jupyter.widget-view+json": {
       "model_id": "f134dbe6b29f43e8872a2e29f14c8a47",
       "version_major": 2,
       "version_minor": 0
      },
      "text/plain": [
       "Precompute adv samples:   0%|          | 0/1 [00:00<?, ?it/s]"
      ]
     },
     "metadata": {},
     "output_type": "display_data"
    },
    {
     "data": {
      "application/vnd.jupyter.widget-view+json": {
       "model_id": "6dfb7bd71a914b108979781e1fc2a6d7",
       "version_major": 2,
       "version_minor": 0
      },
      "text/plain": [
       "Adversarial training epochs:   0%|          | 0/24 [00:00<?, ?it/s]"
      ]
     },
     "metadata": {},
     "output_type": "display_data"
    },
    {
     "name": "stdout",
     "output_type": "stream",
     "text": [
      "Finished epoch 0; acc=0.4566; val_accs=(1.0000, 0.0000); loss=0.6956767439842224\n",
      "Finished epoch 2; acc=0.4934; val_accs=(1.0000, 0.0000); loss=0.693336546421051\n",
      "Finished epoch 4; acc=0.5112; val_accs=(0.0000, 1.0000); loss=0.6925271153450012\n",
      "Finished epoch 6; acc=0.7933; val_accs=(0.5723, 0.1289); loss=0.4575800895690918\n",
      "Finished epoch 8; acc=0.9824; val_accs=(0.2163, 0.2778); loss=0.04805624857544899\n",
      "Finished epoch 10; acc=0.9999; val_accs=(0.4204, 0.1826); loss=0.000749086553696543\n",
      "Finished epoch 12; acc=1.0000; val_accs=(0.4536, 0.1748); loss=0.00013655093789566308\n",
      "Finished epoch 14; acc=1.0000; val_accs=(0.4580, 0.1738); loss=5.559887722483836e-05\n",
      "Finished epoch 16; acc=1.0000; val_accs=(0.4741, 0.1646); loss=1.790777787391562e-05\n",
      "Finished epoch 18; acc=1.0000; val_accs=(0.4893, 0.1597); loss=5.667869572789641e-06\n",
      "Finished epoch 20; acc=1.0000; val_accs=(0.4951, 0.1548); loss=1.947822966030799e-06\n",
      "Finished epoch 22; acc=1.0000; val_accs=(0.5112, 0.1465); loss=8.281830901069043e-07\n",
      "Nat train accs     : (1.0000, 1.0000)\n",
      "Nat test  accs     : (1.0000, 0.9971)\n",
      "Adv-pgd train accs : (1.0000, 1.0000)\n",
      "Adv-pgd test  accs : (0.5005, 0.1523)\n",
      "Adv-rad train accs : (1.0000, 1.0000)\n",
      "Adv-rad test  accs : (0.9678, 0.6831)\n",
      "Wall time: 2min 44s\n"
     ]
    }
   ],
   "source": [
    "%%time\n",
    "D = 1000\n",
    "res = run_experiment_v2(\n",
    "    dim=D, s0=1.0 / np.sqrt(D), s1=1.3 / np.sqrt(D),\n",
    "    num_train=10 ** 4,\n",
    "    learning_rate=3e-4,\n",
    "    model_layers=[\n",
    "        layers.Dense(1000, activation=\"relu\"),\n",
    "        layers.Dense(1000, activation=\"relu\"),\n",
    "        layers.Dense(1000, activation=\"relu\"),\n",
    "        layers.Dense(1000, activation=\"relu\"),\n",
    "        layers.Dense(1000, activation=\"relu\"),\n",
    "        layers.Dense(2),\n",
    "    ],\n",
    "    train_batch_size=256,\n",
    "    train_epochs=24,\n",
    "    attack_norm=2,\n",
    "    attack_eps=0.1,\n",
    "    attack_eps_step=0.01,\n",
    "    attack_iters=20,\n",
    "    adv_train=True,\n",
    "    adv_train_log_interval=2,\n",
    "    seed=43\n",
    ")"
   ]
  },
  {
   "cell_type": "code",
   "execution_count": 26,
   "id": "b6007828",
   "metadata": {},
   "outputs": [
    {
     "data": {
      "image/png": "[encoded data removed]",
      "text/plain": [
       "<Figure size 864x216 with 2 Axes>"
      ]
     },
     "metadata": {
      "needs_background": "light"
     },
     "output_type": "display_data"
    }
   ],
   "source": [
    "plt.figure(figsize=(12, 3))\n",
    "\n",
    "plt.subplot(1, 2, 1)\n",
    "plt.hist(np.linalg.norm(res[\"test_data\"][0], ord=2, axis=-1), bins=50, label=\"x_test\");\n",
    "plt.hist(np.linalg.norm(res[\"x_test_adv_pgd\"], ord=2, axis=-1), bins=50, label=\"x_test_adv\", alpha=0.5);\n",
    "plt.title(f\"PGD attack\");\n",
    "\n",
    "plt.subplot(1, 2, 2)\n",
    "plt.hist(np.linalg.norm(res[\"test_data\"][0], ord=2, axis=-1), bins=50, label=\"x_test\");\n",
    "plt.hist(np.linalg.norm(res[\"x_test_adv_rad\"], ord=2, axis=-1), bins=50, label=\"x_test_adv\", alpha=0.5);\n",
    "plt.title(f\"Radial attack\");"
   ]
  },
  {
   "cell_type": "code",
   "execution_count": 27,
   "id": "70e831f6",
   "metadata": {},
   "outputs": [
    {
     "data": {
      "application/vnd.jupyter.widget-view+json": {
       "model_id": "",
       "version_major": 2,
       "version_minor": 0
      },
      "text/plain": [
       "  0%|          | 0/128 [00:00<?, ?it/s]"
      ]
     },
     "metadata": {},
     "output_type": "display_data"
    },
    {
     "data": {
      "application/vnd.jupyter.widget-view+json": {
       "model_id": "",
       "version_major": 2,
       "version_minor": 0
      },
      "text/plain": [
       "  0%|          | 0/128 [00:00<?, ?it/s]"
      ]
     },
     "metadata": {},
     "output_type": "display_data"
    },
    {
     "data": {
      "image/png": "[encoded data removed]",
      "text/plain": [
       "<Figure size 864x216 with 2 Axes>"
      ]
     },
     "metadata": {
      "needs_background": "light"
     },
     "output_type": "display_data"
    }
   ],
   "source": [
    "plt.figure(figsize=(12, 3))\n",
    "\n",
    "plt.subplot(1, 2, 1)\n",
    "rads = np.linspace(start=0, stop=2, num=128)\n",
    "cls1_fracs = cls1_frac_by_rad(model=res[\"model\"], rads=rads)\n",
    "plt.plot(rads, cls1_fracs);\n",
    "\n",
    "plt.subplot(1, 2, 2)\n",
    "rads = np.linspace(start=0.8, stop=1.5, num=128)\n",
    "cls1_fracs = cls1_frac_by_rad(model=res[\"model\"], rads=rads)\n",
    "plt.plot(rads, cls1_fracs);"
   ]
  },
  {
   "cell_type": "markdown",
   "id": "bc6e33be",
   "metadata": {},
   "source": [
    "---"
   ]
  },
  {
   "cell_type": "markdown",
   "id": "b84db35e",
   "metadata": {},
   "source": [
    "Norm $O(1)$, adversarial training, dim=1000, depth=5, width=5000"
   ]
  },
  {
   "cell_type": "code",
   "execution_count": 15,
   "id": "2920e0fe",
   "metadata": {},
   "outputs": [
    {
     "data": {
      "application/vnd.jupyter.widget-view+json": {
       "model_id": "3b230482eede455b9a59828ddf2fd9e2",
       "version_major": 2,
       "version_minor": 0
      },
      "text/plain": [
       "Precompute adv samples:   0%|          | 0/1 [00:00<?, ?it/s]"
      ]
     },
     "metadata": {},
     "output_type": "display_data"
    },
    {
     "data": {
      "application/vnd.jupyter.widget-view+json": {
       "model_id": "562fffb9dfae4c4ab8757353bc3612ab",
       "version_major": 2,
       "version_minor": 0
      },
      "text/plain": [
       "Adversarial training epochs:   0%|          | 0/24 [00:00<?, ?it/s]"
      ]
     },
     "metadata": {},
     "output_type": "display_data"
    },
    {
     "name": "stdout",
     "output_type": "stream",
     "text": [
      "Finished epoch 0; acc=0.4818; val_accs=(0.0000, 1.0000); loss=0.6947371959686279\n",
      "Finished epoch 2; acc=0.6563; val_accs=(0.1855, 0.9390); loss=0.6002393364906311\n",
      "Finished epoch 4; acc=0.9761; val_accs=(0.5063, 0.6274); loss=0.06231646612286568\n",
      "Finished epoch 6; acc=1.0000; val_accs=(0.6821, 0.5723); loss=0.0005449251038953662\n",
      "Finished epoch 8; acc=1.0000; val_accs=(0.6924, 0.5898); loss=2.459340430505108e-05\n",
      "Finished epoch 10; acc=1.0000; val_accs=(0.7568, 0.5244); loss=1.937881279445719e-06\n",
      "Finished epoch 12; acc=1.0000; val_accs=(0.7544, 0.5312); loss=8.724082931621524e-07\n",
      "Finished epoch 14; acc=1.0000; val_accs=(0.6660, 0.6250); loss=6.666145964118186e-07\n",
      "Finished epoch 16; acc=1.0000; val_accs=(0.7441, 0.5479); loss=3.3048337400032324e-07\n",
      "Finished epoch 18; acc=1.0000; val_accs=(0.7363, 0.5571); loss=2.2758243289899838e-07\n",
      "Finished epoch 20; acc=1.0000; val_accs=(0.5967, 0.7002); loss=2.580758859949128e-07\n",
      "Finished epoch 22; acc=1.0000; val_accs=(0.8140, 0.4556); loss=2.932799588961643e-06\n",
      "Nat train accs     : (1.0000, 1.0000)\n",
      "Nat test  accs     : (1.0000, 0.9995)\n",
      "Adv-pgd train accs : (1.0000, 1.0000)\n",
      "Adv-pgd test  accs : (0.7690, 0.5029)\n",
      "Adv-rad train accs : (1.0000, 1.0000)\n",
      "Adv-rad test  accs : (0.9712, 0.8203)\n",
      "Wall time: 4min 36s\n"
     ]
    }
   ],
   "source": [
    "%%time\n",
    "D = 1000\n",
    "res = run_experiment_v2(\n",
    "    dim=D, s0=1.0 / np.sqrt(D), s1=1.3 / np.sqrt(D),\n",
    "    num_train=10 ** 4,\n",
    "    learning_rate=3e-4,\n",
    "    model_layers=[\n",
    "        layers.Dense(5000, activation=\"relu\"),\n",
    "        layers.Dense(5000, activation=\"relu\"),\n",
    "        layers.Dense(5000, activation=\"relu\"),\n",
    "        layers.Dense(5000, activation=\"relu\"),\n",
    "        layers.Dense(5000, activation=\"relu\"),\n",
    "        layers.Dense(2),\n",
    "    ],\n",
    "    train_batch_size=256,\n",
    "    train_epochs=24,\n",
    "    attack_norm=2,\n",
    "    attack_eps=0.1,\n",
    "    attack_eps_step=0.01,\n",
    "    attack_iters=20,\n",
    "    adv_train=True,\n",
    "    adv_train_log_interval=2,\n",
    "    seed=43\n",
    ")"
   ]
  },
  {
   "cell_type": "code",
   "execution_count": 17,
   "id": "06837b77",
   "metadata": {},
   "outputs": [
    {
     "data": {
      "image/png": "[encoded data removed]",
      "text/plain": [
       "<Figure size 864x216 with 2 Axes>"
      ]
     },
     "metadata": {
      "needs_background": "light"
     },
     "output_type": "display_data"
    }
   ],
   "source": [
    "plt.figure(figsize=(12, 3))\n",
    "\n",
    "plt.subplot(1, 2, 1)\n",
    "plt.hist(np.linalg.norm(res[\"test_data\"][0], ord=2, axis=-1), bins=50, label=\"x_test\");\n",
    "plt.hist(np.linalg.norm(res[\"x_test_adv_pgd\"], ord=2, axis=-1), bins=50, label=\"x_test_adv\", alpha=0.5);\n",
    "plt.title(f\"PGD attack\");\n",
    "\n",
    "plt.subplot(1, 2, 2)\n",
    "plt.hist(np.linalg.norm(res[\"test_data\"][0], ord=2, axis=-1), bins=50, label=\"x_test\");\n",
    "plt.hist(np.linalg.norm(res[\"x_test_adv_rad\"], ord=2, axis=-1), bins=50, label=\"x_test_adv\", alpha=0.5);\n",
    "plt.title(f\"Radial attack\");"
   ]
  },
  {
   "cell_type": "code",
   "execution_count": 18,
   "id": "56005e80",
   "metadata": {},
   "outputs": [
    {
     "data": {
      "application/vnd.jupyter.widget-view+json": {
       "model_id": "",
       "version_major": 2,
       "version_minor": 0
      },
      "text/plain": [
       "  0%|          | 0/128 [00:00<?, ?it/s]"
      ]
     },
     "metadata": {},
     "output_type": "display_data"
    },
    {
     "data": {
      "application/vnd.jupyter.widget-view+json": {
       "model_id": "",
       "version_major": 2,
       "version_minor": 0
      },
      "text/plain": [
       "  0%|          | 0/128 [00:00<?, ?it/s]"
      ]
     },
     "metadata": {},
     "output_type": "display_data"
    },
    {
     "data": {
      "image/png": "[encoded data removed]",
      "text/plain": [
       "<Figure size 864x216 with 2 Axes>"
      ]
     },
     "metadata": {
      "needs_background": "light"
     },
     "output_type": "display_data"
    }
   ],
   "source": [
    "plt.figure(figsize=(12, 3))\n",
    "\n",
    "plt.subplot(1, 2, 1)\n",
    "rads = np.linspace(start=0, stop=2, num=128)\n",
    "cls1_fracs = cls1_frac_by_rad(model=res[\"model\"], rads=rads)\n",
    "plt.plot(rads, cls1_fracs);\n",
    "\n",
    "plt.subplot(1, 2, 2)\n",
    "rads = np.linspace(start=0.8, stop=1.5, num=128)\n",
    "cls1_fracs = cls1_frac_by_rad(model=res[\"model\"], rads=rads)\n",
    "plt.plot(rads, cls1_fracs);"
   ]
  },
  {
   "cell_type": "markdown",
   "id": "d7373ef1",
   "metadata": {},
   "source": [
    "---"
   ]
  },
  {
   "cell_type": "markdown",
   "id": "453ff341",
   "metadata": {},
   "source": [
    "# Summary and conclusions\n",
    "\n",
    "All experiments run with norm $O(1)$ in 1000 dimensions.\n",
    "\n",
    "#### Table of results\n",
    "\n",
    "| Setup | Nat train accs | Nat test accs | PGD train accs | PGD test accs | Rad train accs | Rad test accs |\n",
    "| --- | --- | --- | --- | --- | --- | --- |\n",
    "| n-train, w=1000, d=2 | (1.0000, 1.0000) | (0.9990, 0.9546) | (0.6209, 0.6091) | (0.1245, 0.0894) | (1.0000, 1.0000) | (0.8574, 0.6660) |\n",
    "| n-train, w=5000, d=2 | (1.0000, 1.0000) | (1.0000, 0.9937) | (0.9995, 1.0000) | (0.4038, 0.2690) | (1.0000, 1.0000) | (0.9111, 0.7280) |\n",
    "| n-train, w=10^4, d=2 | (1.0000, 1.0000) | (1.0000, 0.9893) | (0.9980, 0.9937) | (0.3838, 0.2681) | (1.0000, 1.0000) | (0.8940, 0.7222) |\n",
    "| a-train, w=1000, d=2 | (1.0000, 1.0000) | (1.0000, 0.9985) | (1.0000, 1.0000) | (0.4629, 0.1758) | (1.0000, 1.0000) | (0.9673, 0.7319) |\n",
    "| a-train, w=5000, d=2 | (1.0000, 1.0000) | (1.0000, 1.0000) | (1.0000, 1.0000) | (0.8413, 0.4180) | (1.0000, 1.0000) | (0.9878, 0.7686) |\n",
    "| a-train, w=1000, d=5 | (1.0000, 1.0000) | (1.0000, 0.9971) | (1.0000, 1.0000) | (0.5005, 0.1523) | (1.0000, 1.0000) | (0.9678, 0.6831) |\n",
    "| a-train, w=5000, d=5 | (1.0000, 1.0000) | (1.0000, 0.9995) | (1.0000, 1.0000) | (0.7690, 0.5029) | (1.0000, 1.0000) | (0.9712, 0.8203) |\n",
    "\n",
    "Major observations:\n",
    "1. PGD attack much more severe than the non-classifier dependent radius attack.\n",
    "   This suggests that the vulnerability of the NN is not that transferable,\n",
    "   and has more to due with the \"noise\" that the NN learns.\n",
    "2. Adversarial training helps but does not give perfect robustness.\n",
    "   Adversarial training really works better when the networks are wider.\n",
    "   Suggest NTK might be well worth looking at.\n",
    "3. Both natural training and adversarial training results in good natural accuracy.\n",
    "\n",
    "Finally as a last note, sometimes training would not do anything.\n",
    "This turned out to be a problem of too high learning rate."
   ]
  }
 ],
 "metadata": {
  "kernelspec": {
   "display_name": "Python 3",
   "language": "python",
   "name": "python3"
  },
  "language_info": {
   "codemirror_mode": {
    "name": "ipython",
    "version": 3
   },
   "file_extension": ".py",
   "mimetype": "text/x-python",
   "name": "python",
   "nbconvert_exporter": "python",
   "pygments_lexer": "ipython3",
   "version": "3.8.8"
  }
 },
 "nbformat": 4,
 "nbformat_minor": 5
}
