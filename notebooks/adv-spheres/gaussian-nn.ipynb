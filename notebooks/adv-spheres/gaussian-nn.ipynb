{
 "cells": [
  {
   "cell_type": "markdown",
   "id": "grateful-variable",
   "metadata": {},
   "source": [
    "This notebook tries to extend the results from the adversarial spheres paper: https://arxiv.org/pdf/1801.02774.pdf\n",
    "\n",
    "In particular, instead of generating from spheres, we generate from Gaussians\n",
    "(with the hope that the high dimensionality makes them effectively spheres).\n",
    "\n",
    "This is an iteration on top of gaussian-v1.ipynb.\n",
    "Unlike the first notebook,\n",
    "we focus on the norm $O(1)$ regime in this notebook,\n",
    "since this is where the vanilla NN performs the best.\n",
    "The plan is to also study the NTK of this vanilla NN in the future.\n",
    "\n",
    "Greg Yang's framework can also compute NTK even with batchnorm?\n",
    "\n",
    "We also provide visualizations of what the network is doing at different radii."
   ]
  },
  {
   "cell_type": "markdown",
   "id": "retired-metropolitan",
   "metadata": {},
   "source": [
    "### Import dependencies"
   ]
  },
  {
   "cell_type": "code",
   "execution_count": 1,
   "id": "turkish-buffalo",
   "metadata": {},
   "outputs": [
    {
     "data": {
      "text/plain": [
       "[PhysicalDevice(name='/physical_device:CPU:0', device_type='CPU'),\n",
       " PhysicalDevice(name='/physical_device:GPU:0', device_type='GPU')]"
      ]
     },
     "execution_count": 1,
     "metadata": {},
     "output_type": "execute_result"
    }
   ],
   "source": [
    "import matplotlib.pyplot as plt\n",
    "import numpy as np\n",
    "from tqdm.notebook import tqdm\n",
    "\n",
    "import tensorflow as tf\n",
    "from tensorflow import keras\n",
    "from tensorflow.keras import layers\n",
    "\n",
    "from art.data_generators import TensorFlowV2DataGenerator\n",
    "from art.estimators.classification import TensorFlowV2Classifier\n",
    "from art.attacks.evasion import ProjectedGradientDescent\n",
    "from art.defences.trainer import AdversarialTrainer\n",
    "\n",
    "tf.config.list_physical_devices(device_type=None)"
   ]
  },
  {
   "cell_type": "markdown",
   "id": "sharing-sapphire",
   "metadata": {},
   "source": [
    "### Data generation utils"
   ]
  },
  {
   "cell_type": "code",
   "execution_count": 2,
   "id": "original-attendance",
   "metadata": {},
   "outputs": [
    {
     "data": {
      "text/plain": [
       "array([[-0.10052   ,  0.40770094],\n",
       "       [-0.60192096,  0.44885005],\n",
       "       [-0.42508932,  0.03052352],\n",
       "       [-0.00636089, -0.38963944]])"
      ]
     },
     "execution_count": 2,
     "metadata": {},
     "output_type": "execute_result"
    }
   ],
   "source": [
    "def generate_normal_data(dim, s0, s1, num_samples):\n",
    "    assert num_samples % 2 == 0\n",
    "    assert s0 <= s1\n",
    "    \n",
    "    ys = np.concatenate([\n",
    "        np.zeros(shape=num_samples // 2, dtype=np.int64),\n",
    "        np.ones(shape=num_samples // 2, dtype=np.int64)\n",
    "    ])\n",
    "    \n",
    "    xs = np.concatenate([\n",
    "        np.random.normal(scale=s0, size=(num_samples // 2, dim)),\n",
    "        np.random.normal(scale=s1, size=(num_samples // 2, dim))\n",
    "    ])\n",
    "    \n",
    "    perm = np.random.permutation(num_samples)\n",
    "    xs = xs[perm]\n",
    "    ys = ys[perm]\n",
    "    \n",
    "    return xs, ys\n",
    "\n",
    "def normalize(xs: np.ndarray, norm):\n",
    "    norm_xs = xs / np.linalg.norm(xs, axis=-1, ord=norm).reshape(-1, 1)\n",
    "    return norm_xs\n",
    "\n",
    "def radial_attack(\n",
    "    xs: np.ndarray, ys: np.ndarray,\n",
    "    attack_norm, attack_eps,\n",
    "):\n",
    "    norm_xs = normalize(xs, norm=attack_norm)\n",
    "    \n",
    "    adv_xs = xs.copy()\n",
    "    adv_xs[ys == 0] += attack_eps * norm_xs[ys == 0]\n",
    "    adv_xs[ys == 1] -= attack_eps * norm_xs[ys == 1]\n",
    "    \n",
    "    return adv_xs\n",
    "\n",
    "xs, ys = generate_normal_data(dim=2, s0=0.3, s1=0.7, num_samples=4)\n",
    "radial_attack(xs=xs, ys=ys, attack_norm=2, attack_eps=0.1)"
   ]
  },
  {
   "cell_type": "markdown",
   "id": "premier-cooper",
   "metadata": {},
   "source": [
    "### Experiment setup"
   ]
  },
  {
   "cell_type": "code",
   "execution_count": 3,
   "id": "central-beads",
   "metadata": {},
   "outputs": [
    {
     "data": {
      "text/plain": [
       "'(1.0000, 2.0000)'"
      ]
     },
     "execution_count": 3,
     "metadata": {},
     "output_type": "execute_result"
    }
   ],
   "source": [
    "def eval_model(\n",
    "    model: tf.keras.Model,\n",
    "    xs: np.ndarray,\n",
    "    ys: np.ndarray,\n",
    "    verbose=0,\n",
    "):\n",
    "    \"\"\"Returns accuracies per class\"\"\"\n",
    "    _, acc0 = model.evaluate(xs[ys == 0], ys[ys == 0], verbose=verbose)\n",
    "    _, acc1 = model.evaluate(xs[ys == 1], ys[ys == 1], verbose=verbose)\n",
    "    return acc0, acc1\n",
    "\n",
    "def fmt_accs(accs):\n",
    "    return \"(\" + \", \".join(f\"{a:.4f}\" for a in accs) + \")\"\n",
    "\n",
    "fmt_accs([1,2])"
   ]
  },
  {
   "cell_type": "code",
   "execution_count": 4,
   "id": "helpful-speed",
   "metadata": {},
   "outputs": [],
   "source": [
    "def run_experiment_v2(\n",
    "    dim, s0, s1,\n",
    "    num_train,\n",
    "    model_layers,\n",
    "    train_epochs,\n",
    "    attack_norm,\n",
    "    attack_eps,\n",
    "    attack_eps_step,\n",
    "    attack_iters,\n",
    "    train_batch_size=64,\n",
    "    attack_batch_size=256,\n",
    "    num_test=4096,\n",
    "    seed=42,\n",
    "    adv_train=False,\n",
    "    adv_train_log_interval=2, # measured in epochs\n",
    "):\n",
    "    \"\"\"\n",
    "    Default values for num_train and num_test are size of CIFAR10 dataset.\n",
    "    \n",
    "    Keras code derived from https://keras.io/examples/vision/mnist_convnet/.\n",
    "    \n",
    "    ART code derived from https://github.com/Trusted-AI/adversarial-robustness-toolbox/blob/main/notebooks/adversarial_retraining.ipynb\n",
    "    and https://github.com/Trusted-AI/adversarial-robustness-toolbox/issues/238.\n",
    "    \"\"\"\n",
    "    np.random.seed(seed)\n",
    "    tf.random.set_seed(seed)\n",
    "    \n",
    "    x_train, y_train = generate_normal_data(\n",
    "        dim=dim, s0=s0, s1=s1,\n",
    "        num_samples=num_train,\n",
    "    )\n",
    "\n",
    "    x_test, y_test = generate_normal_data(\n",
    "        dim=dim, s0=s0, s1=s1,\n",
    "        num_samples=num_test,\n",
    "    )\n",
    "    \n",
    "    model = keras.Sequential(\n",
    "        [keras.Input(shape=x_train[0].shape)]\n",
    "        + model_layers\n",
    "    )\n",
    "    model.compile(\n",
    "        loss=keras.losses.SparseCategoricalCrossentropy(from_logits=True),\n",
    "        optimizer=\"adam\",\n",
    "        metrics=[\"accuracy\"]\n",
    "    )\n",
    "    \n",
    "    # Wrapper around tf.keras.Model.train_step\n",
    "    # Used for compatibility with art.estimators.classification.TensorFlowV2Classifier\n",
    "    _sample_count = 0\n",
    "    art_pgd_attack = None # Forward declaration. Hacky...\n",
    "    def train_step(model, images, labels):\n",
    "        nonlocal _sample_count\n",
    "        nonlocal art_pgd_attack\n",
    "        \n",
    "        out = model.train_step((images, labels))\n",
    "        \n",
    "        old_sample_count = _sample_count\n",
    "        _sample_count += images.shape[0]\n",
    "        \n",
    "        old_epoch = old_sample_count // num_train\n",
    "        cur_epoch = _sample_count // num_train\n",
    "        \n",
    "        if old_epoch < cur_epoch:\n",
    "            if old_epoch % adv_train_log_interval == 0:\n",
    "                x_val = art_pgd_attack.generate(x_test, y=y_test)\n",
    "                val_accs = eval_model(model, x_val, y_test)\n",
    "                \n",
    "                loss = float(out[\"loss\"])\n",
    "                acc = float(out[\"accuracy\"])\n",
    "                print(f\"Finished epoch {old_epoch}; acc={acc:.4f}; val_accs={fmt_accs(val_accs)}; loss={loss}\")\n",
    "                \n",
    "            model.reset_metrics()\n",
    "    \n",
    "    art_model = TensorFlowV2Classifier(\n",
    "        model=model,\n",
    "        input_shape=x_test[0].shape,\n",
    "        nb_classes=2,\n",
    "        clip_values=None, #[-x_test.max(), x_test.max()],\n",
    "        loss_object=model.loss,\n",
    "        train_step=train_step,\n",
    "    )\n",
    "    art_pgd_attack = ProjectedGradientDescent(\n",
    "        art_model,\n",
    "        norm=attack_norm,\n",
    "        eps=attack_eps,\n",
    "        eps_step=attack_eps_step,\n",
    "        max_iter=attack_iters,\n",
    "        batch_size=attack_batch_size,\n",
    "    )\n",
    "    \n",
    "    try: # Catch keyboard interrupt so we can exit training early\n",
    "        if adv_train:\n",
    "            adv_trainer = AdversarialTrainer(art_model, attacks=art_pgd_attack, ratio=1.0)\n",
    "            adv_trainer.fit(x=x_train, y=y_train, batch_size=train_batch_size, nb_epochs=train_epochs)\n",
    "        else:\n",
    "            model.fit(\n",
    "                x_train,\n",
    "                y_train,\n",
    "                batch_size=train_batch_size,\n",
    "                epochs=train_epochs,\n",
    "                validation_data=(x_test, y_test),\n",
    "                verbose=2,\n",
    "            )\n",
    "    except KeyboardInterrupt:\n",
    "        pass\n",
    "\n",
    "    model.trainable = False\n",
    "    \n",
    "    x_train_adv_pgd = art_pgd_attack.generate(x_train[:num_test], y=y_train[:num_test])    \n",
    "    x_test_adv_pgd = art_pgd_attack.generate(x_test, y=y_test)\n",
    "    \n",
    "    x_train_adv_rad = radial_attack(xs=x_train[:num_test], ys=y_train[:num_test],\n",
    "                                    attack_norm=attack_norm, attack_eps=attack_eps)\n",
    "    x_test_adv_rad = radial_attack(xs=x_test, ys=y_test,\n",
    "                                   attack_norm=attack_norm, attack_eps=attack_eps)\n",
    "    \n",
    "    nat_train_accs = eval_model(model, x_train, y_train)\n",
    "    nat_test_accs = eval_model(model, x_test, y_test)\n",
    "    adv_pgd_train_accs = eval_model(model, x_train_adv_pgd, y_train[:num_test])\n",
    "    adv_pgd_test_accs = eval_model(model, x_test_adv_pgd, y_test)\n",
    "    adv_rad_train_accs = eval_model(model, x_train_adv_rad, y_train[:num_test])\n",
    "    adv_rad_test_accs = eval_model(model, x_test_adv_rad, y_test)\n",
    "    \n",
    "    print(\"Nat train accs     :\", fmt_accs(nat_train_accs))\n",
    "    print(\"Nat test  accs     :\", fmt_accs(nat_test_accs))\n",
    "    print(\"Adv-pgd train accs :\", fmt_accs(adv_pgd_train_accs))\n",
    "    print(\"Adv-pgd test  accs :\", fmt_accs(adv_pgd_test_accs))\n",
    "    print(\"Adv-rad train accs :\", fmt_accs(adv_rad_train_accs))\n",
    "    print(\"Adv-rad test  accs :\", fmt_accs(adv_rad_test_accs))\n",
    "    \n",
    "    return dict(\n",
    "        model=model,\n",
    "        train_data=(x_train, y_train),\n",
    "        test_data=(x_test, y_test),\n",
    "        x_train_adv_pgd=x_train_adv_pgd,\n",
    "        x_test_adv_pgd=x_test_adv_pgd,\n",
    "        x_train_adv_rad=x_train_adv_rad,\n",
    "        x_test_adv_rad=x_test_adv_rad,\n",
    "    )"
   ]
  },
  {
   "cell_type": "code",
   "execution_count": 5,
   "id": "liked-summer",
   "metadata": {},
   "outputs": [],
   "source": [
    "def cls1_frac_by_rad(\n",
    "    model: tf.keras.Model,\n",
    "    rads: np.ndarray,\n",
    "    num_samples_per_rad=256,\n",
    "    batch_size=64,\n",
    "):\n",
    "    dim = model.input_shape[-1]\n",
    "    \n",
    "    cls1_fracs = np.zeros_like(rads)\n",
    "    for idx, r in enumerate(tqdm(rads, leave=False)):\n",
    "        xs = r * normalize(\n",
    "            xs=np.random.normal(size=(num_samples_per_rad, dim)),\n",
    "            norm=2\n",
    "        )\n",
    "\n",
    "        pred_probs = model.predict(xs, batch_size=batch_size)\n",
    "        preds = np.argmax(pred_probs, axis=-1)\n",
    "        \n",
    "        cls1_fracs[idx] = (preds == 1).mean()\n",
    "        \n",
    "    return cls1_fracs"
   ]
  },
  {
   "cell_type": "markdown",
   "id": "timely-louisville",
   "metadata": {},
   "source": [
    "### Run experiments"
   ]
  },
  {
   "cell_type": "markdown",
   "id": "danish-thanksgiving",
   "metadata": {},
   "source": [
    "Norm $O(1)$, standard training"
   ]
  },
  {
   "cell_type": "code",
   "execution_count": 6,
   "id": "greater-anthropology",
   "metadata": {
    "tags": []
   },
   "outputs": [
    {
     "name": "stdout",
     "output_type": "stream",
     "text": [
      "Epoch 1/10\n",
      "79/79 - 2s - loss: 0.4557 - accuracy: 0.7743 - val_loss: 0.1620 - val_accuracy: 0.9568\n",
      "Epoch 2/10\n",
      "79/79 - 0s - loss: 0.0225 - accuracy: 0.9957 - val_loss: 0.1231 - val_accuracy: 0.9509\n",
      "Epoch 3/10\n",
      "79/79 - 0s - loss: 0.0024 - accuracy: 1.0000 - val_loss: 0.0664 - val_accuracy: 0.9792\n",
      "Epoch 4/10\n",
      "79/79 - 0s - loss: 5.2766e-04 - accuracy: 1.0000 - val_loss: 0.0654 - val_accuracy: 0.9780\n",
      "Epoch 5/10\n",
      "79/79 - 0s - loss: 2.9580e-04 - accuracy: 1.0000 - val_loss: 0.0691 - val_accuracy: 0.9756\n",
      "Epoch 6/10\n",
      "79/79 - 0s - loss: 2.0632e-04 - accuracy: 1.0000 - val_loss: 0.0658 - val_accuracy: 0.9763\n",
      "Epoch 7/10\n",
      "79/79 - 0s - loss: 1.5428e-04 - accuracy: 1.0000 - val_loss: 0.0667 - val_accuracy: 0.9756\n",
      "Epoch 8/10\n",
      "79/79 - 0s - loss: 1.2044e-04 - accuracy: 1.0000 - val_loss: 0.0669 - val_accuracy: 0.9756\n",
      "Epoch 9/10\n",
      "79/79 - 0s - loss: 9.6693e-05 - accuracy: 1.0000 - val_loss: 0.0659 - val_accuracy: 0.9758\n",
      "Epoch 10/10\n",
      "79/79 - 0s - loss: 7.9382e-05 - accuracy: 1.0000 - val_loss: 0.0667 - val_accuracy: 0.9756\n"
     ]
    },
    {
     "data": {
      "application/vnd.jupyter.widget-view+json": {
       "model_id": "",
       "version_major": 2,
       "version_minor": 0
      },
      "text/plain": [
       "PGD - Batches: 0it [00:00, ?it/s]"
      ]
     },
     "metadata": {},
     "output_type": "display_data"
    },
    {
     "data": {
      "application/vnd.jupyter.widget-view+json": {
       "model_id": "",
       "version_major": 2,
       "version_minor": 0
      },
      "text/plain": [
       "PGD - Batches: 0it [00:00, ?it/s]"
      ]
     },
     "metadata": {},
     "output_type": "display_data"
    },
    {
     "name": "stdout",
     "output_type": "stream",
     "text": [
      "Nat train accs     : (1.0000, 1.0000)\n",
      "Nat test  accs     : (0.9985, 0.9526)\n",
      "Adv-pgd train accs : (0.7148, 0.5854)\n",
      "Adv-pgd test  accs : (0.1289, 0.0771)\n",
      "Adv-rad train accs : (1.0000, 1.0000)\n",
      "Adv-rad test  accs : (0.8716, 0.6401)\n",
      "Wall time: 9.08 s\n"
     ]
    }
   ],
   "source": [
    "%%time\n",
    "D = 1000\n",
    "res = run_experiment_v2(\n",
    "    dim=D, s0=1.0 / np.sqrt(D), s1=1.3 / np.sqrt(D),\n",
    "    num_train=10 ** 4,\n",
    "    model_layers=[\n",
    "        layers.Dense(1000, activation=\"relu\"),\n",
    "        layers.Dense(1000, activation=\"relu\"),\n",
    "        layers.Dense(2),\n",
    "    ],\n",
    "    train_batch_size=128,\n",
    "    train_epochs=10,\n",
    "    attack_norm=2,\n",
    "    attack_eps=0.1,\n",
    "    attack_eps_step=0.01,\n",
    "    attack_iters=20,\n",
    ")"
   ]
  },
  {
   "cell_type": "code",
   "execution_count": 7,
   "id": "relative-motivation",
   "metadata": {},
   "outputs": [
    {
     "data": {
      "image/png": "[encoded data removed]",
      "text/plain": [
       "<Figure size 864x216 with 2 Axes>"
      ]
     },
     "metadata": {
      "needs_background": "light"
     },
     "output_type": "display_data"
    }
   ],
   "source": [
    "plt.figure(figsize=(12, 3))\n",
    "\n",
    "plt.subplot(1, 2, 1)\n",
    "plt.hist(np.linalg.norm(res[\"test_data\"][0], ord=2, axis=-1), bins=50, label=\"x_test\");\n",
    "plt.hist(np.linalg.norm(res[\"x_test_adv_pgd\"], ord=2, axis=-1), bins=50, label=\"x_test_adv\", alpha=0.5);\n",
    "plt.title(f\"PGD attack\");\n",
    "\n",
    "plt.subplot(1, 2, 2)\n",
    "plt.hist(np.linalg.norm(res[\"test_data\"][0], ord=2, axis=-1), bins=50, label=\"x_test\");\n",
    "plt.hist(np.linalg.norm(res[\"x_test_adv_rad\"], ord=2, axis=-1), bins=50, label=\"x_test_adv\", alpha=0.5);\n",
    "plt.title(f\"Radial attack\");"
   ]
  },
  {
   "cell_type": "code",
   "execution_count": 8,
   "id": "legal-coach",
   "metadata": {},
   "outputs": [
    {
     "data": {
      "application/vnd.jupyter.widget-view+json": {
       "model_id": "",
       "version_major": 2,
       "version_minor": 0
      },
      "text/plain": [
       "  0%|          | 0/128 [00:00<?, ?it/s]"
      ]
     },
     "metadata": {},
     "output_type": "display_data"
    },
    {
     "data": {
      "application/vnd.jupyter.widget-view+json": {
       "model_id": "",
       "version_major": 2,
       "version_minor": 0
      },
      "text/plain": [
       "  0%|          | 0/128 [00:00<?, ?it/s]"
      ]
     },
     "metadata": {},
     "output_type": "display_data"
    },
    {
     "name": "stdout",
     "output_type": "stream",
     "text": [
      "Wall time: 8.55 s\n"
     ]
    },
    {
     "data": {
      "text/plain": [
       "[<matplotlib.lines.Line2D at 0x1ff01404b20>]"
      ]
     },
     "execution_count": 8,
     "metadata": {},
     "output_type": "execute_result"
    },
    {
     "data": {
      "image/png": "[encoded data removed]",
      "text/plain": [
       "<Figure size 864x216 with 2 Axes>"
      ]
     },
     "metadata": {
      "needs_background": "light"
     },
     "output_type": "display_data"
    }
   ],
   "source": [
    "%%time\n",
    "plt.figure(figsize=(12, 3))\n",
    "\n",
    "plt.subplot(1, 2, 1)\n",
    "rads = np.linspace(start=0, stop=2, num=128)\n",
    "cls1_fracs = cls1_frac_by_rad(model=res[\"model\"], rads=rads)\n",
    "plt.plot(rads, cls1_fracs);\n",
    "\n",
    "plt.subplot(1, 2, 2)\n",
    "rads = np.linspace(start=0.8, stop=1.5, num=128)\n",
    "cls1_fracs = cls1_frac_by_rad(model=res[\"model\"], rads=rads)\n",
    "plt.plot(rads, cls1_fracs);"
   ]
  },
  {
   "cell_type": "markdown",
   "id": "quantitative-photographer",
   "metadata": {},
   "source": [
    "---"
   ]
  },
  {
   "cell_type": "markdown",
   "id": "sticky-legend",
   "metadata": {},
   "source": [
    "Norm $O(1)$, adversarial training"
   ]
  },
  {
   "cell_type": "code",
   "execution_count": 12,
   "id": "framed-helmet",
   "metadata": {},
   "outputs": [
    {
     "data": {
      "application/vnd.jupyter.widget-view+json": {
       "model_id": "cb5dfc818e2240e283314f00cfd401ce",
       "version_major": 2,
       "version_minor": 0
      },
      "text/plain": [
       "Precompute adv samples:   0%|          | 0/1 [00:00<?, ?it/s]"
      ]
     },
     "metadata": {},
     "output_type": "display_data"
    },
    {
     "data": {
      "application/vnd.jupyter.widget-view+json": {
       "model_id": "f94f27e1ff534e8399056b965660f6ac",
       "version_major": 2,
       "version_minor": 0
      },
      "text/plain": [
       "Adversarial training epochs:   0%|          | 0/50 [00:00<?, ?it/s]"
      ]
     },
     "metadata": {},
     "output_type": "display_data"
    },
    {
     "name": "stdout",
     "output_type": "stream",
     "text": [
      "Finished epoch 0; acc=0.4834; val_accs=(0.0000, 1.0000); loss=0.704688310623169\n",
      "Finished epoch 4; acc=0.8605; val_accs=(0.3569, 0.0962); loss=0.43349847197532654\n",
      "Finished epoch 8; acc=1.0000; val_accs=(0.3667, 0.0825); loss=0.002777048386633396\n",
      "Finished epoch 12; acc=1.0000; val_accs=(0.4966, 0.0576); loss=0.0007692933431826532\n",
      "Finished epoch 16; acc=1.0000; val_accs=(0.5635, 0.0469); loss=0.000243436501477845\n",
      "Finished epoch 20; acc=1.0000; val_accs=(0.6660, 0.0278); loss=8.863885886967182e-05\n",
      "Finished epoch 24; acc=1.0000; val_accs=(0.7334, 0.0171); loss=4.2101990402443334e-05\n",
      "Finished epoch 28; acc=1.0000; val_accs=(0.7798, 0.0151); loss=2.484294782334473e-05\n",
      "Finished epoch 32; acc=1.0000; val_accs=(0.8062, 0.0142); loss=1.6264661098830402e-05\n",
      "Finished epoch 36; acc=1.0000; val_accs=(0.8027, 0.0146); loss=1.2006554243271239e-05\n",
      "Finished epoch 40; acc=1.0000; val_accs=(0.7983, 0.0146); loss=9.399936971021816e-06\n",
      "Finished epoch 44; acc=1.0000; val_accs=(0.7949, 0.0146); loss=7.346437996602617e-06\n",
      "Finished epoch 48; acc=1.0000; val_accs=(0.7896, 0.0151); loss=4.7553844524372835e-06\n",
      "Nat train accs     : (1.0000, 1.0000)\n",
      "Nat test  accs     : (1.0000, 0.9282)\n",
      "Adv-pgd train accs : (1.0000, 1.0000)\n",
      "Adv-pgd test  accs : (0.7808, 0.0151)\n",
      "Adv-rad train accs : (1.0000, 1.0000)\n",
      "Adv-rad test  accs : (0.9956, 0.2988)\n",
      "Wall time: 4min 10s\n"
     ]
    }
   ],
   "source": [
    "%%time\n",
    "D = 1000\n",
    "res = run_experiment_v2(\n",
    "    dim=D, s0=1.0 / np.sqrt(D), s1=1.3 / np.sqrt(D),\n",
    "    num_train=10 ** 4,\n",
    "    model_layers=[\n",
    "        layers.Dense(1000, activation=\"relu\"),\n",
    "        layers.Dense(1000, activation=\"relu\"),\n",
    "        layers.Dense(2),\n",
    "    ],\n",
    "    train_batch_size=256,\n",
    "    train_epochs=50,\n",
    "    attack_norm=2,\n",
    "    attack_eps=0.1,\n",
    "    attack_eps_step=0.01,\n",
    "    attack_iters=20,\n",
    "    adv_train=True,\n",
    "    adv_train_log_interval=4,\n",
    "    seed=43\n",
    ")"
   ]
  },
  {
   "cell_type": "code",
   "execution_count": 13,
   "id": "engaging-choir",
   "metadata": {},
   "outputs": [
    {
     "data": {
      "image/png": "[encoded data removed]",
      "text/plain": [
       "<Figure size 864x216 with 2 Axes>"
      ]
     },
     "metadata": {
      "needs_background": "light"
     },
     "output_type": "display_data"
    }
   ],
   "source": [
    "plt.figure(figsize=(12, 3))\n",
    "\n",
    "plt.subplot(1, 2, 1)\n",
    "plt.hist(np.linalg.norm(res[\"test_data\"][0], ord=2, axis=-1), bins=50, label=\"x_test\");\n",
    "plt.hist(np.linalg.norm(res[\"x_test_adv_pgd\"], ord=2, axis=-1), bins=50, label=\"x_test_adv\", alpha=0.5);\n",
    "plt.title(f\"PGD attack\");\n",
    "\n",
    "plt.subplot(1, 2, 2)\n",
    "plt.hist(np.linalg.norm(res[\"test_data\"][0], ord=2, axis=-1), bins=50, label=\"x_test\");\n",
    "plt.hist(np.linalg.norm(res[\"x_test_adv_rad\"], ord=2, axis=-1), bins=50, label=\"x_test_adv\", alpha=0.5);\n",
    "plt.title(f\"Radial attack\");"
   ]
  },
  {
   "cell_type": "code",
   "execution_count": 14,
   "id": "removed-sussex",
   "metadata": {},
   "outputs": [
    {
     "data": {
      "application/vnd.jupyter.widget-view+json": {
       "model_id": "",
       "version_major": 2,
       "version_minor": 0
      },
      "text/plain": [
       "  0%|          | 0/128 [00:00<?, ?it/s]"
      ]
     },
     "metadata": {},
     "output_type": "display_data"
    },
    {
     "data": {
      "application/vnd.jupyter.widget-view+json": {
       "model_id": "",
       "version_major": 2,
       "version_minor": 0
      },
      "text/plain": [
       "  0%|          | 0/128 [00:00<?, ?it/s]"
      ]
     },
     "metadata": {},
     "output_type": "display_data"
    },
    {
     "data": {
      "image/png": "[encoded data removed]",
      "text/plain": [
       "<Figure size 864x216 with 2 Axes>"
      ]
     },
     "metadata": {
      "needs_background": "light"
     },
     "output_type": "display_data"
    }
   ],
   "source": [
    "plt.figure(figsize=(12, 3))\n",
    "\n",
    "plt.subplot(1, 2, 1)\n",
    "rads = np.linspace(start=0, stop=2, num=128)\n",
    "cls1_fracs = cls1_frac_by_rad(model=res[\"model\"], rads=rads)\n",
    "plt.plot(rads, cls1_fracs);\n",
    "\n",
    "plt.subplot(1, 2, 2)\n",
    "rads = np.linspace(start=0.8, stop=1.5, num=128)\n",
    "cls1_fracs = cls1_frac_by_rad(model=res[\"model\"], rads=rads)\n",
    "plt.plot(rads, cls1_fracs);"
   ]
  },
  {
   "cell_type": "markdown",
   "id": "adjustable-brazilian",
   "metadata": {},
   "source": [
    "---"
   ]
  },
  {
   "cell_type": "markdown",
   "id": "material-application",
   "metadata": {},
   "source": [
    "### Summary and conclusions\n",
    "\n",
    "Major observations:\n",
    "1. PGD attack much more severe than the non-classifier dependent radius attack.\n",
    "   This suggests that the vulnerability of the NN is not that transferable,\n",
    "   and has more to due with the \"noise\" that the NN learns.\n",
    "2. Adversarial training does not give perfect robustness.\n",
    "   When trained to convergence,\n",
    "   the inner sphere is fairly robust but the outer sphere has 0 robustness.\n",
    "3. Both natural training and adversarial training results in good natural accuracy."
   ]
  }
 ],
 "metadata": {
  "kernelspec": {
   "display_name": "Python 3",
   "language": "python",
   "name": "python3"
  },
  "language_info": {
   "codemirror_mode": {
    "name": "ipython",
    "version": 3
   },
   "file_extension": ".py",
   "mimetype": "text/x-python",
   "name": "python",
   "nbconvert_exporter": "python",
   "pygments_lexer": "ipython3",
   "version": "3.8.5"
  }
 },
 "nbformat": 4,
 "nbformat_minor": 5
}
