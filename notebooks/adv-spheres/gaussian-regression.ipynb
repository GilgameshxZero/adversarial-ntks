{
 "cells": [
  {
   "cell_type": "markdown",
   "id": "c996d97e",
   "metadata": {},
   "source": [
    "## Set up libraries"
   ]
  },
  {
   "cell_type": "code",
   "execution_count": 1,
   "id": "512859a0",
   "metadata": {},
   "outputs": [],
   "source": [
    "import os\n",
    "os.environ[\"XLA_PYTHON_CLIENT_PREALLOCATE\"] = \"false\""
   ]
  },
  {
   "cell_type": "code",
   "execution_count": 2,
   "id": "ba178d8f",
   "metadata": {},
   "outputs": [
    {
     "data": {
      "text/plain": [
       "[GpuDevice(id=0, task=0)]"
      ]
     },
     "execution_count": 2,
     "metadata": {},
     "output_type": "execute_result"
    }
   ],
   "source": [
    "from functools import partial\n",
    "from typing import Optional, List\n",
    "\n",
    "import matplotlib.pyplot as plt\n",
    "import numpy as np\n",
    "from sklearn import svm\n",
    "from tqdm.notebook import tqdm\n",
    "\n",
    "import jax\n",
    "import jax.numpy as jnp\n",
    "jax.config.update(\"jax_enable_x64\", True)\n",
    "#jax.config.update(\"jax_platform_name\", \"cpu\")\n",
    "\n",
    "jnp.array([0]) # So warnings don't show up later\n",
    "jax.local_devices()"
   ]
  },
  {
   "cell_type": "code",
   "execution_count": 3,
   "id": "d3dab83c",
   "metadata": {},
   "outputs": [],
   "source": [
    "import sys\n",
    "sys.path.append(\"../..\")\n",
    "\n",
    "from adversarial_ntks import attacks, jsvc, kernel"
   ]
  },
  {
   "cell_type": "markdown",
   "id": "8790980c",
   "metadata": {},
   "source": [
    "# Data generation\n",
    "\n",
    "Our data in labeled by $Y \\in \\{0, 1\\}$,\n",
    "and $X | Y \\sim \\mathcal{N}(0, \\sigma_Y \\cdot I_d)$."
   ]
  },
  {
   "cell_type": "code",
   "execution_count": 4,
   "id": "eb05569b",
   "metadata": {},
   "outputs": [
    {
     "data": {
      "text/plain": [
       "array([[-1.16076008, -0.18728083],\n",
       "       [ 0.47404542, -0.25444572],\n",
       "       [-0.21250267,  0.11061904],\n",
       "       [-0.12421001,  0.28789988]])"
      ]
     },
     "execution_count": 4,
     "metadata": {},
     "output_type": "execute_result"
    }
   ],
   "source": [
    "def generate_normal_data(dim, s0, s1, num_samples):\n",
    "    assert num_samples % 2 == 0\n",
    "    assert s0 <= s1\n",
    "    \n",
    "    xs = np.concatenate([\n",
    "        np.random.normal(scale=s0, size=(num_samples // 2, dim)),\n",
    "        np.random.normal(scale=s1, size=(num_samples // 2, dim))\n",
    "    ])\n",
    "    \n",
    "    ys = np.concatenate([\n",
    "        np.full(shape=num_samples // 2, fill_value=-1.0),\n",
    "        np.full(shape=num_samples // 2, fill_value=1.0)\n",
    "    ])\n",
    "    \n",
    "    perm = np.random.permutation(num_samples)\n",
    "    xs = xs[perm]\n",
    "    ys = ys[perm]\n",
    "    \n",
    "    return xs, ys\n",
    "\n",
    "def normalize(xs: np.ndarray, norm):\n",
    "    norm_xs = xs / np.linalg.norm(xs, axis=-1, ord=norm).reshape(-1, 1)\n",
    "    return norm_xs\n",
    "\n",
    "def radial_attack(\n",
    "    xs: np.ndarray, ys: np.ndarray,\n",
    "    attack_norm, attack_eps,\n",
    "):\n",
    "    norm_xs = normalize(xs, norm=attack_norm)\n",
    "    \n",
    "    adv_xs = xs.copy()\n",
    "    adv_xs[ys < 0] += attack_eps * norm_xs[ys < 0]\n",
    "    adv_xs[ys > 0] -= attack_eps * norm_xs[ys > 0]\n",
    "    \n",
    "    return adv_xs\n",
    "\n",
    "xs, ys = generate_normal_data(dim=2, s0=0.3, s1=0.7, num_samples=4)\n",
    "radial_attack(xs=xs, ys=ys, attack_norm=2, attack_eps=0.1)"
   ]
  },
  {
   "cell_type": "markdown",
   "id": "00b96331",
   "metadata": {},
   "source": [
    "## Some utilities"
   ]
  },
  {
   "cell_type": "code",
   "execution_count": 5,
   "id": "c7e1d3bb",
   "metadata": {},
   "outputs": [],
   "source": [
    "def accs_by_cls(preds, ys):\n",
    "    return (preds[ys < 0] == 0).mean(), (preds[ys > 0] == 1).mean()\n",
    "\n",
    "def fmt_accs(accs):\n",
    "    return \"(\" + \", \".join(f\"{a:.4f}\" for a in accs) + \")\""
   ]
  },
  {
   "cell_type": "markdown",
   "id": "45e46070",
   "metadata": {},
   "source": [
    "# Experiments"
   ]
  },
  {
   "cell_type": "code",
   "execution_count": 6,
   "id": "05623e84",
   "metadata": {},
   "outputs": [],
   "source": [
    "RESULTS = dict() # used to store experiment artifacts"
   ]
  },
  {
   "cell_type": "code",
   "execution_count": 7,
   "id": "2fb5fafa",
   "metadata": {},
   "outputs": [
    {
     "data": {
      "image/png": "[encoded data removed]",
      "text/plain": [
       "<Figure size 432x288 with 1 Axes>"
      ]
     },
     "metadata": {
      "needs_background": "light"
     },
     "output_type": "display_data"
    }
   ],
   "source": [
    "dim = 1000\n",
    "s0, s1 = 1.0 / np.sqrt(dim), 1.3 / np.sqrt(dim)\n",
    "\n",
    "xs_train, ys_train = generate_normal_data(\n",
    "    dim=dim, s0=s0, s1=s1, num_samples=2000,\n",
    ")\n",
    "xs_test, ys_test = generate_normal_data(\n",
    "    dim=dim, s0=s0, s1=s1, num_samples=1000,\n",
    ")\n",
    "\n",
    "plt.title(\"xs_train radii\")\n",
    "plt.hist(np.linalg.norm(xs_train, ord=2, axis=-1), density=True, bins=50);"
   ]
  },
  {
   "cell_type": "markdown",
   "id": "ea2ab68f",
   "metadata": {},
   "source": [
    "## Kernel regression\n",
    "\n",
    "Similar classifier setup to the SVM case, though we drop the intercept $b$ to simplify analysis.\n",
    "(This should be fine since we can get the intercept back via the kernel).\n",
    "\n",
    "So our classifier $f_\\alpha: \\mathcal{X} \\to \\mathbb{R}$ acts as\n",
    "\n",
    "$$\n",
    "f_{\\alpha}(x) = \\sum_{i = 1}^n \\alpha_i \\, k(x_i, x).\n",
    "$$\n",
    "\n",
    "Our loss for the regression case is just MSE, so we want to solve the problem\n",
    "\n",
    "$$\n",
    "\\underset{\\alpha \\,\\in \\, \\mathbb{R}^n}{\\mathrm{argmin}} \\quad\n",
    "\\frac{1}{n} \\sum_{i = 1}^n (f_\\alpha(x_i) - y_i)^2 + \\lambda R(\\alpha).\n",
    "$$\n",
    "\n",
    "where $R(\\alpha)$ is a regularizer and $\\lambda > 0$ controls its strength.\n",
    "\n",
    "Under ridge regression, the objective of the minimization can equivalently be written as\n",
    "\n",
    "$$\n",
    "\\mathcal{L}(\\alpha)\n",
    "= \\frac{1}{n} \\|K \\alpha - Y\\|_2 + \\lambda R(\\alpha),\n",
    "$$\n",
    "\n",
    "where $K \\in \\mathbb{R}^{n \\times n}$ with $K_{ij} = k(x_i, x_j)$\n",
    "and $Y \\in \\mathbb{R}^n$ with $Y_i = y_i$.\n",
    "\n",
    "def binary_to_sign(ys: np.ndarray):\n",
    "Two common forms of $R(\\alpha)$ that are amenable to analysis are\n",
    "$\\|\\alpha\\|_2^2$ or\n",
    "$\\|\\alpha\\|_H^2 = \\sum_{i = 1}^n \\sum_{j = 1}^n \\alpha_i \\, \\alpha_j \\, k(x_i, x_j)$.\n",
    "We study both below."
   ]
  },
  {
   "cell_type": "markdown",
   "id": "665feaf9",
   "metadata": {},
   "source": [
    "### Ridge regularization\n",
    "This is the case where $R(\\alpha) = \\|\\alpha\\|_2^2$.\n",
    "\n",
    "The first order condition for minimization of $\\mathcal{L}(\\cdot)$ is\n",
    "$K (K\\alpha - Y) + \\lambda n \\alpha = 0$.\n",
    "Thus when $\\lambda > 0$, there is a unique minimizer\n",
    "\n",
    "$$\n",
    "\\alpha^* = (KK + \\lambda n I_n)^{-1} K Y = (K + \\lambda n K^+)^+ Y\n",
    "$$\n",
    "\n",
    "Why is this unique? Well $KK$ is positive semi-definite so when $\\lambda >0$ the sum $KK + \\lambda n I_n$ is positive definite and invertible.\n",
    "  \n",
    "In the limit as $\\lambda \\to 0$, we get $\\alpha^* \\to K^+ Y$, where $K^+$ is the [Moore–Penrose psuedo-inverse](https://en.wikipedia.org/w/index.php?title=Moore%E2%80%93Penrose_inverse&oldid=1015125066#Limit_relations) of $K$."
   ]
  },
  {
   "cell_type": "markdown",
   "id": "4176ab38",
   "metadata": {},
   "source": [
    "### RKHS regularization\n",
    "This is the case where $R(\\alpha) = \\|\\alpha\\|_2^2$.\n",
    "\n",
    "The first order condition for minimization of $\\mathcal{L}(\\cdot)$ is\n",
    "$K(K\\alpha - Y) + \\lambda n K \\alpha = 0$.\n",
    "When $K$ is invertible, there is a unique minimizer\n",
    "\n",
    "$$\\alpha^* = (K + \\lambda n I_n)^{-1} Y.$$\n",
    "\n",
    "When $K$ is invertible, in the limit as $\\lambda \\to 0$ we get $\\alpha^* = K^{-1}Y$.\n",
    "\n",
    "When $K$ is not invertible, there may be multiple global minima.\n",
    "The one with smallest norm is given by\n",
    "\n",
    "$$\n",
    "\\alpha^*_{\\mathrm{min}} = (KK + \\lambda n K)^+ K Y = (K + \\lambda n I_n)^+ K^+ K Y.\n",
    "$$\n",
    "\n",
    "One instance where $K$ is always invertible (as long as datapoints are unique) is the RBF kernel,\n",
    "which is [strictly positive definite](https://math.stackexchange.com/q/130554/85418)."
   ]
  },
  {
   "cell_type": "code",
   "execution_count": 8,
   "id": "41fbde63",
   "metadata": {},
   "outputs": [],
   "source": [
    "class JKernelRegressor:\n",
    "    \"\"\"Jax-based kernel regressor\"\"\"\n",
    "    \n",
    "    def __init__(\n",
    "        self,\n",
    "        kernel: str,\n",
    "        regularizer: str,\n",
    "        lam: float,\n",
    "        gamma: Optional[float] = None,\n",
    "        degree: Optional[int] = None,\n",
    "    ):\n",
    "        \"\"\"Small positive lam may cause numerical issues. Use lam = 0 instead.\"\"\"\n",
    "        self.kernel = kernel\n",
    "        self.gamma = gamma\n",
    "        self.degree = degree\n",
    "        \n",
    "        self.regularizer = regularizer\n",
    "        self.lam = lam\n",
    "        \n",
    "        assert self.lam >= 0\n",
    "    \n",
    "    def get_kernel_mat(self, X1: jnp.ndarray, X2: jnp.ndarray) -> jnp.ndarray:\n",
    "        \"\"\"\n",
    "        X1: shape (n1, d)\n",
    "        X1: shape (n2, d)\n",
    "        return: shape (n1, n2)\n",
    "        \"\"\"\n",
    "        \n",
    "        if self.kernel == \"linear\":\n",
    "            return kernel.linear(SV, X)\n",
    "        elif self.kernel == \"poly\":\n",
    "            return kernel.poly(X1, X2, gamma=self.gamma, coef0=1, degree=self.degree)\n",
    "        elif self.kernel == \"rbf\":\n",
    "            return kernel.rbf(X1, X2, gamma=self.gamma)\n",
    "        \n",
    "        raise NotImplementedError\n",
    "    \n",
    "    @partial(jax.jit, static_argnums=(0,))\n",
    "    def _fit_alpha(self, K, ys):\n",
    "        \"\"\"For JITing\"\"\"\n",
    "        n = K.shape[0]\n",
    "        if self.regularizer == \"ridge\":\n",
    "            # return jnp.linalg.pinv(K + self.lam * n * self.linalg.pinv(K)) @ ys\n",
    "            if self.lam > 0:\n",
    "                return jnp.linalg.inv(K @ K + self.lam * n * jnp.eye(n)) @ K @ ys\n",
    "            return jnp.linalg.pinv(K) @ ys\n",
    "                \n",
    "        elif self.regularizer == \"rkhs\":\n",
    "            return jnp.linalg.pinv(K @ K + self.lam * n * K) @ K @ ys\n",
    "       \n",
    "        raise NotImplementedError\n",
    "    \n",
    "    def fit(self, xs: jnp.ndarray, ys: jnp.ndarray):\n",
    "        \"\"\"\n",
    "        xs: shape (n, d)\n",
    "        ys: shape (n,)\n",
    "        \"\"\"\n",
    "        self.xs = xs.copy()\n",
    "        self.ys = ys.copy()\n",
    "        \n",
    "        self.K = self.get_kernel_mat(xs, xs)        \n",
    "        self.alpha = self._fit_alpha(K=self.K, ys=self.ys)\n",
    "    \n",
    "    def predict(self, xs: jnp.ndarray) -> jnp.ndarray:\n",
    "        \"\"\"\n",
    "        xs: shape (n, d)\n",
    "        \"\"\"\n",
    "        return self.get_kernel_mat(xs, self.xs) @ self.alpha\n",
    "    \n",
    "    def predict_thresh(self, xs: jnp.ndarray, thresh: float = 0.5) -> jnp.ndarray:\n",
    "        \"\"\"\n",
    "        xs: shape (n, d)\n",
    "        \"\"\"\n",
    "        return (self.predict(xs) > thresh).astype(jnp.int64)\n",
    "    \n",
    "def _kreg_predict_sum(kreg: JKernelRegressor, xs: jnp.ndarray):\n",
    "    return kreg.predict(xs).sum()\n",
    "\n",
    "grad_kreg_predict_sum = jax.jit(\n",
    "    jax.grad(_kreg_predict_sum, 1),\n",
    "    static_argnums=0,\n",
    ")"
   ]
  },
  {
   "cell_type": "code",
   "execution_count": 9,
   "id": "1f06a0bd",
   "metadata": {},
   "outputs": [],
   "source": [
    "def eval_kreg(\n",
    "    reg: JKernelRegressor,\n",
    "    attack_eps: float,\n",
    "    pgd_step_size: float,\n",
    "    pgd_num_steps: int,\n",
    "    verbose: bool = True,\n",
    "    label: str = \"\",\n",
    "):\n",
    "    accs_train = accs_by_cls(preds=reg.predict_thresh(xs_train), ys=ys_train)\n",
    "    accs_test = accs_by_cls(preds=reg.predict_thresh(xs_test), ys=ys_test)\n",
    "    if verbose:\n",
    "        print(f\"{label}; accs_train={fmt_accs(accs_train)}; accs_test={fmt_accs(accs_test)}\")\n",
    "    \n",
    "    xs_train_arad = radial_attack(xs=xs_train, ys=ys_train, attack_norm=2, attack_eps=attack_eps)\n",
    "    xs_test_arad = radial_attack(xs=xs_test, ys=ys_test, attack_norm=2, attack_eps=attack_eps)\n",
    "    accs_train_arad = accs_by_cls(preds=reg.predict_thresh(xs_train_arad), ys=ys_train)\n",
    "    accs_test_arad = accs_by_cls(preds=reg.predict_thresh(xs_test_arad), ys=ys_test)\n",
    "    if verbose:\n",
    "        print(f\"{label}; accs_train_arad={fmt_accs(accs_train_arad)}; accs_test_arad={fmt_accs(accs_test_arad)}\")\n",
    "    \n",
    "    xs_train_pgd = attacks.pgd(\n",
    "        X=jnp.array(xs_train), Y=jnp.array(ys_train),\n",
    "        grad_func=lambda X: grad_kreg_predict_sum(reg, X),\n",
    "        eps=attack_eps, eps_norm=2,\n",
    "        step_size=pgd_step_size, step_norm=2,\n",
    "        num_steps=pgd_num_steps,\n",
    "        pixel_clip=False,\n",
    "    )\n",
    "    xs_test_pgd = attacks.pgd(\n",
    "        X=jnp.array(xs_test), Y=jnp.array(ys_test),\n",
    "        grad_func=lambda X: grad_kreg_predict_sum(reg, X),\n",
    "        eps=attack_eps, eps_norm=2,\n",
    "        step_size=pgd_step_size, step_norm=2,\n",
    "        num_steps=pgd_num_steps,\n",
    "        pixel_clip=False,\n",
    "    )\n",
    "    accs_train_pgd = accs_by_cls(preds=reg.predict_thresh(xs_train_pgd), ys=ys_train)\n",
    "    accs_test_pgd = accs_by_cls(preds=reg.predict_thresh(xs_test_pgd), ys=ys_test)\n",
    "    if verbose:\n",
    "        print(f\"{label}; accs_train_pgd={fmt_accs(accs_train_pgd)}; accs_test_pgd={fmt_accs(accs_test_pgd)}\")\n",
    "\n",
    "    return dict(\n",
    "        accs_train=accs_train,\n",
    "        accs_test=accs_test,\n",
    "        attack_eps=attack_eps,\n",
    "        accs_train_arad=accs_train_arad,\n",
    "        accs_test_arad=accs_test_arad,\n",
    "        accs_train_pgd=accs_train_pgd,\n",
    "        accs_test_pgd=accs_test_pgd,\n",
    "        xs_train_pgd=xs_train_pgd,\n",
    "        xs_test_pgd=xs_test_pgd,\n",
    "    )"
   ]
  },
  {
   "cell_type": "code",
   "execution_count": 10,
   "id": "70b3be11",
   "metadata": {},
   "outputs": [],
   "source": [
    "def run_experiment(\n",
    "    kernel: str,\n",
    "    regularizer: str,\n",
    "    lams: List[float],\n",
    "    attack_eps: float,\n",
    "    pgd_step_size: float,\n",
    "    pgd_num_steps: int,\n",
    "    gamma: Optional[float] = None,\n",
    "    degree: Optional[int] = None,\n",
    "):\n",
    "    results = []\n",
    "    for lam in lams:\n",
    "        reg = JKernelRegressor(\n",
    "            kernel=kernel,\n",
    "            regularizer=regularizer,\n",
    "            lam=lam,\n",
    "            gamma=gamma,\n",
    "            degree=degree,\n",
    "        )\n",
    "        reg.fit(xs_train, ys_train)\n",
    "    \n",
    "        res_dict = dict(reg=reg)\n",
    "        res_dict.update(\n",
    "            eval_kreg(\n",
    "                reg=reg,\n",
    "                label=f\"lam={lam}\",\n",
    "                attack_eps=attack_eps,\n",
    "                pgd_step_size=pgd_step_size,\n",
    "                pgd_num_steps=pgd_num_steps,\n",
    "            )\n",
    "        )\n",
    "        \n",
    "        results.append(res_dict)\n",
    "\n",
    "    return results"
   ]
  },
  {
   "cell_type": "markdown",
   "id": "1fd41c7e",
   "metadata": {},
   "source": [
    "## RBF regression"
   ]
  },
  {
   "cell_type": "markdown",
   "id": "30b85e5b",
   "metadata": {},
   "source": [
    "#### Ridge regularization"
   ]
  },
  {
   "cell_type": "code",
   "execution_count": 11,
   "id": "eee61a2e",
   "metadata": {},
   "outputs": [
    {
     "name": "stdout",
     "output_type": "stream",
     "text": [
      "lam=0; accs_train=(1.0000, 1.0000); accs_test=(1.0000, 0.0000)\n",
      "lam=0; accs_train_arad=(1.0000, 1.0000); accs_test_arad=(1.0000, 0.0000)\n",
      "lam=0; accs_train_pgd=(1.0000, 1.0000); accs_test_pgd=(0.9400, 0.0000)\n",
      "lam=1e-06; accs_train=(1.0000, 1.0000); accs_test=(1.0000, 0.0000)\n",
      "lam=1e-06; accs_train_arad=(1.0000, 1.0000); accs_test_arad=(1.0000, 0.0000)\n",
      "lam=1e-06; accs_train_pgd=(1.0000, 1.0000); accs_test_pgd=(0.9420, 0.0000)\n",
      "lam=0.001; accs_train=(1.0000, 0.0000); accs_test=(1.0000, 0.0000)\n",
      "lam=0.001; accs_train_arad=(1.0000, 0.0000); accs_test_arad=(1.0000, 0.0000)\n",
      "lam=0.001; accs_train_pgd=(1.0000, 0.0000); accs_test_pgd=(1.0000, 0.0000)\n",
      "lam=1; accs_train=(1.0000, 0.0000); accs_test=(1.0000, 0.0000)\n",
      "lam=1; accs_train_arad=(1.0000, 0.0000); accs_test_arad=(1.0000, 0.0000)\n",
      "lam=1; accs_train_pgd=(1.0000, 0.0000); accs_test_pgd=(1.0000, 0.0000)\n",
      "lam=1000.0; accs_train=(1.0000, 0.0000); accs_test=(1.0000, 0.0000)\n",
      "lam=1000.0; accs_train_arad=(1.0000, 0.0000); accs_test_arad=(1.0000, 0.0000)\n",
      "lam=1000.0; accs_train_pgd=(1.0000, 0.0000); accs_test_pgd=(1.0000, 0.0000)\n",
      "CPU times: user 52.5 s, sys: 4.83 s, total: 57.3 s\n",
      "Wall time: 1min 15s\n"
     ]
    }
   ],
   "source": [
    "%%time\n",
    "RESULTS[\"reg-rbf-ridge\"] = run_experiment(\n",
    "    kernel=\"rbf\",\n",
    "    regularizer=\"ridge\",\n",
    "    lams=[0, 1e-6, 1e-3, 1, 1e3],\n",
    "    attack_eps=0.1,\n",
    "    pgd_step_size=0.1/10,\n",
    "    pgd_num_steps=20,\n",
    "    gamma=1\n",
    ")"
   ]
  },
  {
   "cell_type": "code",
   "execution_count": 12,
   "id": "fab21650",
   "metadata": {},
   "outputs": [
    {
     "data": {
      "image/png": "[encoded data removed]",
      "text/plain": [
       "<Figure size 432x288 with 1 Axes>"
      ]
     },
     "metadata": {
      "needs_background": "light"
     },
     "output_type": "display_data"
    }
   ],
   "source": [
    "plt.hist(RESULTS[\"reg-rbf-ridge\"][0][\"reg\"].predict(xs_train), density=True, bins=50, alpha=0.5);\n",
    "plt.hist(RESULTS[\"reg-rbf-ridge\"][0][\"reg\"].predict(xs_test), density=True, bins=50, alpha=0.5);"
   ]
  },
  {
   "cell_type": "markdown",
   "id": "c883ab3d",
   "metadata": {},
   "source": [
    "#### RKHS regularization"
   ]
  },
  {
   "cell_type": "code",
   "execution_count": 13,
   "id": "ac068605",
   "metadata": {},
   "outputs": [
    {
     "name": "stdout",
     "output_type": "stream",
     "text": [
      "lam=0; accs_train=(1.0000, 1.0000); accs_test=(1.0000, 0.0000)\n",
      "lam=0; accs_train_arad=(1.0000, 1.0000); accs_test_arad=(1.0000, 0.0000)\n",
      "lam=0; accs_train_pgd=(1.0000, 1.0000); accs_test_pgd=(0.9400, 0.0000)\n",
      "lam=1e-06; accs_train=(1.0000, 1.0000); accs_test=(1.0000, 0.0000)\n",
      "lam=1e-06; accs_train_arad=(1.0000, 1.0000); accs_test_arad=(1.0000, 0.0000)\n",
      "lam=1e-06; accs_train_pgd=(1.0000, 1.0000); accs_test_pgd=(0.9420, 0.0000)\n",
      "lam=0.001; accs_train=(1.0000, 0.0000); accs_test=(1.0000, 0.0000)\n",
      "lam=0.001; accs_train_arad=(1.0000, 0.0000); accs_test_arad=(1.0000, 0.0000)\n",
      "lam=0.001; accs_train_pgd=(1.0000, 0.0000); accs_test_pgd=(1.0000, 0.0000)\n",
      "lam=1; accs_train=(1.0000, 0.0000); accs_test=(1.0000, 0.0000)\n",
      "lam=1; accs_train_arad=(1.0000, 0.0000); accs_test_arad=(1.0000, 0.0000)\n",
      "lam=1; accs_train_pgd=(1.0000, 0.0000); accs_test_pgd=(1.0000, 0.0000)\n",
      "lam=1000.0; accs_train=(1.0000, 0.0000); accs_test=(1.0000, 0.0000)\n",
      "lam=1000.0; accs_train_arad=(1.0000, 0.0000); accs_test_arad=(1.0000, 0.0000)\n",
      "lam=1000.0; accs_train_pgd=(1.0000, 0.0000); accs_test_pgd=(1.0000, 0.0000)\n",
      "CPU times: user 1min 16s, sys: 17.5 s, total: 1min 34s\n",
      "Wall time: 2min 39s\n"
     ]
    }
   ],
   "source": [
    "%%time\n",
    "RESULTS[\"reg-rbf-rkhs\"] = run_experiment(\n",
    "    kernel=\"rbf\",\n",
    "    regularizer=\"rkhs\",\n",
    "    lams=[0, 1e-6, 1e-3, 1, 1e3],\n",
    "    attack_eps=0.1,\n",
    "    pgd_step_size=0.1/10,\n",
    "    pgd_num_steps=20,\n",
    "    gamma=1\n",
    ")"
   ]
  },
  {
   "cell_type": "code",
   "execution_count": 14,
   "id": "3e871d40",
   "metadata": {},
   "outputs": [
    {
     "data": {
      "image/png": "[encoded data removed]",
      "text/plain": [
       "<Figure size 432x288 with 1 Axes>"
      ]
     },
     "metadata": {
      "needs_background": "light"
     },
     "output_type": "display_data"
    }
   ],
   "source": [
    "plt.hist(RESULTS[\"reg-rbf-rkhs\"][0][\"reg\"].predict(xs_train), density=True, bins=50, alpha=0.5);\n",
    "plt.hist(RESULTS[\"reg-rbf-rkhs\"][0][\"reg\"].predict(xs_test), density=True, bins=50, alpha=0.5);"
   ]
  },
  {
   "cell_type": "markdown",
   "id": "3678e6fa",
   "metadata": {},
   "source": [
    "## Poly regression"
   ]
  },
  {
   "cell_type": "markdown",
   "id": "43ccb125",
   "metadata": {},
   "source": [
    "#### Ridge regularization"
   ]
  },
  {
   "cell_type": "code",
   "execution_count": 15,
   "id": "78dcdfde",
   "metadata": {},
   "outputs": [
    {
     "name": "stdout",
     "output_type": "stream",
     "text": [
      "lam=0; accs_train=(1.0000, 1.0000); accs_test=(0.9920, 0.0540)\n",
      "lam=0; accs_train_arad=(1.0000, 1.0000); accs_test_arad=(0.9860, 0.0340)\n",
      "lam=0; accs_train_pgd=(1.0000, 0.0000); accs_test_pgd=(0.1920, 0.0000)\n",
      "lam=1e-06; accs_train=(1.0000, 1.0000); accs_test=(0.9920, 0.0540)\n",
      "lam=1e-06; accs_train_arad=(1.0000, 1.0000); accs_test_arad=(0.9860, 0.0340)\n",
      "lam=1e-06; accs_train_pgd=(1.0000, 0.0000); accs_test_pgd=(0.1920, 0.0000)\n",
      "lam=0.001; accs_train=(1.0000, 0.9980); accs_test=(0.9860, 0.0640)\n",
      "lam=0.001; accs_train_arad=(1.0000, 0.8900); accs_test_arad=(0.9640, 0.0480)\n",
      "lam=0.001; accs_train_pgd=(0.5580, 0.0000); accs_test_pgd=(0.1340, 0.0000)\n",
      "lam=1; accs_train=(1.0000, 0.0000); accs_test=(1.0000, 0.0000)\n",
      "lam=1; accs_train_arad=(1.0000, 0.0000); accs_test_arad=(1.0000, 0.0000)\n",
      "lam=1; accs_train_pgd=(1.0000, 0.0000); accs_test_pgd=(1.0000, 0.0000)\n",
      "lam=1000.0; accs_train=(1.0000, 0.0000); accs_test=(1.0000, 0.0000)\n",
      "lam=1000.0; accs_train_arad=(1.0000, 0.0000); accs_test_arad=(1.0000, 0.0000)\n",
      "lam=1000.0; accs_train_pgd=(1.0000, 0.0000); accs_test_pgd=(1.0000, 0.0000)\n",
      "CPU times: user 23.5 s, sys: 5.11 s, total: 28.6 s\n",
      "Wall time: 47.9 s\n"
     ]
    }
   ],
   "source": [
    "%%time\n",
    "RESULTS[\"reg-poly2-ridge\"] = run_experiment(\n",
    "    kernel=\"poly\", degree=2,\n",
    "    regularizer=\"ridge\",\n",
    "    lams=[0, 1e-6, 1e-3, 1, 1e3],\n",
    "    attack_eps=0.1,\n",
    "    pgd_step_size=0.1/10,\n",
    "    pgd_num_steps=20,\n",
    "    gamma=1\n",
    ")"
   ]
  },
  {
   "cell_type": "code",
   "execution_count": 16,
   "id": "0f1d8307",
   "metadata": {},
   "outputs": [
    {
     "data": {
      "image/png": "[encoded data removed]",
      "text/plain": [
       "<Figure size 432x288 with 1 Axes>"
      ]
     },
     "metadata": {
      "needs_background": "light"
     },
     "output_type": "display_data"
    }
   ],
   "source": [
    "plt.hist(RESULTS[\"reg-poly2-ridge\"][0][\"reg\"].predict(xs_train), density=True, bins=50, alpha=0.5);\n",
    "plt.hist(RESULTS[\"reg-poly2-ridge\"][0][\"reg\"].predict(xs_test), density=True, bins=50, alpha=0.5);"
   ]
  },
  {
   "cell_type": "markdown",
   "id": "7779ca83",
   "metadata": {},
   "source": [
    "#### RKHS regularization"
   ]
  },
  {
   "cell_type": "code",
   "execution_count": 17,
   "id": "d04b01c0",
   "metadata": {},
   "outputs": [
    {
     "name": "stdout",
     "output_type": "stream",
     "text": [
      "lam=0; accs_train=(1.0000, 1.0000); accs_test=(0.9920, 0.0540)\n",
      "lam=0; accs_train_arad=(1.0000, 1.0000); accs_test_arad=(0.9860, 0.0340)\n",
      "lam=0; accs_train_pgd=(1.0000, 0.0000); accs_test_pgd=(0.1920, 0.0000)\n",
      "lam=1e-06; accs_train=(1.0000, 1.0000); accs_test=(0.9920, 0.0540)\n",
      "lam=1e-06; accs_train_arad=(1.0000, 1.0000); accs_test_arad=(0.9860, 0.0340)\n",
      "lam=1e-06; accs_train_pgd=(1.0000, 0.0000); accs_test_pgd=(0.1920, 0.0000)\n",
      "lam=0.001; accs_train=(1.0000, 0.8510); accs_test=(0.9960, 0.0400)\n",
      "lam=0.001; accs_train_arad=(1.0000, 0.5260); accs_test_arad=(0.9880, 0.0280)\n",
      "lam=0.001; accs_train_pgd=(0.7700, 0.0000); accs_test_pgd=(0.2320, 0.0000)\n",
      "lam=1; accs_train=(1.0000, 0.0000); accs_test=(1.0000, 0.0000)\n",
      "lam=1; accs_train_arad=(1.0000, 0.0000); accs_test_arad=(1.0000, 0.0000)\n",
      "lam=1; accs_train_pgd=(1.0000, 0.0000); accs_test_pgd=(1.0000, 0.0000)\n",
      "lam=1000.0; accs_train=(1.0000, 0.0000); accs_test=(1.0000, 0.0000)\n",
      "lam=1000.0; accs_train_arad=(1.0000, 0.0000); accs_test_arad=(1.0000, 0.0000)\n",
      "lam=1000.0; accs_train_pgd=(1.0000, 0.0000); accs_test_pgd=(1.0000, 0.0000)\n",
      "CPU times: user 42.5 s, sys: 15.2 s, total: 57.7 s\n",
      "Wall time: 1min 47s\n"
     ]
    }
   ],
   "source": [
    "%%time\n",
    "RESULTS[\"reg-poly2-rkhs\"] = run_experiment(\n",
    "    kernel=\"poly\", degree=2,\n",
    "    regularizer=\"rkhs\",\n",
    "    lams=[0, 1e-6, 1e-3, 1, 1e3],\n",
    "    attack_eps=0.1,\n",
    "    pgd_step_size=0.1/10,\n",
    "    pgd_num_steps=20,\n",
    "    gamma=1\n",
    ")"
   ]
  },
  {
   "cell_type": "code",
   "execution_count": 21,
   "id": "ddf035bb",
   "metadata": {},
   "outputs": [
    {
     "data": {
      "image/png": "[encoded data removed]",
      "text/plain": [
       "<Figure size 432x288 with 1 Axes>"
      ]
     },
     "metadata": {
      "needs_background": "light"
     },
     "output_type": "display_data"
    }
   ],
   "source": [
    "plt.hist(RESULTS[\"reg-poly2-rkhs\"][0][\"reg\"].predict(xs_train), density=True, bins=50, alpha=0.5);\n",
    "plt.hist(RESULTS[\"reg-poly2-rkhs\"][0][\"reg\"].predict(xs_test), density=True, bins=50, alpha=0.5);"
   ]
  },
  {
   "cell_type": "markdown",
   "id": "9abb6596",
   "metadata": {},
   "source": [
    "# Conclusions\n",
    "\n",
    "Learning a classifier by training on regression loss (i.e. MSE) is results in a very bad classifier."
   ]
  }
 ],
 "metadata": {
  "kernelspec": {
   "display_name": "Python 3",
   "language": "python",
   "name": "python3"
  },
  "language_info": {
   "codemirror_mode": {
    "name": "ipython",
    "version": 3
   },
   "file_extension": ".py",
   "mimetype": "text/x-python",
   "name": "python",
   "nbconvert_exporter": "python",
   "pygments_lexer": "ipython3",
   "version": "3.8.8"
  }
 },
 "nbformat": 4,
 "nbformat_minor": 5
}
