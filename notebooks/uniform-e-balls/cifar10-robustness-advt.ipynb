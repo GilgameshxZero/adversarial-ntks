{
 "metadata": {
  "language_info": {
   "codemirror_mode": {
    "name": "ipython",
    "version": 3
   },
   "file_extension": ".py",
   "mimetype": "text/x-python",
   "name": "python",
   "nbconvert_exporter": "python",
   "pygments_lexer": "ipython3",
   "version": "3.8.7-final"
  },
  "orig_nbformat": 2,
  "kernelspec": {
   "name": "python3",
   "display_name": "Python 3.8.7 64-bit ('.venv')",
   "metadata": {
    "interpreter": {
     "hash": "45b226da500ef3d617c173750e770d0c1b1d9364dd10609f8bdc57e7d9493332"
    }
   }
  }
 },
 "nbformat": 4,
 "nbformat_minor": 2,
 "cells": [
  {
   "cell_type": "code",
   "execution_count": 6,
   "metadata": {},
   "outputs": [],
   "source": [
    "!rm -rf .models\n",
    "!mkdir .models\n",
    "!wget -q -O .models/cifar_linf_8.pt \"https://www.dropbox.com/s/yhpp4yws7sgi6lj/cifar_linf_8.pt?dl=1\""
   ]
  },
  {
   "cell_type": "code",
   "execution_count": 1,
   "metadata": {},
   "outputs": [
    {
     "output_type": "stream",
     "name": "stderr",
     "text": [
      "f:\\users\\0\\main\\active\\erlija\\adversarial-ntks\\robustness\\robustness\\train.py:24: UserWarning: Could not import amp.\n  warnings.warn('Could not import amp.')\n"
     ]
    }
   ],
   "source": [
    "import os\n",
    "import pathlib\n",
    "import random\n",
    "import functools\n",
    "import copy\n",
    "import sys\n",
    "import pickle\n",
    "import tarfile\n",
    "import operator\n",
    "import math\n",
    "import requests\n",
    "import importlib\n",
    "os.environ[\"NOTEBOOK_MODE\"] = \"1\"\n",
    "\n",
    "import tqdm\n",
    "import cox\n",
    "\n",
    "import pandas as pd\n",
    "import matplotlib.pyplot as plt\n",
    "import numpy as np\n",
    "\n",
    "import sklearn\n",
    "from sklearn import preprocessing\n",
    "import scipy\n",
    "\n",
    "\n",
    "import tensorflow as tf\n",
    "from tensorflow import keras\n",
    "import tensorflow_datasets as tfds\n",
    "\n",
    "import torch\n",
    "\n",
    "import jax\n",
    "import jax.numpy as jnp\n",
    "jax.config.update(\"jax_enable_x64\", True)\n",
    "\n",
    "import flax\n",
    "import neural_tangents as nt\n",
    "import art\n",
    "import robustness\n",
    "from robustness import model_utils, datasets, train, defaults\n",
    "\n",
    "import vit_jax\n",
    "\n",
    "import adversarial_ntks as atk"
   ]
  },
  {
   "cell_type": "code",
   "execution_count": 2,
   "metadata": {
    "tags": []
   },
   "outputs": [],
   "source": [
    "CIFAR10 = {\n",
    "    \"dataset\": robustness.datasets.CIFAR(\".data\"),\n",
    "    \"workers\": 12,\n",
    "    \"arch\": \"resnet50\",\n",
    "    \"resume_path\": \".models/cifar_linf_8.pt\",\n",
    "    \"labels\": [\"airplane\", \"automobile\", \"bird\", \"cat\", \"deer\",\n",
    "        \"dog\", \"frog\", \"horse\", \"ship\", \"truck\"],\n",
    "    \n",
    "    \"train_subset\": 512,\n",
    "    \"test_subset\": 512,\n",
    "    \"batch_size\": 32,\n",
    "    \n",
    "    \"perturb_target\": 3,\n",
    "    \"perturb_eps\": 0.02,\n",
    "    \"attack_lr_scaling\": 2.5,\n",
    "    \"attack_steps\": 20,\n",
    "\n",
    "    \"display_samples\": 10,\n",
    "    \"display_sample_img_size\": 3}"
   ]
  },
  {
   "cell_type": "code",
   "execution_count": 3,
   "metadata": {
    "tags": []
   },
   "outputs": [
    {
     "output_type": "stream",
     "name": "stdout",
     "text": [
      "==> Preparing dataset cifar..\n",
      "Files already downloaded and verified\n",
      "Files already downloaded and verified\n"
     ]
    }
   ],
   "source": [
    "def exp_make_loaders(exp):\n",
    "    exp[\"train_loader\"], exp[\"val_loader\"] = exp[\"dataset\"].make_loaders(\n",
    "        batch_size=exp[\"batch_size\"],\n",
    "        subset=exp[\"train_subset\"],\n",
    "        test_subset=exp[\"test_subset\"],\n",
    "        workers=exp[\"workers\"])\n",
    "\n",
    "exp_make_loaders(CIFAR10)"
   ]
  },
  {
   "cell_type": "code",
   "execution_count": 4,
   "metadata": {},
   "outputs": [
    {
     "output_type": "stream",
     "name": "stdout",
     "text": [
      "=> loading checkpoint '.models/cifar_linf_8.pt'\n",
      "=> loaded checkpoint '.models/cifar_linf_8.pt' (epoch 190)\n"
     ]
    }
   ],
   "source": [
    "def exp_load_saved(exp):\n",
    "    exp[\"model\"], _ = model_utils.make_and_restore_model(\n",
    "        arch=exp[\"arch\"],\n",
    "        resume_path=exp[\"resume_path\"],\n",
    "        dataset=exp[\"dataset\"])\n",
    "    exp[\"model\"].eval()\n",
    "\n",
    "exp_load_saved(CIFAR10)"
   ]
  },
  {
   "cell_type": "code",
   "execution_count": 5,
   "metadata": {},
   "outputs": [
    {
     "output_type": "stream",
     "name": "stdout",
     "text": [
      "Logging in: c:\\Users\\0\\main\\active\\erlija\\adversarial-ntks\\notebooks\\uniform-e-balls\\.cox\\a0e658bf-6784-4715-a0d6-916aa1dcc135\n"
     ]
    },
    {
     "output_type": "display_data",
     "data": {
      "text/plain": "  0%|          | 0/16 [00:00<?, ?it/s]",
      "application/vnd.jupyter.widget-view+json": {
       "version_major": 2,
       "version_minor": 0,
       "model_id": "572ba090b18b424289822408cb22adc1"
      }
     },
     "metadata": {}
    },
    {
     "output_type": "display_data",
     "data": {
      "text/plain": "  0%|          | 0/16 [00:00<?, ?it/s]",
      "application/vnd.jupyter.widget-view+json": {
       "version_major": 2,
       "version_minor": 0,
       "model_id": "5aeb412ffe1a425084d3bef0b115d9db"
      }
     },
     "metadata": {}
    },
    {
     "output_type": "stream",
     "name": "stdout",
     "text": [
      "{'epoch': 0, 'nat_prec1': tensor(95.5078, device='cuda:0'), 'adv_prec1': tensor(0., device='cuda:0'), 'nat_loss': 0.19002599063242087, 'adv_loss': 23.244738817214966, 'train_prec1': nan, 'train_loss': nan, 'time': 195.49970149993896}\n"
     ]
    }
   ],
   "source": [
    "def exp_eval(exp):\n",
    "    exp.update({\n",
    "        \"eval_args\": defaults.check_and_fill_args(\n",
    "            args=cox.utils.Parameters({\n",
    "                \"adv_eval\": 1,\n",
    "                \"out_dir\": \".results\",\n",
    "                \"constraint\": \"inf\",\n",
    "                \"eps\": exp[\"perturb_eps\"],\n",
    "                \"attack_lr\": exp[\"attack_lr_scaling\"] * exp[\"perturb_eps\"] / exp[\"attack_steps\"],\n",
    "                \"attack_steps\": exp[\"attack_steps\"]}),\n",
    "            arg_list=defaults.PGD_ARGS,\n",
    "            ds_class=datasets.CIFAR),\n",
    "        \"cox\": cox.store.Store(\".cox\")})\n",
    "    exp[\"model\"].eval()\n",
    "    exp[\"eval_results\"] = train.eval_model(\n",
    "        model=exp[\"model\"],\n",
    "        args=exp[\"eval_args\"],\n",
    "        loader=exp[\"val_loader\"],\n",
    "        store=exp[\"cox\"])\n",
    "    print(exp[\"eval_results\"])\n",
    "\n",
    "exp_eval(CIFAR10)"
   ]
  },
  {
   "cell_type": "code",
   "execution_count": 5,
   "metadata": {
    "tags": []
   },
   "outputs": [
    {
     "output_type": "stream",
     "name": "stdout",
     "text": [
      "[0.   0.   0.   0.22 0.   0.   0.47 0.   0.   0.   0.   0.   0.   0.\n",
      " 0.01 0.   0.   0.   0.   0.   0.   0.   0.   0.   0.   0.   0.   0.\n",
      " 0.   0.   0.   0.  ]\n",
      "[0.01 0.   0.   1.   0.   1.   0.   0.   0.   0.   0.   0.   0.   0.\n",
      " 0.   0.   0.   0.   0.   0.   0.   1.   0.   0.   0.01 0.   0.   0.\n",
      " 0.   0.   0.   0.  ]\n",
      "[0.   0.01 0.   0.   0.   0.   0.   0.   0.   0.   0.   0.   0.   0.\n",
      " 0.   0.   0.   0.   0.   0.   0.03 0.   0.   0.   0.   0.   0.   0.\n",
      " 0.   0.   0.   0.  ]\n",
      "[0.   0.   0.   0.   0.   0.   0.   0.   0.   0.   0.   0.   0.   0.\n",
      " 0.   0.   0.   0.   0.   0.   0.   0.   0.   0.   0.   0.   0.54 0.\n",
      " 0.   0.   0.   0.06]\n",
      "[1.   0.   0.   0.   0.   0.   0.   0.01 0.   0.   0.   0.   0.4  0.\n",
      " 0.   0.   0.   0.2  0.   0.   0.   0.   0.   0.   0.06 0.   0.   1.\n",
      " 0.   0.   0.   0.  ]\n",
      "[1.   0.   0.   0.   0.   0.   0.   0.   0.   0.   0.   0.   0.   0.\n",
      " 0.   0.   0.   0.   0.   0.   0.   0.   0.   0.   0.   0.   0.   0.\n",
      " 0.02 0.   0.   0.  ]\n",
      "[0.   0.   0.   0.17 0.   0.   0.   0.   0.   0.34 0.   0.   0.   0.\n",
      " 0.   0.   0.   0.   0.97 0.81 0.   0.   1.   0.   0.   0.   0.   0.\n",
      " 0.   0.   0.84 0.  ]\n",
      "[0.   0.   0.   0.   0.   0.   0.   0.   0.   0.   0.   0.   0.   0.\n",
      " 0.   0.   0.   0.   0.   0.   0.   0.   0.   1.   0.   0.   0.   0.\n",
      " 0.15 0.   0.   0.  ]\n",
      "[0.   0.   0.   0.   0.   0.   0.   0.   0.   0.   0.   0.01 0.   0.\n",
      " 0.   0.   0.06 0.   0.   0.   0.01 0.23 0.   0.   0.   0.   0.   0.\n",
      " 0.   0.02 0.   0.  ]\n",
      "[0.   0.01 0.   0.   0.04 0.   0.   0.02 0.   0.   0.   0.   0.42 0.32\n",
      " 0.   0.   0.   0.   0.   0.   0.   0.   0.   0.   0.   0.   0.   0.\n",
      " 0.   0.   0.   0.  ]\n",
      "[0.   1.   0.   0.   0.   0.   0.   0.   0.   0.99 0.   0.   0.56 0.\n",
      " 0.   0.94 0.   0.   0.   0.02 0.   0.   0.   0.   0.   0.   0.   0.\n",
      " 0.   0.   0.   0.38]\n",
      "[0.   0.   0.   0.   0.   0.   0.   0.   0.   0.   0.   0.   0.   0.81\n",
      " 0.   0.   0.   0.   0.   0.   0.   0.   0.   0.   0.   0.   0.   0.\n",
      " 0.   0.   0.   1.  ]\n",
      "[0.   0.   0.   0.   0.   0.   0.   0.   0.   0.   0.   0.22 0.   0.\n",
      " 0.05 0.   0.   0.96 0.   0.   0.   0.   0.   0.   0.   0.   0.06 0.\n",
      " 0.   0.   0.   0.  ]\n",
      "[0.   0.   0.21 0.   0.   0.   0.   0.   0.   0.   0.   0.   0.   0.\n",
      " 0.   0.   0.   0.   0.   0.   0.   0.   0.   0.   0.   0.   0.   0.\n",
      " 0.   0.   0.   0.  ]\n",
      "[0.   0.   0.36 0.   0.   1.   0.   0.   0.   0.   0.   0.   0.   0.\n",
      " 0.   0.   0.   0.78 0.   0.07 0.   0.   0.   0.   0.   0.   0.   0.\n",
      " 0.   0.   0.   1.  ]\n",
      "[0.   0.   0.   0.   0.   0.   0.7  0.02 0.   0.   0.   0.   0.   0.\n",
      " 0.   0.   0.   0.   0.07 0.   0.   0.   0.   0.   0.   0.   0.   0.\n",
      " 0.   0.   0.   1.  ]\n"
     ]
    }
   ],
   "source": [
    "SAMPLES = 100\n",
    "\n",
    "CIFAR10[\"model\"].eval()\n",
    "hist_dat = []\n",
    "with torch.no_grad():\n",
    "    for batch in CIFAR10[\"val_loader\"]:\n",
    "        # print(len(batch), batch[0].shape, batch[1].shape)\n",
    "        # 2 (32, 3, 32, 32) (32,)\n",
    "\n",
    "        total_c_batch = np.zeros(batch[1].shape)\n",
    "        for sample in range(SAMPLES):\n",
    "            # Uniform perturbance.\n",
    "            in_cpu = batch[0] + \\\n",
    "                torch.rand(*batch[0].shape) * CIFAR10[\"perturb_eps\"] * 2 - \\\n",
    "                CIFAR10[\"perturb_eps\"]\n",
    "\n",
    "            out = CIFAR10[\"model\"](in_cpu.cuda())\n",
    "            out_cpu = (out[0].cpu(), out[1].cpu())\n",
    "            # print(pred[0].shape, pred[1].shape)\n",
    "            # (32, 10), (32, 3, 32, 32)\n",
    "            pred_classes = np.array([probs.argmax().item()\n",
    "                for probs in out_cpu[0]])\n",
    "            correctness = np.equal(pred_classes, np.array(batch[1].tolist()))\n",
    "            total_c_batch += correctness\n",
    "        hist_dat.append(1 - total_c_batch / SAMPLES)\n",
    "        print(1 - total_c_batch / SAMPLES)"
   ]
  },
  {
   "cell_type": "code",
   "execution_count": 6,
   "metadata": {},
   "outputs": [],
   "source": [
    "# print(hist_dat)\n",
    "data = np.concatenate(hist_dat)\n",
    "# print(data)"
   ]
  },
  {
   "cell_type": "code",
   "execution_count": 7,
   "metadata": {},
   "outputs": [
    {
     "output_type": "display_data",
     "data": {
      "text/plain": "<Figure size 432x288 with 1 Axes>",
      "image/svg+xml": "<?xml version=\"1.0\" encoding=\"utf-8\" standalone=\"no\"?>\r\n<!DOCTYPE svg PUBLIC \"-//W3C//DTD SVG 1.1//EN\"\r\n  \"http://www.w3.org/Graphics/SVG/1.1/DTD/svg11.dtd\">\r\n<!-- Created with matplotlib (https://matplotlib.org/) -->\r\n<svg height=\"280.8pt\" version=\"1.1\" viewBox=\"0 0 424.8 280.8\" width=\"424.8pt\" xmlns=\"http://www.w3.org/2000/svg\" xmlns:xlink=\"http://www.w3.org/1999/xlink\">\r\n <metadata>\r\n  <rdf:RDF xmlns:cc=\"http://creativecommons.org/ns#\" xmlns:dc=\"http://purl.org/dc/elements/1.1/\" xmlns:rdf=\"http://www.w3.org/1999/02/22-rdf-syntax-ns#\">\r\n   <cc:Work>\r\n    <dc:type rdf:resource=\"http://purl.org/dc/dcmitype/StillImage\"/>\r\n    <dc:date>2021-03-04T15:15:05.047480</dc:date>\r\n    <dc:format>image/svg+xml</dc:format>\r\n    <dc:creator>\r\n     <cc:Agent>\r\n      <dc:title>Matplotlib v3.3.4, https://matplotlib.org/</dc:title>\r\n     </cc:Agent>\r\n    </dc:creator>\r\n   </cc:Work>\r\n  </rdf:RDF>\r\n </metadata>\r\n <defs>\r\n  <style type=\"text/css\">*{stroke-linecap:butt;stroke-linejoin:round;}</style>\r\n </defs>\r\n <g id=\"figure_1\">\r\n  <g id=\"patch_1\">\r\n   <path d=\"M -0 280.8 \r\nL 424.8 280.8 \r\nL 424.8 0 \r\nL -0 0 \r\nz\r\n\" style=\"fill:none;\"/>\r\n  </g>\r\n  <g id=\"axes_1\">\r\n   <g id=\"patch_2\">\r\n    <path d=\"M 26.925 256.921875 \r\nL 417.6 256.921875 \r\nL 417.6 7.2 \r\nL 26.925 7.2 \r\nz\r\n\" style=\"fill:#ffffff;\"/>\r\n   </g>\r\n   <g id=\"patch_3\">\r\n    <path clip-path=\"url(#p655703e5fd)\" d=\"M 44.682955 256.921875 \r\nL 46.494991 256.921875 \r\nL 46.494991 33.955915 \r\nL 44.682955 33.955915 \r\nz\r\n\" style=\"fill:#1f77b4;\"/>\r\n   </g>\r\n   <g id=\"patch_4\">\r\n    <path clip-path=\"url(#p655703e5fd)\" d=\"M 80.923678 256.921875 \r\nL 82.735714 256.921875 \r\nL 82.735714 256.921875 \r\nL 80.923678 256.921875 \r\nz\r\n\" style=\"fill:#1f77b4;\"/>\r\n   </g>\r\n   <g id=\"patch_5\">\r\n    <path clip-path=\"url(#p655703e5fd)\" d=\"M 117.164402 256.921875 \r\nL 118.976438 256.921875 \r\nL 118.976438 249.489676 \r\nL 117.164402 249.489676 \r\nz\r\n\" style=\"fill:#1f77b4;\"/>\r\n   </g>\r\n   <g id=\"patch_6\">\r\n    <path clip-path=\"url(#p655703e5fd)\" d=\"M 153.405125 256.921875 \r\nL 155.217161 256.921875 \r\nL 155.217161 256.921875 \r\nL 153.405125 256.921875 \r\nz\r\n\" style=\"fill:#1f77b4;\"/>\r\n   </g>\r\n   <g id=\"patch_7\">\r\n    <path clip-path=\"url(#p655703e5fd)\" d=\"M 189.645849 256.921875 \r\nL 191.457885 256.921875 \r\nL 191.457885 249.489676 \r\nL 189.645849 249.489676 \r\nz\r\n\" style=\"fill:#1f77b4;\"/>\r\n   </g>\r\n   <g id=\"patch_8\">\r\n    <path clip-path=\"url(#p655703e5fd)\" d=\"M 225.886572 256.921875 \r\nL 227.698609 256.921875 \r\nL 227.698609 256.921875 \r\nL 225.886572 256.921875 \r\nz\r\n\" style=\"fill:#1f77b4;\"/>\r\n   </g>\r\n   <g id=\"patch_9\">\r\n    <path clip-path=\"url(#p655703e5fd)\" d=\"M 262.127296 256.921875 \r\nL 263.939332 256.921875 \r\nL 263.939332 256.921875 \r\nL 262.127296 256.921875 \r\nz\r\n\" style=\"fill:#1f77b4;\"/>\r\n   </g>\r\n   <g id=\"patch_10\">\r\n    <path clip-path=\"url(#p655703e5fd)\" d=\"M 298.368019 256.921875 \r\nL 300.180056 256.921875 \r\nL 300.180056 256.921875 \r\nL 298.368019 256.921875 \r\nz\r\n\" style=\"fill:#1f77b4;\"/>\r\n   </g>\r\n   <g id=\"patch_11\">\r\n    <path clip-path=\"url(#p655703e5fd)\" d=\"M 334.608743 256.921875 \r\nL 336.420779 256.921875 \r\nL 336.420779 256.921875 \r\nL 334.608743 256.921875 \r\nz\r\n\" style=\"fill:#1f77b4;\"/>\r\n   </g>\r\n   <g id=\"patch_12\">\r\n    <path clip-path=\"url(#p655703e5fd)\" d=\"M 370.849467 256.921875 \r\nL 372.661503 256.921875 \r\nL 372.661503 256.921875 \r\nL 370.849467 256.921875 \r\nz\r\n\" style=\"fill:#1f77b4;\"/>\r\n   </g>\r\n   <g id=\"patch_13\">\r\n    <path clip-path=\"url(#p655703e5fd)\" d=\"M 46.494991 256.921875 \r\nL 48.307027 256.921875 \r\nL 48.307027 41.388114 \r\nL 46.494991 41.388114 \r\nz\r\n\" style=\"fill:#ff7f0e;\"/>\r\n   </g>\r\n   <g id=\"patch_14\">\r\n    <path clip-path=\"url(#p655703e5fd)\" d=\"M 82.735714 256.921875 \r\nL 84.54775 256.921875 \r\nL 84.54775 256.921875 \r\nL 82.735714 256.921875 \r\nz\r\n\" style=\"fill:#ff7f0e;\"/>\r\n   </g>\r\n   <g id=\"patch_15\">\r\n    <path clip-path=\"url(#p655703e5fd)\" d=\"M 118.976438 256.921875 \r\nL 120.788474 256.921875 \r\nL 120.788474 256.921875 \r\nL 118.976438 256.921875 \r\nz\r\n\" style=\"fill:#ff7f0e;\"/>\r\n   </g>\r\n   <g id=\"patch_16\">\r\n    <path clip-path=\"url(#p655703e5fd)\" d=\"M 155.217161 256.921875 \r\nL 157.029198 256.921875 \r\nL 157.029198 256.921875 \r\nL 155.217161 256.921875 \r\nz\r\n\" style=\"fill:#ff7f0e;\"/>\r\n   </g>\r\n   <g id=\"patch_17\">\r\n    <path clip-path=\"url(#p655703e5fd)\" d=\"M 191.457885 256.921875 \r\nL 193.269921 256.921875 \r\nL 193.269921 256.921875 \r\nL 191.457885 256.921875 \r\nz\r\n\" style=\"fill:#ff7f0e;\"/>\r\n   </g>\r\n   <g id=\"patch_18\">\r\n    <path clip-path=\"url(#p655703e5fd)\" d=\"M 227.698609 256.921875 \r\nL 229.510645 256.921875 \r\nL 229.510645 256.921875 \r\nL 227.698609 256.921875 \r\nz\r\n\" style=\"fill:#ff7f0e;\"/>\r\n   </g>\r\n   <g id=\"patch_19\">\r\n    <path clip-path=\"url(#p655703e5fd)\" d=\"M 263.939332 256.921875 \r\nL 265.751368 256.921875 \r\nL 265.751368 256.921875 \r\nL 263.939332 256.921875 \r\nz\r\n\" style=\"fill:#ff7f0e;\"/>\r\n   </g>\r\n   <g id=\"patch_20\">\r\n    <path clip-path=\"url(#p655703e5fd)\" d=\"M 300.180056 256.921875 \r\nL 301.992092 256.921875 \r\nL 301.992092 256.921875 \r\nL 300.180056 256.921875 \r\nz\r\n\" style=\"fill:#ff7f0e;\"/>\r\n   </g>\r\n   <g id=\"patch_21\">\r\n    <path clip-path=\"url(#p655703e5fd)\" d=\"M 336.420779 256.921875 \r\nL 338.232815 256.921875 \r\nL 338.232815 256.921875 \r\nL 336.420779 256.921875 \r\nz\r\n\" style=\"fill:#ff7f0e;\"/>\r\n   </g>\r\n   <g id=\"patch_22\">\r\n    <path clip-path=\"url(#p655703e5fd)\" d=\"M 372.661503 256.921875 \r\nL 374.473539 256.921875 \r\nL 374.473539 234.625279 \r\nL 372.661503 234.625279 \r\nz\r\n\" style=\"fill:#ff7f0e;\"/>\r\n   </g>\r\n   <g id=\"patch_23\">\r\n    <path clip-path=\"url(#p655703e5fd)\" d=\"M 48.307027 256.921875 \r\nL 50.119063 256.921875 \r\nL 50.119063 19.091518 \r\nL 48.307027 19.091518 \r\nz\r\n\" style=\"fill:#2ca02c;\"/>\r\n   </g>\r\n   <g id=\"patch_24\">\r\n    <path clip-path=\"url(#p655703e5fd)\" d=\"M 84.54775 256.921875 \r\nL 86.359787 256.921875 \r\nL 86.359787 256.921875 \r\nL 84.54775 256.921875 \r\nz\r\n\" style=\"fill:#2ca02c;\"/>\r\n   </g>\r\n   <g id=\"patch_25\">\r\n    <path clip-path=\"url(#p655703e5fd)\" d=\"M 120.788474 256.921875 \r\nL 122.60051 256.921875 \r\nL 122.60051 256.921875 \r\nL 120.788474 256.921875 \r\nz\r\n\" style=\"fill:#2ca02c;\"/>\r\n   </g>\r\n   <g id=\"patch_26\">\r\n    <path clip-path=\"url(#p655703e5fd)\" d=\"M 157.029198 256.921875 \r\nL 158.841234 256.921875 \r\nL 158.841234 256.921875 \r\nL 157.029198 256.921875 \r\nz\r\n\" style=\"fill:#2ca02c;\"/>\r\n   </g>\r\n   <g id=\"patch_27\">\r\n    <path clip-path=\"url(#p655703e5fd)\" d=\"M 193.269921 256.921875 \r\nL 195.081957 256.921875 \r\nL 195.081957 256.921875 \r\nL 193.269921 256.921875 \r\nz\r\n\" style=\"fill:#2ca02c;\"/>\r\n   </g>\r\n   <g id=\"patch_28\">\r\n    <path clip-path=\"url(#p655703e5fd)\" d=\"M 229.510645 256.921875 \r\nL 231.322681 256.921875 \r\nL 231.322681 256.921875 \r\nL 229.510645 256.921875 \r\nz\r\n\" style=\"fill:#2ca02c;\"/>\r\n   </g>\r\n   <g id=\"patch_29\">\r\n    <path clip-path=\"url(#p655703e5fd)\" d=\"M 265.751368 256.921875 \r\nL 267.563404 256.921875 \r\nL 267.563404 256.921875 \r\nL 265.751368 256.921875 \r\nz\r\n\" style=\"fill:#2ca02c;\"/>\r\n   </g>\r\n   <g id=\"patch_30\">\r\n    <path clip-path=\"url(#p655703e5fd)\" d=\"M 301.992092 256.921875 \r\nL 303.804128 256.921875 \r\nL 303.804128 256.921875 \r\nL 301.992092 256.921875 \r\nz\r\n\" style=\"fill:#2ca02c;\"/>\r\n   </g>\r\n   <g id=\"patch_31\">\r\n    <path clip-path=\"url(#p655703e5fd)\" d=\"M 338.232815 256.921875 \r\nL 340.044852 256.921875 \r\nL 340.044852 256.921875 \r\nL 338.232815 256.921875 \r\nz\r\n\" style=\"fill:#2ca02c;\"/>\r\n   </g>\r\n   <g id=\"patch_32\">\r\n    <path clip-path=\"url(#p655703e5fd)\" d=\"M 374.473539 256.921875 \r\nL 376.285575 256.921875 \r\nL 376.285575 256.921875 \r\nL 374.473539 256.921875 \r\nz\r\n\" style=\"fill:#2ca02c;\"/>\r\n   </g>\r\n   <g id=\"patch_33\">\r\n    <path clip-path=\"url(#p655703e5fd)\" d=\"M 50.119063 256.921875 \r\nL 51.931099 256.921875 \r\nL 51.931099 26.523717 \r\nL 50.119063 26.523717 \r\nz\r\n\" style=\"fill:#d62728;\"/>\r\n   </g>\r\n   <g id=\"patch_34\">\r\n    <path clip-path=\"url(#p655703e5fd)\" d=\"M 86.359787 256.921875 \r\nL 88.171823 256.921875 \r\nL 88.171823 256.921875 \r\nL 86.359787 256.921875 \r\nz\r\n\" style=\"fill:#d62728;\"/>\r\n   </g>\r\n   <g id=\"patch_35\">\r\n    <path clip-path=\"url(#p655703e5fd)\" d=\"M 122.60051 256.921875 \r\nL 124.412546 256.921875 \r\nL 124.412546 256.921875 \r\nL 122.60051 256.921875 \r\nz\r\n\" style=\"fill:#d62728;\"/>\r\n   </g>\r\n   <g id=\"patch_36\">\r\n    <path clip-path=\"url(#p655703e5fd)\" d=\"M 158.841234 256.921875 \r\nL 160.65327 256.921875 \r\nL 160.65327 256.921875 \r\nL 158.841234 256.921875 \r\nz\r\n\" style=\"fill:#d62728;\"/>\r\n   </g>\r\n   <g id=\"patch_37\">\r\n    <path clip-path=\"url(#p655703e5fd)\" d=\"M 195.081957 256.921875 \r\nL 196.893994 256.921875 \r\nL 196.893994 256.921875 \r\nL 195.081957 256.921875 \r\nz\r\n\" style=\"fill:#d62728;\"/>\r\n   </g>\r\n   <g id=\"patch_38\">\r\n    <path clip-path=\"url(#p655703e5fd)\" d=\"M 231.322681 256.921875 \r\nL 233.134717 256.921875 \r\nL 233.134717 249.489676 \r\nL 231.322681 249.489676 \r\nz\r\n\" style=\"fill:#d62728;\"/>\r\n   </g>\r\n   <g id=\"patch_39\">\r\n    <path clip-path=\"url(#p655703e5fd)\" d=\"M 267.563404 256.921875 \r\nL 269.375441 256.921875 \r\nL 269.375441 256.921875 \r\nL 267.563404 256.921875 \r\nz\r\n\" style=\"fill:#d62728;\"/>\r\n   </g>\r\n   <g id=\"patch_40\">\r\n    <path clip-path=\"url(#p655703e5fd)\" d=\"M 303.804128 256.921875 \r\nL 305.616164 256.921875 \r\nL 305.616164 256.921875 \r\nL 303.804128 256.921875 \r\nz\r\n\" style=\"fill:#d62728;\"/>\r\n   </g>\r\n   <g id=\"patch_41\">\r\n    <path clip-path=\"url(#p655703e5fd)\" d=\"M 340.044852 256.921875 \r\nL 341.856888 256.921875 \r\nL 341.856888 256.921875 \r\nL 340.044852 256.921875 \r\nz\r\n\" style=\"fill:#d62728;\"/>\r\n   </g>\r\n   <g id=\"patch_42\">\r\n    <path clip-path=\"url(#p655703e5fd)\" d=\"M 376.285575 256.921875 \r\nL 378.097611 256.921875 \r\nL 378.097611 256.921875 \r\nL 376.285575 256.921875 \r\nz\r\n\" style=\"fill:#d62728;\"/>\r\n   </g>\r\n   <g id=\"patch_43\">\r\n    <path clip-path=\"url(#p655703e5fd)\" d=\"M 51.931099 256.921875 \r\nL 53.743135 256.921875 \r\nL 53.743135 48.820312 \r\nL 51.931099 48.820312 \r\nz\r\n\" style=\"fill:#9467bd;\"/>\r\n   </g>\r\n   <g id=\"patch_44\">\r\n    <path clip-path=\"url(#p655703e5fd)\" d=\"M 88.171823 256.921875 \r\nL 89.983859 256.921875 \r\nL 89.983859 249.489676 \r\nL 88.171823 249.489676 \r\nz\r\n\" style=\"fill:#9467bd;\"/>\r\n   </g>\r\n   <g id=\"patch_45\">\r\n    <path clip-path=\"url(#p655703e5fd)\" d=\"M 124.412546 256.921875 \r\nL 126.224583 256.921875 \r\nL 126.224583 256.921875 \r\nL 124.412546 256.921875 \r\nz\r\n\" style=\"fill:#9467bd;\"/>\r\n   </g>\r\n   <g id=\"patch_46\">\r\n    <path clip-path=\"url(#p655703e5fd)\" d=\"M 160.65327 256.921875 \r\nL 162.465306 256.921875 \r\nL 162.465306 256.921875 \r\nL 160.65327 256.921875 \r\nz\r\n\" style=\"fill:#9467bd;\"/>\r\n   </g>\r\n   <g id=\"patch_47\">\r\n    <path clip-path=\"url(#p655703e5fd)\" d=\"M 196.893994 256.921875 \r\nL 198.70603 256.921875 \r\nL 198.70603 249.489676 \r\nL 196.893994 249.489676 \r\nz\r\n\" style=\"fill:#9467bd;\"/>\r\n   </g>\r\n   <g id=\"patch_48\">\r\n    <path clip-path=\"url(#p655703e5fd)\" d=\"M 233.134717 256.921875 \r\nL 234.946753 256.921875 \r\nL 234.946753 256.921875 \r\nL 233.134717 256.921875 \r\nz\r\n\" style=\"fill:#9467bd;\"/>\r\n   </g>\r\n   <g id=\"patch_49\">\r\n    <path clip-path=\"url(#p655703e5fd)\" d=\"M 269.375441 256.921875 \r\nL 271.187477 256.921875 \r\nL 271.187477 256.921875 \r\nL 269.375441 256.921875 \r\nz\r\n\" style=\"fill:#9467bd;\"/>\r\n   </g>\r\n   <g id=\"patch_50\">\r\n    <path clip-path=\"url(#p655703e5fd)\" d=\"M 305.616164 256.921875 \r\nL 307.4282 256.921875 \r\nL 307.4282 256.921875 \r\nL 305.616164 256.921875 \r\nz\r\n\" style=\"fill:#9467bd;\"/>\r\n   </g>\r\n   <g id=\"patch_51\">\r\n    <path clip-path=\"url(#p655703e5fd)\" d=\"M 341.856888 256.921875 \r\nL 343.668924 256.921875 \r\nL 343.668924 256.921875 \r\nL 341.856888 256.921875 \r\nz\r\n\" style=\"fill:#9467bd;\"/>\r\n   </g>\r\n   <g id=\"patch_52\">\r\n    <path clip-path=\"url(#p655703e5fd)\" d=\"M 378.097611 256.921875 \r\nL 379.909647 256.921875 \r\nL 379.909647 242.057478 \r\nL 378.097611 242.057478 \r\nz\r\n\" style=\"fill:#9467bd;\"/>\r\n   </g>\r\n   <g id=\"patch_53\">\r\n    <path clip-path=\"url(#p655703e5fd)\" d=\"M 53.743135 256.921875 \r\nL 55.555172 256.921875 \r\nL 55.555172 26.523717 \r\nL 53.743135 26.523717 \r\nz\r\n\" style=\"fill:#8c564b;\"/>\r\n   </g>\r\n   <g id=\"patch_54\">\r\n    <path clip-path=\"url(#p655703e5fd)\" d=\"M 89.983859 256.921875 \r\nL 91.795895 256.921875 \r\nL 91.795895 256.921875 \r\nL 89.983859 256.921875 \r\nz\r\n\" style=\"fill:#8c564b;\"/>\r\n   </g>\r\n   <g id=\"patch_55\">\r\n    <path clip-path=\"url(#p655703e5fd)\" d=\"M 126.224583 256.921875 \r\nL 128.036619 256.921875 \r\nL 128.036619 256.921875 \r\nL 126.224583 256.921875 \r\nz\r\n\" style=\"fill:#8c564b;\"/>\r\n   </g>\r\n   <g id=\"patch_56\">\r\n    <path clip-path=\"url(#p655703e5fd)\" d=\"M 162.465306 256.921875 \r\nL 164.277342 256.921875 \r\nL 164.277342 256.921875 \r\nL 162.465306 256.921875 \r\nz\r\n\" style=\"fill:#8c564b;\"/>\r\n   </g>\r\n   <g id=\"patch_57\">\r\n    <path clip-path=\"url(#p655703e5fd)\" d=\"M 198.70603 256.921875 \r\nL 200.518066 256.921875 \r\nL 200.518066 256.921875 \r\nL 198.70603 256.921875 \r\nz\r\n\" style=\"fill:#8c564b;\"/>\r\n   </g>\r\n   <g id=\"patch_58\">\r\n    <path clip-path=\"url(#p655703e5fd)\" d=\"M 234.946753 256.921875 \r\nL 236.758789 256.921875 \r\nL 236.758789 256.921875 \r\nL 234.946753 256.921875 \r\nz\r\n\" style=\"fill:#8c564b;\"/>\r\n   </g>\r\n   <g id=\"patch_59\">\r\n    <path clip-path=\"url(#p655703e5fd)\" d=\"M 271.187477 256.921875 \r\nL 272.999513 256.921875 \r\nL 272.999513 256.921875 \r\nL 271.187477 256.921875 \r\nz\r\n\" style=\"fill:#8c564b;\"/>\r\n   </g>\r\n   <g id=\"patch_60\">\r\n    <path clip-path=\"url(#p655703e5fd)\" d=\"M 307.4282 256.921875 \r\nL 309.240237 256.921875 \r\nL 309.240237 256.921875 \r\nL 307.4282 256.921875 \r\nz\r\n\" style=\"fill:#8c564b;\"/>\r\n   </g>\r\n   <g id=\"patch_61\">\r\n    <path clip-path=\"url(#p655703e5fd)\" d=\"M 343.668924 256.921875 \r\nL 345.48096 256.921875 \r\nL 345.48096 256.921875 \r\nL 343.668924 256.921875 \r\nz\r\n\" style=\"fill:#8c564b;\"/>\r\n   </g>\r\n   <g id=\"patch_62\">\r\n    <path clip-path=\"url(#p655703e5fd)\" d=\"M 379.909647 256.921875 \r\nL 381.721684 256.921875 \r\nL 381.721684 249.489676 \r\nL 379.909647 249.489676 \r\nz\r\n\" style=\"fill:#8c564b;\"/>\r\n   </g>\r\n   <g id=\"patch_63\">\r\n    <path clip-path=\"url(#p655703e5fd)\" d=\"M 55.555172 256.921875 \r\nL 57.367208 256.921875 \r\nL 57.367208 63.68471 \r\nL 55.555172 63.68471 \r\nz\r\n\" style=\"fill:#e377c2;\"/>\r\n   </g>\r\n   <g id=\"patch_64\">\r\n    <path clip-path=\"url(#p655703e5fd)\" d=\"M 91.795895 256.921875 \r\nL 93.607931 256.921875 \r\nL 93.607931 249.489676 \r\nL 91.795895 249.489676 \r\nz\r\n\" style=\"fill:#e377c2;\"/>\r\n   </g>\r\n   <g id=\"patch_65\">\r\n    <path clip-path=\"url(#p655703e5fd)\" d=\"M 128.036619 256.921875 \r\nL 129.848655 256.921875 \r\nL 129.848655 256.921875 \r\nL 128.036619 256.921875 \r\nz\r\n\" style=\"fill:#e377c2;\"/>\r\n   </g>\r\n   <g id=\"patch_66\">\r\n    <path clip-path=\"url(#p655703e5fd)\" d=\"M 164.277342 256.921875 \r\nL 166.089378 256.921875 \r\nL 166.089378 249.489676 \r\nL 164.277342 249.489676 \r\nz\r\n\" style=\"fill:#e377c2;\"/>\r\n   </g>\r\n   <g id=\"patch_67\">\r\n    <path clip-path=\"url(#p655703e5fd)\" d=\"M 200.518066 256.921875 \r\nL 202.330102 256.921875 \r\nL 202.330102 256.921875 \r\nL 200.518066 256.921875 \r\nz\r\n\" style=\"fill:#e377c2;\"/>\r\n   </g>\r\n   <g id=\"patch_68\">\r\n    <path clip-path=\"url(#p655703e5fd)\" d=\"M 236.758789 256.921875 \r\nL 238.570826 256.921875 \r\nL 238.570826 256.921875 \r\nL 236.758789 256.921875 \r\nz\r\n\" style=\"fill:#e377c2;\"/>\r\n   </g>\r\n   <g id=\"patch_69\">\r\n    <path clip-path=\"url(#p655703e5fd)\" d=\"M 272.999513 256.921875 \r\nL 274.811549 256.921875 \r\nL 274.811549 256.921875 \r\nL 272.999513 256.921875 \r\nz\r\n\" style=\"fill:#e377c2;\"/>\r\n   </g>\r\n   <g id=\"patch_70\">\r\n    <path clip-path=\"url(#p655703e5fd)\" d=\"M 309.240237 256.921875 \r\nL 311.052273 256.921875 \r\nL 311.052273 256.921875 \r\nL 309.240237 256.921875 \r\nz\r\n\" style=\"fill:#e377c2;\"/>\r\n   </g>\r\n   <g id=\"patch_71\">\r\n    <path clip-path=\"url(#p655703e5fd)\" d=\"M 345.48096 256.921875 \r\nL 347.292996 256.921875 \r\nL 347.292996 242.057478 \r\nL 345.48096 242.057478 \r\nz\r\n\" style=\"fill:#e377c2;\"/>\r\n   </g>\r\n   <g id=\"patch_72\">\r\n    <path clip-path=\"url(#p655703e5fd)\" d=\"M 381.721684 256.921875 \r\nL 383.53372 256.921875 \r\nL 383.53372 242.057478 \r\nL 381.721684 242.057478 \r\nz\r\n\" style=\"fill:#e377c2;\"/>\r\n   </g>\r\n   <g id=\"patch_73\">\r\n    <path clip-path=\"url(#p655703e5fd)\" d=\"M 57.367208 256.921875 \r\nL 59.179244 256.921875 \r\nL 59.179244 33.955915 \r\nL 57.367208 33.955915 \r\nz\r\n\" style=\"fill:#7f7f7f;\"/>\r\n   </g>\r\n   <g id=\"patch_74\">\r\n    <path clip-path=\"url(#p655703e5fd)\" d=\"M 93.607931 256.921875 \r\nL 95.419968 256.921875 \r\nL 95.419968 249.489676 \r\nL 93.607931 249.489676 \r\nz\r\n\" style=\"fill:#7f7f7f;\"/>\r\n   </g>\r\n   <g id=\"patch_75\">\r\n    <path clip-path=\"url(#p655703e5fd)\" d=\"M 129.848655 256.921875 \r\nL 131.660691 256.921875 \r\nL 131.660691 256.921875 \r\nL 129.848655 256.921875 \r\nz\r\n\" style=\"fill:#7f7f7f;\"/>\r\n   </g>\r\n   <g id=\"patch_76\">\r\n    <path clip-path=\"url(#p655703e5fd)\" d=\"M 166.089378 256.921875 \r\nL 167.901415 256.921875 \r\nL 167.901415 256.921875 \r\nL 166.089378 256.921875 \r\nz\r\n\" style=\"fill:#7f7f7f;\"/>\r\n   </g>\r\n   <g id=\"patch_77\">\r\n    <path clip-path=\"url(#p655703e5fd)\" d=\"M 202.330102 256.921875 \r\nL 204.142138 256.921875 \r\nL 204.142138 256.921875 \r\nL 202.330102 256.921875 \r\nz\r\n\" style=\"fill:#7f7f7f;\"/>\r\n   </g>\r\n   <g id=\"patch_78\">\r\n    <path clip-path=\"url(#p655703e5fd)\" d=\"M 238.570826 256.921875 \r\nL 240.382862 256.921875 \r\nL 240.382862 256.921875 \r\nL 238.570826 256.921875 \r\nz\r\n\" style=\"fill:#7f7f7f;\"/>\r\n   </g>\r\n   <g id=\"patch_79\">\r\n    <path clip-path=\"url(#p655703e5fd)\" d=\"M 274.811549 256.921875 \r\nL 276.623585 256.921875 \r\nL 276.623585 256.921875 \r\nL 274.811549 256.921875 \r\nz\r\n\" style=\"fill:#7f7f7f;\"/>\r\n   </g>\r\n   <g id=\"patch_80\">\r\n    <path clip-path=\"url(#p655703e5fd)\" d=\"M 311.052273 256.921875 \r\nL 312.864309 256.921875 \r\nL 312.864309 256.921875 \r\nL 311.052273 256.921875 \r\nz\r\n\" style=\"fill:#7f7f7f;\"/>\r\n   </g>\r\n   <g id=\"patch_81\">\r\n    <path clip-path=\"url(#p655703e5fd)\" d=\"M 347.292996 256.921875 \r\nL 349.105032 256.921875 \r\nL 349.105032 256.921875 \r\nL 347.292996 256.921875 \r\nz\r\n\" style=\"fill:#7f7f7f;\"/>\r\n   </g>\r\n   <g id=\"patch_82\">\r\n    <path clip-path=\"url(#p655703e5fd)\" d=\"M 383.53372 256.921875 \r\nL 385.345756 256.921875 \r\nL 385.345756 249.489676 \r\nL 383.53372 249.489676 \r\nz\r\n\" style=\"fill:#7f7f7f;\"/>\r\n   </g>\r\n   <g id=\"patch_83\">\r\n    <path clip-path=\"url(#p655703e5fd)\" d=\"M 59.179244 256.921875 \r\nL 60.99128 256.921875 \r\nL 60.99128 26.523717 \r\nL 59.179244 26.523717 \r\nz\r\n\" style=\"fill:#bcbd22;\"/>\r\n   </g>\r\n   <g id=\"patch_84\">\r\n    <path clip-path=\"url(#p655703e5fd)\" d=\"M 95.419968 256.921875 \r\nL 97.232004 256.921875 \r\nL 97.232004 256.921875 \r\nL 95.419968 256.921875 \r\nz\r\n\" style=\"fill:#bcbd22;\"/>\r\n   </g>\r\n   <g id=\"patch_85\">\r\n    <path clip-path=\"url(#p655703e5fd)\" d=\"M 131.660691 256.921875 \r\nL 133.472727 256.921875 \r\nL 133.472727 249.489676 \r\nL 131.660691 249.489676 \r\nz\r\n\" style=\"fill:#bcbd22;\"/>\r\n   </g>\r\n   <g id=\"patch_86\">\r\n    <path clip-path=\"url(#p655703e5fd)\" d=\"M 167.901415 256.921875 \r\nL 169.713451 256.921875 \r\nL 169.713451 256.921875 \r\nL 167.901415 256.921875 \r\nz\r\n\" style=\"fill:#bcbd22;\"/>\r\n   </g>\r\n   <g id=\"patch_87\">\r\n    <path clip-path=\"url(#p655703e5fd)\" d=\"M 204.142138 256.921875 \r\nL 205.954174 256.921875 \r\nL 205.954174 256.921875 \r\nL 204.142138 256.921875 \r\nz\r\n\" style=\"fill:#bcbd22;\"/>\r\n   </g>\r\n   <g id=\"patch_88\">\r\n    <path clip-path=\"url(#p655703e5fd)\" d=\"M 240.382862 256.921875 \r\nL 242.194898 256.921875 \r\nL 242.194898 256.921875 \r\nL 240.382862 256.921875 \r\nz\r\n\" style=\"fill:#bcbd22;\"/>\r\n   </g>\r\n   <g id=\"patch_89\">\r\n    <path clip-path=\"url(#p655703e5fd)\" d=\"M 276.623585 256.921875 \r\nL 278.435622 256.921875 \r\nL 278.435622 256.921875 \r\nL 276.623585 256.921875 \r\nz\r\n\" style=\"fill:#bcbd22;\"/>\r\n   </g>\r\n   <g id=\"patch_90\">\r\n    <path clip-path=\"url(#p655703e5fd)\" d=\"M 312.864309 256.921875 \r\nL 314.676345 256.921875 \r\nL 314.676345 256.921875 \r\nL 312.864309 256.921875 \r\nz\r\n\" style=\"fill:#bcbd22;\"/>\r\n   </g>\r\n   <g id=\"patch_91\">\r\n    <path clip-path=\"url(#p655703e5fd)\" d=\"M 349.105032 256.921875 \r\nL 350.917069 256.921875 \r\nL 350.917069 256.921875 \r\nL 349.105032 256.921875 \r\nz\r\n\" style=\"fill:#bcbd22;\"/>\r\n   </g>\r\n   <g id=\"patch_92\">\r\n    <path clip-path=\"url(#p655703e5fd)\" d=\"M 385.345756 256.921875 \r\nL 387.157792 256.921875 \r\nL 387.157792 256.921875 \r\nL 385.345756 256.921875 \r\nz\r\n\" style=\"fill:#bcbd22;\"/>\r\n   </g>\r\n   <g id=\"patch_93\">\r\n    <path clip-path=\"url(#p655703e5fd)\" d=\"M 60.99128 256.921875 \r\nL 62.803316 256.921875 \r\nL 62.803316 33.955915 \r\nL 60.99128 33.955915 \r\nz\r\n\" style=\"fill:#17becf;\"/>\r\n   </g>\r\n   <g id=\"patch_94\">\r\n    <path clip-path=\"url(#p655703e5fd)\" d=\"M 97.232004 256.921875 \r\nL 99.04404 256.921875 \r\nL 99.04404 256.921875 \r\nL 97.232004 256.921875 \r\nz\r\n\" style=\"fill:#17becf;\"/>\r\n   </g>\r\n   <g id=\"patch_95\">\r\n    <path clip-path=\"url(#p655703e5fd)\" d=\"M 133.472727 256.921875 \r\nL 135.284763 256.921875 \r\nL 135.284763 256.921875 \r\nL 133.472727 256.921875 \r\nz\r\n\" style=\"fill:#17becf;\"/>\r\n   </g>\r\n   <g id=\"patch_96\">\r\n    <path clip-path=\"url(#p655703e5fd)\" d=\"M 169.713451 256.921875 \r\nL 171.525487 256.921875 \r\nL 171.525487 249.489676 \r\nL 169.713451 249.489676 \r\nz\r\n\" style=\"fill:#17becf;\"/>\r\n   </g>\r\n   <g id=\"patch_97\">\r\n    <path clip-path=\"url(#p655703e5fd)\" d=\"M 205.954174 256.921875 \r\nL 207.766211 256.921875 \r\nL 207.766211 249.489676 \r\nL 205.954174 249.489676 \r\nz\r\n\" style=\"fill:#17becf;\"/>\r\n   </g>\r\n   <g id=\"patch_98\">\r\n    <path clip-path=\"url(#p655703e5fd)\" d=\"M 242.194898 256.921875 \r\nL 244.006934 256.921875 \r\nL 244.006934 256.921875 \r\nL 242.194898 256.921875 \r\nz\r\n\" style=\"fill:#17becf;\"/>\r\n   </g>\r\n   <g id=\"patch_99\">\r\n    <path clip-path=\"url(#p655703e5fd)\" d=\"M 278.435622 256.921875 \r\nL 280.247658 256.921875 \r\nL 280.247658 256.921875 \r\nL 278.435622 256.921875 \r\nz\r\n\" style=\"fill:#17becf;\"/>\r\n   </g>\r\n   <g id=\"patch_100\">\r\n    <path clip-path=\"url(#p655703e5fd)\" d=\"M 314.676345 256.921875 \r\nL 316.488381 256.921875 \r\nL 316.488381 256.921875 \r\nL 314.676345 256.921875 \r\nz\r\n\" style=\"fill:#17becf;\"/>\r\n   </g>\r\n   <g id=\"patch_101\">\r\n    <path clip-path=\"url(#p655703e5fd)\" d=\"M 350.917069 256.921875 \r\nL 352.729105 256.921875 \r\nL 352.729105 256.921875 \r\nL 350.917069 256.921875 \r\nz\r\n\" style=\"fill:#17becf;\"/>\r\n   </g>\r\n   <g id=\"patch_102\">\r\n    <path clip-path=\"url(#p655703e5fd)\" d=\"M 387.157792 256.921875 \r\nL 388.969828 256.921875 \r\nL 388.969828 256.921875 \r\nL 387.157792 256.921875 \r\nz\r\n\" style=\"fill:#17becf;\"/>\r\n   </g>\r\n   <g id=\"patch_103\">\r\n    <path clip-path=\"url(#p655703e5fd)\" d=\"M 62.803316 256.921875 \r\nL 64.615353 256.921875 \r\nL 64.615353 56.252511 \r\nL 62.803316 56.252511 \r\nz\r\n\" style=\"fill:#1f77b4;\"/>\r\n   </g>\r\n   <g id=\"patch_104\">\r\n    <path clip-path=\"url(#p655703e5fd)\" d=\"M 99.04404 256.921875 \r\nL 100.856076 256.921875 \r\nL 100.856076 256.921875 \r\nL 99.04404 256.921875 \r\nz\r\n\" style=\"fill:#1f77b4;\"/>\r\n   </g>\r\n   <g id=\"patch_105\">\r\n    <path clip-path=\"url(#p655703e5fd)\" d=\"M 135.284763 256.921875 \r\nL 137.0968 256.921875 \r\nL 137.0968 256.921875 \r\nL 135.284763 256.921875 \r\nz\r\n\" style=\"fill:#1f77b4;\"/>\r\n   </g>\r\n   <g id=\"patch_106\">\r\n    <path clip-path=\"url(#p655703e5fd)\" d=\"M 171.525487 256.921875 \r\nL 173.337523 256.921875 \r\nL 173.337523 249.489676 \r\nL 171.525487 249.489676 \r\nz\r\n\" style=\"fill:#1f77b4;\"/>\r\n   </g>\r\n   <g id=\"patch_107\">\r\n    <path clip-path=\"url(#p655703e5fd)\" d=\"M 207.766211 256.921875 \r\nL 209.578247 256.921875 \r\nL 209.578247 256.921875 \r\nL 207.766211 256.921875 \r\nz\r\n\" style=\"fill:#1f77b4;\"/>\r\n   </g>\r\n   <g id=\"patch_108\">\r\n    <path clip-path=\"url(#p655703e5fd)\" d=\"M 244.006934 256.921875 \r\nL 245.81897 256.921875 \r\nL 245.81897 249.489676 \r\nL 244.006934 249.489676 \r\nz\r\n\" style=\"fill:#1f77b4;\"/>\r\n   </g>\r\n   <g id=\"patch_109\">\r\n    <path clip-path=\"url(#p655703e5fd)\" d=\"M 280.247658 256.921875 \r\nL 282.059694 256.921875 \r\nL 282.059694 256.921875 \r\nL 280.247658 256.921875 \r\nz\r\n\" style=\"fill:#1f77b4;\"/>\r\n   </g>\r\n   <g id=\"patch_110\">\r\n    <path clip-path=\"url(#p655703e5fd)\" d=\"M 316.488381 256.921875 \r\nL 318.300417 256.921875 \r\nL 318.300417 256.921875 \r\nL 316.488381 256.921875 \r\nz\r\n\" style=\"fill:#1f77b4;\"/>\r\n   </g>\r\n   <g id=\"patch_111\">\r\n    <path clip-path=\"url(#p655703e5fd)\" d=\"M 352.729105 256.921875 \r\nL 354.541141 256.921875 \r\nL 354.541141 256.921875 \r\nL 352.729105 256.921875 \r\nz\r\n\" style=\"fill:#1f77b4;\"/>\r\n   </g>\r\n   <g id=\"patch_112\">\r\n    <path clip-path=\"url(#p655703e5fd)\" d=\"M 388.969828 256.921875 \r\nL 390.781865 256.921875 \r\nL 390.781865 234.625279 \r\nL 388.969828 234.625279 \r\nz\r\n\" style=\"fill:#1f77b4;\"/>\r\n   </g>\r\n   <g id=\"patch_113\">\r\n    <path clip-path=\"url(#p655703e5fd)\" d=\"M 64.615353 256.921875 \r\nL 66.427389 256.921875 \r\nL 66.427389 33.955915 \r\nL 64.615353 33.955915 \r\nz\r\n\" style=\"fill:#ff7f0e;\"/>\r\n   </g>\r\n   <g id=\"patch_114\">\r\n    <path clip-path=\"url(#p655703e5fd)\" d=\"M 100.856076 256.921875 \r\nL 102.668112 256.921875 \r\nL 102.668112 256.921875 \r\nL 100.856076 256.921875 \r\nz\r\n\" style=\"fill:#ff7f0e;\"/>\r\n   </g>\r\n   <g id=\"patch_115\">\r\n    <path clip-path=\"url(#p655703e5fd)\" d=\"M 137.0968 256.921875 \r\nL 138.908836 256.921875 \r\nL 138.908836 256.921875 \r\nL 137.0968 256.921875 \r\nz\r\n\" style=\"fill:#ff7f0e;\"/>\r\n   </g>\r\n   <g id=\"patch_116\">\r\n    <path clip-path=\"url(#p655703e5fd)\" d=\"M 173.337523 256.921875 \r\nL 175.149559 256.921875 \r\nL 175.149559 256.921875 \r\nL 173.337523 256.921875 \r\nz\r\n\" style=\"fill:#ff7f0e;\"/>\r\n   </g>\r\n   <g id=\"patch_117\">\r\n    <path clip-path=\"url(#p655703e5fd)\" d=\"M 209.578247 256.921875 \r\nL 211.390283 256.921875 \r\nL 211.390283 256.921875 \r\nL 209.578247 256.921875 \r\nz\r\n\" style=\"fill:#ff7f0e;\"/>\r\n   </g>\r\n   <g id=\"patch_118\">\r\n    <path clip-path=\"url(#p655703e5fd)\" d=\"M 245.81897 256.921875 \r\nL 247.631006 256.921875 \r\nL 247.631006 256.921875 \r\nL 245.81897 256.921875 \r\nz\r\n\" style=\"fill:#ff7f0e;\"/>\r\n   </g>\r\n   <g id=\"patch_119\">\r\n    <path clip-path=\"url(#p655703e5fd)\" d=\"M 282.059694 256.921875 \r\nL 283.87173 256.921875 \r\nL 283.87173 256.921875 \r\nL 282.059694 256.921875 \r\nz\r\n\" style=\"fill:#ff7f0e;\"/>\r\n   </g>\r\n   <g id=\"patch_120\">\r\n    <path clip-path=\"url(#p655703e5fd)\" d=\"M 318.300417 256.921875 \r\nL 320.112454 256.921875 \r\nL 320.112454 256.921875 \r\nL 318.300417 256.921875 \r\nz\r\n\" style=\"fill:#ff7f0e;\"/>\r\n   </g>\r\n   <g id=\"patch_121\">\r\n    <path clip-path=\"url(#p655703e5fd)\" d=\"M 354.541141 256.921875 \r\nL 356.353177 256.921875 \r\nL 356.353177 249.489676 \r\nL 354.541141 249.489676 \r\nz\r\n\" style=\"fill:#ff7f0e;\"/>\r\n   </g>\r\n   <g id=\"patch_122\">\r\n    <path clip-path=\"url(#p655703e5fd)\" d=\"M 390.781865 256.921875 \r\nL 392.593901 256.921875 \r\nL 392.593901 249.489676 \r\nL 390.781865 249.489676 \r\nz\r\n\" style=\"fill:#ff7f0e;\"/>\r\n   </g>\r\n   <g id=\"patch_123\">\r\n    <path clip-path=\"url(#p655703e5fd)\" d=\"M 66.427389 256.921875 \r\nL 68.239425 256.921875 \r\nL 68.239425 33.955915 \r\nL 66.427389 33.955915 \r\nz\r\n\" style=\"fill:#2ca02c;\"/>\r\n   </g>\r\n   <g id=\"patch_124\">\r\n    <path clip-path=\"url(#p655703e5fd)\" d=\"M 102.668112 256.921875 \r\nL 104.480148 256.921875 \r\nL 104.480148 256.921875 \r\nL 102.668112 256.921875 \r\nz\r\n\" style=\"fill:#2ca02c;\"/>\r\n   </g>\r\n   <g id=\"patch_125\">\r\n    <path clip-path=\"url(#p655703e5fd)\" d=\"M 138.908836 256.921875 \r\nL 140.720872 256.921875 \r\nL 140.720872 249.489676 \r\nL 138.908836 249.489676 \r\nz\r\n\" style=\"fill:#2ca02c;\"/>\r\n   </g>\r\n   <g id=\"patch_126\">\r\n    <path clip-path=\"url(#p655703e5fd)\" d=\"M 175.149559 256.921875 \r\nL 176.961596 256.921875 \r\nL 176.961596 256.921875 \r\nL 175.149559 256.921875 \r\nz\r\n\" style=\"fill:#2ca02c;\"/>\r\n   </g>\r\n   <g id=\"patch_127\">\r\n    <path clip-path=\"url(#p655703e5fd)\" d=\"M 211.390283 256.921875 \r\nL 213.202319 256.921875 \r\nL 213.202319 256.921875 \r\nL 211.390283 256.921875 \r\nz\r\n\" style=\"fill:#2ca02c;\"/>\r\n   </g>\r\n   <g id=\"patch_128\">\r\n    <path clip-path=\"url(#p655703e5fd)\" d=\"M 247.631006 256.921875 \r\nL 249.443043 256.921875 \r\nL 249.443043 256.921875 \r\nL 247.631006 256.921875 \r\nz\r\n\" style=\"fill:#2ca02c;\"/>\r\n   </g>\r\n   <g id=\"patch_129\">\r\n    <path clip-path=\"url(#p655703e5fd)\" d=\"M 283.87173 256.921875 \r\nL 285.683766 256.921875 \r\nL 285.683766 256.921875 \r\nL 283.87173 256.921875 \r\nz\r\n\" style=\"fill:#2ca02c;\"/>\r\n   </g>\r\n   <g id=\"patch_130\">\r\n    <path clip-path=\"url(#p655703e5fd)\" d=\"M 320.112454 256.921875 \r\nL 321.92449 256.921875 \r\nL 321.92449 256.921875 \r\nL 320.112454 256.921875 \r\nz\r\n\" style=\"fill:#2ca02c;\"/>\r\n   </g>\r\n   <g id=\"patch_131\">\r\n    <path clip-path=\"url(#p655703e5fd)\" d=\"M 356.353177 256.921875 \r\nL 358.165213 256.921875 \r\nL 358.165213 256.921875 \r\nL 356.353177 256.921875 \r\nz\r\n\" style=\"fill:#2ca02c;\"/>\r\n   </g>\r\n   <g id=\"patch_132\">\r\n    <path clip-path=\"url(#p655703e5fd)\" d=\"M 392.593901 256.921875 \r\nL 394.405937 256.921875 \r\nL 394.405937 249.489676 \r\nL 392.593901 249.489676 \r\nz\r\n\" style=\"fill:#2ca02c;\"/>\r\n   </g>\r\n   <g id=\"patch_133\">\r\n    <path clip-path=\"url(#p655703e5fd)\" d=\"M 68.239425 256.921875 \r\nL 70.051461 256.921875 \r\nL 70.051461 26.523717 \r\nL 68.239425 26.523717 \r\nz\r\n\" style=\"fill:#d62728;\"/>\r\n   </g>\r\n   <g id=\"patch_134\">\r\n    <path clip-path=\"url(#p655703e5fd)\" d=\"M 104.480148 256.921875 \r\nL 106.292185 256.921875 \r\nL 106.292185 256.921875 \r\nL 104.480148 256.921875 \r\nz\r\n\" style=\"fill:#d62728;\"/>\r\n   </g>\r\n   <g id=\"patch_135\">\r\n    <path clip-path=\"url(#p655703e5fd)\" d=\"M 140.720872 256.921875 \r\nL 142.532908 256.921875 \r\nL 142.532908 249.489676 \r\nL 140.720872 249.489676 \r\nz\r\n\" style=\"fill:#d62728;\"/>\r\n   </g>\r\n   <g id=\"patch_136\">\r\n    <path clip-path=\"url(#p655703e5fd)\" d=\"M 176.961596 256.921875 \r\nL 178.773632 256.921875 \r\nL 178.773632 256.921875 \r\nL 176.961596 256.921875 \r\nz\r\n\" style=\"fill:#d62728;\"/>\r\n   </g>\r\n   <g id=\"patch_137\">\r\n    <path clip-path=\"url(#p655703e5fd)\" d=\"M 213.202319 256.921875 \r\nL 215.014355 256.921875 \r\nL 215.014355 256.921875 \r\nL 213.202319 256.921875 \r\nz\r\n\" style=\"fill:#d62728;\"/>\r\n   </g>\r\n   <g id=\"patch_138\">\r\n    <path clip-path=\"url(#p655703e5fd)\" d=\"M 249.443043 256.921875 \r\nL 251.255079 256.921875 \r\nL 251.255079 256.921875 \r\nL 249.443043 256.921875 \r\nz\r\n\" style=\"fill:#d62728;\"/>\r\n   </g>\r\n   <g id=\"patch_139\">\r\n    <path clip-path=\"url(#p655703e5fd)\" d=\"M 285.683766 256.921875 \r\nL 287.495802 256.921875 \r\nL 287.495802 256.921875 \r\nL 285.683766 256.921875 \r\nz\r\n\" style=\"fill:#d62728;\"/>\r\n   </g>\r\n   <g id=\"patch_140\">\r\n    <path clip-path=\"url(#p655703e5fd)\" d=\"M 321.92449 256.921875 \r\nL 323.736526 256.921875 \r\nL 323.736526 256.921875 \r\nL 321.92449 256.921875 \r\nz\r\n\" style=\"fill:#d62728;\"/>\r\n   </g>\r\n   <g id=\"patch_141\">\r\n    <path clip-path=\"url(#p655703e5fd)\" d=\"M 358.165213 256.921875 \r\nL 359.97725 256.921875 \r\nL 359.97725 256.921875 \r\nL 358.165213 256.921875 \r\nz\r\n\" style=\"fill:#d62728;\"/>\r\n   </g>\r\n   <g id=\"patch_142\">\r\n    <path clip-path=\"url(#p655703e5fd)\" d=\"M 394.405937 256.921875 \r\nL 396.217973 256.921875 \r\nL 396.217973 256.921875 \r\nL 394.405937 256.921875 \r\nz\r\n\" style=\"fill:#d62728;\"/>\r\n   </g>\r\n   <g id=\"patch_143\">\r\n    <path clip-path=\"url(#p655703e5fd)\" d=\"M 70.051461 256.921875 \r\nL 71.863497 256.921875 \r\nL 71.863497 48.820312 \r\nL 70.051461 48.820312 \r\nz\r\n\" style=\"fill:#9467bd;\"/>\r\n   </g>\r\n   <g id=\"patch_144\">\r\n    <path clip-path=\"url(#p655703e5fd)\" d=\"M 106.292185 256.921875 \r\nL 108.104221 256.921875 \r\nL 108.104221 256.921875 \r\nL 106.292185 256.921875 \r\nz\r\n\" style=\"fill:#9467bd;\"/>\r\n   </g>\r\n   <g id=\"patch_145\">\r\n    <path clip-path=\"url(#p655703e5fd)\" d=\"M 142.532908 256.921875 \r\nL 144.344944 256.921875 \r\nL 144.344944 256.921875 \r\nL 142.532908 256.921875 \r\nz\r\n\" style=\"fill:#9467bd;\"/>\r\n   </g>\r\n   <g id=\"patch_146\">\r\n    <path clip-path=\"url(#p655703e5fd)\" d=\"M 178.773632 256.921875 \r\nL 180.585668 256.921875 \r\nL 180.585668 249.489676 \r\nL 178.773632 249.489676 \r\nz\r\n\" style=\"fill:#9467bd;\"/>\r\n   </g>\r\n   <g id=\"patch_147\">\r\n    <path clip-path=\"url(#p655703e5fd)\" d=\"M 215.014355 256.921875 \r\nL 216.826391 256.921875 \r\nL 216.826391 256.921875 \r\nL 215.014355 256.921875 \r\nz\r\n\" style=\"fill:#9467bd;\"/>\r\n   </g>\r\n   <g id=\"patch_148\">\r\n    <path clip-path=\"url(#p655703e5fd)\" d=\"M 251.255079 256.921875 \r\nL 253.067115 256.921875 \r\nL 253.067115 256.921875 \r\nL 251.255079 256.921875 \r\nz\r\n\" style=\"fill:#9467bd;\"/>\r\n   </g>\r\n   <g id=\"patch_149\">\r\n    <path clip-path=\"url(#p655703e5fd)\" d=\"M 287.495802 256.921875 \r\nL 289.307839 256.921875 \r\nL 289.307839 256.921875 \r\nL 287.495802 256.921875 \r\nz\r\n\" style=\"fill:#9467bd;\"/>\r\n   </g>\r\n   <g id=\"patch_150\">\r\n    <path clip-path=\"url(#p655703e5fd)\" d=\"M 323.736526 256.921875 \r\nL 325.548562 256.921875 \r\nL 325.548562 249.489676 \r\nL 323.736526 249.489676 \r\nz\r\n\" style=\"fill:#9467bd;\"/>\r\n   </g>\r\n   <g id=\"patch_151\">\r\n    <path clip-path=\"url(#p655703e5fd)\" d=\"M 359.97725 256.921875 \r\nL 361.789286 256.921875 \r\nL 361.789286 256.921875 \r\nL 359.97725 256.921875 \r\nz\r\n\" style=\"fill:#9467bd;\"/>\r\n   </g>\r\n   <g id=\"patch_152\">\r\n    <path clip-path=\"url(#p655703e5fd)\" d=\"M 396.217973 256.921875 \r\nL 398.030009 256.921875 \r\nL 398.030009 242.057478 \r\nL 396.217973 242.057478 \r\nz\r\n\" style=\"fill:#9467bd;\"/>\r\n   </g>\r\n   <g id=\"patch_153\">\r\n    <path clip-path=\"url(#p655703e5fd)\" d=\"M 71.863497 256.921875 \r\nL 73.675533 256.921875 \r\nL 73.675533 33.955915 \r\nL 71.863497 33.955915 \r\nz\r\n\" style=\"fill:#8c564b;\"/>\r\n   </g>\r\n   <g id=\"patch_154\">\r\n    <path clip-path=\"url(#p655703e5fd)\" d=\"M 108.104221 256.921875 \r\nL 109.916257 256.921875 \r\nL 109.916257 256.921875 \r\nL 108.104221 256.921875 \r\nz\r\n\" style=\"fill:#8c564b;\"/>\r\n   </g>\r\n   <g id=\"patch_155\">\r\n    <path clip-path=\"url(#p655703e5fd)\" d=\"M 144.344944 256.921875 \r\nL 146.156981 256.921875 \r\nL 146.156981 256.921875 \r\nL 144.344944 256.921875 \r\nz\r\n\" style=\"fill:#8c564b;\"/>\r\n   </g>\r\n   <g id=\"patch_156\">\r\n    <path clip-path=\"url(#p655703e5fd)\" d=\"M 180.585668 256.921875 \r\nL 182.397704 256.921875 \r\nL 182.397704 256.921875 \r\nL 180.585668 256.921875 \r\nz\r\n\" style=\"fill:#8c564b;\"/>\r\n   </g>\r\n   <g id=\"patch_157\">\r\n    <path clip-path=\"url(#p655703e5fd)\" d=\"M 216.826391 256.921875 \r\nL 218.638428 256.921875 \r\nL 218.638428 256.921875 \r\nL 216.826391 256.921875 \r\nz\r\n\" style=\"fill:#8c564b;\"/>\r\n   </g>\r\n   <g id=\"patch_158\">\r\n    <path clip-path=\"url(#p655703e5fd)\" d=\"M 253.067115 256.921875 \r\nL 254.879151 256.921875 \r\nL 254.879151 256.921875 \r\nL 253.067115 256.921875 \r\nz\r\n\" style=\"fill:#8c564b;\"/>\r\n   </g>\r\n   <g id=\"patch_159\">\r\n    <path clip-path=\"url(#p655703e5fd)\" d=\"M 289.307839 256.921875 \r\nL 291.119875 256.921875 \r\nL 291.119875 249.489676 \r\nL 289.307839 249.489676 \r\nz\r\n\" style=\"fill:#8c564b;\"/>\r\n   </g>\r\n   <g id=\"patch_160\">\r\n    <path clip-path=\"url(#p655703e5fd)\" d=\"M 325.548562 256.921875 \r\nL 327.360598 256.921875 \r\nL 327.360598 256.921875 \r\nL 325.548562 256.921875 \r\nz\r\n\" style=\"fill:#8c564b;\"/>\r\n   </g>\r\n   <g id=\"patch_161\">\r\n    <path clip-path=\"url(#p655703e5fd)\" d=\"M 361.789286 256.921875 \r\nL 363.601322 256.921875 \r\nL 363.601322 256.921875 \r\nL 361.789286 256.921875 \r\nz\r\n\" style=\"fill:#8c564b;\"/>\r\n   </g>\r\n   <g id=\"patch_162\">\r\n    <path clip-path=\"url(#p655703e5fd)\" d=\"M 398.030009 256.921875 \r\nL 399.842045 256.921875 \r\nL 399.842045 249.489676 \r\nL 398.030009 249.489676 \r\nz\r\n\" style=\"fill:#8c564b;\"/>\r\n   </g>\r\n   <g id=\"matplotlib.axis_1\">\r\n    <g id=\"xtick_1\">\r\n     <g id=\"line2d_1\">\r\n      <defs>\r\n       <path d=\"M 0 0 \r\nL 0 3.5 \r\n\" id=\"mb5718dd574\" style=\"stroke:#000000;stroke-width:0.8;\"/>\r\n      </defs>\r\n      <g>\r\n       <use style=\"stroke:#000000;stroke-width:0.8;\" x=\"41.058882\" xlink:href=\"#mb5718dd574\" y=\"256.921875\"/>\r\n      </g>\r\n     </g>\r\n     <g id=\"text_1\">\r\n      <!-- 0.0 -->\r\n      <g transform=\"translate(33.10732 271.520312)scale(0.1 -0.1)\">\r\n       <defs>\r\n        <path d=\"M 31.78125 66.40625 \r\nQ 24.171875 66.40625 20.328125 58.90625 \r\nQ 16.5 51.421875 16.5 36.375 \r\nQ 16.5 21.390625 20.328125 13.890625 \r\nQ 24.171875 6.390625 31.78125 6.390625 \r\nQ 39.453125 6.390625 43.28125 13.890625 \r\nQ 47.125 21.390625 47.125 36.375 \r\nQ 47.125 51.421875 43.28125 58.90625 \r\nQ 39.453125 66.40625 31.78125 66.40625 \r\nz\r\nM 31.78125 74.21875 \r\nQ 44.046875 74.21875 50.515625 64.515625 \r\nQ 56.984375 54.828125 56.984375 36.375 \r\nQ 56.984375 17.96875 50.515625 8.265625 \r\nQ 44.046875 -1.421875 31.78125 -1.421875 \r\nQ 19.53125 -1.421875 13.0625 8.265625 \r\nQ 6.59375 17.96875 6.59375 36.375 \r\nQ 6.59375 54.828125 13.0625 64.515625 \r\nQ 19.53125 74.21875 31.78125 74.21875 \r\nz\r\n\" id=\"DejaVuSans-48\"/>\r\n        <path d=\"M 10.6875 12.40625 \r\nL 21 12.40625 \r\nL 21 0 \r\nL 10.6875 0 \r\nz\r\n\" id=\"DejaVuSans-46\"/>\r\n       </defs>\r\n       <use xlink:href=\"#DejaVuSans-48\"/>\r\n       <use x=\"63.623047\" xlink:href=\"#DejaVuSans-46\"/>\r\n       <use x=\"95.410156\" xlink:href=\"#DejaVuSans-48\"/>\r\n      </g>\r\n     </g>\r\n    </g>\r\n    <g id=\"xtick_2\">\r\n     <g id=\"line2d_2\">\r\n      <g>\r\n       <use style=\"stroke:#000000;stroke-width:0.8;\" x=\"113.540329\" xlink:href=\"#mb5718dd574\" y=\"256.921875\"/>\r\n      </g>\r\n     </g>\r\n     <g id=\"text_2\">\r\n      <!-- 0.2 -->\r\n      <g transform=\"translate(105.588767 271.520312)scale(0.1 -0.1)\">\r\n       <defs>\r\n        <path d=\"M 19.1875 8.296875 \r\nL 53.609375 8.296875 \r\nL 53.609375 0 \r\nL 7.328125 0 \r\nL 7.328125 8.296875 \r\nQ 12.9375 14.109375 22.625 23.890625 \r\nQ 32.328125 33.6875 34.8125 36.53125 \r\nQ 39.546875 41.84375 41.421875 45.53125 \r\nQ 43.3125 49.21875 43.3125 52.78125 \r\nQ 43.3125 58.59375 39.234375 62.25 \r\nQ 35.15625 65.921875 28.609375 65.921875 \r\nQ 23.96875 65.921875 18.8125 64.3125 \r\nQ 13.671875 62.703125 7.8125 59.421875 \r\nL 7.8125 69.390625 \r\nQ 13.765625 71.78125 18.9375 73 \r\nQ 24.125 74.21875 28.421875 74.21875 \r\nQ 39.75 74.21875 46.484375 68.546875 \r\nQ 53.21875 62.890625 53.21875 53.421875 \r\nQ 53.21875 48.921875 51.53125 44.890625 \r\nQ 49.859375 40.875 45.40625 35.40625 \r\nQ 44.1875 33.984375 37.640625 27.21875 \r\nQ 31.109375 20.453125 19.1875 8.296875 \r\nz\r\n\" id=\"DejaVuSans-50\"/>\r\n       </defs>\r\n       <use xlink:href=\"#DejaVuSans-48\"/>\r\n       <use x=\"63.623047\" xlink:href=\"#DejaVuSans-46\"/>\r\n       <use x=\"95.410156\" xlink:href=\"#DejaVuSans-50\"/>\r\n      </g>\r\n     </g>\r\n    </g>\r\n    <g id=\"xtick_3\">\r\n     <g id=\"line2d_3\">\r\n      <g>\r\n       <use style=\"stroke:#000000;stroke-width:0.8;\" x=\"186.021776\" xlink:href=\"#mb5718dd574\" y=\"256.921875\"/>\r\n      </g>\r\n     </g>\r\n     <g id=\"text_3\">\r\n      <!-- 0.4 -->\r\n      <g transform=\"translate(178.070214 271.520312)scale(0.1 -0.1)\">\r\n       <defs>\r\n        <path d=\"M 37.796875 64.3125 \r\nL 12.890625 25.390625 \r\nL 37.796875 25.390625 \r\nz\r\nM 35.203125 72.90625 \r\nL 47.609375 72.90625 \r\nL 47.609375 25.390625 \r\nL 58.015625 25.390625 \r\nL 58.015625 17.1875 \r\nL 47.609375 17.1875 \r\nL 47.609375 0 \r\nL 37.796875 0 \r\nL 37.796875 17.1875 \r\nL 4.890625 17.1875 \r\nL 4.890625 26.703125 \r\nz\r\n\" id=\"DejaVuSans-52\"/>\r\n       </defs>\r\n       <use xlink:href=\"#DejaVuSans-48\"/>\r\n       <use x=\"63.623047\" xlink:href=\"#DejaVuSans-46\"/>\r\n       <use x=\"95.410156\" xlink:href=\"#DejaVuSans-52\"/>\r\n      </g>\r\n     </g>\r\n    </g>\r\n    <g id=\"xtick_4\">\r\n     <g id=\"line2d_4\">\r\n      <g>\r\n       <use style=\"stroke:#000000;stroke-width:0.8;\" x=\"258.503224\" xlink:href=\"#mb5718dd574\" y=\"256.921875\"/>\r\n      </g>\r\n     </g>\r\n     <g id=\"text_4\">\r\n      <!-- 0.6 -->\r\n      <g transform=\"translate(250.551661 271.520312)scale(0.1 -0.1)\">\r\n       <defs>\r\n        <path d=\"M 33.015625 40.375 \r\nQ 26.375 40.375 22.484375 35.828125 \r\nQ 18.609375 31.296875 18.609375 23.390625 \r\nQ 18.609375 15.53125 22.484375 10.953125 \r\nQ 26.375 6.390625 33.015625 6.390625 \r\nQ 39.65625 6.390625 43.53125 10.953125 \r\nQ 47.40625 15.53125 47.40625 23.390625 \r\nQ 47.40625 31.296875 43.53125 35.828125 \r\nQ 39.65625 40.375 33.015625 40.375 \r\nz\r\nM 52.59375 71.296875 \r\nL 52.59375 62.3125 \r\nQ 48.875 64.0625 45.09375 64.984375 \r\nQ 41.3125 65.921875 37.59375 65.921875 \r\nQ 27.828125 65.921875 22.671875 59.328125 \r\nQ 17.53125 52.734375 16.796875 39.40625 \r\nQ 19.671875 43.65625 24.015625 45.921875 \r\nQ 28.375 48.1875 33.59375 48.1875 \r\nQ 44.578125 48.1875 50.953125 41.515625 \r\nQ 57.328125 34.859375 57.328125 23.390625 \r\nQ 57.328125 12.15625 50.6875 5.359375 \r\nQ 44.046875 -1.421875 33.015625 -1.421875 \r\nQ 20.359375 -1.421875 13.671875 8.265625 \r\nQ 6.984375 17.96875 6.984375 36.375 \r\nQ 6.984375 53.65625 15.1875 63.9375 \r\nQ 23.390625 74.21875 37.203125 74.21875 \r\nQ 40.921875 74.21875 44.703125 73.484375 \r\nQ 48.484375 72.75 52.59375 71.296875 \r\nz\r\n\" id=\"DejaVuSans-54\"/>\r\n       </defs>\r\n       <use xlink:href=\"#DejaVuSans-48\"/>\r\n       <use x=\"63.623047\" xlink:href=\"#DejaVuSans-46\"/>\r\n       <use x=\"95.410156\" xlink:href=\"#DejaVuSans-54\"/>\r\n      </g>\r\n     </g>\r\n    </g>\r\n    <g id=\"xtick_5\">\r\n     <g id=\"line2d_5\">\r\n      <g>\r\n       <use style=\"stroke:#000000;stroke-width:0.8;\" x=\"330.984671\" xlink:href=\"#mb5718dd574\" y=\"256.921875\"/>\r\n      </g>\r\n     </g>\r\n     <g id=\"text_5\">\r\n      <!-- 0.8 -->\r\n      <g transform=\"translate(323.033108 271.520312)scale(0.1 -0.1)\">\r\n       <defs>\r\n        <path d=\"M 31.78125 34.625 \r\nQ 24.75 34.625 20.71875 30.859375 \r\nQ 16.703125 27.09375 16.703125 20.515625 \r\nQ 16.703125 13.921875 20.71875 10.15625 \r\nQ 24.75 6.390625 31.78125 6.390625 \r\nQ 38.8125 6.390625 42.859375 10.171875 \r\nQ 46.921875 13.96875 46.921875 20.515625 \r\nQ 46.921875 27.09375 42.890625 30.859375 \r\nQ 38.875 34.625 31.78125 34.625 \r\nz\r\nM 21.921875 38.8125 \r\nQ 15.578125 40.375 12.03125 44.71875 \r\nQ 8.5 49.078125 8.5 55.328125 \r\nQ 8.5 64.0625 14.71875 69.140625 \r\nQ 20.953125 74.21875 31.78125 74.21875 \r\nQ 42.671875 74.21875 48.875 69.140625 \r\nQ 55.078125 64.0625 55.078125 55.328125 \r\nQ 55.078125 49.078125 51.53125 44.71875 \r\nQ 48 40.375 41.703125 38.8125 \r\nQ 48.828125 37.15625 52.796875 32.3125 \r\nQ 56.78125 27.484375 56.78125 20.515625 \r\nQ 56.78125 9.90625 50.3125 4.234375 \r\nQ 43.84375 -1.421875 31.78125 -1.421875 \r\nQ 19.734375 -1.421875 13.25 4.234375 \r\nQ 6.78125 9.90625 6.78125 20.515625 \r\nQ 6.78125 27.484375 10.78125 32.3125 \r\nQ 14.796875 37.15625 21.921875 38.8125 \r\nz\r\nM 18.3125 54.390625 \r\nQ 18.3125 48.734375 21.84375 45.5625 \r\nQ 25.390625 42.390625 31.78125 42.390625 \r\nQ 38.140625 42.390625 41.71875 45.5625 \r\nQ 45.3125 48.734375 45.3125 54.390625 \r\nQ 45.3125 60.0625 41.71875 63.234375 \r\nQ 38.140625 66.40625 31.78125 66.40625 \r\nQ 25.390625 66.40625 21.84375 63.234375 \r\nQ 18.3125 60.0625 18.3125 54.390625 \r\nz\r\n\" id=\"DejaVuSans-56\"/>\r\n       </defs>\r\n       <use xlink:href=\"#DejaVuSans-48\"/>\r\n       <use x=\"63.623047\" xlink:href=\"#DejaVuSans-46\"/>\r\n       <use x=\"95.410156\" xlink:href=\"#DejaVuSans-56\"/>\r\n      </g>\r\n     </g>\r\n    </g>\r\n    <g id=\"xtick_6\">\r\n     <g id=\"line2d_6\">\r\n      <g>\r\n       <use style=\"stroke:#000000;stroke-width:0.8;\" x=\"403.466118\" xlink:href=\"#mb5718dd574\" y=\"256.921875\"/>\r\n      </g>\r\n     </g>\r\n     <g id=\"text_6\">\r\n      <!-- 1.0 -->\r\n      <g transform=\"translate(395.514555 271.520312)scale(0.1 -0.1)\">\r\n       <defs>\r\n        <path d=\"M 12.40625 8.296875 \r\nL 28.515625 8.296875 \r\nL 28.515625 63.921875 \r\nL 10.984375 60.40625 \r\nL 10.984375 69.390625 \r\nL 28.421875 72.90625 \r\nL 38.28125 72.90625 \r\nL 38.28125 8.296875 \r\nL 54.390625 8.296875 \r\nL 54.390625 0 \r\nL 12.40625 0 \r\nz\r\n\" id=\"DejaVuSans-49\"/>\r\n       </defs>\r\n       <use xlink:href=\"#DejaVuSans-49\"/>\r\n       <use x=\"63.623047\" xlink:href=\"#DejaVuSans-46\"/>\r\n       <use x=\"95.410156\" xlink:href=\"#DejaVuSans-48\"/>\r\n      </g>\r\n     </g>\r\n    </g>\r\n   </g>\r\n   <g id=\"matplotlib.axis_2\">\r\n    <g id=\"ytick_1\">\r\n     <g id=\"line2d_7\">\r\n      <defs>\r\n       <path d=\"M 0 0 \r\nL -3.5 0 \r\n\" id=\"me1aadc18e4\" style=\"stroke:#000000;stroke-width:0.8;\"/>\r\n      </defs>\r\n      <g>\r\n       <use style=\"stroke:#000000;stroke-width:0.8;\" x=\"26.925\" xlink:href=\"#me1aadc18e4\" y=\"256.921875\"/>\r\n      </g>\r\n     </g>\r\n     <g id=\"text_7\">\r\n      <!-- 0 -->\r\n      <g transform=\"translate(13.5625 260.721094)scale(0.1 -0.1)\">\r\n       <use xlink:href=\"#DejaVuSans-48\"/>\r\n      </g>\r\n     </g>\r\n    </g>\r\n    <g id=\"ytick_2\">\r\n     <g id=\"line2d_8\">\r\n      <g>\r\n       <use style=\"stroke:#000000;stroke-width:0.8;\" x=\"26.925\" xlink:href=\"#me1aadc18e4\" y=\"219.760882\"/>\r\n      </g>\r\n     </g>\r\n     <g id=\"text_8\">\r\n      <!-- 5 -->\r\n      <g transform=\"translate(13.5625 223.5601)scale(0.1 -0.1)\">\r\n       <defs>\r\n        <path d=\"M 10.796875 72.90625 \r\nL 49.515625 72.90625 \r\nL 49.515625 64.59375 \r\nL 19.828125 64.59375 \r\nL 19.828125 46.734375 \r\nQ 21.96875 47.46875 24.109375 47.828125 \r\nQ 26.265625 48.1875 28.421875 48.1875 \r\nQ 40.625 48.1875 47.75 41.5 \r\nQ 54.890625 34.8125 54.890625 23.390625 \r\nQ 54.890625 11.625 47.5625 5.09375 \r\nQ 40.234375 -1.421875 26.90625 -1.421875 \r\nQ 22.3125 -1.421875 17.546875 -0.640625 \r\nQ 12.796875 0.140625 7.71875 1.703125 \r\nL 7.71875 11.625 \r\nQ 12.109375 9.234375 16.796875 8.0625 \r\nQ 21.484375 6.890625 26.703125 6.890625 \r\nQ 35.15625 6.890625 40.078125 11.328125 \r\nQ 45.015625 15.765625 45.015625 23.390625 \r\nQ 45.015625 31 40.078125 35.4375 \r\nQ 35.15625 39.890625 26.703125 39.890625 \r\nQ 22.75 39.890625 18.8125 39.015625 \r\nQ 14.890625 38.140625 10.796875 36.28125 \r\nz\r\n\" id=\"DejaVuSans-53\"/>\r\n       </defs>\r\n       <use xlink:href=\"#DejaVuSans-53\"/>\r\n      </g>\r\n     </g>\r\n    </g>\r\n    <g id=\"ytick_3\">\r\n     <g id=\"line2d_9\">\r\n      <g>\r\n       <use style=\"stroke:#000000;stroke-width:0.8;\" x=\"26.925\" xlink:href=\"#me1aadc18e4\" y=\"182.599888\"/>\r\n      </g>\r\n     </g>\r\n     <g id=\"text_9\">\r\n      <!-- 10 -->\r\n      <g transform=\"translate(7.2 186.399107)scale(0.1 -0.1)\">\r\n       <use xlink:href=\"#DejaVuSans-49\"/>\r\n       <use x=\"63.623047\" xlink:href=\"#DejaVuSans-48\"/>\r\n      </g>\r\n     </g>\r\n    </g>\r\n    <g id=\"ytick_4\">\r\n     <g id=\"line2d_10\">\r\n      <g>\r\n       <use style=\"stroke:#000000;stroke-width:0.8;\" x=\"26.925\" xlink:href=\"#me1aadc18e4\" y=\"145.438895\"/>\r\n      </g>\r\n     </g>\r\n     <g id=\"text_10\">\r\n      <!-- 15 -->\r\n      <g transform=\"translate(7.2 149.238114)scale(0.1 -0.1)\">\r\n       <use xlink:href=\"#DejaVuSans-49\"/>\r\n       <use x=\"63.623047\" xlink:href=\"#DejaVuSans-53\"/>\r\n      </g>\r\n     </g>\r\n    </g>\r\n    <g id=\"ytick_5\">\r\n     <g id=\"line2d_11\">\r\n      <g>\r\n       <use style=\"stroke:#000000;stroke-width:0.8;\" x=\"26.925\" xlink:href=\"#me1aadc18e4\" y=\"108.277902\"/>\r\n      </g>\r\n     </g>\r\n     <g id=\"text_11\">\r\n      <!-- 20 -->\r\n      <g transform=\"translate(7.2 112.077121)scale(0.1 -0.1)\">\r\n       <use xlink:href=\"#DejaVuSans-50\"/>\r\n       <use x=\"63.623047\" xlink:href=\"#DejaVuSans-48\"/>\r\n      </g>\r\n     </g>\r\n    </g>\r\n    <g id=\"ytick_6\">\r\n     <g id=\"line2d_12\">\r\n      <g>\r\n       <use style=\"stroke:#000000;stroke-width:0.8;\" x=\"26.925\" xlink:href=\"#me1aadc18e4\" y=\"71.116908\"/>\r\n      </g>\r\n     </g>\r\n     <g id=\"text_12\">\r\n      <!-- 25 -->\r\n      <g transform=\"translate(7.2 74.916127)scale(0.1 -0.1)\">\r\n       <use xlink:href=\"#DejaVuSans-50\"/>\r\n       <use x=\"63.623047\" xlink:href=\"#DejaVuSans-53\"/>\r\n      </g>\r\n     </g>\r\n    </g>\r\n    <g id=\"ytick_7\">\r\n     <g id=\"line2d_13\">\r\n      <g>\r\n       <use style=\"stroke:#000000;stroke-width:0.8;\" x=\"26.925\" xlink:href=\"#me1aadc18e4\" y=\"33.955915\"/>\r\n      </g>\r\n     </g>\r\n     <g id=\"text_13\">\r\n      <!-- 30 -->\r\n      <g transform=\"translate(7.2 37.755134)scale(0.1 -0.1)\">\r\n       <defs>\r\n        <path d=\"M 40.578125 39.3125 \r\nQ 47.65625 37.796875 51.625 33 \r\nQ 55.609375 28.21875 55.609375 21.1875 \r\nQ 55.609375 10.40625 48.1875 4.484375 \r\nQ 40.765625 -1.421875 27.09375 -1.421875 \r\nQ 22.515625 -1.421875 17.65625 -0.515625 \r\nQ 12.796875 0.390625 7.625 2.203125 \r\nL 7.625 11.71875 \r\nQ 11.71875 9.328125 16.59375 8.109375 \r\nQ 21.484375 6.890625 26.8125 6.890625 \r\nQ 36.078125 6.890625 40.9375 10.546875 \r\nQ 45.796875 14.203125 45.796875 21.1875 \r\nQ 45.796875 27.640625 41.28125 31.265625 \r\nQ 36.765625 34.90625 28.71875 34.90625 \r\nL 20.21875 34.90625 \r\nL 20.21875 43.015625 \r\nL 29.109375 43.015625 \r\nQ 36.375 43.015625 40.234375 45.921875 \r\nQ 44.09375 48.828125 44.09375 54.296875 \r\nQ 44.09375 59.90625 40.109375 62.90625 \r\nQ 36.140625 65.921875 28.71875 65.921875 \r\nQ 24.65625 65.921875 20.015625 65.03125 \r\nQ 15.375 64.15625 9.8125 62.3125 \r\nL 9.8125 71.09375 \r\nQ 15.4375 72.65625 20.34375 73.4375 \r\nQ 25.25 74.21875 29.59375 74.21875 \r\nQ 40.828125 74.21875 47.359375 69.109375 \r\nQ 53.90625 64.015625 53.90625 55.328125 \r\nQ 53.90625 49.265625 50.4375 45.09375 \r\nQ 46.96875 40.921875 40.578125 39.3125 \r\nz\r\n\" id=\"DejaVuSans-51\"/>\r\n       </defs>\r\n       <use xlink:href=\"#DejaVuSans-51\"/>\r\n       <use x=\"63.623047\" xlink:href=\"#DejaVuSans-48\"/>\r\n      </g>\r\n     </g>\r\n    </g>\r\n   </g>\r\n   <g id=\"patch_163\">\r\n    <path d=\"M 26.925 256.921875 \r\nL 26.925 7.2 \r\n\" style=\"fill:none;stroke:#000000;stroke-linecap:square;stroke-linejoin:miter;stroke-width:0.8;\"/>\r\n   </g>\r\n   <g id=\"patch_164\">\r\n    <path d=\"M 417.6 256.921875 \r\nL 417.6 7.2 \r\n\" style=\"fill:none;stroke:#000000;stroke-linecap:square;stroke-linejoin:miter;stroke-width:0.8;\"/>\r\n   </g>\r\n   <g id=\"patch_165\">\r\n    <path d=\"M 26.925 256.921875 \r\nL 417.6 256.921875 \r\n\" style=\"fill:none;stroke:#000000;stroke-linecap:square;stroke-linejoin:miter;stroke-width:0.8;\"/>\r\n   </g>\r\n   <g id=\"patch_166\">\r\n    <path d=\"M 26.925 7.2 \r\nL 417.6 7.2 \r\n\" style=\"fill:none;stroke:#000000;stroke-linecap:square;stroke-linejoin:miter;stroke-width:0.8;\"/>\r\n   </g>\r\n  </g>\r\n </g>\r\n <defs>\r\n  <clipPath id=\"p655703e5fd\">\r\n   <rect height=\"249.721875\" width=\"390.675\" x=\"26.925\" y=\"7.2\"/>\r\n  </clipPath>\r\n </defs>\r\n</svg>\r\n",
      "image/png": "[encoded data removed]"
     },
     "metadata": {
      "needs_background": "light"
     }
    }
   ],
   "source": [
    "fig, axs = plt.subplots(1, 1, sharey=True, tight_layout=True)\n",
    "\n",
    "axs.hist(hist_dat);"
   ]
  },
  {
   "cell_type": "code",
   "execution_count": null,
   "metadata": {},
   "outputs": [],
   "source": []
  },
  {
   "cell_type": "code",
   "execution_count": 8,
   "metadata": {},
   "outputs": [
    {
     "output_type": "display_data",
     "data": {
      "text/plain": "  0%|          | 0/16 [00:00<?, ?it/s]",
      "application/vnd.jupyter.widget-view+json": {
       "version_major": 2,
       "version_minor": 0,
       "model_id": "aea1148879ec4e76ab906e5de26f119f"
      }
     },
     "metadata": {}
    },
    {
     "output_type": "error",
     "ename": "TypeError",
     "evalue": "'DataLoader' object is not an iterator",
     "traceback": [
      "\u001b[1;31m---------------------------------------------------------------------------\u001b[0m",
      "\u001b[1;31mTypeError\u001b[0m                                 Traceback (most recent call last)",
      "\u001b[1;32m<ipython-input-8-8697f1f4cffd>\u001b[0m in \u001b[0;36m<module>\u001b[1;34m\u001b[0m\n\u001b[0;32m     28\u001b[0m     \u001b[0mprint\u001b[0m\u001b[1;33m(\u001b[0m\u001b[0mexp\u001b[0m\u001b[1;33m[\u001b[0m\u001b[1;34m\"e_ball_results\"\u001b[0m\u001b[1;33m]\u001b[0m\u001b[1;33m)\u001b[0m\u001b[1;33m\u001b[0m\u001b[1;33m\u001b[0m\u001b[0m\n\u001b[0;32m     29\u001b[0m \u001b[1;33m\u001b[0m\u001b[0m\n\u001b[1;32m---> 30\u001b[1;33m \u001b[0mexp_eval_e_ball\u001b[0m\u001b[1;33m(\u001b[0m\u001b[0mCIFAR10\u001b[0m\u001b[1;33m)\u001b[0m\u001b[1;33m\u001b[0m\u001b[1;33m\u001b[0m\u001b[0m\n\u001b[0m",
      "\u001b[1;32m<ipython-input-8-8697f1f4cffd>\u001b[0m in \u001b[0;36mexp_eval_e_ball\u001b[1;34m(exp)\u001b[0m\n\u001b[0;32m     21\u001b[0m     \u001b[0mexp\u001b[0m\u001b[1;33m[\u001b[0m\u001b[1;34m\"e_ball_val_loader\"\u001b[0m\u001b[1;33m]\u001b[0m \u001b[1;33m=\u001b[0m \u001b[0mEBallLoader\u001b[0m\u001b[1;33m(\u001b[0m\u001b[0mexp\u001b[0m\u001b[1;33m[\u001b[0m\u001b[1;34m\"val_loader\"\u001b[0m\u001b[1;33m]\u001b[0m\u001b[1;33m)\u001b[0m\u001b[1;33m\u001b[0m\u001b[1;33m\u001b[0m\u001b[0m\n\u001b[0;32m     22\u001b[0m     \u001b[0mexp\u001b[0m\u001b[1;33m[\u001b[0m\u001b[1;34m\"model\"\u001b[0m\u001b[1;33m]\u001b[0m\u001b[1;33m.\u001b[0m\u001b[0meval\u001b[0m\u001b[1;33m(\u001b[0m\u001b[1;33m)\u001b[0m\u001b[1;33m\u001b[0m\u001b[1;33m\u001b[0m\u001b[0m\n\u001b[1;32m---> 23\u001b[1;33m     exp[\"e_ball_results\"] = train.eval_model(\n\u001b[0m\u001b[0;32m     24\u001b[0m         \u001b[0mmodel\u001b[0m\u001b[1;33m=\u001b[0m\u001b[0mexp\u001b[0m\u001b[1;33m[\u001b[0m\u001b[1;34m\"model\"\u001b[0m\u001b[1;33m]\u001b[0m\u001b[1;33m,\u001b[0m\u001b[1;33m\u001b[0m\u001b[1;33m\u001b[0m\u001b[0m\n\u001b[0;32m     25\u001b[0m         \u001b[0margs\u001b[0m\u001b[1;33m=\u001b[0m\u001b[0mexp\u001b[0m\u001b[1;33m[\u001b[0m\u001b[1;34m\"e_ball_args\"\u001b[0m\u001b[1;33m]\u001b[0m\u001b[1;33m,\u001b[0m\u001b[1;33m\u001b[0m\u001b[1;33m\u001b[0m\u001b[0m\n",
      "\u001b[1;32mf:\\users\\0\\main\\active\\erlija\\adversarial-ntks\\robustness\\robustness\\train.py\u001b[0m in \u001b[0;36meval_model\u001b[1;34m(args, model, loader, store)\u001b[0m\n\u001b[0;32m    151\u001b[0m     \u001b[0mmodel\u001b[0m \u001b[1;33m=\u001b[0m \u001b[0mch\u001b[0m\u001b[1;33m.\u001b[0m\u001b[0mnn\u001b[0m\u001b[1;33m.\u001b[0m\u001b[0mDataParallel\u001b[0m\u001b[1;33m(\u001b[0m\u001b[0mmodel\u001b[0m\u001b[1;33m)\u001b[0m\u001b[1;33m\u001b[0m\u001b[1;33m\u001b[0m\u001b[0m\n\u001b[0;32m    152\u001b[0m \u001b[1;33m\u001b[0m\u001b[0m\n\u001b[1;32m--> 153\u001b[1;33m     prec1, nat_loss = _model_loop(args, 'val', loader, \n\u001b[0m\u001b[0;32m    154\u001b[0m                                         model, None, 0, False, writer)\n\u001b[0;32m    155\u001b[0m \u001b[1;33m\u001b[0m\u001b[0m\n",
      "\u001b[1;32mf:\\users\\0\\main\\active\\erlija\\adversarial-ntks\\robustness\\robustness\\train.py\u001b[0m in \u001b[0;36m_model_loop\u001b[1;34m(args, loop_type, loader, model, opt, epoch, adv, writer)\u001b[0m\n\u001b[0;32m    442\u001b[0m \u001b[1;33m\u001b[0m\u001b[0m\n\u001b[0;32m    443\u001b[0m     \u001b[0miterator\u001b[0m \u001b[1;33m=\u001b[0m \u001b[0mtqdm\u001b[0m\u001b[1;33m(\u001b[0m\u001b[0menumerate\u001b[0m\u001b[1;33m(\u001b[0m\u001b[0mloader\u001b[0m\u001b[1;33m)\u001b[0m\u001b[1;33m,\u001b[0m \u001b[0mtotal\u001b[0m\u001b[1;33m=\u001b[0m\u001b[0mlen\u001b[0m\u001b[1;33m(\u001b[0m\u001b[0mloader\u001b[0m\u001b[1;33m)\u001b[0m\u001b[1;33m)\u001b[0m\u001b[1;33m\u001b[0m\u001b[1;33m\u001b[0m\u001b[0m\n\u001b[1;32m--> 444\u001b[1;33m     \u001b[1;32mfor\u001b[0m \u001b[0mi\u001b[0m\u001b[1;33m,\u001b[0m \u001b[1;33m(\u001b[0m\u001b[0minp\u001b[0m\u001b[1;33m,\u001b[0m \u001b[0mtarget\u001b[0m\u001b[1;33m)\u001b[0m \u001b[1;32min\u001b[0m \u001b[0miterator\u001b[0m\u001b[1;33m:\u001b[0m\u001b[1;33m\u001b[0m\u001b[1;33m\u001b[0m\u001b[0m\n\u001b[0m\u001b[0;32m    445\u001b[0m        \u001b[1;31m# measure data loading time\u001b[0m\u001b[1;33m\u001b[0m\u001b[1;33m\u001b[0m\u001b[1;33m\u001b[0m\u001b[0m\n\u001b[0;32m    446\u001b[0m         \u001b[0mtarget\u001b[0m \u001b[1;33m=\u001b[0m \u001b[0mtarget\u001b[0m\u001b[1;33m.\u001b[0m\u001b[0mcuda\u001b[0m\u001b[1;33m(\u001b[0m\u001b[0mnon_blocking\u001b[0m\u001b[1;33m=\u001b[0m\u001b[1;32mTrue\u001b[0m\u001b[1;33m)\u001b[0m\u001b[1;33m\u001b[0m\u001b[1;33m\u001b[0m\u001b[0m\n",
      "\u001b[1;32mc:\\Users\\0\\main\\active\\erlija\\adversarial-ntks\\.venv\\lib\\site-packages\\tqdm\\notebook.py\u001b[0m in \u001b[0;36m__iter__\u001b[1;34m(self, *args, **kwargs)\u001b[0m\n\u001b[0;32m    251\u001b[0m     \u001b[1;32mdef\u001b[0m \u001b[0m__iter__\u001b[0m\u001b[1;33m(\u001b[0m\u001b[0mself\u001b[0m\u001b[1;33m,\u001b[0m \u001b[1;33m*\u001b[0m\u001b[0margs\u001b[0m\u001b[1;33m,\u001b[0m \u001b[1;33m**\u001b[0m\u001b[0mkwargs\u001b[0m\u001b[1;33m)\u001b[0m\u001b[1;33m:\u001b[0m\u001b[1;33m\u001b[0m\u001b[1;33m\u001b[0m\u001b[0m\n\u001b[0;32m    252\u001b[0m         \u001b[1;32mtry\u001b[0m\u001b[1;33m:\u001b[0m\u001b[1;33m\u001b[0m\u001b[1;33m\u001b[0m\u001b[0m\n\u001b[1;32m--> 253\u001b[1;33m             \u001b[1;32mfor\u001b[0m \u001b[0mobj\u001b[0m \u001b[1;32min\u001b[0m \u001b[0msuper\u001b[0m\u001b[1;33m(\u001b[0m\u001b[0mtqdm_notebook\u001b[0m\u001b[1;33m,\u001b[0m \u001b[0mself\u001b[0m\u001b[1;33m)\u001b[0m\u001b[1;33m.\u001b[0m\u001b[0m__iter__\u001b[0m\u001b[1;33m(\u001b[0m\u001b[1;33m*\u001b[0m\u001b[0margs\u001b[0m\u001b[1;33m,\u001b[0m \u001b[1;33m**\u001b[0m\u001b[0mkwargs\u001b[0m\u001b[1;33m)\u001b[0m\u001b[1;33m:\u001b[0m\u001b[1;33m\u001b[0m\u001b[1;33m\u001b[0m\u001b[0m\n\u001b[0m\u001b[0;32m    254\u001b[0m                 \u001b[1;31m# return super(tqdm...) will not catch exception\u001b[0m\u001b[1;33m\u001b[0m\u001b[1;33m\u001b[0m\u001b[1;33m\u001b[0m\u001b[0m\n\u001b[0;32m    255\u001b[0m                 \u001b[1;32myield\u001b[0m \u001b[0mobj\u001b[0m\u001b[1;33m\u001b[0m\u001b[1;33m\u001b[0m\u001b[0m\n",
      "\u001b[1;32mc:\\Users\\0\\main\\active\\erlija\\adversarial-ntks\\.venv\\lib\\site-packages\\tqdm\\std.py\u001b[0m in \u001b[0;36m__iter__\u001b[1;34m(self)\u001b[0m\n\u001b[0;32m   1168\u001b[0m \u001b[1;33m\u001b[0m\u001b[0m\n\u001b[0;32m   1169\u001b[0m         \u001b[1;32mtry\u001b[0m\u001b[1;33m:\u001b[0m\u001b[1;33m\u001b[0m\u001b[1;33m\u001b[0m\u001b[0m\n\u001b[1;32m-> 1170\u001b[1;33m             \u001b[1;32mfor\u001b[0m \u001b[0mobj\u001b[0m \u001b[1;32min\u001b[0m \u001b[0miterable\u001b[0m\u001b[1;33m:\u001b[0m\u001b[1;33m\u001b[0m\u001b[1;33m\u001b[0m\u001b[0m\n\u001b[0m\u001b[0;32m   1171\u001b[0m                 \u001b[1;32myield\u001b[0m \u001b[0mobj\u001b[0m\u001b[1;33m\u001b[0m\u001b[1;33m\u001b[0m\u001b[0m\n\u001b[0;32m   1172\u001b[0m                 \u001b[1;31m# Update and possibly print the progressbar.\u001b[0m\u001b[1;33m\u001b[0m\u001b[1;33m\u001b[0m\u001b[1;33m\u001b[0m\u001b[0m\n",
      "\u001b[1;32m<ipython-input-8-8697f1f4cffd>\u001b[0m in \u001b[0;36m__next__\u001b[1;34m(self)\u001b[0m\n\u001b[0;32m     16\u001b[0m             \u001b[1;32mreturn\u001b[0m \u001b[0mself\u001b[0m\u001b[1;33m\u001b[0m\u001b[1;33m\u001b[0m\u001b[0m\n\u001b[0;32m     17\u001b[0m         \u001b[1;32mdef\u001b[0m \u001b[0m__next__\u001b[0m\u001b[1;33m(\u001b[0m\u001b[0mself\u001b[0m\u001b[1;33m)\u001b[0m\u001b[1;33m:\u001b[0m\u001b[1;33m\u001b[0m\u001b[1;33m\u001b[0m\u001b[0m\n\u001b[1;32m---> 18\u001b[1;33m             \u001b[1;32mreturn\u001b[0m \u001b[0mnext\u001b[0m\u001b[1;33m(\u001b[0m\u001b[0mself\u001b[0m\u001b[1;33m.\u001b[0m\u001b[0mloader\u001b[0m\u001b[1;33m)\u001b[0m\u001b[1;33m\u001b[0m\u001b[1;33m\u001b[0m\u001b[0m\n\u001b[0m\u001b[0;32m     19\u001b[0m         \u001b[1;32mdef\u001b[0m \u001b[0m__len__\u001b[0m\u001b[1;33m(\u001b[0m\u001b[0mself\u001b[0m\u001b[1;33m)\u001b[0m\u001b[1;33m:\u001b[0m\u001b[1;33m\u001b[0m\u001b[1;33m\u001b[0m\u001b[0m\n\u001b[0;32m     20\u001b[0m             \u001b[1;32mreturn\u001b[0m \u001b[0mlen\u001b[0m\u001b[1;33m(\u001b[0m\u001b[0mself\u001b[0m\u001b[1;33m.\u001b[0m\u001b[0mloader\u001b[0m\u001b[1;33m)\u001b[0m\u001b[1;33m\u001b[0m\u001b[1;33m\u001b[0m\u001b[0m\n",
      "\u001b[1;31mTypeError\u001b[0m: 'DataLoader' object is not an iterator"
     ]
    }
   ],
   "source": [
    "def exp_eval_e_ball(exp):\n",
    "    exp[\"e_ball_args\"] = defaults.check_and_fill_args(\n",
    "        args=cox.utils.Parameters({\n",
    "            \"adv_eval\": 0,\n",
    "            \"out_dir\": \".results\",\n",
    "            \"constraint\": \"inf\",\n",
    "            \"eps\": exp[\"perturb_eps\"],\n",
    "            \"attack_lr\": exp[\"attack_lr_scaling\"] * exp[\"perturb_eps\"] / exp[\"attack_steps\"],\n",
    "            \"attack_steps\": exp[\"attack_steps\"]}),\n",
    "        arg_list=defaults.PGD_ARGS,\n",
    "        ds_class=datasets.CIFAR)\n",
    "    class EBallLoader():\n",
    "        def __init__(self, loader):\n",
    "            self.loader = loader\n",
    "        def __iter__(self):\n",
    "            return self\n",
    "        def __next__(self):\n",
    "            return next(self.loader)\n",
    "        def __len__(self):\n",
    "            return len(self.loader)\n",
    "    exp[\"e_ball_val_loader\"] = EBallLoader(exp[\"val_loader\"])\n",
    "    exp[\"model\"].eval()\n",
    "    exp[\"e_ball_results\"] = train.eval_model(\n",
    "        model=exp[\"model\"],\n",
    "        args=exp[\"e_ball_args\"],\n",
    "        loader=exp[\"e_ball_val_loader\"],\n",
    "        store=exp[\"cox\"])\n",
    "    print(exp[\"e_ball_results\"])\n",
    "\n",
    "exp_eval_e_ball(CIFAR10)"
   ]
  },
  {
   "cell_type": "code",
   "execution_count": null,
   "metadata": {},
   "outputs": [],
   "source": [
    "def exp_eval_finetune(exp):\n",
    "    exp.update({\n",
    "        \"finetune_args\": defaults.check_and_fill_args(\n",
    "            args=cox.utils.Parameters({\n",
    "                \"adv_train\": 1,\n",
    "                \"out_dir\": \".results\",\n",
    "                \"constraint\": \"inf\",\n",
    "                \"eps\": exp[\"perturb_eps\"],\n",
    "                \"attack_lr\": exp[\"attack_lr_scaling\"] * exp[\"perturb_eps\"] / exp[\"attack_steps\"],\n",
    "                \"attack_steps\": exp[\"attack_steps\"]}),\n",
    "            arg_list=defaults.PGD_ARGS,\n",
    "            ds_class=datasets.CIFAR),\n",
    "        \"finetune_params\": exp[\"model\"].model.parameters()})\n",
    "    exp[\"finetune_args\"] = defaults.check_and_fill_args(\n",
    "        defaults.check_and_fill_args(\n",
    "            exp[\"finetune_args\"],\n",
    "            defaults.TRAINING_ARGS,\n",
    "            datasets.CIFAR),\n",
    "        defaults.PGD_ARGS,\n",
    "        datasets.CIFAR)\n",
    "    exp[\"model\"].train()\n",
    "    exp[\"finetune_results\"] = train.train_model(\n",
    "        model=exp[\"model\"],\n",
    "        update_params=exp[\"finetune_params\"],\n",
    "        args=exp[\"finetune_args\"],\n",
    "        loaders=(exp[\"train_loader\"], exp[\"val_loader\"]),\n",
    "        store=exp[\"cox\"])\n",
    "    print(exp[\"finetune_results\"])\n",
    "\n",
    "exp_eval_finetune(CIFAR10)"
   ]
  },
  {
   "cell_type": "code",
   "execution_count": null,
   "metadata": {},
   "outputs": [],
   "source": []
  }
 ]
}