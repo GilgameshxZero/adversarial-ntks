{
 "cells": [
  {
   "cell_type": "markdown",
   "id": "nutritional-declaration",
   "metadata": {},
   "source": [
    "# Setup"
   ]
  },
  {
   "cell_type": "markdown",
   "id": "short-venice",
   "metadata": {},
   "source": [
    "### Import dependencies"
   ]
  },
  {
   "cell_type": "code",
   "execution_count": 1,
   "id": "signed-andrews",
   "metadata": {},
   "outputs": [
    {
     "name": "stderr",
     "output_type": "stream",
     "text": [
      "/ufs/ttw/quada/miniconda3/envs/robustness/lib/python3.6/site-packages/robustness/train.py:24: UserWarning: Could not import amp.\n",
      "  warnings.warn('Could not import amp.')\n"
     ]
    },
    {
     "data": {
      "text/plain": [
       "'TITAN RTX'"
      ]
     },
     "execution_count": 1,
     "metadata": {},
     "output_type": "execute_result"
    }
   ],
   "source": [
    "import os\n",
    "os.environ[\"NOTEBOOK_MODE\"] = \"1\" # for robustness library\n",
    "\n",
    "from robustness import model_utils, datasets, train, defaults\n",
    "from robustness.datasets import CIFAR\n",
    "\n",
    "# We use cox (http://github.com/MadryLab/cox) to log, store and analyze\n",
    "# results. Read more at https//cox.readthedocs.io.\n",
    "from cox.utils import Parameters\n",
    "import cox.store\n",
    "\n",
    "import torch\n",
    "torch.cuda.get_device_name(0)"
   ]
  },
  {
   "cell_type": "markdown",
   "id": "sublime-threshold",
   "metadata": {},
   "source": [
    "### Download models\n",
    "From https://github.com/MadryLab/robustness.\n",
    "Two models downloaded:\n",
    "- CIFAR10 Linf-norm (ResNet50), ε = 0     (natural training)\n",
    "- CIFAR10 Linf-norm (ResNet50), ε = 8/255"
   ]
  },
  {
   "cell_type": "code",
   "execution_count": 2,
   "id": "conventional-backup",
   "metadata": {},
   "outputs": [],
   "source": [
    "!mkdir -p data/models\n",
    "!wget -q -O data/models/cifar_linf_8.pt \"https://www.dropbox.com/s/c9qlt1lbdnu9tlo/cifar_linf_8.pt?dl=1\"\n",
    "!wget -q -O data/models/cifar_nat.pt    \"https://www.dropbox.com/s/yhpp4yws7sgi6lj/cifar_nat.pt?dl=1\""
   ]
  },
  {
   "cell_type": "markdown",
   "id": "mysterious-possibility",
   "metadata": {},
   "source": [
    "### Load dataset and models"
   ]
  },
  {
   "cell_type": "code",
   "execution_count": 3,
   "id": "advanced-colony",
   "metadata": {},
   "outputs": [
    {
     "name": "stdout",
     "output_type": "stream",
     "text": [
      "==> Preparing dataset cifar..\n",
      "Files already downloaded and verified\n",
      "Files already downloaded and verified\n"
     ]
    }
   ],
   "source": [
    "DS = CIFAR(\"data\")\n",
    "TRAIN_LOADER, VAL_LOADER = DS.make_loaders(\n",
    "    batch_size=128, workers=12\n",
    ")"
   ]
  },
  {
   "cell_type": "code",
   "execution_count": 4,
   "id": "sublime-composite",
   "metadata": {},
   "outputs": [
    {
     "name": "stdout",
     "output_type": "stream",
     "text": [
      "=> loading checkpoint 'data/models/cifar_nat.pt'\n",
      "=> loaded checkpoint 'data/models/cifar_nat.pt' (epoch 190)\n",
      "=> loading checkpoint 'data/models/cifar_linf_8.pt'\n",
      "=> loaded checkpoint 'data/models/cifar_linf_8.pt' (epoch 153)\n",
      "=> loading checkpoint 'data/models/cifar_nat.pt'\n",
      "=> loaded checkpoint 'data/models/cifar_nat.pt' (epoch 190)\n"
     ]
    }
   ],
   "source": [
    "M_NAT, _ = model_utils.make_and_restore_model(\n",
    "    arch=\"resnet50\",\n",
    "    resume_path=\"data/models/cifar_nat.pt\",\n",
    "    dataset=DS, \n",
    ")\n",
    "M_NAT.eval()\n",
    "\n",
    "M_ADV, _ = model_utils.make_and_restore_model(\n",
    "    arch=\"resnet50\",\n",
    "    resume_path=\"data/models/cifar_linf_8.pt\",\n",
    "    dataset=DS, \n",
    ")\n",
    "M_ADV.eval()\n",
    "\n",
    "m_finetune, _ = model_utils.make_and_restore_model(\n",
    "    arch=\"resnet50\",\n",
    "    resume_path=\"data/models/cifar_nat.pt\",\n",
    "    dataset=DS, \n",
    ")\n",
    "m_finetune_params = m_finetune.model.linear.parameters()"
   ]
  },
  {
   "cell_type": "markdown",
   "id": "preliminary-transsexual",
   "metadata": {},
   "source": [
    "### Set up Cox logging"
   ]
  },
  {
   "cell_type": "code",
   "execution_count": 5,
   "id": "genetic-transaction",
   "metadata": {},
   "outputs": [
    {
     "name": "stdout",
     "output_type": "stream",
     "text": [
      "Logging in: /fs/data/ttw/code/adversarial-ntks/notebooks/discard-hypothesis/cox/c38c4c9e-7238-4b7f-b1f1-df320a66a88f\n"
     ]
    }
   ],
   "source": [
    "COX_STORE = cox.store.Store(\"cox\")"
   ]
  },
  {
   "cell_type": "markdown",
   "id": "disciplinary-india",
   "metadata": {},
   "source": [
    "# Baseline accuracies"
   ]
  },
  {
   "cell_type": "code",
   "execution_count": 6,
   "id": "affecting-pottery",
   "metadata": {},
   "outputs": [],
   "source": [
    "EVAL_ARGS = defaults.check_and_fill_args(\n",
    "    args=Parameters({\n",
    "        \"adv_eval\": 1,\n",
    "        \"out_dir\": \"eval_out\",\n",
    "        \"constraint\": 'inf', # L-inf PGD\n",
    "        \"eps\": 8.0 / 255.0, # Epsilon constraint (L-inf norm)\n",
    "        \"attack_lr\": 2.5 * 8 / 255 / 20,\n",
    "        \"attack_steps\": 20\n",
    "    }),\n",
    "    arg_list=defaults.PGD_ARGS,\n",
    "    ds_class=CIFAR\n",
    ")"
   ]
  },
  {
   "cell_type": "code",
   "execution_count": 7,
   "id": "medium-aviation",
   "metadata": {},
   "outputs": [
    {
     "data": {
      "application/vnd.jupyter.widget-view+json": {
       "model_id": "64b93170887a480b97115bec1bb029ab",
       "version_major": 2,
       "version_minor": 0
      },
      "text/plain": [
       "  0%|          | 0/79 [00:00<?, ?it/s]"
      ]
     },
     "metadata": {},
     "output_type": "display_data"
    },
    {
     "data": {
      "application/vnd.jupyter.widget-view+json": {
       "model_id": "134d154a96cf43618874919491445420",
       "version_major": 2,
       "version_minor": 0
      },
      "text/plain": [
       "  0%|          | 0/79 [00:00<?, ?it/s]"
      ]
     },
     "metadata": {},
     "output_type": "display_data"
    },
    {
     "data": {
      "text/plain": [
       "{'epoch': 0,\n",
       " 'nat_prec1': tensor(95.2500, device='cuda:0'),\n",
       " 'adv_prec1': tensor(0., device='cuda:0'),\n",
       " 'nat_loss': 0.19557516660168767,\n",
       " 'adv_loss': 26.358350354003907,\n",
       " 'train_prec1': nan,\n",
       " 'train_loss': nan,\n",
       " 'time': 158.10954117774963}"
      ]
     },
     "execution_count": 7,
     "metadata": {},
     "output_type": "execute_result"
    }
   ],
   "source": [
    "train.eval_model(\n",
    "    model=M_NAT,\n",
    "    args=EVAL_ARGS,\n",
    "    loader=VAL_LOADER,\n",
    "    store=COX_STORE\n",
    ")"
   ]
  },
  {
   "cell_type": "code",
   "execution_count": 8,
   "id": "chinese-recruitment",
   "metadata": {},
   "outputs": [
    {
     "data": {
      "application/vnd.jupyter.widget-view+json": {
       "model_id": "a4ebb2c4dedd4f6f84370be005b63b0d",
       "version_major": 2,
       "version_minor": 0
      },
      "text/plain": [
       "  0%|          | 0/79 [00:00<?, ?it/s]"
      ]
     },
     "metadata": {},
     "output_type": "display_data"
    },
    {
     "data": {
      "application/vnd.jupyter.widget-view+json": {
       "model_id": "b66bbd799d0e4b3b9e984e9cd647b162",
       "version_major": 2,
       "version_minor": 0
      },
      "text/plain": [
       "  0%|          | 0/79 [00:00<?, ?it/s]"
      ]
     },
     "metadata": {},
     "output_type": "display_data"
    },
    {
     "data": {
      "text/plain": [
       "{'epoch': 0,\n",
       " 'nat_prec1': tensor(87.0300, device='cuda:0'),\n",
       " 'adv_prec1': tensor(53.5000, device='cuda:0'),\n",
       " 'nat_loss': 0.43732129278182985,\n",
       " 'adv_loss': 1.3028398469924927,\n",
       " 'train_prec1': nan,\n",
       " 'train_loss': nan,\n",
       " 'time': 164.59000420570374}"
      ]
     },
     "execution_count": 8,
     "metadata": {},
     "output_type": "execute_result"
    }
   ],
   "source": [
    "train.eval_model(\n",
    "    model=M_ADV,\n",
    "    args=EVAL_ARGS,\n",
    "    loader=VAL_LOADER,\n",
    "    store=COX_STORE\n",
    ")"
   ]
  },
  {
   "cell_type": "markdown",
   "id": "conservative-composition",
   "metadata": {},
   "source": [
    "# Adversarial finetuning "
   ]
  },
  {
   "cell_type": "code",
   "execution_count": 9,
   "id": "experimental-beast",
   "metadata": {},
   "outputs": [],
   "source": [
    "TRAIN_ARGS = Parameters({\n",
    "    \"out_dir\": \"train_out\",\n",
    "    \"adv_train\": 1, # Use adversarial training\n",
    "    \"constraint\": 'inf', # L-inf PGD\n",
    "    \"eps\": 8.0 / 255.0, # Epsilon constraint (L-inf norm)\n",
    "    \"attack_lr\": 2.5 * 8 / 255 / 20,\n",
    "    \"attack_steps\": 20\n",
    "})\n",
    "\n",
    "# Fill whatever parameters are missing from the defaults\n",
    "TRAIN_ARGS = defaults.check_and_fill_args(\n",
    "    TRAIN_ARGS, defaults.TRAINING_ARGS, CIFAR\n",
    ")\n",
    "TRAIN_ARGS = defaults.check_and_fill_args(\n",
    "    TRAIN_ARGS, defaults.PGD_ARGS, CIFAR\n",
    ")"
   ]
  },
  {
   "cell_type": "code",
   "execution_count": null,
   "id": "robust-patent",
   "metadata": {},
   "outputs": [],
   "source": [
    "# Train a model\n",
    "train.train_model(\n",
    "    model=m_finetune,\n",
    "    update_params=m_finetune_params,\n",
    "    args=TRAIN_ARGS,\n",
    "    loaders=(TRAIN_LOADER, VAL_LOADER),\n",
    "    store=COX_STORE\n",
    ")"
   ]
  }
 ],
 "metadata": {
  "kernelspec": {
   "display_name": "Python 3",
   "language": "python",
   "name": "python3"
  },
  "language_info": {
   "codemirror_mode": {
    "name": "ipython",
    "version": 3
   },
   "file_extension": ".py",
   "mimetype": "text/x-python",
   "name": "python",
   "nbconvert_exporter": "python",
   "pygments_lexer": "ipython3",
   "version": "3.6.12"
  }
 },
 "nbformat": 4,
 "nbformat_minor": 5
}
