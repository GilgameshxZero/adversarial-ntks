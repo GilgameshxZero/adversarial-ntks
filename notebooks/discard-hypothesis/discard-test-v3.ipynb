{
 "cells": [
  {
   "cell_type": "markdown",
   "id": "recorded-campbell",
   "metadata": {},
   "source": [
    "### Experiment Summary\n",
    "Finetune the last layer of a adversarially trained model using adversarial loss.\n",
    "We **do** re-initialize the last layer."
   ]
  },
  {
   "cell_type": "markdown",
   "id": "variable-republican",
   "metadata": {},
   "source": [
    "# Setup"
   ]
  },
  {
   "cell_type": "markdown",
   "id": "mental-ordinance",
   "metadata": {},
   "source": [
    "### Import dependencies"
   ]
  },
  {
   "cell_type": "code",
   "execution_count": 1,
   "id": "genetic-winter",
   "metadata": {},
   "outputs": [
    {
     "name": "stderr",
     "output_type": "stream",
     "text": [
      "/ufs/ttw/quada/miniconda3/envs/robustness/lib/python3.6/site-packages/robustness/train.py:24: UserWarning: Could not import amp.\n",
      "  warnings.warn('Could not import amp.')\n"
     ]
    },
    {
     "data": {
      "text/plain": [
       "['TITAN RTX', 'TITAN RTX']"
      ]
     },
     "execution_count": 1,
     "metadata": {},
     "output_type": "execute_result"
    }
   ],
   "source": [
    "import os\n",
    "os.environ[\"NOTEBOOK_MODE\"] = \"1\" # for robustness library\n",
    "\n",
    "from robustness import model_utils, datasets, train, defaults\n",
    "from robustness.datasets import CIFAR\n",
    "\n",
    "# We use cox (http://github.com/MadryLab/cox) to log, store and analyze\n",
    "# results. Read more at https//cox.readthedocs.io.\n",
    "from cox.utils import Parameters\n",
    "import cox.store\n",
    "\n",
    "import torch\n",
    "[torch.cuda.get_device_name(a) for a in range(torch.cuda.device_count())]"
   ]
  },
  {
   "cell_type": "markdown",
   "id": "intermediate-wholesale",
   "metadata": {},
   "source": [
    "### Download models\n",
    "From https://github.com/MadryLab/robustness.\n",
    "Two models downloaded:\n",
    "- CIFAR10 Linf-norm (ResNet50), ε = 0     (natural training)\n",
    "- CIFAR10 Linf-norm (ResNet50), ε = 8/255"
   ]
  },
  {
   "cell_type": "code",
   "execution_count": 2,
   "id": "turned-winner",
   "metadata": {},
   "outputs": [],
   "source": [
    "!mkdir -p data/models\n",
    "!wget -q -O data/models/cifar_linf_8.pt \"https://www.dropbox.com/s/c9qlt1lbdnu9tlo/cifar_linf_8.pt?dl=1\"\n",
    "!wget -q -O data/models/cifar_nat.pt    \"https://www.dropbox.com/s/yhpp4yws7sgi6lj/cifar_nat.pt?dl=1\""
   ]
  },
  {
   "cell_type": "markdown",
   "id": "fifty-quality",
   "metadata": {},
   "source": [
    "### Load dataset and models"
   ]
  },
  {
   "cell_type": "code",
   "execution_count": 3,
   "id": "reported-mills",
   "metadata": {},
   "outputs": [
    {
     "name": "stdout",
     "output_type": "stream",
     "text": [
      "==> Preparing dataset cifar..\n",
      "Files already downloaded and verified\n",
      "Files already downloaded and verified\n"
     ]
    }
   ],
   "source": [
    "DS = CIFAR(\"data\")\n",
    "TRAIN_LOADER, VAL_LOADER = DS.make_loaders(\n",
    "    batch_size=128, workers=12\n",
    ")"
   ]
  },
  {
   "cell_type": "code",
   "execution_count": 4,
   "id": "humanitarian-poison",
   "metadata": {},
   "outputs": [
    {
     "name": "stdout",
     "output_type": "stream",
     "text": [
      "=> loading checkpoint 'data/models/cifar_nat.pt'\n",
      "=> loaded checkpoint 'data/models/cifar_nat.pt' (epoch 190)\n",
      "=> loading checkpoint 'data/models/cifar_linf_8.pt'\n",
      "=> loaded checkpoint 'data/models/cifar_linf_8.pt' (epoch 153)\n"
     ]
    }
   ],
   "source": [
    "M_NAT, _ = model_utils.make_and_restore_model(\n",
    "    arch=\"resnet50\",\n",
    "    resume_path=\"data/models/cifar_nat.pt\",\n",
    "    dataset=DS, \n",
    ")\n",
    "M_NAT.eval()\n",
    "\n",
    "M_ADV, _ = model_utils.make_and_restore_model(\n",
    "    arch=\"resnet50\",\n",
    "    resume_path=\"data/models/cifar_linf_8.pt\",\n",
    "    dataset=DS, \n",
    ")\n",
    "M_ADV.eval();"
   ]
  },
  {
   "cell_type": "code",
   "execution_count": 5,
   "id": "rolled-citizen",
   "metadata": {},
   "outputs": [
    {
     "name": "stdout",
     "output_type": "stream",
     "text": [
      "=> loading checkpoint 'data/models/cifar_linf_8.pt'\n",
      "=> loaded checkpoint 'data/models/cifar_linf_8.pt' (epoch 153)\n"
     ]
    }
   ],
   "source": [
    "torch.manual_seed(42)\n",
    "\n",
    "m_finetune, _ = model_utils.make_and_restore_model(\n",
    "    arch=\"resnet50\",\n",
    "    resume_path=\"data/models/cifar_linf_8.pt\",\n",
    "    dataset=DS, \n",
    ")\n",
    "\n",
    "for p1, p2 in zip(m_finetune.model.linear.parameters(), M_ADV.model.linear.parameters()):\n",
    "    assert torch.equal(p1, p2)\n",
    "\n",
    "m_finetune.model.linear.reset_parameters()\n",
    "    \n",
    "for p1, p2 in zip(m_finetune.model.linear.parameters(), M_ADV.model.linear.parameters()):\n",
    "    assert not torch.equal(p1, p2)\n",
    "    \n",
    "m_finetune_params = m_finetune.model.linear.parameters()"
   ]
  },
  {
   "cell_type": "markdown",
   "id": "premium-sewing",
   "metadata": {},
   "source": [
    "### Set up Cox logging"
   ]
  },
  {
   "cell_type": "code",
   "execution_count": 6,
   "id": "promising-washer",
   "metadata": {},
   "outputs": [
    {
     "name": "stdout",
     "output_type": "stream",
     "text": [
      "Logging in: /fs/data/ttw/code/adversarial-ntks/notebooks/discard-hypothesis/cox/d18955d1-e7a7-403e-a67f-e8eac9ca5ff5\n"
     ]
    }
   ],
   "source": [
    "COX_STORE = cox.store.Store(\"cox\")"
   ]
  },
  {
   "cell_type": "markdown",
   "id": "changed-booking",
   "metadata": {},
   "source": [
    "# Baseline accuracies"
   ]
  },
  {
   "cell_type": "code",
   "execution_count": 7,
   "id": "remarkable-calculation",
   "metadata": {},
   "outputs": [],
   "source": [
    "EVAL_ARGS = defaults.check_and_fill_args(\n",
    "    args=Parameters({\n",
    "        \"adv_eval\": 1,\n",
    "        \"out_dir\": \"eval_out\",\n",
    "        \"constraint\": 'inf', # L-inf PGD\n",
    "        \"eps\": 8.0 / 255.0, # Epsilon constraint (L-inf norm)\n",
    "        \"attack_lr\": 2.5 * 8 / 255 / 20,\n",
    "        \"attack_steps\": 20\n",
    "    }),\n",
    "    arg_list=defaults.PGD_ARGS,\n",
    "    ds_class=CIFAR\n",
    ")"
   ]
  },
  {
   "cell_type": "code",
   "execution_count": 8,
   "id": "affected-calibration",
   "metadata": {},
   "outputs": [
    {
     "data": {
      "application/vnd.jupyter.widget-view+json": {
       "model_id": "7576f785fdb7491fb2b3aec1f09d60c8",
       "version_major": 2,
       "version_minor": 0
      },
      "text/plain": [
       "  0%|          | 0/79 [00:00<?, ?it/s]"
      ]
     },
     "metadata": {},
     "output_type": "display_data"
    },
    {
     "data": {
      "application/vnd.jupyter.widget-view+json": {
       "model_id": "aa70065ed4c54555913d9cb6b5c727e2",
       "version_major": 2,
       "version_minor": 0
      },
      "text/plain": [
       "  0%|          | 0/79 [00:00<?, ?it/s]"
      ]
     },
     "metadata": {},
     "output_type": "display_data"
    },
    {
     "data": {
      "text/plain": [
       "{'epoch': 0,\n",
       " 'nat_prec1': tensor(10.6200, device='cuda:0'),\n",
       " 'adv_prec1': tensor(5.0700, device='cuda:0'),\n",
       " 'nat_loss': 2.313063435745239,\n",
       " 'adv_loss': 2.354172681427002,\n",
       " 'train_prec1': nan,\n",
       " 'train_loss': nan,\n",
       " 'time': 174.07334542274475}"
      ]
     },
     "execution_count": 8,
     "metadata": {},
     "output_type": "execute_result"
    }
   ],
   "source": [
    "m_finetune.eval()\n",
    "train.eval_model(\n",
    "    model=m_finetune,\n",
    "    args=EVAL_ARGS,\n",
    "    loader=VAL_LOADER,\n",
    "    store=COX_STORE\n",
    ")"
   ]
  },
  {
   "cell_type": "code",
   "execution_count": 9,
   "id": "paperback-trance",
   "metadata": {},
   "outputs": [
    {
     "data": {
      "application/vnd.jupyter.widget-view+json": {
       "model_id": "3245fb493d3e4342a68f2c768cbddd74",
       "version_major": 2,
       "version_minor": 0
      },
      "text/plain": [
       "  0%|          | 0/79 [00:00<?, ?it/s]"
      ]
     },
     "metadata": {},
     "output_type": "display_data"
    },
    {
     "data": {
      "application/vnd.jupyter.widget-view+json": {
       "model_id": "c66e47eb379f4abdb0acdeaf7ca8b4c0",
       "version_major": 2,
       "version_minor": 0
      },
      "text/plain": [
       "  0%|          | 0/79 [00:00<?, ?it/s]"
      ]
     },
     "metadata": {},
     "output_type": "display_data"
    },
    {
     "data": {
      "text/plain": [
       "{'epoch': 0,\n",
       " 'nat_prec1': tensor(87.0300, device='cuda:0'),\n",
       " 'adv_prec1': tensor(53.5000, device='cuda:0'),\n",
       " 'nat_loss': 0.4373213010787964,\n",
       " 'adv_loss': 1.302839260482788,\n",
       " 'train_prec1': nan,\n",
       " 'train_loss': nan,\n",
       " 'time': 176.0721390247345}"
      ]
     },
     "execution_count": 9,
     "metadata": {},
     "output_type": "execute_result"
    }
   ],
   "source": [
    "train.eval_model(\n",
    "    model=M_ADV,\n",
    "    args=EVAL_ARGS,\n",
    "    loader=VAL_LOADER,\n",
    "    store=COX_STORE\n",
    ")"
   ]
  },
  {
   "cell_type": "markdown",
   "id": "brazilian-suffering",
   "metadata": {},
   "source": [
    "# Adversarial finetuning "
   ]
  },
  {
   "cell_type": "code",
   "execution_count": 7,
   "id": "french-private",
   "metadata": {},
   "outputs": [],
   "source": [
    "TRAIN_ARGS = Parameters({\n",
    "    \"out_dir\": \"train_out\",\n",
    "    \"adv_train\": 1, # Use adversarial training\n",
    "    \"constraint\": 'inf', # L-inf PGD\n",
    "    \"eps\": 8.0 / 255.0, # Epsilon constraint (L-inf norm)\n",
    "    \"attack_lr\": 2.5 * 8 / 255 / 20,\n",
    "    \"attack_steps\": 20\n",
    "})\n",
    "\n",
    "# Fill whatever parameters are missing from the defaults\n",
    "TRAIN_ARGS = defaults.check_and_fill_args(\n",
    "    TRAIN_ARGS, defaults.TRAINING_ARGS, CIFAR\n",
    ")\n",
    "TRAIN_ARGS = defaults.check_and_fill_args(\n",
    "    TRAIN_ARGS, defaults.PGD_ARGS, CIFAR\n",
    ")"
   ]
  },
  {
   "cell_type": "code",
   "execution_count": null,
   "id": "atlantic-hotel",
   "metadata": {},
   "outputs": [
    {
     "data": {
      "application/vnd.jupyter.widget-view+json": {
       "model_id": "cd42bc17390b4635b6bd427b6ba8f56f",
       "version_major": 2,
       "version_minor": 0
      },
      "text/plain": [
       "  0%|          | 0/391 [00:00<?, ?it/s]"
      ]
     },
     "metadata": {},
     "output_type": "display_data"
    },
    {
     "data": {
      "application/vnd.jupyter.widget-view+json": {
       "model_id": "6a641bf7b238413cba6364dffb56194b",
       "version_major": 2,
       "version_minor": 0
      },
      "text/plain": [
       "  0%|          | 0/79 [00:00<?, ?it/s]"
      ]
     },
     "metadata": {},
     "output_type": "display_data"
    },
    {
     "data": {
      "application/vnd.jupyter.widget-view+json": {
       "model_id": "b673fa51f97e48f89b8fc76e13c06fd5",
       "version_major": 2,
       "version_minor": 0
      },
      "text/plain": [
       "  0%|          | 0/79 [00:00<?, ?it/s]"
      ]
     },
     "metadata": {},
     "output_type": "display_data"
    },
    {
     "data": {
      "application/vnd.jupyter.widget-view+json": {
       "model_id": "18f371548a5b41a9b2952bf857bbd7ea",
       "version_major": 2,
       "version_minor": 0
      },
      "text/plain": [
       "  0%|          | 0/391 [00:00<?, ?it/s]"
      ]
     },
     "metadata": {},
     "output_type": "display_data"
    }
   ],
   "source": [
    "# Train a model\n",
    "m_finetune.train()\n",
    "train.train_model(\n",
    "    model=m_finetune,\n",
    "    update_params=m_finetune_params,\n",
    "    args=TRAIN_ARGS,\n",
    "    loaders=(TRAIN_LOADER, VAL_LOADER),\n",
    "    store=COX_STORE\n",
    ")"
   ]
  }
 ],
 "metadata": {
  "kernelspec": {
   "display_name": "Python 3",
   "language": "python",
   "name": "python3"
  },
  "language_info": {
   "codemirror_mode": {
    "name": "ipython",
    "version": 3
   },
   "file_extension": ".py",
   "mimetype": "text/x-python",
   "name": "python",
   "nbconvert_exporter": "python",
   "pygments_lexer": "ipython3",
   "version": "3.6.12"
  }
 },
 "nbformat": 4,
 "nbformat_minor": 5
}
