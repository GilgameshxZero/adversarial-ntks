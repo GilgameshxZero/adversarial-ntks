{
 "cells": [
  {
   "cell_type": "markdown",
   "id": "complex-leisure",
   "metadata": {},
   "source": [
    "# Library testing\n",
    "This notebook tests the\n",
    "[MadryLab/robustness](https://github.com/MadryLab/robustness)\n",
    "package, and checks it\n",
    "[can hook up to tensorboardX](https://cox.readthedocs.io/en/latest/examples/2.html)."
   ]
  },
  {
   "cell_type": "markdown",
   "id": "english-playing",
   "metadata": {},
   "source": [
    "### Import dependencies"
   ]
  },
  {
   "cell_type": "code",
   "execution_count": 1,
   "id": "heavy-concord",
   "metadata": {},
   "outputs": [
    {
     "name": "stderr",
     "output_type": "stream",
     "text": [
      "/home/ttw/.miniconda3/envs/robustness/lib/python3.6/site-packages/robustness/train.py:24: UserWarning: Could not import amp.\n",
      "  warnings.warn('Could not import amp.')\n"
     ]
    },
    {
     "data": {
      "text/plain": [
       "'GeForce RTX 3080'"
      ]
     },
     "execution_count": 1,
     "metadata": {},
     "output_type": "execute_result"
    }
   ],
   "source": [
    "import os\n",
    "os.environ[\"NOTEBOOK_MODE\"] = \"1\" # for robustness library\n",
    "\n",
    "from robustness import model_utils, datasets, train, defaults\n",
    "from robustness.datasets import CIFAR\n",
    "\n",
    "# We use cox (http://github.com/MadryLab/cox) to log, store and analyze\n",
    "# results. Read more at https//cox.readthedocs.io.\n",
    "from cox.utils import Parameters\n",
    "import cox.store\n",
    "\n",
    "import torch\n",
    "torch.cuda.get_device_name(0)"
   ]
  },
  {
   "cell_type": "markdown",
   "id": "imposed-language",
   "metadata": {},
   "source": [
    "### Training setup"
   ]
  },
  {
   "cell_type": "code",
   "execution_count": 2,
   "id": "polar-hello",
   "metadata": {},
   "outputs": [
    {
     "name": "stdout",
     "output_type": "stream",
     "text": [
      "==> Preparing dataset cifar..\n",
      "Files already downloaded and verified\n",
      "Files already downloaded and verified\n",
      "Logging in: /home/ttw/code/adversarial-ntks/notebooks/discard-hypothesis/cox/d7a17496-bc89-488e-8085-9e89a62a526f\n"
     ]
    }
   ],
   "source": [
    "# Hard-coded dataset, architecture, batch size, workers\n",
    "ds = CIFAR('/tmp/')\n",
    "m, _ = model_utils.make_and_restore_model(\n",
    "    arch='resnet50', dataset=ds\n",
    ")\n",
    "train_loader, val_loader = ds.make_loaders(\n",
    "    batch_size=64, workers=24\n",
    ")\n",
    "\n",
    "# Create a cox store for logging\n",
    "out_store = cox.store.Store(\"./cox\")\n",
    "\n",
    "# Hard-coded base parameters\n",
    "train_kwargs = {\n",
    "    'out_dir': \"train_out\",\n",
    "    'adv_train': 1, # Use adversarial training\n",
    "    'constraint': 'inf', # L-inf PGD\n",
    "    'eps': 8.0 / 255.0, # Epsilon constraint (L-inf norm)\n",
    "    'attack_lr': 1.5,\n",
    "    'attack_steps': 20\n",
    "}\n",
    "train_args = Parameters(train_kwargs)\n",
    "\n",
    "# Fill whatever parameters are missing from the defaults\n",
    "train_args = defaults.check_and_fill_args(train_args,\n",
    "                        defaults.TRAINING_ARGS, CIFAR)\n",
    "train_args = defaults.check_and_fill_args(train_args,\n",
    "                        defaults.PGD_ARGS, CIFAR)"
   ]
  },
  {
   "cell_type": "markdown",
   "id": "bottom-publisher",
   "metadata": {},
   "source": [
    "### Train"
   ]
  },
  {
   "cell_type": "code",
   "execution_count": null,
   "id": "cross-northern",
   "metadata": {},
   "outputs": [],
   "source": [
    "# Train a model\n",
    "train.train_model(\n",
    "    train_args,\n",
    "    m,\n",
    "    (train_loader, val_loader),\n",
    "    store=out_store\n",
    ")"
   ]
  }
 ],
 "metadata": {
  "kernelspec": {
   "display_name": "Python 3",
   "language": "python",
   "name": "python3"
  },
  "language_info": {
   "codemirror_mode": {
    "name": "ipython",
    "version": 3
   },
   "file_extension": ".py",
   "mimetype": "text/x-python",
   "name": "python",
   "nbconvert_exporter": "python",
   "pygments_lexer": "ipython3",
   "version": "3.6.12"
  }
 },
 "nbformat": 4,
 "nbformat_minor": 5
}
