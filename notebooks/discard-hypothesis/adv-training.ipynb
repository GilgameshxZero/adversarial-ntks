{
 "cells": [
  {
   "cell_type": "markdown",
   "id": "frequent-trainer",
   "metadata": {},
   "source": [
    "This notebook does standard adversarial training as a baseline."
   ]
  },
  {
   "cell_type": "markdown",
   "id": "missing-reunion",
   "metadata": {},
   "source": [
    "# Setup"
   ]
  },
  {
   "cell_type": "markdown",
   "id": "coated-belgium",
   "metadata": {},
   "source": [
    "### Import dependencies"
   ]
  },
  {
   "cell_type": "code",
   "execution_count": 1,
   "id": "connected-kruger",
   "metadata": {},
   "outputs": [
    {
     "name": "stderr",
     "output_type": "stream",
     "text": [
      "/ufs/ttw/quada/miniconda3/envs/robustness/lib/python3.6/site-packages/robustness/train.py:24: UserWarning: Could not import amp.\n",
      "  warnings.warn('Could not import amp.')\n"
     ]
    },
    {
     "data": {
      "text/plain": [
       "'TITAN RTX'"
      ]
     },
     "execution_count": 1,
     "metadata": {},
     "output_type": "execute_result"
    }
   ],
   "source": [
    "import os\n",
    "os.environ[\"NOTEBOOK_MODE\"] = \"1\" # for robustness library\n",
    "\n",
    "from robustness import model_utils, datasets, train, defaults\n",
    "from robustness.datasets import CIFAR\n",
    "\n",
    "# We use cox (http://github.com/MadryLab/cox) to log, store and analyze\n",
    "# results. Read more at https//cox.readthedocs.io.\n",
    "from cox.utils import Parameters\n",
    "import cox.store\n",
    "\n",
    "import torch\n",
    "torch.cuda.get_device_name(0)"
   ]
  },
  {
   "cell_type": "markdown",
   "id": "direct-toner",
   "metadata": {},
   "source": [
    "### Load dataset and create model"
   ]
  },
  {
   "cell_type": "code",
   "execution_count": 2,
   "id": "aquatic-assumption",
   "metadata": {},
   "outputs": [
    {
     "name": "stdout",
     "output_type": "stream",
     "text": [
      "==> Preparing dataset cifar..\n",
      "Files already downloaded and verified\n",
      "Files already downloaded and verified\n"
     ]
    }
   ],
   "source": [
    "DS = CIFAR(\"data\")\n",
    "TRAIN_LOADER, VAL_LOADER = DS.make_loaders(\n",
    "    batch_size=128, workers=12\n",
    ")"
   ]
  },
  {
   "cell_type": "code",
   "execution_count": 3,
   "id": "inside-childhood",
   "metadata": {},
   "outputs": [],
   "source": [
    "m_resnet50, _ = model_utils.make_and_restore_model(\n",
    "    arch=\"resnet50\",\n",
    "    dataset=DS, \n",
    ")"
   ]
  },
  {
   "cell_type": "markdown",
   "id": "challenging-white",
   "metadata": {},
   "source": [
    "### Set up Cox logging"
   ]
  },
  {
   "cell_type": "code",
   "execution_count": 4,
   "id": "complete-gather",
   "metadata": {},
   "outputs": [
    {
     "name": "stdout",
     "output_type": "stream",
     "text": [
      "Logging in: /fs/data/ttw/code/adversarial-ntks/notebooks/discard-hypothesis/cox/cef3bae3-1dfc-4b8b-a787-0ca7f424f8ea\n"
     ]
    }
   ],
   "source": [
    "COX_STORE = cox.store.Store(\"cox\")"
   ]
  },
  {
   "cell_type": "markdown",
   "id": "ordered-checkout",
   "metadata": {},
   "source": [
    "# Accuracy at init"
   ]
  },
  {
   "cell_type": "code",
   "execution_count": 5,
   "id": "selected-wheat",
   "metadata": {},
   "outputs": [],
   "source": [
    "EVAL_ARGS = defaults.check_and_fill_args(\n",
    "    args=Parameters({\n",
    "        \"adv_eval\": 1,\n",
    "        \"out_dir\": \"eval_out\",\n",
    "        \"constraint\": 'inf', # L-inf PGD\n",
    "        \"eps\": 8.0 / 255.0, # Epsilon constraint (L-inf norm)\n",
    "        \"attack_lr\": 2.5 * 8 / 255 / 20,\n",
    "        \"attack_steps\": 20\n",
    "    }),\n",
    "    arg_list=defaults.PGD_ARGS,\n",
    "    ds_class=CIFAR\n",
    ")"
   ]
  },
  {
   "cell_type": "code",
   "execution_count": 6,
   "id": "parliamentary-sitting",
   "metadata": {},
   "outputs": [
    {
     "data": {
      "application/vnd.jupyter.widget-view+json": {
       "model_id": "4838d884c3b04265bbd8095242529945",
       "version_major": 2,
       "version_minor": 0
      },
      "text/plain": [
       "  0%|          | 0/79 [00:00<?, ?it/s]"
      ]
     },
     "metadata": {},
     "output_type": "display_data"
    },
    {
     "data": {
      "application/vnd.jupyter.widget-view+json": {
       "model_id": "540682b98fae482eae2bf2d2bc88f2e4",
       "version_major": 2,
       "version_minor": 0
      },
      "text/plain": [
       "  0%|          | 0/79 [00:00<?, ?it/s]"
      ]
     },
     "metadata": {},
     "output_type": "display_data"
    },
    {
     "data": {
      "text/plain": [
       "{'epoch': 0,\n",
       " 'nat_prec1': tensor(9.5500, device='cuda:0'),\n",
       " 'adv_prec1': tensor(1.2600, device='cuda:0'),\n",
       " 'nat_loss': 2.3029249923706057,\n",
       " 'adv_loss': 2.308146116256714,\n",
       " 'train_prec1': nan,\n",
       " 'train_loss': nan,\n",
       " 'time': 154.21001958847046}"
      ]
     },
     "execution_count": 6,
     "metadata": {},
     "output_type": "execute_result"
    }
   ],
   "source": [
    "train.eval_model(\n",
    "    model=m_resnet50,\n",
    "    args=EVAL_ARGS,\n",
    "    loader=VAL_LOADER,\n",
    "    store=COX_STORE\n",
    ")"
   ]
  },
  {
   "cell_type": "markdown",
   "id": "suspected-drama",
   "metadata": {},
   "source": [
    "# Adversarial finetuning "
   ]
  },
  {
   "cell_type": "code",
   "execution_count": 7,
   "id": "permanent-wallace",
   "metadata": {},
   "outputs": [],
   "source": [
    "TRAIN_ARGS = Parameters({\n",
    "    \"out_dir\": \"train_out\",\n",
    "    \"adv_train\": 1, # Use adversarial training\n",
    "    \"constraint\": 'inf', # L-inf PGD\n",
    "    \"eps\": 8.0 / 255.0, # Epsilon constraint (L-inf norm)\n",
    "    \"attack_lr\": 2.5 * 8 / 255 / 20,\n",
    "    \"attack_steps\": 20\n",
    "})\n",
    "\n",
    "# Fill whatever parameters are missing from the defaults\n",
    "TRAIN_ARGS = defaults.check_and_fill_args(\n",
    "    TRAIN_ARGS, defaults.TRAINING_ARGS, CIFAR\n",
    ")\n",
    "TRAIN_ARGS = defaults.check_and_fill_args(\n",
    "    TRAIN_ARGS, defaults.PGD_ARGS, CIFAR\n",
    ")"
   ]
  },
  {
   "cell_type": "code",
   "execution_count": null,
   "id": "judicial-energy",
   "metadata": {},
   "outputs": [
    {
     "data": {
      "application/vnd.jupyter.widget-view+json": {
       "model_id": "b63b1bfca75140729c3b28ac57a0c24a",
       "version_major": 2,
       "version_minor": 0
      },
      "text/plain": [
       "  0%|          | 0/391 [00:00<?, ?it/s]"
      ]
     },
     "metadata": {},
     "output_type": "display_data"
    }
   ],
   "source": [
    "# Train a model\n",
    "train.train_model(\n",
    "    model=m_resnet50,\n",
    "    update_params=m_resnet50.model.parameters(),\n",
    "    args=TRAIN_ARGS,\n",
    "    loaders=(TRAIN_LOADER, VAL_LOADER),\n",
    "    store=COX_STORE\n",
    ")"
   ]
  }
 ],
 "metadata": {
  "kernelspec": {
   "display_name": "Python 3",
   "language": "python",
   "name": "python3"
  },
  "language_info": {
   "codemirror_mode": {
    "name": "ipython",
    "version": 3
   },
   "file_extension": ".py",
   "mimetype": "text/x-python",
   "name": "python",
   "nbconvert_exporter": "python",
   "pygments_lexer": "ipython3",
   "version": "3.6.12"
  }
 },
 "nbformat": 4,
 "nbformat_minor": 5
}
