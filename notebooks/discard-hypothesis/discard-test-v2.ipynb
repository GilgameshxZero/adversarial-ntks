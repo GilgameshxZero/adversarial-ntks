{
 "cells": [
  {
   "cell_type": "markdown",
   "id": "central-crossing",
   "metadata": {},
   "source": [
    "### Experiment Summary\n",
    "Finetune the last layer of a naturally trained model using adversarial loss.\n",
    "We **do** re-initialize the last layer."
   ]
  },
  {
   "cell_type": "markdown",
   "id": "immediate-limit",
   "metadata": {},
   "source": [
    "# Setup"
   ]
  },
  {
   "cell_type": "markdown",
   "id": "mathematical-paris",
   "metadata": {},
   "source": [
    "### Import dependencies"
   ]
  },
  {
   "cell_type": "code",
   "execution_count": 1,
   "id": "lonely-niagara",
   "metadata": {},
   "outputs": [
    {
     "name": "stderr",
     "output_type": "stream",
     "text": [
      "/ufs/ttw/quada/miniconda3/envs/robustness/lib/python3.6/site-packages/robustness/train.py:24: UserWarning: Could not import amp.\n",
      "  warnings.warn('Could not import amp.')\n"
     ]
    },
    {
     "data": {
      "text/plain": [
       "['GeForce RTX 3090']"
      ]
     },
     "execution_count": 1,
     "metadata": {},
     "output_type": "execute_result"
    }
   ],
   "source": [
    "import os\n",
    "os.environ[\"NOTEBOOK_MODE\"] = \"1\" # for robustness library\n",
    "\n",
    "from robustness import model_utils, datasets, train, defaults\n",
    "from robustness.datasets import CIFAR\n",
    "\n",
    "# We use cox (http://github.com/MadryLab/cox) to log, store and analyze\n",
    "# results. Read more at https//cox.readthedocs.io.\n",
    "from cox.utils import Parameters\n",
    "import cox.store\n",
    "\n",
    "import torch\n",
    "[torch.cuda.get_device_name(a) for a in range(torch.cuda.device_count())]"
   ]
  },
  {
   "cell_type": "markdown",
   "id": "novel-today",
   "metadata": {},
   "source": [
    "### Download models\n",
    "From https://github.com/MadryLab/robustness.\n",
    "Two models downloaded:\n",
    "- CIFAR10 Linf-norm (ResNet50), ε = 0     (natural training)\n",
    "- CIFAR10 Linf-norm (ResNet50), ε = 8/255"
   ]
  },
  {
   "cell_type": "code",
   "execution_count": 2,
   "id": "loaded-chassis",
   "metadata": {},
   "outputs": [],
   "source": [
    "!mkdir -p data/models\n",
    "!wget -q -O data/models/cifar_linf_8.pt \"https://www.dropbox.com/s/c9qlt1lbdnu9tlo/cifar_linf_8.pt?dl=1\"\n",
    "!wget -q -O data/models/cifar_nat.pt    \"https://www.dropbox.com/s/yhpp4yws7sgi6lj/cifar_nat.pt?dl=1\""
   ]
  },
  {
   "cell_type": "markdown",
   "id": "adult-cisco",
   "metadata": {},
   "source": [
    "### Load dataset and models"
   ]
  },
  {
   "cell_type": "code",
   "execution_count": 2,
   "id": "historic-cursor",
   "metadata": {},
   "outputs": [
    {
     "name": "stdout",
     "output_type": "stream",
     "text": [
      "==> Preparing dataset cifar..\n",
      "Files already downloaded and verified\n",
      "Files already downloaded and verified\n"
     ]
    }
   ],
   "source": [
    "DS = CIFAR(\"data\")\n",
    "TRAIN_LOADER, VAL_LOADER = DS.make_loaders(\n",
    "    batch_size=128, workers=12\n",
    ")"
   ]
  },
  {
   "cell_type": "code",
   "execution_count": 3,
   "id": "brave-ireland",
   "metadata": {},
   "outputs": [
    {
     "name": "stdout",
     "output_type": "stream",
     "text": [
      "=> loading checkpoint 'data/models/cifar_nat.pt'\n",
      "=> loaded checkpoint 'data/models/cifar_nat.pt' (epoch 190)\n",
      "=> loading checkpoint 'data/models/cifar_linf_8.pt'\n",
      "=> loaded checkpoint 'data/models/cifar_linf_8.pt' (epoch 153)\n"
     ]
    }
   ],
   "source": [
    "M_NAT, _ = model_utils.make_and_restore_model(\n",
    "    arch=\"resnet50\",\n",
    "    resume_path=\"data/models/cifar_nat.pt\",\n",
    "    dataset=DS, \n",
    ")\n",
    "M_NAT.eval()\n",
    "\n",
    "M_ADV, _ = model_utils.make_and_restore_model(\n",
    "    arch=\"resnet50\",\n",
    "    resume_path=\"data/models/cifar_linf_8.pt\",\n",
    "    dataset=DS, \n",
    ")\n",
    "M_ADV.eval();"
   ]
  },
  {
   "cell_type": "code",
   "execution_count": 4,
   "id": "chubby-national",
   "metadata": {},
   "outputs": [
    {
     "name": "stdout",
     "output_type": "stream",
     "text": [
      "=> loading checkpoint 'data/models/cifar_nat.pt'\n",
      "=> loaded checkpoint 'data/models/cifar_nat.pt' (epoch 190)\n"
     ]
    }
   ],
   "source": [
    "torch.manual_seed(42)\n",
    "\n",
    "m_finetune, _ = model_utils.make_and_restore_model(\n",
    "    arch=\"resnet50\",\n",
    "    resume_path=\"data/models/cifar_nat.pt\",\n",
    "    dataset=DS, \n",
    ")\n",
    "\n",
    "for p1, p2 in zip(m_finetune.model.linear.parameters(), M_NAT.model.linear.parameters()):\n",
    "    assert torch.equal(p1, p2)\n",
    "\n",
    "m_finetune.model.linear.reset_parameters()\n",
    "    \n",
    "for p1, p2 in zip(m_finetune.model.linear.parameters(), M_NAT.model.linear.parameters()):\n",
    "    assert not torch.equal(p1, p2)\n",
    "    \n",
    "m_finetune_params = m_finetune.model.linear.parameters()"
   ]
  },
  {
   "cell_type": "markdown",
   "id": "miniature-cancellation",
   "metadata": {},
   "source": [
    "### Set up Cox logging"
   ]
  },
  {
   "cell_type": "code",
   "execution_count": 5,
   "id": "several-metabolism",
   "metadata": {},
   "outputs": [
    {
     "name": "stdout",
     "output_type": "stream",
     "text": [
      "Logging in: /rfs/quada/ttw/code/adversarial-ntks/notebooks/discard-hypothesis/cox/114ceb62-9909-436a-8dfb-396ebc7cdde8\n"
     ]
    }
   ],
   "source": [
    "COX_STORE = cox.store.Store(\"cox\")"
   ]
  },
  {
   "cell_type": "markdown",
   "id": "extensive-planner",
   "metadata": {},
   "source": [
    "# Baseline accuracies"
   ]
  },
  {
   "cell_type": "code",
   "execution_count": 7,
   "id": "integrated-shaft",
   "metadata": {},
   "outputs": [],
   "source": [
    "EVAL_ARGS = defaults.check_and_fill_args(\n",
    "    args=Parameters({\n",
    "        \"adv_eval\": 1,\n",
    "        \"out_dir\": \"eval_out\",\n",
    "        \"constraint\": 'inf', # L-inf PGD\n",
    "        \"eps\": 8.0 / 255.0, # Epsilon constraint (L-inf norm)\n",
    "        \"attack_lr\": 2.5 * 8 / 255 / 20,\n",
    "        \"attack_steps\": 20\n",
    "    }),\n",
    "    arg_list=defaults.PGD_ARGS,\n",
    "    ds_class=CIFAR\n",
    ")"
   ]
  },
  {
   "cell_type": "code",
   "execution_count": 8,
   "id": "legal-proposition",
   "metadata": {},
   "outputs": [
    {
     "data": {
      "application/vnd.jupyter.widget-view+json": {
       "model_id": "ba89ce9ea1394a688523cdcf06d0d663",
       "version_major": 2,
       "version_minor": 0
      },
      "text/plain": [
       "  0%|          | 0/79 [00:00<?, ?it/s]"
      ]
     },
     "metadata": {},
     "output_type": "display_data"
    },
    {
     "data": {
      "application/vnd.jupyter.widget-view+json": {
       "model_id": "6b003ff2b03145788b2382f9283a7e4a",
       "version_major": 2,
       "version_minor": 0
      },
      "text/plain": [
       "  0%|          | 0/79 [00:00<?, ?it/s]"
      ]
     },
     "metadata": {},
     "output_type": "display_data"
    },
    {
     "data": {
      "text/plain": [
       "{'epoch': 0,\n",
       " 'nat_prec1': tensor(5.8600, device='cuda:0'),\n",
       " 'adv_prec1': tensor(0., device='cuda:0'),\n",
       " 'nat_loss': 2.294361653518677,\n",
       " 'adv_loss': 2.577602601623535,\n",
       " 'train_prec1': nan,\n",
       " 'train_loss': nan,\n",
       " 'time': 218.8739378452301}"
      ]
     },
     "execution_count": 8,
     "metadata": {},
     "output_type": "execute_result"
    }
   ],
   "source": [
    "m_finetune.eval()\n",
    "train.eval_model(\n",
    "    model=m_finetune,\n",
    "    args=EVAL_ARGS,\n",
    "    loader=VAL_LOADER,\n",
    "    store=COX_STORE\n",
    ")"
   ]
  },
  {
   "cell_type": "code",
   "execution_count": 9,
   "id": "private-mileage",
   "metadata": {},
   "outputs": [
    {
     "data": {
      "application/vnd.jupyter.widget-view+json": {
       "model_id": "34e7698567684b818cde6dd545abc298",
       "version_major": 2,
       "version_minor": 0
      },
      "text/plain": [
       "  0%|          | 0/79 [00:00<?, ?it/s]"
      ]
     },
     "metadata": {},
     "output_type": "display_data"
    },
    {
     "data": {
      "application/vnd.jupyter.widget-view+json": {
       "model_id": "c1862f270aff47288c135b377f635ce1",
       "version_major": 2,
       "version_minor": 0
      },
      "text/plain": [
       "  0%|          | 0/79 [00:00<?, ?it/s]"
      ]
     },
     "metadata": {},
     "output_type": "display_data"
    },
    {
     "data": {
      "text/plain": [
       "{'epoch': 0,\n",
       " 'nat_prec1': tensor(95.2500, device='cuda:0'),\n",
       " 'adv_prec1': tensor(0., device='cuda:0'),\n",
       " 'nat_loss': 0.19557504131793976,\n",
       " 'adv_loss': 26.358837536621095,\n",
       " 'train_prec1': nan,\n",
       " 'train_loss': nan,\n",
       " 'time': 207.5380458831787}"
      ]
     },
     "execution_count": 9,
     "metadata": {},
     "output_type": "execute_result"
    }
   ],
   "source": [
    "train.eval_model(\n",
    "    model=M_NAT,\n",
    "    args=EVAL_ARGS,\n",
    "    loader=VAL_LOADER,\n",
    "    store=COX_STORE\n",
    ")"
   ]
  },
  {
   "cell_type": "markdown",
   "id": "homeless-copper",
   "metadata": {},
   "source": [
    "# Adversarial finetuning "
   ]
  },
  {
   "cell_type": "code",
   "execution_count": 6,
   "id": "novel-driving",
   "metadata": {},
   "outputs": [],
   "source": [
    "TRAIN_ARGS = Parameters({\n",
    "    \"out_dir\": \"train_out\",\n",
    "    \"adv_train\": 1, # Use adversarial training\n",
    "    \"constraint\": 'inf', # L-inf PGD\n",
    "    \"eps\": 8.0 / 255.0, # Epsilon constraint (L-inf norm)\n",
    "    \"attack_lr\": 2.5 * 8 / 255 / 20,\n",
    "    \"attack_steps\": 20\n",
    "})\n",
    "\n",
    "# Fill whatever parameters are missing from the defaults\n",
    "TRAIN_ARGS = defaults.check_and_fill_args(\n",
    "    TRAIN_ARGS, defaults.TRAINING_ARGS, CIFAR\n",
    ")\n",
    "TRAIN_ARGS = defaults.check_and_fill_args(\n",
    "    TRAIN_ARGS, defaults.PGD_ARGS, CIFAR\n",
    ")"
   ]
  },
  {
   "cell_type": "code",
   "execution_count": null,
   "id": "bacterial-mitchell",
   "metadata": {},
   "outputs": [
    {
     "data": {
      "application/vnd.jupyter.widget-view+json": {
       "model_id": "9a000cfea7744cf4a65066d85def425a",
       "version_major": 2,
       "version_minor": 0
      },
      "text/plain": [
       "  0%|          | 0/391 [00:00<?, ?it/s]"
      ]
     },
     "metadata": {},
     "output_type": "display_data"
    },
    {
     "data": {
      "application/vnd.jupyter.widget-view+json": {
       "model_id": "0492614afcb54db88ae3a05d5a7da918",
       "version_major": 2,
       "version_minor": 0
      },
      "text/plain": [
       "  0%|          | 0/79 [00:00<?, ?it/s]"
      ]
     },
     "metadata": {},
     "output_type": "display_data"
    },
    {
     "data": {
      "application/vnd.jupyter.widget-view+json": {
       "model_id": "03b7a45e0b2745c0bd162c93e877be27",
       "version_major": 2,
       "version_minor": 0
      },
      "text/plain": [
       "  0%|          | 0/79 [00:00<?, ?it/s]"
      ]
     },
     "metadata": {},
     "output_type": "display_data"
    },
    {
     "data": {
      "application/vnd.jupyter.widget-view+json": {
       "model_id": "4f05c2f0a747488685c5c894a0b8c7e2",
       "version_major": 2,
       "version_minor": 0
      },
      "text/plain": [
       "  0%|          | 0/391 [00:00<?, ?it/s]"
      ]
     },
     "metadata": {},
     "output_type": "display_data"
    },
    {
     "data": {
      "application/vnd.jupyter.widget-view+json": {
       "model_id": "769e36523d2d4c3c8ab10a0a7515d9bd",
       "version_major": 2,
       "version_minor": 0
      },
      "text/plain": [
       "  0%|          | 0/391 [00:00<?, ?it/s]"
      ]
     },
     "metadata": {},
     "output_type": "display_data"
    }
   ],
   "source": [
    "# Train a model\n",
    "m_finetune.train()\n",
    "train.train_model(\n",
    "    model=m_finetune,\n",
    "    update_params=m_finetune_params,\n",
    "    args=TRAIN_ARGS,\n",
    "    loaders=(TRAIN_LOADER, VAL_LOADER),\n",
    "    store=COX_STORE\n",
    ")"
   ]
  }
 ],
 "metadata": {
  "kernelspec": {
   "display_name": "Python 3",
   "language": "python",
   "name": "python3"
  },
  "language_info": {
   "codemirror_mode": {
    "name": "ipython",
    "version": 3
   },
   "file_extension": ".py",
   "mimetype": "text/x-python",
   "name": "python",
   "nbconvert_exporter": "python",
   "pygments_lexer": "ipython3",
   "version": "3.6.12"
  }
 },
 "nbformat": 4,
 "nbformat_minor": 5
}
