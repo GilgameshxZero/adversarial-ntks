{
  "nbformat": 4,
  "nbformat_minor": 0,
  "metadata": {
    "colab": {
      "name": "pip-git-demo",
      "provenance": [],
      "authorship_tag": "ABX9TyMIbiSylrheq2Na64hpWAP9",
      "include_colab_link": true
    },
    "kernelspec": {
      "name": "python3",
      "display_name": "Python 3"
    }
  },
  "cells": [
    {
      "cell_type": "markdown",
      "metadata": {
        "id": "view-in-github",
        "colab_type": "text"
      },
      "source": [
        "<a href=\"https://colab.research.google.com/github/GilgameshxZero/adversarial-ntks/blob/master/notebooks/pip_git_demo.ipynb\" target=\"_parent\"><img src=\"https://colab.research.google.com/assets/colab-badge.svg\" alt=\"Open In Colab\"/></a>"
      ]
    },
    {
      "cell_type": "code",
      "metadata": {
        "colab": {
          "base_uri": "https://localhost:8080/"
        },
        "id": "FzWNPPGxhW8l",
        "outputId": "469799d8-0c43-4445-f562-93640f695f77"
      },
      "source": [
        "!pip install -q git+https://github.com/GilgameshxZero/adversarial-ntks"
      ],
      "execution_count": 12,
      "outputs": [
        {
          "output_type": "stream",
          "text": [
            "  Building wheel for adversarial-ntks (setup.py) ... \u001b[?25l\u001b[?25hdone\n"
          ],
          "name": "stdout"
        }
      ]
    },
    {
      "cell_type": "code",
      "metadata": {
        "id": "7wiwNK_9hfSv"
      },
      "source": [
        "import adversarial_ntks as atk"
      ],
      "execution_count": 13,
      "outputs": []
    },
    {
      "cell_type": "code",
      "metadata": {
        "id": "EzygJHfzhv6m"
      },
      "source": [
        "xs, ys = atk.dataset.get_np_data(\"mnist\", \"test\", False, True, 7)"
      ],
      "execution_count": 14,
      "outputs": []
    },
    {
      "cell_type": "code",
      "metadata": {
        "colab": {
          "base_uri": "https://localhost:8080/",
          "height": 59
        },
        "id": "5XWlNbw5jqnf",
        "outputId": "36a06ebd-9cfc-45d7-ced3-5cc8c133b07b"
      },
      "source": [
        "atk.dataset.plot_sample_data(xs, 10)"
      ],
      "execution_count": 15,
      "outputs": [
        {
          "output_type": "display_data",
          "data": {
            "image/png": "[encoded data removed]",
            "text/plain": [
              "<Figure size 432x288 with 10 Axes>"
            ]
          },
          "metadata": {
            "tags": [],
            "needs_background": "light"
          }
        }
      ]
    }
  ]
}