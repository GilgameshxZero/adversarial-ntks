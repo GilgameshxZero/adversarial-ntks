{
  "nbformat": 4,
  "nbformat_minor": 0,
  "metadata": {
    "colab": {
      "name": "tony-neural-tangent-tests.ipynb",
      "provenance": [],
      "collapsed_sections": [],
      "include_colab_link": true
    },
    "kernelspec": {
      "name": "python3",
      "display_name": "Python 3"
    },
    "accelerator": "GPU"
  },
  "cells": [
    {
      "cell_type": "markdown",
      "metadata": {
        "id": "view-in-github",
        "colab_type": "text"
      },
      "source": [
        "<a href=\"https://colab.research.google.com/github/GilgameshxZero/adversarial-ntks/blob/master/notebooks/tony_neural_tangent_tests.ipynb\" target=\"_parent\"><img src=\"https://colab.research.google.com/assets/colab-badge.svg\" alt=\"Open In Colab\"/></a>"
      ]
    },
    {
      "cell_type": "markdown",
      "metadata": {
        "id": "uqTetcpTlfdN"
      },
      "source": [
        "# Load libraries"
      ]
    },
    {
      "cell_type": "code",
      "metadata": {
        "id": "7R6NbpfUkQBa",
        "colab": {
          "base_uri": "https://localhost:8080/"
        },
        "outputId": "c5c95afb-6862-4ae3-a371-52751b800be0"
      },
      "source": [
        "!pip install -q git+https://www.github.com/google/neural-tangents\n",
        "#!pip install neural-tangents"
      ],
      "execution_count": null,
      "outputs": [
        {
          "output_type": "stream",
          "text": [
            "  Building wheel for neural-tangents (setup.py) ... \u001b[?25l\u001b[?25hdone\n",
            "  Building wheel for frozendict (setup.py) ... \u001b[?25l\u001b[?25hdone\n"
          ],
          "name": "stdout"
        }
      ]
    },
    {
      "cell_type": "code",
      "metadata": {
        "id": "4d3-iXTnkkOQ"
      },
      "source": [
        "import matplotlib.pyplot as plt\n",
        "\n",
        "import jax\n",
        "import jax.numpy as np\n",
        "import jax.test_util\n",
        "from jax import random\n",
        "from jax.config import config\n",
        "config.update(\"jax_enable_x64\", True)\n",
        "#config.update(\"jax_debug_nans\", True)\n",
        "\n",
        "from neural_tangents import stax"
      ],
      "execution_count": null,
      "outputs": []
    },
    {
      "cell_type": "markdown",
      "metadata": {
        "id": "iew70hjcllXB"
      },
      "source": [
        "# `neural-tangents` Experiments\n"
      ]
    },
    {
      "cell_type": "code",
      "metadata": {
        "id": "XV4G8t0DlkgM",
        "colab": {
          "base_uri": "https://localhost:8080/"
        },
        "outputId": "b356a2ae-228d-405e-9cfa-ae5a6c86964b"
      },
      "source": [
        "# 3 hidden layer MLP w/ Erf\n",
        "_, _, kernel_fn = stax.serial(\n",
        "    stax.Dense(10, b_std=0), stax.Erf(do_backprop=True),\n",
        "    stax.Dense(10, b_std=0), stax.Erf(do_backprop=True),\n",
        "    stax.Dense(10, b_std=0), stax.Erf(do_backprop=True),\n",
        "    stax.Dense(1)\n",
        ")\n",
        "\n",
        "def ntk_fn(x1, x2):\n",
        "    return kernel_fn(x1[np.newaxis, :], x2[np.newaxis, :], 'ntk')[0][0]\n",
        "\n",
        "key1, key2 = random.split(random.PRNGKey(1))\n",
        "x1 = random.normal(key1, (10,))\n",
        "x2 = random.normal(key2, (10,))\n",
        "\n",
        "k = ntk_fn(x1, x2)\n",
        "k, jax.grad(ntk_fn)(x1, x2)"
      ],
      "execution_count": null,
      "outputs": [
        {
          "output_type": "execute_result",
          "data": {
            "text/plain": [
              "(-0.16446650957241896,\n",
              " DeviceArray([ 0.1080845 ,  0.0319964 ,  0.0967302 , -0.090911  ,\n",
              "               0.04354237, -0.01629721,  0.04291772,  0.06851599,\n",
              "               0.16631563,  0.00406718], dtype=float64))"
            ]
          },
          "metadata": {
            "tags": []
          },
          "execution_count": 3
        }
      ]
    },
    {
      "cell_type": "code",
      "metadata": {
        "colab": {
          "base_uri": "https://localhost:8080/"
        },
        "id": "n39tUNrxZ_Ea",
        "outputId": "3f994d68-260f-49e3-9fcc-b8ed95daaeb2"
      },
      "source": [
        "_, _, kernel_fn = stax.serial(\n",
        "    stax.Dense(10, b_std=0), stax.Erf(),\n",
        "    stax.Dense(10, b_std=0), stax.Erf(),\n",
        "    stax.Dense(10, b_std=0), stax.Erf(),\n",
        "    stax.Dense(1)\n",
        ")\n",
        "\n",
        "def ntk_fn(x1, x2):\n",
        "    return kernel_fn(x1[np.newaxis, :], x2[np.newaxis, :], 'ntk')[0][0]\n",
        "\n",
        "k = ntk_fn(x1, x2)\n",
        "k, jax.grad(ntk_fn)(x1, x2)"
      ],
      "execution_count": null,
      "outputs": [
        {
          "output_type": "execute_result",
          "data": {
            "text/plain": [
              "(-0.16446650957241896,\n",
              " DeviceArray([ 0.1080845 ,  0.0319964 ,  0.0967302 , -0.090911  ,\n",
              "               0.04354237, -0.01629721,  0.04291772,  0.06851599,\n",
              "               0.16631563,  0.00406718], dtype=float64))"
            ]
          },
          "metadata": {
            "tags": []
          },
          "execution_count": 4
        }
      ]
    },
    {
      "cell_type": "markdown",
      "metadata": {
        "id": "icocKP6tbqPO"
      },
      "source": [
        "`do_backprop` has no effect on `Erf` activations."
      ]
    },
    {
      "cell_type": "code",
      "metadata": {
        "id": "4n2p6ySo6tGu",
        "colab": {
          "base_uri": "https://localhost:8080/"
        },
        "outputId": "2531949d-5ae0-40a1-8151-356dfa536fb0"
      },
      "source": [
        "_, _, kernel_fn = stax.serial(\n",
        "    stax.Dense(10, b_std=0), stax.Relu(do_backprop=True),\n",
        "    stax.Dense(1)\n",
        ")\n",
        "\n",
        "def ntk_fn(x1, x2):\n",
        "    return kernel_fn(x1[np.newaxis, :], x2[np.newaxis, :], 'ntk')[0][0]\n",
        "\n",
        "key1, key2 = random.split(random.PRNGKey(1))\n",
        "x1 = random.normal(key1, (10,))\n",
        "x2 = random.normal(key2, (10,))\n",
        "\n",
        "k = ntk_fn(x1, x2)\n",
        "k, jax.grad(ntk_fn)(x1, x2)"
      ],
      "execution_count": null,
      "outputs": [
        {
          "output_type": "execute_result",
          "data": {
            "text/plain": [
              "(0.05902106676197317,\n",
              " DeviceArray([ 0.03937906,  0.010709  ,  0.02438244, -0.0375245 ,\n",
              "               0.0149665 , -0.00779888,  0.01736132,  0.03186729,\n",
              "               0.06773327,  0.01223979], dtype=float64))"
            ]
          },
          "metadata": {
            "tags": []
          },
          "execution_count": 4
        }
      ]
    },
    {
      "cell_type": "code",
      "metadata": {
        "id": "3u3KuJw47Qfq",
        "colab": {
          "base_uri": "https://localhost:8080/"
        },
        "outputId": "dbbcaf31-58a1-4fd9-913d-66bc8fdf92fd"
      },
      "source": [
        "_, _, kernel_fn = stax.serial(\n",
        "    stax.Dense(10, b_std=1), stax.Relu(do_backprop=True),\n",
        "    stax.Dense(10, b_std=1), stax.Relu(do_backprop=True),\n",
        "    stax.Dense(1)\n",
        ")\n",
        "\n",
        "def ntk_fn(x1, x2):\n",
        "    return kernel_fn(x1[np.newaxis, :], x2[np.newaxis, :], 'ntk')[0][0]\n",
        "\n",
        "key1, key2 = random.split(random.PRNGKey(1))\n",
        "x1 = random.normal(key1, (10,))\n",
        "x2 = random.normal(key2, (10,))\n",
        "\n",
        "k = ntk_fn(x1, x2)\n",
        "k, jax.grad(ntk_fn)(x1, x2)"
      ],
      "execution_count": null,
      "outputs": [
        {
          "output_type": "execute_result",
          "data": {
            "text/plain": [
              "(1.5124872096486435,\n",
              " DeviceArray([ 0.05077614,  0.01504856,  0.04563932, -0.04262839,\n",
              "               0.02047172, -0.00762233,  0.02013064,  0.03206218,\n",
              "               0.07800243,  0.00171531], dtype=float64))"
            ]
          },
          "metadata": {
            "tags": []
          },
          "execution_count": 5
        }
      ]
    },
    {
      "cell_type": "code",
      "metadata": {
        "id": "C4LxQr8q0UU8"
      },
      "source": [
        "thetas = np.arange(0.0, 6 * np.pi, 0.01)\n",
        "xs = np.cos(thetas)\n",
        "ys = np.sin(thetas)\n",
        "\n",
        "exps = np.stack([xs, ys], axis=1)\n",
        "exps.shape\n",
        "\n",
        "K = kernel_fn(np.array([[-1, 0]]), exps, 'ntk').flatten()"
      ],
      "execution_count": null,
      "outputs": []
    },
    {
      "cell_type": "code",
      "metadata": {
        "id": "oVh6tbBMzt1Y",
        "colab": {
          "base_uri": "https://localhost:8080/",
          "height": 282
        },
        "outputId": "0d494846-bf49-408d-c6d9-249bafd46e34"
      },
      "source": [
        "plt.plot(thetas, K)"
      ],
      "execution_count": null,
      "outputs": [
        {
          "output_type": "execute_result",
          "data": {
            "text/plain": [
              "[<matplotlib.lines.Line2D at 0x7f6280395f60>]"
            ]
          },
          "metadata": {
            "tags": []
          },
          "execution_count": 52
        },
        {
          "output_type": "display_data",
          "data": {
            "image/png": "[encoded data removed]",
            "text/plain": [
              "<Figure size 432x288 with 1 Axes>"
            ]
          },
          "metadata": {
            "tags": [],
            "needs_background": "light"
          }
        }
      ]
    },
    {
      "cell_type": "code",
      "metadata": {
        "id": "PDwiFWK-2DIc",
        "colab": {
          "base_uri": "https://localhost:8080/",
          "height": 282
        },
        "outputId": "de457c0a-7a8a-45b2-beaf-776304e39b42"
      },
      "source": [
        "plt.plot(-xs, K)"
      ],
      "execution_count": null,
      "outputs": [
        {
          "output_type": "execute_result",
          "data": {
            "text/plain": [
              "[<matplotlib.lines.Line2D at 0x7f5f13a03518>]"
            ]
          },
          "metadata": {
            "tags": []
          },
          "execution_count": 53
        },
        {
          "output_type": "display_data",
          "data": {
            "image/png": "[encoded data removed]",
            "text/plain": [
              "<Figure size 432x288 with 1 Axes>"
            ]
          },
          "metadata": {
            "tags": [],
            "needs_background": "light"
          }
        }
      ]
    },
    {
      "cell_type": "code",
      "metadata": {
        "id": "b-UkmgUXpLpZ"
      },
      "source": [
        "#jax.test_util.check_grads(ntk_fn, (x1, x2), order=1)"
      ],
      "execution_count": null,
      "outputs": []
    },
    {
      "cell_type": "markdown",
      "metadata": {
        "id": "VltjR0vapq9O"
      },
      "source": [
        "# Behavior of analytic ReLu NTK"
      ]
    },
    {
      "cell_type": "code",
      "metadata": {
        "id": "xrbGbU6Qpxm-",
        "colab": {
          "base_uri": "https://localhost:8080/",
          "height": 281
        },
        "outputId": "48ca65b3-6f65-49bb-8806-524a4a4238b7"
      },
      "source": [
        "def relu_d2_ntk_fn_u(u):\n",
        "    return 1 + (\n",
        "        (2 * u + 1) * (np.pi - np.arccos(u))\n",
        "        + (1 - u * u)\n",
        "    ) / np.pi\n",
        "\n",
        "\n",
        "def relu_d2_ntk_fn(x1, x2):\n",
        "    n1 = np.sqrt(x1.dot(x1))\n",
        "    n2 = np.sqrt(x2.dot(x2))\n",
        "    u = x1.dot(x2) / n1 / n2\n",
        "    print(u)\n",
        "    return relu_d2_ntk_fn_u(u) * n1 * n2\n",
        "\n",
        "\n",
        "plt.figure(figsize=(12, 4))\n",
        "plt.subplot(1, 2, 1)\n",
        "us = np.arange(-1.0, 1.0, 0.01)\n",
        "plt.plot(us, relu_d2_ntk_fn_u(us))\n",
        "plt.title(\"kernel_fn\")\n",
        "\n",
        "plt.subplot(1, 2, 2)\n",
        "us = np.arange(-1.0, 1.0, 0.01)\n",
        "plt.plot(us, [jax.grad(relu_d2_ntk_fn_u)(u) for u in us])\n",
        "plt.title(\"grad(kernel_fn)\");"
      ],
      "execution_count": null,
      "outputs": [
        {
          "output_type": "display_data",
          "data": {
            "image/png": "[encoded data removed]",
            "text/plain": [
              "<Figure size 864x288 with 2 Axes>"
            ]
          },
          "metadata": {
            "tags": [],
            "needs_background": "light"
          }
        }
      ]
    },
    {
      "cell_type": "code",
      "metadata": {
        "id": "gSYDspmGuRVQ",
        "colab": {
          "base_uri": "https://localhost:8080/"
        },
        "outputId": "a0cea930-76e6-476f-96a4-194d55f90864"
      },
      "source": [
        "def prod_norms(x1, x2):\n",
        "    return np.sqrt(x1.dot(x1)) * np.sqrt(x2.dot(x2))\n",
        "\n",
        "prod_norms(x1, x2)"
      ],
      "execution_count": null,
      "outputs": [
        {
          "output_type": "execute_result",
          "data": {
            "text/plain": [
              "DeviceArray(8.16051088, dtype=float64)"
            ]
          },
          "metadata": {
            "tags": []
          },
          "execution_count": 7
        }
      ]
    },
    {
      "cell_type": "code",
      "metadata": {
        "id": "xNitgAaOs2iA",
        "colab": {
          "base_uri": "https://localhost:8080/"
        },
        "outputId": "5156d098-fba9-4411-e3aa-d969b3ccfe77"
      },
      "source": [
        "relu_d2_ntk_fn(x1, x2), jax.grad(relu_d2_ntk_fn)(x1, x2)"
      ],
      "execution_count": null,
      "outputs": [
        {
          "output_type": "stream",
          "text": [
            "-0.19120536197282786\n",
            "Traced<ConcreteArray(-0.19120536197282786)>with<JVPTrace(level=2/0)>\n",
            "  with primal = DeviceArray(-0.19120536, dtype=float64)\n",
            "       tangent = Traced<ShapedArray(float64[]):JaxprTrace(level=1/0)>\n"
          ],
          "name": "stdout"
        },
        {
          "output_type": "execute_result",
          "data": {
            "text/plain": [
              "(DeviceArray(12.87440003, dtype=float64),\n",
              " DeviceArray([ 0.82814301,  0.0451041 , -1.54951248, -1.62514752,\n",
              "               0.14430205, -0.51745522,  0.69265902,  1.98132148,\n",
              "               2.78003448,  2.30033325], dtype=float64))"
            ]
          },
          "metadata": {
            "tags": []
          },
          "execution_count": 8
        }
      ]
    },
    {
      "cell_type": "markdown",
      "metadata": {
        "id": "1iddZ3VHqmnR"
      },
      "source": [
        "# Conclusions\n",
        "\n",
        "We can take the gradients of the NTK for MLPs\n",
        "as long as we remember to set `do_backprop=True`.\n",
        "\n",
        "~However, for multi-layer MLPs, we can only compute NTK gradients when we use Erf activations. When using ReLU activations, we get `nan`s.~\n",
        "\n",
        "~This holds on both GPU and CPU. And when bias std is 1 or zero.~\n",
        "\n",
        "https://github.com/google/neural-tangents/issues/73\n",
        "and\n",
        "https://github.com/google/neural-tangents/issues/76#issuecomment-707159772\n",
        "comment on this issue."
      ]
    }
  ]
}