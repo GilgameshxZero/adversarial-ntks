{
  "nbformat": 4,
  "nbformat_minor": 0,
  "metadata": {
    "accelerator": "GPU",
    "colab": {
      "name": "iou-colab-clone.ipynb",
      "provenance": [],
      "collapsed_sections": []
    },
    "kernelspec": {
      "display_name": "Python 3",
      "name": "python3"
    },
    "language_info": {
      "name": "python"
    },
    "widgets": {
      "application/vnd.jupyter.widget-state+json": {
        "d10602ba89434669890c5a13798d5027": {
          "model_module": "@jupyter-widgets/controls",
          "model_name": "HBoxModel",
          "state": {
            "_view_name": "HBoxView",
            "_dom_classes": [],
            "_model_name": "HBoxModel",
            "_view_module": "@jupyter-widgets/controls",
            "_model_module_version": "1.5.0",
            "_view_count": null,
            "_view_module_version": "1.5.0",
            "box_style": "",
            "layout": "IPY_MODEL_84be1ba69c5a4ab2aafd2eef0e35352f",
            "_model_module": "@jupyter-widgets/controls",
            "children": [
              "IPY_MODEL_152b6f888fbb48d69863c43403723835",
              "IPY_MODEL_7f876601e49f44459f981418d3c6b806"
            ]
          }
        },
        "84be1ba69c5a4ab2aafd2eef0e35352f": {
          "model_module": "@jupyter-widgets/base",
          "model_name": "LayoutModel",
          "state": {
            "_view_name": "LayoutView",
            "grid_template_rows": null,
            "right": null,
            "justify_content": null,
            "_view_module": "@jupyter-widgets/base",
            "overflow": null,
            "_model_module_version": "1.2.0",
            "_view_count": null,
            "flex_flow": null,
            "width": null,
            "min_width": null,
            "border": null,
            "align_items": null,
            "bottom": null,
            "_model_module": "@jupyter-widgets/base",
            "top": null,
            "grid_column": null,
            "overflow_y": null,
            "overflow_x": null,
            "grid_auto_flow": null,
            "grid_area": null,
            "grid_template_columns": null,
            "flex": null,
            "_model_name": "LayoutModel",
            "justify_items": null,
            "grid_row": null,
            "max_height": null,
            "align_content": null,
            "visibility": null,
            "align_self": null,
            "height": null,
            "min_height": null,
            "padding": null,
            "grid_auto_rows": null,
            "grid_gap": null,
            "max_width": null,
            "order": null,
            "_view_module_version": "1.2.0",
            "grid_template_areas": null,
            "object_position": null,
            "object_fit": null,
            "grid_auto_columns": null,
            "margin": null,
            "display": null,
            "left": null
          }
        },
        "152b6f888fbb48d69863c43403723835": {
          "model_module": "@jupyter-widgets/controls",
          "model_name": "FloatProgressModel",
          "state": {
            "_view_name": "ProgressView",
            "style": "IPY_MODEL_14232bbf3ce84253a49054d812d2f611",
            "_dom_classes": [],
            "description": "Batch: 100%",
            "_model_name": "FloatProgressModel",
            "bar_style": "success",
            "max": 1,
            "_view_module": "@jupyter-widgets/controls",
            "_model_module_version": "1.5.0",
            "value": 1,
            "_view_count": null,
            "_view_module_version": "1.5.0",
            "orientation": "horizontal",
            "min": 0,
            "description_tooltip": null,
            "_model_module": "@jupyter-widgets/controls",
            "layout": "IPY_MODEL_e479fd866d96427289ac7d34f78c5764"
          }
        },
        "7f876601e49f44459f981418d3c6b806": {
          "model_module": "@jupyter-widgets/controls",
          "model_name": "HTMLModel",
          "state": {
            "_view_name": "HTMLView",
            "style": "IPY_MODEL_a037624ab0854a2abb46ba73900d8c01",
            "_dom_classes": [],
            "description": "",
            "_model_name": "HTMLModel",
            "placeholder": "​",
            "_view_module": "@jupyter-widgets/controls",
            "_model_module_version": "1.5.0",
            "value": " 1/1 [38:00&lt;00:00, 2280.18s/it]",
            "_view_count": null,
            "_view_module_version": "1.5.0",
            "description_tooltip": null,
            "_model_module": "@jupyter-widgets/controls",
            "layout": "IPY_MODEL_e89b42bfca244e5a9402e2a8f181367d"
          }
        },
        "14232bbf3ce84253a49054d812d2f611": {
          "model_module": "@jupyter-widgets/controls",
          "model_name": "ProgressStyleModel",
          "state": {
            "_view_name": "StyleView",
            "_model_name": "ProgressStyleModel",
            "description_width": "initial",
            "_view_module": "@jupyter-widgets/base",
            "_model_module_version": "1.5.0",
            "_view_count": null,
            "_view_module_version": "1.2.0",
            "bar_color": null,
            "_model_module": "@jupyter-widgets/controls"
          }
        },
        "e479fd866d96427289ac7d34f78c5764": {
          "model_module": "@jupyter-widgets/base",
          "model_name": "LayoutModel",
          "state": {
            "_view_name": "LayoutView",
            "grid_template_rows": null,
            "right": null,
            "justify_content": null,
            "_view_module": "@jupyter-widgets/base",
            "overflow": null,
            "_model_module_version": "1.2.0",
            "_view_count": null,
            "flex_flow": null,
            "width": null,
            "min_width": null,
            "border": null,
            "align_items": null,
            "bottom": null,
            "_model_module": "@jupyter-widgets/base",
            "top": null,
            "grid_column": null,
            "overflow_y": null,
            "overflow_x": null,
            "grid_auto_flow": null,
            "grid_area": null,
            "grid_template_columns": null,
            "flex": null,
            "_model_name": "LayoutModel",
            "justify_items": null,
            "grid_row": null,
            "max_height": null,
            "align_content": null,
            "visibility": null,
            "align_self": null,
            "height": null,
            "min_height": null,
            "padding": null,
            "grid_auto_rows": null,
            "grid_gap": null,
            "max_width": null,
            "order": null,
            "_view_module_version": "1.2.0",
            "grid_template_areas": null,
            "object_position": null,
            "object_fit": null,
            "grid_auto_columns": null,
            "margin": null,
            "display": null,
            "left": null
          }
        },
        "a037624ab0854a2abb46ba73900d8c01": {
          "model_module": "@jupyter-widgets/controls",
          "model_name": "DescriptionStyleModel",
          "state": {
            "_view_name": "StyleView",
            "_model_name": "DescriptionStyleModel",
            "description_width": "",
            "_view_module": "@jupyter-widgets/base",
            "_model_module_version": "1.5.0",
            "_view_count": null,
            "_view_module_version": "1.2.0",
            "_model_module": "@jupyter-widgets/controls"
          }
        },
        "e89b42bfca244e5a9402e2a8f181367d": {
          "model_module": "@jupyter-widgets/base",
          "model_name": "LayoutModel",
          "state": {
            "_view_name": "LayoutView",
            "grid_template_rows": null,
            "right": null,
            "justify_content": null,
            "_view_module": "@jupyter-widgets/base",
            "overflow": null,
            "_model_module_version": "1.2.0",
            "_view_count": null,
            "flex_flow": null,
            "width": null,
            "min_width": null,
            "border": null,
            "align_items": null,
            "bottom": null,
            "_model_module": "@jupyter-widgets/base",
            "top": null,
            "grid_column": null,
            "overflow_y": null,
            "overflow_x": null,
            "grid_auto_flow": null,
            "grid_area": null,
            "grid_template_columns": null,
            "flex": null,
            "_model_name": "LayoutModel",
            "justify_items": null,
            "grid_row": null,
            "max_height": null,
            "align_content": null,
            "visibility": null,
            "align_self": null,
            "height": null,
            "min_height": null,
            "padding": null,
            "grid_auto_rows": null,
            "grid_gap": null,
            "max_width": null,
            "order": null,
            "_view_module_version": "1.2.0",
            "grid_template_areas": null,
            "object_position": null,
            "object_fit": null,
            "grid_auto_columns": null,
            "margin": null,
            "display": null,
            "left": null
          }
        },
        "ce335b65c25542b2b9382d0ad99521f7": {
          "model_module": "@jupyter-widgets/controls",
          "model_name": "HBoxModel",
          "state": {
            "_view_name": "HBoxView",
            "_dom_classes": [],
            "_model_name": "HBoxModel",
            "_view_module": "@jupyter-widgets/controls",
            "_model_module_version": "1.5.0",
            "_view_count": null,
            "_view_module_version": "1.5.0",
            "box_style": "",
            "layout": "IPY_MODEL_7a8d9c038db5456eb7acfc4dc723bed3",
            "_model_module": "@jupyter-widgets/controls",
            "children": [
              "IPY_MODEL_b63bc4e0cfe54c43b38d04523ea3eb60",
              "IPY_MODEL_d9ebd66b602d4fcf952bfcbf6a8a8721"
            ]
          }
        },
        "7a8d9c038db5456eb7acfc4dc723bed3": {
          "model_module": "@jupyter-widgets/base",
          "model_name": "LayoutModel",
          "state": {
            "_view_name": "LayoutView",
            "grid_template_rows": null,
            "right": null,
            "justify_content": null,
            "_view_module": "@jupyter-widgets/base",
            "overflow": null,
            "_model_module_version": "1.2.0",
            "_view_count": null,
            "flex_flow": null,
            "width": null,
            "min_width": null,
            "border": null,
            "align_items": null,
            "bottom": null,
            "_model_module": "@jupyter-widgets/base",
            "top": null,
            "grid_column": null,
            "overflow_y": null,
            "overflow_x": null,
            "grid_auto_flow": null,
            "grid_area": null,
            "grid_template_columns": null,
            "flex": null,
            "_model_name": "LayoutModel",
            "justify_items": null,
            "grid_row": null,
            "max_height": null,
            "align_content": null,
            "visibility": null,
            "align_self": null,
            "height": null,
            "min_height": null,
            "padding": null,
            "grid_auto_rows": null,
            "grid_gap": null,
            "max_width": null,
            "order": null,
            "_view_module_version": "1.2.0",
            "grid_template_areas": null,
            "object_position": null,
            "object_fit": null,
            "grid_auto_columns": null,
            "margin": null,
            "display": null,
            "left": null
          }
        },
        "b63bc4e0cfe54c43b38d04523ea3eb60": {
          "model_module": "@jupyter-widgets/controls",
          "model_name": "FloatProgressModel",
          "state": {
            "_view_name": "ProgressView",
            "style": "IPY_MODEL_1ad03eda30e2409993cab38e95cc4393",
            "_dom_classes": [],
            "description": "Sample: 100%",
            "_model_name": "FloatProgressModel",
            "bar_style": "success",
            "max": 512,
            "_view_module": "@jupyter-widgets/controls",
            "_model_module_version": "1.5.0",
            "value": 512,
            "_view_count": null,
            "_view_module_version": "1.5.0",
            "orientation": "horizontal",
            "min": 0,
            "description_tooltip": null,
            "_model_module": "@jupyter-widgets/controls",
            "layout": "IPY_MODEL_2b4fc75806de4cadb7cf01cb3cf148a5"
          }
        },
        "d9ebd66b602d4fcf952bfcbf6a8a8721": {
          "model_module": "@jupyter-widgets/controls",
          "model_name": "HTMLModel",
          "state": {
            "_view_name": "HTMLView",
            "style": "IPY_MODEL_dce3ced8ac7b4ffbbc54d24d803c70db",
            "_dom_classes": [],
            "description": "",
            "_model_name": "HTMLModel",
            "placeholder": "​",
            "_view_module": "@jupyter-widgets/controls",
            "_model_module_version": "1.5.0",
            "value": " 512/512 [38:00&lt;00:00,  4.45s/it]",
            "_view_count": null,
            "_view_module_version": "1.5.0",
            "description_tooltip": null,
            "_model_module": "@jupyter-widgets/controls",
            "layout": "IPY_MODEL_7eed3ed15e9f4a91b840077334c1eb08"
          }
        },
        "1ad03eda30e2409993cab38e95cc4393": {
          "model_module": "@jupyter-widgets/controls",
          "model_name": "ProgressStyleModel",
          "state": {
            "_view_name": "StyleView",
            "_model_name": "ProgressStyleModel",
            "description_width": "initial",
            "_view_module": "@jupyter-widgets/base",
            "_model_module_version": "1.5.0",
            "_view_count": null,
            "_view_module_version": "1.2.0",
            "bar_color": null,
            "_model_module": "@jupyter-widgets/controls"
          }
        },
        "2b4fc75806de4cadb7cf01cb3cf148a5": {
          "model_module": "@jupyter-widgets/base",
          "model_name": "LayoutModel",
          "state": {
            "_view_name": "LayoutView",
            "grid_template_rows": null,
            "right": null,
            "justify_content": null,
            "_view_module": "@jupyter-widgets/base",
            "overflow": null,
            "_model_module_version": "1.2.0",
            "_view_count": null,
            "flex_flow": null,
            "width": null,
            "min_width": null,
            "border": null,
            "align_items": null,
            "bottom": null,
            "_model_module": "@jupyter-widgets/base",
            "top": null,
            "grid_column": null,
            "overflow_y": null,
            "overflow_x": null,
            "grid_auto_flow": null,
            "grid_area": null,
            "grid_template_columns": null,
            "flex": null,
            "_model_name": "LayoutModel",
            "justify_items": null,
            "grid_row": null,
            "max_height": null,
            "align_content": null,
            "visibility": null,
            "align_self": null,
            "height": null,
            "min_height": null,
            "padding": null,
            "grid_auto_rows": null,
            "grid_gap": null,
            "max_width": null,
            "order": null,
            "_view_module_version": "1.2.0",
            "grid_template_areas": null,
            "object_position": null,
            "object_fit": null,
            "grid_auto_columns": null,
            "margin": null,
            "display": null,
            "left": null
          }
        },
        "dce3ced8ac7b4ffbbc54d24d803c70db": {
          "model_module": "@jupyter-widgets/controls",
          "model_name": "DescriptionStyleModel",
          "state": {
            "_view_name": "StyleView",
            "_model_name": "DescriptionStyleModel",
            "description_width": "",
            "_view_module": "@jupyter-widgets/base",
            "_model_module_version": "1.5.0",
            "_view_count": null,
            "_view_module_version": "1.2.0",
            "_model_module": "@jupyter-widgets/controls"
          }
        },
        "7eed3ed15e9f4a91b840077334c1eb08": {
          "model_module": "@jupyter-widgets/base",
          "model_name": "LayoutModel",
          "state": {
            "_view_name": "LayoutView",
            "grid_template_rows": null,
            "right": null,
            "justify_content": null,
            "_view_module": "@jupyter-widgets/base",
            "overflow": null,
            "_model_module_version": "1.2.0",
            "_view_count": null,
            "flex_flow": null,
            "width": null,
            "min_width": null,
            "border": null,
            "align_items": null,
            "bottom": null,
            "_model_module": "@jupyter-widgets/base",
            "top": null,
            "grid_column": null,
            "overflow_y": null,
            "overflow_x": null,
            "grid_auto_flow": null,
            "grid_area": null,
            "grid_template_columns": null,
            "flex": null,
            "_model_name": "LayoutModel",
            "justify_items": null,
            "grid_row": null,
            "max_height": null,
            "align_content": null,
            "visibility": null,
            "align_self": null,
            "height": null,
            "min_height": null,
            "padding": null,
            "grid_auto_rows": null,
            "grid_gap": null,
            "max_width": null,
            "order": null,
            "_view_module_version": "1.2.0",
            "grid_template_areas": null,
            "object_position": null,
            "object_fit": null,
            "grid_auto_columns": null,
            "margin": null,
            "display": null,
            "left": null
          }
        }
      }
    }
  },
  "cells": [
    {
      "cell_type": "code",
      "metadata": {
        "colab": {
          "base_uri": "https://localhost:8080/"
        },
        "id": "_96a3l4BWksv",
        "outputId": "d8e0eb94-249b-48c5-9a93-52188614a488"
      },
      "source": [
        "!git clone https://github.com/GilgameshxZero/adversarial-ntks\n",
        "!pip install -e adversarial-ntks\n",
        "!pip install robustness"
      ],
      "execution_count": null,
      "outputs": [
        {
          "output_type": "stream",
          "text": [
            "Cloning into 'adversarial-ntks'...\n",
            "remote: Enumerating objects: 867, done.\u001b[K\n",
            "remote: Counting objects: 100% (16/16), done.\u001b[K\n",
            "remote: Compressing objects: 100% (10/10), done.\u001b[K\n",
            "remote: Total 867 (delta 5), reused 9 (delta 5), pack-reused 851\u001b[K\n",
            "Receiving objects: 100% (867/867), 21.79 MiB | 23.94 MiB/s, done.\n",
            "Resolving deltas: 100% (483/483), done.\n",
            "Obtaining file:///content/adversarial-ntks\n",
            "Requirement already satisfied: matplotlib in /usr/local/lib/python3.7/dist-packages (from adversarial-ntks==0.0.0) (3.2.2)\n",
            "Requirement already satisfied: numpy in /usr/local/lib/python3.7/dist-packages (from adversarial-ntks==0.0.0) (1.19.5)\n",
            "Requirement already satisfied: tensorflow in /usr/local/lib/python3.7/dist-packages (from adversarial-ntks==0.0.0) (2.5.0)\n",
            "Requirement already satisfied: tensorflow-datasets in /usr/local/lib/python3.7/dist-packages (from adversarial-ntks==0.0.0) (4.0.1)\n",
            "Requirement already satisfied: kiwisolver>=1.0.1 in /usr/local/lib/python3.7/dist-packages (from matplotlib->adversarial-ntks==0.0.0) (1.3.1)\n",
            "Requirement already satisfied: pyparsing!=2.0.4,!=2.1.2,!=2.1.6,>=2.0.1 in /usr/local/lib/python3.7/dist-packages (from matplotlib->adversarial-ntks==0.0.0) (2.4.7)\n",
            "Requirement already satisfied: cycler>=0.10 in /usr/local/lib/python3.7/dist-packages (from matplotlib->adversarial-ntks==0.0.0) (0.10.0)\n",
            "Requirement already satisfied: python-dateutil>=2.1 in /usr/local/lib/python3.7/dist-packages (from matplotlib->adversarial-ntks==0.0.0) (2.8.1)\n",
            "Requirement already satisfied: h5py~=3.1.0 in /usr/local/lib/python3.7/dist-packages (from tensorflow->adversarial-ntks==0.0.0) (3.1.0)\n",
            "Requirement already satisfied: six~=1.15.0 in /usr/local/lib/python3.7/dist-packages (from tensorflow->adversarial-ntks==0.0.0) (1.15.0)\n",
            "Requirement already satisfied: absl-py~=0.10 in /usr/local/lib/python3.7/dist-packages (from tensorflow->adversarial-ntks==0.0.0) (0.12.0)\n",
            "Requirement already satisfied: flatbuffers~=1.12.0 in /usr/local/lib/python3.7/dist-packages (from tensorflow->adversarial-ntks==0.0.0) (1.12)\n",
            "Requirement already satisfied: opt-einsum~=3.3.0 in /usr/local/lib/python3.7/dist-packages (from tensorflow->adversarial-ntks==0.0.0) (3.3.0)\n",
            "Requirement already satisfied: protobuf>=3.9.2 in /usr/local/lib/python3.7/dist-packages (from tensorflow->adversarial-ntks==0.0.0) (3.12.4)\n",
            "Requirement already satisfied: keras-preprocessing~=1.1.2 in /usr/local/lib/python3.7/dist-packages (from tensorflow->adversarial-ntks==0.0.0) (1.1.2)\n",
            "Requirement already satisfied: wrapt~=1.12.1 in /usr/local/lib/python3.7/dist-packages (from tensorflow->adversarial-ntks==0.0.0) (1.12.1)\n",
            "Requirement already satisfied: typing-extensions~=3.7.4 in /usr/local/lib/python3.7/dist-packages (from tensorflow->adversarial-ntks==0.0.0) (3.7.4.3)\n",
            "Requirement already satisfied: termcolor~=1.1.0 in /usr/local/lib/python3.7/dist-packages (from tensorflow->adversarial-ntks==0.0.0) (1.1.0)\n",
            "Requirement already satisfied: gast==0.4.0 in /usr/local/lib/python3.7/dist-packages (from tensorflow->adversarial-ntks==0.0.0) (0.4.0)\n",
            "Requirement already satisfied: keras-nightly~=2.5.0.dev in /usr/local/lib/python3.7/dist-packages (from tensorflow->adversarial-ntks==0.0.0) (2.5.0.dev2021032900)\n",
            "Requirement already satisfied: wheel~=0.35 in /usr/local/lib/python3.7/dist-packages (from tensorflow->adversarial-ntks==0.0.0) (0.36.2)\n",
            "Requirement already satisfied: tensorboard~=2.5 in /usr/local/lib/python3.7/dist-packages (from tensorflow->adversarial-ntks==0.0.0) (2.5.0)\n",
            "Requirement already satisfied: google-pasta~=0.2 in /usr/local/lib/python3.7/dist-packages (from tensorflow->adversarial-ntks==0.0.0) (0.2.0)\n",
            "Requirement already satisfied: tensorflow-estimator<2.6.0,>=2.5.0rc0 in /usr/local/lib/python3.7/dist-packages (from tensorflow->adversarial-ntks==0.0.0) (2.5.0)\n",
            "Requirement already satisfied: astunparse~=1.6.3 in /usr/local/lib/python3.7/dist-packages (from tensorflow->adversarial-ntks==0.0.0) (1.6.3)\n",
            "Requirement already satisfied: grpcio~=1.34.0 in /usr/local/lib/python3.7/dist-packages (from tensorflow->adversarial-ntks==0.0.0) (1.34.1)\n",
            "Requirement already satisfied: tqdm in /usr/local/lib/python3.7/dist-packages (from tensorflow-datasets->adversarial-ntks==0.0.0) (4.41.1)\n",
            "Requirement already satisfied: future in /usr/local/lib/python3.7/dist-packages (from tensorflow-datasets->adversarial-ntks==0.0.0) (0.16.0)\n",
            "Requirement already satisfied: attrs>=18.1.0 in /usr/local/lib/python3.7/dist-packages (from tensorflow-datasets->adversarial-ntks==0.0.0) (21.2.0)\n",
            "Requirement already satisfied: dm-tree in /usr/local/lib/python3.7/dist-packages (from tensorflow-datasets->adversarial-ntks==0.0.0) (0.1.6)\n",
            "Requirement already satisfied: dill in /usr/local/lib/python3.7/dist-packages (from tensorflow-datasets->adversarial-ntks==0.0.0) (0.3.3)\n",
            "Requirement already satisfied: tensorflow-metadata in /usr/local/lib/python3.7/dist-packages (from tensorflow-datasets->adversarial-ntks==0.0.0) (1.0.0)\n",
            "Requirement already satisfied: importlib-resources; python_version < \"3.9\" in /usr/local/lib/python3.7/dist-packages (from tensorflow-datasets->adversarial-ntks==0.0.0) (5.1.3)\n",
            "Requirement already satisfied: requests>=2.19.0 in /usr/local/lib/python3.7/dist-packages (from tensorflow-datasets->adversarial-ntks==0.0.0) (2.23.0)\n",
            "Requirement already satisfied: promise in /usr/local/lib/python3.7/dist-packages (from tensorflow-datasets->adversarial-ntks==0.0.0) (2.3)\n",
            "Requirement already satisfied: cached-property; python_version < \"3.8\" in /usr/local/lib/python3.7/dist-packages (from h5py~=3.1.0->tensorflow->adversarial-ntks==0.0.0) (1.5.2)\n",
            "Requirement already satisfied: setuptools in /usr/local/lib/python3.7/dist-packages (from protobuf>=3.9.2->tensorflow->adversarial-ntks==0.0.0) (57.0.0)\n",
            "Requirement already satisfied: google-auth-oauthlib<0.5,>=0.4.1 in /usr/local/lib/python3.7/dist-packages (from tensorboard~=2.5->tensorflow->adversarial-ntks==0.0.0) (0.4.4)\n",
            "Requirement already satisfied: tensorboard-data-server<0.7.0,>=0.6.0 in /usr/local/lib/python3.7/dist-packages (from tensorboard~=2.5->tensorflow->adversarial-ntks==0.0.0) (0.6.1)\n",
            "Requirement already satisfied: tensorboard-plugin-wit>=1.6.0 in /usr/local/lib/python3.7/dist-packages (from tensorboard~=2.5->tensorflow->adversarial-ntks==0.0.0) (1.8.0)\n",
            "Requirement already satisfied: werkzeug>=0.11.15 in /usr/local/lib/python3.7/dist-packages (from tensorboard~=2.5->tensorflow->adversarial-ntks==0.0.0) (1.0.1)\n",
            "Requirement already satisfied: google-auth<2,>=1.6.3 in /usr/local/lib/python3.7/dist-packages (from tensorboard~=2.5->tensorflow->adversarial-ntks==0.0.0) (1.30.0)\n",
            "Requirement already satisfied: markdown>=2.6.8 in /usr/local/lib/python3.7/dist-packages (from tensorboard~=2.5->tensorflow->adversarial-ntks==0.0.0) (3.3.4)\n",
            "Requirement already satisfied: googleapis-common-protos<2,>=1.52.0 in /usr/local/lib/python3.7/dist-packages (from tensorflow-metadata->tensorflow-datasets->adversarial-ntks==0.0.0) (1.53.0)\n",
            "Requirement already satisfied: zipp>=0.4; python_version < \"3.8\" in /usr/local/lib/python3.7/dist-packages (from importlib-resources; python_version < \"3.9\"->tensorflow-datasets->adversarial-ntks==0.0.0) (3.4.1)\n",
            "Requirement already satisfied: certifi>=2017.4.17 in /usr/local/lib/python3.7/dist-packages (from requests>=2.19.0->tensorflow-datasets->adversarial-ntks==0.0.0) (2020.12.5)\n",
            "Requirement already satisfied: chardet<4,>=3.0.2 in /usr/local/lib/python3.7/dist-packages (from requests>=2.19.0->tensorflow-datasets->adversarial-ntks==0.0.0) (3.0.4)\n",
            "Requirement already satisfied: urllib3!=1.25.0,!=1.25.1,<1.26,>=1.21.1 in /usr/local/lib/python3.7/dist-packages (from requests>=2.19.0->tensorflow-datasets->adversarial-ntks==0.0.0) (1.24.3)\n",
            "Requirement already satisfied: idna<3,>=2.5 in /usr/local/lib/python3.7/dist-packages (from requests>=2.19.0->tensorflow-datasets->adversarial-ntks==0.0.0) (2.10)\n",
            "Requirement already satisfied: requests-oauthlib>=0.7.0 in /usr/local/lib/python3.7/dist-packages (from google-auth-oauthlib<0.5,>=0.4.1->tensorboard~=2.5->tensorflow->adversarial-ntks==0.0.0) (1.3.0)\n",
            "Requirement already satisfied: cachetools<5.0,>=2.0.0 in /usr/local/lib/python3.7/dist-packages (from google-auth<2,>=1.6.3->tensorboard~=2.5->tensorflow->adversarial-ntks==0.0.0) (4.2.2)\n",
            "Requirement already satisfied: rsa<5,>=3.1.4; python_version >= \"3.6\" in /usr/local/lib/python3.7/dist-packages (from google-auth<2,>=1.6.3->tensorboard~=2.5->tensorflow->adversarial-ntks==0.0.0) (4.7.2)\n",
            "Requirement already satisfied: pyasn1-modules>=0.2.1 in /usr/local/lib/python3.7/dist-packages (from google-auth<2,>=1.6.3->tensorboard~=2.5->tensorflow->adversarial-ntks==0.0.0) (0.2.8)\n",
            "Requirement already satisfied: importlib-metadata; python_version < \"3.8\" in /usr/local/lib/python3.7/dist-packages (from markdown>=2.6.8->tensorboard~=2.5->tensorflow->adversarial-ntks==0.0.0) (4.0.1)\n",
            "Requirement already satisfied: oauthlib>=3.0.0 in /usr/local/lib/python3.7/dist-packages (from requests-oauthlib>=0.7.0->google-auth-oauthlib<0.5,>=0.4.1->tensorboard~=2.5->tensorflow->adversarial-ntks==0.0.0) (3.1.0)\n",
            "Requirement already satisfied: pyasn1>=0.1.3 in /usr/local/lib/python3.7/dist-packages (from rsa<5,>=3.1.4; python_version >= \"3.6\"->google-auth<2,>=1.6.3->tensorboard~=2.5->tensorflow->adversarial-ntks==0.0.0) (0.4.8)\n",
            "Installing collected packages: adversarial-ntks\n",
            "  Running setup.py develop for adversarial-ntks\n",
            "Successfully installed adversarial-ntks\n",
            "Collecting robustness\n",
            "\u001b[?25l  Downloading https://files.pythonhosted.org/packages/34/d2/40eb05fa3f6ff7f84aa46b071f299dcc6ec7aa8ea93c57f2a110c3b1ca73/robustness-1.2.1.post2-py3-none-any.whl (95kB)\n",
            "\u001b[K     |████████████████████████████████| 102kB 6.2MB/s \n",
            "\u001b[?25hCollecting tensorboardX\n",
            "\u001b[?25l  Downloading https://files.pythonhosted.org/packages/07/84/46421bd3e0e89a92682b1a38b40efc22dafb6d8e3d947e4ceefd4a5fabc7/tensorboardX-2.2-py2.py3-none-any.whl (120kB)\n",
            "\u001b[K     |████████████████████████████████| 122kB 15.0MB/s \n",
            "\u001b[?25hRequirement already satisfied: scipy in /usr/local/lib/python3.7/dist-packages (from robustness) (1.4.1)\n",
            "Collecting py3nvml\n",
            "\u001b[?25l  Downloading https://files.pythonhosted.org/packages/53/b3/cb30dd8cc1198ae3fdb5a320ca7986d7ca76e23d16415067eafebff8685f/py3nvml-0.2.6-py3-none-any.whl (55kB)\n",
            "\u001b[K     |████████████████████████████████| 61kB 9.7MB/s \n",
            "\u001b[?25hCollecting cox\n",
            "  Downloading https://files.pythonhosted.org/packages/f8/70/757ff7669cfe9f5726c991e856892c4fb98362b1f17abd34326937356729/cox-0.1.post3-py3-none-any.whl\n",
            "Requirement already satisfied: tqdm in /usr/local/lib/python3.7/dist-packages (from robustness) (4.41.1)\n",
            "Requirement already satisfied: tables in /usr/local/lib/python3.7/dist-packages (from robustness) (3.4.4)\n",
            "Collecting gitpython\n",
            "\u001b[?25l  Downloading https://files.pythonhosted.org/packages/27/da/6f6224fdfc47dab57881fe20c0d1bc3122be290198ba0bf26a953a045d92/GitPython-3.1.17-py3-none-any.whl (166kB)\n",
            "\u001b[K     |████████████████████████████████| 174kB 39.5MB/s \n",
            "\u001b[?25hRequirement already satisfied: psutil in /usr/local/lib/python3.7/dist-packages (from robustness) (5.4.8)\n",
            "Collecting GPUtil\n",
            "  Downloading https://files.pythonhosted.org/packages/ed/0e/5c61eedde9f6c87713e89d794f01e378cfd9565847d4576fa627d758c554/GPUtil-1.4.0.tar.gz\n",
            "Requirement already satisfied: matplotlib in /usr/local/lib/python3.7/dist-packages (from robustness) (3.2.2)\n",
            "Requirement already satisfied: seaborn in /usr/local/lib/python3.7/dist-packages (from robustness) (0.11.1)\n",
            "Requirement already satisfied: torch in /usr/local/lib/python3.7/dist-packages (from robustness) (1.8.1+cu101)\n",
            "Requirement already satisfied: numpy in /usr/local/lib/python3.7/dist-packages (from robustness) (1.19.5)\n",
            "Requirement already satisfied: pandas in /usr/local/lib/python3.7/dist-packages (from robustness) (1.1.5)\n",
            "Requirement already satisfied: scikit-learn in /usr/local/lib/python3.7/dist-packages (from robustness) (0.22.2.post1)\n",
            "Requirement already satisfied: torchvision in /usr/local/lib/python3.7/dist-packages (from robustness) (0.9.1+cu101)\n",
            "Requirement already satisfied: dill in /usr/local/lib/python3.7/dist-packages (from robustness) (0.3.3)\n",
            "Requirement already satisfied: grpcio in /usr/local/lib/python3.7/dist-packages (from robustness) (1.34.1)\n",
            "Requirement already satisfied: protobuf>=3.8.0 in /usr/local/lib/python3.7/dist-packages (from tensorboardX->robustness) (3.12.4)\n",
            "Collecting xmltodict\n",
            "  Downloading https://files.pythonhosted.org/packages/28/fd/30d5c1d3ac29ce229f6bdc40bbc20b28f716e8b363140c26eff19122d8a5/xmltodict-0.12.0-py2.py3-none-any.whl\n",
            "Requirement already satisfied: numexpr>=2.5.2 in /usr/local/lib/python3.7/dist-packages (from tables->robustness) (2.7.3)\n",
            "Requirement already satisfied: six>=1.9.0 in /usr/local/lib/python3.7/dist-packages (from tables->robustness) (1.15.0)\n",
            "Collecting gitdb<5,>=4.0.1\n",
            "\u001b[?25l  Downloading https://files.pythonhosted.org/packages/ea/e8/f414d1a4f0bbc668ed441f74f44c116d9816833a48bf81d22b697090dba8/gitdb-4.0.7-py3-none-any.whl (63kB)\n",
            "\u001b[K     |████████████████████████████████| 71kB 12.2MB/s \n",
            "\u001b[?25hRequirement already satisfied: typing-extensions>=3.7.4.0; python_version < \"3.8\" in /usr/local/lib/python3.7/dist-packages (from gitpython->robustness) (3.7.4.3)\n",
            "Requirement already satisfied: cycler>=0.10 in /usr/local/lib/python3.7/dist-packages (from matplotlib->robustness) (0.10.0)\n",
            "Requirement already satisfied: pyparsing!=2.0.4,!=2.1.2,!=2.1.6,>=2.0.1 in /usr/local/lib/python3.7/dist-packages (from matplotlib->robustness) (2.4.7)\n",
            "Requirement already satisfied: kiwisolver>=1.0.1 in /usr/local/lib/python3.7/dist-packages (from matplotlib->robustness) (1.3.1)\n",
            "Requirement already satisfied: python-dateutil>=2.1 in /usr/local/lib/python3.7/dist-packages (from matplotlib->robustness) (2.8.1)\n",
            "Requirement already satisfied: pytz>=2017.2 in /usr/local/lib/python3.7/dist-packages (from pandas->robustness) (2018.9)\n",
            "Requirement already satisfied: joblib>=0.11 in /usr/local/lib/python3.7/dist-packages (from scikit-learn->robustness) (1.0.1)\n",
            "Requirement already satisfied: pillow>=4.1.1 in /usr/local/lib/python3.7/dist-packages (from torchvision->robustness) (7.1.2)\n",
            "Requirement already satisfied: setuptools in /usr/local/lib/python3.7/dist-packages (from protobuf>=3.8.0->tensorboardX->robustness) (57.0.0)\n",
            "Collecting smmap<5,>=3.0.1\n",
            "  Downloading https://files.pythonhosted.org/packages/68/ee/d540eb5e5996eb81c26ceffac6ee49041d473bc5125f2aa995cf51ec1cf1/smmap-4.0.0-py2.py3-none-any.whl\n",
            "Building wheels for collected packages: GPUtil\n",
            "  Building wheel for GPUtil (setup.py) ... \u001b[?25l\u001b[?25hdone\n",
            "  Created wheel for GPUtil: filename=GPUtil-1.4.0-cp37-none-any.whl size=7411 sha256=db16bf9358d9926da836bcfda78a930c2807d592f5698982432ecdbbeaf17d59\n",
            "  Stored in directory: /root/.cache/pip/wheels/3d/77/07/80562de4bb0786e5ea186911a2c831fdd0018bda69beab71fd\n",
            "Successfully built GPUtil\n",
            "Installing collected packages: tensorboardX, xmltodict, py3nvml, smmap, gitdb, gitpython, cox, GPUtil, robustness\n",
            "Successfully installed GPUtil-1.4.0 cox-0.1.post3 gitdb-4.0.7 gitpython-3.1.17 py3nvml-0.2.6 robustness-1.2.1.post2 smmap-4.0.0 tensorboardX-2.2 xmltodict-0.12.0\n"
          ],
          "name": "stdout"
        }
      ]
    },
    {
      "cell_type": "code",
      "metadata": {
        "id": "0IfikPofU5zN"
      },
      "source": [
        "!rm -rf .models\n",
        "!mkdir .models"
      ],
      "execution_count": null,
      "outputs": []
    },
    {
      "cell_type": "code",
      "metadata": {
        "id": "uptlqnnTU7Lw"
      },
      "source": [
        "!wget -q -O .models/cifar_nat.pt \"https://www.dropbox.com/s/yhpp4yws7sgi6lj/cifar_nat.pt?dl=1\"\n",
        "!wget -q -O .models/cifar_linf_8.pt \"https://www.dropbox.com/s/c9qlt1lbdnu9tlo/cifar_linf_8.pt?dl=1\""
      ],
      "execution_count": null,
      "outputs": []
    },
    {
      "cell_type": "code",
      "metadata": {
        "colab": {
          "base_uri": "https://localhost:8080/"
        },
        "id": "WcHv2IWHU8NH",
        "outputId": "89c15834-f621-489f-b486-2d89e88c7f2b"
      },
      "source": [
        "import os\n",
        "import pathlib\n",
        "import random\n",
        "import functools\n",
        "import copy\n",
        "import sys\n",
        "import pickle\n",
        "import tarfile\n",
        "import operator\n",
        "import math\n",
        "import requests\n",
        "import importlib\n",
        "import dill\n",
        "os.environ[\"NOTEBOOK_MODE\"] = \"1\"\n",
        "\n",
        "import tqdm\n",
        "from tqdm import notebook\n",
        "\n",
        "import pandas as pd\n",
        "import matplotlib.pyplot as plt\n",
        "import numpy as np\n",
        "\n",
        "import torch\n",
        "\n",
        "import robustness\n",
        "from robustness import model_utils, datasets, train, defaults\n",
        "\n",
        "import adversarial_ntks as atk\n",
        "from adversarial_ntks import dataset"
      ],
      "execution_count": null,
      "outputs": [
        {
          "output_type": "stream",
          "text": [
            "/usr/local/lib/python3.7/dist-packages/robustness/train.py:24: UserWarning: Could not import amp.\n",
            "  warnings.warn('Could not import amp.')\n"
          ],
          "name": "stderr"
        }
      ]
    },
    {
      "cell_type": "code",
      "metadata": {
        "id": "1osSKiHlWYNO"
      },
      "source": [
        "CIFAR10 = {}"
      ],
      "execution_count": null,
      "outputs": []
    },
    {
      "cell_type": "code",
      "metadata": {
        "id": "YvIVxnGpX8aY"
      },
      "source": [
        "CIFAR10.update({\n",
        "    \"train\": atk.dataset.get_np_data(\n",
        "        name=\"cifar10\",\n",
        "        split=\"train[:64]\",\n",
        "        flatten=False,\n",
        "        data_dir=\".data/\"),\n",
        "    \"test\": atk.dataset.get_np_data(\n",
        "        name=\"cifar10\",\n",
        "        split=\"test[:256]\",\n",
        "        flatten=False,\n",
        "        data_dir=\".data/\"),\n",
        "    \"dataset\": robustness.datasets.CIFAR(\".data\"),\n",
        "    \"workers\": 12,\n",
        "    \"arch\": \"resnet50\",\n",
        "    \"resume_path_nat\": \".models/cifar_nat.pt\",\n",
        "    \"resume_path_linf\": \".models/cifar_linf_8.pt\",\n",
        "    \"labels\": [\"airplane\", \"automobile\", \"bird\", \"cat\", \"deer\",\n",
        "        \"dog\", \"frog\", \"horse\", \"ship\", \"truck\"],\n",
        "    \n",
        "    \"batch_size\": 256,\n",
        "    \"perturb_eps\": 8/255,\n",
        "\n",
        "    \"display_samples\": 10,\n",
        "    \"display_sample_img_size\": 3})"
      ],
      "execution_count": null,
      "outputs": []
    },
    {
      "cell_type": "code",
      "metadata": {
        "colab": {
          "base_uri": "https://localhost:8080/"
        },
        "id": "cmoom5DmX9Ja",
        "outputId": "30e24d15-7a6a-460d-ba26-af8ec0131c38"
      },
      "source": [
        "def exp_load_saved(exp):\n",
        "    exp[\"model_nat\"], _ = model_utils.make_and_restore_model(\n",
        "        arch=exp[\"arch\"],\n",
        "        resume_path=exp[\"resume_path_nat\"],\n",
        "        dataset=exp[\"dataset\"])\n",
        "    exp[\"model_linf\"], _ = model_utils.make_and_restore_model(\n",
        "        arch=exp[\"arch\"],\n",
        "        resume_path=exp[\"resume_path_linf\"],\n",
        "        dataset=exp[\"dataset\"])\n",
        "\n",
        "exp_load_saved(CIFAR10)"
      ],
      "execution_count": null,
      "outputs": [
        {
          "output_type": "stream",
          "text": [
            "=> loading checkpoint '.models/cifar_nat.pt'\n",
            "=> loaded checkpoint '.models/cifar_nat.pt' (epoch 190)\n",
            "=> loading checkpoint '.models/cifar_linf_8.pt'\n",
            "=> loaded checkpoint '.models/cifar_linf_8.pt' (epoch 153)\n"
          ],
          "name": "stdout"
        }
      ]
    },
    {
      "cell_type": "code",
      "metadata": {
        "colab": {
          "base_uri": "https://localhost:8080/",
          "height": 116,
          "referenced_widgets": [
            "d10602ba89434669890c5a13798d5027",
            "84be1ba69c5a4ab2aafd2eef0e35352f",
            "152b6f888fbb48d69863c43403723835",
            "7f876601e49f44459f981418d3c6b806",
            "14232bbf3ce84253a49054d812d2f611",
            "e479fd866d96427289ac7d34f78c5764",
            "a037624ab0854a2abb46ba73900d8c01",
            "e89b42bfca244e5a9402e2a8f181367d",
            "ce335b65c25542b2b9382d0ad99521f7",
            "7a8d9c038db5456eb7acfc4dc723bed3",
            "b63bc4e0cfe54c43b38d04523ea3eb60",
            "d9ebd66b602d4fcf952bfcbf6a8a8721",
            "1ad03eda30e2409993cab38e95cc4393",
            "2b4fc75806de4cadb7cf01cb3cf148a5",
            "dce3ced8ac7b4ffbbc54d24d803c70db",
            "7eed3ed15e9f4a91b840077334c1eb08"
          ]
        },
        "id": "xQXwdwL0X_iy",
        "outputId": "d49cba89-b4b8-4209-8f5d-4256df1c1cea"
      },
      "source": [
        "def exp_eval_ueb_atk(exp, models, dss, samples):\n",
        "    c_correct = {}\n",
        "    for ds in dss:\n",
        "        xs_gpu = torch.Tensor(np.transpose(exp[ds].xs, (0, 3, 1, 2))).cuda()\n",
        "        ys_gpu = torch.Tensor(exp[ds].ys).cuda()\n",
        "        c_batches = len(exp[ds].xs) // exp[\"batch_size\"]\n",
        "\n",
        "        c_correct[ds] = {}\n",
        "        for model in models:\n",
        "            c_correct[ds][model] = []\n",
        "    \n",
        "        for batch_id in tqdm.notebook.tqdm(range(c_batches), desc=\"Batch\"):\n",
        "            batch_start = batch_id * exp[\"batch_size\"]\n",
        "            batch_end = batch_start + exp[\"batch_size\"]\n",
        "            batch_xs = xs_gpu[batch_start:batch_end]\n",
        "            batch_ys = ys_gpu[batch_start:batch_end]\n",
        "\n",
        "            c_correct_batch = {}\n",
        "            for model in models:\n",
        "                c_correct_batch[model] = []\n",
        "\n",
        "            for sample in tqdm.notebook.tqdm(range(samples), desc=\"Sample\"):\n",
        "                xs_perturbation = (torch.rand(batch_xs.shape) * \\\n",
        "                    exp[\"perturb_eps\"] * 2 - exp[\"perturb_eps\"]).cuda()\n",
        "                xs_perturbed = batch_xs.add(xs_perturbation).clamp(0, 1)\n",
        "\n",
        "                for model in models:\n",
        "                    predictions = exp[model](xs_perturbed)[0].argmax(dim=1)\n",
        "                    c_correct_batch[model].append(\n",
        "                        predictions.eq(batch_ys).cpu())\n",
        "                        \n",
        "                    del predictions\n",
        "\n",
        "                del xs_perturbation, xs_perturbed\n",
        "\n",
        "            for model in models:\n",
        "                c_correct[ds][model].append(np.vstack(\n",
        "                    c_correct_batch[model]).transpose())\n",
        "\n",
        "        for model in models:\n",
        "            c_correct[ds][model] = \\\n",
        "                np.concatenate(c_correct[ds][model]).astype(int)\n",
        "\n",
        "        del xs_gpu, ys_gpu\n",
        "    \n",
        "    return c_correct\n",
        "\n",
        "CIFAR10[\"ueb-atk-res\"] = exp_eval_ueb_atk(\n",
        "    CIFAR10,\n",
        "    [\"model_nat\", \"model_linf\"],\n",
        "    [\"test\"],\n",
        "    512)"
      ],
      "execution_count": null,
      "outputs": [
        {
          "output_type": "display_data",
          "data": {
            "application/vnd.jupyter.widget-view+json": {
              "model_id": "d10602ba89434669890c5a13798d5027",
              "version_minor": 0,
              "version_major": 2
            },
            "text/plain": [
              "HBox(children=(FloatProgress(value=0.0, description='Batch', max=1.0, style=ProgressStyle(description_width='i…"
            ]
          },
          "metadata": {
            "tags": []
          }
        },
        {
          "output_type": "display_data",
          "data": {
            "application/vnd.jupyter.widget-view+json": {
              "model_id": "ce335b65c25542b2b9382d0ad99521f7",
              "version_minor": 0,
              "version_major": 2
            },
            "text/plain": [
              "HBox(children=(FloatProgress(value=0.0, description='Sample', max=512.0, style=ProgressStyle(description_width…"
            ]
          },
          "metadata": {
            "tags": []
          }
        },
        {
          "output_type": "stream",
          "text": [
            "\n",
            "\n"
          ],
          "name": "stdout"
        }
      ]
    },
    {
      "cell_type": "code",
      "metadata": {
        "colab": {
          "base_uri": "https://localhost:8080/",
          "height": 1000
        },
        "id": "FHMj116aYDH-",
        "outputId": "d4da7561-253f-4f44-89bd-e2862b40c815"
      },
      "source": [
        "def exp_show_ueb_atk_res(exp):\n",
        "    res = CIFAR10[\"ueb-atk-res\"]\n",
        "    dss, models = [], []\n",
        "    for ds in res.keys():\n",
        "        dss.append(ds)\n",
        "        if len(models) == 0:\n",
        "            for model in res[ds].keys():\n",
        "                models.append(model)\n",
        "\n",
        "    print(dss, models)\n",
        "    fig, ax = plt.subplots(len(dss), len(models), figsize=(5 * len(models), 5 * len(dss)))\n",
        "    fig2, ax2 = plt.subplots(1, len(dss), figsize=(5 * len(dss), 5))\n",
        "    fig3, ax3 = plt.subplots(1, len(dss), figsize=(5 * len(dss), 5))\n",
        "\n",
        "    for ds_i in range(len(dss)):\n",
        "        ds = dss[ds_i]\n",
        "        for model_i in range(len(models)):\n",
        "            model = models[model_i]\n",
        "            cur_ax = ax if type(ax) is not np.ndarray else (\n",
        "                ax[model_i] if type(ax[model_i]) is not np.ndarray else\n",
        "                    ax[ds_i][model_i])\n",
        "            uebp = 1 - \\\n",
        "                np.sum(res[ds][model], axis=1) / res[ds][model].shape[1]\n",
        "            cur_ax.hist(uebp, bins=64, range=(0, 1))\n",
        "            cur_ax.set_title(ds + \" // \" + model + \" // {:.4f}\".format(\n",
        "                np.count_nonzero(1 - res[ds][model].mean(axis=1)) /\n",
        "                res[ds][model].shape[0]))\n",
        "            cur_ax.set_xlabel(\"% of adversarial samples\")\n",
        "            cur_ax.set_ylabel(\"Number of points\")\n",
        "\n",
        "        if len(models) == 2:\n",
        "            cur_ax = ax2 if type(ax2) is not np.ndarray else ax2[ds_i]\n",
        "            res1, res2 = res[ds][models[0]], res[ds][models[1]]\n",
        "            eval_equal = res1 == res2\n",
        "            overlap = np.sum(eval_equal, axis=1) / res1.shape[1]\n",
        "            cur_ax.hist(overlap, bins=64, range=(0, 1))\n",
        "            cur_ax.set_title(ds + \" // {:.4f}\".format(overlap.mean()))\n",
        "            cur_ax.set_xlabel(\"% of equally adversarial samples b/t models\")\n",
        "            cur_ax.set_ylabel(\"Number of points\")\n",
        "\n",
        "            cur_ax = ax3 if type(ax3) is not np.ndarray else ax3[ds_i]\n",
        "            res_means = 1 - res1.mean(axis=1), 1 - res2.mean(axis=1)\n",
        "            cur_ax.scatter(*res_means)\n",
        "            cur_ax.set_title(ds)\n",
        "            cur_ax.set_xlabel(models[0] + \" uebp\")\n",
        "            cur_ax.set_ylabel(models[1] + \" uebp\")\n",
        "            cur_ax.set_xlim(-0.1, 1.1)\n",
        "            cur_ax.set_ylim(-0.1, 1.1)\n",
        "\n",
        "    fig.show()\n",
        "    fig2.show()\n",
        "    fig3.show()\n",
        "\n",
        "exp_show_ueb_atk_res(CIFAR10)"
      ],
      "execution_count": null,
      "outputs": [
        {
          "output_type": "stream",
          "text": [
            "['test'] ['model_nat', 'model_linf']\n"
          ],
          "name": "stdout"
        },
        {
          "output_type": "display_data",
          "data": {
            "image/png": "[encoded data removed]",
            "text/plain": [
              "<Figure size 720x360 with 2 Axes>"
            ]
          },
          "metadata": {
            "tags": [],
            "needs_background": "light"
          }
        },
        {
          "output_type": "display_data",
          "data": {
            "image/png": "[encoded data removed]",
            "text/plain": [
              "<Figure size 360x360 with 1 Axes>"
            ]
          },
          "metadata": {
            "tags": [],
            "needs_background": "light"
          }
        },
        {
          "output_type": "display_data",
          "data": {
            "image/png": "[encoded data removed]",
            "text/plain": [
              "<Figure size 360x360 with 1 Axes>"
            ]
          },
          "metadata": {
            "tags": [],
            "needs_background": "light"
          }
        }
      ]
    },
    {
      "cell_type": "code",
      "metadata": {
        "id": "BP9BJ0tsZnfZ"
      },
      "source": [
        "with open(\"iou.dill\", \"wb\") as f:\n",
        "    dill.dump(CIFAR10, f)"
      ],
      "execution_count": null,
      "outputs": []
    },
    {
      "cell_type": "code",
      "metadata": {
        "id": "y-bSy0BJYuuo"
      },
      "source": [
        ""
      ],
      "execution_count": null,
      "outputs": []
    }
  ]
}