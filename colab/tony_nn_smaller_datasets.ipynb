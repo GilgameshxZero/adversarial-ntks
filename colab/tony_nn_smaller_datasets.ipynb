{
  "nbformat": 4,
  "nbformat_minor": 0,
  "metadata": {
    "colab": {
      "name": "tony-nn-smaller-datasets.ipynb",
      "provenance": [],
      "collapsed_sections": [],
      "include_colab_link": true
    },
    "kernelspec": {
      "name": "python3",
      "display_name": "Python 3"
    },
    "accelerator": "GPU"
  },
  "cells": [
    {
      "cell_type": "markdown",
      "metadata": {
        "id": "view-in-github",
        "colab_type": "text"
      },
      "source": [
        "<a href=\"https://colab.research.google.com/github/GilgameshxZero/adversarial-ntks/blob/master/notebooks/tony_nn_smaller_datasets.ipynb\" target=\"_parent\"><img src=\"https://colab.research.google.com/assets/colab-badge.svg\" alt=\"Open In Colab\"/></a>"
      ]
    },
    {
      "cell_type": "code",
      "metadata": {
        "id": "HY1jgZSv3chP"
      },
      "source": [
        "import functools\n",
        "import operator\n",
        "\n",
        "import matplotlib.pyplot as plt\n",
        "import numpy as np\n",
        "from tqdm.auto import tqdm\n",
        "\n",
        "import tensorflow as tf\n",
        "import tensorflow_datasets as tfds\n",
        "\n",
        "import jax\n",
        "import jax.numpy as jnp\n",
        "from jax.experimental import stax\n",
        "from jax.experimental import optimizers\n",
        "from jax.config import config\n",
        "config.update(\"jax_enable_x64\", True)\n",
        "\n",
        "tf.random.set_seed(42)"
      ],
      "execution_count": null,
      "outputs": []
    },
    {
      "cell_type": "code",
      "metadata": {
        "id": "WxK_QR7Pzdbn",
        "colab": {
          "base_uri": "https://localhost:8080/",
          "height": 254
        },
        "outputId": "43df0a38-35fd-473d-ac7e-012ee62ac182"
      },
      "source": [
        "def downsample_imgs(imgs, image_width):\n",
        "    return tf.image.resize(\n",
        "        tf.convert_to_tensor(imgs),\n",
        "        size=[image_width, image_width],\n",
        "        method=tf.image.ResizeMethod.BILINEAR,\n",
        "        preserve_aspect_ratio=True,\n",
        "        antialias=False,\n",
        "    ).numpy()\n",
        "\n",
        "def get_np_data(\n",
        "    name, # \"mnist\" or \"cifar10\"\n",
        "    split,\n",
        "    binary_labels=True,\n",
        "    flatten=False,\n",
        "    image_width=None,\n",
        "):\n",
        "    \"\"\"\n",
        "    name: e.g. \"mnist\", \"cifar10\". See\n",
        "          https://www.tensorflow.org/datasets/catalog/overview for more details.\n",
        "    split: See https://www.tensorflow.org/datasets/splits\n",
        "    \"\"\"\n",
        "\n",
        "    xs, ys = operator.itemgetter('image', 'label')(\n",
        "        tfds.as_numpy(\n",
        "            tfds.load(\n",
        "                name=name,\n",
        "                split=split,\n",
        "                batch_size=-1,\n",
        "                data_dir=\"./data\",\n",
        "            )\n",
        "        )\n",
        "    )\n",
        "\n",
        "    xs = xs.astype(np.float64)\n",
        "    xs /= 255.0 # normalize\n",
        "\n",
        "    if binary_labels:\n",
        "        n_classes = ys.max() + 1\n",
        "        ys = (ys >= (n_classes // 2)).astype(np.int)\n",
        "\n",
        "    if image_width is not None:\n",
        "        xs = downsample_imgs(xs, image_width)\n",
        "\n",
        "    if flatten:\n",
        "        xs = xs.reshape((len(xs), -1))\n",
        "\n",
        "    return xs, ys\n",
        "\n",
        "mnist_train_np = get_np_data(name=\"mnist\", split=\"train[:2000]\", image_width=7)\n",
        "mnist_test_np = get_np_data(name=\"mnist\", split=\"test[:2000]\", image_width=7)\n",
        "cifar_train_np = get_np_data(name=\"cifar10\", split=\"train[:2000]\", image_width=8)\n",
        "cifar_test_np = get_np_data(name=\"cifar10\", split=\"test[:2000]\", image_width=8)\n",
        "\n",
        "for data in [mnist_train_np, mnist_test_np, cifar_train_np, cifar_test_np]:\n",
        "    xs, ys = data\n",
        "    print(ys[:10])\n",
        "    for i, x in enumerate(xs[:10]):\n",
        "        plt.subplot(1, 10, i + 1)\n",
        "        plt.imshow(x.squeeze())\n",
        "        plt.axis('off')\n",
        "    plt.show();"
      ],
      "execution_count": null,
      "outputs": [
        {
          "output_type": "stream",
          "text": [
            "[0 0 0 1 1 0 0 1 0 1]\n"
          ],
          "name": "stdout"
        },
        {
          "output_type": "display_data",
          "data": {
            "image/png": "[encoded data removed]",
            "text/plain": [
              "<Figure size 432x288 with 10 Axes>"
            ]
          },
          "metadata": {
            "tags": [],
            "needs_background": "light"
          }
        },
        {
          "output_type": "stream",
          "text": [
            "[0 0 0 1 1 1 0 1 0 0]\n"
          ],
          "name": "stdout"
        },
        {
          "output_type": "display_data",
          "data": {
            "image/png": "[encoded data removed]",
            "text/plain": [
              "<Figure size 432x288 with 10 Axes>"
            ]
          },
          "metadata": {
            "tags": [],
            "needs_background": "light"
          }
        },
        {
          "output_type": "stream",
          "text": [
            "[1 1 0 0 1 1 0 1 1 1]\n"
          ],
          "name": "stdout"
        },
        {
          "output_type": "display_data",
          "data": {
            "image/png": "[encoded data removed]",
            "text/plain": [
              "<Figure size 432x288 with 10 Axes>"
            ]
          },
          "metadata": {
            "tags": [],
            "needs_background": "light"
          }
        },
        {
          "output_type": "stream",
          "text": [
            "[1 0 1 1 1 0 1 0 0 0]\n"
          ],
          "name": "stdout"
        },
        {
          "output_type": "display_data",
          "data": {
            "image/png": "[encoded data removed]",
            "text/plain": [
              "<Figure size 432x288 with 10 Axes>"
            ]
          },
          "metadata": {
            "tags": [],
            "needs_background": "light"
          }
        }
      ]
    },
    {
      "cell_type": "code",
      "metadata": {
        "id": "CeaAlgzncrVT"
      },
      "source": [
        "def np_data_to_tfds(np_data, batch_size, shuffle_seed=42):\n",
        "    return (\n",
        "        tf.data.Dataset.from_tensor_slices(np_data)\n",
        "        .cache()\n",
        "        .shuffle(\n",
        "            buffer_size=len(np_data[0]),\n",
        "            seed=shuffle_seed,\n",
        "            reshuffle_each_iteration=False)\n",
        "        .batch(batch_size)\n",
        "        .prefetch(tf.data.experimental.AUTOTUNE)\n",
        "    )\n",
        "\n",
        "mnist_train_ds = np_data_to_tfds(mnist_train_np, batch_size=200)\n",
        "mnist_test_ds =  np_data_to_tfds(mnist_test_np,  batch_size=200)\n",
        "cifar_train_ds = np_data_to_tfds(cifar_train_np, batch_size=200)\n",
        "cifar_test_ds =  np_data_to_tfds(cifar_test_np,  batch_size=200)"
      ],
      "execution_count": null,
      "outputs": []
    },
    {
      "cell_type": "markdown",
      "metadata": {
        "id": "kqd1lZEsYoYi"
      },
      "source": [
        "# NN utilities"
      ]
    },
    {
      "cell_type": "code",
      "metadata": {
        "id": "d4Vz-VwqYnLa"
      },
      "source": [
        "def l2_squared(pytree):\n",
        "    leaves, _ = jax.tree_flatten(pytree)\n",
        "    return sum(jnp.vdot(x, x) for x in leaves)\n",
        "\n",
        "@functools.partial(jax.jit, static_argnums=(0,))\n",
        "def nll_mean_minibatch(model_fn, model_params, xs, ys):\n",
        "    \"\"\"\n",
        "    Returns mean negative log likelihood\n",
        "    \n",
        "    model_params: passed to model_fn\n",
        "    xs.shape: (batch_size, ...)\n",
        "    ys.shape: (batch_size, ),\n",
        "    \"\"\"\n",
        "    preds = model_fn(model_params, xs)\n",
        "    log_probs = jnp.take_along_axis(preds, jnp.expand_dims(ys, axis=1), axis=1)\n",
        "    return -jnp.mean(log_probs)\n",
        "\n",
        "@functools.partial(jax.jit, static_argnums=(0,))\n",
        "def loss_minibatch(model_fn, model_params, l2_lam_over_n, xs, ys):\n",
        "    nll_mean = nll_mean_minibatch(model_fn, model_params, xs, ys)\n",
        "    l2_val = l2_squared(model_params)\n",
        "    return nll_mean + l2_val * (l2_lam_over_n / 2.0)\n",
        "\n",
        "def loss_ds(model_fn, model_params, l2_lam_over_n, ds):\n",
        "    \"\"\"\n",
        "    model_params: passed to model_fn\n",
        "    ds: a tf.Dataset\n",
        "    \"\"\"\n",
        "    # Perform a weighted average\n",
        "    loss_total, num_total = 0, 0\n",
        "    for xs, ys in tfds.as_numpy(ds):\n",
        "        batch_size = len(ys)\n",
        "        \n",
        "        batch_loss = loss_minibatch(\n",
        "            model_fn, model_params, l2_lam_over_n, xs, ys)\n",
        "        \n",
        "        loss_total += batch_size * batch_loss\n",
        "        num_total += batch_size\n",
        "    \n",
        "    return loss_total / num_total\n",
        "    \n",
        "def accuracy_ds(model_fn, model_params, ds):\n",
        "    \"\"\"\n",
        "    model_params: passed to model_fn\n",
        "    ds: a tf.Dataset\n",
        "    \"\"\"\n",
        "    num_correct, num_total = 0, 0\n",
        "    for xs, ys in tfds.as_numpy(ds):\n",
        "        batch_size = len(ys)\n",
        "        \n",
        "        preds = model_fn(model_params, xs)\n",
        "        pred_targets = jnp.argmax(preds, axis=1)\n",
        "        \n",
        "        num_correct += jnp.sum(pred_targets == ys)\n",
        "        num_total += batch_size\n",
        "    \n",
        "    return num_correct / num_total\n",
        "\n",
        "def train_model(\n",
        "    model_init,\n",
        "    model_fn,\n",
        "    ds_train,\n",
        "    step_size_schedule={0: 0.1},\n",
        "    num_epochs=64,\n",
        "    l2_lam_over_n=0.1,\n",
        "    rng=jax.random.PRNGKey(42),\n",
        "    verbose=False,\n",
        "):\n",
        "    \"\"\"\n",
        "    model_fn: should return log probabilities\n",
        "    ds_train: a tf.Dataset\n",
        "    \"\"\"\n",
        "    \n",
        "    @functools.partial(jax.jit, static_argnums=(0,))\n",
        "    def train_step(opt_update, opt_state, xs, ys):\n",
        "        model_params = get_params(opt_state)\n",
        "        loss, grad = (\n",
        "            jax.value_and_grad(loss_minibatch, argnums=1)\n",
        "                              (model_fn, model_params, l2_lam_over_n, xs, ys)\n",
        "        )\n",
        "        return opt_update(0, grad, opt_state), loss\n",
        "    \n",
        "    \n",
        "\n",
        "    # Initialization\n",
        "    _, init_params = model_init(\n",
        "        input_shape=(-1,) + tuple(ds_train.element_spec[0].shape[1:]),\n",
        "        rng=rng\n",
        "    )\n",
        "    \n",
        "    # Train loop\n",
        "    best_params = init_params\n",
        "    best_train_loss = loss_ds(model_fn, best_params, l2_lam_over_n, ds_train)\n",
        "    train_losses = []\n",
        "    for epoch in (tqdm(range(num_epochs)) if verbose else range(num_epochs)):\n",
        "        if epoch in step_size_schedule:\n",
        "            opt_init, opt_update, get_params = (\n",
        "                #optimizers.sgd(step_size=step_size_schedule[epoch])\n",
        "                optimizers.momentum(step_size=step_size_schedule[epoch], mass=0.9)\n",
        "                #optimizers.adam(step_size=step_size_schedule[epoch])\n",
        "            )\n",
        "            opt_state = opt_init(best_params)\n",
        "        \n",
        "        train_loss_tot, num_xs_tot = 0, 0\n",
        "        for xs, ys in tfds.as_numpy(ds_train):    \n",
        "            opt_state, cur_loss = train_step(opt_update, opt_state, xs, ys)\n",
        "            \n",
        "            train_loss_tot += cur_loss * len(xs)\n",
        "            num_xs_tot += len(xs)\n",
        "            \n",
        "        train_loss = train_loss_tot / num_xs_tot\n",
        "        train_losses.append(train_loss)\n",
        "        \n",
        "        if train_loss < best_train_loss:\n",
        "            best_params = get_params(opt_state)\n",
        "            best_train_loss = train_loss\n",
        "        \n",
        "    return best_params, train_losses"
      ],
      "execution_count": null,
      "outputs": []
    },
    {
      "cell_type": "markdown",
      "metadata": {
        "id": "Vpli36Go0WLR"
      },
      "source": [
        "# FC NN"
      ]
    },
    {
      "cell_type": "code",
      "metadata": {
        "id": "wAwWTVN16JVQ"
      },
      "source": [
        "fc_model_init, fc_model_fn = stax.serial(\n",
        "    stax.Flatten,\n",
        "    stax.Dense(20), stax.Relu,\n",
        "    stax.Dense(20), stax.Relu,\n",
        "    stax.Dense(20), stax.Relu,\n",
        "    stax.Dense(2), stax.LogSoftmax\n",
        ")"
      ],
      "execution_count": null,
      "outputs": []
    },
    {
      "cell_type": "code",
      "metadata": {
        "id": "FWAaFw-nZubt",
        "colab": {
          "base_uri": "https://localhost:8080/"
        },
        "outputId": "8f5196f4-f970-4cf1-8529-28325df5b8ea"
      },
      "source": [
        "%%time\n",
        "for l2_lam_over_n in [1, 1e-1, 1e-2, 1e-3, 1e-4, 0]:\n",
        "    fc_model_params, train_losses = train_model(\n",
        "        model_init=fc_model_init,\n",
        "        model_fn=fc_model_fn,\n",
        "        ds_train=mnist_train_ds,\n",
        "        step_size_schedule={\n",
        "            0: 0.01,\n",
        "            300: 0.001\n",
        "        },\n",
        "        num_epochs=400,\n",
        "        l2_lam_over_n=l2_lam_over_n,\n",
        "        verbose=False,\n",
        "        rng=jax.random.PRNGKey(1),\n",
        "    );\n",
        "\n",
        "    print(f\"l2_lam_over_n={l2_lam_over_n:7} fc-nn mnist train acc: {accuracy_ds(fc_model_fn, fc_model_params, mnist_train_ds)}\")\n",
        "    print(f\"l2_lam_over_n={l2_lam_over_n:7} fc-nn mnist test  acc: {accuracy_ds(fc_model_fn, fc_model_params, mnist_test_ds)}\")\n",
        "\n",
        "#plt.plot(train_losses);"
      ],
      "execution_count": null,
      "outputs": [
        {
          "output_type": "stream",
          "text": [
            "l2_lam_over_n=     1 fc-nn train acc: 0.514\n",
            "l2_lam_over_n=     1 fc-nn test  acc: 0.5115\n",
            "l2_lam_over_n=   0.1 fc-nn train acc: 0.514\n",
            "l2_lam_over_n=   0.1 fc-nn test  acc: 0.5115\n",
            "l2_lam_over_n=  0.01 fc-nn train acc: 0.958\n",
            "l2_lam_over_n=  0.01 fc-nn test  acc: 0.8865\n",
            "l2_lam_over_n= 0.001 fc-nn train acc: 0.9915\n",
            "l2_lam_over_n= 0.001 fc-nn test  acc: 0.872\n",
            "l2_lam_over_n=0.0001 fc-nn train acc: 0.9855\n",
            "l2_lam_over_n=0.0001 fc-nn test  acc: 0.8765\n",
            "l2_lam_over_n=     0 fc-nn train acc: 0.9855\n",
            "l2_lam_over_n=     0 fc-nn test  acc: 0.8785\n",
            "CPU times: user 1min 14s, sys: 9.76 s, total: 1min 23s\n",
            "Wall time: 1min 10s\n"
          ],
          "name": "stdout"
        }
      ]
    },
    {
      "cell_type": "code",
      "metadata": {
        "colab": {
          "base_uri": "https://localhost:8080/"
        },
        "id": "GyNBH3UXrZoO",
        "outputId": "d871c26e-fc7e-499d-ff3e-ae022252fc6a"
      },
      "source": [
        "%%time\n",
        "for l2_lam_over_n in [1, 1e-1, 1e-2, 1e-3, 1e-4, 0]:\n",
        "    fc_model_params, train_losses = train_model(\n",
        "        model_init=fc_model_init,\n",
        "        model_fn=fc_model_fn,\n",
        "        ds_train=cifar_train_ds,\n",
        "        step_size_schedule={\n",
        "            0: 0.01,\n",
        "            500: 0.001\n",
        "        },\n",
        "        num_epochs=800,\n",
        "        l2_lam_over_n=l2_lam_over_n,\n",
        "        verbose=False,\n",
        "        rng=jax.random.PRNGKey(1),\n",
        "    );\n",
        "\n",
        "    print(f\"l2_lam_over_n={l2_lam_over_n:7} fc-nn cifar train acc: {accuracy_ds(fc_model_fn, fc_model_params, cifar_train_ds)}\")\n",
        "    print(f\"l2_lam_over_n={l2_lam_over_n:7} fc-nn cifar test  acc: {accuracy_ds(fc_model_fn, fc_model_params, cifar_test_ds)}\")"
      ],
      "execution_count": null,
      "outputs": [
        {
          "output_type": "stream",
          "text": [
            "l2_lam_over_n=     1 fc-nn train acc: 0.5075\n",
            "l2_lam_over_n=     1 fc-nn test  acc: 0.495\n",
            "l2_lam_over_n=   0.1 fc-nn train acc: 0.5075\n",
            "l2_lam_over_n=   0.1 fc-nn test  acc: 0.495\n",
            "l2_lam_over_n=  0.01 fc-nn train acc: 0.9285\n",
            "l2_lam_over_n=  0.01 fc-nn test  acc: 0.5785\n",
            "l2_lam_over_n= 0.001 fc-nn train acc: 0.991\n",
            "l2_lam_over_n= 0.001 fc-nn test  acc: 0.599\n",
            "l2_lam_over_n=0.0001 fc-nn train acc: 0.9945\n",
            "l2_lam_over_n=0.0001 fc-nn test  acc: 0.5815\n",
            "l2_lam_over_n=     0 fc-nn train acc: 0.996\n",
            "l2_lam_over_n=     0 fc-nn test  acc: 0.584\n",
            "CPU times: user 2min 27s, sys: 20.4 s, total: 2min 47s\n",
            "Wall time: 2min 20s\n"
          ],
          "name": "stdout"
        }
      ]
    },
    {
      "cell_type": "markdown",
      "metadata": {
        "id": "VUeHZNoP0ZET"
      },
      "source": [
        "# Convolutional NN"
      ]
    },
    {
      "cell_type": "markdown",
      "metadata": {
        "id": "S3WKuUz70vC6"
      },
      "source": [
        "### Flatten"
      ]
    },
    {
      "cell_type": "code",
      "metadata": {
        "id": "AXBzlF8h6xPy"
      },
      "source": [
        "cnn_flat_model_init, cnn_flat_model_fn = stax.serial(\n",
        "    stax.Conv(20, (3, 3)), stax.Relu,\n",
        "    stax.Conv(20, (3, 3)), stax.Relu,\n",
        "    stax.Conv(20, (3, 3)), stax.Relu,\n",
        "    stax.Flatten,\n",
        "    stax.Dense(2), stax.LogSoftmax\n",
        ")"
      ],
      "execution_count": null,
      "outputs": []
    },
    {
      "cell_type": "code",
      "metadata": {
        "colab": {
          "base_uri": "https://localhost:8080/"
        },
        "id": "MzvDef3Dzadg",
        "outputId": "fa5d330b-1e5f-4563-e79d-c6a6a8f74faf"
      },
      "source": [
        "%%time\n",
        "for l2_lam_over_n in [1, 1e-1, 1e-2, 1e-3, 1e-4, 0]:\n",
        "    cnn_flat_model_params, train_losses = train_model(\n",
        "        model_init=cnn_flat_model_init,\n",
        "        model_fn=cnn_flat_model_fn,\n",
        "        ds_train=mnist_train_ds,\n",
        "        step_size_schedule={\n",
        "            0: 0.01,\n",
        "            200: 0.001\n",
        "        },\n",
        "        num_epochs=300,\n",
        "        l2_lam_over_n=l2_lam_over_n,\n",
        "        verbose=False,\n",
        "        rng=jax.random.PRNGKey(1),\n",
        "    );\n",
        "\n",
        "    print(f\"l2_lam_over_n={l2_lam_over_n:7} fc-nn mnist train acc: {accuracy_ds(cnn_flat_model_fn, cnn_flat_model_params, mnist_train_ds)}\")\n",
        "    print(f\"l2_lam_over_n={l2_lam_over_n:7} fc-nn mnist test  acc: {accuracy_ds(cnn_flat_model_fn, cnn_flat_model_params, mnist_test_ds)}\")"
      ],
      "execution_count": null,
      "outputs": [
        {
          "output_type": "stream",
          "text": [
            "l2_lam_over_n=      1 fc-nn train acc: 0.514\n",
            "l2_lam_over_n=      1 fc-nn test  acc: 0.5115\n",
            "l2_lam_over_n=    0.1 fc-nn train acc: 0.514\n",
            "l2_lam_over_n=    0.1 fc-nn test  acc: 0.5115\n",
            "l2_lam_over_n=   0.01 fc-nn train acc: 0.938\n",
            "l2_lam_over_n=   0.01 fc-nn test  acc: 0.8935\n",
            "l2_lam_over_n=  0.001 fc-nn train acc: 0.9935\n",
            "l2_lam_over_n=  0.001 fc-nn test  acc: 0.895\n",
            "l2_lam_over_n= 0.0001 fc-nn train acc: 0.996\n",
            "l2_lam_over_n= 0.0001 fc-nn test  acc: 0.889\n",
            "l2_lam_over_n=      0 fc-nn train acc: 0.9945\n",
            "l2_lam_over_n=      0 fc-nn test  acc: 0.895\n",
            "CPU times: user 1min 4s, sys: 9.16 s, total: 1min 14s\n",
            "Wall time: 1min 5s\n"
          ],
          "name": "stdout"
        }
      ]
    },
    {
      "cell_type": "code",
      "metadata": {
        "colab": {
          "base_uri": "https://localhost:8080/"
        },
        "id": "0lPuv8Se1H1l",
        "outputId": "d78e93f6-fe6b-4ac9-ae65-df2532ddbece"
      },
      "source": [
        "%%time\n",
        "for l2_lam_over_n in [1, 1e-1, 1e-2, 1e-3, 1e-4, 0]:\n",
        "    cnn_flat_model_params, train_losses = train_model(\n",
        "        model_init=cnn_flat_model_init,\n",
        "        model_fn=cnn_flat_model_fn,\n",
        "        ds_train=cifar_train_ds,\n",
        "        step_size_schedule={\n",
        "            0: 0.01,\n",
        "            400: 0.001\n",
        "        },\n",
        "        num_epochs=500,\n",
        "        l2_lam_over_n=l2_lam_over_n,\n",
        "        verbose=False,\n",
        "        rng=jax.random.PRNGKey(1),\n",
        "    );\n",
        "\n",
        "    print(f\"l2_lam_over_n={l2_lam_over_n:7} fc-nn cifar train acc: {accuracy_ds(cnn_flat_model_fn, cnn_flat_model_params, cifar_train_ds)}\")\n",
        "    print(f\"l2_lam_over_n={l2_lam_over_n:7} fc-nn cifar test  acc: {accuracy_ds(cnn_flat_model_fn, cnn_flat_model_params, cifar_test_ds)}\")"
      ],
      "execution_count": null,
      "outputs": [
        {
          "output_type": "stream",
          "text": [
            "l2_lam_over_n=      1 fc-nn train acc: 0.5075\n",
            "l2_lam_over_n=      1 fc-nn test  acc: 0.495\n",
            "l2_lam_over_n=    0.1 fc-nn train acc: 0.5075\n",
            "l2_lam_over_n=    0.1 fc-nn test  acc: 0.495\n",
            "l2_lam_over_n=   0.01 fc-nn train acc: 0.7205\n",
            "l2_lam_over_n=   0.01 fc-nn test  acc: 0.608\n",
            "l2_lam_over_n=  0.001 fc-nn train acc: 0.999\n",
            "l2_lam_over_n=  0.001 fc-nn test  acc: 0.583\n",
            "l2_lam_over_n= 0.0001 fc-nn train acc: 1.0\n",
            "l2_lam_over_n= 0.0001 fc-nn test  acc: 0.5775\n",
            "l2_lam_over_n=      0 fc-nn train acc: 1.0\n",
            "l2_lam_over_n=      0 fc-nn test  acc: 0.559\n",
            "CPU times: user 1min 45s, sys: 14.4 s, total: 1min 59s\n",
            "Wall time: 1min 41s\n"
          ],
          "name": "stdout"
        }
      ]
    },
    {
      "cell_type": "markdown",
      "metadata": {
        "id": "3PDgMIPSATYu"
      },
      "source": [
        "### Global average pool"
      ]
    },
    {
      "cell_type": "code",
      "metadata": {
        "id": "1n1arCln27LH"
      },
      "source": [
        "cnn_gap_model_init, cnn_gap_model_fn = stax.serial(\n",
        "    stax.Conv(20, (3, 3)), stax.Relu,\n",
        "    stax.Conv(20, (3, 3)), stax.Relu,\n",
        "    stax.Conv(20, (3, 3)), stax.Relu,\n",
        "    stax.AvgPool((1,1)),\n",
        "    stax.Flatten,\n",
        "    stax.Dense(2), stax.LogSoftmax\n",
        ")"
      ],
      "execution_count": null,
      "outputs": []
    },
    {
      "cell_type": "code",
      "metadata": {
        "colab": {
          "base_uri": "https://localhost:8080/"
        },
        "id": "-kuVEWxHAeCZ",
        "outputId": "7f00720b-313e-4084-d655-90d0a6354cfd"
      },
      "source": [
        "%%time\n",
        "for l2_lam_over_n in [1, 1e-1, 1e-2, 1e-3, 1e-4, 0]:\n",
        "    cnn_gap_model_params, train_losses = train_model(\n",
        "        model_init=cnn_gap_model_init,\n",
        "        model_fn=cnn_gap_model_fn,\n",
        "        ds_train=mnist_train_ds,\n",
        "        step_size_schedule={\n",
        "            0: 0.01,\n",
        "            400: 0.001\n",
        "        },\n",
        "        num_epochs=500,\n",
        "        l2_lam_over_n=l2_lam_over_n,\n",
        "        verbose=False,\n",
        "        rng=jax.random.PRNGKey(1),\n",
        "    );\n",
        "\n",
        "    print(f\"l2_lam_over_n={l2_lam_over_n:7} fc-nn mnist train acc: {accuracy_ds(cnn_gap_model_fn, cnn_gap_model_params, mnist_train_ds)}\")\n",
        "    print(f\"l2_lam_over_n={l2_lam_over_n:7} fc-nn mnist test  acc: {accuracy_ds(cnn_gap_model_fn, cnn_gap_model_params, mnist_test_ds)}\")"
      ],
      "execution_count": null,
      "outputs": [
        {
          "output_type": "stream",
          "text": [
            "l2_lam_over_n=      1 fc-nn mnist train acc: 0.514\n",
            "l2_lam_over_n=      1 fc-nn mnist test  acc: 0.5115\n",
            "l2_lam_over_n=    0.1 fc-nn mnist train acc: 0.514\n",
            "l2_lam_over_n=    0.1 fc-nn mnist test  acc: 0.5115\n",
            "l2_lam_over_n=   0.01 fc-nn mnist train acc: 0.959\n",
            "l2_lam_over_n=   0.01 fc-nn mnist test  acc: 0.8945\n",
            "l2_lam_over_n=  0.001 fc-nn mnist train acc: 1.0\n",
            "l2_lam_over_n=  0.001 fc-nn mnist test  acc: 0.8925\n",
            "l2_lam_over_n= 0.0001 fc-nn mnist train acc: 1.0\n",
            "l2_lam_over_n= 0.0001 fc-nn mnist test  acc: 0.8945\n",
            "l2_lam_over_n=      0 fc-nn mnist train acc: 1.0\n",
            "l2_lam_over_n=      0 fc-nn mnist test  acc: 0.893\n",
            "CPU times: user 1min 42s, sys: 13.1 s, total: 1min 55s\n",
            "Wall time: 1min 37s\n"
          ],
          "name": "stdout"
        }
      ]
    },
    {
      "cell_type": "code",
      "metadata": {
        "colab": {
          "base_uri": "https://localhost:8080/",
          "height": 508
        },
        "id": "xH8hz6EPBDEy",
        "outputId": "aaf28aee-0080-4c25-b736-64fcf5fe6f84"
      },
      "source": [
        "%%time\n",
        "for l2_lam_over_n in [1, 1e-1, 1e-2, 1e-3, 1e-4, 0]:\n",
        "    cnn_gap_model_params, train_losses = train_model(\n",
        "        model_init=cnn_gap_model_init,\n",
        "        model_fn=cnn_gap_model_fn,\n",
        "        ds_train=cifar_train_ds,\n",
        "        step_size_schedule={\n",
        "            0: 0.01,\n",
        "            400: 0.001\n",
        "        },\n",
        "        num_epochs=500,\n",
        "        l2_lam_over_n=l2_lam_over_n,\n",
        "        verbose=False,\n",
        "        rng=jax.random.PRNGKey(1),\n",
        "    );\n",
        "\n",
        "    print(f\"l2_lam_over_n={l2_lam_over_n:7} fc-nn cifar train acc: {accuracy_ds(cnn_gap_model_fn, cnn_gap_model_params, cifar_train_ds)}\")\n",
        "    print(f\"l2_lam_over_n={l2_lam_over_n:7} fc-nn cifar test  acc: {accuracy_ds(cnn_gap_model_fn, cnn_gap_model_params, cifar_test_ds)}\")"
      ],
      "execution_count": null,
      "outputs": [
        {
          "output_type": "stream",
          "text": [
            "l2_lam_over_n=      1 fc-nn cifar train acc: 0.5075\n",
            "l2_lam_over_n=      1 fc-nn cifar test  acc: 0.495\n",
            "l2_lam_over_n=    0.1 fc-nn cifar train acc: 0.5075\n",
            "l2_lam_over_n=    0.1 fc-nn cifar test  acc: 0.495\n",
            "l2_lam_over_n=   0.01 fc-nn cifar train acc: 0.721\n",
            "l2_lam_over_n=   0.01 fc-nn cifar test  acc: 0.6075\n",
            "l2_lam_over_n=  0.001 fc-nn cifar train acc: 1.0\n",
            "l2_lam_over_n=  0.001 fc-nn cifar test  acc: 0.569\n",
            "l2_lam_over_n= 0.0001 fc-nn cifar train acc: 1.0\n",
            "l2_lam_over_n= 0.0001 fc-nn cifar test  acc: 0.576\n",
            "l2_lam_over_n=      0 fc-nn cifar train acc: 1.0\n",
            "l2_lam_over_n=      0 fc-nn cifar test  acc: 0.5805\n",
            "CPU times: user 1min 47s, sys: 14.6 s, total: 2min 1s\n",
            "Wall time: 1min 43s\n"
          ],
          "name": "stdout"
        },
        {
          "output_type": "display_data",
          "data": {
            "image/png": "[encoded data removed]",
            "text/plain": [
              "<Figure size 432x288 with 1 Axes>"
            ]
          },
          "metadata": {
            "tags": [],
            "needs_background": "light"
          }
        }
      ]
    }
  ]
}