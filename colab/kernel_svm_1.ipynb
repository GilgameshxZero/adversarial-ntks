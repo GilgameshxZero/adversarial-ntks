{
  "nbformat": 4,
  "nbformat_minor": 0,
  "metadata": {
    "colab": {
      "name": "kernel-svm-1",
      "provenance": [],
      "collapsed_sections": [],
      "machine_shape": "hm",
      "include_colab_link": true
    },
    "kernelspec": {
      "name": "python3",
      "display_name": "Python 3"
    },
    "accelerator": "GPU"
  },
  "cells": [
    {
      "cell_type": "markdown",
      "metadata": {
        "id": "view-in-github",
        "colab_type": "text"
      },
      "source": [
        "<a href=\"https://colab.research.google.com/github/GilgameshxZero/adversarial-ntks/blob/master/notebooks/kernel_svm_1.ipynb\" target=\"_parent\"><img src=\"https://colab.research.google.com/assets/colab-badge.svg\" alt=\"Open In Colab\"/></a>"
      ]
    },
    {
      "cell_type": "code",
      "metadata": {
        "id": "nIVP4CuIrW9g",
        "colab": {
          "base_uri": "https://localhost:8080/"
        },
        "outputId": "a600aa94-d556-4716-c9a8-61063ddc4a79"
      },
      "source": [
        "!pip install mnist\n",
        "!pip install jax jaxlib --upgrade\n",
        "!pip install -q git+https://www.github.com/google/neural-tangents"
      ],
      "execution_count": null,
      "outputs": [
        {
          "output_type": "stream",
          "text": [
            "Collecting mnist\n",
            "  Downloading https://files.pythonhosted.org/packages/c6/c4/5db3bfe009f8d71f1d532bbadbd0ec203764bba3a469e4703a889db8e5e0/mnist-0.2.2-py2.py3-none-any.whl\n",
            "Requirement already satisfied: numpy in /usr/local/lib/python3.6/dist-packages (from mnist) (1.18.5)\n",
            "Installing collected packages: mnist\n",
            "Successfully installed mnist-0.2.2\n",
            "Collecting jax\n",
            "\u001b[?25l  Downloading https://files.pythonhosted.org/packages/5f/3e/b66a9f1af6fe8d4ced9bff28a5b8b95c5dd4121c0266fd273dd56fa2fceb/jax-0.2.5.tar.gz (487kB)\n",
            "\u001b[K     |████████████████████████████████| 491kB 12.7MB/s \n",
            "\u001b[?25hCollecting jaxlib\n",
            "\u001b[?25l  Downloading https://files.pythonhosted.org/packages/0c/73/c7c9539c1348de4811524b03284a96ce2579a50b808ea502a8f90d784b80/jaxlib-0.1.57-cp36-none-manylinux2010_x86_64.whl (33.3MB)\n",
            "\u001b[K     |████████████████████████████████| 33.3MB 160kB/s \n",
            "\u001b[?25hRequirement already satisfied, skipping upgrade: numpy>=1.12 in /usr/local/lib/python3.6/dist-packages (from jax) (1.18.5)\n",
            "Requirement already satisfied, skipping upgrade: absl-py in /usr/local/lib/python3.6/dist-packages (from jax) (0.10.0)\n",
            "Requirement already satisfied, skipping upgrade: opt_einsum in /usr/local/lib/python3.6/dist-packages (from jax) (3.3.0)\n",
            "Requirement already satisfied, skipping upgrade: scipy in /usr/local/lib/python3.6/dist-packages (from jaxlib) (1.4.1)\n",
            "Collecting flatbuffers\n",
            "  Downloading https://files.pythonhosted.org/packages/eb/26/712e578c5f14e26ae3314c39a1bdc4eb2ec2f4ddc89b708cf8e0a0d20423/flatbuffers-1.12-py2.py3-none-any.whl\n",
            "Requirement already satisfied, skipping upgrade: six in /usr/local/lib/python3.6/dist-packages (from absl-py->jax) (1.15.0)\n",
            "Building wheels for collected packages: jax\n",
            "  Building wheel for jax (setup.py) ... \u001b[?25l\u001b[?25hdone\n",
            "  Created wheel for jax: filename=jax-0.2.5-cp36-none-any.whl size=576151 sha256=20568ca680165bdebe03884364a7ee921eb22fc5168c1c3768a197502b67f62d\n",
            "  Stored in directory: /root/.cache/pip/wheels/d1/0d/3e/c44cadf26545452c29274cb512526d63f1840278edf59b80db\n",
            "Successfully built jax\n",
            "Installing collected packages: jax, flatbuffers, jaxlib\n",
            "  Found existing installation: jax 0.2.4\n",
            "    Uninstalling jax-0.2.4:\n",
            "      Successfully uninstalled jax-0.2.4\n",
            "  Found existing installation: jaxlib 0.1.56+cuda101\n",
            "    Uninstalling jaxlib-0.1.56+cuda101:\n",
            "      Successfully uninstalled jaxlib-0.1.56+cuda101\n",
            "Successfully installed flatbuffers-1.12 jax-0.2.5 jaxlib-0.1.57\n",
            "  Building wheel for neural-tangents (setup.py) ... \u001b[?25l\u001b[?25hdone\n",
            "  Building wheel for frozendict (setup.py) ... \u001b[?25l\u001b[?25hdone\n"
          ],
          "name": "stdout"
        }
      ]
    },
    {
      "cell_type": "code",
      "metadata": {
        "id": "1Qk43Vh32X-_"
      },
      "source": [
        "import pathlib\n",
        "import random\n",
        "import pandas as pd\n",
        "import matplotlib.pyplot as plt\n",
        "import mnist\n",
        "import sklearn\n",
        "import jax.numpy as jnp\n",
        "import functools\n",
        "import copy\n",
        "import numpy as np\n",
        "import requests\n",
        "import pickle\n",
        "import tarfile\n",
        "import tensorflow as tf\n",
        "\n",
        "from sklearn import svm\n",
        "from scipy.ndimage import interpolation\n",
        "\n",
        "from jax import random\n",
        "from jax.experimental import optimizers\n",
        "from jax.api import jit, grad, vmap\n",
        "from jax.config import config\n",
        "config.update(\"jax_enable_x64\", True)\n",
        "\n",
        "import neural_tangents as nt\n",
        "from neural_tangents import stax"
      ],
      "execution_count": null,
      "outputs": []
    },
    {
      "cell_type": "code",
      "metadata": {
        "id": "o9fuPa9z2aHO"
      },
      "source": [
        "TMP_DIR = \"./tmp/\"\n",
        "MN_TRAIN_SPLIT = 2000\n",
        "MN_TEST_SPLIT = 10000\n",
        "SAMPLE_IDX = 0\n",
        "CF10_TRAIN_SPLIT = 2000\n",
        "CF10_TEST_SPLIT = 2000"
      ],
      "execution_count": null,
      "outputs": []
    },
    {
      "cell_type": "code",
      "metadata": {
        "id": "3Fd_6KRXsuan",
        "colab": {
          "base_uri": "https://localhost:8080/"
        },
        "outputId": "9e7b5a99-db41-4df4-b930-71c3e8cd44b0"
      },
      "source": [
        "pathlib.Path(TMP_DIR).mkdir(parents=True, exist_ok=True)\n",
        "mnd = {}\n",
        "mnd[\"train_x\"] = mnist.download_and_parse_mnist_file(\n",
        "  \"train-images-idx3-ubyte.gz\",\n",
        "  target_dir=TMP_DIR\n",
        ")\n",
        "mnd[\"train_y\"] = mnist.download_and_parse_mnist_file(\n",
        "  \"train-labels-idx1-ubyte.gz\",\n",
        "  target_dir=TMP_DIR\n",
        ")\n",
        "mnd[\"test_x\"] = mnist.download_and_parse_mnist_file(\n",
        "  \"t10k-images-idx3-ubyte.gz\",\n",
        "  target_dir=TMP_DIR\n",
        ")\n",
        "mnd[\"test_y\"] = mnist.download_and_parse_mnist_file(\n",
        "  \"t10k-labels-idx1-ubyte.gz\",\n",
        "  target_dir=TMP_DIR\n",
        ")\n",
        "\n",
        "cf10d = {}\n",
        "(cf10d[\"train_x\"], cf10d[\"train_y\"]), (cf10d[\"test_x\"], cf10d[\"test_y\"]) = \\\n",
        "  tf.keras.datasets.cifar10.load_data()"
      ],
      "execution_count": null,
      "outputs": [
        {
          "output_type": "stream",
          "text": [
            "Downloading data from https://www.cs.toronto.edu/~kriz/cifar-10-python.tar.gz\n",
            "170500096/170498071 [==============================] - 6s 0us/step\n"
          ],
          "name": "stdout"
        }
      ]
    },
    {
      "cell_type": "code",
      "metadata": {
        "id": "_iIbwq2_0umU",
        "colab": {
          "base_uri": "https://localhost:8080/",
          "height": 1000
        },
        "outputId": "4584b447-6944-49e6-d5c9-ba24f0df9192"
      },
      "source": [
        "def prep_data(data, flatten=False, binary=False):\n",
        "  data[\"orig_dim\"] = data[\"train_x\"].shape[1]\n",
        "\n",
        "  if flatten:\n",
        "    data[\"train_x\"] = data[\"train_x\"].reshape((data[\"train_x\"].shape[0], -1))\n",
        "    data[\"test_x\"] = data[\"test_x\"].reshape((data[\"test_x\"].shape[0], -1))\n",
        "\n",
        "  if binary:\n",
        "    n_classes = np.amax(data[\"train_y\"]) + 1\n",
        "    data[\"train_y\"] = data[\"train_y\"] >= (n_classes // 2)\n",
        "    data[\"test_y\"] = data[\"test_y\"] >= (n_classes // 2)\n",
        "\n",
        "  data[\"train_x\"] = data[\"train_x\"] / 255.0\n",
        "  data[\"test_x\"] = data[\"test_x\"] / 255.0\n",
        "\n",
        "  data[\"train_y\"] = data[\"train_y\"].reshape((data[\"train_y\"].shape[0],))\n",
        "  data[\"test_y\"] = data[\"test_y\"].reshape((data[\"test_y\"].shape[0],))\n",
        "\n",
        "  print(\"train_x.shape:\", data[\"train_x\"].shape)\n",
        "  print(\"train_y.shape:\", data[\"train_y\"].shape)\n",
        "  print(\"test_x.shape:\", data[\"test_x\"].shape)\n",
        "  print(\"test_y.shape:\", data[\"test_y\"].shape)\n",
        "\n",
        "  print(\"train_x[{}] is {}.\".format(1, data[\"train_y\"][1]))\n",
        "  plt.imshow(data[\"test_x\"][1].reshape((data[\"orig_dim\"], -1)))\n",
        "  plt.show()\n",
        "\n",
        "mnds = copy.deepcopy(mnd)\n",
        "cf10ds = copy.deepcopy(cf10d)\n",
        "prep_data(mnd, flatten=True, binary=True)\n",
        "prep_data(mnds, flatten=False, binary=True)\n",
        "prep_data(cf10d, flatten=True, binary=True)\n",
        "prep_data(cf10ds, flatten=False, binary=True)\n",
        "print(np.amax(mnd[\"train_x\"]), np.amin(mnd[\"train_x\"]))\n",
        "print(np.amax(cf10d[\"train_x\"]), np.amin(cf10d[\"train_x\"]))"
      ],
      "execution_count": null,
      "outputs": [
        {
          "output_type": "stream",
          "text": [
            "train_x.shape: (60000, 784)\n",
            "train_y.shape: (60000,)\n",
            "test_x.shape: (10000, 784)\n",
            "test_y.shape: (10000,)\n",
            "train_x[1] is False.\n"
          ],
          "name": "stdout"
        },
        {
          "output_type": "display_data",
          "data": {
            "image/png": "[encoded data removed]",
            "text/plain": [
              "<Figure size 432x288 with 1 Axes>"
            ]
          },
          "metadata": {
            "tags": [],
            "needs_background": "light"
          }
        },
        {
          "output_type": "stream",
          "text": [
            "train_x.shape: (60000, 28, 28)\n",
            "train_y.shape: (60000,)\n",
            "test_x.shape: (10000, 28, 28)\n",
            "test_y.shape: (10000,)\n",
            "train_x[1] is False.\n"
          ],
          "name": "stdout"
        },
        {
          "output_type": "display_data",
          "data": {
            "image/png": "[encoded data removed]",
            "text/plain": [
              "<Figure size 432x288 with 1 Axes>"
            ]
          },
          "metadata": {
            "tags": [],
            "needs_background": "light"
          }
        },
        {
          "output_type": "stream",
          "text": [
            "train_x.shape: (50000, 3072)\n",
            "train_y.shape: (50000,)\n",
            "test_x.shape: (10000, 3072)\n",
            "test_y.shape: (10000,)\n",
            "train_x[1] is True.\n"
          ],
          "name": "stdout"
        },
        {
          "output_type": "display_data",
          "data": {
            "image/png": "[encoded data removed]",
            "text/plain": [
              "<Figure size 432x288 with 1 Axes>"
            ]
          },
          "metadata": {
            "tags": [],
            "needs_background": "light"
          }
        },
        {
          "output_type": "stream",
          "text": [
            "train_x.shape: (50000, 32, 32, 3)\n",
            "train_y.shape: (50000,)\n",
            "test_x.shape: (10000, 32, 32, 3)\n",
            "test_y.shape: (10000,)\n",
            "train_x[1] is True.\n"
          ],
          "name": "stdout"
        },
        {
          "output_type": "display_data",
          "data": {
            "image/png": "[encoded data removed]",
            "text/plain": [
              "<Figure size 432x288 with 1 Axes>"
            ]
          },
          "metadata": {
            "tags": [],
            "needs_background": "light"
          }
        },
        {
          "output_type": "stream",
          "text": [
            "1.0 0.0\n",
            "1.0 0.0\n"
          ],
          "name": "stdout"
        }
      ]
    },
    {
      "cell_type": "code",
      "metadata": {
        "id": "hOqua4Zh9OW7"
      },
      "source": [
        "def clf_data_pred(clf, data, idx):\n",
        "  return clf.predict([data[\"test_x\"][idx]])[0]\n",
        "\n",
        "def clf_data_pred_plot(clf, data, idx):\n",
        "  pred = clf_data_pred(clf, data, idx)\n",
        "  print(\"Truth//pred: {}//{}\".format(data[\"test_y\"][idx], pred))\n",
        "  plt.imshow(data[\"test_x\"][idx].reshape((28, -1)))\n",
        "  plt.show()\n",
        "\n",
        "def clf_data_acc(clf, data, test_split):\n",
        "  return np.count_nonzero(\n",
        "    data[\"test_y\"][:test_split] == clf.predict(data[\"test_x\"][:test_split])) / \\\n",
        "    test_split"
      ],
      "execution_count": null,
      "outputs": []
    },
    {
      "cell_type": "code",
      "metadata": {
        "id": "Kidv4rxL2mTP",
        "colab": {
          "base_uri": "https://localhost:8080/"
        },
        "outputId": "e07056a4-dc78-4c5e-8dc7-91b21eba1b36"
      },
      "source": [
        "%%time\n",
        "clf_rbf = svm.SVC(C=3, gamma=\"scale\")\n",
        "print(clf_rbf.fit(mnd[\"train_x\"][:MN_TRAIN_SPLIT], mnd[\"train_y\"][:MN_TRAIN_SPLIT]))\n",
        "print(\"rbf test acc: {}\".format(clf_data_acc(clf_rbf, mnd, MN_TEST_SPLIT)))"
      ],
      "execution_count": null,
      "outputs": [
        {
          "output_type": "stream",
          "text": [
            "SVC(C=3, break_ties=False, cache_size=200, class_weight=None, coef0=0.0,\n",
            "    decision_function_shape='ovr', degree=3, gamma='scale', kernel='rbf',\n",
            "    max_iter=-1, probability=False, random_state=None, shrinking=True,\n",
            "    tol=0.001, verbose=False)\n",
            "rbf test acc: 0.9165\n",
            "CPU times: user 4.01 s, sys: 692 µs, total: 4.01 s\n",
            "Wall time: 4.01 s\n"
          ],
          "name": "stdout"
        }
      ]
    },
    {
      "cell_type": "code",
      "metadata": {
        "id": "qbKtTJhv9dWf",
        "colab": {
          "base_uri": "https://localhost:8080/",
          "height": 282
        },
        "outputId": "65ee16bf-523a-4308-be43-46860fd5afef"
      },
      "source": [
        "clf_data_pred_plot(clf_rbf, mnd, 0)"
      ],
      "execution_count": null,
      "outputs": [
        {
          "output_type": "stream",
          "text": [
            "Truth//pred: True//True\n"
          ],
          "name": "stdout"
        },
        {
          "output_type": "display_data",
          "data": {
            "image/png": "[encoded data removed]",
            "text/plain": [
              "<Figure size 432x288 with 1 Axes>"
            ]
          },
          "metadata": {
            "tags": [],
            "needs_background": "light"
          }
        }
      ]
    },
    {
      "cell_type": "code",
      "metadata": {
        "id": "cja-e9Bb2soC",
        "colab": {
          "base_uri": "https://localhost:8080/"
        },
        "outputId": "cd2bb58b-84c9-4275-84d5-2def1d3ada57"
      },
      "source": [
        "clf_poly_4 = svm.SVC(C=3, kernel=\"poly\", degree=4)\n",
        "print(clf_poly_4.fit(mnd[\"train_x\"][:MN_TRAIN_SPLIT], mnd[\"train_y\"][:MN_TRAIN_SPLIT]))\n",
        "print(\"poly_4 test acc: {}\".format(clf_data_acc(clf_poly_4, mnd, MN_TEST_SPLIT)))"
      ],
      "execution_count": null,
      "outputs": [
        {
          "output_type": "stream",
          "text": [
            "SVC(C=3, break_ties=False, cache_size=200, class_weight=None, coef0=0.0,\n",
            "    decision_function_shape='ovr', degree=4, gamma='scale', kernel='poly',\n",
            "    max_iter=-1, probability=False, random_state=None, shrinking=True,\n",
            "    tol=0.001, verbose=False)\n",
            "poly_4 test acc: 0.916\n"
          ],
          "name": "stdout"
        }
      ]
    },
    {
      "cell_type": "code",
      "metadata": {
        "id": "DqOpIKgC63hT",
        "colab": {
          "base_uri": "https://localhost:8080/"
        },
        "outputId": "30f7dc02-6489-40b8-a769-94a4ebfa521a"
      },
      "source": [
        "def kernel_dot(A, B):\n",
        "  return np.dot(A, B.T)\n",
        "clf_dot = svm.SVC(C=1, kernel=kernel_dot)\n",
        "print(clf_dot.fit(mnd[\"train_x\"][:MN_TRAIN_SPLIT], mnd[\"train_y\"][:MN_TRAIN_SPLIT]))\n",
        "print(\"dot test acc: {}\".format(clf_data_acc(clf_dot, mnd, MN_TEST_SPLIT)))"
      ],
      "execution_count": null,
      "outputs": [
        {
          "output_type": "stream",
          "text": [
            "SVC(C=1, break_ties=False, cache_size=200, class_weight=None, coef0=0.0,\n",
            "    decision_function_shape='ovr', degree=3, gamma='scale',\n",
            "    kernel=<function kernel_dot at 0x7f0bcbecad90>, max_iter=-1,\n",
            "    probability=False, random_state=None, shrinking=True, tol=0.001,\n",
            "    verbose=False)\n",
            "dot test acc: 0.799\n"
          ],
          "name": "stdout"
        }
      ]
    },
    {
      "cell_type": "code",
      "metadata": {
        "id": "5yfsYolJ7h9s",
        "colab": {
          "base_uri": "https://localhost:8080/"
        },
        "outputId": "3189f631-acf0-4622-c2ae-16fa3ade1ce8"
      },
      "source": [
        "def kernel_laplacian(A, B):\n",
        "  return sklearn.metrics.pairwise.laplacian_kernel(A, B, 0.01)\n",
        "clf_laplacian = svm.SVC(C=3, kernel=kernel_laplacian)\n",
        "print(clf_laplacian.fit(mnd[\"train_x\"][:MN_TRAIN_SPLIT], mnd[\"train_y\"][:MN_TRAIN_SPLIT]))\n",
        "print(\"laplacian test acc: {}\".format(clf_data_acc(clf_laplacian, mnd, MN_TEST_SPLIT)))"
      ],
      "execution_count": null,
      "outputs": [
        {
          "output_type": "stream",
          "text": [
            "SVC(C=3, break_ties=False, cache_size=200, class_weight=None, coef0=0.0,\n",
            "    decision_function_shape='ovr', degree=3, gamma='scale',\n",
            "    kernel=<function kernel_laplacian at 0x7f0bcb9496a8>, max_iter=-1,\n",
            "    probability=False, random_state=None, shrinking=True, tol=0.001,\n",
            "    verbose=False)\n",
            "laplacian test acc: 0.9085\n"
          ],
          "name": "stdout"
        }
      ]
    },
    {
      "cell_type": "code",
      "metadata": {
        "id": "4WLy7oUp9DOy",
        "colab": {
          "base_uri": "https://localhost:8080/"
        },
        "outputId": "6f30d65f-1f2d-4aa0-c54c-a6c2f950bc7e"
      },
      "source": [
        "%%time\n",
        "clf_cf10_rbf = svm.SVC(C=3, gamma=\"scale\")\n",
        "print(clf_cf10_rbf.fit(cf10d[\"train_x\"][:CF10_TRAIN_SPLIT], cf10d[\"train_y\"][:CF10_TRAIN_SPLIT]))\n",
        "print(\"cf10 rbf test acc: {}\".format(clf_data_acc(clf_cf10_rbf, cf10d, CF10_TEST_SPLIT)))"
      ],
      "execution_count": null,
      "outputs": [
        {
          "output_type": "stream",
          "text": [
            "SVC(C=3, break_ties=False, cache_size=200, class_weight=None, coef0=0.0,\n",
            "    decision_function_shape='ovr', degree=3, gamma='scale', kernel='rbf',\n",
            "    max_iter=-1, probability=False, random_state=None, shrinking=True,\n",
            "    tol=0.001, verbose=False)\n",
            "cf10 rbf test acc: 0.615\n"
          ],
          "name": "stdout"
        }
      ]
    },
    {
      "cell_type": "code",
      "metadata": {
        "id": "50rI6zQ2Etsu",
        "colab": {
          "base_uri": "https://localhost:8080/"
        },
        "outputId": "1daa902a-b319-4a30-8642-00312ce9fce4"
      },
      "source": [
        "%%time\n",
        "def kernel_cf10_laplacian(A, B):\n",
        "  return sklearn.metrics.pairwise.laplacian_kernel(A, B, 0.01)\n",
        "clf_cf10_laplacian = svm.SVC(C=3, kernel=kernel_cf10_laplacian)\n",
        "print(clf_cf10_laplacian.fit(cf10d[\"train_x\"][:CF10_TRAIN_SPLIT], cf10d[\"train_y\"][:CF10_TRAIN_SPLIT]))\n",
        "print(\"cf10 laplacian test acc: {}\".format(clf_data_acc(clf_cf10_laplacian, cf10d, CF10_TRAIN_SPLIT)))"
      ],
      "execution_count": null,
      "outputs": [
        {
          "output_type": "stream",
          "text": [
            "SVC(C=3, break_ties=False, cache_size=200, class_weight=None, coef0=0.0,\n",
            "    decision_function_shape='ovr', degree=3, gamma='scale',\n",
            "    kernel=<function kernel_cf10_laplacian at 0x7f0bc48cc598>, max_iter=-1,\n",
            "    probability=False, random_state=None, shrinking=True, tol=0.001,\n",
            "    verbose=False)\n",
            "cf10 laplacian test acc: 0.599\n",
            "CPU times: user 22 s, sys: 3.51 ms, total: 22 s\n",
            "Wall time: 22 s\n"
          ],
          "name": "stdout"
        }
      ]
    },
    {
      "cell_type": "code",
      "metadata": {
        "id": "lcKarKQwTq3g",
        "colab": {
          "base_uri": "https://localhost:8080/"
        },
        "outputId": "66b79a63-706d-4e64-8d4c-37315312c48e"
      },
      "source": [
        "%%time\n",
        "clf_poly_4 = svm.SVC(C=3, kernel=\"poly\", degree=4)\n",
        "print(clf_poly_4.fit(cf10d[\"train_x\"][:CF10_TRAIN_SPLIT], cf10d[\"train_y\"][:CF10_TRAIN_SPLIT]))\n",
        "print(\"poly_4 test acc: {}\".format(clf_data_acc(clf_poly_4, cf10d, CF10_TRAIN_SPLIT)))"
      ],
      "execution_count": null,
      "outputs": [
        {
          "output_type": "stream",
          "text": [
            "SVC(C=3, break_ties=False, cache_size=200, class_weight=None, coef0=0.0,\n",
            "    decision_function_shape='ovr', degree=4, gamma='scale', kernel='poly',\n",
            "    max_iter=-1, probability=False, random_state=None, shrinking=True,\n",
            "    tol=0.001, verbose=False)\n",
            "poly_4 test acc: 0.583\n",
            "CPU times: user 27.3 s, sys: 0 ns, total: 27.3 s\n",
            "Wall time: 27.3 s\n"
          ],
          "name": "stdout"
        }
      ]
    },
    {
      "cell_type": "code",
      "metadata": {
        "id": "jlxHJpi1T40f",
        "colab": {
          "base_uri": "https://localhost:8080/"
        },
        "outputId": "158dddd8-eae8-4f64-a219-4fc26d72da0a"
      },
      "source": [
        "%%time\n",
        "def kernel_dot(A, B):\n",
        "  return np.dot(A, B.T)\n",
        "clf_dot = svm.SVC(C=0.001, kernel=kernel_dot)\n",
        "print(clf_dot.fit(cf10d[\"train_x\"][:CF10_TRAIN_SPLIT], cf10d[\"train_y\"][:CF10_TRAIN_SPLIT]))\n",
        "print(\"dot test acc: {}\".format(clf_data_acc(clf_dot, cf10d, CF10_TRAIN_SPLIT)))"
      ],
      "execution_count": null,
      "outputs": [
        {
          "output_type": "stream",
          "text": [
            "SVC(C=0.001, break_ties=False, cache_size=200, class_weight=None, coef0=0.0,\n",
            "    decision_function_shape='ovr', degree=3, gamma='scale',\n",
            "    kernel=<function kernel_dot at 0x7f07ee897158>, max_iter=-1,\n",
            "    probability=False, random_state=None, shrinking=True, tol=0.001,\n",
            "    verbose=False)\n",
            "dot test acc: 0.5925\n",
            "CPU times: user 1.82 s, sys: 319 ms, total: 2.14 s\n",
            "Wall time: 569 ms\n"
          ],
          "name": "stdout"
        }
      ]
    },
    {
      "cell_type": "code",
      "metadata": {
        "id": "HSMhf3qPGbeI"
      },
      "source": [
        "_, _, kernel_fn = stax.serial(\n",
        "  stax.Dense(1, W_std=1, b_std=0), stax.Relu(),\n",
        "  stax.Dense(1, W_std=1, b_std=0), stax.Relu(),\n",
        "  stax.Dense(1, W_std=1, b_std=0), stax.Relu(),\n",
        "  stax.Dense(1, W_std=1, b_std=0.1)\n",
        ")"
      ],
      "execution_count": null,
      "outputs": []
    },
    {
      "cell_type": "code",
      "metadata": {
        "id": "zPZlA2QUToO6",
        "colab": {
          "base_uri": "https://localhost:8080/"
        },
        "outputId": "32822550-43b0-47af-ad64-29cc728af4f1"
      },
      "source": [
        "def kfn(A, B):\n",
        "  return kernel_fn(A, B, \"ntk\")\n",
        "clf_ntk = svm.SVC(C=100, kernel=kfn)\n",
        "print(clf_ntk.fit(mnd[\"train_x\"][:MN_TRAIN_SPLIT], mnd[\"train_y\"][:MN_TRAIN_SPLIT]))\n",
        "print(\"ntk test acc: {}\".format(clf_data_acc(clf_ntk, mnd, MN_TEST_SPLIT)))"
      ],
      "execution_count": null,
      "outputs": [
        {
          "output_type": "stream",
          "text": [
            "SVC(C=100, break_ties=False, cache_size=200, class_weight=None, coef0=0.0,\n",
            "    decision_function_shape='ovr', degree=3, gamma='scale',\n",
            "    kernel=<function kfn at 0x7f07ee8ee950>, max_iter=-1, probability=False,\n",
            "    random_state=None, shrinking=True, tol=0.001, verbose=False)\n",
            "ntk test acc: 0.9105\n"
          ],
          "name": "stdout"
        }
      ]
    },
    {
      "cell_type": "code",
      "metadata": {
        "id": "kZ0bl5obHQ3s"
      },
      "source": [
        "#predict_fn = nt.predict.gradient_descent_mse_ensemble(kernel_fn, mnd[\"train_x\"][:MN_TRAIN_SPLIT], \n",
        "  #mnd[\"train_y\"][:MN_TRAIN_SPLIT].reshape((MN_TRAIN_SPLIT,1)))\n",
        "#ntk_mean = predict_fn(x_test=mnd[\"test_x\"][:MN_TEST_SPLIT], get=\"ntk\").flatten()\n",
        "#n_correct_ntk = np.count_nonzero((ntk_mean >= 0.5) == mnd[\"test_y\"][:MN_TEST_SPLIT])\n",
        "#print(\"ntk test error: {}\".format(1 - n_correct_ntk / MN_TEST_SPLIT))"
      ],
      "execution_count": null,
      "outputs": []
    },
    {
      "cell_type": "code",
      "metadata": {
        "id": "lzMZmYavWJoP",
        "colab": {
          "base_uri": "https://localhost:8080/"
        },
        "outputId": "c6b3efa9-7012-468a-bac0-5c194789ac95"
      },
      "source": [
        "def kfn(A, B):\n",
        "  return kernel_fn(A, B, \"ntk\")\n",
        "clf_ntk = svm.SVC(C=100, kernel=kfn)\n",
        "print(clf_ntk.fit(cf10d[\"train_x\"][:CF10_TEST_SPLIT], cf10d[\"train_y\"][:CF10_TEST_SPLIT]))\n",
        "print(\"ntk test acc: {}\".format(clf_data_acc(clf_ntk, cf10d, CF10_TEST_SPLIT)))"
      ],
      "execution_count": null,
      "outputs": [
        {
          "output_type": "stream",
          "text": [
            "SVC(C=100, break_ties=False, cache_size=200, class_weight=None, coef0=0.0,\n",
            "    decision_function_shape='ovr', degree=3, gamma='scale',\n",
            "    kernel=<function kfn at 0x7f0bcb8af378>, max_iter=-1, probability=False,\n",
            "    random_state=None, shrinking=True, tol=0.001, verbose=False)\n",
            "ntk test acc: 0.6065\n"
          ],
          "name": "stdout"
        }
      ]
    },
    {
      "cell_type": "code",
      "metadata": {
        "id": "F6T8k6MWPUIV"
      },
      "source": [
        "_, _, kernel_fn = stax.serial(\n",
        "  stax.Conv(1, (3, 3), W_std=1, b_std=0), stax.Relu(),\n",
        "  stax.Conv(1, (3, 3), W_std=1, b_std=0), stax.Relu(),\n",
        "  stax.Conv(1, (3, 3), W_std=1, b_std=0), stax.Relu(),\n",
        "  stax.Conv(1, (3, 3), W_std=1, b_std=0), stax.Relu(),\n",
        "  stax.Conv(1, (3, 3), W_std=1, b_std=0), stax.Relu(),\n",
        "  # stax.GlobalAvgPool(),\n",
        "  stax.Flatten(),\n",
        "  stax.Dense(1, W_std=1, b_std=1)\n",
        ")"
      ],
      "execution_count": null,
      "outputs": []
    },
    {
      "cell_type": "code",
      "metadata": {
        "id": "rllGu9YVbd8b",
        "colab": {
          "base_uri": "https://localhost:8080/"
        },
        "outputId": "fc8c984e-27aa-44c8-dd00-dc5b381c52dd"
      },
      "source": [
        "%%time\n",
        "def kfn(A, B):\n",
        "  return nt.batch(kernel_fn, batch_size=25)(A.reshape((-1,28,28,1)), B.reshape((-1,28,28,1)), \"ntk\")\n",
        "clf_ntk = svm.SVC(C=1000, kernel=kfn)\n",
        "print(clf_ntk.fit(mnd[\"train_x\"][:MN_TRAIN_SPLIT], mnd[\"train_y\"][:MN_TRAIN_SPLIT]))\n",
        "print(\"ntk test acc: {}\".format(clf_data_acc(clf_ntk, mnd, MN_TEST_SPLIT)))"
      ],
      "execution_count": null,
      "outputs": [
        {
          "output_type": "stream",
          "text": [
            "SVC(C=1000, break_ties=False, cache_size=200, class_weight=None, coef0=0.0,\n",
            "    decision_function_shape='ovr', degree=3, gamma='scale',\n",
            "    kernel=<function kfn at 0x7f07eea0c950>, max_iter=-1, probability=False,\n",
            "    random_state=None, shrinking=True, tol=0.001, verbose=False)\n",
            "ntk test acc: 0.917\n",
            "CPU times: user 10.9 s, sys: 2.22 s, total: 13.2 s\n",
            "Wall time: 8.92 s\n"
          ],
          "name": "stdout"
        }
      ]
    },
    {
      "cell_type": "code",
      "metadata": {
        "id": "UVMrdvf3b1qK",
        "colab": {
          "base_uri": "https://localhost:8080/"
        },
        "outputId": "1dd8f975-4e29-4b21-b02a-46caa164698b"
      },
      "source": [
        "%%time\n",
        "def kfn(A, B):\n",
        "  return nt.batch(kernel_fn, batch_size=100)(A.reshape((-1,32,32,3)), B.reshape((-1,32,32,3)), \"ntk\")\n",
        "clf_ntk = svm.SVC(C=1000, kernel=kfn)\n",
        "print(clf_ntk.fit(cf10d[\"train_x\"][:MN_TRAIN_SPLIT], cf10d[\"train_y\"][:MN_TRAIN_SPLIT]))\n",
        "print(\"ntk test acc: {}\".format(clf_data_acc(clf_ntk, cf10d, MN_TEST_SPLIT)))"
      ],
      "execution_count": null,
      "outputs": [
        {
          "output_type": "stream",
          "text": [
            "SVC(C=1000, break_ties=False, cache_size=200, class_weight=None, coef0=0.0,\n",
            "    decision_function_shape='ovr', degree=3, gamma='scale',\n",
            "    kernel=<function kfn at 0x7f07ee8e0c80>, max_iter=-1, probability=False,\n",
            "    random_state=None, shrinking=True, tol=0.001, verbose=False)\n",
            "ntk test acc: 0.63\n",
            "CPU times: user 1.94 s, sys: 203 ms, total: 2.14 s\n",
            "Wall time: 8.53 s\n"
          ],
          "name": "stdout"
        }
      ]
    }
  ]
}